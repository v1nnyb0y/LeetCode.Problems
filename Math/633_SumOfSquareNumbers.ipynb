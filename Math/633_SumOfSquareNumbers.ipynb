{
  "nbformat": 4,
  "nbformat_minor": 0,
  "metadata": {
    "colab": {
      "name": "633.ipynb",
      "provenance": [],
      "authorship_tag": "ABX9TyOWDf59fSe2TROAgzEMUXVl",
      "include_colab_link": true
    },
    "kernelspec": {
      "name": "python3",
      "display_name": "Python 3"
    },
    "language_info": {
      "name": "python"
    }
  },
  "cells": [
    {
      "cell_type": "markdown",
      "metadata": {
        "id": "view-in-github",
        "colab_type": "text"
      },
      "source": [
        "<a href=\"https://colab.research.google.com/github/v1nnyb0y/leetcode/blob/master/Math/633_SumOfSquareNumbers.ipynb\" target=\"_parent\"><img src=\"https://colab.research.google.com/assets/colab-badge.svg\" alt=\"Open In Colab\"/></a>"
      ]
    },
    {
      "cell_type": "code",
      "execution_count": null,
      "metadata": {
        "id": "uVkGsNDcDEMh"
      },
      "outputs": [],
      "source": [
        "class Solution:\n",
        "    def judgeSquareSum(self, c: int) -> bool:\n",
        "        if c == 0:\n",
        "            return True\n",
        "        for i in range(c):\n",
        "            a = i * i\n",
        "            b = c - a\n",
        "            if b < a:\n",
        "                return False\n",
        "            else:\n",
        "                sq = math.sqrt(b)\n",
        "                if sq == int(sq):\n",
        "                    return True"
      ]
    }
  ]
}