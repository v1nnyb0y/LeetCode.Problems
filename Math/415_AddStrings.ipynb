{
  "nbformat": 4,
  "nbformat_minor": 0,
  "metadata": {
    "colab": {
      "name": "415.ipynb",
      "provenance": [],
      "authorship_tag": "ABX9TyORqTbVyp6U1YeogmhzbWl7",
      "include_colab_link": true
    },
    "kernelspec": {
      "name": "python3",
      "display_name": "Python 3"
    },
    "language_info": {
      "name": "python"
    }
  },
  "cells": [
    {
      "cell_type": "markdown",
      "metadata": {
        "id": "view-in-github",
        "colab_type": "text"
      },
      "source": [
        "<a href=\"https://colab.research.google.com/github/v1nnyb0y/leetcode/blob/master/Math/415_AddStrings.ipynb\" target=\"_parent\"><img src=\"https://colab.research.google.com/assets/colab-badge.svg\" alt=\"Open In Colab\"/></a>"
      ]
    },
    {
      "cell_type": "code",
      "execution_count": null,
      "metadata": {
        "id": "5YRpFLCwdWQK"
      },
      "outputs": [],
      "source": [
        "class Solution:\n",
        "    def addStrings(self, num1: str, num2: str) -> str:\n",
        "        L1, L2, n1, n2 = len(num1), len(num2), [int(i) for i in num1], [int(i) for i in num2]\n",
        "        if L1 < L2: n2, n1 = n1, n2\n",
        "        n1, n2, n3 = [0] + n1, [0]*(abs(L1-L2)+1) + n2, [0]*(len(n1)+1)\n",
        "        for i in range(len(n1)-1,-1,-1):\n",
        "            s = n1[i]+n2[i]\n",
        "            n3[i] = s % 10\n",
        "            if s > 9: n1[i-1] += int(s/10)\n",
        "        if n3[0] == 0: n3 = n3[1:]\n",
        "        return \"\".join([str(i) for i in n3])"
      ]
    }
  ]
}