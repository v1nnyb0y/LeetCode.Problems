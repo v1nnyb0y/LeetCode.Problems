{
  "nbformat": 4,
  "nbformat_minor": 0,
  "metadata": {
    "colab": {
      "provenance": [],
      "authorship_tag": "ABX9TyPI6Gh7rdKmJJmHpqfMru8M",
      "include_colab_link": true
    },
    "kernelspec": {
      "name": "python3",
      "display_name": "Python 3"
    },
    "language_info": {
      "name": "python"
    }
  },
  "cells": [
    {
      "cell_type": "markdown",
      "metadata": {
        "id": "view-in-github",
        "colab_type": "text"
      },
      "source": [
        "<a href=\"https://colab.research.google.com/github/v1nnyb0y/leetcode/blob/master/LinkedListAndTree/237_delete-node-in-a-linked-list.ipynb\" target=\"_parent\"><img src=\"https://colab.research.google.com/assets/colab-badge.svg\" alt=\"Open In Colab\"/></a>"
      ]
    },
    {
      "cell_type": "code",
      "execution_count": null,
      "metadata": {
        "id": "vnTt9cz3V5NP"
      },
      "outputs": [],
      "source": [
        "class Solution:\n",
        "\tdef deleteNode(self, node):\n",
        "\t\t\"\"\"\n",
        "\t\t:type node: ListNode\n",
        "\t\t:rtype: void Do not return anything, modify node in-place instead.\n",
        "\t\t\"\"\"\n",
        "\n",
        "\t\tnode.val = node.next.val\n",
        "\t\tnode.next = node.next.next"
      ]
    }
  ]
}