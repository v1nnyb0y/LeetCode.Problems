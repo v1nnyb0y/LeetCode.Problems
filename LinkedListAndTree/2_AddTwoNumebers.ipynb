{
  "nbformat": 4,
  "nbformat_minor": 0,
  "metadata": {
    "colab": {
      "name": "2.ipynb",
      "provenance": [],
      "authorship_tag": "ABX9TyNpzeHAyInyuZTwg4lV4CqD",
      "include_colab_link": true
    },
    "kernelspec": {
      "name": "python3",
      "display_name": "Python 3"
    },
    "language_info": {
      "name": "python"
    }
  },
  "cells": [
    {
      "cell_type": "markdown",
      "metadata": {
        "id": "view-in-github",
        "colab_type": "text"
      },
      "source": [
        "<a href=\"https://colab.research.google.com/github/v1nnyb0y/leetcode/blob/master/LinkedListAndTree/2_AddTwoNumebers.ipynb\" target=\"_parent\"><img src=\"https://colab.research.google.com/assets/colab-badge.svg\" alt=\"Open In Colab\"/></a>"
      ]
    },
    {
      "cell_type": "code",
      "execution_count": null,
      "metadata": {
        "id": "kZ4xdju-tzRQ"
      },
      "outputs": [],
      "source": [
        "# Definition for singly-linked list.\n",
        "# class ListNode:\n",
        "#     def __init__(self, val=0, next=None):\n",
        "#         self.val = val\n",
        "#         self.next = next\n",
        "class Solution:\n",
        "    def addTwoNumbers(self, l1: Optional[ListNode], l2: Optional[ListNode]) -> Optional[ListNode]:\n",
        "        def sum(l1, l2, node, inc):\n",
        "            if l1 is not None and l2 is not None:\n",
        "                value = l1.val + l2.val + inc\n",
        "                if value < 10:\n",
        "                    node.next = ListNode(value, None)\n",
        "                    node = node.next\n",
        "                    sum(l1.next, l2.next, node, 0)\n",
        "                else:\n",
        "                    q, r = divmod(value, 10)\n",
        "                    node.next = ListNode(r, None)\n",
        "                    node = node.next\n",
        "                    sum(l1.next, l2.next, node, q)\n",
        "                return\n",
        "            \n",
        "            if l1 is None and l2 is not None:\n",
        "                value = l2.val + inc\n",
        "                if value < 10:\n",
        "                    node.next = ListNode(value, None)\n",
        "                    node = node.next\n",
        "                    sum(l1, l2.next, node, 0)\n",
        "                else:\n",
        "                    q, r = divmod(value, 10)\n",
        "                    node.next = ListNode(r, None)\n",
        "                    node = node.next\n",
        "                    sum(l1, l2.next, node, q)\n",
        "                return\n",
        "            \n",
        "            if l1 is not None and l2 is None:\n",
        "                value = l1.val + inc\n",
        "                if value < 10:\n",
        "                    node.next = ListNode(value, None)\n",
        "                    node = node.next\n",
        "                    sum(l1.next, l2, node, 0)\n",
        "                else:\n",
        "                    q, r = divmod(value, 10)\n",
        "                    node.next = ListNode(r, None)\n",
        "                    node = node.next\n",
        "                    sum(l1.next, l2, node, q)\n",
        "                return\n",
        "            \n",
        "            if l1 is None and l2 is None and inc != 0:\n",
        "                value = inc\n",
        "                node.next = ListNode(inc, None)\n",
        "                node = node.next\n",
        "                return\n",
        "            \n",
        "            return \n",
        "                \n",
        "                \n",
        "            \n",
        "            \n",
        "        head = node = ListNode(0, None)\n",
        "        sum(l1, l2, node, 0)\n",
        "        return head.next"
      ]
    }
  ]
}