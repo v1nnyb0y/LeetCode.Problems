{
  "nbformat": 4,
  "nbformat_minor": 0,
  "metadata": {
    "colab": {
      "name": "160.ipynb",
      "provenance": [],
      "authorship_tag": "ABX9TyP44m6AcUchaRrGHIjDGmhs",
      "include_colab_link": true
    },
    "kernelspec": {
      "name": "python3",
      "display_name": "Python 3"
    },
    "language_info": {
      "name": "python"
    }
  },
  "cells": [
    {
      "cell_type": "markdown",
      "metadata": {
        "id": "view-in-github",
        "colab_type": "text"
      },
      "source": [
        "<a href=\"https://colab.research.google.com/github/v1nnyb0y/leetcode/blob/master/LinkedListAndTree/160_IntersectionOfTwoLinkedLists.ipynb\" target=\"_parent\"><img src=\"https://colab.research.google.com/assets/colab-badge.svg\" alt=\"Open In Colab\"/></a>"
      ]
    },
    {
      "cell_type": "code",
      "execution_count": null,
      "metadata": {
        "id": "v2Eyv1Nn4tW4"
      },
      "outputs": [],
      "source": [
        "class Solution(object):\n",
        "    def getIntersectionNode(self, headA, headB):\n",
        "        \"\"\"\n",
        "        :type head1, head1: ListNode\n",
        "        :rtype: ListNode\n",
        "        \"\"\"\n",
        "        posA = headA\n",
        "        posB = headB\n",
        "\n",
        "        lenA = self.getLen(headA)\n",
        "        lenB = self.getLen(headB)\n",
        "\n",
        "        if (lenA - lenB > 0):\n",
        "            i = 0\n",
        "            while( i < lenA - lenB):\n",
        "                posA = posA.next\n",
        "                i += 1                \n",
        "        elif (lenB - lenA > 0): \n",
        "            i = 0\n",
        "            while( i < lenB - lenA):\n",
        "                posB = posB.next\n",
        "                i += 1 \n",
        "        \n",
        "        while(posA != posB):\n",
        "            posA = posA.next\n",
        "            posB = posB.next\n",
        "        return posA\n",
        "    def getLen(self,headA):\n",
        "        if (headA == None):\n",
        "            return 0\n",
        "        len = 0\n",
        "        while (headA) :\n",
        "            len += 1\n",
        "            headA = headA.next\n",
        "        return len"
      ]
    }
  ]
}