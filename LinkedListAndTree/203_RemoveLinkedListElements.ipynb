{
  "nbformat": 4,
  "nbformat_minor": 0,
  "metadata": {
    "colab": {
      "name": "203.ipynb",
      "provenance": [],
      "authorship_tag": "ABX9TyOTvDo+wx3unzNPWBzmt7t5",
      "include_colab_link": true
    },
    "kernelspec": {
      "name": "python3",
      "display_name": "Python 3"
    },
    "language_info": {
      "name": "python"
    }
  },
  "cells": [
    {
      "cell_type": "markdown",
      "metadata": {
        "id": "view-in-github",
        "colab_type": "text"
      },
      "source": [
        "<a href=\"https://colab.research.google.com/github/v1nnyb0y/leetcode/blob/master/LinkedListAndTree/203_RemoveLinkedListElements.ipynb\" target=\"_parent\"><img src=\"https://colab.research.google.com/assets/colab-badge.svg\" alt=\"Open In Colab\"/></a>"
      ]
    },
    {
      "cell_type": "code",
      "execution_count": null,
      "metadata": {
        "id": "ADNFB-ZxAhTN"
      },
      "outputs": [],
      "source": [
        "# Definition for singly-linked list.\n",
        "# class ListNode:\n",
        "#     def __init__(self, val=0, next=None):\n",
        "#         self.val = val\n",
        "#         self.next = next\n",
        "class Solution:\n",
        "    def removeElements(self, head: Optional[ListNode], val: int) -> Optional[ListNode]:\n",
        "        newHead = newList = ListNode(0, None)\n",
        "        while head is not None:\n",
        "            if head.val != val:\n",
        "                newList.next = ListNode(head.val, None)\n",
        "                newList = newList.next\n",
        "            head = head.next\n",
        "        \n",
        "        return newHead.next\n",
        "                "
      ]
    }
  ]
}