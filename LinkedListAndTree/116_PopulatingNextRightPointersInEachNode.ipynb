{
  "nbformat": 4,
  "nbformat_minor": 0,
  "metadata": {
    "colab": {
      "name": "116.ipynb",
      "provenance": [],
      "authorship_tag": "ABX9TyMNdb1PKxb/BzvrwSHXlsJD",
      "include_colab_link": true
    },
    "kernelspec": {
      "name": "python3",
      "display_name": "Python 3"
    },
    "language_info": {
      "name": "python"
    }
  },
  "cells": [
    {
      "cell_type": "markdown",
      "metadata": {
        "id": "view-in-github",
        "colab_type": "text"
      },
      "source": [
        "<a href=\"https://colab.research.google.com/github/v1nnyb0y/leetcode/blob/master/LinkedListAndTree/116_PopulatingNextRightPointersInEachNode.ipynb\" target=\"_parent\"><img src=\"https://colab.research.google.com/assets/colab-badge.svg\" alt=\"Open In Colab\"/></a>"
      ]
    },
    {
      "cell_type": "code",
      "execution_count": null,
      "metadata": {
        "id": "LNdFGs9BO3ie"
      },
      "outputs": [],
      "source": [
        "\"\"\"\n",
        "# Definition for a Node.\n",
        "class Node:\n",
        "    def __init__(self, val: int = 0, left: 'Node' = None, right: 'Node' = None, next: 'Node' = None):\n",
        "        self.val = val\n",
        "        self.left = left\n",
        "        self.right = right\n",
        "        self.next = next\n",
        "\"\"\"\n",
        "\n",
        "class Solution:\n",
        "    def connect(self, root):\n",
        "        if root != None:\n",
        "            level = [root]\n",
        "            while len(level)>0:\n",
        "                i = 0\n",
        "                while i<len(level)-1:\n",
        "                    level[i].next = level[i+1]\n",
        "                    i += 1\n",
        "                childNodes = []\n",
        "                for node in level:\n",
        "                    childNodes.extend([node.left, node.right])\n",
        "                level = [node for node in childNodes if node != None]\n",
        "        return root\n",
        "        "
      ]
    }
  ]
}