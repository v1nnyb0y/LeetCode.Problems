{
  "nbformat": 4,
  "nbformat_minor": 0,
  "metadata": {
    "colab": {
      "name": "1367.ipynb",
      "provenance": [],
      "authorship_tag": "ABX9TyPVpzt5YTnsHaQJGLCjz206",
      "include_colab_link": true
    },
    "kernelspec": {
      "name": "python3",
      "display_name": "Python 3"
    },
    "language_info": {
      "name": "python"
    }
  },
  "cells": [
    {
      "cell_type": "markdown",
      "metadata": {
        "id": "view-in-github",
        "colab_type": "text"
      },
      "source": [
        "<a href=\"https://colab.research.google.com/github/v1nnyb0y/leetcode/blob/master/LinkedListAndTree/1367_LinkedListInBinaryTree.ipynb\" target=\"_parent\"><img src=\"https://colab.research.google.com/assets/colab-badge.svg\" alt=\"Open In Colab\"/></a>"
      ]
    },
    {
      "cell_type": "code",
      "execution_count": null,
      "metadata": {
        "id": "n5R9UhP4bcyW"
      },
      "outputs": [],
      "source": [
        "# Definition for singly-linked list.\n",
        "# class ListNode:\n",
        "#     def __init__(self, val=0, next=None):\n",
        "#         self.val = val\n",
        "#         self.next = next\n",
        "# Definition for a binary tree node.\n",
        "# class TreeNode:\n",
        "#     def __init__(self, val=0, left=None, right=None):\n",
        "#         self.val = val\n",
        "#         self.left = left\n",
        "#         self.right = right\n",
        "class Solution:\n",
        "    def isSubPath(self, head: Optional[ListNode], root: Optional[TreeNode]) -> bool:\n",
        "        def dfs(head, root):\n",
        "            if not head:\n",
        "                return True\n",
        "            if not root:\n",
        "                return False\n",
        "            \n",
        "            if head.val != root.val:\n",
        "                return False\n",
        "            \n",
        "            return dfs(head.next, root.left) or dfs(head.next, root.right)\n",
        "        \n",
        "        if head is None:\n",
        "            return True\n",
        "        \n",
        "        if root is None:\n",
        "            return False\n",
        "        \n",
        "        if head.val == root.val:\n",
        "            if dfs(head.next, root.left) or dfs(head.next, root.right):\n",
        "                return True\n",
        "\n",
        "        return self.isSubPath(head, root.right) or self.isSubPath(head, root.left)"
      ]
    }
  ]
}