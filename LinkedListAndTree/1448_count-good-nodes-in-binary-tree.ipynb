{
  "nbformat": 4,
  "nbformat_minor": 0,
  "metadata": {
    "colab": {
      "provenance": [],
      "authorship_tag": "ABX9TyOaNfd1qYfnEI8a2hBxHwvv",
      "include_colab_link": true
    },
    "kernelspec": {
      "name": "python3",
      "display_name": "Python 3"
    },
    "language_info": {
      "name": "python"
    }
  },
  "cells": [
    {
      "cell_type": "markdown",
      "metadata": {
        "id": "view-in-github",
        "colab_type": "text"
      },
      "source": [
        "<a href=\"https://colab.research.google.com/github/v1nnyb0y/leetcode/blob/master/LinkedListAndTree/1448_count-good-nodes-in-binary-tree.ipynb\" target=\"_parent\"><img src=\"https://colab.research.google.com/assets/colab-badge.svg\" alt=\"Open In Colab\"/></a>"
      ]
    },
    {
      "cell_type": "code",
      "execution_count": null,
      "metadata": {
        "id": "m6LMGV1a4IMw"
      },
      "outputs": [],
      "source": [
        "class Solution:\n",
        "    def goodNodes(self, root: TreeNode) -> int:\n",
        "        self.res = 0\n",
        "        def dfs(root, max_val):\n",
        "            if root is None:\n",
        "                return 0\n",
        "            \n",
        "            if root.val >= max_val:\n",
        "                self.res += 1\n",
        "                max_val = root.val\n",
        "            \n",
        "            dfs(root.left, max_val)\n",
        "            dfs(root.right, max_val)\n",
        "        \n",
        "        dfs(root, float(\"-inf\"))\n",
        "        return self.res"
      ]
    }
  ]
}