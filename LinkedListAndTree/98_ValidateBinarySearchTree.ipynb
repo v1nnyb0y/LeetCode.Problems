{
  "nbformat": 4,
  "nbformat_minor": 0,
  "metadata": {
    "colab": {
      "name": "98.ipynb",
      "provenance": [],
      "authorship_tag": "ABX9TyPHWt7x5toM15QOhr2CPbma",
      "include_colab_link": true
    },
    "kernelspec": {
      "name": "python3",
      "display_name": "Python 3"
    },
    "language_info": {
      "name": "python"
    }
  },
  "cells": [
    {
      "cell_type": "markdown",
      "metadata": {
        "id": "view-in-github",
        "colab_type": "text"
      },
      "source": [
        "<a href=\"https://colab.research.google.com/github/v1nnyb0y/leetcode/blob/master/LinkedListAndTree/98_ValidateBinarySearchTree.ipynb\" target=\"_parent\"><img src=\"https://colab.research.google.com/assets/colab-badge.svg\" alt=\"Open In Colab\"/></a>"
      ]
    },
    {
      "cell_type": "code",
      "execution_count": null,
      "metadata": {
        "id": "btaSa1jUL68b"
      },
      "outputs": [],
      "source": [
        "# Definition for a binary tree node.\n",
        "# class TreeNode:\n",
        "#     def __init__(self, val=0, left=None, right=None):\n",
        "#         self.val = val\n",
        "#         self.left = left\n",
        "#         self.right = right\n",
        "class Solution:\n",
        "    def minElem(self, root):\n",
        "        if not root:\n",
        "            return float('inf')\n",
        "        \n",
        "        if not root.left and not root.right:\n",
        "            return root.val\n",
        "        \n",
        "        return min(root.val, self.minElem(root.left), self.minElem(root.right))\n",
        "    \n",
        "    def maxElem(self, root):\n",
        "        if not root:\n",
        "            return float('-inf')\n",
        "        \n",
        "        if not root.left and not root.right:\n",
        "            return root.val\n",
        "        \n",
        "        return max(root.val, self.maxElem(root.left), self.maxElem(root.right))\n",
        "    \n",
        "    def isValidBST(self, root):\n",
        "        \"\"\"\n",
        "        :type root: TreeNode\n",
        "        :rtype: bool\n",
        "        \"\"\"\n",
        "        if not root or not(root.left or root.right):\n",
        "            return True\n",
        "        validRoot = root.val > self.maxElem(root.left) and root.val < self.minElem(root.right)\n",
        "        validLeft = self.isValidBST(root.left)\n",
        "        validRight = self.isValidBST(root.right)\n",
        "        return validRoot and validLeft and validRight"
      ]
    }
  ]
}