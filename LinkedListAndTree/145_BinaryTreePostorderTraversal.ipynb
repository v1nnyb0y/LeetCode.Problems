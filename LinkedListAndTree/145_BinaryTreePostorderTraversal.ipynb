{
  "nbformat": 4,
  "nbformat_minor": 0,
  "metadata": {
    "colab": {
      "name": "145.ipynb",
      "provenance": [],
      "authorship_tag": "ABX9TyPfBwZyPXUOAo+UgFWPVUlV",
      "include_colab_link": true
    },
    "kernelspec": {
      "name": "python3",
      "display_name": "Python 3"
    },
    "language_info": {
      "name": "python"
    }
  },
  "cells": [
    {
      "cell_type": "markdown",
      "metadata": {
        "id": "view-in-github",
        "colab_type": "text"
      },
      "source": [
        "<a href=\"https://colab.research.google.com/github/v1nnyb0y/leetcode/blob/master/LinkedListAndTree/145_BinaryTreePostorderTraversal.ipynb\" target=\"_parent\"><img src=\"https://colab.research.google.com/assets/colab-badge.svg\" alt=\"Open In Colab\"/></a>"
      ]
    },
    {
      "cell_type": "code",
      "execution_count": null,
      "metadata": {
        "id": "J5EAhEMBDjpj"
      },
      "outputs": [],
      "source": [
        "# Definition for a binary tree node.\n",
        "# class TreeNode:\n",
        "#     def __init__(self, val=0, left=None, right=None):\n",
        "#         self.val = val\n",
        "#         self.left = left\n",
        "#         self.right = right\n",
        "class Solution:\n",
        "    def postorderTraversal(self, root: Optional[TreeNode]) -> List[int]:\n",
        "        if root is None:\n",
        "            return []\n",
        "        if root.left is None and root.right is None:\n",
        "            return [root.val]\n",
        "        \n",
        "        stack, ret_val = list(), deque()\n",
        "        stack.append(root)\n",
        "        \n",
        "        while stack:\n",
        "            node = stack.pop()\n",
        "            \n",
        "            ret_val.appendleft(node.val)\n",
        "            \n",
        "            if node.left:\n",
        "                stack.append(node.left)\n",
        "            \n",
        "            if node.right:\n",
        "                stack.append(node.right)\n",
        "        \n",
        "        return ret_val\n",
        "    \n",
        "        "
      ]
    }
  ]
}