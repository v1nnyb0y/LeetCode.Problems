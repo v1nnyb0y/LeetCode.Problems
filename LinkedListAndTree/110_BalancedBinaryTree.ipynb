{
  "nbformat": 4,
  "nbformat_minor": 0,
  "metadata": {
    "colab": {
      "name": "110.ipynb",
      "provenance": [],
      "collapsed_sections": [],
      "authorship_tag": "ABX9TyOHISJUFakVHWCiqRvmFYaA",
      "include_colab_link": true
    },
    "kernelspec": {
      "name": "python3",
      "display_name": "Python 3"
    },
    "language_info": {
      "name": "python"
    }
  },
  "cells": [
    {
      "cell_type": "markdown",
      "metadata": {
        "id": "view-in-github",
        "colab_type": "text"
      },
      "source": [
        "<a href=\"https://colab.research.google.com/github/v1nnyb0y/leetcode/blob/master/LinkedListAndTree/110_BalancedBinaryTree.ipynb\" target=\"_parent\"><img src=\"https://colab.research.google.com/assets/colab-badge.svg\" alt=\"Open In Colab\"/></a>"
      ]
    },
    {
      "cell_type": "code",
      "execution_count": null,
      "metadata": {
        "id": "szN8PAon3EiR"
      },
      "outputs": [],
      "source": [
        "# Definition for a binary tree node.\n",
        "# class TreeNode:\n",
        "#     def __init__(self, val=0, left=None, right=None):\n",
        "#         self.val = val\n",
        "#         self.left = left\n",
        "#         self.right = right\n",
        "class Solution:\n",
        "    def isBalanced(self, root):\n",
        "        return self.checkBalanced(root)[0]\n",
        "    \n",
        "    def checkBalanced(self, root):\n",
        "        if root==None:\n",
        "            return True, 0 # (balanced flag, height of this node)\n",
        "        else:\n",
        "            leftNode = self.checkBalanced(root.left)\n",
        "            rightNode = self.checkBalanced(root.right)\n",
        "            if leftNode[0] and rightNode[0] and abs(leftNode[1]-rightNode[1])<=1:\n",
        "                return True, max(leftNode[1], rightNode[1])+1\n",
        "            else:\n",
        "                return False, max(leftNode[1], rightNode[1])+1"
      ]
    }
  ]
}