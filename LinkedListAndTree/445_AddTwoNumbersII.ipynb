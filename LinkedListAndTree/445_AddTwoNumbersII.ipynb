{
  "nbformat": 4,
  "nbformat_minor": 0,
  "metadata": {
    "colab": {
      "name": "445.ipynb",
      "provenance": [],
      "authorship_tag": "ABX9TyNBmBICWPrYOm2CHAoYx+vl",
      "include_colab_link": true
    },
    "kernelspec": {
      "name": "python3",
      "display_name": "Python 3"
    },
    "language_info": {
      "name": "python"
    }
  },
  "cells": [
    {
      "cell_type": "markdown",
      "metadata": {
        "id": "view-in-github",
        "colab_type": "text"
      },
      "source": [
        "<a href=\"https://colab.research.google.com/github/v1nnyb0y/leetcode/blob/master/LinkedListAndTree/445_AddTwoNumbersII.ipynb\" target=\"_parent\"><img src=\"https://colab.research.google.com/assets/colab-badge.svg\" alt=\"Open In Colab\"/></a>"
      ]
    },
    {
      "cell_type": "code",
      "execution_count": null,
      "metadata": {
        "id": "hHUmA7JawfgN"
      },
      "outputs": [],
      "source": [
        "class Solution:\n",
        "    def addTwoNumbers(self, l1: ListNode, l2: ListNode) -> ListNode:\n",
        "        def toint(node, prev):\n",
        "            return toint(node.next, prev * 10 + node.val) if node else prev\n",
        "        def tolist(n, prev:ListNode):\n",
        "            node = ListNode(n) if n < 9 else ListNode(n % 10)\n",
        "            node.next = prev\n",
        "            return tolist(n // 10, node) if n > 9 else node\n",
        "        return tolist(toint(l1, 0) + toint(l2, 0), None)"
      ]
    }
  ]
}