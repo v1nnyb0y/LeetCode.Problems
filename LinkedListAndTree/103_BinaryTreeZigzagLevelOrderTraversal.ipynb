{
  "nbformat": 4,
  "nbformat_minor": 0,
  "metadata": {
    "colab": {
      "name": "103.ipynb",
      "provenance": [],
      "authorship_tag": "ABX9TyPMlvKTLcWCMwlB+Wc7DA4F",
      "include_colab_link": true
    },
    "kernelspec": {
      "name": "python3",
      "display_name": "Python 3"
    },
    "language_info": {
      "name": "python"
    }
  },
  "cells": [
    {
      "cell_type": "markdown",
      "metadata": {
        "id": "view-in-github",
        "colab_type": "text"
      },
      "source": [
        "<a href=\"https://colab.research.google.com/github/v1nnyb0y/leetcode/blob/master/LinkedListAndTree/103_BinaryTreeZigzagLevelOrderTraversal.ipynb\" target=\"_parent\"><img src=\"https://colab.research.google.com/assets/colab-badge.svg\" alt=\"Open In Colab\"/></a>"
      ]
    },
    {
      "cell_type": "code",
      "execution_count": null,
      "metadata": {
        "id": "4FjOCUeuITPb"
      },
      "outputs": [],
      "source": [
        "# Definition for a binary tree node.\n",
        "# class TreeNode:\n",
        "#     def __init__(self, val=0, left=None, right=None):\n",
        "#         self.val = val\n",
        "#         self.left = left\n",
        "#         self.right = right\n",
        "class Solution:\n",
        "    def zigzagLevelOrder(self, root):\n",
        "        vals, q = [], [(root, 0)]\n",
        "        for node, d in q:\n",
        "            if node:\n",
        "                if len(vals) <= d: vals.append([])\n",
        "                q += [(node.left, d+1), (node.right, d+1)]\n",
        "                vals[d] = [node.val] + vals[d] if d & 1 else vals[d] + [node.val]\n",
        "        return vals\n",
        "\n"
      ]
    }
  ]
}