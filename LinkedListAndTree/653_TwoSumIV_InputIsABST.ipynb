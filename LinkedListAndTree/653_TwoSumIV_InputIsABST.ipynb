{
  "nbformat": 4,
  "nbformat_minor": 0,
  "metadata": {
    "colab": {
      "name": "653.ipynb",
      "provenance": [],
      "authorship_tag": "ABX9TyOUxAMsGtMj/jDA6dVwgscB",
      "include_colab_link": true
    },
    "kernelspec": {
      "name": "python3",
      "display_name": "Python 3"
    },
    "language_info": {
      "name": "python"
    }
  },
  "cells": [
    {
      "cell_type": "markdown",
      "metadata": {
        "id": "view-in-github",
        "colab_type": "text"
      },
      "source": [
        "<a href=\"https://colab.research.google.com/github/v1nnyb0y/leetcode/blob/master/LinkedListAndTree/653_TwoSumIV_InputIsABST.ipynb\" target=\"_parent\"><img src=\"https://colab.research.google.com/assets/colab-badge.svg\" alt=\"Open In Colab\"/></a>"
      ]
    },
    {
      "cell_type": "code",
      "execution_count": null,
      "metadata": {
        "id": "m0e1_VqdOci_"
      },
      "outputs": [],
      "source": [
        "# Definition for a binary tree node.\n",
        "# class TreeNode:\n",
        "#     def __init__(self, val=0, left=None, right=None):\n",
        "#         self.val = val\n",
        "#         self.left = left\n",
        "#         self.right = right\n",
        "class Solution:\n",
        "    def findTarget(self, root, k):\n",
        "        nums = []\n",
        "        self.inorder(root, nums)\n",
        "        for i in range(len(nums)):\n",
        "            if k-nums[i] in nums[i+1:]:\n",
        "                return True\n",
        "        return False\n",
        "\n",
        "    def inorder(self, node, nums):\n",
        "        if node!=None:\n",
        "            self.inorder(node.left, nums)\n",
        "            nums.append(node.val)\n",
        "            self.inorder(node.right, nums)\n",
        "        "
      ]
    }
  ]
}