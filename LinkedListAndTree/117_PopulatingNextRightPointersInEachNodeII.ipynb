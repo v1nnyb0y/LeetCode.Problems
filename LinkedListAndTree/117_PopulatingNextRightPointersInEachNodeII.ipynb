{
  "nbformat": 4,
  "nbformat_minor": 0,
  "metadata": {
    "colab": {
      "name": "117.ipynb",
      "provenance": [],
      "authorship_tag": "ABX9TyNth6urA1gMw6ZQCn83UTcz",
      "include_colab_link": true
    },
    "kernelspec": {
      "name": "python3",
      "display_name": "Python 3"
    },
    "language_info": {
      "name": "python"
    }
  },
  "cells": [
    {
      "cell_type": "markdown",
      "metadata": {
        "id": "view-in-github",
        "colab_type": "text"
      },
      "source": [
        "<a href=\"https://colab.research.google.com/github/v1nnyb0y/leetcode/blob/master/LinkedListAndTree/117_PopulatingNextRightPointersInEachNodeII.ipynb\" target=\"_parent\"><img src=\"https://colab.research.google.com/assets/colab-badge.svg\" alt=\"Open In Colab\"/></a>"
      ]
    },
    {
      "cell_type": "code",
      "execution_count": null,
      "metadata": {
        "id": "BgJre0SVhJx-"
      },
      "outputs": [],
      "source": [
        "class Solution:\n",
        "    def connect(self, root):\n",
        "        if not root:\n",
        "            return root\n",
        "\n",
        "        dummy = Node(0)\n",
        "        curr = root\n",
        "        while curr:\n",
        "            dummy.next = None\n",
        "            tmp = dummy\n",
        "            while curr:\n",
        "                if curr.left:\n",
        "                    tmp.next = curr.left\n",
        "                    tmp = tmp.next\n",
        "                if curr.right:\n",
        "                    tmp.next = curr.right\n",
        "                    tmp = tmp.next\n",
        "                curr = curr.next\n",
        "            curr = dummy.next\n",
        "\n",
        "        return root"
      ]
    }
  ]
}