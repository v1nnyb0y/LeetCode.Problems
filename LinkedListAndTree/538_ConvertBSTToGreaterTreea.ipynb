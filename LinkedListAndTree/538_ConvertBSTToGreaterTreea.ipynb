{
  "nbformat": 4,
  "nbformat_minor": 0,
  "metadata": {
    "colab": {
      "name": "538.ipynb",
      "provenance": [],
      "authorship_tag": "ABX9TyPi1UXcAZ6xqM6TVSLkgK4S",
      "include_colab_link": true
    },
    "kernelspec": {
      "name": "python3",
      "display_name": "Python 3"
    },
    "language_info": {
      "name": "python"
    }
  },
  "cells": [
    {
      "cell_type": "markdown",
      "metadata": {
        "id": "view-in-github",
        "colab_type": "text"
      },
      "source": [
        "<a href=\"https://colab.research.google.com/github/v1nnyb0y/leetcode/blob/master/LinkedListAndTree/538_ConvertBSTToGreaterTreea.ipynb\" target=\"_parent\"><img src=\"https://colab.research.google.com/assets/colab-badge.svg\" alt=\"Open In Colab\"/></a>"
      ]
    },
    {
      "cell_type": "code",
      "execution_count": null,
      "metadata": {
        "id": "yoVa6BVqeSox"
      },
      "outputs": [],
      "source": [
        "# Definition for a binary tree node.\n",
        "# class TreeNode:\n",
        "#     def __init__(self, val=0, left=None, right=None):\n",
        "#         self.val = val\n",
        "#         self.left = left\n",
        "#         self.right = right\n",
        "class Solution:\n",
        "    def convertBST(self, root: Optional[TreeNode]) -> Optional[TreeNode]:\n",
        "        def get_successor(node):\n",
        "            succ = node.right\n",
        "            while succ.left is not None and succ.left is not node:\n",
        "                succ = succ.left\n",
        "            return succ\n",
        "                \n",
        "        total = 0\n",
        "        node = root\n",
        "        while node is not None:\n",
        "            if node.right is None:\n",
        "                total += node.val\n",
        "                node.val = total\n",
        "                node = node.left\n",
        "            else:\n",
        "                succ = get_successor(node)\n",
        "                if succ.left is None:\n",
        "                    succ.left = node\n",
        "                    node = node.right\n",
        "                else:\n",
        "                    succ.left = None\n",
        "                    total += node.val\n",
        "                    node.val = total\n",
        "                    node = node.left\n",
        "        \n",
        "        return root"
      ]
    }
  ]
}