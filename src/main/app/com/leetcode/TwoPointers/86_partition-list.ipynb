{
  "nbformat": 4,
  "nbformat_minor": 0,
  "metadata": {
    "colab": {
      "name": "86.ipynb",
      "provenance": [],
      "authorship_tag": "ABX9TyPsOah4XCrHJeet3gYT/BBH",
      "include_colab_link": true
    },
    "kernelspec": {
      "name": "python3",
      "display_name": "Python 3"
    },
    "language_info": {
      "name": "python"
    }
  },
  "cells": [
    {
      "cell_type": "markdown",
      "metadata": {
        "id": "view-in-github",
        "colab_type": "text"
      },
      "source": [
        "<a href=\"https://colab.research.google.com/github/v1nnyb0y/leetcode/blob/master/TwoPointers/86_partition-list.ipynb\" target=\"_parent\"><img src=\"https://colab.research.google.com/assets/colab-badge.svg\" alt=\"Open In Colab\"/></a>"
      ]
    },
    {
      "cell_type": "code",
      "execution_count": null,
      "metadata": {
        "id": "60dF-LbjXauX"
      },
      "outputs": [],
      "source": [
        "class Solution:\n",
        "    def partition(self, head: Optional[ListNode], x: int) -> Optional[ListNode]:\n",
        "        bh = bt = ListNode()\n",
        "        ah = at = ListNode()\n",
        "        \n",
        "        node = head\n",
        "        while node:\n",
        "            if node.val < x:\n",
        "                bt.next = node\n",
        "                bt = node\n",
        "            else:\n",
        "                at.next = node\n",
        "                at = node\n",
        "                \n",
        "            node = node.next                \n",
        "                \n",
        "        at.next = None\n",
        "        bt.next = ah.next\n",
        "        \n",
        "        return bh.next"
      ]
    }
  ]
}