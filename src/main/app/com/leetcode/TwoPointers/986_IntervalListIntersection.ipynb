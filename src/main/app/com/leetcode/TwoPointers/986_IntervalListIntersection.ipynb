{
  "nbformat": 4,
  "nbformat_minor": 0,
  "metadata": {
    "colab": {
      "name": "986.ipynb",
      "provenance": [],
      "authorship_tag": "ABX9TyO8Ga3w8h5NjIgAR+Ws6jiD",
      "include_colab_link": true
    },
    "kernelspec": {
      "name": "python3",
      "display_name": "Python 3"
    },
    "language_info": {
      "name": "python"
    }
  },
  "cells": [
    {
      "cell_type": "markdown",
      "metadata": {
        "id": "view-in-github",
        "colab_type": "text"
      },
      "source": [
        "<a href=\"https://colab.research.google.com/github/v1nnyb0y/leetcode/blob/master/TwoPointers/986_IntervalListIntersection.ipynb\" target=\"_parent\"><img src=\"https://colab.research.google.com/assets/colab-badge.svg\" alt=\"Open In Colab\"/></a>"
      ]
    },
    {
      "cell_type": "code",
      "execution_count": null,
      "metadata": {
        "id": "9VTimHNU-4v_"
      },
      "outputs": [],
      "source": [
        "class Solution:\n",
        "    def intervalIntersection(self, A: List[List[int]], B: List[List[int]]) -> List[List[int]]:\n",
        "        ans = []\n",
        "        i = j = 0\n",
        "\n",
        "        while i < len(A) and j < len(B):\n",
        "            # Let's check if A[i] intersects B[j].\n",
        "            # lo - the startpoint of the intersection\n",
        "            # hi - the endpoint of the intersection\n",
        "            lo = max(A[i][0], B[j][0])\n",
        "            hi = min(A[i][1], B[j][1])\n",
        "            if lo <= hi:\n",
        "                ans.append([lo, hi])\n",
        "\n",
        "            # Remove the interval with the smallest endpoint\n",
        "            if A[i][1] < B[j][1]:\n",
        "                i += 1\n",
        "            else:\n",
        "                j += 1\n",
        "\n",
        "        return ans"
      ]
    }
  ]
}