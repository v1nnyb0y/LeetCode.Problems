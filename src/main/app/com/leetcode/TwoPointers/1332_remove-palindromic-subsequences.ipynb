{
  "nbformat": 4,
  "nbformat_minor": 0,
  "metadata": {
    "colab": {
      "name": "1332.ipynb",
      "provenance": [],
      "authorship_tag": "ABX9TyOL8CvQIOzQx6G3jPkE2yS2",
      "include_colab_link": true
    },
    "kernelspec": {
      "name": "python3",
      "display_name": "Python 3"
    },
    "language_info": {
      "name": "python"
    }
  },
  "cells": [
    {
      "cell_type": "markdown",
      "metadata": {
        "id": "view-in-github",
        "colab_type": "text"
      },
      "source": [
        "<a href=\"https://colab.research.google.com/github/v1nnyb0y/leetcode/blob/master/TwoPointers/1332_remove-palindromic-subsequences.ipynb\" target=\"_parent\"><img src=\"https://colab.research.google.com/assets/colab-badge.svg\" alt=\"Open In Colab\"/></a>"
      ]
    },
    {
      "cell_type": "code",
      "execution_count": null,
      "metadata": {
        "id": "oZxstngjPDnr"
      },
      "outputs": [],
      "source": [
        "class Solution:\n",
        "    def removePalindromeSub(self, s: str) -> int:\n",
        "        return 1 if s == s[::-1] else 2"
      ]
    }
  ]
}