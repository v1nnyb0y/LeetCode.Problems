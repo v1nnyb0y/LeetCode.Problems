{
  "nbformat": 4,
  "nbformat_minor": 0,
  "metadata": {
    "colab": {
      "name": "1679.ipynb",
      "provenance": [],
      "authorship_tag": "ABX9TyNZMDzhIifbrpzAC2CM7ZEB",
      "include_colab_link": true
    },
    "kernelspec": {
      "name": "python3",
      "display_name": "Python 3"
    },
    "language_info": {
      "name": "python"
    }
  },
  "cells": [
    {
      "cell_type": "markdown",
      "metadata": {
        "id": "view-in-github",
        "colab_type": "text"
      },
      "source": [
        "<a href=\"https://colab.research.google.com/github/v1nnyb0y/leetcode/blob/master/TwoPointers/1679_MaxNumberOfKSumPairs.ipynb\" target=\"_parent\"><img src=\"https://colab.research.google.com/assets/colab-badge.svg\" alt=\"Open In Colab\"/></a>"
      ]
    },
    {
      "cell_type": "code",
      "execution_count": null,
      "metadata": {
        "id": "KxF3vT059VJw"
      },
      "outputs": [],
      "source": [
        "from collections import defaultdict\n",
        "\n",
        "\n",
        "class Solution:\n",
        "    def maxOperations(self, nums: List[int], k: int) -> int:\n",
        "        pair = defaultdict(int) # integer 0 is the default value of all the keys\n",
        "        res = 0\n",
        "        \n",
        "        for n in nums:\n",
        "            if pair[n]: # if we encountered k - n already\n",
        "                res += 1\n",
        "                pair[n] -= 1\n",
        "            else: # if we did'n find a pair yet\n",
        "                pair[k - n] += 1\n",
        "                \n",
        "        return res"
      ]
    }
  ]
}