{
  "nbformat": 4,
  "nbformat_minor": 0,
  "metadata": {
    "colab": {
      "name": "75.ipynb",
      "provenance": [],
      "authorship_tag": "ABX9TyPUzgSibPTUZgJY2IfZiBZK",
      "include_colab_link": true
    },
    "kernelspec": {
      "name": "python3",
      "display_name": "Python 3"
    },
    "language_info": {
      "name": "python"
    }
  },
  "cells": [
    {
      "cell_type": "markdown",
      "metadata": {
        "id": "view-in-github",
        "colab_type": "text"
      },
      "source": [
        "<a href=\"https://colab.research.google.com/github/v1nnyb0y/leetcode/blob/master/TwoPointers/75_SortColors.ipynb\" target=\"_parent\"><img src=\"https://colab.research.google.com/assets/colab-badge.svg\" alt=\"Open In Colab\"/></a>"
      ]
    },
    {
      "cell_type": "code",
      "execution_count": null,
      "metadata": {
        "id": "dgy2nZXzhQY8"
      },
      "outputs": [],
      "source": [
        "class Solution:\n",
        "    def sortColors(self, nums: List[int]) -> None:\n",
        "        c = Counter()\n",
        "        for n in nums:\n",
        "            c[n] += 1\n",
        "        for i in range(c[0]):\n",
        "            nums[i] = 0\n",
        "        for i in range(c[1]):\n",
        "            nums[i + c[0]] = 1\n",
        "        for i in range(c[2]):\n",
        "            nums[i + c[0] + c[1]] = 2\n",
        "        "
      ]
    }
  ]
}