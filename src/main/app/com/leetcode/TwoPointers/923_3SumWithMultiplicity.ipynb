{
  "nbformat": 4,
  "nbformat_minor": 0,
  "metadata": {
    "colab": {
      "name": "923.ipynb",
      "provenance": [],
      "authorship_tag": "ABX9TyN4aL/LJ+ca5uItfkdTji5v",
      "include_colab_link": true
    },
    "kernelspec": {
      "name": "python3",
      "display_name": "Python 3"
    },
    "language_info": {
      "name": "python"
    }
  },
  "cells": [
    {
      "cell_type": "markdown",
      "metadata": {
        "id": "view-in-github",
        "colab_type": "text"
      },
      "source": [
        "<a href=\"https://colab.research.google.com/github/v1nnyb0y/leetcode/blob/master/TwoPointers/923_3SumWithMultiplicity.ipynb\" target=\"_parent\"><img src=\"https://colab.research.google.com/assets/colab-badge.svg\" alt=\"Open In Colab\"/></a>"
      ]
    },
    {
      "cell_type": "code",
      "execution_count": null,
      "metadata": {
        "id": "X8Wpo3bRlv5p"
      },
      "outputs": [],
      "source": [
        "class Solution(object):\n",
        "    def threeSumMulti(self, A, target):\n",
        "        MOD = 10**9 + 7\n",
        "        count = collections.Counter(A)\n",
        "        keys = sorted(count)\n",
        "\n",
        "        ans = 0\n",
        "\n",
        "        # Now, let's do a 3sum on \"keys\", for i <= j <= k.\n",
        "        # We will use count to add the correct contribution to ans.\n",
        "        for i, x in enumerate(keys):\n",
        "            T = target - x\n",
        "            j, k = i, len(keys) - 1\n",
        "            while j <= k:\n",
        "                y, z = keys[j], keys[k]\n",
        "                if y + z < T:\n",
        "                    j += 1\n",
        "                elif y + z > T:\n",
        "                    k -= 1\n",
        "                else: # x+y+z == T, now calculate the size of the contribution\n",
        "                    if i < j < k:\n",
        "                        ans += count[x] * count[y] * count[z]\n",
        "                    elif i == j < k:\n",
        "                        ans += count[x] * (count[x] - 1) / 2 * count[z]\n",
        "                    elif i < j == k:\n",
        "                        ans += count[x] * count[y] * (count[y] - 1) / 2\n",
        "                    else:  # i == j == k\n",
        "                        ans += count[x] * (count[x] - 1) * (count[x] - 2) / 6\n",
        "\n",
        "                    j += 1\n",
        "                    k -= 1\n",
        "\n",
        "        return int(ans % MOD)"
      ]
    }
  ]
}