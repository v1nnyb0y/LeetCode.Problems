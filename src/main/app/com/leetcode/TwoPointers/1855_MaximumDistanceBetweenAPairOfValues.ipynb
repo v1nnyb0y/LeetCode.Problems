{
  "nbformat": 4,
  "nbformat_minor": 0,
  "metadata": {
    "colab": {
      "name": "1855.ipynb",
      "provenance": [],
      "authorship_tag": "ABX9TyM8d6XT7JpT8LInwpwrgTdl",
      "include_colab_link": true
    },
    "kernelspec": {
      "name": "python3",
      "display_name": "Python 3"
    },
    "language_info": {
      "name": "python"
    }
  },
  "cells": [
    {
      "cell_type": "markdown",
      "metadata": {
        "id": "view-in-github",
        "colab_type": "text"
      },
      "source": [
        "<a href=\"https://colab.research.google.com/github/v1nnyb0y/leetcode/blob/master/TwoPointers/1855_MaximumDistanceBetweenAPairOfValues.ipynb\" target=\"_parent\"><img src=\"https://colab.research.google.com/assets/colab-badge.svg\" alt=\"Open In Colab\"/></a>"
      ]
    },
    {
      "cell_type": "code",
      "execution_count": null,
      "metadata": {
        "id": "MYm2eKZ3ERwT"
      },
      "outputs": [],
      "source": [
        "class Solution:\n",
        "    def maxDistance(self, nums1: List[int], nums2: List[int]) -> int:\n",
        "        answ=i=0\n",
        "        while i<len(nums1):\n",
        "            j=i+answ\n",
        "            while j<len(nums2) and nums1[i]<=nums2[j]:\n",
        "                answ=max(answ,j-i)\n",
        "                j+=1\n",
        "            i+=1\n",
        "        return answ"
      ]
    }
  ]
}