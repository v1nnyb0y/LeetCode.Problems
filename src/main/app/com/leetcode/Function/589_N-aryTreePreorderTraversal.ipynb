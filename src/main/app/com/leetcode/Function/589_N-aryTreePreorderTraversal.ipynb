{
  "nbformat": 4,
  "nbformat_minor": 0,
  "metadata": {
    "colab": {
      "name": "589.ipynb",
      "provenance": [],
      "authorship_tag": "ABX9TyNx+Tmlx52Ed2QejJ0W0wjB",
      "include_colab_link": true
    },
    "kernelspec": {
      "name": "python3",
      "display_name": "Python 3"
    },
    "language_info": {
      "name": "python"
    }
  },
  "cells": [
    {
      "cell_type": "markdown",
      "metadata": {
        "id": "view-in-github",
        "colab_type": "text"
      },
      "source": [
        "<a href=\"https://colab.research.google.com/github/v1nnyb0y/LeetCode.Problems/blob/master/Function/589_N-aryTreePreorderTraversal.ipynb\" target=\"_parent\"><img src=\"https://colab.research.google.com/assets/colab-badge.svg\" alt=\"Open In Colab\"/></a>"
      ]
    },
    {
      "cell_type": "code",
      "execution_count": null,
      "metadata": {
        "id": "03XRc7ioFQi6"
      },
      "outputs": [],
      "source": [
        "# Definition for a Node.\n",
        "class Node:\n",
        "    def __init__(self, val=None, children=None):\n",
        "        self.val = val\n",
        "        self.children = children\n",
        "\n",
        "class Solution:\n",
        "    def preorder(self, root: 'Node') -> List[int]:\n",
        "        if root is None or root.val is None:\n",
        "            return []\n",
        "        \n",
        "        res = [root.val]\n",
        "        if root.children is not None:\n",
        "            for i in root.children:\n",
        "                res += self.preorder(i)\n",
        "        \n",
        "        return res"
      ]
    }
  ]
}