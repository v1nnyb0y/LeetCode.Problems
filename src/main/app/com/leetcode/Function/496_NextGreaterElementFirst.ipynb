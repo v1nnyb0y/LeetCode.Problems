{
  "nbformat": 4,
  "nbformat_minor": 0,
  "metadata": {
    "colab": {
      "name": "496.ipynb",
      "provenance": [],
      "collapsed_sections": [],
      "authorship_tag": "ABX9TyNjvQ/QExIn0jELL/cbDDxd",
      "include_colab_link": true
    },
    "kernelspec": {
      "name": "python3",
      "display_name": "Python 3"
    },
    "language_info": {
      "name": "python"
    }
  },
  "cells": [
    {
      "cell_type": "markdown",
      "metadata": {
        "id": "view-in-github",
        "colab_type": "text"
      },
      "source": [
        "<a href=\"https://colab.research.google.com/github/v1nnyb0y/LeetCode.Problems/blob/master/Function/496_NextGreaterElementFirst.ipynb\" target=\"_parent\"><img src=\"https://colab.research.google.com/assets/colab-badge.svg\" alt=\"Open In Colab\"/></a>"
      ]
    },
    {
      "cell_type": "code",
      "execution_count": null,
      "metadata": {
        "id": "E44Ux9KR5jST"
      },
      "outputs": [],
      "source": [
        "class Solution:\n",
        "    def nextGreaterElement(self, nums1: List[int], nums2: List[int]) -> List[int]:\n",
        "        seen = {}\n",
        "        stack = [nums2[0]]\n",
        "        \n",
        "        for num in nums2[1:]:\n",
        "            while stack and stack[-1] < num: \n",
        "                seen[stack.pop()] = num\n",
        "            \n",
        "            stack.append(num)\n",
        "        \n",
        "        for num in stack: \n",
        "            seen[num] = -1\n",
        "        \n",
        "        ans = []\n",
        "        for num in nums1:\n",
        "            ans.append(seen[num])\n",
        "            \n",
        "        return ans"
      ]
    }
  ]
}