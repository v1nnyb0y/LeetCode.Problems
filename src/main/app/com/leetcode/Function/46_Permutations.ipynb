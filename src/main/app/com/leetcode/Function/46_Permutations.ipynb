{
  "nbformat": 4,
  "nbformat_minor": 0,
  "metadata": {
    "colab": {
      "name": "46.ipynb",
      "provenance": [],
      "authorship_tag": "ABX9TyOSHVqR+qg0yh7pGx45R/ih",
      "include_colab_link": true
    },
    "kernelspec": {
      "name": "python3",
      "display_name": "Python 3"
    },
    "language_info": {
      "name": "python"
    }
  },
  "cells": [
    {
      "cell_type": "markdown",
      "metadata": {
        "id": "view-in-github",
        "colab_type": "text"
      },
      "source": [
        "<a href=\"https://colab.research.google.com/github/v1nnyb0y/leetcode/blob/master/Function/46_Permutations.ipynb\" target=\"_parent\"><img src=\"https://colab.research.google.com/assets/colab-badge.svg\" alt=\"Open In Colab\"/></a>"
      ]
    },
    {
      "cell_type": "code",
      "execution_count": null,
      "metadata": {
        "id": "pwo5SWrk9xAH"
      },
      "outputs": [],
      "source": [
        "def helper(perms, perm, start, stop):\n",
        "        if start == stop:\n",
        "            tmp = perm.copy()                                     # avoid shallow copy\n",
        "            perms.append(tmp)\n",
        "        else:\n",
        "            for i in range(start, stop+1):\n",
        "                perm[start], perm[i] = perm[i], perm[start]       # swap\n",
        "                helper(perms, perm, start+1, stop)                # recursive call\n",
        "                perm[start], perm[i] = perm[i], perm[start]       # swap back  \n",
        "                \n",
        "class Solution:\n",
        "    def permute(self, nums: List[int]) -> List[List[int]]:\n",
        "        permutations = []\n",
        "        helper(permutations, nums, 0, len(nums)-1)\n",
        "        \n",
        "        return permutations"
      ]
    }
  ]
}