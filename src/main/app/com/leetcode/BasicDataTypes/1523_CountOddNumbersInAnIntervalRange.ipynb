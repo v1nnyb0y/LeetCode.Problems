{
  "nbformat": 4,
  "nbformat_minor": 0,
  "metadata": {
    "colab": {
      "name": "1523.ipynb",
      "provenance": [],
      "authorship_tag": "ABX9TyM5s2AWjE20mc3/CGNnYYXo",
      "include_colab_link": true
    },
    "kernelspec": {
      "name": "python3",
      "display_name": "Python 3"
    },
    "language_info": {
      "name": "python"
    }
  },
  "cells": [
    {
      "cell_type": "markdown",
      "metadata": {
        "id": "view-in-github",
        "colab_type": "text"
      },
      "source": [
        "<a href=\"https://colab.research.google.com/github/v1nnyb0y/LeetCode.Problems/blob/master/BasicDataTypes/1523_CountOddNumbersInAnIntervalRange.ipynb\" target=\"_parent\"><img src=\"https://colab.research.google.com/assets/colab-badge.svg\" alt=\"Open In Colab\"/></a>"
      ]
    },
    {
      "cell_type": "code",
      "execution_count": 1,
      "metadata": {
        "colab": {
          "base_uri": "https://localhost:8080/",
          "height": 130
        },
        "id": "3dEnv5FkMorG",
        "outputId": "e97f0d92-6063-4249-9804-4aebfa395d81"
      },
      "outputs": [
        {
          "output_type": "error",
          "ename": "SyntaxError",
          "evalue": "ignored",
          "traceback": [
            "\u001b[0;36m  File \u001b[0;32m\"<ipython-input-1-fae7cdec1858>\"\u001b[0;36m, line \u001b[0;32m7\u001b[0m\n\u001b[0;31m    if low % 2 == 1:\u001b[0m\n\u001b[0m                    ^\u001b[0m\n\u001b[0;31mSyntaxError\u001b[0m\u001b[0;31m:\u001b[0m unexpected EOF while parsing\n"
          ]
        }
      ],
      "source": [
        "class Solution:\n",
        "    def countOdds(self, low: int, high: int) -> int:\n",
        "        if low % 2 == 1 and high % 2 == 1:\n",
        "            diff = high - low + 1\n",
        "            return (diff - diff // 2)\n",
        "        else:\n",
        "            return (high - low + 1) // 2\n",
        "\n"
      ]
    }
  ]
}