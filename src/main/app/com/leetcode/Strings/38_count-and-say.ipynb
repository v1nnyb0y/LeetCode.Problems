{
  "nbformat": 4,
  "nbformat_minor": 0,
  "metadata": {
    "colab": {
      "provenance": [],
      "authorship_tag": "ABX9TyOCAIToJt47Y14TG26ZVkd7",
      "include_colab_link": true
    },
    "kernelspec": {
      "name": "python3",
      "display_name": "Python 3"
    },
    "language_info": {
      "name": "python"
    }
  },
  "cells": [
    {
      "cell_type": "markdown",
      "metadata": {
        "id": "view-in-github",
        "colab_type": "text"
      },
      "source": [
        "<a href=\"https://colab.research.google.com/github/v1nnyb0y/leetcode/blob/master/Strings/38_count-and-say.ipynb\" target=\"_parent\"><img src=\"https://colab.research.google.com/assets/colab-badge.svg\" alt=\"Open In Colab\"/></a>"
      ]
    },
    {
      "cell_type": "code",
      "execution_count": null,
      "metadata": {
        "id": "46faHq1lCUUL"
      },
      "outputs": [],
      "source": [
        "class Solution:\n",
        "    def countAndSay(self, n: int) -> str:\n",
        "        res = '1'\n",
        "        if n == 1:\n",
        "            return res\n",
        "\n",
        "        for i in range(2,n+1):\n",
        "            ans = []\n",
        "            charPointer = res[0]\n",
        "            countPointer = 0\n",
        "            for char in res:\n",
        "                if char == charPointer:\n",
        "                    countPointer += 1\n",
        "                else:\n",
        "                    ans.append(str(countPointer))\n",
        "                    ans.append(charPointer)\n",
        "                    charPointer = char\n",
        "                    countPointer = 1\n",
        "            ans.append(str(countPointer))\n",
        "            ans.append(charPointer)\n",
        "            res = \"\".join(ans)\n",
        "        return res"
      ]
    }
  ]
}