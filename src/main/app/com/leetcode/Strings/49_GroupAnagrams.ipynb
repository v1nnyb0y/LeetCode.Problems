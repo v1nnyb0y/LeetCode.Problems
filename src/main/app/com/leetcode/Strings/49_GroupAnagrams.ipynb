{
  "nbformat": 4,
  "nbformat_minor": 0,
  "metadata": {
    "colab": {
      "name": "49.ipynb",
      "provenance": [],
      "authorship_tag": "ABX9TyOkb8d8M0iBcM30cGBgPqXP",
      "include_colab_link": true
    },
    "kernelspec": {
      "name": "python3",
      "display_name": "Python 3"
    },
    "language_info": {
      "name": "python"
    }
  },
  "cells": [
    {
      "cell_type": "markdown",
      "metadata": {
        "id": "view-in-github",
        "colab_type": "text"
      },
      "source": [
        "<a href=\"https://colab.research.google.com/github/v1nnyb0y/leetcode/blob/master/Strings/49_GroupAnagrams.ipynb\" target=\"_parent\"><img src=\"https://colab.research.google.com/assets/colab-badge.svg\" alt=\"Open In Colab\"/></a>"
      ]
    },
    {
      "cell_type": "code",
      "execution_count": null,
      "metadata": {
        "id": "N9rPq75GpS3N"
      },
      "outputs": [],
      "source": [
        "class Solution:\n",
        "    def groupAnagrams(self, strs: List[str]) -> List[List[str]]:\n",
        "        hashmap = {}\n",
        "        results = []\n",
        "        \n",
        "        \n",
        "        for ele in strs:\n",
        "            arr = [0,]*26\n",
        "\n",
        "            for i in ele:\n",
        "                arr[97-ord(i)]+=1\n",
        "                \n",
        "            try:\n",
        "                hashmap[tuple(arr)].append(ele)\n",
        "                \n",
        "            except KeyError:\n",
        "                hashmap[tuple(arr)] = [ele]\n",
        "                \n",
        "                  \n",
        "        for keys in hashmap: \n",
        "            results.append(hashmap[keys])\n",
        "        \n",
        "        return(results)"
      ]
    }
  ]
}