{
  "nbformat": 4,
  "nbformat_minor": 0,
  "metadata": {
    "colab": {
      "name": "763.ipynb",
      "provenance": [],
      "authorship_tag": "ABX9TyPWyzjRiZXHdk4kOvRwzRhg",
      "include_colab_link": true
    },
    "kernelspec": {
      "name": "python3",
      "display_name": "Python 3"
    },
    "language_info": {
      "name": "python"
    }
  },
  "cells": [
    {
      "cell_type": "markdown",
      "metadata": {
        "id": "view-in-github",
        "colab_type": "text"
      },
      "source": [
        "<a href=\"https://colab.research.google.com/github/v1nnyb0y/leetcode/blob/master/Strings/763_PartitionLabels.ipynb\" target=\"_parent\"><img src=\"https://colab.research.google.com/assets/colab-badge.svg\" alt=\"Open In Colab\"/></a>"
      ]
    },
    {
      "cell_type": "code",
      "execution_count": null,
      "metadata": {
        "id": "K2147D2Uish_"
      },
      "outputs": [],
      "source": [
        "class Solution(object):\n",
        "    def partitionLabels(self, S):\n",
        "        last = {c: i for i, c in enumerate(S)}\n",
        "        j = anchor = 0\n",
        "        ans = []\n",
        "        for i, c in enumerate(S):\n",
        "            j = max(j, last[c])\n",
        "            if i == j:\n",
        "                ans.append(i - anchor + 1)\n",
        "                anchor = i + 1\n",
        "            \n",
        "        return ans"
      ]
    }
  ]
}