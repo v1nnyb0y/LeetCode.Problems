{
  "nbformat": 4,
  "nbformat_minor": 0,
  "metadata": {
    "colab": {
      "name": "17.ipynb",
      "provenance": [],
      "authorship_tag": "ABX9TyO3m1PS4/N7UXJQXHX791M0",
      "include_colab_link": true
    },
    "kernelspec": {
      "name": "python3",
      "display_name": "Python 3"
    },
    "language_info": {
      "name": "python"
    }
  },
  "cells": [
    {
      "cell_type": "markdown",
      "metadata": {
        "id": "view-in-github",
        "colab_type": "text"
      },
      "source": [
        "<a href=\"https://colab.research.google.com/github/v1nnyb0y/leetcode/blob/master/Strings/17_LetterCombinationsOfAPhoneNumber.ipynb\" target=\"_parent\"><img src=\"https://colab.research.google.com/assets/colab-badge.svg\" alt=\"Open In Colab\"/></a>"
      ]
    },
    {
      "cell_type": "code",
      "execution_count": null,
      "metadata": {
        "id": "Ae0MUwSq3QLV"
      },
      "outputs": [],
      "source": [
        "class Solution:\n",
        "    def letterCombinations(self, digits: str) -> List[str]:\n",
        "        def cartesian(a,b):\n",
        "            p=[]\n",
        "            if len(a)==0:\n",
        "                return list(b)\n",
        "            for i in a:\n",
        "                for j in b:\n",
        "                    p.append(i+j)\n",
        "            return p           \n",
        "        dict={'2':\"abc\",'3':\"def\",'4':\"ghi\",'5':\"jkl\",'6':\"mno\",'7':\"pqrs\",'8':\"tuv\",'9':\"wxyz\"}\n",
        "        digits=[dict[i] for i in list(digits)]\n",
        "        q=''\n",
        "        for i in range(len(digits)):\n",
        "            q=cartesian(q,digits[i])\n",
        "        return (q)"
      ]
    }
  ]
}