{
  "nbformat": 4,
  "nbformat_minor": 0,
  "metadata": {
    "colab": {
      "name": "438.ipynb",
      "provenance": [],
      "authorship_tag": "ABX9TyNlJUoXJ8NXcPXsqOXkd1UD",
      "include_colab_link": true
    },
    "kernelspec": {
      "name": "python3",
      "display_name": "Python 3"
    },
    "language_info": {
      "name": "python"
    }
  },
  "cells": [
    {
      "cell_type": "markdown",
      "metadata": {
        "id": "view-in-github",
        "colab_type": "text"
      },
      "source": [
        "<a href=\"https://colab.research.google.com/github/v1nnyb0y/leetcode/blob/master/Strings/438_FindAllAnagramsInAString.ipynb\" target=\"_parent\"><img src=\"https://colab.research.google.com/assets/colab-badge.svg\" alt=\"Open In Colab\"/></a>"
      ]
    },
    {
      "cell_type": "code",
      "execution_count": 16,
      "metadata": {
        "colab": {
          "base_uri": "https://localhost:8080/"
        },
        "id": "gGiKbedY2QNe",
        "outputId": "c7f691d6-ae30-4bd1-f5c4-ae28bfa3e9e2"
      },
      "outputs": [
        {
          "output_type": "stream",
          "name": "stdout",
          "text": [
            "[0, 6]\n"
          ]
        }
      ],
      "source": [
        "class Solution:\n",
        "    def findAnagrams(self, s: str, p: str) -> List[int]:\n",
        "        if len(s) < len(p):\n",
        "            return []\n",
        "        dic1 = [0]*26\n",
        "        dic2 = [0]*26\n",
        "        res = []\n",
        "        for i in range(len(p)):\n",
        "            dic1[ord(p[i])-ord('a')] += 1\n",
        "            dic2[ord(s[i])-ord('a')] += 1\n",
        "        if dic1 == dic2:\n",
        "            res.append(0)\n",
        "        for i in range(1, len(s)-len(p)+1):\n",
        "            dic2[ord(s[i-1])-ord('a')] -= 1\n",
        "            dic2[ord(s[i+len(p)-1])-ord('a')] += 1\n",
        "            if dic1 == dic2:\n",
        "                res.append(i)\n",
        "        return res"
      ]
    }
  ]
}