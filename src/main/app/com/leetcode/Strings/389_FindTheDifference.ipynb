{
  "nbformat": 4,
  "nbformat_minor": 0,
  "metadata": {
    "colab": {
      "name": "389.ipynb",
      "provenance": [],
      "authorship_tag": "ABX9TyPcKi9saWLizpb6e+nNPwYd",
      "include_colab_link": true
    },
    "kernelspec": {
      "name": "python3",
      "display_name": "Python 3"
    },
    "language_info": {
      "name": "python"
    }
  },
  "cells": [
    {
      "cell_type": "markdown",
      "metadata": {
        "id": "view-in-github",
        "colab_type": "text"
      },
      "source": [
        "<a href=\"https://colab.research.google.com/github/v1nnyb0y/LeetCode.Problems/blob/master/Strings/389_FindTheDifference.ipynb\" target=\"_parent\"><img src=\"https://colab.research.google.com/assets/colab-badge.svg\" alt=\"Open In Colab\"/></a>"
      ]
    },
    {
      "cell_type": "code",
      "execution_count": null,
      "metadata": {
        "id": "psOujIn6KvBj"
      },
      "outputs": [],
      "source": [
        "class Solution:\n",
        "    def findTheDifference(self, s: str, t: str) -> str:\n",
        "        s=Counter(s)\n",
        "        t=Counter(t)\n",
        "        for i,v in t.items():\n",
        "            if(s[i]==v):\n",
        "                continue\n",
        "            return i"
      ]
    }
  ]
}