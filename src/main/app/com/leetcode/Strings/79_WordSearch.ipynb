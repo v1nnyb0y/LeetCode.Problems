{
  "nbformat": 4,
  "nbformat_minor": 0,
  "metadata": {
    "colab": {
      "name": "79.ipynb",
      "provenance": [],
      "authorship_tag": "ABX9TyPYbVthAkAHzJHW0qj1ar1k",
      "include_colab_link": true
    },
    "kernelspec": {
      "name": "python3",
      "display_name": "Python 3"
    },
    "language_info": {
      "name": "python"
    }
  },
  "cells": [
    {
      "cell_type": "markdown",
      "metadata": {
        "id": "view-in-github",
        "colab_type": "text"
      },
      "source": [
        "<a href=\"https://colab.research.google.com/github/v1nnyb0y/leetcode/blob/master/Strings/79_WordSearch.ipynb\" target=\"_parent\"><img src=\"https://colab.research.google.com/assets/colab-badge.svg\" alt=\"Open In Colab\"/></a>"
      ]
    },
    {
      "cell_type": "code",
      "execution_count": null,
      "metadata": {
        "id": "bwOFcjH54IwD"
      },
      "outputs": [],
      "source": [
        "class Solution:\n",
        "    def exist(self, board, word):\n",
        "        def backtrack(word, i, j, m, n):\n",
        "            if board[i][j] != word[self.l]:\n",
        "                return\n",
        "            visited.add((i, j))\n",
        "            self.l += 1\n",
        "            if self.l == len(word):\n",
        "                self.is_found = True\n",
        "                return \n",
        "            for di, dj in [(0, 1), (1, 0), (0, -1), (-1, 0)]:\n",
        "                i1, j1 = i + di, j + dj\n",
        "                if 0 <= i1 < m and 0 <= j1 < n and (i1, j1) not in visited:\n",
        "                    backtrack(word, i1, j1, m, n)\n",
        "                    if self.is_found:\n",
        "                        return \n",
        "            visited.remove((i, j))\n",
        "            self.l -= 1\n",
        "        \n",
        "        if not board or not board[0]:\n",
        "            return False\n",
        "        if word == '':\n",
        "            return True\n",
        "        m, n = len(board), len(board[0])\n",
        "        self.is_found = False\n",
        "        self.l = 0\n",
        "        visited = set()\n",
        "        for i in range(m):\n",
        "            for j in range(n):\n",
        "                backtrack(word, i, j, m, n)\n",
        "                if self.is_found:\n",
        "                    return True\n",
        "        return False\n",
        "        "
      ]
    }
  ]
}