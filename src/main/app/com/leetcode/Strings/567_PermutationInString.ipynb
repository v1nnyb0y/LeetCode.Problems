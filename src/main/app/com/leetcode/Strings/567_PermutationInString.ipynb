{
  "nbformat": 4,
  "nbformat_minor": 0,
  "metadata": {
    "colab": {
      "name": "567.ipynb",
      "provenance": [],
      "authorship_tag": "ABX9TyNyLy4DoNyWwzxODSmK9En9",
      "include_colab_link": true
    },
    "kernelspec": {
      "name": "python3",
      "display_name": "Python 3"
    },
    "language_info": {
      "name": "python"
    }
  },
  "cells": [
    {
      "cell_type": "markdown",
      "metadata": {
        "id": "view-in-github",
        "colab_type": "text"
      },
      "source": [
        "<a href=\"https://colab.research.google.com/github/v1nnyb0y/leetcode/blob/master/Strings/567_PermutationInString.ipynb\" target=\"_parent\"><img src=\"https://colab.research.google.com/assets/colab-badge.svg\" alt=\"Open In Colab\"/></a>"
      ]
    },
    {
      "cell_type": "code",
      "execution_count": null,
      "metadata": {
        "id": "EZesYBq3rbS0"
      },
      "outputs": [],
      "source": [
        "class Solution:\n",
        "    def checkInclusion(self, s1: str, s2: str) -> bool:\n",
        "        c1, c2 = collections.Counter(s1), collections.Counter(s2[:len(s1)])\n",
        "        for i in range(len(s2) - len(s1)):\n",
        "            if c1 == c2:\n",
        "                return True\n",
        "            c = s2[i + len(s1)]\n",
        "            if c in c2:\n",
        "                c2[c] += 1\n",
        "            else:\n",
        "                c2[c] = 1\n",
        "            c2[s2[i]] -= 1\n",
        "            if c2[s2[i]] == 0:\n",
        "                del c2[s2[i]]\n",
        "        if c1 == c2:\n",
        "            return True\n",
        "        return False"
      ]
    }
  ]
}