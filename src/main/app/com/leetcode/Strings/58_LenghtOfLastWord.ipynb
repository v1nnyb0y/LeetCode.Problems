{
  "nbformat": 4,
  "nbformat_minor": 0,
  "metadata": {
    "colab": {
      "name": "58.ipynb",
      "provenance": [],
      "authorship_tag": "ABX9TyMdv35vmmyuQ16y2ZA1cOwF",
      "include_colab_link": true
    },
    "kernelspec": {
      "name": "python3",
      "display_name": "Python 3"
    },
    "language_info": {
      "name": "python"
    }
  },
  "cells": [
    {
      "cell_type": "markdown",
      "metadata": {
        "id": "view-in-github",
        "colab_type": "text"
      },
      "source": [
        "<a href=\"https://colab.research.google.com/github/v1nnyb0y/leetcode/blob/master/Strings/58_LenghtOfLastWord.ipynb\" target=\"_parent\"><img src=\"https://colab.research.google.com/assets/colab-badge.svg\" alt=\"Open In Colab\"/></a>"
      ]
    },
    {
      "cell_type": "code",
      "execution_count": 1,
      "metadata": {
        "colab": {
          "base_uri": "https://localhost:8080/"
        },
        "id": "EKX5vNGulHAi",
        "outputId": "c2e81be4-b6e6-457c-aa9c-017ac1674623"
      },
      "outputs": [
        {
          "output_type": "execute_result",
          "data": {
            "text/plain": [
              "['', '', '', 'fly', 'me', '', '', 'to', '', '', 'the', 'moon', '', '']"
            ]
          },
          "metadata": {},
          "execution_count": 1
        }
      ],
      "source": [
        "class Solution:\n",
        "    def lengthOfLastWord(self, s: str) -> int:\n",
        "        sArr = s.split(' ')\n",
        "        for wordIndex in range(len(sArr) - 1, -1, -1):\n",
        "            word = sArr[wordIndex]\n",
        "            if len(word) != 0:\n",
        "                return len(word)"
      ]
    }
  ]
}