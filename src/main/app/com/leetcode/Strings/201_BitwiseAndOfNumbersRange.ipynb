{
  "nbformat": 4,
  "nbformat_minor": 0,
  "metadata": {
    "colab": {
      "name": "201.ipynb",
      "provenance": [],
      "authorship_tag": "ABX9TyOzw7CifkccHyWJu4OTlIFZ",
      "include_colab_link": true
    },
    "kernelspec": {
      "name": "python3",
      "display_name": "Python 3"
    },
    "language_info": {
      "name": "python"
    }
  },
  "cells": [
    {
      "cell_type": "markdown",
      "metadata": {
        "id": "view-in-github",
        "colab_type": "text"
      },
      "source": [
        "<a href=\"https://colab.research.google.com/github/v1nnyb0y/leetcode/blob/master/Strings/201_BitwiseAndOfNumbersRange.ipynb\" target=\"_parent\"><img src=\"https://colab.research.google.com/assets/colab-badge.svg\" alt=\"Open In Colab\"/></a>"
      ]
    },
    {
      "cell_type": "code",
      "execution_count": null,
      "metadata": {
        "id": "EnRX2n_FR5HF"
      },
      "outputs": [],
      "source": [
        "class Solution:\n",
        "    def rangeBitwiseAnd(self, m: int, n: int) -> int:\n",
        "        \n",
        "        shift = 0\n",
        "        \n",
        "        # find the common MSB bits.\n",
        "        while m != n:\n",
        "            \n",
        "            m = m >> 1\n",
        "            n = n >> 1\n",
        "        \n",
        "            shift += 1\n",
        "        \n",
        "        \n",
        "        return m << shift"
      ]
    }
  ]
}