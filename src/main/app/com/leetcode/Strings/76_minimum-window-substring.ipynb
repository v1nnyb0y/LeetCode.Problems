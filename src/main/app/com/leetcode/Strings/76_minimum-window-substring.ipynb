{
  "nbformat": 4,
  "nbformat_minor": 0,
  "metadata": {
    "colab": {
      "provenance": [],
      "authorship_tag": "ABX9TyPRmyirRQT8rMrUNMmCzuvF",
      "include_colab_link": true
    },
    "kernelspec": {
      "name": "python3",
      "display_name": "Python 3"
    },
    "language_info": {
      "name": "python"
    }
  },
  "cells": [
    {
      "cell_type": "markdown",
      "metadata": {
        "id": "view-in-github",
        "colab_type": "text"
      },
      "source": [
        "<a href=\"https://colab.research.google.com/github/v1nnyb0y/leetcode/blob/master/Strings/76_minimum-window-substring.ipynb\" target=\"_parent\"><img src=\"https://colab.research.google.com/assets/colab-badge.svg\" alt=\"Open In Colab\"/></a>"
      ]
    },
    {
      "cell_type": "code",
      "execution_count": null,
      "metadata": {
        "id": "5fzMQv041mFb"
      },
      "outputs": [],
      "source": [
        "class Solution:\n",
        "    def minWindow(self, s: str, t: str) -> str:\n",
        "        # Edge case #\n",
        "        if len(t) == 0:\n",
        "            return \"\"\n",
        "        \n",
        "        # Sliding Window Approach #\n",
        "        left = 0\n",
        "        t_map = Counter(t)\n",
        "        window = {}\n",
        "        needed_chars = len(t_map)\n",
        "        current_chars = 0\n",
        "        resLen = float(\"inf\")\n",
        "        res = [] # start and end index #\n",
        "        \n",
        "        for right in range(len(s)):\n",
        "            if s[right] not in window:\n",
        "                window[s[right]] = 1\n",
        "            else:\n",
        "                window[s[right]] += 1\n",
        "            \n",
        "            # Check if the character added to the window is also present in t_map #\n",
        "            if s[right] in t_map and window[s[right]] == t_map[s[right]]:\n",
        "                current_chars += 1\n",
        "            \n",
        "            # If the current_chars equals the needed_chars, update the result #\n",
        "            while current_chars == needed_chars:\n",
        "                if (right - left + 1) < resLen:\n",
        "                    resLen = (right - left + 1)\n",
        "                    res = [left, right]\n",
        "                \n",
        "                # Slide the window #\n",
        "                window[s[left]] -= 1\n",
        "                \n",
        "                # if the character removed from the window is also present in t_map #\n",
        "                if s[left] in t_map and window[s[left]] < t_map[s[left]]:\n",
        "                    current_chars -= 1\n",
        "                \n",
        "                left += 1\n",
        "                \n",
        "        return s[res[0]:res[1]+1] if resLen != float(\"inf\") else \"\""
      ]
    }
  ]
}