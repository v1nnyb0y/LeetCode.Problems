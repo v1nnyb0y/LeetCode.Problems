{
  "nbformat": 4,
  "nbformat_minor": 0,
  "metadata": {
    "colab": {
      "name": "1647.ipynb",
      "provenance": [],
      "authorship_tag": "ABX9TyOQdPSrFZrd/ny9ixLc51SM",
      "include_colab_link": true
    },
    "kernelspec": {
      "name": "python3",
      "display_name": "Python 3"
    },
    "language_info": {
      "name": "python"
    }
  },
  "cells": [
    {
      "cell_type": "markdown",
      "metadata": {
        "id": "view-in-github",
        "colab_type": "text"
      },
      "source": [
        "<a href=\"https://colab.research.google.com/github/v1nnyb0y/leetcode/blob/master/Strings/1647_minimum-deletions-to-make-character-frequencies-unique.ipynb\" target=\"_parent\"><img src=\"https://colab.research.google.com/assets/colab-badge.svg\" alt=\"Open In Colab\"/></a>"
      ]
    },
    {
      "cell_type": "code",
      "execution_count": null,
      "metadata": {
        "id": "tC99S2DaPpUn"
      },
      "outputs": [],
      "source": [
        "class Solution:\n",
        "    def minDeletions(self, s: str) -> int:\n",
        "        ans=0 \n",
        "        d={}\n",
        "        for i in set(s):\n",
        "            d[i]=s.count(i) \n",
        "        helper=set()\n",
        "        for i in sorted(d.values(),reverse=True):\n",
        "            while i in helper:\n",
        "                i-=1 \n",
        "                ans+=1 \n",
        "            if i:\n",
        "                helper.add(i)\n",
        "        return ans"
      ]
    }
  ]
}