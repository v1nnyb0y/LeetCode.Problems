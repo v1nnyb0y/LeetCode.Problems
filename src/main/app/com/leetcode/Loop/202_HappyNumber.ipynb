{
  "nbformat": 4,
  "nbformat_minor": 0,
  "metadata": {
    "colab": {
      "name": "202.ipynb",
      "provenance": [],
      "authorship_tag": "ABX9TyMWldp/hqXXLGboE6tCrzP2",
      "include_colab_link": true
    },
    "kernelspec": {
      "name": "python3",
      "display_name": "Python 3"
    },
    "language_info": {
      "name": "python"
    }
  },
  "cells": [
    {
      "cell_type": "markdown",
      "metadata": {
        "id": "view-in-github",
        "colab_type": "text"
      },
      "source": [
        "<a href=\"https://colab.research.google.com/github/v1nnyb0y/LeetCode.Problems/blob/master/Loop/202_HappyNumber.ipynb\" target=\"_parent\"><img src=\"https://colab.research.google.com/assets/colab-badge.svg\" alt=\"Open In Colab\"/></a>"
      ]
    },
    {
      "cell_type": "code",
      "execution_count": null,
      "metadata": {
        "id": "SqUbZ7tDdt6y"
      },
      "outputs": [],
      "source": [
        "class Solution:\n",
        "    def isHappy(self, n: int) -> bool:\n",
        "        def get_next(n):\n",
        "            total_sum = 0\n",
        "            while n > 0:\n",
        "                n, digit = divmod(n, 10)\n",
        "                total_sum += digit ** 2\n",
        "            return total_sum\n",
        "        \n",
        "        seen = set()\n",
        "        while n != 1 and n not in seen:\n",
        "            seen.add(n)\n",
        "            n = get_next(n)\n",
        "\n",
        "        return n == 1"
      ]
    }
  ]
}