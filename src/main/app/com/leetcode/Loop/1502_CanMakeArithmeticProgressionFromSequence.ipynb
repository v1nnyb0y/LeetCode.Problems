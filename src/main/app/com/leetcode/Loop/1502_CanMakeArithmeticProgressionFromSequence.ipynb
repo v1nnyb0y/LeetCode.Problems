{
  "nbformat": 4,
  "nbformat_minor": 0,
  "metadata": {
    "colab": {
      "name": "1502.ipynb",
      "provenance": [],
      "authorship_tag": "ABX9TyM8r7OKM+uNDhbuZz9btGCk",
      "include_colab_link": true
    },
    "kernelspec": {
      "name": "python3",
      "display_name": "Python 3"
    },
    "language_info": {
      "name": "python"
    }
  },
  "cells": [
    {
      "cell_type": "markdown",
      "metadata": {
        "id": "view-in-github",
        "colab_type": "text"
      },
      "source": [
        "<a href=\"https://colab.research.google.com/github/v1nnyb0y/LeetCode.Problems/blob/master/Loop/1502_CanMakeArithmeticProgressionFromSequence.ipynb\" target=\"_parent\"><img src=\"https://colab.research.google.com/assets/colab-badge.svg\" alt=\"Open In Colab\"/></a>"
      ]
    },
    {
      "cell_type": "code",
      "execution_count": null,
      "metadata": {
        "id": "lohIDorvcb-H"
      },
      "outputs": [],
      "source": [
        "class Solution:\n",
        "    def canMakeArithmeticProgression(self, arr: List[int]) -> bool:\n",
        "        arr.sort()\n",
        "        diff = arr[1] - arr[0]\n",
        "        for i in range(len(arr) - 1):\n",
        "            if arr[i + 1] - arr[i] != diff:\n",
        "                return False\n",
        "            \n",
        "        return True"
      ]
    }
  ]
}