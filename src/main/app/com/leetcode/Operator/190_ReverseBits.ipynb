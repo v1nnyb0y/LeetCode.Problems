{
  "nbformat": 4,
  "nbformat_minor": 0,
  "metadata": {
    "colab": {
      "name": "190.ipynb",
      "provenance": [],
      "authorship_tag": "ABX9TyOrGSYNL+qt6m1v5Fz8i8xN",
      "include_colab_link": true
    },
    "kernelspec": {
      "name": "python3",
      "display_name": "Python 3"
    },
    "language_info": {
      "name": "python"
    }
  },
  "cells": [
    {
      "cell_type": "markdown",
      "metadata": {
        "id": "view-in-github",
        "colab_type": "text"
      },
      "source": [
        "<a href=\"https://colab.research.google.com/github/v1nnyb0y/leetcode/blob/master/Operator/190_ReverseBits.ipynb\" target=\"_parent\"><img src=\"https://colab.research.google.com/assets/colab-badge.svg\" alt=\"Open In Colab\"/></a>"
      ]
    },
    {
      "cell_type": "code",
      "execution_count": null,
      "metadata": {
        "id": "EluzOzYAKelC"
      },
      "outputs": [],
      "source": [
        "class Solution:\n",
        "    def reverseBits(self, n: int) -> int:\n",
        "        n = bin(n)[2:]\n",
        "        n = '0'*( 32-len(n) ) + n\n",
        "        return int( n[::-1] ,2)"
      ]
    }
  ]
}