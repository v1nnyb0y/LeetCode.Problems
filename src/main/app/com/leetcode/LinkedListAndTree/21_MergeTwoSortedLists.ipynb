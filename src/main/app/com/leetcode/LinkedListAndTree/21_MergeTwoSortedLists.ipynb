{
  "nbformat": 4,
  "nbformat_minor": 0,
  "metadata": {
    "colab": {
      "name": "21.ipynb",
      "provenance": [],
      "authorship_tag": "ABX9TyOhxcV0u/W9MxCBhC+uU7SP",
      "include_colab_link": true
    },
    "kernelspec": {
      "name": "python3",
      "display_name": "Python 3"
    },
    "language_info": {
      "name": "python"
    }
  },
  "cells": [
    {
      "cell_type": "markdown",
      "metadata": {
        "id": "view-in-github",
        "colab_type": "text"
      },
      "source": [
        "<a href=\"https://colab.research.google.com/github/v1nnyb0y/leetcode/blob/master/LinkedListAndTree/21_MergeTwoSortedLists.ipynb\" target=\"_parent\"><img src=\"https://colab.research.google.com/assets/colab-badge.svg\" alt=\"Open In Colab\"/></a>"
      ]
    },
    {
      "cell_type": "code",
      "execution_count": null,
      "metadata": {
        "id": "HVhrsAxj-rO5"
      },
      "outputs": [],
      "source": [
        "# Definition for singly-linked list.\n",
        "# class ListNode:\n",
        "#     def __init__(self, val=0, next=None):\n",
        "#         self.val = val\n",
        "#         self.next = next\n",
        "class Solution:\n",
        "    def mergeTwoLists(self, list1: Optional[ListNode], list2: Optional[ListNode]) -> Optional[ListNode]:\n",
        "        head = res = ListNode(0, None)\n",
        "        while list1 is not None and list2 is not None:\n",
        "            if list1.val < list2.val:\n",
        "                res.next = ListNode(list1.val, None)\n",
        "                list1 = list1.next\n",
        "            else:\n",
        "                res.next = ListNode(list2.val, None)\n",
        "                list2 = list2.next\n",
        "            res = res.next\n",
        "            \n",
        "        if list1 is not None:\n",
        "            res.next = list1\n",
        "        else:\n",
        "            res.next = list2\n",
        "        \n",
        "        return head.next\n",
        "                "
      ]
    }
  ]
}