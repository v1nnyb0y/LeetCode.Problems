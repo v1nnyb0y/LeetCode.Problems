{
  "nbformat": 4,
  "nbformat_minor": 0,
  "metadata": {
    "colab": {
      "name": "897.ipynb",
      "provenance": [],
      "authorship_tag": "ABX9TyO6jugzvCyKzlZDOkoR/Jza",
      "include_colab_link": true
    },
    "kernelspec": {
      "name": "python3",
      "display_name": "Python 3"
    },
    "language_info": {
      "name": "python"
    }
  },
  "cells": [
    {
      "cell_type": "markdown",
      "metadata": {
        "id": "view-in-github",
        "colab_type": "text"
      },
      "source": [
        "<a href=\"https://colab.research.google.com/github/v1nnyb0y/leetcode/blob/master/LinkedListAndTree/897_IncreasingOrderSearchTree.ipynb\" target=\"_parent\"><img src=\"https://colab.research.google.com/assets/colab-badge.svg\" alt=\"Open In Colab\"/></a>"
      ]
    },
    {
      "cell_type": "code",
      "execution_count": null,
      "metadata": {
        "id": "WLQH55t6Gku0"
      },
      "outputs": [],
      "source": [
        "# Definition for a binary tree node.\n",
        "# class TreeNode:\n",
        "#     def __init__(self, val=0, left=None, right=None):\n",
        "#         self.val = val\n",
        "#         self.left = left\n",
        "#         self.right = right\n",
        "class Solution:\n",
        "    def increasingBST(self, root: TreeNode) -> TreeNode:\n",
        "        def inorder(node):\n",
        "            if node:\n",
        "                inorder(node.left)\n",
        "                node.left = None\n",
        "                self.cur.right = node\n",
        "                self.cur = node\n",
        "                inorder(node.right)\n",
        "\n",
        "        ans = self.cur = TreeNode(None)\n",
        "        inorder(root)\n",
        "        return ans.right"
      ]
    }
  ]
}