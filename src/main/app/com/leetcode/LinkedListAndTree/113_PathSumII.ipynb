{
  "nbformat": 4,
  "nbformat_minor": 0,
  "metadata": {
    "colab": {
      "name": "113.ipynb",
      "provenance": [],
      "authorship_tag": "ABX9TyOM1uRFWnyJWH8wa+VSvqsN",
      "include_colab_link": true
    },
    "kernelspec": {
      "name": "python3",
      "display_name": "Python 3"
    },
    "language_info": {
      "name": "python"
    }
  },
  "cells": [
    {
      "cell_type": "markdown",
      "metadata": {
        "id": "view-in-github",
        "colab_type": "text"
      },
      "source": [
        "<a href=\"https://colab.research.google.com/github/v1nnyb0y/leetcode/blob/master/LinkedListAndTree/113_PathSumII.ipynb\" target=\"_parent\"><img src=\"https://colab.research.google.com/assets/colab-badge.svg\" alt=\"Open In Colab\"/></a>"
      ]
    },
    {
      "cell_type": "code",
      "execution_count": null,
      "metadata": {
        "id": "ky0Slr_pBOoY"
      },
      "outputs": [],
      "source": [
        "# Definition for a binary tree node.\n",
        "# class TreeNode:\n",
        "#     def __init__(self, val=0, left=None, right=None):\n",
        "#         self.val = val\n",
        "#         self.left = left\n",
        "#         self.right = right\n",
        "class Solution:\n",
        "    def pathSum(self, root: Optional[TreeNode], targetSum: int) -> List[List[int]]:\n",
        "        def isLeaf(root):\n",
        "            return root.right is None and root.left is None\n",
        "        \n",
        "        def dfs(root, arr, tm):\n",
        "            if root is None:\n",
        "                return None\n",
        "            \n",
        "            arr.append(root.val)\n",
        "            if isLeaf(root):\n",
        "                if sum(arr) == tm:\n",
        "                    return [arr]\n",
        "                else:\n",
        "                    return None\n",
        "            else:\n",
        "                lans = dfs(root.left, arr.copy(), tm)\n",
        "                rans = dfs(root.right, arr.copy(), tm)\n",
        "                \n",
        "                ans = []\n",
        "                if lans is not None:\n",
        "                    ans += lans\n",
        "                if rans is not None:\n",
        "                    ans += rans\n",
        "                \n",
        "                return ans\n",
        "            \n",
        "            \n",
        "            \n",
        "        return dfs(root, [], targetSum)"
      ]
    }
  ]
}