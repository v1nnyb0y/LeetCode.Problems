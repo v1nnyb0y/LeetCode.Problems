{
  "nbformat": 4,
  "nbformat_minor": 0,
  "metadata": {
    "colab": {
      "name": "24.ipynb",
      "provenance": [],
      "authorship_tag": "ABX9TyP6ZYMwxzrhMG72pau86HW2",
      "include_colab_link": true
    },
    "kernelspec": {
      "name": "python3",
      "display_name": "Python 3"
    },
    "language_info": {
      "name": "python"
    }
  },
  "cells": [
    {
      "cell_type": "markdown",
      "metadata": {
        "id": "view-in-github",
        "colab_type": "text"
      },
      "source": [
        "<a href=\"https://colab.research.google.com/github/v1nnyb0y/leetcode/blob/master/LinkedListAndTree/24_SwapNodesInPairs.ipynb\" target=\"_parent\"><img src=\"https://colab.research.google.com/assets/colab-badge.svg\" alt=\"Open In Colab\"/></a>"
      ]
    },
    {
      "cell_type": "code",
      "execution_count": null,
      "metadata": {
        "id": "VaZa2KIfJn3j"
      },
      "outputs": [],
      "source": [
        "class Solution:\n",
        "    def swapPairs(self, head):\n",
        "        if head == None:\n",
        "            return head\n",
        "        else:\n",
        "            prevNode, currNode = head, head\n",
        "            firstSwap, pairSwap = True, True\n",
        "            while currNode != None:\n",
        "                if prevNode == currNode:\n",
        "                    currNode = currNode.next\n",
        "                    prevNode.next = None\n",
        "                else:\n",
        "                    nextNode = currNode.next\n",
        "                    if pairSwap:\n",
        "                        pairSwap = False\n",
        "                        if firstSwap:\n",
        "                            firstSwap = False\n",
        "                            head = currNode\n",
        "                        currNode.next = prevNode\n",
        "                        prevNode.next = nextNode\n",
        "                    else:\n",
        "                        pairSwap = True\n",
        "                        if nextNode != None:\n",
        "                            prevNode.next = nextNode\n",
        "                        prevNode = currNode\n",
        "                    currNode = nextNode\n",
        "                            \n",
        "        return head"
      ]
    }
  ]
}