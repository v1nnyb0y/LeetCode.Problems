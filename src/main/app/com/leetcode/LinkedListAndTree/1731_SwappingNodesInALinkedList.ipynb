{
  "nbformat": 4,
  "nbformat_minor": 0,
  "metadata": {
    "colab": {
      "name": "1731.ipynb",
      "provenance": [],
      "authorship_tag": "ABX9TyP6UKv1im2fj4oL5C9wHjmp",
      "include_colab_link": true
    },
    "kernelspec": {
      "name": "python3",
      "display_name": "Python 3"
    },
    "language_info": {
      "name": "python"
    }
  },
  "cells": [
    {
      "cell_type": "markdown",
      "metadata": {
        "id": "view-in-github",
        "colab_type": "text"
      },
      "source": [
        "<a href=\"https://colab.research.google.com/github/v1nnyb0y/leetcode/blob/master/LinkedListAndTree/1731_SwappingNodesInALinkedList.ipynb\" target=\"_parent\"><img src=\"https://colab.research.google.com/assets/colab-badge.svg\" alt=\"Open In Colab\"/></a>"
      ]
    },
    {
      "cell_type": "code",
      "execution_count": 6,
      "metadata": {
        "colab": {
          "base_uri": "https://localhost:8080/"
        },
        "id": "k_zuVFN8TcGF",
        "outputId": "8d6f04ef-63e7-437d-e521-3ff6a858f8ce"
      },
      "outputs": [
        {
          "output_type": "stream",
          "name": "stdout",
          "text": [
            "1\n",
            "<__main__.ListNode object at 0x7fba10ed3c50>\n",
            "2\n",
            "<__main__.ListNode object at 0x7fba10ed3990>\n",
            "3\n",
            "<__main__.ListNode object at 0x7fba10ed3610>\n",
            "4\n",
            "<__main__.ListNode object at 0x7fba10ed3290>\n",
            "5\n",
            "None\n",
            "[1, 2, 3, 4, 5]\n",
            "1\n"
          ]
        }
      ],
      "source": [
        "# Definition for singly-linked list.\n",
        "# class ListNode:\n",
        "#     def __init__(self, val=0, next=None):\n",
        "#         self.val = val\n",
        "#         self.next = next\n",
        "class Solution:\n",
        "    def swapNodes(self, head: Optional[ListNode], k: int) -> Optional[ListNode]:\n",
        "        linkArr = []\n",
        "        while head is not None:\n",
        "            linkArr.append(head.val)\n",
        "            head = head.next\n",
        "            \n",
        "        linkArr[k - 1], linkArr[len(linkArr) - k] = linkArr[len(linkArr) - k], linkArr[k - 1]\n",
        "        \n",
        "        list = nextNode = ListNode()\n",
        "        for i in range(len(linkArr)):\n",
        "            nextNode.next = ListNode(linkArr[i])\n",
        "            nextNode = nextNode.next\n",
        "            \n",
        "        return list.next\n",
        "            "
      ]
    }
  ]
}