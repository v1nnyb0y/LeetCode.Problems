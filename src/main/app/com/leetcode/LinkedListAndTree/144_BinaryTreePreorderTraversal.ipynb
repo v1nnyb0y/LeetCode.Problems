{
  "nbformat": 4,
  "nbformat_minor": 0,
  "metadata": {
    "colab": {
      "name": "144.ipynb",
      "provenance": [],
      "authorship_tag": "ABX9TyPu4qwtR1QHBqsmQp72L2tM",
      "include_colab_link": true
    },
    "kernelspec": {
      "name": "python3",
      "display_name": "Python 3"
    },
    "language_info": {
      "name": "python"
    }
  },
  "cells": [
    {
      "cell_type": "markdown",
      "metadata": {
        "id": "view-in-github",
        "colab_type": "text"
      },
      "source": [
        "<a href=\"https://colab.research.google.com/github/v1nnyb0y/leetcode/blob/master/LinkedListAndTree/144_BinaryTreePreorderTraversal.ipynb\" target=\"_parent\"><img src=\"https://colab.research.google.com/assets/colab-badge.svg\" alt=\"Open In Colab\"/></a>"
      ]
    },
    {
      "cell_type": "code",
      "execution_count": null,
      "metadata": {
        "id": "NEKSU5E6-yEo"
      },
      "outputs": [],
      "source": [
        "# Definition for a binary tree node.\n",
        "# class TreeNode:\n",
        "#     def __init__(self, val=0, left=None, right=None):\n",
        "#         self.val = val\n",
        "#         self.left = left\n",
        "#         self.right = right\n",
        "class Solution:\n",
        "    def preorderTraversal(self, root: Optional[TreeNode]) -> List[int]:\n",
        "        def dfs(node):\n",
        "            if not node:\n",
        "                return\n",
        "            pre_order.append(node.val)\n",
        "            dfs(node.left)\n",
        "            dfs(node.right)\n",
        "        \n",
        "        pre_order = []\n",
        "        dfs(root)\n",
        "        return pre_order"
      ]
    }
  ]
}