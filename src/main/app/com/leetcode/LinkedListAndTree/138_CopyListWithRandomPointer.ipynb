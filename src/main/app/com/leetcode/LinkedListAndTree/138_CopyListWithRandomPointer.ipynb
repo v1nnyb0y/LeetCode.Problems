{
  "nbformat": 4,
  "nbformat_minor": 0,
  "metadata": {
    "colab": {
      "name": "138.ipynb",
      "provenance": [],
      "authorship_tag": "ABX9TyMnSHWlexjhElgWWgSONO5m",
      "include_colab_link": true
    },
    "kernelspec": {
      "name": "python3",
      "display_name": "Python 3"
    },
    "language_info": {
      "name": "python"
    }
  },
  "cells": [
    {
      "cell_type": "markdown",
      "metadata": {
        "id": "view-in-github",
        "colab_type": "text"
      },
      "source": [
        "<a href=\"https://colab.research.google.com/github/v1nnyb0y/leetcode/blob/master/LinkedListAndTree/138_CopyListWithRandomPointer.ipynb\" target=\"_parent\"><img src=\"https://colab.research.google.com/assets/colab-badge.svg\" alt=\"Open In Colab\"/></a>"
      ]
    },
    {
      "cell_type": "code",
      "execution_count": null,
      "metadata": {
        "id": "6HtZvE0naptc"
      },
      "outputs": [],
      "source": [
        "\"\"\"\n",
        "# Definition for a Node.\n",
        "class Node:\n",
        "    def __init__(self, x: int, next: 'Node' = None, random: 'Node' = None):\n",
        "        self.val = int(x)\n",
        "        self.next = next\n",
        "        self.random = random\n",
        "\"\"\"\n",
        "\n",
        "class Solution:\n",
        "    def copyRandomList(self, root: 'Optional[Node]') -> 'Optional[Node]':\n",
        "        memo = {}\n",
        "        def deepcopy(n):\n",
        "            # Trivial Returns\n",
        "            if not n:\n",
        "                return\n",
        "            if n in memo:\n",
        "                return memo[n]\n",
        "            #\n",
        "            # Create node and register it immediately (to break cycles)\n",
        "            memo[n] = new = Node( n.val )\n",
        "            #\n",
        "            # Fix Node Properties\n",
        "            new.next   = deepcopy(n.next  )\n",
        "            new.random = deepcopy(n.random)\n",
        "            return new\n",
        "        return deepcopy(root)"
      ]
    }
  ]
}