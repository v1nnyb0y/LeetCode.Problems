{
  "nbformat": 4,
  "nbformat_minor": 0,
  "metadata": {
    "colab": {
      "name": "99.ipynb",
      "provenance": [],
      "authorship_tag": "ABX9TyM1faKrd9fg8imwruvqG5//",
      "include_colab_link": true
    },
    "kernelspec": {
      "name": "python3",
      "display_name": "Python 3"
    },
    "language_info": {
      "name": "python"
    }
  },
  "cells": [
    {
      "cell_type": "markdown",
      "metadata": {
        "id": "view-in-github",
        "colab_type": "text"
      },
      "source": [
        "<a href=\"https://colab.research.google.com/github/v1nnyb0y/leetcode/blob/master/LinkedListAndTree/99_RecoverBinarySearchTree.ipynb\" target=\"_parent\"><img src=\"https://colab.research.google.com/assets/colab-badge.svg\" alt=\"Open In Colab\"/></a>"
      ]
    },
    {
      "cell_type": "code",
      "execution_count": null,
      "metadata": {
        "id": "kj8OXH9q2Elp"
      },
      "outputs": [],
      "source": [
        "# Definition for a binary tree node.\n",
        "# class TreeNode:\n",
        "#     def __init__(self, val=0, left=None, right=None):\n",
        "#         self.val = val\n",
        "#         self.left = left\n",
        "#         self.right = right\n",
        "class Solution:\n",
        "    def recoverTree(self, root: Optional[TreeNode]) -> None:\n",
        "        \"\"\"\n",
        "        Do not return anything, modify root in-place instead.\n",
        "        \"\"\"\n",
        "        stack = []\n",
        "        trav = root\n",
        "        prev = None\n",
        "        left = None\n",
        "        right = None\n",
        "        while stack or trav:\n",
        "            if trav:\n",
        "                stack.append(trav)\n",
        "                trav = trav.left\n",
        "            else:\n",
        "                u = stack.pop()\n",
        "                if prev and prev.val > u.val:\n",
        "                    if not left:\n",
        "                        left = prev\n",
        "                        curr = u\n",
        "                    else:\n",
        "                        right = u\n",
        "                prev = u\n",
        "                trav = u.right\n",
        "        if right:\n",
        "            left.val, right.val = right.val, left.val\n",
        "        else:\n",
        "            left.val, curr.val = curr.val, left.val"
      ]
    }
  ]
}