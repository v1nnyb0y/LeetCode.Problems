{
  "nbformat": 4,
  "nbformat_minor": 0,
  "metadata": {
    "colab": {
      "name": "61.ipynb",
      "provenance": [],
      "authorship_tag": "ABX9TyNYRp4qV6LXsHknhH5ETlcr",
      "include_colab_link": true
    },
    "kernelspec": {
      "name": "python3",
      "display_name": "Python 3"
    },
    "language_info": {
      "name": "python"
    }
  },
  "cells": [
    {
      "cell_type": "markdown",
      "metadata": {
        "id": "view-in-github",
        "colab_type": "text"
      },
      "source": [
        "<a href=\"https://colab.research.google.com/github/v1nnyb0y/leetcode/blob/master/LinkedListAndTree/61_RotateList.ipynb\" target=\"_parent\"><img src=\"https://colab.research.google.com/assets/colab-badge.svg\" alt=\"Open In Colab\"/></a>"
      ]
    },
    {
      "cell_type": "code",
      "execution_count": null,
      "metadata": {
        "id": "-apa0XPB2Tzw"
      },
      "outputs": [],
      "source": [
        "# Definition for singly-linked list.\n",
        "# class ListNode:\n",
        "#     def __init__(self, val=0, next=None):\n",
        "#         self.val = val\n",
        "#         self.next = next\n",
        "class Solution:\n",
        "    def rotateRight(self, head: Optional[ListNode], k: int) -> Optional[ListNode]:\n",
        "        if not head:\n",
        "            return\n",
        "        nxt = head\n",
        "        leng = 1\n",
        "        while head.next:\n",
        "            head = head.next\n",
        "            leng += 1\n",
        "        head.next = nxt\n",
        "        k = k % leng\n",
        "        cut = leng - k - 1\n",
        "        for _ in range(cut):\n",
        "            nxt = nxt.next\n",
        "        ans, nxt.next = nxt.next, None\n",
        "        return ans"
      ]
    }
  ]
}