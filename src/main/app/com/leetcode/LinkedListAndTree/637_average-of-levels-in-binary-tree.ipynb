{
  "nbformat": 4,
  "nbformat_minor": 0,
  "metadata": {
    "colab": {
      "provenance": [],
      "authorship_tag": "ABX9TyONkeTjT0kuxE/iFn7sdXR7",
      "include_colab_link": true
    },
    "kernelspec": {
      "name": "python3",
      "display_name": "Python 3"
    },
    "language_info": {
      "name": "python"
    }
  },
  "cells": [
    {
      "cell_type": "markdown",
      "metadata": {
        "id": "view-in-github",
        "colab_type": "text"
      },
      "source": [
        "<a href=\"https://colab.research.google.com/github/v1nnyb0y/leetcode/blob/master/LinkedListAndTree/637_average-of-levels-in-binary-tree.ipynb\" target=\"_parent\"><img src=\"https://colab.research.google.com/assets/colab-badge.svg\" alt=\"Open In Colab\"/></a>"
      ]
    },
    {
      "cell_type": "code",
      "execution_count": null,
      "metadata": {
        "id": "3G7t90DU1N_q"
      },
      "outputs": [],
      "source": [
        "class Solution:\n",
        "    def averageOfLevels(self, root: Optional[TreeNode]) -> List[float]:\n",
        "        \n",
        "        levels = []\n",
        "        \n",
        "        if not root:\n",
        "            return root\n",
        "        \n",
        "        level = 0\n",
        "        queue = deque([root])\n",
        "        \n",
        "        while queue:\n",
        "            level_length = len(queue)\n",
        "            \n",
        "            levels.append([])\n",
        "            \n",
        "            for i in range(level_length):\n",
        "                \n",
        "                node = queue.popleft()\n",
        "                \n",
        "                levels[level].append(node.val)\n",
        "                \n",
        "                if node.left:\n",
        "                    queue.append(node.left)\n",
        "                if node.right:\n",
        "                    queue.append(node.right)\n",
        "        \n",
        "            level += 1\n",
        "            \n",
        "        result = []\n",
        "        \n",
        "        for level in levels:\n",
        "            result.append(sum(level) / len(level))\n",
        "            \n",
        "        return result"
      ]
    }
  ]
}