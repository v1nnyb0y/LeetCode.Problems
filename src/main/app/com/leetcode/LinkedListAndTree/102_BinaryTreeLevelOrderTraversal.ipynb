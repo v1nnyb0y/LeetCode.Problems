{
  "nbformat": 4,
  "nbformat_minor": 0,
  "metadata": {
    "colab": {
      "name": "102.ipynb",
      "provenance": [],
      "authorship_tag": "ABX9TyOae5tZg8+vwyfHKQ5hI1Rq",
      "include_colab_link": true
    },
    "kernelspec": {
      "name": "python3",
      "display_name": "Python 3"
    },
    "language_info": {
      "name": "python"
    }
  },
  "cells": [
    {
      "cell_type": "markdown",
      "metadata": {
        "id": "view-in-github",
        "colab_type": "text"
      },
      "source": [
        "<a href=\"https://colab.research.google.com/github/v1nnyb0y/leetcode/blob/master/LinkedListAndTree/102_BinaryTreeLevelOrderTraversal.ipynb\" target=\"_parent\"><img src=\"https://colab.research.google.com/assets/colab-badge.svg\" alt=\"Open In Colab\"/></a>"
      ]
    },
    {
      "cell_type": "code",
      "execution_count": null,
      "metadata": {
        "id": "cmm8cCE5EEX-"
      },
      "outputs": [],
      "source": [
        "# Definition for a binary tree node.\n",
        "# class TreeNode:\n",
        "#     def __init__(self, val=0, left=None, right=None):\n",
        "#         self.val = val\n",
        "#         self.left = left\n",
        "#         self.right = right\n",
        "class Solution:\n",
        "    def levelOrder(self, root):\n",
        "        # Corner case.\n",
        "        if not root:\n",
        "            return []\n",
        "        \n",
        "        nodes = []  # Result nodes.\n",
        "        nodeDeque = deque([root])  \n",
        "        # BFS on tree using nodeDeque.\n",
        "        while nodeDeque:\n",
        "            levelLen = len(nodeDeque)\n",
        "            levelNodes = []\n",
        "            for i in range(levelLen):\n",
        "                curNode = nodeDeque.popleft()\n",
        "                levelNodes.append(curNode.val)\n",
        "                if curNode.left:\n",
        "                    nodeDeque.append(curNode.left)\n",
        "                if curNode.right:\n",
        "                    nodeDeque.append(curNode.right)  \n",
        "            nodes.append(levelNodes)\n",
        "            \n",
        "        return nodes\n",
        "        "
      ]
    }
  ]
}