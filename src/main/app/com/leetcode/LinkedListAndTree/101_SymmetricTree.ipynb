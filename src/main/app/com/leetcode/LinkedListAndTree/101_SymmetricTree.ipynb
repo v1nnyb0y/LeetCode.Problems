{
  "nbformat": 4,
  "nbformat_minor": 0,
  "metadata": {
    "colab": {
      "name": "101.ipynb",
      "provenance": [],
      "authorship_tag": "ABX9TyMIWuaJA/XZYP1V/HDbHYVB",
      "include_colab_link": true
    },
    "kernelspec": {
      "name": "python3",
      "display_name": "Python 3"
    },
    "language_info": {
      "name": "python"
    }
  },
  "cells": [
    {
      "cell_type": "markdown",
      "metadata": {
        "id": "view-in-github",
        "colab_type": "text"
      },
      "source": [
        "<a href=\"https://colab.research.google.com/github/v1nnyb0y/leetcode/blob/master/LinkedListAndTree/101_SymmetricTree.ipynb\" target=\"_parent\"><img src=\"https://colab.research.google.com/assets/colab-badge.svg\" alt=\"Open In Colab\"/></a>"
      ]
    },
    {
      "cell_type": "code",
      "execution_count": null,
      "metadata": {
        "id": "whNyV_g3_aRE"
      },
      "outputs": [],
      "source": [
        "# Definition for a binary tree node.\n",
        "# class TreeNode:\n",
        "#     def __init__(self, val=0, left=None, right=None):\n",
        "#         self.val = val\n",
        "#         self.left = left\n",
        "#         self.right = right\n",
        "class Solution:\n",
        "    def compare(self,rootleft,rootright):\n",
        "        if rootleft == None or rootright == None:\n",
        "            return rootleft==rootright\n",
        "        return rootleft.val == rootright.val and self.compare(rootleft.left,rootright.right) and self.compare(rootleft.right,rootright.left)\n",
        "    \n",
        "    def isSymmetric(self, root):\n",
        "        \"\"\"\n",
        "        :type root: TreeNode\n",
        "        :rtype: bool\n",
        "        \"\"\"\n",
        "        if not root:\n",
        "            return True\n",
        "        return self.compare(root.left,root.right)"
      ]
    }
  ]
}