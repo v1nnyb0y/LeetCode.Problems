{
  "nbformat": 4,
  "nbformat_minor": 0,
  "metadata": {
    "colab": {
      "name": "143.ipynb",
      "provenance": [],
      "authorship_tag": "ABX9TyPvkd1I0hQERF0BZTfn45sC",
      "include_colab_link": true
    },
    "kernelspec": {
      "name": "python3",
      "display_name": "Python 3"
    },
    "language_info": {
      "name": "python"
    }
  },
  "cells": [
    {
      "cell_type": "markdown",
      "metadata": {
        "id": "view-in-github",
        "colab_type": "text"
      },
      "source": [
        "<a href=\"https://colab.research.google.com/github/v1nnyb0y/leetcode/blob/master/LinkedListAndTree/143_ReorderList.ipynb\" target=\"_parent\"><img src=\"https://colab.research.google.com/assets/colab-badge.svg\" alt=\"Open In Colab\"/></a>"
      ]
    },
    {
      "cell_type": "code",
      "execution_count": 1,
      "metadata": {
        "id": "W5RJC9OsF-9H",
        "colab": {
          "base_uri": "https://localhost:8080/"
        },
        "outputId": "cb397dd2-f2a3-481d-dc8b-7ba4a6a0aeb9"
      },
      "outputs": [
        {
          "output_type": "execute_result",
          "data": {
            "text/plain": [
              "2"
            ]
          },
          "metadata": {},
          "execution_count": 1
        }
      ],
      "source": [
        "# Definition for singly-linked list.\n",
        "# class ListNode:\n",
        "#     def __init__(self, val=0, next=None):\n",
        "#         self.val = val\n",
        "#         self.next = next\n",
        "class Solution:\n",
        "    def reorderList(self, head: Optional[ListNode]) -> None:\n",
        "        \"\"\"\n",
        "        Do not return anything, modify head in-place instead.\n",
        "        \"\"\"\n",
        "        if not head or not head.next:\n",
        "            return\n",
        "        slow = head\n",
        "        fast = head.next\n",
        "        while fast.next and fast.next.next:\n",
        "            slow = slow.next\n",
        "            fast = fast.next.next\n",
        "        slow = slow.next\n",
        "        if fast.next:\n",
        "            fast = fast.next\n",
        "            \n",
        "        # reverse the second half of the list\n",
        "        prev = slow\n",
        "        curr = slow.next\n",
        "        prev.next = None\n",
        "        while curr:\n",
        "            tmp = curr.next\n",
        "            curr.next = prev\n",
        "            prev = curr\n",
        "            curr = tmp\n",
        "            \n",
        "        # turn the list into zigzag manner\n",
        "        trav = head\n",
        "        while fast.next:\n",
        "            tmp1 = trav.next\n",
        "            tmp2 = fast.next\n",
        "            trav.next = fast\n",
        "            fast.next = tmp1\n",
        "            trav = tmp1\n",
        "            fast = tmp2"
      ]
    }
  ]
}