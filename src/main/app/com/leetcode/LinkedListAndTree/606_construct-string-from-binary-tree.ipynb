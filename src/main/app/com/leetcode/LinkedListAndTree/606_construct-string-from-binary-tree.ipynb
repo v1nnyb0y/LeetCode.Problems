{
  "nbformat": 4,
  "nbformat_minor": 0,
  "metadata": {
    "colab": {
      "provenance": [],
      "authorship_tag": "ABX9TyMtO58XpeQdOuqd53x+ZDVy",
      "include_colab_link": true
    },
    "kernelspec": {
      "name": "python3",
      "display_name": "Python 3"
    },
    "language_info": {
      "name": "python"
    }
  },
  "cells": [
    {
      "cell_type": "markdown",
      "metadata": {
        "id": "view-in-github",
        "colab_type": "text"
      },
      "source": [
        "<a href=\"https://colab.research.google.com/github/v1nnyb0y/leetcode/blob/master/LinkedListAndTree/606_construct-string-from-binary-tree.ipynb\" target=\"_parent\"><img src=\"https://colab.research.google.com/assets/colab-badge.svg\" alt=\"Open In Colab\"/></a>"
      ]
    },
    {
      "cell_type": "code",
      "execution_count": null,
      "metadata": {
        "id": "M1AUFt2-CmsF"
      },
      "outputs": [],
      "source": [
        "class Solution(object):\n",
        "    def tree2str(self, t):\n",
        "        \"\"\"\n",
        "        :type t: TreeNode\n",
        "        :rtype: str\n",
        "        \"\"\"\n",
        "        if not t:\n",
        "            return \"\"\n",
        "        elif not t.left and not t.right:\n",
        "            return str(t.val)\n",
        "        elif not t.right:\n",
        "            s = self.tree2str(t.left)\n",
        "            return str(t.val)+\"(\"+s+\")\"\n",
        "        elif not t.left:\n",
        "            s = self.tree2str(t.right)\n",
        "            return str(t.val)+\"()\"+\"(\"+s+\")\"\n",
        "        l = self.tree2str(t.left)\n",
        "        r = self.tree2str(t.right)\n",
        "        return str(t.val)+\"(\"+l+\")\"+\"(\"+r+\")\""
      ]
    }
  ]
}