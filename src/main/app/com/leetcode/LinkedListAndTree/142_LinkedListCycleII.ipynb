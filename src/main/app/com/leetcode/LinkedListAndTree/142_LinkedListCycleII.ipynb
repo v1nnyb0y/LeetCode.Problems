{
  "nbformat": 4,
  "nbformat_minor": 0,
  "metadata": {
    "colab": {
      "name": "142.ipynb",
      "provenance": [],
      "authorship_tag": "ABX9TyMahk4JKBk47rss6LVfdEt+",
      "include_colab_link": true
    },
    "kernelspec": {
      "name": "python3",
      "display_name": "Python 3"
    },
    "language_info": {
      "name": "python"
    }
  },
  "cells": [
    {
      "cell_type": "markdown",
      "metadata": {
        "id": "view-in-github",
        "colab_type": "text"
      },
      "source": [
        "<a href=\"https://colab.research.google.com/github/v1nnyb0y/leetcode/blob/master/LinkedListAndTree/142_LinkedListCycleII.ipynb\" target=\"_parent\"><img src=\"https://colab.research.google.com/assets/colab-badge.svg\" alt=\"Open In Colab\"/></a>"
      ]
    },
    {
      "cell_type": "code",
      "execution_count": null,
      "metadata": {
        "id": "NuX3lpuU8ozu"
      },
      "outputs": [],
      "source": [
        "class Solution:\n",
        "    def detectCycle(self, head: Optional[ListNode]) -> Optional[ListNode]:\n",
        "        def solve(head):\n",
        "            slow=head\n",
        "            fast=head\n",
        "            while(fast!=None):\n",
        "                fast=fast.next\n",
        "                if fast!=None:\n",
        "                    fast=fast.next\n",
        "                slow=slow.next\n",
        "                if slow==fast and slow!=None:\n",
        "                    slow=head\n",
        "                    while(slow!=fast):\n",
        "                        slow=slow.next\n",
        "                        fast=fast.next\n",
        "                    return slow           \n",
        "            return None\n",
        "        \n",
        "        return solve(head)"
      ]
    }
  ]
}