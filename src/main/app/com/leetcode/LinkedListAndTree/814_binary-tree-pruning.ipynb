{
  "nbformat": 4,
  "nbformat_minor": 0,
  "metadata": {
    "colab": {
      "provenance": [],
      "authorship_tag": "ABX9TyNDW05Vf8dl7eLLhmJpgbTX",
      "include_colab_link": true
    },
    "kernelspec": {
      "name": "python3",
      "display_name": "Python 3"
    },
    "language_info": {
      "name": "python"
    }
  },
  "cells": [
    {
      "cell_type": "markdown",
      "metadata": {
        "id": "view-in-github",
        "colab_type": "text"
      },
      "source": [
        "<a href=\"https://colab.research.google.com/github/v1nnyb0y/leetcode/blob/master/LinkedListAndTree/814_binary-tree-pruning.ipynb\" target=\"_parent\"><img src=\"https://colab.research.google.com/assets/colab-badge.svg\" alt=\"Open In Colab\"/></a>"
      ]
    },
    {
      "cell_type": "code",
      "execution_count": null,
      "metadata": {
        "id": "ZfZmSbSU4f2E"
      },
      "outputs": [],
      "source": [
        "class Solution(object):\n",
        "    def pruneTree(self, root):\n",
        "        \"\"\"\n",
        "        :type root: TreeNode\n",
        "        :rtype: TreeNode\n",
        "        \"\"\"\n",
        "        if not root:\n",
        "            return\n",
        "        elif not root.right and not root.left:\n",
        "            if root.val != 1:\n",
        "                return\n",
        "            else:\n",
        "                return root\n",
        "        l = self.pruneTree(root.left)\n",
        "        r = self.pruneTree(root.right)\n",
        "        if root.val != 1 and not l and not r:\n",
        "            return\n",
        "        else:\n",
        "            root.left = l\n",
        "            root.right = r\n",
        "            return root"
      ]
    }
  ]
}