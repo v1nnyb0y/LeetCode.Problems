{
  "nbformat": 4,
  "nbformat_minor": 0,
  "metadata": {
    "colab": {
      "name": "187.ipynb",
      "provenance": [],
      "authorship_tag": "ABX9TyNiWsDYT/EDFKF0FT3rO9Vf",
      "include_colab_link": true
    },
    "kernelspec": {
      "name": "python3",
      "display_name": "Python 3"
    },
    "language_info": {
      "name": "python"
    }
  },
  "cells": [
    {
      "cell_type": "markdown",
      "metadata": {
        "id": "view-in-github",
        "colab_type": "text"
      },
      "source": [
        "<a href=\"https://colab.research.google.com/github/v1nnyb0y/leetcode/blob/master/Array/187_RepeatedDNASequence.ipynb\" target=\"_parent\"><img src=\"https://colab.research.google.com/assets/colab-badge.svg\" alt=\"Open In Colab\"/></a>"
      ]
    },
    {
      "cell_type": "code",
      "execution_count": null,
      "metadata": {
        "id": "010oJlYTUIXZ"
      },
      "outputs": [],
      "source": [
        "class Solution:\n",
        "    def findRepeatedDnaSequences(self, s: str) -> List[str]:\n",
        "        seen=set()\n",
        "        res=set()\n",
        "        for i in range(len(s)-9):\n",
        "            if(s[i:i+10] not in seen):\n",
        "                seen.add(s[i:i+10])\n",
        "            else:\n",
        "                res.add(s[i:i+10])\n",
        "        return list(res)"
      ]
    }
  ]
}