{
  "nbformat": 4,
  "nbformat_minor": 0,
  "metadata": {
    "colab": {
      "name": "56.ipynb",
      "provenance": [],
      "authorship_tag": "ABX9TyN9+vbzMrtfbxNCzB4hSC61",
      "include_colab_link": true
    },
    "kernelspec": {
      "name": "python3",
      "display_name": "Python 3"
    },
    "language_info": {
      "name": "python"
    }
  },
  "cells": [
    {
      "cell_type": "markdown",
      "metadata": {
        "id": "view-in-github",
        "colab_type": "text"
      },
      "source": [
        "<a href=\"https://colab.research.google.com/github/v1nnyb0y/leetcode/blob/master/Array/56_MergeIntervals.ipynb\" target=\"_parent\"><img src=\"https://colab.research.google.com/assets/colab-badge.svg\" alt=\"Open In Colab\"/></a>"
      ]
    },
    {
      "cell_type": "code",
      "execution_count": null,
      "metadata": {
        "id": "j5cfV1GEhrNZ"
      },
      "outputs": [],
      "source": [
        "class Solution:\n",
        "    def merge(self, intervals: List[List[int]]) -> List[List[int]]:\n",
        "        if not intervals or len(intervals) == 1:\n",
        "            return intervals\n",
        "        \n",
        "        intervals = sorted(intervals, key=lambda x: x[0])\n",
        "        \n",
        "        mergedIntervals = []\n",
        "        \n",
        "        for interval in intervals:\n",
        "            if not mergedIntervals or interval[0] > mergedIntervals[-1][1]:\n",
        "                mergedIntervals.append(interval)\n",
        "            else:\n",
        "                mergedIntervals[-1][1] = max(interval[1], mergedIntervals[-1][1])\n",
        "        \n",
        "        return mergedIntervals"
      ]
    }
  ]
}