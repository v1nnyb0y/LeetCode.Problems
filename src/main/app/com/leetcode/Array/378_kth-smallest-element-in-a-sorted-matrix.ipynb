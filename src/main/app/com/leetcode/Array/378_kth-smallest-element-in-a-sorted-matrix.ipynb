{
  "nbformat": 4,
  "nbformat_minor": 0,
  "metadata": {
    "colab": {
      "name": "378.ipynb",
      "provenance": [],
      "authorship_tag": "ABX9TyMQQh5K6XyANxT4NGmP2+WD",
      "include_colab_link": true
    },
    "kernelspec": {
      "name": "python3",
      "display_name": "Python 3"
    },
    "language_info": {
      "name": "python"
    }
  },
  "cells": [
    {
      "cell_type": "markdown",
      "metadata": {
        "id": "view-in-github",
        "colab_type": "text"
      },
      "source": [
        "<a href=\"https://colab.research.google.com/github/v1nnyb0y/leetcode/blob/master/Array/378_kth-smallest-element-in-a-sorted-matrix.ipynb\" target=\"_parent\"><img src=\"https://colab.research.google.com/assets/colab-badge.svg\" alt=\"Open In Colab\"/></a>"
      ]
    },
    {
      "cell_type": "code",
      "execution_count": null,
      "metadata": {
        "id": "0H-Uh1eyx1ne"
      },
      "outputs": [],
      "source": [
        "class Solution:\n",
        "    def kthSmallest(self, matrix: List[List[int]], k: int) -> int:      \n",
        "        def count_non_bigger(matrix, target):\n",
        "            n, m = len(matrix), len(matrix[0])\n",
        "            cnt = 0\n",
        "            i, j = n - 1, 0\n",
        "            while i >= 0 and j < m:\n",
        "                if matrix[i][j] > target:\n",
        "                    i -= 1\n",
        "                else:\n",
        "                    j += 1\n",
        "                    cnt += i + 1\n",
        "            return cnt\n",
        "        \n",
        "        n, m = len(matrix), len(matrix[0])\n",
        "        low, high = matrix[0][0], matrix[n-1][m-1]\n",
        "        while low < high:\n",
        "            mid = low + (high - low) // 2\n",
        "            count = count_non_bigger(matrix, mid)\n",
        "            if count < k:\n",
        "                low = mid + 1\n",
        "            else:\n",
        "                high = mid\n",
        "        return low\n",
        "        "
      ]
    }
  ]
}