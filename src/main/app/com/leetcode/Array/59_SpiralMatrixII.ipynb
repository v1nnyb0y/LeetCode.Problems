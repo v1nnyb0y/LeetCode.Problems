{
  "nbformat": 4,
  "nbformat_minor": 0,
  "metadata": {
    "colab": {
      "name": "59.ipynb",
      "provenance": [],
      "authorship_tag": "ABX9TyNUlFBdHbMMHBExYTISlnmZ",
      "include_colab_link": true
    },
    "kernelspec": {
      "name": "python3",
      "display_name": "Python 3"
    },
    "language_info": {
      "name": "python"
    }
  },
  "cells": [
    {
      "cell_type": "markdown",
      "metadata": {
        "id": "view-in-github",
        "colab_type": "text"
      },
      "source": [
        "<a href=\"https://colab.research.google.com/github/v1nnyb0y/leetcode/blob/master/Array/59_SpiralMatrixII.ipynb\" target=\"_parent\"><img src=\"https://colab.research.google.com/assets/colab-badge.svg\" alt=\"Open In Colab\"/></a>"
      ]
    },
    {
      "cell_type": "code",
      "execution_count": null,
      "metadata": {
        "id": "qo_6SsyaXXth"
      },
      "outputs": [],
      "source": [
        "class Solution:\n",
        "    def generateMatrix(self, n: int) -> List[List[int]]:\n",
        "        A = [[0] * n for _ in range(n)]\n",
        "        i, j, di, dj = 0, 0, 0, 1\n",
        "        for k in range(n*n):\n",
        "            A[i][j] = k + 1\n",
        "            if A[(i+di)%n][(j+dj)%n]:\n",
        "                di, dj = dj, -di\n",
        "            i += di\n",
        "            j += dj\n",
        "        return A"
      ]
    }
  ]
}