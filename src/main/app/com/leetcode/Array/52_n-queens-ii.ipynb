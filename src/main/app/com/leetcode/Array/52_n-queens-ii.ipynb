{
  "nbformat": 4,
  "nbformat_minor": 0,
  "metadata": {
    "colab": {
      "name": "52.ipynb",
      "provenance": [],
      "authorship_tag": "ABX9TyOcVYIAW99JnUsOLsnBMBgm",
      "include_colab_link": true
    },
    "kernelspec": {
      "name": "python3",
      "display_name": "Python 3"
    },
    "language_info": {
      "name": "python"
    }
  },
  "cells": [
    {
      "cell_type": "markdown",
      "metadata": {
        "id": "view-in-github",
        "colab_type": "text"
      },
      "source": [
        "<a href=\"https://colab.research.google.com/github/v1nnyb0y/leetcode/blob/master/Array/52_n-queens-ii.ipynb\" target=\"_parent\"><img src=\"https://colab.research.google.com/assets/colab-badge.svg\" alt=\"Open In Colab\"/></a>"
      ]
    },
    {
      "cell_type": "code",
      "execution_count": null,
      "metadata": {
        "id": "5n_0hkau_3e5"
      },
      "outputs": [],
      "source": [
        "class Solution:\n",
        "    def totalNQueens(self, n: int) -> int:\n",
        "        def backtrack(i):\n",
        "            if i == n:\n",
        "                return 1\n",
        "            res = 0\n",
        "            for j in range(n):\n",
        "                if j not in cols and i-j not in diag and i+j not in off_diag:\n",
        "                    cols.add(j)\n",
        "                    diag.add(i-j)\n",
        "                    off_diag.add(i+j)\n",
        "                    res += backtrack(i+1)\n",
        "                    off_diag.remove(i+j)\n",
        "                    diag.remove(i-j)\n",
        "                    cols.remove(j)\n",
        "            return res\n",
        "        cols = set()\n",
        "        diag = set()\n",
        "        off_diag = set()\n",
        "        return backtrack(0)"
      ]
    }
  ]
}