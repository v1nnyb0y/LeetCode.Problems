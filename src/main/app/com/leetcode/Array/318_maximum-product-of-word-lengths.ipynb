{
  "nbformat": 4,
  "nbformat_minor": 0,
  "metadata": {
    "colab": {
      "name": "318.ipynb",
      "provenance": [],
      "authorship_tag": "ABX9TyNYk6zefnwcCU6PuzbSLm2R",
      "include_colab_link": true
    },
    "kernelspec": {
      "name": "python3",
      "display_name": "Python 3"
    },
    "language_info": {
      "name": "python"
    }
  },
  "cells": [
    {
      "cell_type": "markdown",
      "metadata": {
        "id": "view-in-github",
        "colab_type": "text"
      },
      "source": [
        "<a href=\"https://colab.research.google.com/github/v1nnyb0y/leetcode/blob/master/Array/318_maximum-product-of-word-lengths.ipynb\" target=\"_parent\"><img src=\"https://colab.research.google.com/assets/colab-badge.svg\" alt=\"Open In Colab\"/></a>"
      ]
    },
    {
      "cell_type": "code",
      "execution_count": null,
      "metadata": {
        "id": "SOkTg-7IOrKs"
      },
      "outputs": [],
      "source": [
        "class Solution:\n",
        "    def maxProduct(self, words):\n",
        "        ans = 0\n",
        "        \n",
        "        words_set = []\n",
        "        for word in words:\n",
        "            words_set.append(set(word))\n",
        "        \n",
        "        for i in range(1, len(words)):\n",
        "            for j in range(i):\n",
        "                if not words_set[i].intersection(words_set[j]):\n",
        "                    ans = max(ans, len(words[i]) * len(words[j]))\n",
        "        return ans"
      ]
    }
  ]
}