{
  "nbformat": 4,
  "nbformat_minor": 0,
  "metadata": {
    "colab": {
      "name": "1338.ipynb",
      "provenance": [],
      "authorship_tag": "ABX9TyPHopIjJ0TTmZ0fKZ5l1xoa",
      "include_colab_link": true
    },
    "kernelspec": {
      "name": "python3",
      "display_name": "Python 3"
    },
    "language_info": {
      "name": "python"
    }
  },
  "cells": [
    {
      "cell_type": "markdown",
      "metadata": {
        "id": "view-in-github",
        "colab_type": "text"
      },
      "source": [
        "<a href=\"https://colab.research.google.com/github/v1nnyb0y/leetcode/blob/master/Array/1338_reduce-array-size-to-the-half.ipynb\" target=\"_parent\"><img src=\"https://colab.research.google.com/assets/colab-badge.svg\" alt=\"Open In Colab\"/></a>"
      ]
    },
    {
      "cell_type": "code",
      "execution_count": null,
      "metadata": {
        "id": "tpAYY6VUtzx3"
      },
      "outputs": [],
      "source": [
        "class Solution:\n",
        "    def minSetSize(self, arr: List[int]) -> int:\n",
        "        freq  = collections.Counter(arr)\n",
        "        total = 0\n",
        "        n = len(arr)//2\n",
        "        for i,x in enumerate(sorted(freq, key = lambda x:freq[x], reverse=True)):\n",
        "            total += freq[x]\n",
        "            if total>= n:\n",
        "                return i+1\n",
        "        return 2*n"
      ]
    }
  ]
}