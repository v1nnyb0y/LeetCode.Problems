{
  "nbformat": 4,
  "nbformat_minor": 0,
  "metadata": {
    "colab": {
      "name": "66.ipynb",
      "provenance": [],
      "authorship_tag": "ABX9TyM7w7JL9FQmf3doCHx433jr",
      "include_colab_link": true
    },
    "kernelspec": {
      "name": "python3",
      "display_name": "Python 3"
    },
    "language_info": {
      "name": "python"
    }
  },
  "cells": [
    {
      "cell_type": "markdown",
      "metadata": {
        "id": "view-in-github",
        "colab_type": "text"
      },
      "source": [
        "<a href=\"https://colab.research.google.com/github/v1nnyb0y/leetcode/blob/master/Array/66_PlusOne.ipynb\" target=\"_parent\"><img src=\"https://colab.research.google.com/assets/colab-badge.svg\" alt=\"Open In Colab\"/></a>"
      ]
    },
    {
      "cell_type": "code",
      "execution_count": null,
      "metadata": {
        "id": "v9oi9Y-_N2lW"
      },
      "outputs": [],
      "source": [
        "class Solution:\n",
        "    def plusOne(self, digits: List[int]) -> List[int]:\n",
        "        i = len(digits) - 1\n",
        "        inc = 1\n",
        "        while i >= 0:\n",
        "            d = digits[i]\n",
        "            d += inc\n",
        "            if d == 10:\n",
        "                digits[i] = 0\n",
        "                inc = 1\n",
        "                i -= 1\n",
        "            else:\n",
        "                digits[i] = d\n",
        "                inc = 0\n",
        "                return digits\n",
        "        \n",
        "        if inc == 1:\n",
        "            digits = [1] + digits\n",
        "        return digits"
      ]
    }
  ]
}