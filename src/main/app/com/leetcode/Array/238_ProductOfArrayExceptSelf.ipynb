{
  "nbformat": 4,
  "nbformat_minor": 0,
  "metadata": {
    "colab": {
      "name": "238.ipynb",
      "provenance": [],
      "authorship_tag": "ABX9TyOBWmeIT+qTo3jA+IllE3bW",
      "include_colab_link": true
    },
    "kernelspec": {
      "name": "python3",
      "display_name": "Python 3"
    },
    "language_info": {
      "name": "python"
    }
  },
  "cells": [
    {
      "cell_type": "markdown",
      "metadata": {
        "id": "view-in-github",
        "colab_type": "text"
      },
      "source": [
        "<a href=\"https://colab.research.google.com/github/v1nnyb0y/leetcode/blob/master/Array/238_ProductOfArrayExceptSelf.ipynb\" target=\"_parent\"><img src=\"https://colab.research.google.com/assets/colab-badge.svg\" alt=\"Open In Colab\"/></a>"
      ]
    },
    {
      "cell_type": "code",
      "execution_count": null,
      "metadata": {
        "id": "vTWpjFYUCwWg"
      },
      "outputs": [],
      "source": [
        "class Solution:\n",
        "    def productExceptSelf(self, nums: List[int]) -> List[int]:\n",
        "        output = [1] * len(nums)\n",
        "        \n",
        "        # multiply by the left side\n",
        "        left_product = 1\n",
        "        for i in range(1, len(nums)):\n",
        "            left_product *= nums[i-1]\n",
        "            output[i] = left_product\n",
        "        \n",
        "        # multiply by the right side\n",
        "        right_product = 1\n",
        "        for i in range(len(nums)-2, -1, -1):\n",
        "            right_product *= nums[i+1]\n",
        "            output[i] *= right_product\n",
        "        \n",
        "        return output"
      ]
    }
  ]
}