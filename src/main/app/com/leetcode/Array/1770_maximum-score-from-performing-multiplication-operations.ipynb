{
  "nbformat": 4,
  "nbformat_minor": 0,
  "metadata": {
    "colab": {
      "provenance": [],
      "authorship_tag": "ABX9TyOWwgIUirIL5t6pjd9R9I4p",
      "include_colab_link": true
    },
    "kernelspec": {
      "name": "python3",
      "display_name": "Python 3"
    },
    "language_info": {
      "name": "python"
    }
  },
  "cells": [
    {
      "cell_type": "markdown",
      "metadata": {
        "id": "view-in-github",
        "colab_type": "text"
      },
      "source": [
        "<a href=\"https://colab.research.google.com/github/v1nnyb0y/leetcode/blob/master/Array/1770_maximum-score-from-performing-multiplication-operations.ipynb\" target=\"_parent\"><img src=\"https://colab.research.google.com/assets/colab-badge.svg\" alt=\"Open In Colab\"/></a>"
      ]
    },
    {
      "cell_type": "code",
      "execution_count": null,
      "metadata": {
        "id": "6mg_eGO1OBX2"
      },
      "outputs": [],
      "source": [
        "class Solution:\n",
        "    def maximumScore(self, nums: List[int], mul: List[int]) -> int:\n",
        "        dp = [0] * (len(mul) + 1)\n",
        "        for m in range(len(mul) - 1, -1, -1):\n",
        "            pd = [0] * (m + 1)\n",
        "            for l in range(m, -1, -1):\n",
        "                pd[l] = max(dp[l + 1] + mul[m] * nums[l], \n",
        "                            dp[l] + mul[m] * nums[~(m - l)])\n",
        "            dp = pd\n",
        "        return dp[0]"
      ]
    }
  ]
}