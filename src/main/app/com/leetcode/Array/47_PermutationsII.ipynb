{
  "nbformat": 4,
  "nbformat_minor": 0,
  "metadata": {
    "colab": {
      "name": "47.ipynb",
      "provenance": [],
      "authorship_tag": "ABX9TyPxFTqskZb85Sua7uxHYNRB",
      "include_colab_link": true
    },
    "kernelspec": {
      "name": "python3",
      "display_name": "Python 3"
    },
    "language_info": {
      "name": "python"
    }
  },
  "cells": [
    {
      "cell_type": "markdown",
      "metadata": {
        "id": "view-in-github",
        "colab_type": "text"
      },
      "source": [
        "<a href=\"https://colab.research.google.com/github/v1nnyb0y/leetcode/blob/master/Array/47_PermutationsII.ipynb\" target=\"_parent\"><img src=\"https://colab.research.google.com/assets/colab-badge.svg\" alt=\"Open In Colab\"/></a>"
      ]
    },
    {
      "cell_type": "code",
      "execution_count": null,
      "metadata": {
        "id": "q3vy6mDO7QwW"
      },
      "outputs": [],
      "source": [
        "class Solution:\n",
        "    def permuteUnique(self, nums: List[int]) -> List[List[int]]:\n",
        "        results = []\n",
        "        def backtrack(comb, counter):\n",
        "            if len(comb) == len(nums):\n",
        "                # make a deep copy of the resulting permutation,\n",
        "                # since the permutation would be backtracked later.\n",
        "                results.append(list(comb))\n",
        "                return\n",
        "\n",
        "            for num in counter:\n",
        "                if counter[num] > 0:\n",
        "                    # add this number into the current combination\n",
        "                    comb.append(num)\n",
        "                    counter[num] -= 1\n",
        "                    # continue the exploration\n",
        "                    backtrack(comb, counter)\n",
        "                    # revert the choice for the next exploration\n",
        "                    comb.pop()\n",
        "                    counter[num] += 1\n",
        "\n",
        "        backtrack([], Counter(nums))\n",
        "\n",
        "        return results"
      ]
    }
  ]
}