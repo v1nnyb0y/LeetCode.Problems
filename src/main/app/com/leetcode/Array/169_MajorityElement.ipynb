{
  "nbformat": 4,
  "nbformat_minor": 0,
  "metadata": {
    "colab": {
      "name": "169.ipynb",
      "provenance": [],
      "authorship_tag": "ABX9TyPByTBju8MQlsvf4IdpOUDD",
      "include_colab_link": true
    },
    "kernelspec": {
      "name": "python3",
      "display_name": "Python 3"
    },
    "language_info": {
      "name": "python"
    }
  },
  "cells": [
    {
      "cell_type": "markdown",
      "metadata": {
        "id": "view-in-github",
        "colab_type": "text"
      },
      "source": [
        "<a href=\"https://colab.research.google.com/github/v1nnyb0y/leetcode/blob/master/Array/169_MajorityElement.ipynb\" target=\"_parent\"><img src=\"https://colab.research.google.com/assets/colab-badge.svg\" alt=\"Open In Colab\"/></a>"
      ]
    },
    {
      "cell_type": "code",
      "execution_count": null,
      "metadata": {
        "id": "fZlel4SVsFW_"
      },
      "outputs": [],
      "source": [
        "class Solution:\n",
        "    def majorityElement(self, nums: List[int]) -> int:\n",
        "        counts = collections.Counter(nums)\n",
        "        return max(counts.keys(), key=counts.get)"
      ]
    }
  ]
}