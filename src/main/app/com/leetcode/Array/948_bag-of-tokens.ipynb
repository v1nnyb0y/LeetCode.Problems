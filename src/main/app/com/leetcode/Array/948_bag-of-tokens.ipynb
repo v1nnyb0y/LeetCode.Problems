{
  "nbformat": 4,
  "nbformat_minor": 0,
  "metadata": {
    "colab": {
      "provenance": [],
      "authorship_tag": "ABX9TyN2rbqpfj8tBmdg7f5XUtNX",
      "include_colab_link": true
    },
    "kernelspec": {
      "name": "python3",
      "display_name": "Python 3"
    },
    "language_info": {
      "name": "python"
    }
  },
  "cells": [
    {
      "cell_type": "markdown",
      "metadata": {
        "id": "view-in-github",
        "colab_type": "text"
      },
      "source": [
        "<a href=\"https://colab.research.google.com/github/v1nnyb0y/leetcode/blob/master/Array/948_bag-of-tokens.ipynb\" target=\"_parent\"><img src=\"https://colab.research.google.com/assets/colab-badge.svg\" alt=\"Open In Colab\"/></a>"
      ]
    },
    {
      "cell_type": "code",
      "execution_count": null,
      "metadata": {
        "id": "CWxeIwMwFskS"
      },
      "outputs": [],
      "source": [
        "class Solution:\n",
        "    def bagOfTokensScore(self, tokens: List[int], P: int) -> int:\n",
        "        if not tokens: return 0\n",
        "        maxscore, score, i, j = 0, 0, 0, len(tokens) - 1\n",
        "        tokens.sort()\n",
        "        while i <= j:\n",
        "            if P >= tokens[i]:\n",
        "                P -= tokens[i]\n",
        "                score += 1\n",
        "                i += 1\n",
        "                maxscore = max(maxscore, score)\n",
        "            elif score:\n",
        "                score -= 1\n",
        "                P += tokens[j]\n",
        "                j -= 1\n",
        "            else: break\n",
        "\n",
        "        return maxscore\n",
        "        "
      ]
    }
  ]
}