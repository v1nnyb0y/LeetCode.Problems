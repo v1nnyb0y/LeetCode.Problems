{
  "nbformat": 4,
  "nbformat_minor": 0,
  "metadata": {
    "colab": {
      "name": "36.ipynb",
      "provenance": [],
      "authorship_tag": "ABX9TyNrWN/oSqOW0AUYTn7nrysU",
      "include_colab_link": true
    },
    "kernelspec": {
      "name": "python3",
      "display_name": "Python 3"
    },
    "language_info": {
      "name": "python"
    }
  },
  "cells": [
    {
      "cell_type": "markdown",
      "metadata": {
        "id": "view-in-github",
        "colab_type": "text"
      },
      "source": [
        "<a href=\"https://colab.research.google.com/github/v1nnyb0y/leetcode/blob/master/Array/36_ValidSudoku.ipynb\" target=\"_parent\"><img src=\"https://colab.research.google.com/assets/colab-badge.svg\" alt=\"Open In Colab\"/></a>"
      ]
    },
    {
      "cell_type": "code",
      "execution_count": null,
      "metadata": {
        "id": "x-qoljPAc-3h"
      },
      "outputs": [],
      "source": [
        "class Solution:\n",
        "    def isValidSudoku(self, board: List[List[str]]) -> bool:\n",
        "        def isValidCell(ht, keys, target):\n",
        "            if target == '.':\n",
        "                return True\n",
        "            \n",
        "            for key in keys:\n",
        "                if key in ht:\n",
        "                    for i in ht[key]:\n",
        "                        if i == target:\n",
        "                            return False\n",
        "                    \n",
        "                    ht[key].append(target)\n",
        "                else:\n",
        "                    ht[key] = [target]\n",
        "                    \n",
        "            return True\n",
        "        \n",
        "        n = 9\n",
        "        dict = {}\n",
        "        \n",
        "        for i in range(n):\n",
        "            for j in range(n):\n",
        "                keyRow = 'Row' + str(i)\n",
        "                keyCol = 'Col' + str(j)\n",
        "                \n",
        "                cI = i % 3\n",
        "                cJ = j % 3\n",
        "                keyStart = str(i - cI) + str(j - cJ)\n",
        "                keyEnd = str(i + (2 - cI)) + str(j + (2 - cJ))\n",
        "                keySubBox = 'SubBox' + keyStart + keyEnd\n",
        "                \n",
        "                target = board[i][j]\n",
        "                if not isValidCell(dict, [keyRow, keyCol, keySubBox], target):\n",
        "                    return False\n",
        "        return True"
      ]
    }
  ]
}