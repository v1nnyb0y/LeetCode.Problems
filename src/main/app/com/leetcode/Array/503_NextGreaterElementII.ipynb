{
  "nbformat": 4,
  "nbformat_minor": 0,
  "metadata": {
    "colab": {
      "name": "503.ipynb",
      "provenance": [],
      "authorship_tag": "ABX9TyMXXrmdOpH9Ai4sEgavfdA0",
      "include_colab_link": true
    },
    "kernelspec": {
      "name": "python3",
      "display_name": "Python 3"
    },
    "language_info": {
      "name": "python"
    }
  },
  "cells": [
    {
      "cell_type": "markdown",
      "metadata": {
        "id": "view-in-github",
        "colab_type": "text"
      },
      "source": [
        "<a href=\"https://colab.research.google.com/github/v1nnyb0y/leetcode/blob/master/Array/503_NextGreaterElementII.ipynb\" target=\"_parent\"><img src=\"https://colab.research.google.com/assets/colab-badge.svg\" alt=\"Open In Colab\"/></a>"
      ]
    },
    {
      "cell_type": "code",
      "execution_count": null,
      "metadata": {
        "id": "1RX_g59NWshp"
      },
      "outputs": [],
      "source": [
        "class Solution:\n",
        "    def nextGreaterElements(self, nums: List[int]) -> List[int]:\n",
        "        ans = [-1] * len(nums)\n",
        "        stack = []\n",
        "        for i in range(2 * len(nums) - 1, -1, -1):\n",
        "            while len(stack) > 0 and nums[stack[len(stack) - 1]] <= nums[i % len(nums)]:\n",
        "                stack.pop()\n",
        "            ans[i % len(nums)] = -1 if len(stack) == 0 else nums[stack[len(stack) - 1]]\n",
        "            stack.append(i % len(nums))\n",
        "        \n",
        "        return ans"
      ]
    }
  ]
}