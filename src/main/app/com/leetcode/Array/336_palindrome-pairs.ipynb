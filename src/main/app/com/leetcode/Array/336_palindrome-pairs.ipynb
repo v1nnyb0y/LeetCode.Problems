{
  "nbformat": 4,
  "nbformat_minor": 0,
  "metadata": {
    "colab": {
      "provenance": [],
      "authorship_tag": "ABX9TyMIKBYin3UXJlMkmc1BWjkR",
      "include_colab_link": true
    },
    "kernelspec": {
      "name": "python3",
      "display_name": "Python 3"
    },
    "language_info": {
      "name": "python"
    }
  },
  "cells": [
    {
      "cell_type": "markdown",
      "metadata": {
        "id": "view-in-github",
        "colab_type": "text"
      },
      "source": [
        "<a href=\"https://colab.research.google.com/github/v1nnyb0y/leetcode/blob/master/Array/336_palindrome-pairs.ipynb\" target=\"_parent\"><img src=\"https://colab.research.google.com/assets/colab-badge.svg\" alt=\"Open In Colab\"/></a>"
      ]
    },
    {
      "cell_type": "code",
      "execution_count": null,
      "metadata": {
        "id": "zBjCdDKyZ81v"
      },
      "outputs": [],
      "source": [
        "from collections import defaultdict\n",
        "\n",
        "def is_palin(w):\n",
        "    return w == w[::-1]\n",
        "\n",
        "def f(words):\n",
        "    # [left + mid] + right\n",
        "    d = defaultdict(list)\n",
        "    for i, w in enumerate(words):\n",
        "        for j in range(len(w)):\n",
        "            if is_palin(w[j:]):\n",
        "                d[w[:j]].append(i)\n",
        "    # print(\"left d\", d)\n",
        "    for i, w in enumerate(words):\n",
        "        rev = w[::-1]\n",
        "        if rev in d:\n",
        "            for left_i in d[rev]:\n",
        "                if left_i != i:\n",
        "                    yield [left_i, i]\n",
        "\n",
        "    # left + [mid + right]\n",
        "    d = defaultdict(list)\n",
        "    for i, w in enumerate(words):\n",
        "        for j in range(len(w)+1):\n",
        "            if is_palin(w[:j]):\n",
        "                d[w[j:]].append(i)\n",
        "    # print(\"right d\", d)\n",
        "    for i, w in enumerate(words):\n",
        "        rev = w[::-1]\n",
        "        if rev in d:\n",
        "            for right_i in d[rev]:\n",
        "                if right_i != i:\n",
        "                    yield [i, right_i]\n",
        "\n",
        "\n",
        "class Solution:\n",
        "    def palindromePairs(self, words):\n",
        "        \"\"\"\n",
        "        :type words: List[str]\n",
        "        :rtype: List[List[int]]\n",
        "        \"\"\"\n",
        "        return list(f(words))"
      ]
    }
  ]
}