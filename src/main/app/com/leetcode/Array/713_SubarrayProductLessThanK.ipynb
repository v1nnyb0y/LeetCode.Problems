{
  "nbformat": 4,
  "nbformat_minor": 0,
  "metadata": {
    "colab": {
      "name": "713.ipynb",
      "provenance": [],
      "authorship_tag": "ABX9TyOY7BfEonFM+7UjDQI60hn9",
      "include_colab_link": true
    },
    "kernelspec": {
      "name": "python3",
      "display_name": "Python 3"
    },
    "language_info": {
      "name": "python"
    }
  },
  "cells": [
    {
      "cell_type": "markdown",
      "metadata": {
        "id": "view-in-github",
        "colab_type": "text"
      },
      "source": [
        "<a href=\"https://colab.research.google.com/github/v1nnyb0y/leetcode/blob/master/Array/713_SubarrayProductLessThanK.ipynb\" target=\"_parent\"><img src=\"https://colab.research.google.com/assets/colab-badge.svg\" alt=\"Open In Colab\"/></a>"
      ]
    },
    {
      "cell_type": "code",
      "execution_count": null,
      "metadata": {
        "id": "hoOLtnNQ8yFA"
      },
      "outputs": [],
      "source": [
        "class Solution:\n",
        "    def numSubarrayProductLessThanK(self, nums: List[int], k: int) -> int:\n",
        "        if k <= 1: return 0\n",
        "        prod = 1\n",
        "        ans = left = 0\n",
        "        for right, val in enumerate(nums):\n",
        "            prod *= val\n",
        "            while prod >= k:\n",
        "                prod /= nums[left]\n",
        "                left += 1\n",
        "            ans += right - left + 1\n",
        "        return ans"
      ]
    }
  ]
}