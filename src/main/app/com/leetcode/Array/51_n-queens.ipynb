{
  "nbformat": 4,
  "nbformat_minor": 0,
  "metadata": {
    "colab": {
      "name": "51.ipynb",
      "provenance": [],
      "collapsed_sections": [],
      "authorship_tag": "ABX9TyNfudYq/cFQubTNLH8aZqn4",
      "include_colab_link": true
    },
    "kernelspec": {
      "name": "python3",
      "display_name": "Python 3"
    },
    "language_info": {
      "name": "python"
    }
  },
  "cells": [
    {
      "cell_type": "markdown",
      "metadata": {
        "id": "view-in-github",
        "colab_type": "text"
      },
      "source": [
        "<a href=\"https://colab.research.google.com/github/v1nnyb0y/leetcode/blob/master/Array/51_n-queens.ipynb\" target=\"_parent\"><img src=\"https://colab.research.google.com/assets/colab-badge.svg\" alt=\"Open In Colab\"/></a>"
      ]
    },
    {
      "cell_type": "code",
      "execution_count": null,
      "metadata": {
        "id": "ZnvK5wVVcn3T"
      },
      "outputs": [],
      "source": [
        "class Solution:\n",
        "    def solveNQueens(self, n: 'int') -> 'List[List[str]]':\n",
        "        def backtrack(i):\n",
        "            if i == n:\n",
        "                res.append(list(board))\n",
        "            for j in range(n):\n",
        "                if j not in cols and j-i not in diag and j+i not in off_diag:\n",
        "                    cols.add(j)\n",
        "                    diag.add(j-i)\n",
        "                    off_diag.add(j+i)\n",
        "                    board.append(\".\"*(j)+\"Q\"+\".\"*(n-j-1))\n",
        "                    backtrack(i+1)\n",
        "                    board.pop()\n",
        "                    off_diag.remove(j+i)\n",
        "                    diag.remove(j-i)\n",
        "                    cols.remove(j)\n",
        "        res = []\n",
        "        board = []\n",
        "        cols = set()\n",
        "        diag = set()\n",
        "        off_diag = set()\n",
        "        backtrack(0)\n",
        "        return res"
      ]
    }
  ]
}