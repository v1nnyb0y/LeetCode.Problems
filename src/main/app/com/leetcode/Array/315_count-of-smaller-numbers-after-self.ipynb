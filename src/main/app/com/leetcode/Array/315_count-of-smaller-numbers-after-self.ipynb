{
  "nbformat": 4,
  "nbformat_minor": 0,
  "metadata": {
    "colab": {
      "name": "315.ipynb",
      "provenance": [],
      "authorship_tag": "ABX9TyOyEgGWr/2HbZZkbsnepa9N",
      "include_colab_link": true
    },
    "kernelspec": {
      "name": "python3",
      "display_name": "Python 3"
    },
    "language_info": {
      "name": "python"
    }
  },
  "cells": [
    {
      "cell_type": "markdown",
      "metadata": {
        "id": "view-in-github",
        "colab_type": "text"
      },
      "source": [
        "<a href=\"https://colab.research.google.com/github/v1nnyb0y/leetcode/blob/master/Array/315_count-of-smaller-numbers-after-self.ipynb\" target=\"_parent\"><img src=\"https://colab.research.google.com/assets/colab-badge.svg\" alt=\"Open In Colab\"/></a>"
      ]
    },
    {
      "cell_type": "code",
      "execution_count": null,
      "metadata": {
        "id": "-pLrUbQOILsm"
      },
      "outputs": [],
      "source": [
        "from sortedcontainers import SortedList\n",
        "class Solution:\n",
        "\n",
        "    def countSmaller(self, nums: List[int]) -> List[int]:\n",
        "        counts = []\n",
        "        sorted_nums = SortedList(nums)\n",
        "        for n in nums:\n",
        "            i = sorted_nums.index(n)\n",
        "            counts.append(i)\n",
        "            sorted_nums.remove(n)\n",
        "        return counts\n",
        "\n"
      ]
    }
  ]
}