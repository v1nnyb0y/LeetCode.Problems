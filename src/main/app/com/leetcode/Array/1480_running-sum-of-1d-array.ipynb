{
  "nbformat": 4,
  "nbformat_minor": 0,
  "metadata": {
    "colab": {
      "name": "1480.ipynb",
      "provenance": [],
      "authorship_tag": "ABX9TyO+4xlaqsJ5XAlNz2Lu6Wp9",
      "include_colab_link": true
    },
    "kernelspec": {
      "name": "python3",
      "display_name": "Python 3"
    },
    "language_info": {
      "name": "python"
    }
  },
  "cells": [
    {
      "cell_type": "markdown",
      "metadata": {
        "id": "view-in-github",
        "colab_type": "text"
      },
      "source": [
        "<a href=\"https://colab.research.google.com/github/v1nnyb0y/leetcode/blob/master/Array/1480_running-sum-of-1d-array.ipynb\" target=\"_parent\"><img src=\"https://colab.research.google.com/assets/colab-badge.svg\" alt=\"Open In Colab\"/></a>"
      ]
    },
    {
      "cell_type": "code",
      "execution_count": null,
      "metadata": {
        "id": "ZZw1s9M7ZDkz"
      },
      "outputs": [],
      "source": [
        "class Solution:\n",
        "    def runningSum(self, nums: List[int]) -> List[int]:\n",
        "        lp = 0\n",
        "        rp = 1\n",
        "        while(rp<len(nums)):\n",
        "            sums = nums[lp] + nums[rp]\n",
        "            nums[rp] = sums\n",
        "            rp+=1\n",
        "            lp = rp -1\n",
        "        return nums"
      ]
    }
  ]
}