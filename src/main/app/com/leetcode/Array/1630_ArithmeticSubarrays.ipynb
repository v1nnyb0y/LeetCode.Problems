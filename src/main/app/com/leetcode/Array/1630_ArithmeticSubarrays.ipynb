{
  "nbformat": 4,
  "nbformat_minor": 0,
  "metadata": {
    "colab": {
      "name": "1630.ipynb",
      "provenance": [],
      "authorship_tag": "ABX9TyNgYuaGrQwUq7OsqF3n1U90",
      "include_colab_link": true
    },
    "kernelspec": {
      "name": "python3",
      "display_name": "Python 3"
    },
    "language_info": {
      "name": "python"
    }
  },
  "cells": [
    {
      "cell_type": "markdown",
      "metadata": {
        "id": "view-in-github",
        "colab_type": "text"
      },
      "source": [
        "<a href=\"https://colab.research.google.com/github/v1nnyb0y/leetcode/blob/master/Array/1630_ArithmeticSubarrays.ipynb\" target=\"_parent\"><img src=\"https://colab.research.google.com/assets/colab-badge.svg\" alt=\"Open In Colab\"/></a>"
      ]
    },
    {
      "cell_type": "code",
      "execution_count": null,
      "metadata": {
        "id": "rcMfCmE4ZPZp"
      },
      "outputs": [],
      "source": [
        "class Solution:\n",
        "    def checkArithmeticSubarrays(self, nums: List[int], l: List[int], r: List[int]) -> List[bool]:\n",
        "        m = len(l)\n",
        "        n = len(nums)\n",
        "        ans = []\n",
        "        \n",
        "        for i in range(m):\n",
        "            seq = nums[l[i]:r[i] + 1]\n",
        "            seq.sort()\n",
        "            diff = seq[1] - seq[0]\n",
        "            ansSeq = True\n",
        "            for j in range(2, len(seq)):\n",
        "                if seq[j] - seq[j - 1] != diff:\n",
        "                    ansSeq = False\n",
        "                    break\n",
        "            ans.append(ansSeq)\n",
        "            \n",
        "        return ans"
      ]
    }
  ]
}