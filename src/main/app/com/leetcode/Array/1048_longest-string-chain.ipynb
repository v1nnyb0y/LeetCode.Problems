{
  "nbformat": 4,
  "nbformat_minor": 0,
  "metadata": {
    "colab": {
      "name": "1048.ipynb",
      "provenance": [],
      "authorship_tag": "ABX9TyOk6Ajfge1SK+tsbC9BfFLI",
      "include_colab_link": true
    },
    "kernelspec": {
      "name": "python3",
      "display_name": "Python 3"
    },
    "language_info": {
      "name": "python"
    }
  },
  "cells": [
    {
      "cell_type": "markdown",
      "metadata": {
        "id": "view-in-github",
        "colab_type": "text"
      },
      "source": [
        "<a href=\"https://colab.research.google.com/github/v1nnyb0y/leetcode/blob/master/Array/1048_longest-string-chain.ipynb\" target=\"_parent\"><img src=\"https://colab.research.google.com/assets/colab-badge.svg\" alt=\"Open In Colab\"/></a>"
      ]
    },
    {
      "cell_type": "code",
      "execution_count": null,
      "metadata": {
        "id": "i9R7YRPuIdQg"
      },
      "outputs": [],
      "source": [
        "class Solution:\n",
        "    def longestStrChain(self, words: List[str]) -> int:\n",
        "        words.sort(reverse = True, key = lambda x: len(x))\n",
        "        def helper(a,b):\n",
        "            #if len(a) == 1:\n",
        "                #return b[0] == a or b[1] == a\n",
        "            j = i = 0\n",
        "            while i < len(a):\n",
        "                if a[i] != b[j]:\n",
        "                    if j != i:\n",
        "                        return False\n",
        "                    j += 1\n",
        "                else:\n",
        "                    j += 1\n",
        "                    i += 1\n",
        "            return True\n",
        "            \n",
        "        dp = [1 for _ in range(len(words))]\n",
        "        for i in range(len(words)):\n",
        "            for j in range(i + 1, len(words)):\n",
        "                if len(words[i]) == len(words[j]):\n",
        "                    continue\n",
        "                if len(words[i]) - 1 > len(words[j]):\n",
        "                    break\n",
        "                if helper(words[j], words[i]):\n",
        "                    dp[j] = max(dp[i] + 1, dp[j])\n",
        "        return max(dp)"
      ]
    }
  ]
}