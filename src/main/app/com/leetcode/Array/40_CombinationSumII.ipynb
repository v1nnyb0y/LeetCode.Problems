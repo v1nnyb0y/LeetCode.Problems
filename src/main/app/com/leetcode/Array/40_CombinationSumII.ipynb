{
  "nbformat": 4,
  "nbformat_minor": 0,
  "metadata": {
    "colab": {
      "name": "40.ipynb",
      "provenance": [],
      "authorship_tag": "ABX9TyNcqcnTUYQPpaWmHCjjlsSK",
      "include_colab_link": true
    },
    "kernelspec": {
      "name": "python3",
      "display_name": "Python 3"
    },
    "language_info": {
      "name": "python"
    }
  },
  "cells": [
    {
      "cell_type": "markdown",
      "metadata": {
        "id": "view-in-github",
        "colab_type": "text"
      },
      "source": [
        "<a href=\"https://colab.research.google.com/github/v1nnyb0y/leetcode/blob/master/Array/40_CombinationSumII.ipynb\" target=\"_parent\"><img src=\"https://colab.research.google.com/assets/colab-badge.svg\" alt=\"Open In Colab\"/></a>"
      ]
    },
    {
      "cell_type": "code",
      "execution_count": null,
      "metadata": {
        "id": "MagstPH18WND"
      },
      "outputs": [],
      "source": [
        "class Solution:\n",
        "    def combinationSum2(self, candidates: List[int], target: int) -> List[List[int]]:\n",
        "\n",
        "        def backtrack(comb, remain, curr, results):\n",
        "\n",
        "            if remain == 0:\n",
        "                # make a deep copy of the resulted combination\n",
        "                results.append(list(comb))\n",
        "                return\n",
        "\n",
        "            for next_curr in range(curr, len(candidates)):\n",
        "\n",
        "                if next_curr > curr \\\n",
        "                  and candidates[next_curr] == candidates[next_curr-1]:\n",
        "                    continue\n",
        "\n",
        "                pick = candidates[next_curr]\n",
        "                # optimization: skip the rest of elements starting from 'curr' index\n",
        "                if remain - pick < 0:\n",
        "                    break\n",
        "\n",
        "                comb.append(pick)\n",
        "                backtrack(comb, remain - pick, next_curr + 1, results)\n",
        "                comb.pop()\n",
        "\n",
        "        candidates.sort()\n",
        "\n",
        "        comb, results = [], []\n",
        "        backtrack(comb, target, 0, results)\n",
        "\n",
        "        return results"
      ]
    }
  ]
}