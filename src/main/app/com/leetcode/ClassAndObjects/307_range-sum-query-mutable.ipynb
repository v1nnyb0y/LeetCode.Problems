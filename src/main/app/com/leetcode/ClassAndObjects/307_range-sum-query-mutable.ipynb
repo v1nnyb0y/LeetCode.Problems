{
  "nbformat": 4,
  "nbformat_minor": 0,
  "metadata": {
    "colab": {
      "name": "307.ipynb",
      "provenance": [],
      "authorship_tag": "ABX9TyPUhzBY3KIVw6oNcAu6fxaR",
      "include_colab_link": true
    },
    "kernelspec": {
      "name": "python3",
      "display_name": "Python 3"
    },
    "language_info": {
      "name": "python"
    }
  },
  "cells": [
    {
      "cell_type": "markdown",
      "metadata": {
        "id": "view-in-github",
        "colab_type": "text"
      },
      "source": [
        "<a href=\"https://colab.research.google.com/github/v1nnyb0y/leetcode/blob/master/ClassAndObjects/307_range-sum-query-mutable.ipynb\" target=\"_parent\"><img src=\"https://colab.research.google.com/assets/colab-badge.svg\" alt=\"Open In Colab\"/></a>"
      ]
    },
    {
      "cell_type": "code",
      "execution_count": null,
      "metadata": {
        "id": "M_9Ci4ekBYLh"
      },
      "outputs": [],
      "source": [
        "class Node:\n",
        "    def __init__(self, l, r):\n",
        "        self.l = l\n",
        "        self.r = r\n",
        "        self.v = None\n",
        "        self.left = None\n",
        "        self.right = None\n",
        "\n",
        "\n",
        "class NumArray:\n",
        "    def __init__(self, nums: List[int]):\n",
        "        def _create(node):\n",
        "            if node.l == node.r:\n",
        "                node.v = nums[node.l]\n",
        "            else:\n",
        "                m = (node.l + node.r) // 2\n",
        "                node.left = _create(Node(node.l, m))\n",
        "                node.right = _create(Node(m+1, node.r))\n",
        "                node.v = node.left.v + node.right.v\n",
        "            return node\n",
        "            \n",
        "        self.root = _create(Node(0, len(nums)-1))\n",
        "        \n",
        "    def update(self, i, v):\n",
        "        def _updt(node, i, v):\n",
        "            if node.l == node.r:\n",
        "                node.v = v\n",
        "                return v\n",
        "            \n",
        "            m = (node.l + node.r) // 2\n",
        "            if m >= i:\n",
        "            \t_updt(node.left, i, v)\n",
        "            else:\n",
        "                _updt(node.right, i, v)\n",
        "                \n",
        "            node.v = node.left.v + node.right.v\n",
        "        \n",
        "        _updt(self.root, i, v)\n",
        "        \n",
        "    def sumRange(self, l, r):\n",
        "        def _range(node, l, r):\n",
        "            if node.l == l and node.r == r:\n",
        "                return node.v\n",
        "            \n",
        "            m = (node.l + node.r) // 2\n",
        "            if m >= r:\n",
        "                return _range(node.left, l, r)\n",
        "            elif m < l:\n",
        "                return _range(node.right, l, r)\n",
        "            else:\n",
        "                return _range(node.left, l, m) + _range(node.right, m+1, r)\n",
        "\n",
        "        return _range(self.root, l, r)"
      ]
    }
  ]
}