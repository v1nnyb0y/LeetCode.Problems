{
  "nbformat": 4,
  "nbformat_minor": 0,
  "metadata": {
    "colab": {
      "name": "341.ipynb",
      "provenance": [],
      "authorship_tag": "ABX9TyPamiHkeqTwcpoH+cD/ys4Q",
      "include_colab_link": true
    },
    "kernelspec": {
      "name": "python3",
      "display_name": "Python 3"
    },
    "language_info": {
      "name": "python"
    }
  },
  "cells": [
    {
      "cell_type": "markdown",
      "metadata": {
        "id": "view-in-github",
        "colab_type": "text"
      },
      "source": [
        "<a href=\"https://colab.research.google.com/github/v1nnyb0y/leetcode/blob/master/ClassAndObjects/341_FlattenNestedListIterator.ipynb\" target=\"_parent\"><img src=\"https://colab.research.google.com/assets/colab-badge.svg\" alt=\"Open In Colab\"/></a>"
      ]
    },
    {
      "cell_type": "code",
      "execution_count": null,
      "metadata": {
        "id": "Av3yhbn_IkVt"
      },
      "outputs": [],
      "source": [
        "class NestedIterator:\n",
        "    def __init__(self, nestedList: [NestedInteger]):\n",
        "        \n",
        "        def flatten(items):\n",
        "            for x in items:\n",
        "                if x.getInteger() is not None:\n",
        "                    yield x.getInteger()\n",
        "                else:\n",
        "                    yield from flatten(x.getList())\n",
        "                    \n",
        "        self.g = flatten(nestedList)\n",
        "        self.buff = None\n",
        "    \n",
        "    def next(self) -> int:\n",
        "        if self.buff is not None:\n",
        "            ans = self.buff\n",
        "            self.buff = None\n",
        "            return ans\n",
        "        else:\n",
        "            return next(self.g)\n",
        "    \n",
        "    def hasNext(self) -> bool:\n",
        "        try:\n",
        "            self.buff = next(self.g)\n",
        "            return True\n",
        "        except StopIteration:\n",
        "            return False"
      ]
    }
  ]
}