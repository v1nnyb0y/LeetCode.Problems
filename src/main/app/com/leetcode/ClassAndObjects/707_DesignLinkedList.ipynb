{
  "nbformat": 4,
  "nbformat_minor": 0,
  "metadata": {
    "colab": {
      "name": "707.ipynb",
      "provenance": [],
      "authorship_tag": "ABX9TyOPAuwsYqnq9oRankbs1PSR",
      "include_colab_link": true
    },
    "kernelspec": {
      "name": "python3",
      "display_name": "Python 3"
    },
    "language_info": {
      "name": "python"
    }
  },
  "cells": [
    {
      "cell_type": "markdown",
      "metadata": {
        "id": "view-in-github",
        "colab_type": "text"
      },
      "source": [
        "<a href=\"https://colab.research.google.com/github/v1nnyb0y/leetcode/blob/master/ClassAndObjects/707_DesignLinkedList.ipynb\" target=\"_parent\"><img src=\"https://colab.research.google.com/assets/colab-badge.svg\" alt=\"Open In Colab\"/></a>"
      ]
    },
    {
      "cell_type": "code",
      "execution_count": null,
      "metadata": {
        "id": "oa-e3sEvKFCY"
      },
      "outputs": [],
      "source": [
        "class LinkedNode:\n",
        "    def __init__(self, val=0, next=None):\n",
        "        self.val = val\n",
        "        self.next = next\n",
        "\n",
        "class MyLinkedList:\n",
        "    def __init__(self):\n",
        "        self.head = None\n",
        "        self.size = 0\n",
        "\n",
        "    def get(self, index):\n",
        "        if index>=self.size:\n",
        "            return -1\n",
        "        else:\n",
        "            temp = self.head\n",
        "            for i in range(index):\n",
        "                temp = temp.next\n",
        "            return temp.val\n",
        "\n",
        "    def addAtHead(self, val):\n",
        "        self.head = LinkedNode(val, self.head)\n",
        "        self.size += 1\n",
        "\n",
        "    def addAtTail(self, val):\n",
        "        if self.size==0:\n",
        "            self.head = LinkedNode(val)\n",
        "        else:\n",
        "            temp = self.head\n",
        "            while temp.next!=None:\n",
        "                temp = temp.next\n",
        "            temp.next = LinkedNode(val)\n",
        "        self.size += 1\n",
        "\n",
        "    def addAtIndex(self, index, val):\n",
        "        if index<=self.size:\n",
        "            if index==0:\n",
        "                self.head = LinkedNode(val, self.head)\n",
        "            else:\n",
        "                temp = self.head\n",
        "                prev = self.head\n",
        "                for i in range(index):\n",
        "                    prev = temp\n",
        "                    temp = temp.next\n",
        "                prev.next = LinkedNode(val, temp)\n",
        "            self.size += 1\n",
        "        \n",
        "\n",
        "    def deleteAtIndex(self, index):\n",
        "        if index<self.size:\n",
        "            if index==0:\n",
        "                self.head = self.head.next\n",
        "            else:\n",
        "                temp = self.head\n",
        "                prev = self.head\n",
        "                for i in range(index):\n",
        "                    prev = temp\n",
        "                    temp = temp.next\n",
        "                prev.next = temp.next\n",
        "            self.size -= 1"
      ]
    }
  ]
}