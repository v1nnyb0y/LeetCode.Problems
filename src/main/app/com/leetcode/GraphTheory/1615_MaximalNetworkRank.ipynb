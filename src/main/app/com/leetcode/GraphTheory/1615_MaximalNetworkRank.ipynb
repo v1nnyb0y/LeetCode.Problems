{
  "nbformat": 4,
  "nbformat_minor": 0,
  "metadata": {
    "colab": {
      "name": "1615.ipynb",
      "provenance": [],
      "authorship_tag": "ABX9TyO2RRrwcb9zu5SljEb71aru",
      "include_colab_link": true
    },
    "kernelspec": {
      "name": "python3",
      "display_name": "Python 3"
    },
    "language_info": {
      "name": "python"
    }
  },
  "cells": [
    {
      "cell_type": "markdown",
      "metadata": {
        "id": "view-in-github",
        "colab_type": "text"
      },
      "source": [
        "<a href=\"https://colab.research.google.com/github/v1nnyb0y/leetcode/blob/master/GraphTheory/1615_MaximalNetworkRank.ipynb\" target=\"_parent\"><img src=\"https://colab.research.google.com/assets/colab-badge.svg\" alt=\"Open In Colab\"/></a>"
      ]
    },
    {
      "cell_type": "code",
      "execution_count": null,
      "metadata": {
        "id": "D3qKS0RURBMV"
      },
      "outputs": [],
      "source": [
        "class Solution:\n",
        "    def maximalNetworkRank(self, n: int, roads: List[List[int]]) -> int:\n",
        "        graph = collections.defaultdict(set)\n",
        "        res = 0\n",
        "        for x, y in roads:\n",
        "            graph[x].add(y)\n",
        "            graph[y].add(x)\n",
        "        for i in range(n):\n",
        "            for j in range(i + 1, n):\n",
        "                cnt = len(graph[i]) + len(graph[j])\n",
        "                if j in graph[i]:\n",
        "                    cnt -= 1\n",
        "                res = max(res, cnt)\n",
        "        return res"
      ]
    }
  ]
}