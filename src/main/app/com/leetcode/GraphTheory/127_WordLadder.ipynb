{
  "nbformat": 4,
  "nbformat_minor": 0,
  "metadata": {
    "colab": {
      "name": "127.ipynb",
      "provenance": [],
      "authorship_tag": "ABX9TyPgpHdh/mty3CrjaR8SKyfK",
      "include_colab_link": true
    },
    "kernelspec": {
      "name": "python3",
      "display_name": "Python 3"
    },
    "language_info": {
      "name": "python"
    }
  },
  "cells": [
    {
      "cell_type": "markdown",
      "metadata": {
        "id": "view-in-github",
        "colab_type": "text"
      },
      "source": [
        "<a href=\"https://colab.research.google.com/github/v1nnyb0y/leetcode/blob/master/GraphTheory/127_WordLadder.ipynb\" target=\"_parent\"><img src=\"https://colab.research.google.com/assets/colab-badge.svg\" alt=\"Open In Colab\"/></a>"
      ]
    },
    {
      "cell_type": "code",
      "execution_count": null,
      "metadata": {
        "id": "WOYzXkjlJCoq"
      },
      "outputs": [],
      "source": [
        "class Solution:\n",
        "    def ladderLength(self, beginWord: str, endWord: str, wordList: List[str]) -> int:\n",
        "        if endWord not in wordList:\n",
        "            return 0\n",
        "        \n",
        "        wordList = set(wordList)\n",
        "        \n",
        "        if beginWord in wordList:\n",
        "            wordList.remove(beginWord)\n",
        "        \n",
        "        queue = collections.deque([(beginWord, 1)])\n",
        "        while queue:\n",
        "            cur, level = queue.popleft()\n",
        "            for i in range(len(cur)):\n",
        "                for c in [chr(i) for i in range(ord('a'), ord('z')+1)]:\n",
        "                    trans = cur[:i] + c + cur[i+1:]\n",
        "                    if trans in wordList:\n",
        "                        queue.append((trans, level + 1))\n",
        "                        wordList.remove(trans)\n",
        "                        if trans == endWord:\n",
        "                            return level + 1\n",
        "        return 0"
      ]
    }
  ]
}