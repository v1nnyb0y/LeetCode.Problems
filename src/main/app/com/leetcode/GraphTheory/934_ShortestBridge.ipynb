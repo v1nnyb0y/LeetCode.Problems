{
  "nbformat": 4,
  "nbformat_minor": 0,
  "metadata": {
    "colab": {
      "name": "934.ipynb",
      "provenance": [],
      "authorship_tag": "ABX9TyNLeUsskt+NjzoQAziiMDfe",
      "include_colab_link": true
    },
    "kernelspec": {
      "name": "python3",
      "display_name": "Python 3"
    },
    "language_info": {
      "name": "python"
    }
  },
  "cells": [
    {
      "cell_type": "markdown",
      "metadata": {
        "id": "view-in-github",
        "colab_type": "text"
      },
      "source": [
        "<a href=\"https://colab.research.google.com/github/v1nnyb0y/leetcode/blob/master/GraphTheory/934_ShortestBridge.ipynb\" target=\"_parent\"><img src=\"https://colab.research.google.com/assets/colab-badge.svg\" alt=\"Open In Colab\"/></a>"
      ]
    },
    {
      "cell_type": "code",
      "execution_count": null,
      "metadata": {
        "id": "Wrd9tfwhyqdg"
      },
      "outputs": [],
      "source": [
        "class Solution:\n",
        "    def shortestBridge(self, grid: List[List[int]]) -> int:\n",
        "        nr, nc = len(grid), len(grid[0])\n",
        "    \n",
        "        visited = []\n",
        "        island_id = []\n",
        "        for i in range(nr):\n",
        "            island_id.append([0]*nc)\n",
        "            visited.append([False]*nc)\n",
        "\n",
        "        def dfs(i, j, is_id):\n",
        "            island_id[i][j] = is_id\n",
        "            visited[i][j] = True\n",
        "            if i-1 >= 0 and grid[i-1][j] == 1 and visited[i-1][j] == False:\n",
        "                dfs(i-1, j, is_id)\n",
        "            if i+1 < nr and grid[i+1][j] == 1 and visited[i+1][j] == False:\n",
        "                dfs(i+1, j, is_id)\n",
        "            if j-1 >= 0 and grid[i][j-1] == 1 and visited[i][j-1] == False:\n",
        "                dfs(i, j-1, is_id)\n",
        "            if j+1 < nc and grid[i][j+1] == 1 and visited[i][j+1] == False:\n",
        "                dfs(i, j+1, is_id)\n",
        "\n",
        "        is_id = 0\n",
        "        for i in range(nr):\n",
        "            for j in range(nc):\n",
        "                if grid[i][j] == 1 and visited[i][j] == False:\n",
        "                    is_id += 1\n",
        "                    dfs(i, j, is_id)\n",
        "\n",
        "\n",
        "        q = deque()\n",
        "        seen = set()\n",
        "\n",
        "        for i in range(nr):\n",
        "            for j in range(nc):\n",
        "                if island_id[i][j] == 1:\n",
        "                    q.append((i, j, 0))\n",
        "                    seen.add((i, j))\n",
        "\n",
        "        ans = float('inf')\n",
        "\n",
        "        while q:\n",
        "            i, j, dist = q.popleft()\n",
        "            if island_id[i][j] == 2:\n",
        "                ans = min(ans, dist-1)\n",
        "                continue\n",
        "\n",
        "            if dist+1 >= ans:\n",
        "                continue\n",
        "\n",
        "            if (i-1, j) not in seen and i-1 >= 0:\n",
        "                q.append((i-1, j, dist+1))\n",
        "                seen.add((i-1, j))\n",
        "            if (i+1, j) not in seen and i+1 < nr:\n",
        "                q.append((i+1, j, dist+1))\n",
        "                seen.add((i+1, j))\n",
        "            if (i, j-1) not in seen and j-1 >= 0:\n",
        "                q.append((i, j-1, dist+1))\n",
        "                seen.add((i, j-1))\n",
        "            if (i, j+1) not in seen and j+1 < nc:\n",
        "                q.append((i, j+1, dist+1))\n",
        "                seen.add((i, j+1))\n",
        "\n",
        "        return ans"
      ]
    }
  ]
}