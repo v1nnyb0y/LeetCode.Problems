{
  "nbformat": 4,
  "nbformat_minor": 0,
  "metadata": {
    "colab": {
      "name": "1379.ipynb",
      "provenance": [],
      "authorship_tag": "ABX9TyNLEMEOrgoJBqagxDDKYAIT",
      "include_colab_link": true
    },
    "kernelspec": {
      "name": "python3",
      "display_name": "Python 3"
    },
    "language_info": {
      "name": "python"
    }
  },
  "cells": [
    {
      "cell_type": "markdown",
      "metadata": {
        "id": "view-in-github",
        "colab_type": "text"
      },
      "source": [
        "<a href=\"https://colab.research.google.com/github/v1nnyb0y/leetcode/blob/master/GraphTheory/1379_find-a-corresponding-node-of-a-binary-tree-in-a-clone-of-that-tree.ipynb\" target=\"_parent\"><img src=\"https://colab.research.google.com/assets/colab-badge.svg\" alt=\"Open In Colab\"/></a>"
      ]
    },
    {
      "cell_type": "code",
      "execution_count": null,
      "metadata": {
        "id": "1TfQfn9ypVK_"
      },
      "outputs": [],
      "source": [
        "class Solution:\n",
        "    def getTargetCopy(self, original: TreeNode, cloned: TreeNode, target: TreeNode) -> TreeNode:\n",
        "    \n",
        "        family = {}\n",
        "        queue = [(original, None, None)] # node, parent, direction\n",
        "        while queue:\n",
        "            node, parent, direction = queue.pop(0)\n",
        "            family[node] = (parent, direction)\n",
        "            if node == target:\n",
        "                break\n",
        "            if node.left:\n",
        "                queue.append((node.left, node, 'l'))\n",
        "            if node.right:\n",
        "                queue.append((node.right, node, 'r'))\n",
        "                \n",
        "        roadmap = \"\"\n",
        "        q = target\n",
        "        while q:\n",
        "            parent, direction = family[q]\n",
        "            if parent is not None:\n",
        "                roadmap = direction + roadmap\n",
        "            q = parent\n",
        "           \n",
        "        cur = cloned\n",
        "        for direction in roadmap:\n",
        "            cur = cur.right if direction == 'r' else cur.left\n",
        "        return cur      "
      ]
    }
  ]
}