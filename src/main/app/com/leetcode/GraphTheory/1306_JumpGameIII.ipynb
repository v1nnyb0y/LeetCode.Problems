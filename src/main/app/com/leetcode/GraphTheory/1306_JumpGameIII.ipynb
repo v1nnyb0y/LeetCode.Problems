{
  "nbformat": 4,
  "nbformat_minor": 0,
  "metadata": {
    "colab": {
      "name": "1306.ipynb",
      "provenance": [],
      "authorship_tag": "ABX9TyM7UTri8SjfhMYrmLyrLzp4",
      "include_colab_link": true
    },
    "kernelspec": {
      "name": "python3",
      "display_name": "Python 3"
    },
    "language_info": {
      "name": "python"
    }
  },
  "cells": [
    {
      "cell_type": "markdown",
      "metadata": {
        "id": "view-in-github",
        "colab_type": "text"
      },
      "source": [
        "<a href=\"https://colab.research.google.com/github/v1nnyb0y/leetcode/blob/master/GraphTheory/1306_JumpGameIII.ipynb\" target=\"_parent\"><img src=\"https://colab.research.google.com/assets/colab-badge.svg\" alt=\"Open In Colab\"/></a>"
      ]
    },
    {
      "cell_type": "code",
      "execution_count": null,
      "metadata": {
        "id": "WqypM2MxHEYV"
      },
      "outputs": [],
      "source": [
        "class Solution:\n",
        "    def canReach(self, A, s):\n",
        "        vis = defaultdict(bool)\n",
        "        this_level = [s]\n",
        "        while this_level:\n",
        "            next_level = []\n",
        "            while this_level:\n",
        "                x = this_level.pop()\n",
        "                if A[x]==0: return True\n",
        "                vis[x] = 1\n",
        "                for y in (x-A[x],x+A[x]):\n",
        "                    if 0<=y<=len(A)-1 and not vis[y]:\n",
        "                        next_level.append(y)\n",
        "            this_level = next_level\n",
        "        return False\n",
        "        "
      ]
    }
  ]
}