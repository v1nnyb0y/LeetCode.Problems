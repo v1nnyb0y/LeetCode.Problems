{
  "nbformat": 4,
  "nbformat_minor": 0,
  "metadata": {
    "colab": {
      "name": "1192.ipynb",
      "provenance": [],
      "authorship_tag": "ABX9TyPfMHUkH7g+eU4DrWxeg83Q",
      "include_colab_link": true
    },
    "kernelspec": {
      "name": "python3",
      "display_name": "Python 3"
    },
    "language_info": {
      "name": "python"
    }
  },
  "cells": [
    {
      "cell_type": "markdown",
      "metadata": {
        "id": "view-in-github",
        "colab_type": "text"
      },
      "source": [
        "<a href=\"https://colab.research.google.com/github/v1nnyb0y/leetcode/blob/master/GraphTheory/1192_critical-connections-in-a-network.ipynb\" target=\"_parent\"><img src=\"https://colab.research.google.com/assets/colab-badge.svg\" alt=\"Open In Colab\"/></a>"
      ]
    },
    {
      "cell_type": "code",
      "execution_count": null,
      "metadata": {
        "id": "UcYHHtr4EdVS"
      },
      "outputs": [],
      "source": [
        "class Solution:\n",
        "    def criticalConnections(self, n: int, edges: List[List[int]]) -> List[List[int]]:\n",
        "        #tarjans algorithm - cut edge (Articulation edges)\n",
        "        graph = [[] for _ in range(n)]\n",
        "        for x,y in edges:\n",
        "            graph[x].append(y)\n",
        "            graph[y].append(x)\n",
        "        seen = [False]*n\n",
        "        low = [None]*n\n",
        "        time = [None]*n\n",
        "        t = [0]\n",
        "        res = []\n",
        "        \n",
        "        \n",
        "        def dfs(node,parent=None):\n",
        "            seen[node] = True\n",
        "            low[node] = time[node] = t[0]\n",
        "            t[0] += 1\n",
        "    \n",
        "            for nei in graph[node]:\n",
        "                if parent == nei:\n",
        "                    continue\n",
        "                if seen[nei]:\n",
        "                    low[node] = min(low[node],time[nei])\n",
        "                else:\n",
        "                    dfs(nei,node)\n",
        "                    low[node ] = min(low[node],low[nei])\n",
        "                    if low[nei] > time[node]:\n",
        "                        res.append([node,nei])\n",
        "                \n",
        "        for i in range(n):\n",
        "            if seen[i] == False:\n",
        "                dfs(i)\n",
        "        return res"
      ]
    }
  ]
}