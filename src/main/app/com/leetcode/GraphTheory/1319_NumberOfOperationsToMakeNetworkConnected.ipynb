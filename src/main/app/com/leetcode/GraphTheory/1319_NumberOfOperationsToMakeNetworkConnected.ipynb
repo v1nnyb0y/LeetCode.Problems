{
  "nbformat": 4,
  "nbformat_minor": 0,
  "metadata": {
    "colab": {
      "name": "1319.ipynb",
      "provenance": [],
      "authorship_tag": "ABX9TyPiPoSAUBY+UDp6zHYtWVHL",
      "include_colab_link": true
    },
    "kernelspec": {
      "name": "python3",
      "display_name": "Python 3"
    },
    "language_info": {
      "name": "python"
    }
  },
  "cells": [
    {
      "cell_type": "markdown",
      "metadata": {
        "id": "view-in-github",
        "colab_type": "text"
      },
      "source": [
        "<a href=\"https://colab.research.google.com/github/v1nnyb0y/leetcode/blob/master/GraphTheory/1319_NumberOfOperationsToMakeNetworkConnected.ipynb\" target=\"_parent\"><img src=\"https://colab.research.google.com/assets/colab-badge.svg\" alt=\"Open In Colab\"/></a>"
      ]
    },
    {
      "cell_type": "code",
      "execution_count": null,
      "metadata": {
        "id": "bqtuZtiWV7d3"
      },
      "outputs": [],
      "source": [
        "class Solution:\n",
        "    def makeConnected(self, n, connections):\n",
        "        if len(connections)<n-1:\n",
        "            return -1\n",
        "        else:\n",
        "            isolated = [{i} for i in range(n)]\n",
        "            isConnected = [[i] for i in range(n)]\n",
        "            for conn in connections:\n",
        "                isConnected[conn[0]].append(conn[1])\n",
        "                isConnected[conn[1]].append(conn[0])\n",
        "            for i in range(len(isConnected)):\n",
        "                if isolated[i]!=None:\n",
        "                    self.addNeighbors(isolated, isConnected, i, i)\n",
        "            return len([i for i in isolated if i!=None])-1\n",
        "    \n",
        "    def addNeighbors(self, isolated, isConnected, master, curr):\n",
        "        for i in isConnected[curr]:\n",
        "            if i not in isolated[master]:\n",
        "                isolated[master].add(i)\n",
        "                isolated[i] = None\n",
        "                self.addNeighbors(isolated, isConnected, master, i)"
      ]
    }
  ]
}