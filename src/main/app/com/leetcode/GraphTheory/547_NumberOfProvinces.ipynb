{
  "nbformat": 4,
  "nbformat_minor": 0,
  "metadata": {
    "colab": {
      "name": "547.ipynb",
      "provenance": [],
      "authorship_tag": "ABX9TyM2Sw3td54620ymPyIJzkNT",
      "include_colab_link": true
    },
    "kernelspec": {
      "name": "python3",
      "display_name": "Python 3"
    },
    "language_info": {
      "name": "python"
    }
  },
  "cells": [
    {
      "cell_type": "markdown",
      "metadata": {
        "id": "view-in-github",
        "colab_type": "text"
      },
      "source": [
        "<a href=\"https://colab.research.google.com/github/v1nnyb0y/leetcode/blob/master/GraphTheory/547_NumberOfProvinces.ipynb\" target=\"_parent\"><img src=\"https://colab.research.google.com/assets/colab-badge.svg\" alt=\"Open In Colab\"/></a>"
      ]
    },
    {
      "cell_type": "code",
      "execution_count": null,
      "metadata": {
        "id": "p4cUydUYUnIS"
      },
      "outputs": [],
      "source": [
        "class Solution:\n",
        "    def findCircleNum(self, isConnected):\n",
        "        provinces = [{i} for i in range(len(isConnected))]\n",
        "        for i in range(len(isConnected)):\n",
        "            if provinces[i]!=None:\n",
        "                self.addNeighbors(provinces, isConnected, i, i)\n",
        "        return len([i for i in provinces if i!=None])\n",
        "    \n",
        "    def addNeighbors(self, provinces, isConnected, master, curr):\n",
        "        for i in range(len(isConnected[curr])):\n",
        "            if isConnected[curr][i]==1 and i not in provinces[master]:\n",
        "                provinces[master].add(i)\n",
        "                provinces[i] = None\n",
        "                self.addNeighbors(provinces, isConnected, master, i)"
      ]
    }
  ]
}