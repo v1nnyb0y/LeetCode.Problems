{
  "nbformat": 4,
  "nbformat_minor": 0,
  "metadata": {
    "colab": {
      "name": "72.ipynb",
      "provenance": [],
      "authorship_tag": "ABX9TyNzwm8X9XLAg+BRSt+oAmJy",
      "include_colab_link": true
    },
    "kernelspec": {
      "name": "python3",
      "display_name": "Python 3"
    },
    "language_info": {
      "name": "python"
    }
  },
  "cells": [
    {
      "cell_type": "markdown",
      "metadata": {
        "id": "view-in-github",
        "colab_type": "text"
      },
      "source": [
        "<a href=\"https://colab.research.google.com/github/v1nnyb0y/leetcode/blob/master/DynamicProgramming/72_EditDistance.ipynb\" target=\"_parent\"><img src=\"https://colab.research.google.com/assets/colab-badge.svg\" alt=\"Open In Colab\"/></a>"
      ]
    },
    {
      "cell_type": "code",
      "execution_count": null,
      "metadata": {
        "id": "I3iIDgS-BhqD"
      },
      "outputs": [],
      "source": [
        "class Solution:\n",
        "    def minDistance(self, word1: str, word2: str) -> int:\n",
        "        matrix = [[0] * (len(word1)+1) for i in range(len(word2)+1)]\n",
        "        \n",
        "        for i in range(len(matrix)):\n",
        "            matrix[i][0] = i\n",
        "        \n",
        "        for i in range(len(matrix[0])):\n",
        "            matrix[0][i] = i\n",
        "            \n",
        "        for r in range(1, len(matrix[0])):\n",
        "            for c in range(1, len(matrix)):\n",
        "                if word1[r-1] == word2[c-1]:\n",
        "                    matrix[c][r] = matrix[c-1][r-1]\n",
        "                else:\n",
        "                    matrix[c][r] = min(matrix[c-1][r], matrix[c][r-1], matrix[c-1][r-1]) + 1\n",
        "        \n",
        "        return matrix[len(word2)][len(word1)]"
      ]
    }
  ]
}