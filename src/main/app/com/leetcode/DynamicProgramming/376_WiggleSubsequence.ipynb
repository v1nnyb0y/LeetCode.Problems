{
  "nbformat": 4,
  "nbformat_minor": 0,
  "metadata": {
    "colab": {
      "name": "376.ipynb",
      "provenance": [],
      "authorship_tag": "ABX9TyOJSCCi/m7GJotVgtur44z/",
      "include_colab_link": true
    },
    "kernelspec": {
      "name": "python3",
      "display_name": "Python 3"
    },
    "language_info": {
      "name": "python"
    }
  },
  "cells": [
    {
      "cell_type": "markdown",
      "metadata": {
        "id": "view-in-github",
        "colab_type": "text"
      },
      "source": [
        "<a href=\"https://colab.research.google.com/github/v1nnyb0y/leetcode/blob/master/DynamicProgramming/376_WiggleSubsequence.ipynb\" target=\"_parent\"><img src=\"https://colab.research.google.com/assets/colab-badge.svg\" alt=\"Open In Colab\"/></a>"
      ]
    },
    {
      "cell_type": "code",
      "execution_count": null,
      "metadata": {
        "id": "gKPukvMj8e01"
      },
      "outputs": [],
      "source": [
        "class Solution:\n",
        "    def wiggleMaxLength(self, nums: List[int]) -> int:\n",
        "        if not nums:\n",
        "            return 0\n",
        "        seq = [0] + [nums[i+1]-nums[i] for i in range(len(nums)-1)]\n",
        "        count = 1\n",
        "        for i in range(1,len(seq)):\n",
        "            if (seq[i] > 0 and seq[i-1] <= 0) or (seq[i] < 0 and seq[i-1] >= 0):\n",
        "                count += 1\n",
        "            elif seq[i] == 0:\n",
        "                seq[i] = seq[i-1]\n",
        "        return count"
      ]
    }
  ]
}