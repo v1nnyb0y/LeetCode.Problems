{
  "nbformat": 4,
  "nbformat_minor": 0,
  "metadata": {
    "colab": {
      "name": "309.ipynb",
      "provenance": [],
      "authorship_tag": "ABX9TyN7c24UjVtzyLu2dGTcFnIm",
      "include_colab_link": true
    },
    "kernelspec": {
      "name": "python3",
      "display_name": "Python 3"
    },
    "language_info": {
      "name": "python"
    }
  },
  "cells": [
    {
      "cell_type": "markdown",
      "metadata": {
        "id": "view-in-github",
        "colab_type": "text"
      },
      "source": [
        "<a href=\"https://colab.research.google.com/github/v1nnyb0y/leetcode/blob/master/DynamicProgramming/309_BestTimeToBuyAndSellStockWithCooldown.ipynb\" target=\"_parent\"><img src=\"https://colab.research.google.com/assets/colab-badge.svg\" alt=\"Open In Colab\"/></a>"
      ]
    },
    {
      "cell_type": "code",
      "execution_count": null,
      "metadata": {
        "id": "eYT7qza_Sioy"
      },
      "outputs": [],
      "source": [
        "class Solution:\n",
        "    def maxProfit(self, prices: List[int]) -> int:\n",
        "        if not prices:\n",
        "            return 0\n",
        "        n = len(prices)\n",
        "        dp  = [0] * (n+1)\n",
        "        min_price = prices[0]\n",
        "        \n",
        "        for i in range(1, n+1):\n",
        "            min_price = min(min_price, prices[i-1]-dp[i-2])\n",
        "            dp[i] = max(dp[i-1], prices[i-1]-min_price)\n",
        "        \n",
        "        return dp[n]\n",
        "\n"
      ]
    }
  ]
}