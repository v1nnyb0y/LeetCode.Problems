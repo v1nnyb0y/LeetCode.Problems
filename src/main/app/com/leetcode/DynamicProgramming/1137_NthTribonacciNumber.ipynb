{
  "nbformat": 4,
  "nbformat_minor": 0,
  "metadata": {
    "colab": {
      "name": "1137.ipynb",
      "provenance": [],
      "authorship_tag": "ABX9TyMW2s1o6YYaI39tMjGOFFBy",
      "include_colab_link": true
    },
    "kernelspec": {
      "name": "python3",
      "display_name": "Python 3"
    },
    "language_info": {
      "name": "python"
    }
  },
  "cells": [
    {
      "cell_type": "markdown",
      "metadata": {
        "id": "view-in-github",
        "colab_type": "text"
      },
      "source": [
        "<a href=\"https://colab.research.google.com/github/v1nnyb0y/leetcode/blob/master/DynamicProgramming/1137_NthTribonacciNumber.ipynb\" target=\"_parent\"><img src=\"https://colab.research.google.com/assets/colab-badge.svg\" alt=\"Open In Colab\"/></a>"
      ]
    },
    {
      "cell_type": "code",
      "execution_count": null,
      "metadata": {
        "id": "Het4ecIU0csJ"
      },
      "outputs": [],
      "source": [
        "class Solution:\n",
        "    def tribonacci(self, n: int) -> int:\n",
        "        trib = [0, 1, 1]\n",
        "        i = 3\n",
        "        while i <= n:\n",
        "            trib.append(trib[i - 3] + trib[i - 2] + trib[i - 1])\n",
        "            i += 1\n",
        "        \n",
        "        return trib[n]"
      ]
    }
  ]
}