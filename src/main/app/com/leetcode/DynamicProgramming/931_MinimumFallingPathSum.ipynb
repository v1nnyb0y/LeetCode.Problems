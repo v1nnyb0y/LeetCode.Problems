{
  "nbformat": 4,
  "nbformat_minor": 0,
  "metadata": {
    "colab": {
      "name": "931.ipynb",
      "provenance": [],
      "authorship_tag": "ABX9TyONMwdY/5pH5AJMCeyip9f6",
      "include_colab_link": true
    },
    "kernelspec": {
      "name": "python3",
      "display_name": "Python 3"
    },
    "language_info": {
      "name": "python"
    }
  },
  "cells": [
    {
      "cell_type": "markdown",
      "metadata": {
        "id": "view-in-github",
        "colab_type": "text"
      },
      "source": [
        "<a href=\"https://colab.research.google.com/github/v1nnyb0y/leetcode/blob/master/DynamicProgramming/931_MinimumFallingPathSum.ipynb\" target=\"_parent\"><img src=\"https://colab.research.google.com/assets/colab-badge.svg\" alt=\"Open In Colab\"/></a>"
      ]
    },
    {
      "cell_type": "code",
      "execution_count": null,
      "metadata": {
        "id": "AFWJPoStFmpJ"
      },
      "outputs": [],
      "source": [
        "class Solution:\n",
        "    def minFallingPathSum(self, matrix: List[List[int]]) -> int:\n",
        "        n = len(matrix)\n",
        "        for i in range(1,n):\n",
        "            for j in range(n):\n",
        "                matrix[i][j] = min(matrix[i-1][max(0,j-1):min(j+2,n)]) + matrix[i][j]\n",
        "        return min(matrix[-1])"
      ]
    }
  ]
}