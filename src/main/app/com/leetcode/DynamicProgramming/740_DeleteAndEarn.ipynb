{
  "nbformat": 4,
  "nbformat_minor": 0,
  "metadata": {
    "colab": {
      "name": "740.ipynb",
      "provenance": [],
      "authorship_tag": "ABX9TyPKFszgPr+L8zzRXiR+O5SL",
      "include_colab_link": true
    },
    "kernelspec": {
      "name": "python3",
      "display_name": "Python 3"
    },
    "language_info": {
      "name": "python"
    }
  },
  "cells": [
    {
      "cell_type": "markdown",
      "metadata": {
        "id": "view-in-github",
        "colab_type": "text"
      },
      "source": [
        "<a href=\"https://colab.research.google.com/github/v1nnyb0y/leetcode/blob/master/DynamicProgramming/740_DeleteAndEarn.ipynb\" target=\"_parent\"><img src=\"https://colab.research.google.com/assets/colab-badge.svg\" alt=\"Open In Colab\"/></a>"
      ]
    },
    {
      "cell_type": "code",
      "execution_count": null,
      "metadata": {
        "id": "hh-0i23Tzcmy"
      },
      "outputs": [],
      "source": [
        "class Solution:\n",
        "    def deleteAndEarn(self, nums: List[int]) -> int:\n",
        "        points = {}\n",
        "        max_number = 0\n",
        "        # Precompute how many points we gain from taking an element\n",
        "        for num in nums:\n",
        "            points[num] = points.get(num, 0) + num\n",
        "            max_number = max(max_number, num)\n",
        "        \n",
        "        # Base cases\n",
        "        two_back = 0\n",
        "        one_back = points.get(1, 0)\n",
        "        \n",
        "        for num in range(2, max_number + 1):\n",
        "            two_back, one_back = one_back, max(one_back, two_back + points.get(num, 0))\n",
        "\n",
        "        return one_back"
      ]
    }
  ]
}