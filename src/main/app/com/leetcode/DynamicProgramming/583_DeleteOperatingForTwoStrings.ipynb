{
  "nbformat": 4,
  "nbformat_minor": 0,
  "metadata": {
    "colab": {
      "name": "583.ipynb",
      "provenance": [],
      "authorship_tag": "ABX9TyN5H3miU1LSljSvOuNxNxzK",
      "include_colab_link": true
    },
    "kernelspec": {
      "name": "python3",
      "display_name": "Python 3"
    },
    "language_info": {
      "name": "python"
    }
  },
  "cells": [
    {
      "cell_type": "markdown",
      "metadata": {
        "id": "view-in-github",
        "colab_type": "text"
      },
      "source": [
        "<a href=\"https://colab.research.google.com/github/v1nnyb0y/leetcode/blob/master/DynamicProgramming/583_DeleteOperatingForTwoStrings.ipynb\" target=\"_parent\"><img src=\"https://colab.research.google.com/assets/colab-badge.svg\" alt=\"Open In Colab\"/></a>"
      ]
    },
    {
      "cell_type": "code",
      "execution_count": null,
      "metadata": {
        "id": "RTKU6UnbRWHa"
      },
      "outputs": [],
      "source": [
        "class Solution:\n",
        "    def minDistance(self, w1, w2):\n",
        "        m, n = len(w1), len(w2)\n",
        "        dp = [[0] * (n + 1) for i in range(m + 1)]\n",
        "        for i in range(m):\n",
        "            for j in range(n):\n",
        "                dp[i + 1][j + 1] = max(dp[i][j + 1], dp[i + 1][j], dp[i][j] + (w1[i] == w2[j]))\n",
        "        return m + n - 2 * dp[m][n]\n",
        "        "
      ]
    }
  ]
}