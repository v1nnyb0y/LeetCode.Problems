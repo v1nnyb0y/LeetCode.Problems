{
  "nbformat": 4,
  "nbformat_minor": 0,
  "metadata": {
    "colab": {
      "name": "1567.ipynb",
      "provenance": [],
      "authorship_tag": "ABX9TyODMHZ7Hd4PyU6Mga+Y8fCl",
      "include_colab_link": true
    },
    "kernelspec": {
      "name": "python3",
      "display_name": "Python 3"
    },
    "language_info": {
      "name": "python"
    }
  },
  "cells": [
    {
      "cell_type": "markdown",
      "metadata": {
        "id": "view-in-github",
        "colab_type": "text"
      },
      "source": [
        "<a href=\"https://colab.research.google.com/github/v1nnyb0y/leetcode/blob/master/DynamicProgramming/1567_MaximumLengthOfSubarrayWithPositiveProduct.ipynb\" target=\"_parent\"><img src=\"https://colab.research.google.com/assets/colab-badge.svg\" alt=\"Open In Colab\"/></a>"
      ]
    },
    {
      "cell_type": "code",
      "execution_count": null,
      "metadata": {
        "id": "FYU76G4kw_3R"
      },
      "outputs": [],
      "source": [
        "class Solution:\n",
        "    def getMaxLen(self, nums: List[int]) -> int:\n",
        "        # row 0 to store length of positive products, and row 1 for negative products\n",
        "        tempProd = [[0 for _ in range(len(nums))] for _ in range(2)]\n",
        "        if nums[0]>0:\n",
        "            tempProd[0][0] = 1\n",
        "        elif nums[0]<0:\n",
        "            tempProd[1][0] = 1\n",
        "        for i in range(1, len(nums)):\n",
        "            if nums[i]>0:\n",
        "                tempProd[0][i] = tempProd[0][i-1]+1\n",
        "                if tempProd[1][i-1]>0:\n",
        "                    tempProd[1][i] = tempProd[1][i-1]+1\n",
        "            if nums[i]<0:\n",
        "                tempProd[1][i] = tempProd[0][i-1] + 1\n",
        "                if tempProd[1][i-1]>0:\n",
        "                    tempProd[0][i] = tempProd[1][i-1]+1\n",
        "        return max(tempProd[0])"
      ]
    }
  ]
}