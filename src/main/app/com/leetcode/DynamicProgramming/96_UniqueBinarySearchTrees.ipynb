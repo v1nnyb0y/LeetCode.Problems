{
  "nbformat": 4,
  "nbformat_minor": 0,
  "metadata": {
    "colab": {
      "name": "96.ipynb",
      "provenance": [],
      "authorship_tag": "ABX9TyO4InpnYw34BQmhBKziatDH",
      "include_colab_link": true
    },
    "kernelspec": {
      "name": "python3",
      "display_name": "Python 3"
    },
    "language_info": {
      "name": "python"
    }
  },
  "cells": [
    {
      "cell_type": "markdown",
      "metadata": {
        "id": "view-in-github",
        "colab_type": "text"
      },
      "source": [
        "<a href=\"https://colab.research.google.com/github/v1nnyb0y/leetcode/blob/master/DynamicProgramming/96_UniqueBinarySearchTrees.ipynb\" target=\"_parent\"><img src=\"https://colab.research.google.com/assets/colab-badge.svg\" alt=\"Open In Colab\"/></a>"
      ]
    },
    {
      "cell_type": "code",
      "execution_count": null,
      "metadata": {
        "id": "luBjB7dMCQbC"
      },
      "outputs": [],
      "source": [
        "class Solution:\n",
        "    def numTrees(self, n: int) -> int:\n",
        "        dp = [1]\n",
        "        for i in range(1, n+1):\n",
        "            n = 0\n",
        "            for j in range(i):\n",
        "                n += dp[j]*dp[i-j-1]\n",
        "            dp.append(n)\n",
        "        return dp[-1]"
      ]
    }
  ]
}