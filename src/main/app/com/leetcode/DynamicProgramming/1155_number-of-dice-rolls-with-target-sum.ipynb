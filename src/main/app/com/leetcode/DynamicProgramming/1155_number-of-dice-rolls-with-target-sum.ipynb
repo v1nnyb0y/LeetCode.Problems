{
  "nbformat": 4,
  "nbformat_minor": 0,
  "metadata": {
    "colab": {
      "provenance": [],
      "authorship_tag": "ABX9TyM/H7XeLttKKvrj1THcCZ8K",
      "include_colab_link": true
    },
    "kernelspec": {
      "name": "python3",
      "display_name": "Python 3"
    },
    "language_info": {
      "name": "python"
    }
  },
  "cells": [
    {
      "cell_type": "markdown",
      "metadata": {
        "id": "view-in-github",
        "colab_type": "text"
      },
      "source": [
        "<a href=\"https://colab.research.google.com/github/v1nnyb0y/leetcode/blob/master/DynamicProgramming/1155_number-of-dice-rolls-with-target-sum.ipynb\" target=\"_parent\"><img src=\"https://colab.research.google.com/assets/colab-badge.svg\" alt=\"Open In Colab\"/></a>"
      ]
    },
    {
      "cell_type": "code",
      "execution_count": null,
      "metadata": {
        "id": "sgg85LXCVaG2"
      },
      "outputs": [],
      "source": [
        "from collections import defaultdict\n",
        "class Solution(object):\n",
        "    def numRollsToTarget(self, d, f, target):\n",
        "        \"\"\"\n",
        "        :type d: int\n",
        "        :type f: int\n",
        "        :type target: int\n",
        "        :rtype: int\n",
        "        \"\"\"\n",
        "        prev_vals = {0:1}\n",
        "        for roll in range(d):\n",
        "          cur_vals = defaultdict(int)\n",
        "          for prev_v in prev_vals:\n",
        "            for v in range(1,f+1):\n",
        "              total = prev_v + v \n",
        "              if total <= target:\n",
        "                cur_vals[total] += prev_vals[prev_v]\n",
        "          prev_vals = cur_vals\n",
        "        return prev_vals[target]%(10**9+7)"
      ]
    }
  ]
}