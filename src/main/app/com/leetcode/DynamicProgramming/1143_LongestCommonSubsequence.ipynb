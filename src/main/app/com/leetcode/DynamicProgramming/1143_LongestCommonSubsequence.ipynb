{
  "nbformat": 4,
  "nbformat_minor": 0,
  "metadata": {
    "colab": {
      "name": "1143.ipynb",
      "provenance": [],
      "authorship_tag": "ABX9TyOmmNq0lp8Vc3iAIyHo/jZF",
      "include_colab_link": true
    },
    "kernelspec": {
      "name": "python3",
      "display_name": "Python 3"
    },
    "language_info": {
      "name": "python"
    }
  },
  "cells": [
    {
      "cell_type": "markdown",
      "metadata": {
        "id": "view-in-github",
        "colab_type": "text"
      },
      "source": [
        "<a href=\"https://colab.research.google.com/github/v1nnyb0y/leetcode/blob/master/DynamicProgramming/1143_LongestCommonSubsequence.ipynb\" target=\"_parent\"><img src=\"https://colab.research.google.com/assets/colab-badge.svg\" alt=\"Open In Colab\"/></a>"
      ]
    },
    {
      "cell_type": "code",
      "execution_count": null,
      "metadata": {
        "id": "--5WwHayBOBy"
      },
      "outputs": [],
      "source": [
        "class Solution:\n",
        "    def longestCommonSubsequence(self, text1: str, text2: str) -> int:\n",
        "        dp = [[0] * (len(text2) + 1) for _ in range((len(text1) + 1))]\n",
        "\n",
        "        for i in range(1, len(dp)):\n",
        "            for j in range(1, len(dp[0])):\n",
        "                dp[i][j] = max(dp[i-1][j], dp[i][j-1])\n",
        "                if text1[i-1] == text2[j-1]:\n",
        "                    dp[i][j] = dp[i-1][j-1] + 1\n",
        "\n",
        "        return dp[-1][-1]"
      ]
    }
  ]
}