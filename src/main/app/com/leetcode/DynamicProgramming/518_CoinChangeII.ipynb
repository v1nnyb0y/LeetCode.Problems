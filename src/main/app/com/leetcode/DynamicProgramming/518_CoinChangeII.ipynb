{
  "nbformat": 4,
  "nbformat_minor": 0,
  "metadata": {
    "colab": {
      "name": "518.ipynb",
      "provenance": [],
      "authorship_tag": "ABX9TyM5O5k8CrAzM+wrEtBK0kVI",
      "include_colab_link": true
    },
    "kernelspec": {
      "name": "python3",
      "display_name": "Python 3"
    },
    "language_info": {
      "name": "python"
    }
  },
  "cells": [
    {
      "cell_type": "markdown",
      "metadata": {
        "id": "view-in-github",
        "colab_type": "text"
      },
      "source": [
        "<a href=\"https://colab.research.google.com/github/v1nnyb0y/leetcode/blob/master/DynamicProgramming/518_CoinChangeII.ipynb\" target=\"_parent\"><img src=\"https://colab.research.google.com/assets/colab-badge.svg\" alt=\"Open In Colab\"/></a>"
      ]
    },
    {
      "cell_type": "code",
      "execution_count": null,
      "metadata": {
        "id": "CD9QFDQJdBPS"
      },
      "outputs": [],
      "source": [
        "class Solution:\n",
        "    def change(self, amount: int, coins: List[int]) -> int:\n",
        "        ways = collections.defaultdict(int)\n",
        "        ways[0] += 1\n",
        "        for coin in coins:\n",
        "            for total in range(amount+1):\n",
        "                ways[total] += ways[total-coin]\n",
        "        return ways[amount]"
      ]
    }
  ]
}