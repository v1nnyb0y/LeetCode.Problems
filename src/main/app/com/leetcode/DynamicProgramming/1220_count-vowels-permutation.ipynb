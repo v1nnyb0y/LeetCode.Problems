{
  "nbformat": 4,
  "nbformat_minor": 0,
  "metadata": {
    "colab": {
      "name": "1220.ipynb",
      "provenance": [],
      "authorship_tag": "ABX9TyOsBsVI7AClNFI1DffGkNU5",
      "include_colab_link": true
    },
    "kernelspec": {
      "name": "python3",
      "display_name": "Python 3"
    },
    "language_info": {
      "name": "python"
    }
  },
  "cells": [
    {
      "cell_type": "markdown",
      "metadata": {
        "id": "view-in-github",
        "colab_type": "text"
      },
      "source": [
        "<a href=\"https://colab.research.google.com/github/v1nnyb0y/leetcode/blob/master/DynamicProgramming/1220_count-vowels-permutation.ipynb\" target=\"_parent\"><img src=\"https://colab.research.google.com/assets/colab-badge.svg\" alt=\"Open In Colab\"/></a>"
      ]
    },
    {
      "cell_type": "code",
      "execution_count": null,
      "metadata": {
        "id": "JFHJfr6qrvLN"
      },
      "outputs": [],
      "source": [
        "class Solution:\n",
        "    def countVowelPermutation(self, n: int) -> int:\n",
        "        a = e = i = o = u = 1\n",
        "        for _ in range(n - 1):\n",
        "            a, e, i, o, u = e + i + u, a + i, e + o, i, i + o\n",
        "        \n",
        "        return  (a + e + i + o + u) % (10 ** 9 + 7)"
      ]
    }
  ]
}