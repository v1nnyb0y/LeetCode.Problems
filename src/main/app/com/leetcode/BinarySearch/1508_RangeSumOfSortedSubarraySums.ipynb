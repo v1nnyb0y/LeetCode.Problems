{
  "nbformat": 4,
  "nbformat_minor": 0,
  "metadata": {
    "colab": {
      "name": "1508.ipynb",
      "provenance": [],
      "authorship_tag": "ABX9TyOzbte8ZRvgIePQxOEvcgGG",
      "include_colab_link": true
    },
    "kernelspec": {
      "name": "python3",
      "display_name": "Python 3"
    },
    "language_info": {
      "name": "python"
    }
  },
  "cells": [
    {
      "cell_type": "markdown",
      "metadata": {
        "id": "view-in-github",
        "colab_type": "text"
      },
      "source": [
        "<a href=\"https://colab.research.google.com/github/v1nnyb0y/leetcode/blob/master/BinarySearch/1508_RangeSumOfSortedSubarraySums.ipynb\" target=\"_parent\"><img src=\"https://colab.research.google.com/assets/colab-badge.svg\" alt=\"Open In Colab\"/></a>"
      ]
    },
    {
      "cell_type": "code",
      "execution_count": null,
      "metadata": {
        "id": "4su6Mx_FKR8l"
      },
      "outputs": [],
      "source": [
        "class Solution:\n",
        "    def rangeSum(self, nums: List[int], n: int, left: int, right: int) -> int:\n",
        "        l = []\n",
        "        for i in range(len(nums)):\n",
        "            cum = 0\n",
        "            for j in range(i,len(nums)):\n",
        "                cum+=nums[j]\n",
        "                l.append(cum)\n",
        "        l.sort()\n",
        "        return sum(l[left-1:right])%(10**9+7)"
      ]
    }
  ]
}