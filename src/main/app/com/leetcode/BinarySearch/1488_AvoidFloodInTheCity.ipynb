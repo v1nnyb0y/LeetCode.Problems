{
  "nbformat": 4,
  "nbformat_minor": 0,
  "metadata": {
    "colab": {
      "name": "1488.ipynb",
      "provenance": [],
      "authorship_tag": "ABX9TyOGz0JdVbZAqp9/cMVRiRcG",
      "include_colab_link": true
    },
    "kernelspec": {
      "name": "python3",
      "display_name": "Python 3"
    },
    "language_info": {
      "name": "python"
    }
  },
  "cells": [
    {
      "cell_type": "markdown",
      "metadata": {
        "id": "view-in-github",
        "colab_type": "text"
      },
      "source": [
        "<a href=\"https://colab.research.google.com/github/v1nnyb0y/leetcode/blob/master/BinarySearch/1488_AvoidFloodInTheCity.ipynb\" target=\"_parent\"><img src=\"https://colab.research.google.com/assets/colab-badge.svg\" alt=\"Open In Colab\"/></a>"
      ]
    },
    {
      "cell_type": "code",
      "execution_count": null,
      "metadata": {
        "id": "V1lVtVQJRt3M"
      },
      "outputs": [],
      "source": [
        "import bisect\n",
        "class Solution:\n",
        "    def avoidFlood(self, rains: List[int]) -> List[int]:\n",
        "        res = [-1]*len(rains)\n",
        "        slots = []\n",
        "        memo = {}\n",
        "        for i,r in enumerate(rains):\n",
        "            if r==0:\n",
        "                slots.append(i)\n",
        "            else:\n",
        "                if r in memo:\n",
        "                    idx = bisect.bisect_left(slots,memo[r])\n",
        "                    if idx == len(slots): return []\n",
        "                    res[slots.pop(idx)] = r\n",
        "                memo[r] = i\n",
        "        while slots:\n",
        "            res[slots.pop()] = 1\n",
        "        return res"
      ]
    }
  ]
}