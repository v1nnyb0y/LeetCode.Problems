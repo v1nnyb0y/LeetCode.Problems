{
  "nbformat": 4,
  "nbformat_minor": 0,
  "metadata": {
    "colab": {
      "name": "1146.ipynb",
      "provenance": [],
      "authorship_tag": "ABX9TyMvz+fvCL4Dws3wSEqCLndh",
      "include_colab_link": true
    },
    "kernelspec": {
      "name": "python3",
      "display_name": "Python 3"
    },
    "language_info": {
      "name": "python"
    }
  },
  "cells": [
    {
      "cell_type": "markdown",
      "metadata": {
        "id": "view-in-github",
        "colab_type": "text"
      },
      "source": [
        "<a href=\"https://colab.research.google.com/github/v1nnyb0y/leetcode/blob/master/BinarySearch/1146_SnapshotArray.ipynb\" target=\"_parent\"><img src=\"https://colab.research.google.com/assets/colab-badge.svg\" alt=\"Open In Colab\"/></a>"
      ]
    },
    {
      "cell_type": "code",
      "execution_count": null,
      "metadata": {
        "id": "ffliwbWJRTFi"
      },
      "outputs": [],
      "source": [
        "class SnapshotArray(object):\n",
        "\n",
        "    def __init__(self, n):\n",
        "        self.A = [[[-1, 0]] for _ in range(n)]\n",
        "        self.snap_id = 0\n",
        "\n",
        "    def set(self, index, val):\n",
        "        self.A[index].append([self.snap_id, val])\n",
        "\n",
        "    def snap(self):\n",
        "        self.snap_id += 1\n",
        "        return self.snap_id - 1\n",
        "\n",
        "    def get(self, index, snap_id):\n",
        "        i = bisect.bisect(self.A[index], [snap_id + 1]) - 1\n",
        "        return self.A[index][i][1]"
      ]
    }
  ]
}