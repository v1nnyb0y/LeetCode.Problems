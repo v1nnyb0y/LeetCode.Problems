{
  "nbformat": 4,
  "nbformat_minor": 0,
  "metadata": {
    "colab": {
      "name": "658.ipynb",
      "provenance": [],
      "authorship_tag": "ABX9TyNsTrCspmuhgWCMnGc2a+nh",
      "include_colab_link": true
    },
    "kernelspec": {
      "name": "python3",
      "display_name": "Python 3"
    },
    "language_info": {
      "name": "python"
    }
  },
  "cells": [
    {
      "cell_type": "markdown",
      "metadata": {
        "id": "view-in-github",
        "colab_type": "text"
      },
      "source": [
        "<a href=\"https://colab.research.google.com/github/v1nnyb0y/leetcode/blob/master/BinarySearch/658_FindKClosestElements.ipynb\" target=\"_parent\"><img src=\"https://colab.research.google.com/assets/colab-badge.svg\" alt=\"Open In Colab\"/></a>"
      ]
    },
    {
      "cell_type": "code",
      "execution_count": null,
      "metadata": {
        "id": "gFa7MtJLTsAo"
      },
      "outputs": [],
      "source": [
        "class Solution:\n",
        "    def findClosestElements(self, nums: List[int], k: int, x: int) -> List[int]:\n",
        "        return sorted(sorted(nums, key=lambda num: (abs(num - x), num))[:k])"
      ]
    }
  ]
}