{
  "nbformat": 4,
  "nbformat_minor": 0,
  "metadata": {
    "colab": {
      "name": "278.ipynb",
      "provenance": [],
      "authorship_tag": "ABX9TyM5uyOhUlezI5z4d0WUpByb",
      "include_colab_link": true
    },
    "kernelspec": {
      "name": "python3",
      "display_name": "Python 3"
    },
    "language_info": {
      "name": "python"
    }
  },
  "cells": [
    {
      "cell_type": "markdown",
      "metadata": {
        "id": "view-in-github",
        "colab_type": "text"
      },
      "source": [
        "<a href=\"https://colab.research.google.com/github/v1nnyb0y/leetcode/blob/master/BinarySearch/278_FirstBadVersion.ipynb\" target=\"_parent\"><img src=\"https://colab.research.google.com/assets/colab-badge.svg\" alt=\"Open In Colab\"/></a>"
      ]
    },
    {
      "cell_type": "code",
      "execution_count": null,
      "metadata": {
        "id": "vIPzzCWSoyJ3"
      },
      "outputs": [],
      "source": [
        "# The isBadVersion API is already defined for you.\n",
        "# def isBadVersion(version: int) -> bool:\n",
        "\n",
        "class Solution:\n",
        "    def firstBadVersion(self, n: int) -> int:\n",
        "        l, r = 0, n\n",
        "        while l < r:\n",
        "            pivot = l + (r - l) // 2\n",
        "            if isBadVersion(pivot):\n",
        "                r = pivot\n",
        "            else:\n",
        "                l = pivot + 1\n",
        "        return l"
      ]
    }
  ]
}