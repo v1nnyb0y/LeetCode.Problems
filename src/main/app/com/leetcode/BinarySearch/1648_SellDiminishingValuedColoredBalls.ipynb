{
  "nbformat": 4,
  "nbformat_minor": 0,
  "metadata": {
    "colab": {
      "name": "1648.ipynb",
      "provenance": [],
      "authorship_tag": "ABX9TyO/ECm4jPxUzx+q3zyhl9pj",
      "include_colab_link": true
    },
    "kernelspec": {
      "name": "python3",
      "display_name": "Python 3"
    },
    "language_info": {
      "name": "python"
    }
  },
  "cells": [
    {
      "cell_type": "markdown",
      "metadata": {
        "id": "view-in-github",
        "colab_type": "text"
      },
      "source": [
        "<a href=\"https://colab.research.google.com/github/v1nnyb0y/leetcode/blob/master/BinarySearch/1648_SellDiminishingValuedColoredBalls.ipynb\" target=\"_parent\"><img src=\"https://colab.research.google.com/assets/colab-badge.svg\" alt=\"Open In Colab\"/></a>"
      ]
    },
    {
      "cell_type": "code",
      "execution_count": null,
      "metadata": {
        "id": "EPPAdcH4S5HQ"
      },
      "outputs": [],
      "source": [
        "class Solution(object):\n",
        "    def maxProfit(self, inventory, orders):\n",
        "\t\t#count how many balls can be sold with this threshold\n",
        "        def count_balls(x):\n",
        "            ans = 0\n",
        "            for e in inventory:\n",
        "                if e<x:\n",
        "                    continue\n",
        "                else:\n",
        "                    ans += e-x+1\n",
        "            return ans\n",
        "        \n",
        "\t\t#modulo series sum\n",
        "        def csum(x):\n",
        "            return ((x*(x+1)//2) % (10**9 + 7))\n",
        "        \n",
        "        #T-1 will be the max possible threshold\n",
        "        left = 0\n",
        "        right = max(inventory)\n",
        "        while left<right-1:\n",
        "            mid = (left+right)>>1\n",
        "            n = count_balls(mid)\n",
        "            if n<orders:\n",
        "                right = mid-1\n",
        "            else:\n",
        "                left = mid\n",
        "        if count_balls(right)>=orders:\n",
        "            T = right+1\n",
        "        else:\n",
        "            T = left+1\n",
        "        \n",
        "        #return value\n",
        "        ret = 0\n",
        "        \n",
        "\t\t#first use T and above, these are highest value balls\n",
        "        upper_count = 0\n",
        "        for e in inventory:\n",
        "            if e>=T:\n",
        "                upper_count += (e-T+1) \n",
        "                ret += csum(e)-csum(T-1)\n",
        "                ret = ret % (10**9+7)\n",
        "        \n",
        "\t\t#complete the remainder with value T-1\n",
        "        lower_count = orders-upper_count\n",
        "        if lower_count > 0:\n",
        "            ret += lower_count*(T-1)\n",
        "            ret = ret % (10**9+7)\n",
        "                \n",
        "        return ret"
      ]
    }
  ]
}