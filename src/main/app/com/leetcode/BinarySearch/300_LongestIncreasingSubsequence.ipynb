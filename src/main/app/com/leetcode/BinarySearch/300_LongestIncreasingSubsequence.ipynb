{
  "nbformat": 4,
  "nbformat_minor": 0,
  "metadata": {
    "colab": {
      "name": "300.ipynb",
      "provenance": [],
      "authorship_tag": "ABX9TyOw49Xnwa9PrlTXo4SYTfjP",
      "include_colab_link": true
    },
    "kernelspec": {
      "name": "python3",
      "display_name": "Python 3"
    },
    "language_info": {
      "name": "python"
    }
  },
  "cells": [
    {
      "cell_type": "markdown",
      "metadata": {
        "id": "view-in-github",
        "colab_type": "text"
      },
      "source": [
        "<a href=\"https://colab.research.google.com/github/v1nnyb0y/leetcode/blob/master/BinarySearch/300_LongestIncreasingSubsequence.ipynb\" target=\"_parent\"><img src=\"https://colab.research.google.com/assets/colab-badge.svg\" alt=\"Open In Colab\"/></a>"
      ]
    },
    {
      "cell_type": "code",
      "execution_count": null,
      "metadata": {
        "id": "BSyaf5j0tnj9"
      },
      "outputs": [],
      "source": [
        "class Solution:\n",
        "    def lengthOfLIS(self, nums: List[int]) -> int:\n",
        "        if not nums: return 0\n",
        "        \n",
        "        #seql[i]: is the length of longest subsequence ending in index i\n",
        "        seql = [0]*len(nums)\n",
        "        seql[0] = 1\n",
        "        #maxl: the length longest subsequence\n",
        "        maxl = 1\n",
        "        #loop over\n",
        "        for i in range(1,len(nums)):\n",
        "            #this_maxl is the longest subsequence ending in index i\n",
        "            this_maxl = 1\n",
        "            for j in range(0, i):\n",
        "                if nums[j]<nums[i]:\n",
        "                    if seql[j]+1 > this_maxl:\n",
        "                        this_maxl = seql[j]+1\n",
        "            seql[i] = this_maxl\n",
        "            #compare against maxl\n",
        "            if seql[i] > maxl:\n",
        "                maxl = seql[i]\n",
        "        return maxl"
      ]
    }
  ]
}