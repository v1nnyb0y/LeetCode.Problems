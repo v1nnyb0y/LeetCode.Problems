{
  "nbformat": 4,
  "nbformat_minor": 0,
  "metadata": {
    "colab": {
      "name": "1562.ipynb",
      "provenance": [],
      "authorship_tag": "ABX9TyNgh7C9f40Gt+/UaralAHOU",
      "include_colab_link": true
    },
    "kernelspec": {
      "name": "python3",
      "display_name": "Python 3"
    },
    "language_info": {
      "name": "python"
    }
  },
  "cells": [
    {
      "cell_type": "markdown",
      "metadata": {
        "id": "view-in-github",
        "colab_type": "text"
      },
      "source": [
        "<a href=\"https://colab.research.google.com/github/v1nnyb0y/leetcode/blob/master/BinarySearch/1562_FindLatestGroupOfSizeM.ipynb\" target=\"_parent\"><img src=\"https://colab.research.google.com/assets/colab-badge.svg\" alt=\"Open In Colab\"/></a>"
      ]
    },
    {
      "cell_type": "code",
      "execution_count": null,
      "metadata": {
        "id": "1rWtJPRvSUfu"
      },
      "outputs": [],
      "source": [
        "class Solution:\n",
        "    def findLatestStep(self, arr: List[int], m: int) -> int:\n",
        "        N = len(arr)\n",
        "        parents = list(range(N))\n",
        "        sizes = [0] * N\n",
        "        \n",
        "        islands = set()\n",
        "        \n",
        "        def union(one, two):\n",
        "            r1 = findroot(one)\n",
        "            r2 = findroot(two)\n",
        "            \n",
        "            if r1 == r2: return sizes[r1]\n",
        "            if sizes[r1] == m and r1 in islands:\n",
        "                islands.remove(r1)\n",
        "            if sizes[r2] == m and r2 in islands:\n",
        "                islands.remove(r2)\n",
        "            big, small = (r1, r2) if sizes[r1] > sizes[r2] else (r2, r1)\n",
        "            parents[small] = big\n",
        "            sizes[big] += sizes[small]\n",
        "            return sizes[big]\n",
        "        \n",
        "        def findroot(pos):\n",
        "            if parents[pos] != pos:\n",
        "                parents[pos] = findroot(parents[pos])\n",
        "            return parents[pos]\n",
        "        \n",
        "        last_round = -1\n",
        "        for i, pos in enumerate(arr, 1):\n",
        "            pos -= 1\n",
        "            sizes[pos] += 1\n",
        "            sz = sizes[pos]\n",
        "            if pos < N - 1 and sizes[pos + 1]:\n",
        "                sz = union(pos, pos+1)\n",
        "            if pos > 0 and sizes[pos - 1]:\n",
        "                sz = union(pos-1, pos)\n",
        "            if sz == m:\n",
        "                islands.add(findroot(pos))\n",
        "            if islands:\n",
        "                last_round = i\n",
        "        \n",
        "        return last_round"
      ]
    }
  ]
}