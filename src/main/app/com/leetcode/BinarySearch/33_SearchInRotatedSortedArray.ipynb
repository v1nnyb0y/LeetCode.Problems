{
  "nbformat": 4,
  "nbformat_minor": 0,
  "metadata": {
    "colab": {
      "name": "33.ipynb",
      "provenance": [],
      "authorship_tag": "ABX9TyNTLj4Jslv+2i0avElWYWIC",
      "include_colab_link": true
    },
    "kernelspec": {
      "name": "python3",
      "display_name": "Python 3"
    },
    "language_info": {
      "name": "python"
    }
  },
  "cells": [
    {
      "cell_type": "markdown",
      "metadata": {
        "id": "view-in-github",
        "colab_type": "text"
      },
      "source": [
        "<a href=\"https://colab.research.google.com/github/v1nnyb0y/leetcode/blob/master/BinarySearch/33_SearchInRotatedSortedArray.ipynb\" target=\"_parent\"><img src=\"https://colab.research.google.com/assets/colab-badge.svg\" alt=\"Open In Colab\"/></a>"
      ]
    },
    {
      "cell_type": "code",
      "execution_count": null,
      "metadata": {
        "id": "GEJSnUhkEy-N"
      },
      "outputs": [],
      "source": [
        "class Solution:\n",
        "    def search(self, nums: List[int], target: int) -> int:\n",
        "        l = 0\n",
        "        r = len(nums)\n",
        "        while(l<r):\n",
        "            m = (l+r)//2\n",
        "            if (nums[m] < nums[0]) == (target < nums[0]): \n",
        "                mid = nums[m]\n",
        "            elif (target < nums[0]):\n",
        "                mid = float('-inf')\n",
        "            else:\n",
        "                mid = float('inf')\n",
        "            \n",
        "                \n",
        "            \n",
        "            if mid < target:\n",
        "                l = m+1\n",
        "            elif mid > target:\n",
        "                r = m\n",
        "            else:       \n",
        "                return m\n",
        "        \n",
        "        return -1      "
      ]
    }
  ]
}