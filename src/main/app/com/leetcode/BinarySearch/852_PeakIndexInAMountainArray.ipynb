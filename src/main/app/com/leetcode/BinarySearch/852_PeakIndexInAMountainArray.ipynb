{
  "nbformat": 4,
  "nbformat_minor": 0,
  "metadata": {
    "colab": {
      "name": "852.ipynb",
      "provenance": [],
      "authorship_tag": "ABX9TyMi8OqeM9MLvWdGj9P0hy4i",
      "include_colab_link": true
    },
    "kernelspec": {
      "name": "python3",
      "display_name": "Python 3"
    },
    "language_info": {
      "name": "python"
    }
  },
  "cells": [
    {
      "cell_type": "markdown",
      "metadata": {
        "id": "view-in-github",
        "colab_type": "text"
      },
      "source": [
        "<a href=\"https://colab.research.google.com/github/v1nnyb0y/leetcode/blob/master/BinarySearch/852_PeakIndexInAMountainArray.ipynb\" target=\"_parent\"><img src=\"https://colab.research.google.com/assets/colab-badge.svg\" alt=\"Open In Colab\"/></a>"
      ]
    },
    {
      "cell_type": "code",
      "execution_count": null,
      "metadata": {
        "id": "Dl8_A7nDfHRI"
      },
      "outputs": [],
      "source": [
        "class Solution(object):\n",
        "    def peakIndexInMountainArray(self, A):\n",
        "        lo, hi = 0, len(A) - 1\n",
        "        while lo < hi:\n",
        "            mi = (lo + hi) // 2\n",
        "            if A[mi] < A[mi + 1]:\n",
        "                lo = mi + 1\n",
        "            else:\n",
        "                hi = mi\n",
        "        return lo"
      ]
    }
  ]
}