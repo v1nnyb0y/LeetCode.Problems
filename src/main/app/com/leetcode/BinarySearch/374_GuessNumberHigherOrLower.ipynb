{
  "nbformat": 4,
  "nbformat_minor": 0,
  "metadata": {
    "colab": {
      "name": "374.ipynb",
      "provenance": [],
      "authorship_tag": "ABX9TyPtstRqqAI6Njzr+I4AZzwh",
      "include_colab_link": true
    },
    "kernelspec": {
      "name": "python3",
      "display_name": "Python 3"
    },
    "language_info": {
      "name": "python"
    }
  },
  "cells": [
    {
      "cell_type": "markdown",
      "metadata": {
        "id": "view-in-github",
        "colab_type": "text"
      },
      "source": [
        "<a href=\"https://colab.research.google.com/github/v1nnyb0y/leetcode/blob/master/BinarySearch/374_GuessNumberHigherOrLower.ipynb\" target=\"_parent\"><img src=\"https://colab.research.google.com/assets/colab-badge.svg\" alt=\"Open In Colab\"/></a>"
      ]
    },
    {
      "cell_type": "code",
      "execution_count": null,
      "metadata": {
        "id": "KtedITRb1uJg"
      },
      "outputs": [],
      "source": [
        "# The guess API is already defined for you.\n",
        "# @param num, your guess\n",
        "# @return -1 if num is higher than the picked number\n",
        "#          1 if num is lower than the picked number\n",
        "#          otherwise return 0\n",
        "# def guess(num: int) -> int:\n",
        "\n",
        "class Solution:\n",
        "    def guessNumber(self, n: int) -> int:\n",
        "        l, r = 1, n\n",
        "        while l < r:\n",
        "            pivot = l + (r - l) // 2\n",
        "            sugg = guess(pivot)\n",
        "            if sugg == 0:\n",
        "                return pivot\n",
        "            elif sugg == 1:\n",
        "                l = pivot + 1\n",
        "            else:\n",
        "                r = pivot - 1\n",
        "                \n",
        "        return l"
      ]
    }
  ]
}