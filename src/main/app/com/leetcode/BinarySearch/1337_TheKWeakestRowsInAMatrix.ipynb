{
  "nbformat": 4,
  "nbformat_minor": 0,
  "metadata": {
    "colab": {
      "name": "1337.ipynb",
      "provenance": [],
      "authorship_tag": "ABX9TyNh+7WRAIlV/UY/W4aOpeXN",
      "include_colab_link": true
    },
    "kernelspec": {
      "name": "python3",
      "display_name": "Python 3"
    },
    "language_info": {
      "name": "python"
    }
  },
  "cells": [
    {
      "cell_type": "markdown",
      "metadata": {
        "id": "view-in-github",
        "colab_type": "text"
      },
      "source": [
        "<a href=\"https://colab.research.google.com/github/v1nnyb0y/leetcode/blob/master/BinarySearch/1337_TheKWeakestRowsInAMatrix.ipynb\" target=\"_parent\"><img src=\"https://colab.research.google.com/assets/colab-badge.svg\" alt=\"Open In Colab\"/></a>"
      ]
    },
    {
      "cell_type": "code",
      "execution_count": null,
      "metadata": {
        "id": "H0xwqBEdfyEJ"
      },
      "outputs": [],
      "source": [
        "class Solution:\n",
        "    def kWeakestRows(self, mat: List[List[int]], k: int) -> List[int]:\n",
        "        return [ i[0] for i in ( sorted( { i:v for i,v in enumerate( [sum(m) for m in mat] ) }.items(), key = lambda kv:(kv[1], kv[0]) )[:k]) ]\n",
        "        "
      ]
    }
  ]
}