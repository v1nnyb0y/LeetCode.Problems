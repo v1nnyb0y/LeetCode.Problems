{
  "nbformat": 4,
  "nbformat_minor": 0,
  "metadata": {
    "colab": {
      "name": "1498.ipynb",
      "provenance": [],
      "authorship_tag": "ABX9TyOHjoKqIZmrrFdx72dmNXya",
      "include_colab_link": true
    },
    "kernelspec": {
      "name": "python3",
      "display_name": "Python 3"
    },
    "language_info": {
      "name": "python"
    }
  },
  "cells": [
    {
      "cell_type": "markdown",
      "metadata": {
        "id": "view-in-github",
        "colab_type": "text"
      },
      "source": [
        "<a href=\"https://colab.research.google.com/github/v1nnyb0y/leetcode/blob/master/BinarySearch/1498_NumberOfSequenecesThatSatisfyTheGivenSumCondition.ipynb\" target=\"_parent\"><img src=\"https://colab.research.google.com/assets/colab-badge.svg\" alt=\"Open In Colab\"/></a>"
      ]
    },
    {
      "cell_type": "code",
      "execution_count": null,
      "metadata": {
        "id": "j-VQDo7-IlQj"
      },
      "outputs": [],
      "source": [
        "class Solution:\n",
        "    def numSubseq(self, A, target):\n",
        "        A.sort()\n",
        "        l, r = 0, len(A) - 1\n",
        "        res = 0\n",
        "        mod = 10**9 + 7\n",
        "        while l <= r:\n",
        "            if A[l] + A[r] > target:\n",
        "                r -= 1\n",
        "            else:\n",
        "                res += pow(2, r - l, mod)\n",
        "                l += 1\n",
        "        return res % mod\n",
        "        "
      ]
    }
  ]
}