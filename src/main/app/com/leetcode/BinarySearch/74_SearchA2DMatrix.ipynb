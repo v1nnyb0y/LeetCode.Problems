{
  "nbformat": 4,
  "nbformat_minor": 0,
  "metadata": {
    "colab": {
      "name": "74.ipynb",
      "provenance": [],
      "authorship_tag": "ABX9TyPl0bSCffEYjgoy9fyRwfDg",
      "include_colab_link": true
    },
    "kernelspec": {
      "name": "python3",
      "display_name": "Python 3"
    },
    "language_info": {
      "name": "python"
    }
  },
  "cells": [
    {
      "cell_type": "markdown",
      "metadata": {
        "id": "view-in-github",
        "colab_type": "text"
      },
      "source": [
        "<a href=\"https://colab.research.google.com/github/v1nnyb0y/leetcode/blob/master/BinarySearch/74_SearchA2DMatrix.ipynb\" target=\"_parent\"><img src=\"https://colab.research.google.com/assets/colab-badge.svg\" alt=\"Open In Colab\"/></a>"
      ]
    },
    {
      "cell_type": "code",
      "execution_count": 1,
      "metadata": {
        "colab": {
          "base_uri": "https://localhost:8080/"
        },
        "id": "nV4Fz9TeiVNR",
        "outputId": "5fbf8c3d-cd8e-4e41-c884-92f9d082c86c"
      },
      "outputs": [
        {
          "output_type": "execute_result",
          "data": {
            "text/plain": [
              "0"
            ]
          },
          "metadata": {},
          "execution_count": 1
        }
      ],
      "source": [
        "class Solution:\n",
        "    def searchMatrix(self, matrix: List[List[int]], target: int) -> bool:\n",
        "        def binSearch(arr, t):\n",
        "            l, r = 0, len(arr) - 1\n",
        "            while l <= r:\n",
        "                mid = (l + r) // 2\n",
        "                if arr[mid] == t:\n",
        "                    return True\n",
        "                elif arr[mid] > t:\n",
        "                    r = mid - 1\n",
        "                else:\n",
        "                    l = mid + 1\n",
        "            \n",
        "            return False\n",
        "        \n",
        "        for i in range(len(matrix) - 1, -1, -1):\n",
        "            if matrix[i][0] <= target:\n",
        "                print(matrix[i])\n",
        "                return binSearch(matrix[i], target)\n",
        "                \n",
        "        return False"
      ]
    }
  ]
}