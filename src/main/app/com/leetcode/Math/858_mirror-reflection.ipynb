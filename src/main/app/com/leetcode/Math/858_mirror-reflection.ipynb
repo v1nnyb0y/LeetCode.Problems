{
  "nbformat": 4,
  "nbformat_minor": 0,
  "metadata": {
    "colab": {
      "name": "858.ipynb",
      "provenance": [],
      "authorship_tag": "ABX9TyNbgDuuSTlTzB3XF5djipi7",
      "include_colab_link": true
    },
    "kernelspec": {
      "name": "python3",
      "display_name": "Python 3"
    },
    "language_info": {
      "name": "python"
    }
  },
  "cells": [
    {
      "cell_type": "markdown",
      "metadata": {
        "id": "view-in-github",
        "colab_type": "text"
      },
      "source": [
        "<a href=\"https://colab.research.google.com/github/v1nnyb0y/leetcode/blob/master/Math/858_mirror-reflection.ipynb\" target=\"_parent\"><img src=\"https://colab.research.google.com/assets/colab-badge.svg\" alt=\"Open In Colab\"/></a>"
      ]
    },
    {
      "cell_type": "code",
      "execution_count": null,
      "metadata": {
        "id": "ZmzlalqrIIRB"
      },
      "outputs": [],
      "source": [
        "class Solution(object):\n",
        "    def mirrorReflection(self, p, q):\n",
        "        x = q\n",
        "        y = p \n",
        "        \n",
        "        #both are even, no reflection\n",
        "        while x % 2 == 0 and y % 2 == 0:\n",
        "            x /= 2\n",
        "            y /= 2\n",
        "        \n",
        "        if x % 2 == 0:\n",
        "            return 0\n",
        "        elif x % 2 != 0 and y % 2 != 0:\n",
        "            return 1\n",
        "        elif x % 2 != 0 and y % 2 == 0:\n",
        "            return 2\n",
        "        return None"
      ]
    }
  ]
}