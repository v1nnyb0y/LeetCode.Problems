{
  "nbformat": 4,
  "nbformat_minor": 0,
  "metadata": {
    "colab": {
      "name": "869.ipynb",
      "provenance": [],
      "authorship_tag": "ABX9TyOdGn3b4RD9b/rYJoDKOnqj",
      "include_colab_link": true
    },
    "kernelspec": {
      "name": "python3",
      "display_name": "Python 3"
    },
    "language_info": {
      "name": "python"
    }
  },
  "cells": [
    {
      "cell_type": "markdown",
      "metadata": {
        "id": "view-in-github",
        "colab_type": "text"
      },
      "source": [
        "<a href=\"https://colab.research.google.com/github/v1nnyb0y/leetcode/blob/master/Math/869_reordered-power-of-2.ipynb\" target=\"_parent\"><img src=\"https://colab.research.google.com/assets/colab-badge.svg\" alt=\"Open In Colab\"/></a>"
      ]
    },
    {
      "cell_type": "code",
      "execution_count": null,
      "metadata": {
        "id": "cnw0vHXEJ90O"
      },
      "outputs": [],
      "source": [
        "class Solution:\n",
        "    def reorderedPowerOf2(self, N):\n",
        "        return sorted(str(N)) in [sorted(str(1 << i)) for i in range(30)]\n",
        "        "
      ]
    }
  ]
}