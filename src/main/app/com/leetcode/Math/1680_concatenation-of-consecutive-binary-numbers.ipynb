{
  "nbformat": 4,
  "nbformat_minor": 0,
  "metadata": {
    "colab": {
      "provenance": [],
      "authorship_tag": "ABX9TyN7fVVvytzTl5geilYNdBu9",
      "include_colab_link": true
    },
    "kernelspec": {
      "name": "python3",
      "display_name": "Python 3"
    },
    "language_info": {
      "name": "python"
    }
  },
  "cells": [
    {
      "cell_type": "markdown",
      "metadata": {
        "id": "view-in-github",
        "colab_type": "text"
      },
      "source": [
        "<a href=\"https://colab.research.google.com/github/v1nnyb0y/leetcode/blob/master/Math/1680_concatenation-of-consecutive-binary-numbers.ipynb\" target=\"_parent\"><img src=\"https://colab.research.google.com/assets/colab-badge.svg\" alt=\"Open In Colab\"/></a>"
      ]
    },
    {
      "cell_type": "code",
      "execution_count": null,
      "metadata": {
        "id": "2zU6H0tL8TIZ"
      },
      "outputs": [],
      "source": [
        "class Solution:\n",
        "    def concatenatedBinary(self, n: int) -> int:\n",
        "        res = ''\n",
        "        \n",
        "        for i in range(1, n+1):\n",
        "            res += bin(i)[2:]\n",
        "        \n",
        "        \n",
        "        return int(res,2) % (10**9 + 7)"
      ]
    }
  ]
}