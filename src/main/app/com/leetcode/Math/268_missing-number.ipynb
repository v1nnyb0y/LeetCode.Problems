{
  "nbformat": 4,
  "nbformat_minor": 0,
  "metadata": {
    "colab": {
      "name": "268.ipynb",
      "provenance": [],
      "authorship_tag": "ABX9TyNQQ852VBDJSH2ATyZ4hSEp",
      "include_colab_link": true
    },
    "kernelspec": {
      "name": "python3",
      "display_name": "Python 3"
    },
    "language_info": {
      "name": "python"
    }
  },
  "cells": [
    {
      "cell_type": "markdown",
      "metadata": {
        "id": "view-in-github",
        "colab_type": "text"
      },
      "source": [
        "<a href=\"https://colab.research.google.com/github/v1nnyb0y/leetcode/blob/master/Math/268_missing-number.ipynb\" target=\"_parent\"><img src=\"https://colab.research.google.com/assets/colab-badge.svg\" alt=\"Open In Colab\"/></a>"
      ]
    },
    {
      "cell_type": "code",
      "execution_count": null,
      "metadata": {
        "id": "XDLdaplu35in"
      },
      "outputs": [],
      "source": [
        "class Solution:\n",
        "    def missingNumber(self, nums: List[int]) -> int:\n",
        "        if(len(nums)==0):\n",
        "            return 0\n",
        "        nums.sort()\n",
        "        for i in range(len(nums)):\n",
        "            if(i!=nums[i]):\n",
        "                return i\n",
        "        return len(nums)"
      ]
    }
  ]
}