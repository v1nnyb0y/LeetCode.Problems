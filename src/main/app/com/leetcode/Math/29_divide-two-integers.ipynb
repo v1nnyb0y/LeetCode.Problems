{
  "nbformat": 4,
  "nbformat_minor": 0,
  "metadata": {
    "colab": {
      "name": "29.ipynb",
      "provenance": [],
      "authorship_tag": "ABX9TyM9qnaQnaIsPTp5zN3bvBnw",
      "include_colab_link": true
    },
    "kernelspec": {
      "name": "python3",
      "display_name": "Python 3"
    },
    "language_info": {
      "name": "python"
    }
  },
  "cells": [
    {
      "cell_type": "markdown",
      "metadata": {
        "id": "view-in-github",
        "colab_type": "text"
      },
      "source": [
        "<a href=\"https://colab.research.google.com/github/v1nnyb0y/leetcode/blob/master/Math/29_divide-two-integers.ipynb\" target=\"_parent\"><img src=\"https://colab.research.google.com/assets/colab-badge.svg\" alt=\"Open In Colab\"/></a>"
      ]
    },
    {
      "cell_type": "code",
      "execution_count": null,
      "metadata": {
        "id": "YB-GOdCmVLcc"
      },
      "outputs": [],
      "source": [
        "class Solution(object):\n",
        "    def divide(self, dividend, divisor):\n",
        "        \"\"\"\n",
        "        :type dividend: int\n",
        "        :type divisor: int\n",
        "        :rtype: int\n",
        "        \"\"\"\n",
        "        if dividend>2**31:\n",
        "            return 6184773855\n",
        "        if dividend<-2**31:\n",
        "            return -6184773855\n",
        "        positive = (dividend < 0) == (divisor < 0)\n",
        "        dividend, divisor = abs(dividend), abs(divisor)\n",
        "        res = 0\n",
        "        while dividend >= divisor:\n",
        "            temp, i = divisor, 1\n",
        "            while dividend >= temp:\n",
        "                dividend -= temp\n",
        "                res += i\n",
        "                i *= 2\n",
        "                temp *= 2\n",
        "        if not positive:\n",
        "            res = -res\n",
        "        return min(max(-2**31-1, res), 2**31-1)"
      ]
    }
  ]
}