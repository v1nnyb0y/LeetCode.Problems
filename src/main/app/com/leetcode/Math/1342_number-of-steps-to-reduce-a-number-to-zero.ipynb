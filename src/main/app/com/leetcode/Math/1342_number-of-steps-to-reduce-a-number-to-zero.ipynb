{
  "nbformat": 4,
  "nbformat_minor": 0,
  "metadata": {
    "colab": {
      "name": "1342.ipynb",
      "provenance": [],
      "authorship_tag": "ABX9TyNDT16X/Dw0IwQsYgoYlrGU",
      "include_colab_link": true
    },
    "kernelspec": {
      "name": "python3",
      "display_name": "Python 3"
    },
    "language_info": {
      "name": "python"
    }
  },
  "cells": [
    {
      "cell_type": "markdown",
      "metadata": {
        "id": "view-in-github",
        "colab_type": "text"
      },
      "source": [
        "<a href=\"https://colab.research.google.com/github/v1nnyb0y/leetcode/blob/master/Math/1342_number-of-steps-to-reduce-a-number-to-zero.ipynb\" target=\"_parent\"><img src=\"https://colab.research.google.com/assets/colab-badge.svg\" alt=\"Open In Colab\"/></a>"
      ]
    },
    {
      "cell_type": "code",
      "execution_count": null,
      "metadata": {
        "id": "iO6Ee9WSXfWp"
      },
      "outputs": [],
      "source": [
        "class Solution:\n",
        "    def numberOfSteps(self, num: int) -> int:\n",
        "        c=0\n",
        "        while num:\n",
        "            if(num%2!=0):\n",
        "                c+=1\n",
        "                num=num-1\n",
        "                continue\n",
        "            num=num>>1\n",
        "            c+=1\n",
        "        return c"
      ]
    },
    {
      "cell_type": "code",
      "source": [
        ""
      ],
      "metadata": {
        "id": "l2wp-ADTXgrS"
      },
      "execution_count": null,
      "outputs": []
    }
  ]
}