{
  "nbformat": 4,
  "nbformat_minor": 0,
  "metadata": {
    "colab": {
      "name": "326.ipynb",
      "provenance": [],
      "authorship_tag": "ABX9TyN5SdwwWiP6hfcYdFK5U3T9",
      "include_colab_link": true
    },
    "kernelspec": {
      "name": "python3",
      "display_name": "Python 3"
    },
    "language_info": {
      "name": "python"
    }
  },
  "cells": [
    {
      "cell_type": "markdown",
      "metadata": {
        "id": "view-in-github",
        "colab_type": "text"
      },
      "source": [
        "<a href=\"https://colab.research.google.com/github/v1nnyb0y/leetcode/blob/master/Math/326_power-of-three.ipynb\" target=\"_parent\"><img src=\"https://colab.research.google.com/assets/colab-badge.svg\" alt=\"Open In Colab\"/></a>"
      ]
    },
    {
      "cell_type": "code",
      "execution_count": null,
      "metadata": {
        "id": "r0dxkdjFgtDr"
      },
      "outputs": [],
      "source": [
        "class Solution(object):\n",
        "    def isPowerOfThree(self, n):\n",
        "        \"\"\"\n",
        "        :type n: int\n",
        "        :rtype: bool\n",
        "        \"\"\"\n",
        "        if n < 1:\n",
        "            return False\n",
        "        elif n == 1:\n",
        "            return True\n",
        "        val = 1\n",
        "        while val < n:\n",
        "            val *= 3\n",
        "            if val == n:\n",
        "                return True\n",
        "        return False"
      ]
    }
  ]
}