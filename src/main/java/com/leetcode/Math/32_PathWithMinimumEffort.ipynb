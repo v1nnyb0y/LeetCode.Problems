{
  "nbformat": 4,
  "nbformat_minor": 0,
  "metadata": {
    "colab": {
      "name": "32.ipynb",
      "provenance": [],
      "authorship_tag": "ABX9TyPq3E4GEq5OWFU2lJQPfBRB",
      "include_colab_link": true
    },
    "kernelspec": {
      "name": "python3",
      "display_name": "Python 3"
    },
    "language_info": {
      "name": "python"
    }
  },
  "cells": [
    {
      "cell_type": "markdown",
      "metadata": {
        "id": "view-in-github",
        "colab_type": "text"
      },
      "source": [
        "<a href=\"https://colab.research.google.com/github/v1nnyb0y/leetcode/blob/master/Math/32_PathWithMinimumEffort.ipynb\" target=\"_parent\"><img src=\"https://colab.research.google.com/assets/colab-badge.svg\" alt=\"Open In Colab\"/></a>"
      ]
    },
    {
      "cell_type": "code",
      "execution_count": null,
      "metadata": {
        "id": "U8gAonF0lJPc"
      },
      "outputs": [],
      "source": [
        "class Solution:\n",
        "    def minimumEffortPath(self, heights: List[List[int]]) -> int:\n",
        "        \n",
        "        M, N = map(len, (heights, heights[0]))\n",
        "        heap = [(0, 0, 0)]\n",
        "        seen = set()\n",
        "        result = 0\n",
        "        \n",
        "        while heap:\n",
        "            \n",
        "            # Pop\n",
        "            effort, i, j = heapq.heappop(heap)\n",
        "            \n",
        "            # Mark seen\n",
        "            seen.add((i, j))\n",
        "            \n",
        "            # Update minimum \"effort\"\n",
        "            result = max(result, effort)\n",
        "            \n",
        "            # Success condition\n",
        "            if i == M-1 and j == N-1:\n",
        "                break\n",
        "                                    \n",
        "            # BFS\n",
        "            for x, y in [(i+1, j), (i-1, j), (i, j+1), (i, j-1)]:\n",
        "                if not (x >= 0 <= y): continue\n",
        "                if x >= M or y >= N: continue\n",
        "                if (x, y) in seen: continue\n",
        "                effort = abs(heights[i][j] - heights[x][y])\n",
        "                heapq.heappush(heap, (effort, x, y))\n",
        "                                \n",
        "        return result"
      ]
    }
  ]
}