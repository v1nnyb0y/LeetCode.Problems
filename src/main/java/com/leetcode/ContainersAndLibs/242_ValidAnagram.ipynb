{
  "nbformat": 4,
  "nbformat_minor": 0,
  "metadata": {
    "colab": {
      "name": "242.ipynb",
      "provenance": [],
      "authorship_tag": "ABX9TyN3rjwbbrRYXxG948Da6C27",
      "include_colab_link": true
    },
    "kernelspec": {
      "name": "python3",
      "display_name": "Python 3"
    },
    "language_info": {
      "name": "python"
    }
  },
  "cells": [
    {
      "cell_type": "markdown",
      "metadata": {
        "id": "view-in-github",
        "colab_type": "text"
      },
      "source": [
        "<a href=\"https://colab.research.google.com/github/v1nnyb0y/leetcode/blob/master/ContainersAndLibs/242_ValidAnagram.ipynb\" target=\"_parent\"><img src=\"https://colab.research.google.com/assets/colab-badge.svg\" alt=\"Open In Colab\"/></a>"
      ]
    },
    {
      "cell_type": "code",
      "execution_count": null,
      "metadata": {
        "id": "qRgoTh23Ao_m"
      },
      "outputs": [],
      "source": [
        "class Solution:\n",
        "    def isAnagram(self, s: str, t: str) -> bool:\n",
        "        dict = {}\n",
        "        for char in s:\n",
        "            if char in dict:\n",
        "                dict[char] += 1\n",
        "            else:\n",
        "                dict[char] = 1\n",
        "        \n",
        "        for char in t:\n",
        "            if char in dict:\n",
        "                dict[char] -= 1\n",
        "                if dict[char] == -1:\n",
        "                    return False\n",
        "                elif dict[char] == 0:\n",
        "                    del dict[char]\n",
        "            else:\n",
        "                return False\n",
        "        \n",
        "        return len(dict.keys()) == 0\n",
        "            "
      ]
    }
  ]
}