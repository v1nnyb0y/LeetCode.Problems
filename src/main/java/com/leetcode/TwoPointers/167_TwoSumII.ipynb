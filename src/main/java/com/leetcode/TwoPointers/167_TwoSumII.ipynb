{
  "nbformat": 4,
  "nbformat_minor": 0,
  "metadata": {
    "colab": {
      "name": "167.ipynb",
      "provenance": [],
      "authorship_tag": "ABX9TyMSSleIpkT9jiNJj5rqLvWt",
      "include_colab_link": true
    },
    "kernelspec": {
      "name": "python3",
      "display_name": "Python 3"
    },
    "language_info": {
      "name": "python"
    }
  },
  "cells": [
    {
      "cell_type": "markdown",
      "metadata": {
        "id": "view-in-github",
        "colab_type": "text"
      },
      "source": [
        "<a href=\"https://colab.research.google.com/github/v1nnyb0y/leetcode/blob/master/TwoPointers/167_TwoSumII.ipynb\" target=\"_parent\"><img src=\"https://colab.research.google.com/assets/colab-badge.svg\" alt=\"Open In Colab\"/></a>"
      ]
    },
    {
      "cell_type": "code",
      "execution_count": null,
      "metadata": {
        "id": "I_CqdmvalSMV"
      },
      "outputs": [],
      "source": [
        "class Solution:\n",
        "    def twoSum(self, numbers: List[int], target: int) -> List[int]:\n",
        "        l, r = 0, len(numbers) - 1\n",
        "        while l < r:\n",
        "            sums = numbers[l] + numbers[r]\n",
        "            if sums == target:\n",
        "                break\n",
        "            elif sums > target:\n",
        "                r -= 1\n",
        "            else:\n",
        "                l += 1\n",
        "        \n",
        "        return [l + 1, r + 1]"
      ]
    }
  ]
}