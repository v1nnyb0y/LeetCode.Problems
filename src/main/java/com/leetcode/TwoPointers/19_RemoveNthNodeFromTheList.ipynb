{
  "nbformat": 4,
  "nbformat_minor": 0,
  "metadata": {
    "colab": {
      "name": "19.ipynb",
      "provenance": [],
      "authorship_tag": "ABX9TyNEKSUviaVJlsgXEXV+udv4",
      "include_colab_link": true
    },
    "kernelspec": {
      "name": "python3",
      "display_name": "Python 3"
    },
    "language_info": {
      "name": "python"
    }
  },
  "cells": [
    {
      "cell_type": "markdown",
      "metadata": {
        "id": "view-in-github",
        "colab_type": "text"
      },
      "source": [
        "<a href=\"https://colab.research.google.com/github/v1nnyb0y/LeetCode.Problems/blob/master/TwoPointers/19_RemoveNthNodeFromTheList.ipynb\" target=\"_parent\"><img src=\"https://colab.research.google.com/assets/colab-badge.svg\" alt=\"Open In Colab\"/></a>"
      ]
    },
    {
      "cell_type": "code",
      "execution_count": null,
      "metadata": {
        "id": "Oiw-Dfx2yV1J"
      },
      "outputs": [],
      "source": [
        "# Definition for singly-linked list.\n",
        "class ListNode:\n",
        "    def __init__(self, val=0, next=None):\n",
        "        self.val = val\n",
        "        self.next = next\n",
        "class Solution:\n",
        "    def removeNthFromEnd(self, head: Optional[ListNode], n: int) -> Optional[ListNode]:\n",
        "        node1 = head\n",
        "        for _ in range(n + 1):\n",
        "            if node1 is None:\n",
        "                return head.next\n",
        "            node1 = node1.next\n",
        "        \n",
        "        node = head\n",
        "        while node1:\n",
        "            node1 = node1.next\n",
        "            node = node.next\n",
        "            \n",
        "        node.next = node.next.next\n",
        "        return head"
      ]
    }
  ]
}