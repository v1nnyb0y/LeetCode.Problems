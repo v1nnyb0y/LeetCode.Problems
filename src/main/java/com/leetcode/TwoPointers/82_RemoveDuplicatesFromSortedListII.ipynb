{
  "nbformat": 4,
  "nbformat_minor": 0,
  "metadata": {
    "colab": {
      "name": "82.ipynb",
      "provenance": [],
      "authorship_tag": "ABX9TyMXcwCccoS8PrcTjidigaNa",
      "include_colab_link": true
    },
    "kernelspec": {
      "name": "python3",
      "display_name": "Python 3"
    },
    "language_info": {
      "name": "python"
    }
  },
  "cells": [
    {
      "cell_type": "markdown",
      "metadata": {
        "id": "view-in-github",
        "colab_type": "text"
      },
      "source": [
        "<a href=\"https://colab.research.google.com/github/v1nnyb0y/leetcode/blob/master/TwoPointers/82_RemoveDuplicatesFromSortedListII.ipynb\" target=\"_parent\"><img src=\"https://colab.research.google.com/assets/colab-badge.svg\" alt=\"Open In Colab\"/></a>"
      ]
    },
    {
      "cell_type": "code",
      "execution_count": null,
      "metadata": {
        "id": "y8ryFr6W9m2N"
      },
      "outputs": [],
      "source": [
        "# Definition for singly-linked list.\n",
        "# class ListNode:\n",
        "#     def __init__(self, val=0, next=None):\n",
        "#         self.val = val\n",
        "#         self.next = next\n",
        "class Solution:\n",
        "    def deleteDuplicates(self, head: Optional[ListNode]) -> Optional[ListNode]:\n",
        "        # sentinel\n",
        "        sentinel = ListNode(0, head)\n",
        "\n",
        "        # predecessor = the last node \n",
        "        # before the sublist of duplicates\n",
        "        pred = sentinel\n",
        "        \n",
        "        while head:\n",
        "            # if it's a beginning of duplicates sublist \n",
        "            # skip all duplicates\n",
        "            if head.next and head.val == head.next.val:\n",
        "                # move till the end of duplicates sublist\n",
        "                while head.next and head.val == head.next.val:\n",
        "                    head = head.next\n",
        "                # skip all duplicates\n",
        "                pred.next = head.next \n",
        "            # otherwise, move predecessor\n",
        "            else:\n",
        "                pred = pred.next \n",
        "                \n",
        "            # move forward\n",
        "            head = head.next\n",
        "            \n",
        "        return sentinel.next"
      ]
    }
  ]
}