{
  "nbformat": 4,
  "nbformat_minor": 0,
  "metadata": {
    "colab": {
      "provenance": [],
      "authorship_tag": "ABX9TyOaBikLXVD4oei4cqe3xxly",
      "include_colab_link": true
    },
    "kernelspec": {
      "name": "python3",
      "display_name": "Python 3"
    },
    "language_info": {
      "name": "python"
    }
  },
  "cells": [
    {
      "cell_type": "markdown",
      "metadata": {
        "id": "view-in-github",
        "colab_type": "text"
      },
      "source": [
        "<a href=\"https://colab.research.google.com/github/v1nnyb0y/leetcode/blob/master/Array/393_utf-8-validation.ipynb\" target=\"_parent\"><img src=\"https://colab.research.google.com/assets/colab-badge.svg\" alt=\"Open In Colab\"/></a>"
      ]
    },
    {
      "cell_type": "code",
      "execution_count": null,
      "metadata": {
        "id": "8bMOVwvcprMc"
      },
      "outputs": [],
      "source": [
        "class Solution:\n",
        "\n",
        "    def count_ones(self, binary):\n",
        "        ones = 0\n",
        "        for char in binary:\n",
        "            if char == '1':\n",
        "                ones +=1\n",
        "            else:\n",
        "                break\n",
        "        return ones\n",
        "\n",
        "    def validUtf8(self, data: List[int]):\n",
        "        binary_array = [bin(num).lstrip('0b').zfill(8) for num in data]\n",
        "        while binary_array:\n",
        "            num_digits = self.count_ones(binary_array[0])\n",
        "            # 1 byte character. first bit is 0 followed by unicode character\n",
        "            if num_digits == 0:\n",
        "                binary_array.pop(0)\n",
        "            elif num_digits == 1 or num_digits > 4:\n",
        "                # Rules of the problem? The num_digits cannot 1 or > 4\n",
        "                return False\n",
        "            else:\n",
        "                # n byte character. For n-bytes character, the first n-bits are all one's\n",
        "                # num_digits digit popped off\n",
        "                binary_array.pop(0)\n",
        "                remaining_bits = num_digits - 1\n",
        "                # Followed by n-1 bytes with most significant 2 bits being 10.\n",
        "                for digit in range(remaining_bits):\n",
        "                    if binary_array and binary_array[0][:2] == '10':\n",
        "                        binary_array.pop(0)\n",
        "                    else:\n",
        "                        return False\n",
        "        return True"
      ]
    }
  ]
}