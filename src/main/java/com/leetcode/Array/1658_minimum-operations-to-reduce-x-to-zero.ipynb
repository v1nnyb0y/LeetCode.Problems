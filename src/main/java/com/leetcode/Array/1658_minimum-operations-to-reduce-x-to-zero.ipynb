{
  "nbformat": 4,
  "nbformat_minor": 0,
  "metadata": {
    "colab": {
      "name": "1658.ipynb",
      "provenance": [],
      "authorship_tag": "ABX9TyODUtRi45PXCzgQG1qIL0tV",
      "include_colab_link": true
    },
    "kernelspec": {
      "name": "python3",
      "display_name": "Python 3"
    },
    "language_info": {
      "name": "python"
    }
  },
  "cells": [
    {
      "cell_type": "markdown",
      "metadata": {
        "id": "view-in-github",
        "colab_type": "text"
      },
      "source": [
        "<a href=\"https://colab.research.google.com/github/v1nnyb0y/leetcode/blob/master/Array/1658_minimum-operations-to-reduce-x-to-zero.ipynb\" target=\"_parent\"><img src=\"https://colab.research.google.com/assets/colab-badge.svg\" alt=\"Open In Colab\"/></a>"
      ]
    },
    {
      "cell_type": "code",
      "execution_count": null,
      "metadata": {
        "id": "cRbVScPYezbB"
      },
      "outputs": [],
      "source": [
        "class Solution:\n",
        "    def minOperations(self, nums: List[int], x: int) -> int:\n",
        "        d = {0: -1}\n",
        "        cur_sum = max_len = 0\n",
        "        k = sum(nums) - x\n",
        "        if k == 0: return len(nums)\n",
        "        for i, n in enumerate(nums):\n",
        "            cur_sum += n\n",
        "            if cur_sum - k in d:\n",
        "                max_len = max(max_len, i - d[cur_sum - k])\n",
        "            if cur_sum not in d:\n",
        "                d[cur_sum] = i\n",
        "        return len(nums) - max_len if max_len != 0 else -1"
      ]
    }
  ]
}