{
  "nbformat": 4,
  "nbformat_minor": 0,
  "metadata": {
    "colab": {
      "name": "1329.ipynb",
      "provenance": [],
      "authorship_tag": "ABX9TyPcrkMrFKQlL3KQjmUmgOOH",
      "include_colab_link": true
    },
    "kernelspec": {
      "name": "python3",
      "display_name": "Python 3"
    },
    "language_info": {
      "name": "python"
    }
  },
  "cells": [
    {
      "cell_type": "markdown",
      "metadata": {
        "id": "view-in-github",
        "colab_type": "text"
      },
      "source": [
        "<a href=\"https://colab.research.google.com/github/v1nnyb0y/leetcode/blob/master/Array/1329_sort-the-matrix-diagonally.ipynb\" target=\"_parent\"><img src=\"https://colab.research.google.com/assets/colab-badge.svg\" alt=\"Open In Colab\"/></a>"
      ]
    },
    {
      "cell_type": "code",
      "execution_count": null,
      "metadata": {
        "id": "HNKtoIUyZ5h3"
      },
      "outputs": [],
      "source": [
        "class Solution:\n",
        "    def diagonalSort(self, A):\n",
        "        n, m = len(A), len(A[0])\n",
        "        d = collections.defaultdict(list)\n",
        "        for i in range(n):\n",
        "            for j in range(m):\n",
        "                d[i - j].append(A[i][j])\n",
        "        for k in d:\n",
        "            d[k].sort(reverse=1)\n",
        "        for i in range(n):\n",
        "            for j in range(m):\n",
        "                A[i][j] = d[i - j].pop()\n",
        "        return A\n",
        "        "
      ]
    }
  ]
}