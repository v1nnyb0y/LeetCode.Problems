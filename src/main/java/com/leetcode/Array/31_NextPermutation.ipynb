{
  "nbformat": 4,
  "nbformat_minor": 0,
  "metadata": {
    "colab": {
      "name": "31.ipynb",
      "provenance": [],
      "authorship_tag": "ABX9TyO/jhe69ZbjuVqyJ3qFEY7S",
      "include_colab_link": true
    },
    "kernelspec": {
      "name": "python3",
      "display_name": "Python 3"
    },
    "language_info": {
      "name": "python"
    }
  },
  "cells": [
    {
      "cell_type": "markdown",
      "metadata": {
        "id": "view-in-github",
        "colab_type": "text"
      },
      "source": [
        "<a href=\"https://colab.research.google.com/github/v1nnyb0y/leetcode/blob/master/Array/31_NextPermutation.ipynb\" target=\"_parent\"><img src=\"https://colab.research.google.com/assets/colab-badge.svg\" alt=\"Open In Colab\"/></a>"
      ]
    },
    {
      "cell_type": "code",
      "execution_count": null,
      "metadata": {
        "id": "KZgeXLpYKBgr"
      },
      "outputs": [],
      "source": [
        "class Solution:\n",
        "    def nextPermutation(self, nums: List[int]) -> None:\n",
        "        \"\"\"\n",
        "        Do not return anything, modify nums in-place instead.\n",
        "        \"\"\"\n",
        "        def reverse(nums, start):\n",
        "            i, j = start, len(nums) - 1\n",
        "            while i < j:\n",
        "                nums[i], nums[j] = nums[j], nums[i]\n",
        "                i += 1\n",
        "                j -= 1\n",
        "        \n",
        "        i = len(nums) - 2\n",
        "        while i >= 0 and nums[i + 1] <= nums[i]:\n",
        "            i -= 1\n",
        "        \n",
        "        if i >= 0:\n",
        "            j = len(nums) - 1\n",
        "            while nums[j] <= nums[i]:\n",
        "                j -= 1\n",
        "            \n",
        "            nums[i], nums[j] = nums[j], nums[i]\n",
        "        reverse(nums, i + 1)\n",
        "        "
      ]
    }
  ]
}