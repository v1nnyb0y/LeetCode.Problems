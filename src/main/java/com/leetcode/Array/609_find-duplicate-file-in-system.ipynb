{
  "nbformat": 4,
  "nbformat_minor": 0,
  "metadata": {
    "colab": {
      "provenance": [],
      "authorship_tag": "ABX9TyP6Rv5bVsHFMsc9PAa4Tc6k",
      "include_colab_link": true
    },
    "kernelspec": {
      "name": "python3",
      "display_name": "Python 3"
    },
    "language_info": {
      "name": "python"
    }
  },
  "cells": [
    {
      "cell_type": "markdown",
      "metadata": {
        "id": "view-in-github",
        "colab_type": "text"
      },
      "source": [
        "<a href=\"https://colab.research.google.com/github/v1nnyb0y/leetcode/blob/master/Array/609_find-duplicate-file-in-system.ipynb\" target=\"_parent\"><img src=\"https://colab.research.google.com/assets/colab-badge.svg\" alt=\"Open In Colab\"/></a>"
      ]
    },
    {
      "cell_type": "code",
      "execution_count": null,
      "metadata": {
        "id": "1_vhx-OjMwGC"
      },
      "outputs": [],
      "source": [
        "class Solution:\n",
        "    def findDuplicate(self, paths):\n",
        "        M = collections.defaultdict(list)\n",
        "        for line in paths:\n",
        "            data = line.split()\n",
        "            root = data[0]\n",
        "            for file in data[1:]:\n",
        "                name, _, content = file.partition('(')\n",
        "                M[content[:-1]].append(root + '/' + name)\n",
        "\n",
        "        return [x for x in M.values() if len(x) > 1]\n",
        "        "
      ]
    }
  ]
}