{
  "nbformat": 4,
  "nbformat_minor": 0,
  "metadata": {
    "colab": {
      "name": "462.ipynb",
      "provenance": [],
      "authorship_tag": "ABX9TyNtldGFX/sF1ElopdKVVLTU",
      "include_colab_link": true
    },
    "kernelspec": {
      "name": "python3",
      "display_name": "Python 3"
    },
    "language_info": {
      "name": "python"
    }
  },
  "cells": [
    {
      "cell_type": "markdown",
      "metadata": {
        "id": "view-in-github",
        "colab_type": "text"
      },
      "source": [
        "<a href=\"https://colab.research.google.com/github/v1nnyb0y/leetcode/blob/master/Array/462_minimum-moves-to-equal-array-elements-ii.ipynb\" target=\"_parent\"><img src=\"https://colab.research.google.com/assets/colab-badge.svg\" alt=\"Open In Colab\"/></a>"
      ]
    },
    {
      "cell_type": "code",
      "execution_count": null,
      "metadata": {
        "id": "5zsmJ3RbqJJP"
      },
      "outputs": [],
      "source": [
        "class Solution(object):\n",
        "    def minMoves2(self, nums):\n",
        "        \"\"\"\n",
        "        :type nums: List[int]\n",
        "        :rtype: int\n",
        "        \"\"\"\n",
        "        nums = sorted(nums)\n",
        "        median = nums[len(nums) // 2]\n",
        "        res = 0\n",
        "        for n in nums:\n",
        "            res += abs(n-median)\n",
        "        return res"
      ]
    }
  ]
}