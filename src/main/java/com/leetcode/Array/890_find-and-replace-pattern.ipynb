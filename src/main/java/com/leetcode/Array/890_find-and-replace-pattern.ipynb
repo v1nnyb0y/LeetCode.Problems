{
  "nbformat": 4,
  "nbformat_minor": 0,
  "metadata": {
    "colab": {
      "name": "890.ipynb",
      "provenance": [],
      "authorship_tag": "ABX9TyNPJvoFqXUcMJwaphJ4ULAf",
      "include_colab_link": true
    },
    "kernelspec": {
      "name": "python3",
      "display_name": "Python 3"
    },
    "language_info": {
      "name": "python"
    }
  },
  "cells": [
    {
      "cell_type": "markdown",
      "metadata": {
        "id": "view-in-github",
        "colab_type": "text"
      },
      "source": [
        "<a href=\"https://colab.research.google.com/github/v1nnyb0y/leetcode/blob/master/Array/890_find-and-replace-pattern.ipynb\" target=\"_parent\"><img src=\"https://colab.research.google.com/assets/colab-badge.svg\" alt=\"Open In Colab\"/></a>"
      ]
    },
    {
      "cell_type": "code",
      "execution_count": null,
      "metadata": {
        "id": "jc4XaQ0oDr0S"
      },
      "outputs": [],
      "source": [
        "class Solution:\n",
        "    def findAndReplacePattern(self, words, pattern):\n",
        "        \"\"\"\n",
        "        :type words: List[str]\n",
        "        :type pattern: str\n",
        "        :rtype: List[str]\n",
        "        \"\"\"\n",
        "        length = len(pattern)\n",
        "        res = []\n",
        "        for w in words:\n",
        "            if len(w) != length:\n",
        "                continue\n",
        "            dic1 = {}\n",
        "            dic2 = {}\n",
        "            flag = True\n",
        "            for i in range(length):\n",
        "                if w[i] in dic1 and dic1[w[i]] != pattern[i] or pattern[i] in dic2 and dic2[pattern[i]] != w[i]:\n",
        "                    flag = False\n",
        "                    break\n",
        "                dic1[w[i]] = pattern[i]\n",
        "                dic2[pattern[i]] = w[i]\n",
        "            if flag:\n",
        "                res.append(w)\n",
        "        return res"
      ]
    }
  ]
}