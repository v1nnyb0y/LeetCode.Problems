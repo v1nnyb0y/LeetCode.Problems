{
  "nbformat": 4,
  "nbformat_minor": 0,
  "metadata": {
    "colab": {
      "provenance": [],
      "authorship_tag": "ABX9TyNe+Us3QeXdC//PaP3P/SV3",
      "include_colab_link": true
    },
    "kernelspec": {
      "name": "python3",
      "display_name": "Python 3"
    },
    "language_info": {
      "name": "python"
    }
  },
  "cells": [
    {
      "cell_type": "markdown",
      "metadata": {
        "id": "view-in-github",
        "colab_type": "text"
      },
      "source": [
        "<a href=\"https://colab.research.google.com/github/v1nnyb0y/leetcode/blob/master/Array/188_best-time-to-buy-and-sell-stock-iv.ipynb\" target=\"_parent\"><img src=\"https://colab.research.google.com/assets/colab-badge.svg\" alt=\"Open In Colab\"/></a>"
      ]
    },
    {
      "cell_type": "code",
      "execution_count": null,
      "metadata": {
        "id": "7IiFfWM9iQBb"
      },
      "outputs": [],
      "source": [
        "class Solution:\n",
        "    def maxProfit(self, k: int, prices: List[int]) -> int:\n",
        "        if not k or not prices or len(prices) < 2:\n",
        "            return 0\n",
        "        if k > len(prices) >> 1: # You got enough transaction times to capture all possible profit\n",
        "            return sum(prices[i+1]-prices[i] for i in range(len(prices)-1) if prices[i+1]>prices[i])\n",
        "        \n",
        "        NH = [0] * len(prices)\n",
        "        res = 0\n",
        "        for j in range(k):\n",
        "            H = [-float('inf')]\n",
        "            cur_NH = [-float('inf')]\n",
        "            for idx, p in enumerate(prices):\n",
        "                H.append(max(NH[idx]-p, H[-1]))\n",
        "                cur_NH.append(max(H[idx]+p, cur_NH[-1]))\n",
        "            res = max(res, cur_NH[-1])\n",
        "            NH = cur_NH\n",
        "        return res       "
      ]
    }
  ]
}