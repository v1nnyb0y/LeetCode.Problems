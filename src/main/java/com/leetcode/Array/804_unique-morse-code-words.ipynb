{
  "nbformat": 4,
  "nbformat_minor": 0,
  "metadata": {
    "colab": {
      "name": "804.ipynb",
      "provenance": [],
      "authorship_tag": "ABX9TyNdRfvqyPZIPqlvKEoJ9DSk",
      "include_colab_link": true
    },
    "kernelspec": {
      "name": "python3",
      "display_name": "Python 3"
    },
    "language_info": {
      "name": "python"
    }
  },
  "cells": [
    {
      "cell_type": "markdown",
      "metadata": {
        "id": "view-in-github",
        "colab_type": "text"
      },
      "source": [
        "<a href=\"https://colab.research.google.com/github/v1nnyb0y/leetcode/blob/master/Array/804_unique-morse-code-words.ipynb\" target=\"_parent\"><img src=\"https://colab.research.google.com/assets/colab-badge.svg\" alt=\"Open In Colab\"/></a>"
      ]
    },
    {
      "cell_type": "code",
      "execution_count": null,
      "metadata": {
        "id": "Nx8U8aGaiR3w"
      },
      "outputs": [],
      "source": [
        "class Solution:\n",
        "    def uniqueMorseRepresentations(self, words: List[str]) -> int:\n",
        "        d=[\".-\",\"-...\",\"-.-.\",\"-..\",\".\",\"..-.\",\"--.\",\"....\",\"..\",\".---\",\"-.-\",\".-..\",\"--\",\"-.\",\"---\",\".--.\",\"--.-\",\".-.\",\"...\",\"-\",\"..-\",\"...-\",\".--\",\"-..-\",\"-.--\",\"--..\"]\n",
        "        x=[]\n",
        "        c=0\n",
        "        for j in words:\n",
        "            w=j\n",
        "            s=\"\"\n",
        "            for i in w:\n",
        "                s+=d[ord(i)-97]\n",
        "            if(s not in x):\n",
        "                x.append(s)\n",
        "                c+=1\n",
        "        return c"
      ]
    }
  ]
}