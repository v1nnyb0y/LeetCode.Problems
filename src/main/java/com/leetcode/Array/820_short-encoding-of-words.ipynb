{
  "nbformat": 4,
  "nbformat_minor": 0,
  "metadata": {
    "colab": {
      "name": "820.ipynb",
      "provenance": [],
      "authorship_tag": "ABX9TyN2iNlwQxom57sPp57nZJ8Q",
      "include_colab_link": true
    },
    "kernelspec": {
      "name": "python3",
      "display_name": "Python 3"
    },
    "language_info": {
      "name": "python"
    }
  },
  "cells": [
    {
      "cell_type": "markdown",
      "metadata": {
        "id": "view-in-github",
        "colab_type": "text"
      },
      "source": [
        "<a href=\"https://colab.research.google.com/github/v1nnyb0y/leetcode/blob/master/Array/820_short-encoding-of-words.ipynb\" target=\"_parent\"><img src=\"https://colab.research.google.com/assets/colab-badge.svg\" alt=\"Open In Colab\"/></a>"
      ]
    },
    {
      "cell_type": "code",
      "execution_count": null,
      "metadata": {
        "id": "tjrmiQiaSt-s"
      },
      "outputs": [],
      "source": [
        "class TrieNode:\n",
        "    def __init__(self, char):\n",
        "        self.char = char\n",
        "        self.next_char = {}\n",
        "\n",
        "\n",
        "class Trie:\n",
        "    def __init__(self):\n",
        "        self.root = TrieNode('')\n",
        "    \n",
        "    def add(self, word, node):\n",
        "        if not word:\n",
        "            return\n",
        "        if word[0] not in node.next_char.keys():\n",
        "            node.next_char[word[0]] = TrieNode(word[0])\n",
        "        self.add(word[1:], node.next_char[word[0]])\n",
        "        \n",
        "\n",
        "class Solution:\n",
        "    def minimumLengthEncoding(self, words):\n",
        "        tr = Trie()\n",
        "        for word in words:\n",
        "            tr.add(word[::-1], tr.root)\n",
        "        \n",
        "        self.ans = 0\n",
        "        def leafsum(node, d=0):\n",
        "            if not node.next_char:\n",
        "                self.ans += d+1\n",
        "            for x in node.next_char.values():\n",
        "                leafsum(x, d+1)\n",
        "        \n",
        "        leafsum(tr.root)\n",
        "        return self.ans"
      ]
    }
  ]
}