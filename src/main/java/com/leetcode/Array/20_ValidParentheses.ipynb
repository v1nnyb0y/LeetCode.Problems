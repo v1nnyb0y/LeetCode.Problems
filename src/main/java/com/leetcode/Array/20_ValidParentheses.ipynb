{
  "nbformat": 4,
  "nbformat_minor": 0,
  "metadata": {
    "colab": {
      "name": "20.ipynb",
      "provenance": [],
      "authorship_tag": "ABX9TyNUcwLuFm4StGTsrCA7qe5R",
      "include_colab_link": true
    },
    "kernelspec": {
      "name": "python3",
      "display_name": "Python 3"
    },
    "language_info": {
      "name": "python"
    }
  },
  "cells": [
    {
      "cell_type": "markdown",
      "metadata": {
        "id": "view-in-github",
        "colab_type": "text"
      },
      "source": [
        "<a href=\"https://colab.research.google.com/github/v1nnyb0y/leetcode/blob/master/Array/20_ValidParentheses.ipynb\" target=\"_parent\"><img src=\"https://colab.research.google.com/assets/colab-badge.svg\" alt=\"Open In Colab\"/></a>"
      ]
    },
    {
      "cell_type": "code",
      "execution_count": null,
      "metadata": {
        "id": "pOfo4OimHE4G"
      },
      "outputs": [],
      "source": [
        "class Solution:\n",
        "    def isValid(self, s: str) -> bool:\n",
        "        stack = []\n",
        "        for char in s:\n",
        "            if char in '({[':\n",
        "                stack.append(char)\n",
        "            elif len(stack) > 0:\n",
        "                if char == ']' and stack[-1] == '[':\n",
        "                    stack.pop()\n",
        "                elif char == '}' and stack[-1] == '{':\n",
        "                    stack.pop()\n",
        "                elif char == ')' and stack[-1] == '(':\n",
        "                    stack.pop()\n",
        "                else:\n",
        "                    return False\n",
        "            else:\n",
        "                return False\n",
        "        \n",
        "        return len(stack) == 0"
      ]
    }
  ]
}