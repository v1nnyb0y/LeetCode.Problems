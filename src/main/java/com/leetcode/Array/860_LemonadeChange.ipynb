{
  "nbformat": 4,
  "nbformat_minor": 0,
  "metadata": {
    "colab": {
      "name": "860.ipynb",
      "provenance": [],
      "authorship_tag": "ABX9TyMW7hAwN8e1IjlEu2sb6pCX",
      "include_colab_link": true
    },
    "kernelspec": {
      "name": "python3",
      "display_name": "Python 3"
    },
    "language_info": {
      "name": "python"
    }
  },
  "cells": [
    {
      "cell_type": "markdown",
      "metadata": {
        "id": "view-in-github",
        "colab_type": "text"
      },
      "source": [
        "<a href=\"https://colab.research.google.com/github/v1nnyb0y/leetcode/blob/master/Array/860_LemonadeChange.ipynb\" target=\"_parent\"><img src=\"https://colab.research.google.com/assets/colab-badge.svg\" alt=\"Open In Colab\"/></a>"
      ]
    },
    {
      "cell_type": "code",
      "execution_count": null,
      "metadata": {
        "id": "HLo1CsdMANOh"
      },
      "outputs": [],
      "source": [
        "class Solution:\n",
        "    def lemonadeChange(self, bills: List[int]) -> bool:\n",
        "        five = ten = 0\n",
        "        for bill in bills:\n",
        "            if bill == 5:\n",
        "                five += 1\n",
        "            elif bill == 10:\n",
        "                if not five: return False\n",
        "                five -= 1\n",
        "                ten += 1\n",
        "            else:\n",
        "                if ten and five:\n",
        "                    ten -= 1\n",
        "                    five -= 1\n",
        "                elif five >= 3:\n",
        "                    five -= 3\n",
        "                else:\n",
        "                    return False\n",
        "        return True"
      ]
    }
  ]
}