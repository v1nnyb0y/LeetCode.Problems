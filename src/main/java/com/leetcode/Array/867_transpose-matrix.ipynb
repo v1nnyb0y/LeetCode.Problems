{
  "nbformat": 4,
  "nbformat_minor": 0,
  "metadata": {
    "colab": {
      "name": "867.ipynb",
      "provenance": [],
      "authorship_tag": "ABX9TyPaZkDGpnOFutoIZMf0SwuK",
      "include_colab_link": true
    },
    "kernelspec": {
      "name": "python3",
      "display_name": "Python 3"
    },
    "language_info": {
      "name": "python"
    }
  },
  "cells": [
    {
      "cell_type": "markdown",
      "metadata": {
        "id": "view-in-github",
        "colab_type": "text"
      },
      "source": [
        "<a href=\"https://colab.research.google.com/github/v1nnyb0y/leetcode/blob/master/Array/867_transpose-matrix.ipynb\" target=\"_parent\"><img src=\"https://colab.research.google.com/assets/colab-badge.svg\" alt=\"Open In Colab\"/></a>"
      ]
    },
    {
      "cell_type": "code",
      "execution_count": null,
      "metadata": {
        "id": "mBnRQtFsWNtk"
      },
      "outputs": [],
      "source": [
        "class Solution(object):\n",
        "    def transpose(self, A):\n",
        "        R, C = len(A), len(A[0])\n",
        "        ans = [[None] * R for _ in range(C)]\n",
        "        for r, row in enumerate(A):\n",
        "            for c, val in enumerate(row):\n",
        "                ans[c][r] = val\n",
        "        return ans"
      ]
    }
  ]
}