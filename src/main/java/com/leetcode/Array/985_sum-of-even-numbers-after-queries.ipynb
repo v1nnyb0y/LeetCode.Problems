{
  "nbformat": 4,
  "nbformat_minor": 0,
  "metadata": {
    "colab": {
      "provenance": [],
      "authorship_tag": "ABX9TyMHuiAhc0p6dEFPZP3vKNdc",
      "include_colab_link": true
    },
    "kernelspec": {
      "name": "python3",
      "display_name": "Python 3"
    },
    "language_info": {
      "name": "python"
    }
  },
  "cells": [
    {
      "cell_type": "markdown",
      "metadata": {
        "id": "view-in-github",
        "colab_type": "text"
      },
      "source": [
        "<a href=\"https://colab.research.google.com/github/v1nnyb0y/leetcode/blob/master/Array/985_sum-of-even-numbers-after-queries.ipynb\" target=\"_parent\"><img src=\"https://colab.research.google.com/assets/colab-badge.svg\" alt=\"Open In Colab\"/></a>"
      ]
    },
    {
      "cell_type": "code",
      "execution_count": null,
      "metadata": {
        "id": "Gc_QVS_Bt4vn"
      },
      "outputs": [],
      "source": [
        "class Solution:\n",
        "    def sumEvenAfterQueries(self, A: List[int], queries: List[List[int]]) -> List[int]:\n",
        "        sm = sum(a for a in A if a % 2 == 0)\n",
        "        for i in range(len(queries)):\n",
        "            val, ind = queries[i]\n",
        "            sm -= A[ind] % 2 == 0 and A[ind]\n",
        "            A[ind] += val\n",
        "            sm += A[ind] % 2 == 0 and A[ind]\n",
        "            queries[i] = sm\n",
        "        return queries"
      ]
    }
  ]
}