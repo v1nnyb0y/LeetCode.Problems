{
  "nbformat": 4,
  "nbformat_minor": 0,
  "metadata": {
    "colab": {
      "name": "283.ipynb",
      "provenance": [],
      "authorship_tag": "ABX9TyPpEFQYkbfmYDFSr2Y3s+6E",
      "include_colab_link": true
    },
    "kernelspec": {
      "name": "python3",
      "display_name": "Python 3"
    },
    "language_info": {
      "name": "python"
    }
  },
  "cells": [
    {
      "cell_type": "markdown",
      "metadata": {
        "id": "view-in-github",
        "colab_type": "text"
      },
      "source": [
        "<a href=\"https://colab.research.google.com/github/v1nnyb0y/LeetCode.Problems/blob/master/Array/283_MoveZeroes.ipynb\" target=\"_parent\"><img src=\"https://colab.research.google.com/assets/colab-badge.svg\" alt=\"Open In Colab\"/></a>"
      ]
    },
    {
      "cell_type": "code",
      "execution_count": null,
      "metadata": {
        "id": "SWvErkl5Die1"
      },
      "outputs": [],
      "source": [
        "class Solution:\n",
        "    def moveZeroes(self, nums: List[int]) -> None:\n",
        "        \"\"\"\n",
        "        Do not return anything, modify nums in-place instead.\n",
        "        \"\"\"\n",
        "        lastNonZeroFoundAt = 0\n",
        "        for i in range(len(nums)):\n",
        "            if nums[i] != 0:\n",
        "                nums[lastNonZeroFoundAt] = nums[i]\n",
        "                lastNonZeroFoundAt += 1\n",
        "        \n",
        "        for i in range(lastNonZeroFoundAt, len(nums)):\n",
        "            nums[i] = 0"
      ]
    }
  ]
}