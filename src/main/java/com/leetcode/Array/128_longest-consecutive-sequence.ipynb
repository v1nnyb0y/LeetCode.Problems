{
  "nbformat": 4,
  "nbformat_minor": 0,
  "metadata": {
    "colab": {
      "name": "128.ipynb",
      "provenance": [],
      "authorship_tag": "ABX9TyPfHqu/DX4qr4m2HFLzZSjo",
      "include_colab_link": true
    },
    "kernelspec": {
      "name": "python3",
      "display_name": "Python 3"
    },
    "language_info": {
      "name": "python"
    }
  },
  "cells": [
    {
      "cell_type": "markdown",
      "metadata": {
        "id": "view-in-github",
        "colab_type": "text"
      },
      "source": [
        "<a href=\"https://colab.research.google.com/github/v1nnyb0y/leetcode/blob/master/Array/128_longest-consecutive-sequence.ipynb\" target=\"_parent\"><img src=\"https://colab.research.google.com/assets/colab-badge.svg\" alt=\"Open In Colab\"/></a>"
      ]
    },
    {
      "cell_type": "code",
      "execution_count": null,
      "metadata": {
        "id": "Xj25jro-c39j"
      },
      "outputs": [],
      "source": [
        "class Solution(object):\n",
        "    def longestConsecutive(self, nums):\n",
        "        \"\"\"\n",
        "        :type nums: List[int]\n",
        "        :rtype: int\n",
        "        \"\"\"\n",
        "        h = set()\n",
        "        for n in nums:\n",
        "            h.add(n)\n",
        "        ans = 0\n",
        "        while h:\n",
        "            x = h.pop()\n",
        "            count = 1\n",
        "            a, b = x-1, x+1\n",
        "            while a in h:\n",
        "                count += 1\n",
        "                h.remove(a)\n",
        "                a -= 1\n",
        "            while b in h:\n",
        "                count += 1\n",
        "                h.remove(b)\n",
        "                b += 1\n",
        "            ans = max(ans, count)\n",
        "        return ans"
      ]
    }
  ]
}