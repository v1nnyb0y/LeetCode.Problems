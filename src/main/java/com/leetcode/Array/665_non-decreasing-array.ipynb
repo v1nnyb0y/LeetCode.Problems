{
  "nbformat": 4,
  "nbformat_minor": 0,
  "metadata": {
    "colab": {
      "name": "665.ipynb",
      "provenance": [],
      "authorship_tag": "ABX9TyOzfd1yX79FUneQOF4Jfp0p",
      "include_colab_link": true
    },
    "kernelspec": {
      "name": "python3",
      "display_name": "Python 3"
    },
    "language_info": {
      "name": "python"
    }
  },
  "cells": [
    {
      "cell_type": "markdown",
      "metadata": {
        "id": "view-in-github",
        "colab_type": "text"
      },
      "source": [
        "<a href=\"https://colab.research.google.com/github/v1nnyb0y/leetcode/blob/master/Array/665_non-decreasing-array.ipynb\" target=\"_parent\"><img src=\"https://colab.research.google.com/assets/colab-badge.svg\" alt=\"Open In Colab\"/></a>"
      ]
    },
    {
      "cell_type": "code",
      "execution_count": null,
      "metadata": {
        "id": "Cv9bn-Mg8jPB"
      },
      "outputs": [],
      "source": [
        "class Solution(object):\n",
        "    def checkPossibility(self, nums):\n",
        "        \"\"\"\n",
        "        :type nums: List[int]\n",
        "        :rtype: bool\n",
        "        \"\"\"\n",
        "        idx = None\n",
        "        for i in range(1, len(nums)):\n",
        "            if nums[i] < nums[i-1]:\n",
        "                if not idx:\n",
        "                    idx = i\n",
        "                else:\n",
        "                    return False\n",
        "        if not idx or idx - 2 < 0 or nums[idx-2] <= nums[idx] or idx + 1 >= len(nums) or nums[idx-1] <= nums[idx+1]:\n",
        "            return True\n",
        "        return False"
      ]
    }
  ]
}