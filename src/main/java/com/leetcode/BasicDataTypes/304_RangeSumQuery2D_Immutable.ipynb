{
  "nbformat": 4,
  "nbformat_minor": 0,
  "metadata": {
    "colab": {
      "name": "304.ipynb",
      "provenance": [],
      "authorship_tag": "ABX9TyMP6BrajdXEe6CrJ+S5t/z3",
      "include_colab_link": true
    },
    "kernelspec": {
      "name": "python3",
      "display_name": "Python 3"
    },
    "language_info": {
      "name": "python"
    }
  },
  "cells": [
    {
      "cell_type": "markdown",
      "metadata": {
        "id": "view-in-github",
        "colab_type": "text"
      },
      "source": [
        "<a href=\"https://colab.research.google.com/github/v1nnyb0y/leetcode/blob/master/BasicDataTypes/304_RangeSumQuery2D_Immutable.ipynb\" target=\"_parent\"><img src=\"https://colab.research.google.com/assets/colab-badge.svg\" alt=\"Open In Colab\"/></a>"
      ]
    },
    {
      "cell_type": "code",
      "execution_count": null,
      "metadata": {
        "id": "Eum06udZIQdV"
      },
      "outputs": [],
      "source": [
        "class NumMatrix:\n",
        "\n",
        "    def __init__(self, matrix: List[List[int]]):\n",
        "        if len(matrix) == 0 or len(matrix[0]) == 0:\n",
        "            return\n",
        "        \n",
        "        self.dp = []\n",
        "        for r in range(len(matrix) + 1):\n",
        "            self.dp.append([])\n",
        "            for c in range(len(matrix[0]) + 1):\n",
        "                self.dp[r].append(0)\n",
        "        \n",
        "        for r in range(len(matrix)):\n",
        "            for c in range(len(matrix[0])):\n",
        "                self.dp[r + 1][c + 1] = self.dp[r + 1][c] + self.dp[r][c + 1] + matrix[r][c] - self.dp[r][c]\n",
        "\n",
        "    def sumRegion(self, row1: int, col1: int, row2: int, col2: int) -> int:\n",
        "        return self.dp[row2 + 1][col2 + 1] - self.dp[row1][col2 + 1] - self.dp[row2 + 1][col1] + self.dp[row1][col1];\n",
        "        \n",
        "\n",
        "\n",
        "# Your NumMatrix object will be instantiated and called as such:\n",
        "# obj = NumMatrix(matrix)\n",
        "# param_1 = obj.sumRegion(row1,col1,row2,col2)"
      ]
    }
  ]
}