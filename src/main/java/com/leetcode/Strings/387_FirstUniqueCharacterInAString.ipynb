{
  "nbformat": 4,
  "nbformat_minor": 0,
  "metadata": {
    "colab": {
      "name": "387.ipynb",
      "provenance": [],
      "authorship_tag": "ABX9TyNrrYpevpJMv90T2JYz6rCg",
      "include_colab_link": true
    },
    "kernelspec": {
      "name": "python3",
      "display_name": "Python 3"
    },
    "language_info": {
      "name": "python"
    }
  },
  "cells": [
    {
      "cell_type": "markdown",
      "metadata": {
        "id": "view-in-github",
        "colab_type": "text"
      },
      "source": [
        "<a href=\"https://colab.research.google.com/github/v1nnyb0y/leetcode/blob/master/Strings/387_FirstUniqueCharacterInAString.ipynb\" target=\"_parent\"><img src=\"https://colab.research.google.com/assets/colab-badge.svg\" alt=\"Open In Colab\"/></a>"
      ]
    },
    {
      "cell_type": "code",
      "execution_count": 4,
      "metadata": {
        "colab": {
          "base_uri": "https://localhost:8080/"
        },
        "id": "iuGJn70Gsayw",
        "outputId": "6c1325e6-53d4-4d5b-e732-817bd83c5f57"
      },
      "outputs": [
        {
          "output_type": "stream",
          "name": "stdout",
          "text": [
            "l\n"
          ]
        }
      ],
      "source": [
        "class Solution:\n",
        "    def firstUniqChar(self, s: str) -> int:\n",
        "         # build hash map : character and how often it appears\n",
        "        count = collections.Counter(s)\n",
        "        \n",
        "        # find the index\n",
        "        for idx, ch in enumerate(s):\n",
        "            if count[ch] == 1:\n",
        "                return idx     \n",
        "        return -1"
      ]
    }
  ]
}