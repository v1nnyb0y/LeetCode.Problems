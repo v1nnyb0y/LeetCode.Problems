{
  "nbformat": 4,
  "nbformat_minor": 0,
  "metadata": {
    "colab": {
      "name": "451.ipynb",
      "provenance": [],
      "authorship_tag": "ABX9TyPGJGBU7Bm3xrhCruK6kYqn",
      "include_colab_link": true
    },
    "kernelspec": {
      "name": "python3",
      "display_name": "Python 3"
    },
    "language_info": {
      "name": "python"
    }
  },
  "cells": [
    {
      "cell_type": "markdown",
      "metadata": {
        "id": "view-in-github",
        "colab_type": "text"
      },
      "source": [
        "<a href=\"https://colab.research.google.com/github/v1nnyb0y/leetcode/blob/master/Strings/451_SortCharactersByFrequency.ipynb\" target=\"_parent\"><img src=\"https://colab.research.google.com/assets/colab-badge.svg\" alt=\"Open In Colab\"/></a>"
      ]
    },
    {
      "cell_type": "code",
      "execution_count": null,
      "metadata": {
        "id": "aqTbmoLsJsRm"
      },
      "outputs": [],
      "source": [
        "from collections import Counter\n",
        "\n",
        "class Solution:\n",
        "    def frequencySort(self, s: str) -> str:\n",
        "        count = Counter()\n",
        "        count.update(s)\n",
        "        count = count.most_common()\n",
        "        s =''\n",
        "        for (k,v) in count:\n",
        "            s+=k*v\n",
        "        return s\n",
        "        "
      ]
    }
  ]
}