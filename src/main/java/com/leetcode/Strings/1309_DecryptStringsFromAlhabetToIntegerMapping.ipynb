{
  "nbformat": 4,
  "nbformat_minor": 0,
  "metadata": {
    "colab": {
      "name": "1309.ipynb",
      "provenance": [],
      "authorship_tag": "ABX9TyNfRkp2Rrf4TzbxZNOf/jl3",
      "include_colab_link": true
    },
    "kernelspec": {
      "name": "python3",
      "display_name": "Python 3"
    },
    "language_info": {
      "name": "python"
    }
  },
  "cells": [
    {
      "cell_type": "markdown",
      "metadata": {
        "id": "view-in-github",
        "colab_type": "text"
      },
      "source": [
        "<a href=\"https://colab.research.google.com/github/v1nnyb0y/LeetCode.Problems/blob/master/Strings/1309_DecryptStringsFromAlhabetToIntegerMapping.ipynb\" target=\"_parent\"><img src=\"https://colab.research.google.com/assets/colab-badge.svg\" alt=\"Open In Colab\"/></a>"
      ]
    },
    {
      "cell_type": "code",
      "source": [
        "class Solution:\n",
        "    def freqAlphabets(self, s: str) -> str:\n",
        "        i = 0\n",
        "        res = ''\n",
        "        while i < len(s):\n",
        "            if i + 2 < len(s) and s[i + 2] == '#':\n",
        "                res += chr(ord('j') + int(s[i:(i + 2)]) - 10)\n",
        "                i += 3\n",
        "            else:\n",
        "                res += chr(ord('a') + int(s[i]) - 1)\n",
        "                i += 1\n",
        "                \n",
        "        return res"
      ],
      "metadata": {
        "colab": {
          "base_uri": "https://localhost:8080/",
          "height": 37
        },
        "id": "HlfIrEq1Qtlk",
        "outputId": "77acf8af-fc15-4dc7-bf32-927128f7adee"
      },
      "execution_count": 13,
      "outputs": [
        {
          "output_type": "execute_result",
          "data": {
            "text/plain": [
              "'jkab'"
            ],
            "application/vnd.google.colaboratory.intrinsic+json": {
              "type": "string"
            }
          },
          "metadata": {},
          "execution_count": 13
        }
      ]
    },
    {
      "cell_type": "code",
      "execution_count": 3,
      "metadata": {
        "colab": {
          "base_uri": "https://localhost:8080/",
          "height": 37
        },
        "id": "DnMzYz0OOYfq",
        "outputId": "b2b410c2-4f30-46a0-a524-9ec45553b7fc"
      },
      "outputs": [
        {
          "output_type": "execute_result",
          "data": {
            "text/plain": [
              "'b'"
            ],
            "application/vnd.google.colaboratory.intrinsic+json": {
              "type": "string"
            }
          },
          "metadata": {},
          "execution_count": 3
        }
      ],
      "source": [
        "chr(ord('a') + 1)"
      ]
    }
  ]
}