{
  "nbformat": 4,
  "nbformat_minor": 0,
  "metadata": {
    "colab": {
      "name": "30.ipynb",
      "provenance": [],
      "authorship_tag": "ABX9TyP6jzvkcBapiaEBmsi4S/QD",
      "include_colab_link": true
    },
    "kernelspec": {
      "name": "python3",
      "display_name": "Python 3"
    },
    "language_info": {
      "name": "python"
    }
  },
  "cells": [
    {
      "cell_type": "markdown",
      "metadata": {
        "id": "view-in-github",
        "colab_type": "text"
      },
      "source": [
        "<a href=\"https://colab.research.google.com/github/v1nnyb0y/leetcode/blob/master/Strings/30_substring-with-concatenation-of-all-words.ipynb\" target=\"_parent\"><img src=\"https://colab.research.google.com/assets/colab-badge.svg\" alt=\"Open In Colab\"/></a>"
      ]
    },
    {
      "cell_type": "code",
      "execution_count": null,
      "metadata": {
        "id": "DcS8Suu4zxal"
      },
      "outputs": [],
      "source": [
        "class Solution:\n",
        "    def findSubstring(self, s: str, words: List[str]) -> List[int]:\n",
        "        n, num_words = len(s), len(words)\n",
        "        if n == 0 or num_words == 0:\n",
        "            return []\n",
        "        count = collections.Counter(words)\n",
        "        word_len = len(words[0])\n",
        "        total_len = num_words * word_len\n",
        "        res = []\n",
        "        i = 0\n",
        "        while i <= n - total_len:\n",
        "            # determine whether s[i:i+total_len] is valid\n",
        "            seen = collections.defaultdict(int)\n",
        "            for j in range(i, i + total_len, word_len):\n",
        "                w = s[j:j + word_len]\n",
        "                if w in count:\n",
        "                    seen[w] += 1\n",
        "                    if seen[w] > count[w]:\n",
        "                        break\n",
        "                else:\n",
        "                    break    \n",
        "            if seen == count:\n",
        "                res.append(i)\n",
        "            i = i + 1\n",
        "        return res\n",
        "        "
      ]
    }
  ]
}