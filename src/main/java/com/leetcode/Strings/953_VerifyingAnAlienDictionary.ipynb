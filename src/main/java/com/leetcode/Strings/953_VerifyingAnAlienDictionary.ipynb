{
  "nbformat": 4,
  "nbformat_minor": 0,
  "metadata": {
    "colab": {
      "name": "953.ipynb",
      "provenance": [],
      "authorship_tag": "ABX9TyORLWy4Wh0wCoxPEEFHDSbV",
      "include_colab_link": true
    },
    "kernelspec": {
      "name": "python3",
      "display_name": "Python 3"
    },
    "language_info": {
      "name": "python"
    }
  },
  "cells": [
    {
      "cell_type": "markdown",
      "metadata": {
        "id": "view-in-github",
        "colab_type": "text"
      },
      "source": [
        "<a href=\"https://colab.research.google.com/github/v1nnyb0y/LeetCode.Problems/blob/master/Strings/953_VerifyingAnAlienDictionary.ipynb\" target=\"_parent\"><img src=\"https://colab.research.google.com/assets/colab-badge.svg\" alt=\"Open In Colab\"/></a>"
      ]
    },
    {
      "cell_type": "code",
      "execution_count": null,
      "metadata": {
        "id": "iFszEsSsR3T6"
      },
      "outputs": [],
      "source": [
        "class Solution:\n",
        "    def isAlienSorted(self, words: List[str], order: str) -> bool:\n",
        "        order_map = {}\n",
        "        for index, val in enumerate(order):\n",
        "            order_map[val] = index\n",
        "            \n",
        "        for i in range(len(words) - 1):\n",
        "\n",
        "            for j in range(len(words[i])):\n",
        "                if j >= len(words[i + 1]): return False\n",
        "\n",
        "                if words[i][j] != words[i + 1][j]:\n",
        "                    if order_map[words[i][j]] > order_map[words[i + 1][j]]: \n",
        "                        return False\n",
        "                    \n",
        "                    break\n",
        "\n",
        "        return True"
      ]
    }
  ]
}