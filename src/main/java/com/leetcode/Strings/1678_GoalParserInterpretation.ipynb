{
  "nbformat": 4,
  "nbformat_minor": 0,
  "metadata": {
    "colab": {
      "name": "1678.ipynb",
      "provenance": [],
      "authorship_tag": "ABX9TyMoRxGlaNdZAsmx7ANL3CFq",
      "include_colab_link": true
    },
    "kernelspec": {
      "name": "python3",
      "display_name": "Python 3"
    },
    "language_info": {
      "name": "python"
    }
  },
  "cells": [
    {
      "cell_type": "markdown",
      "metadata": {
        "id": "view-in-github",
        "colab_type": "text"
      },
      "source": [
        "<a href=\"https://colab.research.google.com/github/v1nnyb0y/LeetCode.Problems/blob/master/Strings/1678_GoalParserInterpretation.ipynb\" target=\"_parent\"><img src=\"https://colab.research.google.com/assets/colab-badge.svg\" alt=\"Open In Colab\"/></a>"
      ]
    },
    {
      "cell_type": "code",
      "execution_count": null,
      "metadata": {
        "id": "0mt_DLNcJlP7"
      },
      "outputs": [],
      "source": [
        "class Solution:\n",
        "    def interpret(self, command: str) -> str:\n",
        "        res = ''\n",
        "        i = 0\n",
        "        while i < len(command):\n",
        "            char = command[i]\n",
        "            if char == 'G':\n",
        "                res += 'G'\n",
        "                i += 1\n",
        "            elif char == '(' and command[i + 1] == ')':\n",
        "                res += 'o'\n",
        "                i += 2\n",
        "            else:\n",
        "                res += 'al'\n",
        "                i += 4\n",
        "        \n",
        "        return res"
      ]
    }
  ]
}