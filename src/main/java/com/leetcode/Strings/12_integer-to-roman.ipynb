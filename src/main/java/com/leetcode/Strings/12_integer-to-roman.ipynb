{
  "nbformat": 4,
  "nbformat_minor": 0,
  "metadata": {
    "colab": {
      "provenance": [],
      "authorship_tag": "ABX9TyMxf5PF89Kr/CPz5xfWqlaO",
      "include_colab_link": true
    },
    "kernelspec": {
      "name": "python3",
      "display_name": "Python 3"
    },
    "language_info": {
      "name": "python"
    }
  },
  "cells": [
    {
      "cell_type": "markdown",
      "metadata": {
        "id": "view-in-github",
        "colab_type": "text"
      },
      "source": [
        "<a href=\"https://colab.research.google.com/github/v1nnyb0y/leetcode/blob/master/Strings/12_integer-to-roman.ipynb\" target=\"_parent\"><img src=\"https://colab.research.google.com/assets/colab-badge.svg\" alt=\"Open In Colab\"/></a>"
      ]
    },
    {
      "cell_type": "code",
      "execution_count": null,
      "metadata": {
        "id": "OuX1YKjS5oAD"
      },
      "outputs": [],
      "source": [
        "class Solution(object):\n",
        "    def intToRoman(self, num):\n",
        "        \"\"\"\n",
        "        :type num: int\n",
        "        :rtype: str\n",
        "        \"\"\"\n",
        "        result = ''\n",
        "        \n",
        "        while num > 0:\n",
        "            if num >= 1000:\n",
        "                result += 'M'\n",
        "                num -= 1000\n",
        "            elif num >= 900:\n",
        "                result += 'CM'\n",
        "                num -= 900\n",
        "            elif num >= 500:\n",
        "                result += 'D'\n",
        "                num -= 500\n",
        "            elif num >= 400:\n",
        "                result += 'CD'\n",
        "                num -= 400\n",
        "            elif num >= 100:\n",
        "                result += 'C'\n",
        "                num -= 100\n",
        "            elif num >= 90:\n",
        "                result += 'XC'\n",
        "                num -= 90\n",
        "            elif num >= 50:\n",
        "                result += 'L'\n",
        "                num -= 50\n",
        "            elif num >= 40:\n",
        "                result += 'XL'\n",
        "                num -= 40\n",
        "            elif num >= 10:\n",
        "                result += 'X'\n",
        "                num -= 10\n",
        "            elif num >= 9:\n",
        "                result += 'IX'\n",
        "                num -= 9\n",
        "            elif num >= 5:\n",
        "                result += 'V'\n",
        "                num -= 5\n",
        "            elif num >= 4:\n",
        "                result += 'IV'\n",
        "                num -= 4\n",
        "            elif num >= 1:\n",
        "                result += 'I'\n",
        "                num -= 1\n",
        "        return result"
      ]
    }
  ]
}