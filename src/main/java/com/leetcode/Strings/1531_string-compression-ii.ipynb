{
  "nbformat": 4,
  "nbformat_minor": 0,
  "metadata": {
    "colab": {
      "provenance": [],
      "authorship_tag": "ABX9TyNY3ccFw8OiA97HqyfUAGDi",
      "include_colab_link": true
    },
    "kernelspec": {
      "name": "python3",
      "display_name": "Python 3"
    },
    "language_info": {
      "name": "python"
    }
  },
  "cells": [
    {
      "cell_type": "markdown",
      "metadata": {
        "id": "view-in-github",
        "colab_type": "text"
      },
      "source": [
        "<a href=\"https://colab.research.google.com/github/v1nnyb0y/leetcode/blob/master/Strings/1531_string-compression-ii.ipynb\" target=\"_parent\"><img src=\"https://colab.research.google.com/assets/colab-badge.svg\" alt=\"Open In Colab\"/></a>"
      ]
    },
    {
      "cell_type": "code",
      "execution_count": null,
      "metadata": {
        "id": "7rk68-K6qnPp"
      },
      "outputs": [],
      "source": [
        "class Solution:\n",
        "    def getLengthOfOptimalCompression(self, s: str, k: int) -> int:\n",
        "        \n",
        "        @cache \n",
        "        def dp(i, k, prev, cnt):\n",
        "            \"\"\"Return length of rle of s[i:] with k chars to be deleted.\"\"\"\n",
        "            if k < 0: return inf \n",
        "            if i == len(s): return 0 \n",
        "            ans = dp(i+1, k-1, prev, cnt) # delete current character \n",
        "            if prev == s[i]: \n",
        "                delta = (0 if cnt not in [9, 99] else 1) #if 9-10 or 99-100 we need to increase the len by 1\n",
        "                delta += 1 if cnt==1 else 0 #for first char\n",
        "                ans = min(ans, dp(i+1, k, s[i], cnt+1) +  delta)\n",
        "            else: \n",
        "                ans = min(ans, dp(i+1, k, s[i], 1) + 1)\n",
        "            return ans \n",
        "        \n",
        "        return dp(0, k, \"\", 0)\n",
        "        "
      ]
    }
  ]
}