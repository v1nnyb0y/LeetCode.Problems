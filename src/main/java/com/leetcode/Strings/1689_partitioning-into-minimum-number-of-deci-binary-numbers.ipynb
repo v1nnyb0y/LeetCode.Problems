{
  "nbformat": 4,
  "nbformat_minor": 0,
  "metadata": {
    "colab": {
      "name": "1689.ipynb",
      "provenance": [],
      "authorship_tag": "ABX9TyMBE5hJbfNOgCDESHGprUib",
      "include_colab_link": true
    },
    "kernelspec": {
      "name": "python3",
      "display_name": "Python 3"
    },
    "language_info": {
      "name": "python"
    }
  },
  "cells": [
    {
      "cell_type": "markdown",
      "metadata": {
        "id": "view-in-github",
        "colab_type": "text"
      },
      "source": [
        "<a href=\"https://colab.research.google.com/github/v1nnyb0y/leetcode/blob/master/Strings/1689_partitioning-into-minimum-number-of-deci-binary-numbers.ipynb\" target=\"_parent\"><img src=\"https://colab.research.google.com/assets/colab-badge.svg\" alt=\"Open In Colab\"/></a>"
      ]
    },
    {
      "cell_type": "code",
      "execution_count": null,
      "metadata": {
        "id": "lWvK1MjcU81-"
      },
      "outputs": [],
      "source": [
        "class Solution:\n",
        "    def minPartitions(self, n: str) -> int:\n",
        "        return int(max(n)) "
      ]
    }
  ]
}