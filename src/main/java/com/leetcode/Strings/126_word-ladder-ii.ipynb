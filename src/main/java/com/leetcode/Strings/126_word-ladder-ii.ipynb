{
  "nbformat": 4,
  "nbformat_minor": 0,
  "metadata": {
    "colab": {
      "name": "126.ipynb",
      "provenance": [],
      "authorship_tag": "ABX9TyN2srMVIr/HlPrmktCtK5AA",
      "include_colab_link": true
    },
    "kernelspec": {
      "name": "python3",
      "display_name": "Python 3"
    },
    "language_info": {
      "name": "python"
    }
  },
  "cells": [
    {
      "cell_type": "markdown",
      "metadata": {
        "id": "view-in-github",
        "colab_type": "text"
      },
      "source": [
        "<a href=\"https://colab.research.google.com/github/v1nnyb0y/leetcode/blob/master/Strings/126_word-ladder-ii.ipynb\" target=\"_parent\"><img src=\"https://colab.research.google.com/assets/colab-badge.svg\" alt=\"Open In Colab\"/></a>"
      ]
    },
    {
      "cell_type": "code",
      "execution_count": null,
      "metadata": {
        "id": "UDRDrGU20GTc"
      },
      "outputs": [],
      "source": [
        "class Solution(object):\n",
        "    def findLadders(self, beginWord, endWord, wordList):\n",
        "        \"\"\"\n",
        "        :type beginWord: str\n",
        "        :type endWord: str\n",
        "        :type wordList: List[str]\n",
        "        :rtype: List[List[str]]\n",
        "        \"\"\" \n",
        "        def dfs(word):\n",
        "            if word == endWord:\n",
        "                res.append(list(tmp))\n",
        "                return\n",
        "            if word in graph:\n",
        "                for nei in graph[word]:\n",
        "                    if dist[nei] == dist[word]-1:\n",
        "                        tmp.append(nei)\n",
        "                        dfs(nei)\n",
        "                        tmp.pop()\n",
        "        \n",
        "        wordSet = set(wordList)\n",
        "        if endWord not in wordSet:\n",
        "            return []\n",
        "        alphabets = 'abcdefghijklmnopqrstuvwxyz'\n",
        "        q = collections.deque([(endWord, 0)])\n",
        "        min_dist = float('inf')\n",
        "        seen = set([endWord])\n",
        "        graph = collections.defaultdict(set)\n",
        "        dist = {}\n",
        "        while q:\n",
        "            u, d = q.popleft()\n",
        "            dist[u] = d\n",
        "            for i in range(len(u)):\n",
        "                for alph in alphabets:\n",
        "                    new = u[:i]+alph+u[i+1:]\n",
        "                    if new == beginWord:\n",
        "                        if min_dist > d+1:\n",
        "                            min_dist = d+1\n",
        "                        graph[beginWord].add(u)\n",
        "                    else:                  \n",
        "                        if new in wordSet:\n",
        "                            graph[u].add(new)\n",
        "                            graph[new].add(u)\n",
        "                            if new not in seen:\n",
        "                                seen.add(new)\n",
        "                                q.append((new, d+1))\n",
        "        \n",
        "        if min_dist == float('inf'):\n",
        "            return []\n",
        "        res = []\n",
        "        tmp = [beginWord]\n",
        "        for nei in graph[beginWord]:\n",
        "            if dist[nei] == min_dist-1:\n",
        "                tmp.append(nei)\n",
        "                dfs(nei)\n",
        "                tmp.pop()\n",
        "        return res"
      ]
    }
  ]
}