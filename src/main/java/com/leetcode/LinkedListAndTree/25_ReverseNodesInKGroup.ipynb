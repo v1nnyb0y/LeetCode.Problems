{
  "nbformat": 4,
  "nbformat_minor": 0,
  "metadata": {
    "colab": {
      "name": "25.ipynb",
      "provenance": [],
      "authorship_tag": "ABX9TyPX3BaKG/1H2eyRtMA2PNiD",
      "include_colab_link": true
    },
    "kernelspec": {
      "name": "python3",
      "display_name": "Python 3"
    },
    "language_info": {
      "name": "python"
    }
  },
  "cells": [
    {
      "cell_type": "markdown",
      "metadata": {
        "id": "view-in-github",
        "colab_type": "text"
      },
      "source": [
        "<a href=\"https://colab.research.google.com/github/v1nnyb0y/leetcode/blob/master/LinkedListAndTree/25_ReverseNodesInKGroup.ipynb\" target=\"_parent\"><img src=\"https://colab.research.google.com/assets/colab-badge.svg\" alt=\"Open In Colab\"/></a>"
      ]
    },
    {
      "cell_type": "code",
      "execution_count": null,
      "metadata": {
        "id": "aKh-Xc8TGYZk"
      },
      "outputs": [],
      "source": [
        "class Solution(object):\n",
        "    def reverseKGroup(self, head, k):\n",
        "        \"\"\"\n",
        "        :type head: ListNode\n",
        "        :type k: int\n",
        "        :rtype: ListNode\n",
        "        \"\"\"\n",
        "        t = ans = ListNode()\n",
        "        cnt = 1\n",
        "        l, r, p2 = head, head, ans\n",
        "        while True:\n",
        "            if r and cnt < k:\n",
        "                r = r.next\n",
        "                cnt += 1\n",
        "            elif r and cnt == k:\n",
        "                t = r.next\n",
        "                r.next = None\n",
        "                prev, ne = None, None\n",
        "                cur = l\n",
        "                while cur:\n",
        "                    ne = cur.next\n",
        "                    cur.next = prev\n",
        "                    prev = cur\n",
        "                    cur = ne\n",
        "                p2.next = prev\n",
        "                p2 = l\n",
        "                l = r = t\n",
        "                cnt = 1\n",
        "            else:\n",
        "                p2.next = l\n",
        "                return ans.next"
      ]
    }
  ]
}