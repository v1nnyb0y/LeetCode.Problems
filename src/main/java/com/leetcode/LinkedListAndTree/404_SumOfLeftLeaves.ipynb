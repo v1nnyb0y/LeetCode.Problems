{
  "nbformat": 4,
  "nbformat_minor": 0,
  "metadata": {
    "colab": {
      "name": "404.ipynb",
      "provenance": [],
      "authorship_tag": "ABX9TyNl/K9sdo7PhH0sqQP8UEPQ",
      "include_colab_link": true
    },
    "kernelspec": {
      "name": "python3",
      "display_name": "Python 3"
    },
    "language_info": {
      "name": "python"
    }
  },
  "cells": [
    {
      "cell_type": "markdown",
      "metadata": {
        "id": "view-in-github",
        "colab_type": "text"
      },
      "source": [
        "<a href=\"https://colab.research.google.com/github/v1nnyb0y/LeetCode.Problems/blob/master/LinkedListAndTree/404_SumOfLeftLeaves.ipynb\" target=\"_parent\"><img src=\"https://colab.research.google.com/assets/colab-badge.svg\" alt=\"Open In Colab\"/></a>"
      ]
    },
    {
      "cell_type": "code",
      "execution_count": null,
      "metadata": {
        "id": "DyufM6crrfcz"
      },
      "outputs": [],
      "source": [
        "# Definition for a binary tree node.\n",
        "# class TreeNode:\n",
        "#     def __init__(self, val=0, left=None, right=None):\n",
        "#         self.val = val\n",
        "#         self.left = left\n",
        "#         self.right = right\n",
        "class Solution:\n",
        "    def sumOfLeftLeaves(self, root: Optional[TreeNode]) -> int:\n",
        "        def h(r):\n",
        "            if r is None:\n",
        "                return l\n",
        "            if(r.left is not None):\n",
        "                h(r.left)\n",
        "            if(r.left is not None and r.left.left is None and r.left.right is None):\n",
        "                l.append(r.left.val)\n",
        "            h(r.right)\n",
        "            return l\n",
        "        l=[]\n",
        "        l=h(root)\n",
        "        return sum(l)"
      ]
    }
  ]
}