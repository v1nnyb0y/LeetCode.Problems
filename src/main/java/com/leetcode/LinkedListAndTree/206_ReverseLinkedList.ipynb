{
  "nbformat": 4,
  "nbformat_minor": 0,
  "metadata": {
    "colab": {
      "name": "206.ipynb",
      "provenance": [],
      "authorship_tag": "ABX9TyN09GSPiVSSsM6PCppxHzfm",
      "include_colab_link": true
    },
    "kernelspec": {
      "name": "python3",
      "display_name": "Python 3"
    },
    "language_info": {
      "name": "python"
    }
  },
  "cells": [
    {
      "cell_type": "markdown",
      "metadata": {
        "id": "view-in-github",
        "colab_type": "text"
      },
      "source": [
        "<a href=\"https://colab.research.google.com/github/v1nnyb0y/leetcode/blob/master/LinkedListAndTree/206_ReverseLinkedList.ipynb\" target=\"_parent\"><img src=\"https://colab.research.google.com/assets/colab-badge.svg\" alt=\"Open In Colab\"/></a>"
      ]
    },
    {
      "cell_type": "code",
      "execution_count": null,
      "metadata": {
        "id": "jVsPv6Y9P82p"
      },
      "outputs": [],
      "source": [
        "# Definition for singly-linked list.\n",
        "# class ListNode:\n",
        "#     def __init__(self, val=0, next=None):\n",
        "#         self.val = val\n",
        "#         self.next = next\n",
        "class Solution:\n",
        "    def reverseList(self, head: Optional[ListNode]) -> Optional[ListNode]:\n",
        "        def reverse(h):\n",
        "            if h.next is None:\n",
        "                root = node = ListNode(h.val, None)\n",
        "                return (root, node)\n",
        "            else:\n",
        "                root, node = reverse(h.next)\n",
        "                node.next = ListNode(h.val, None)\n",
        "                return (root, node.next)\n",
        "            \n",
        "        return reverse(head)[0] if head is not None else None"
      ]
    }
  ]
}