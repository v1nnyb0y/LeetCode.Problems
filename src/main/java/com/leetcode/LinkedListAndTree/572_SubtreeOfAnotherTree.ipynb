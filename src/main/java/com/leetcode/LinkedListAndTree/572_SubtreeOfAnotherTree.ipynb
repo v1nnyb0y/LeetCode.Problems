{
  "nbformat": 4,
  "nbformat_minor": 0,
  "metadata": {
    "colab": {
      "name": "572.ipynb",
      "provenance": [],
      "authorship_tag": "ABX9TyOOoXLEIuOLhn4Rv6W2romU",
      "include_colab_link": true
    },
    "kernelspec": {
      "name": "python3",
      "display_name": "Python 3"
    },
    "language_info": {
      "name": "python"
    }
  },
  "cells": [
    {
      "cell_type": "markdown",
      "metadata": {
        "id": "view-in-github",
        "colab_type": "text"
      },
      "source": [
        "<a href=\"https://colab.research.google.com/github/v1nnyb0y/leetcode/blob/master/LinkedListAndTree/572_SubtreeOfAnotherTree.ipynb\" target=\"_parent\"><img src=\"https://colab.research.google.com/assets/colab-badge.svg\" alt=\"Open In Colab\"/></a>"
      ]
    },
    {
      "cell_type": "code",
      "execution_count": null,
      "metadata": {
        "id": "WeTtstavh0G1"
      },
      "outputs": [],
      "source": [
        "class Solution:\n",
        "    def isSubtree(self, root: Optional[TreeNode], subRoot: Optional[TreeNode]) -> bool:\n",
        "        def stringify_subtree(root):\n",
        "            if not root:\n",
        "                return 'null'\n",
        "            path = str(root.val) + ',' + stringify_subtree(root.left) + ',' + stringify_subtree(root.right)\n",
        "            return path\n",
        "        \n",
        "        def stringify_root(root):\n",
        "            if not root:\n",
        "                return 'null'\n",
        "            path = str(root.val) + ',' + stringify_root(root.left) + ',' + stringify_root(root.right)\n",
        "            track[path] = track.get(path,[]) + [root]\n",
        "            return path\n",
        "        \n",
        "        track = {}\n",
        "        save = stringify_subtree(subRoot)\n",
        "        track[save] = [subRoot]\n",
        "        stringify_root(root)\n",
        "        if len(track[save]) > 1:\n",
        "            return True\n",
        "        return False"
      ]
    }
  ]
}