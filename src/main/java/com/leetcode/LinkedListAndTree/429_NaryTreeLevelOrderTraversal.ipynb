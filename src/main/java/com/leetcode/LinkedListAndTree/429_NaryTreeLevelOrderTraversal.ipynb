{
  "nbformat": 4,
  "nbformat_minor": 0,
  "metadata": {
    "colab": {
      "name": "429.ipynb",
      "provenance": [],
      "authorship_tag": "ABX9TyNGHzWXAvXBKqvs/VZSgnOC",
      "include_colab_link": true
    },
    "kernelspec": {
      "name": "python3",
      "display_name": "Python 3"
    },
    "language_info": {
      "name": "python"
    }
  },
  "cells": [
    {
      "cell_type": "markdown",
      "metadata": {
        "id": "view-in-github",
        "colab_type": "text"
      },
      "source": [
        "<a href=\"https://colab.research.google.com/github/v1nnyb0y/leetcode/blob/master/LinkedListAndTree/429_NaryTreeLevelOrderTraversal.ipynb\" target=\"_parent\"><img src=\"https://colab.research.google.com/assets/colab-badge.svg\" alt=\"Open In Colab\"/></a>"
      ]
    },
    {
      "cell_type": "code",
      "execution_count": null,
      "metadata": {
        "id": "MOFBVVbLbTr4"
      },
      "outputs": [],
      "source": [
        "\"\"\"\n",
        "# Definition for a Node.\n",
        "class Node:\n",
        "    def __init__(self, val=None, children=None):\n",
        "        self.val = val\n",
        "        self.children = children\n",
        "\"\"\"\n",
        "\n",
        "class Solution:\n",
        "    def levelOrder(self, root: 'Node') -> List[List[int]]:\n",
        "        def dfs(root, h, levels):\n",
        "            if root is None:\n",
        "                return\n",
        "            \n",
        "            if h in levels:\n",
        "                levels[h].append(root.val)\n",
        "            else:\n",
        "                levels[h] = [root.val]\n",
        "            \n",
        "            for child in root.children:\n",
        "                dfs(child, h + 1, levels)\n",
        "            \n",
        "        levels = {}\n",
        "        dfs(root, 1, levels)\n",
        "        ans = []\n",
        "        for i in range(1, 1001):\n",
        "            if i in levels:\n",
        "                ans.append(levels[i])\n",
        "            else:\n",
        "                break\n",
        "        return ans"
      ]
    }
  ]
}