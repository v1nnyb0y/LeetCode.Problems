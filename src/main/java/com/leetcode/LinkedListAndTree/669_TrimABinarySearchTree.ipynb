{
  "nbformat": 4,
  "nbformat_minor": 0,
  "metadata": {
    "colab": {
      "name": "669.ipynb",
      "provenance": [],
      "authorship_tag": "ABX9TyOVEv5Z1zQM9zUeqq534SMJ",
      "include_colab_link": true
    },
    "kernelspec": {
      "name": "python3",
      "display_name": "Python 3"
    },
    "language_info": {
      "name": "python"
    }
  },
  "cells": [
    {
      "cell_type": "markdown",
      "metadata": {
        "id": "view-in-github",
        "colab_type": "text"
      },
      "source": [
        "<a href=\"https://colab.research.google.com/github/v1nnyb0y/leetcode/blob/master/LinkedListAndTree/669_TrimABinarySearchTree.ipynb\" target=\"_parent\"><img src=\"https://colab.research.google.com/assets/colab-badge.svg\" alt=\"Open In Colab\"/></a>"
      ]
    },
    {
      "cell_type": "code",
      "execution_count": null,
      "metadata": {
        "id": "1OvyDYaymBFS"
      },
      "outputs": [],
      "source": [
        "# Definition for a binary tree node.\n",
        "# class TreeNode:\n",
        "#     def __init__(self, val=0, left=None, right=None):\n",
        "#         self.val = val\n",
        "#         self.left = left\n",
        "#         self.right = right\n",
        "class Solution:\n",
        "    def trimBST(self, root: Optional[TreeNode], low: int, high: int) -> Optional[TreeNode]:\n",
        "        def trim(node):\n",
        "            if not node:\n",
        "                return None\n",
        "            elif node.val > high:\n",
        "                return trim(node.left)\n",
        "            elif node.val < low:\n",
        "                return trim(node.right)\n",
        "            else:\n",
        "                node.left = trim(node.left)\n",
        "                node.right = trim(node.right)\n",
        "                return node\n",
        "\n",
        "        return trim(root)"
      ]
    }
  ]
}