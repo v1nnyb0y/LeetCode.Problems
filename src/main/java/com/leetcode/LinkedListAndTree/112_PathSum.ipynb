{
  "nbformat": 4,
  "nbformat_minor": 0,
  "metadata": {
    "colab": {
      "name": "112.ipynb",
      "provenance": [],
      "authorship_tag": "ABX9TyN4KXIZSB+EbDRGy54J/doM",
      "include_colab_link": true
    },
    "kernelspec": {
      "name": "python3",
      "display_name": "Python 3"
    },
    "language_info": {
      "name": "python"
    }
  },
  "cells": [
    {
      "cell_type": "markdown",
      "metadata": {
        "id": "view-in-github",
        "colab_type": "text"
      },
      "source": [
        "<a href=\"https://colab.research.google.com/github/v1nnyb0y/leetcode/blob/master/LinkedListAndTree/112_PathSum.ipynb\" target=\"_parent\"><img src=\"https://colab.research.google.com/assets/colab-badge.svg\" alt=\"Open In Colab\"/></a>"
      ]
    },
    {
      "cell_type": "code",
      "execution_count": null,
      "metadata": {
        "id": "TbYjn3ceFEAM"
      },
      "outputs": [],
      "source": [
        "# Definition for a binary tree node.\n",
        "# class TreeNode:\n",
        "#     def __init__(self, val=0, left=None, right=None):\n",
        "#         self.val = val\n",
        "#         self.left = left\n",
        "#         self.right = right\n",
        "class Solution:\n",
        "    def hasPathSum(self, root: TreeNode, targetSum: int) -> bool:\n",
        "        def h(node,ans):\n",
        "            if(node):\n",
        "                ans-=node.val\n",
        "            else:\n",
        "                return None\n",
        "            if(ans==0 and (node.left==node.right==None)):\n",
        "                return True\n",
        "            else:\n",
        "                return h(node.left,ans) or h(node.right,ans)\n",
        "        return h(root,targetSum)"
      ]
    }
  ]
}