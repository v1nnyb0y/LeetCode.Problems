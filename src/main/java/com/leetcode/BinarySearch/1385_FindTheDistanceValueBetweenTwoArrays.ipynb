{
  "nbformat": 4,
  "nbformat_minor": 0,
  "metadata": {
    "colab": {
      "name": "1385.ipynb",
      "provenance": [],
      "authorship_tag": "ABX9TyPhCNOgdjuRwyP2NRehs7Y1",
      "include_colab_link": true
    },
    "kernelspec": {
      "name": "python3",
      "display_name": "Python 3"
    },
    "language_info": {
      "name": "python"
    }
  },
  "cells": [
    {
      "cell_type": "markdown",
      "metadata": {
        "id": "view-in-github",
        "colab_type": "text"
      },
      "source": [
        "<a href=\"https://colab.research.google.com/github/v1nnyb0y/leetcode/blob/master/BinarySearch/1385_FindTheDistanceValueBetweenTwoArrays.ipynb\" target=\"_parent\"><img src=\"https://colab.research.google.com/assets/colab-badge.svg\" alt=\"Open In Colab\"/></a>"
      ]
    },
    {
      "cell_type": "code",
      "execution_count": null,
      "metadata": {
        "id": "ghOEVkqR3RGk"
      },
      "outputs": [],
      "source": [
        "class Solution:\n",
        "    def findTheDistanceValue(self, arr1: List[int], arr2: List[int], d: int) -> int:\n",
        "        arr2.sort()\n",
        "        cnt = 0\n",
        "        for i in range(len(arr1)):\n",
        "            l, r = 0, len(arr2) - 1\n",
        "            while l <= r:\n",
        "                m = l + (r - l) // 2\n",
        "                if abs(arr1[i] - arr2[m]) <= d:\n",
        "                    break\n",
        "                elif arr2[m] < arr1[i]:\n",
        "                    l = m + 1\n",
        "                else:\n",
        "                    r = m - 1\n",
        "            cnt += l > r \n",
        "        return cnt"
      ]
    }
  ]
}