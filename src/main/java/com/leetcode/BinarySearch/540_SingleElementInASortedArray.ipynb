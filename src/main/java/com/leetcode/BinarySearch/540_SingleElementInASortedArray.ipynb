{
  "nbformat": 4,
  "nbformat_minor": 0,
  "metadata": {
    "colab": {
      "name": "540.ipynb",
      "provenance": [],
      "authorship_tag": "ABX9TyMTF6DyJh8EWuOAA3o2se++",
      "include_colab_link": true
    },
    "kernelspec": {
      "name": "python3",
      "display_name": "Python 3"
    },
    "language_info": {
      "name": "python"
    }
  },
  "cells": [
    {
      "cell_type": "markdown",
      "metadata": {
        "id": "view-in-github",
        "colab_type": "text"
      },
      "source": [
        "<a href=\"https://colab.research.google.com/github/v1nnyb0y/leetcode/blob/master/BinarySearch/540_SingleElementInASortedArray.ipynb\" target=\"_parent\"><img src=\"https://colab.research.google.com/assets/colab-badge.svg\" alt=\"Open In Colab\"/></a>"
      ]
    },
    {
      "cell_type": "code",
      "execution_count": null,
      "metadata": {
        "id": "j9R-Z3kLjfmb"
      },
      "outputs": [],
      "source": [
        "class Solution:\n",
        "    def singleNonDuplicate(self, nums):\n",
        "        b, e = 0, len(nums) - 1\n",
        "        while b < e:\n",
        "            m = (b + e) // 2\n",
        "            if m % 2 == 1 and nums[m - 1] == nums[m]:\n",
        "                b = m + 1\n",
        "            elif  m % 2 == 0 and nums[m + 1] == nums[m]:\n",
        "                b = m + 2\n",
        "            else:\n",
        "                e = m\n",
        "        return nums[b]\n",
        "        "
      ]
    }
  ]
}