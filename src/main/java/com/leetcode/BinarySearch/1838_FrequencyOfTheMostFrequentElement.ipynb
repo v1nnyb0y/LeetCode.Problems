{
  "nbformat": 4,
  "nbformat_minor": 0,
  "metadata": {
    "colab": {
      "name": "1838.ipynb",
      "provenance": [],
      "authorship_tag": "ABX9TyOCnJsU2ncWI6yZhb0cgxmd",
      "include_colab_link": true
    },
    "kernelspec": {
      "name": "python3",
      "display_name": "Python 3"
    },
    "language_info": {
      "name": "python"
    }
  },
  "cells": [
    {
      "cell_type": "markdown",
      "metadata": {
        "id": "view-in-github",
        "colab_type": "text"
      },
      "source": [
        "<a href=\"https://colab.research.google.com/github/v1nnyb0y/leetcode/blob/master/BinarySearch/1838_FrequencyOfTheMostFrequentElement.ipynb\" target=\"_parent\"><img src=\"https://colab.research.google.com/assets/colab-badge.svg\" alt=\"Open In Colab\"/></a>"
      ]
    },
    {
      "cell_type": "code",
      "execution_count": null,
      "metadata": {
        "id": "_-YLBwd8jDph"
      },
      "outputs": [],
      "source": [
        "class Solution:\n",
        "    def maxFrequency(self, nums: List[int], k: int) -> int:\n",
        "        j = 0\n",
        "        nums.sort() #sort the numbers\n",
        "        for i in range(len(nums)): #traverse the numbers\n",
        "            k += nums[i] #add the num[i] to k\n",
        "            if k < nums[i] * (i-j+1): #if k < the computed value (nums[i] * (i-j+1))\n",
        "                k -= nums[j] #decrease the value of nums[j] to k\n",
        "                j += 1#and increment the j +1\n",
        "        return i - j + 1"
      ]
    }
  ]
}