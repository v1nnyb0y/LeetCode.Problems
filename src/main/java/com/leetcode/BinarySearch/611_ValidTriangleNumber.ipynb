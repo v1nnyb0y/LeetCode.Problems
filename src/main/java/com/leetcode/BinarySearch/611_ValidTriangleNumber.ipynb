{
  "nbformat": 4,
  "nbformat_minor": 0,
  "metadata": {
    "colab": {
      "name": "611.ipynb",
      "provenance": [],
      "authorship_tag": "ABX9TyMTHXLQmHGKhvfHl3xO9cgS",
      "include_colab_link": true
    },
    "kernelspec": {
      "name": "python3",
      "display_name": "Python 3"
    },
    "language_info": {
      "name": "python"
    }
  },
  "cells": [
    {
      "cell_type": "markdown",
      "metadata": {
        "id": "view-in-github",
        "colab_type": "text"
      },
      "source": [
        "<a href=\"https://colab.research.google.com/github/v1nnyb0y/leetcode/blob/master/BinarySearch/611_ValidTriangleNumber.ipynb\" target=\"_parent\"><img src=\"https://colab.research.google.com/assets/colab-badge.svg\" alt=\"Open In Colab\"/></a>"
      ]
    },
    {
      "cell_type": "code",
      "execution_count": null,
      "metadata": {
        "id": "o0Tuk6cTD-l0"
      },
      "outputs": [],
      "source": [
        "class Solution:\n",
        "    def triangleNumber(self, nums: List[int]) -> int:\n",
        "        nums = sorted(nums)\n",
        "        res = 0\n",
        "        for i in range(len(nums)-1, -1, -1):\n",
        "            if nums[i] == 0:\n",
        "                return res\n",
        "            j = 0\n",
        "            k = i-1\n",
        "            while j < k:\n",
        "                if nums[j] == 0:\n",
        "                    j += 1\n",
        "                else:\n",
        "                    while nums[j] + nums[k] <= nums[i]:\n",
        "                        j += 1\n",
        "                    res += max(k - j,0)\n",
        "                    k -= 1\n",
        "        return res"
      ]
    }
  ]
}