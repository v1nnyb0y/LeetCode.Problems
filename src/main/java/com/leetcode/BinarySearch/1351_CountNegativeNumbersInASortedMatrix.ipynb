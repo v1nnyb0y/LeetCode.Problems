{
  "nbformat": 4,
  "nbformat_minor": 0,
  "metadata": {
    "colab": {
      "name": "1351.ipynb",
      "provenance": [],
      "authorship_tag": "ABX9TyMRcudABAfvg5r7scLjtIDE",
      "include_colab_link": true
    },
    "kernelspec": {
      "name": "python3",
      "display_name": "Python 3"
    },
    "language_info": {
      "name": "python"
    }
  },
  "cells": [
    {
      "cell_type": "markdown",
      "metadata": {
        "id": "view-in-github",
        "colab_type": "text"
      },
      "source": [
        "<a href=\"https://colab.research.google.com/github/v1nnyb0y/leetcode/blob/master/BinarySearch/1351_CountNegativeNumbersInASortedMatrix.ipynb\" target=\"_parent\"><img src=\"https://colab.research.google.com/assets/colab-badge.svg\" alt=\"Open In Colab\"/></a>"
      ]
    },
    {
      "cell_type": "code",
      "execution_count": null,
      "metadata": {
        "id": "NWERPF_tT9jW"
      },
      "outputs": [],
      "source": [
        "class Solution:\n",
        "    def countNegatives(self, A: List[List[int]]) -> int:\n",
        "        n = j = len(A[0])\n",
        "        negs = 0\n",
        "        for row in A:\n",
        "            while j and row[j-1] < 0:\n",
        "                j -= 1\n",
        "            negs += n - j\n",
        "        return negs"
      ]
    }
  ]
}