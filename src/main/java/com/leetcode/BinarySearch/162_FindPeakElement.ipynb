{
  "nbformat": 4,
  "nbformat_minor": 0,
  "metadata": {
    "colab": {
      "name": "162.ipynb",
      "provenance": [],
      "authorship_tag": "ABX9TyMUeCyRRaxoUfA1wzwQiitU",
      "include_colab_link": true
    },
    "kernelspec": {
      "name": "python3",
      "display_name": "Python 3"
    },
    "language_info": {
      "name": "python"
    }
  },
  "cells": [
    {
      "cell_type": "markdown",
      "metadata": {
        "id": "view-in-github",
        "colab_type": "text"
      },
      "source": [
        "<a href=\"https://colab.research.google.com/github/v1nnyb0y/leetcode/blob/master/BinarySearch/162_FindPeakElement.ipynb\" target=\"_parent\"><img src=\"https://colab.research.google.com/assets/colab-badge.svg\" alt=\"Open In Colab\"/></a>"
      ]
    },
    {
      "cell_type": "code",
      "execution_count": null,
      "metadata": {
        "id": "rN7CVMRvg3eg"
      },
      "outputs": [],
      "source": [
        "class Solution:\n",
        "    def findPeakElement(self, nums: List[int]) -> int:\n",
        "        low, high = 0, len(nums)-1\n",
        "        while low < high:\n",
        "            mid = low + int((high-low)/2)\n",
        "            if nums[mid] < nums[mid+1]:\n",
        "                low = mid+1\n",
        "            else:\n",
        "                high = mid\n",
        "        return low"
      ]
    }
  ]
}