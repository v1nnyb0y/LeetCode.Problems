{
  "nbformat": 4,
  "nbformat_minor": 0,
  "metadata": {
    "colab": {
      "name": "81.ipynb",
      "provenance": [],
      "authorship_tag": "ABX9TyNt31cqD/9g7fiLMWN/n6EW",
      "include_colab_link": true
    },
    "kernelspec": {
      "name": "python3",
      "display_name": "Python 3"
    },
    "language_info": {
      "name": "python"
    }
  },
  "cells": [
    {
      "cell_type": "markdown",
      "metadata": {
        "id": "view-in-github",
        "colab_type": "text"
      },
      "source": [
        "<a href=\"https://colab.research.google.com/github/v1nnyb0y/leetcode/blob/master/BinarySearch/81_SearchInRotatedSortedArrayII.ipynb\" target=\"_parent\"><img src=\"https://colab.research.google.com/assets/colab-badge.svg\" alt=\"Open In Colab\"/></a>"
      ]
    },
    {
      "cell_type": "code",
      "execution_count": null,
      "metadata": {
        "id": "41tr3Ez89EAd"
      },
      "outputs": [],
      "source": [
        "class Solution:\n",
        "    def search(self, nums: List[int], target: int) -> bool:\n",
        "        # If the length of the given array list is 1, then check the first element and return accordingly\n",
        "        if len(nums)==1:\n",
        "            if nums[0]!=target:\n",
        "                return False\n",
        "            else:\n",
        "                return True\n",
        "\n",
        "        left=0\n",
        "        right=len(nums)-1\n",
        "        # binary search \n",
        "        while(left<=right):\n",
        "\n",
        "            # shifting to remove duplicate elements\n",
        "            while left<right and nums[left] == nums[left+1]:\n",
        "                left+=1\n",
        "            while left<right and nums[right] == nums[right-1]:\n",
        "                right-=1\n",
        "\n",
        "            # step 1 calculate the mid    \n",
        "            mid=(left+right)//2\n",
        "\n",
        "            #step 2\n",
        "            if nums[mid]==target:\n",
        "                return True\n",
        "\n",
        "            #step 3\n",
        "            elif nums[left]<=nums[mid]:\n",
        "                if nums[mid]>=target and nums[left]<=target:\n",
        "                    right=mid-1\n",
        "                else:\n",
        "                    left=mid+1\n",
        "\n",
        "            # step 4\n",
        "            else:\n",
        "                if target>=nums[mid] and target<=nums[right]:\n",
        "                    left=mid+1\n",
        "                else:\n",
        "                    right=mid-1\n",
        "\n",
        "        # step 5\n",
        "        return False"
      ]
    }
  ]
}