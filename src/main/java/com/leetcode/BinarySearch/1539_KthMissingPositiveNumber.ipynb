{
  "nbformat": 4,
  "nbformat_minor": 0,
  "metadata": {
    "colab": {
      "name": "1539.ipynb",
      "provenance": [],
      "authorship_tag": "ABX9TyOPg8vNmt9OFO5K2rScPjr6",
      "include_colab_link": true
    },
    "kernelspec": {
      "name": "python3",
      "display_name": "Python 3"
    },
    "language_info": {
      "name": "python"
    }
  },
  "cells": [
    {
      "cell_type": "markdown",
      "metadata": {
        "id": "view-in-github",
        "colab_type": "text"
      },
      "source": [
        "<a href=\"https://colab.research.google.com/github/v1nnyb0y/leetcode/blob/master/BinarySearch/1539_KthMissingPositiveNumber.ipynb\" target=\"_parent\"><img src=\"https://colab.research.google.com/assets/colab-badge.svg\" alt=\"Open In Colab\"/></a>"
      ]
    },
    {
      "cell_type": "code",
      "execution_count": null,
      "metadata": {
        "id": "EVDcvBZJyQoU"
      },
      "outputs": [],
      "source": [
        "class Solution:\n",
        "    def findKthPositive(self, A: List[int], k: int) -> int:\n",
        "        l, r = 0, len(A)\n",
        "        while l < r:\n",
        "            m = (l + r) // 2\n",
        "            if A[m] - 1 - m < k:\n",
        "                l = m + 1\n",
        "            else:\n",
        "                r = m\n",
        "        return l + k"
      ]
    }
  ]
}