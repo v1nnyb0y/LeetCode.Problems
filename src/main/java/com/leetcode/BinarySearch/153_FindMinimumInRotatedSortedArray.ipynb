{
  "nbformat": 4,
  "nbformat_minor": 0,
  "metadata": {
    "colab": {
      "name": "153.ipynb",
      "provenance": [],
      "authorship_tag": "ABX9TyNufVmNzw8mAWIEGAOAKacK",
      "include_colab_link": true
    },
    "kernelspec": {
      "name": "python3",
      "display_name": "Python 3"
    },
    "language_info": {
      "name": "python"
    }
  },
  "cells": [
    {
      "cell_type": "markdown",
      "metadata": {
        "id": "view-in-github",
        "colab_type": "text"
      },
      "source": [
        "<a href=\"https://colab.research.google.com/github/v1nnyb0y/leetcode/blob/master/BinarySearch/153_FindMinimumInRotatedSortedArray.ipynb\" target=\"_parent\"><img src=\"https://colab.research.google.com/assets/colab-badge.svg\" alt=\"Open In Colab\"/></a>"
      ]
    },
    {
      "cell_type": "code",
      "execution_count": null,
      "metadata": {
        "id": "Eh2gTzT9GqZe"
      },
      "outputs": [],
      "source": [
        "class Solution:\n",
        "    def findMin(self, nums: List[int]) -> int:\n",
        "        \"\"\"\n",
        "        :type nums: List[int]\n",
        "        :rtype: int\n",
        "        \"\"\"\n",
        "        if len(nums) == 1:\n",
        "            return nums[0]\n",
        "\n",
        "        left = 0\n",
        "        right = len(nums) - 1\n",
        "\n",
        "        if nums[right] > nums[0]:\n",
        "            return nums[0]\n",
        "\n",
        "        while right >= left:\n",
        "            mid = left + (right - left) // 2\n",
        "            if nums[mid] > nums[mid + 1]:\n",
        "                return nums[mid + 1]\n",
        "            if nums[mid - 1] > nums[mid]:\n",
        "                return nums[mid]\n",
        "            if nums[mid] > nums[0]:\n",
        "                left = mid + 1\n",
        "            else:\n",
        "                right = mid - 1"
      ]
    }
  ]
}