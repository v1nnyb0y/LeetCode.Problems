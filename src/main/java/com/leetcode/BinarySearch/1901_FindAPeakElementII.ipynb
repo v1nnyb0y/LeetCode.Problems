{
  "nbformat": 4,
  "nbformat_minor": 0,
  "metadata": {
    "colab": {
      "name": "1901.ipynb",
      "provenance": [],
      "authorship_tag": "ABX9TyPFZPrzEMojqQgJ9VUxpWU3",
      "include_colab_link": true
    },
    "kernelspec": {
      "name": "python3",
      "display_name": "Python 3"
    },
    "language_info": {
      "name": "python"
    }
  },
  "cells": [
    {
      "cell_type": "markdown",
      "metadata": {
        "id": "view-in-github",
        "colab_type": "text"
      },
      "source": [
        "<a href=\"https://colab.research.google.com/github/v1nnyb0y/leetcode/blob/master/BinarySearch/1901_FindAPeakElementII.ipynb\" target=\"_parent\"><img src=\"https://colab.research.google.com/assets/colab-badge.svg\" alt=\"Open In Colab\"/></a>"
      ]
    },
    {
      "cell_type": "code",
      "execution_count": null,
      "metadata": {
        "id": "kQ2d7c5FJL_m"
      },
      "outputs": [],
      "source": [
        "class Solution:\n",
        "    def findPeakGrid(self, mat):\n",
        "        for i in range(len(mat)):\n",
        "            for j in range(len(mat[0])):\n",
        "                for k,l in [(i-1,j),(i+1,j),(i,j-1),(i,j+1)]:\n",
        "                    if 0<=k<len(mat) and 0<=l<len(mat[0]) and mat[k][l]>mat[i][j]:\n",
        "                        break\n",
        "                else:\n",
        "                    return i,j"
      ]
    }
  ]
}