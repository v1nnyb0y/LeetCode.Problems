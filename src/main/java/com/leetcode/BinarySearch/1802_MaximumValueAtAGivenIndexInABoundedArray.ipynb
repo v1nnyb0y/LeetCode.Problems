{
  "nbformat": 4,
  "nbformat_minor": 0,
  "metadata": {
    "colab": {
      "name": "1802.ipynb",
      "provenance": [],
      "authorship_tag": "ABX9TyOJtRrr0sp9MkP1SN8FZVZa",
      "include_colab_link": true
    },
    "kernelspec": {
      "name": "python3",
      "display_name": "Python 3"
    },
    "language_info": {
      "name": "python"
    }
  },
  "cells": [
    {
      "cell_type": "markdown",
      "metadata": {
        "id": "view-in-github",
        "colab_type": "text"
      },
      "source": [
        "<a href=\"https://colab.research.google.com/github/v1nnyb0y/leetcode/blob/master/BinarySearch/1802_MaximumValueAtAGivenIndexInABoundedArray.ipynb\" target=\"_parent\"><img src=\"https://colab.research.google.com/assets/colab-badge.svg\" alt=\"Open In Colab\"/></a>"
      ]
    },
    {
      "cell_type": "code",
      "execution_count": null,
      "metadata": {
        "id": "Nd7mgw7uIncX"
      },
      "outputs": [],
      "source": [
        "class Solution:\n",
        "    def maxValue(self, n, index, maxSum):\n",
        "        def test(a):\n",
        "            b = max(a - index, 0)\n",
        "            res = (a + b) * (a - b + 1) / 2\n",
        "            b = max(a - ((n - 1) - index), 0)\n",
        "            res += (a + b) * (a - b + 1) / 2\n",
        "            return res - a\n",
        "\n",
        "        maxSum -= n\n",
        "        left, right = 0, maxSum\n",
        "        while left < right:\n",
        "            mid = (left + right + 1) // 2\n",
        "            if test(mid) <= maxSum:\n",
        "                left = mid\n",
        "            else:\n",
        "                right = mid - 1\n",
        "        return left + 1\n",
        "        "
      ]
    }
  ]
}