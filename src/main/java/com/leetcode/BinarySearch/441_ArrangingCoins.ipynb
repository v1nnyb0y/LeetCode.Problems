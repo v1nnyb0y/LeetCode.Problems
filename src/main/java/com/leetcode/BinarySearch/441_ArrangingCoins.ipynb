{
  "nbformat": 4,
  "nbformat_minor": 0,
  "metadata": {
    "colab": {
      "name": "441.ipynb",
      "provenance": [],
      "authorship_tag": "ABX9TyOdPlBBwr3r3eDgVEu+2Ref",
      "include_colab_link": true
    },
    "kernelspec": {
      "name": "python3",
      "display_name": "Python 3"
    },
    "language_info": {
      "name": "python"
    }
  },
  "cells": [
    {
      "cell_type": "markdown",
      "metadata": {
        "id": "view-in-github",
        "colab_type": "text"
      },
      "source": [
        "<a href=\"https://colab.research.google.com/github/v1nnyb0y/leetcode/blob/master/BinarySearch/441_ArrangingCoins.ipynb\" target=\"_parent\"><img src=\"https://colab.research.google.com/assets/colab-badge.svg\" alt=\"Open In Colab\"/></a>"
      ]
    },
    {
      "cell_type": "code",
      "execution_count": null,
      "metadata": {
        "id": "cW9zzEOJxeha"
      },
      "outputs": [],
      "source": [
        "class Solution:\n",
        "    def arrangeCoins(self, n: int) -> int:\n",
        "        left, right = 0, n\n",
        "        while left <= right:\n",
        "            k = (right + left) // 2\n",
        "            curr = k * (k + 1) // 2\n",
        "            if curr == n:\n",
        "                return k\n",
        "            if n < curr:\n",
        "                right = k - 1\n",
        "            else:\n",
        "                left = k + 1\n",
        "        return right"
      ]
    }
  ]
}