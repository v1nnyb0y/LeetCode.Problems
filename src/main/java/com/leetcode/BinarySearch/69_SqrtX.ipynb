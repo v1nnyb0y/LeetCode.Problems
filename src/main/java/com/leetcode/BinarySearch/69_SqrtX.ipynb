{
  "nbformat": 4,
  "nbformat_minor": 0,
  "metadata": {
    "colab": {
      "name": "69.ipynb",
      "provenance": [],
      "authorship_tag": "ABX9TyOFpVEdgsAwkfhJ5X+XFFWt",
      "include_colab_link": true
    },
    "kernelspec": {
      "name": "python3",
      "display_name": "Python 3"
    },
    "language_info": {
      "name": "python"
    }
  },
  "cells": [
    {
      "cell_type": "markdown",
      "metadata": {
        "id": "view-in-github",
        "colab_type": "text"
      },
      "source": [
        "<a href=\"https://colab.research.google.com/github/v1nnyb0y/leetcode/blob/master/BinarySearch/69_SqrtX.ipynb\" target=\"_parent\"><img src=\"https://colab.research.google.com/assets/colab-badge.svg\" alt=\"Open In Colab\"/></a>"
      ]
    },
    {
      "cell_type": "code",
      "execution_count": null,
      "metadata": {
        "id": "JqzrwdYkr4od"
      },
      "outputs": [],
      "source": [
        "class Solution:\n",
        "    def mySqrt(self, x: int) -> int:\n",
        "        if x == 0 or x == 1: \n",
        "            return x\n",
        "        \n",
        "        l, r = 0, x\n",
        "        while l <= r:\n",
        "            mid = (l + r) // 2\n",
        "            power = mid * mid\n",
        "            if power == x:\n",
        "                return mid\n",
        "            elif power > x:\n",
        "                r = mid - 1\n",
        "            else:\n",
        "                l = mid + 1\n",
        "        \n",
        "        return r"
      ]
    }
  ]
}