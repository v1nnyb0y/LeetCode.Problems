{
  "nbformat": 4,
  "nbformat_minor": 0,
  "metadata": {
    "colab": {
      "name": "1898.ipynb",
      "provenance": [],
      "authorship_tag": "ABX9TyNzAhJUtv+pYWHp4bRICikL",
      "include_colab_link": true
    },
    "kernelspec": {
      "name": "python3",
      "display_name": "Python 3"
    },
    "language_info": {
      "name": "python"
    }
  },
  "cells": [
    {
      "cell_type": "markdown",
      "metadata": {
        "id": "view-in-github",
        "colab_type": "text"
      },
      "source": [
        "<a href=\"https://colab.research.google.com/github/v1nnyb0y/leetcode/blob/master/BinarySearch/1898_MaximumNumberOfRemovableCharacters.ipynb\" target=\"_parent\"><img src=\"https://colab.research.google.com/assets/colab-badge.svg\" alt=\"Open In Colab\"/></a>"
      ]
    },
    {
      "cell_type": "code",
      "execution_count": null,
      "metadata": {
        "id": "BSFmWPGbBmrI"
      },
      "outputs": [],
      "source": [
        "class Solution:\n",
        "    def maximumRemovals(self, s: str, p: str, removable: List[int]) -> int:\n",
        "        n = len(removable)\n",
        "        low, high = 0, n - 1\n",
        "        len_s, len_p = len(s), len(p)\n",
        "        maxim = 0\n",
        "        while low <= high:  # binary search the biggest 'k' (in our case is mid)\n",
        "            mid = low + (high - low) // 2\n",
        "            arr = list(s)\n",
        "            for i in range(mid + 1):\n",
        "                arr[removable[i]] = ''  # simulate the removal\n",
        "            new_s = \"\".join(arr)  # new string s after removing k characters\n",
        "            idx1 = idx2 = 0\n",
        "            new_len_s = len(new_s)\n",
        "            while idx1 < new_len_s and idx2 < len_p:  # check if it is a subsequence\n",
        "                if new_s[idx1] == p[idx2]:\n",
        "                    idx2 += 1\n",
        "                idx1 += 1\n",
        "            if idx2 == len_p:  # it it's a subsequence we try bigger k next time, so we update the 'low'\n",
        "                maxim = max(maxim, mid + 1)\n",
        "                low = mid + 1\n",
        "            else:\n",
        "                high = mid - 1  # otherwise try smaller k\n",
        "        return maxim\n",
        "\n"
      ]
    }
  ]
}