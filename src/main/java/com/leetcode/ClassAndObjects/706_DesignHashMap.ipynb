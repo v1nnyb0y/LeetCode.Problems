{
  "nbformat": 4,
  "nbformat_minor": 0,
  "metadata": {
    "colab": {
      "name": "706.ipynb",
      "provenance": [],
      "authorship_tag": "ABX9TyMg423KI6jt1nEHiz/xBa8b",
      "include_colab_link": true
    },
    "kernelspec": {
      "name": "python3",
      "display_name": "Python 3"
    },
    "language_info": {
      "name": "python"
    }
  },
  "cells": [
    {
      "cell_type": "markdown",
      "metadata": {
        "id": "view-in-github",
        "colab_type": "text"
      },
      "source": [
        "<a href=\"https://colab.research.google.com/github/v1nnyb0y/leetcode/blob/master/ClassAndObjects/706_DesignHashMap.ipynb\" target=\"_parent\"><img src=\"https://colab.research.google.com/assets/colab-badge.svg\" alt=\"Open In Colab\"/></a>"
      ]
    },
    {
      "cell_type": "code",
      "execution_count": null,
      "metadata": {
        "id": "HIf5MMXtiIOj"
      },
      "outputs": [],
      "source": [
        "class MyHashMap:\n",
        "    def __init__(self):\n",
        "        self.golden_ratio = 1.618\n",
        "        self.table_size = 65536\n",
        "        self.table = [[] for _ in range(self.table_size)]\n",
        "        self.hash = lambda i: i*math.ceil(self.golden_ratio*self.table_size) % self.table_size\n",
        "        \n",
        "        \n",
        "    def put(self, key, value):\n",
        "        self.remove(key) #use the function you wrote already!\n",
        "        hkey = self.hash(key)\n",
        "        self.table[hkey].append((key, value))\n",
        "        \n",
        "\n",
        "    def get(self, key):\n",
        "        hkey = self.hash(key)\n",
        "        ix = -1\n",
        "        for i, x in enumerate(self.table[hkey]):\n",
        "            if x[0] == key:\n",
        "                ix = i\n",
        "        return -1 if ix==-1 else self.table[hkey][ix][1]\n",
        "        \n",
        "        \n",
        "    def remove(self, key):\n",
        "        hkey = self.hash(key)\n",
        "        ix = -1\n",
        "        for i, x in enumerate(self.table[hkey]):\n",
        "            if x[0] == key:\n",
        "                ix = i\n",
        "        if ix >= 0:\n",
        "            del self.table[hkey][ix]"
      ]
    }
  ]
}