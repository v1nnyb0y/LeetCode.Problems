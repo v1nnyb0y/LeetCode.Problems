{
  "nbformat": 4,
  "nbformat_minor": 0,
  "metadata": {
    "colab": {
      "name": "1603.ipynb",
      "provenance": [],
      "authorship_tag": "ABX9TyPu6CqGRgYMhH+/Vg//iR22",
      "include_colab_link": true
    },
    "kernelspec": {
      "name": "python3",
      "display_name": "Python 3"
    },
    "language_info": {
      "name": "python"
    }
  },
  "cells": [
    {
      "cell_type": "markdown",
      "metadata": {
        "id": "view-in-github",
        "colab_type": "text"
      },
      "source": [
        "<a href=\"https://colab.research.google.com/github/v1nnyb0y/leetcode/blob/master/ClassAndObjects/1603_DesignParkingSystem.ipynb\" target=\"_parent\"><img src=\"https://colab.research.google.com/assets/colab-badge.svg\" alt=\"Open In Colab\"/></a>"
      ]
    },
    {
      "cell_type": "code",
      "execution_count": null,
      "metadata": {
        "id": "tqFhYa7xDCYZ"
      },
      "outputs": [],
      "source": [
        "class ParkingSystem:\n",
        "\n",
        "    def __init__(self, big: int, medium: int, small: int):\n",
        "        self.big = big\n",
        "        self.medium = medium\n",
        "        self.small = small\n",
        "\n",
        "    def addCar(self, carType: int) -> bool:\n",
        "        if carType == 1 and self.big > 0:\n",
        "            self.big -= 1\n",
        "            return True\n",
        "        elif carType == 2 and self.medium > 0:\n",
        "            self.medium -= 1\n",
        "            return True\n",
        "        elif carType == 3 and self.small > 0:\n",
        "            self.small -= 1\n",
        "            return True\n",
        "        else:\n",
        "            return False\n",
        "\n",
        "\n",
        "# Your ParkingSystem object will be instantiated and called as such:\n",
        "# obj = ParkingSystem(big, medium, small)\n",
        "# param_1 = obj.addCar(carType)"
      ]
    }
  ]
}