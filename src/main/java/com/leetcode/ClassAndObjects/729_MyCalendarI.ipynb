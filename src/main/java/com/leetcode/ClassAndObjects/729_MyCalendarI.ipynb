{
  "nbformat": 4,
  "nbformat_minor": 0,
  "metadata": {
    "colab": {
      "name": "729.ipynb",
      "provenance": [],
      "authorship_tag": "ABX9TyN5/wOCGTHknAplYZMt5cZ+",
      "include_colab_link": true
    },
    "kernelspec": {
      "name": "python3",
      "display_name": "Python 3"
    },
    "language_info": {
      "name": "python"
    }
  },
  "cells": [
    {
      "cell_type": "markdown",
      "metadata": {
        "id": "view-in-github",
        "colab_type": "text"
      },
      "source": [
        "<a href=\"https://colab.research.google.com/github/v1nnyb0y/leetcode/blob/master/ClassAndObjects/729_MyCalendarI.ipynb\" target=\"_parent\"><img src=\"https://colab.research.google.com/assets/colab-badge.svg\" alt=\"Open In Colab\"/></a>"
      ]
    },
    {
      "cell_type": "code",
      "execution_count": null,
      "metadata": {
        "id": "qDzc75nso2EF"
      },
      "outputs": [],
      "source": [
        "class Node:\n",
        "    __slots__ = 'start', 'end', 'left', 'right'\n",
        "    def __init__(self, start, end):\n",
        "        self.start = start\n",
        "        self.end = end\n",
        "        self.left = self.right = None\n",
        "\n",
        "    def insert(self, node):\n",
        "        if node.start >= self.end:\n",
        "            if not self.right:\n",
        "                self.right = node\n",
        "                return True\n",
        "            return self.right.insert(node)\n",
        "        elif node.end <= self.start:\n",
        "            if not self.left:\n",
        "                self.left = node\n",
        "                return True\n",
        "            return self.left.insert(node)\n",
        "        else:\n",
        "            return False\n",
        "\n",
        "class MyCalendar(object):\n",
        "    def __init__(self):\n",
        "        self.root = None\n",
        "\n",
        "    def book(self, start, end):\n",
        "        if self.root is None:\n",
        "            self.root = Node(start, end)\n",
        "            return True\n",
        "        return self.root.insert(Node(start, end))"
      ]
    }
  ]
}