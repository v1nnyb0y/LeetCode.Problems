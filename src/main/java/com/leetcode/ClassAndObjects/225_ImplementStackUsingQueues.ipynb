{
  "nbformat": 4,
  "nbformat_minor": 0,
  "metadata": {
    "colab": {
      "name": "225.ipynb",
      "provenance": [],
      "authorship_tag": "ABX9TyOfvNF7Kzm2QlKMs+tTj0oC",
      "include_colab_link": true
    },
    "kernelspec": {
      "name": "python3",
      "display_name": "Python 3"
    },
    "language_info": {
      "name": "python"
    }
  },
  "cells": [
    {
      "cell_type": "markdown",
      "metadata": {
        "id": "view-in-github",
        "colab_type": "text"
      },
      "source": [
        "<a href=\"https://colab.research.google.com/github/v1nnyb0y/leetcode/blob/master/ClassAndObjects/225_ImplementStackUsingQueues.ipynb\" target=\"_parent\"><img src=\"https://colab.research.google.com/assets/colab-badge.svg\" alt=\"Open In Colab\"/></a>"
      ]
    },
    {
      "cell_type": "code",
      "execution_count": null,
      "metadata": {
        "id": "-xO8lvGHHrNV"
      },
      "outputs": [],
      "source": [
        "# Solution 2: faster\n",
        "\n",
        "\n",
        "class MyStack:\n",
        "\n",
        "    def __init__(self):\n",
        "        \"\"\"\n",
        "        Initialize your data structure here.\n",
        "        \"\"\"\n",
        "\n",
        "        self.queue = deque()\n",
        "\n",
        "    def push(self, x: int):\n",
        "        \"\"\"\n",
        "        Push element x onto stack.\n",
        "        \"\"\"\n",
        "        temp = deque([x])\n",
        "        self.queue = temp + self.queue\n",
        "\n",
        "    def pop(self):\n",
        "        \"\"\"\n",
        "        Removes the element on top of the stack and returns that element.\n",
        "        \"\"\"\n",
        "        return self.queue.popleft()\n",
        "\n",
        "    def top(self):\n",
        "        \"\"\"\n",
        "        Get the top element.\n",
        "        \"\"\"\n",
        "        return self.queue[0]\n",
        "\n",
        "    def empty(self):\n",
        "        \"\"\"\n",
        "        Returns whether the stack is empty.\n",
        "        \"\"\"\n",
        "        return len(self.queue) == 0"
      ]
    }
  ]
}