{
  "nbformat": 4,
  "nbformat_minor": 0,
  "metadata": {
    "colab": {
      "name": "1790.ipynb",
      "provenance": [],
      "authorship_tag": "ABX9TyOmYtCpgOwB4AE09lAe1iYm",
      "include_colab_link": true
    },
    "kernelspec": {
      "name": "python3",
      "display_name": "Python 3"
    },
    "language_info": {
      "name": "python"
    }
  },
  "cells": [
    {
      "cell_type": "markdown",
      "metadata": {
        "id": "view-in-github",
        "colab_type": "text"
      },
      "source": [
        "<a href=\"https://colab.research.google.com/github/v1nnyb0y/LeetCode.Problems/blob/master/Loop/1790_CheckIfOneStringSwapCanMakeStringsEqual.ipynb\" target=\"_parent\"><img src=\"https://colab.research.google.com/assets/colab-badge.svg\" alt=\"Open In Colab\"/></a>"
      ]
    },
    {
      "cell_type": "code",
      "execution_count": null,
      "metadata": {
        "id": "OrqUjZJPe1S2"
      },
      "outputs": [],
      "source": [
        "class Solution:\n",
        "    def areAlmostEqual(self, s1: str, s2: str) -> bool:\n",
        "        return sum ([a != b for a, b in zip (s1, s2)]) in [0, 2] and set (s1) == set (s2)"
      ]
    }
  ]
}