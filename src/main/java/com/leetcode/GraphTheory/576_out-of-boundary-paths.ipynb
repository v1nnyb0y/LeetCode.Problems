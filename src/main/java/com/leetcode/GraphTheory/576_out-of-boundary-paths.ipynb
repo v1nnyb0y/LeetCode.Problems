{
  "nbformat": 4,
  "nbformat_minor": 0,
  "metadata": {
    "colab": {
      "name": "576.ipynb",
      "provenance": [],
      "authorship_tag": "ABX9TyP1FlzfziEv+STQE/DhT46l",
      "include_colab_link": true
    },
    "kernelspec": {
      "name": "python3",
      "display_name": "Python 3"
    },
    "language_info": {
      "name": "python"
    }
  },
  "cells": [
    {
      "cell_type": "markdown",
      "metadata": {
        "id": "view-in-github",
        "colab_type": "text"
      },
      "source": [
        "<a href=\"https://colab.research.google.com/github/v1nnyb0y/leetcode/blob/master/GraphTheory/576_out-of-boundary-paths.ipynb\" target=\"_parent\"><img src=\"https://colab.research.google.com/assets/colab-badge.svg\" alt=\"Open In Colab\"/></a>"
      ]
    },
    {
      "cell_type": "code",
      "execution_count": null,
      "metadata": {
        "id": "jF4uUhlQ9L2E"
      },
      "outputs": [],
      "source": [
        "class Solution:\n",
        "    def __init__(self):\n",
        "        self.mod = pow(10, 9) + 7\n",
        "    def findPaths(self, m, n, N, i, j):\n",
        "        cache = dict()\n",
        "        return self._findPaths(m,n,N,i,j, cache)\n",
        "    def _findPaths(self, m, n, N, i, j, cache):\n",
        "        if N < 0:\n",
        "            return 0\n",
        "        \n",
        "        if i < 0 or i == m or j < 0 or j == n:\n",
        "            return 1\n",
        "        key = (i, j, N)\n",
        "        \n",
        "        if key in cache:\n",
        "            return cache[key]\n",
        "        \n",
        "        up = self._findPaths(m,n,N-1,i-1,j, cache)\n",
        "        down = self._findPaths(m,n,N-1,i+1, j, cache)\n",
        "        left = self._findPaths(m,n,N-1,i,j-1, cache)\n",
        "        right = self._findPaths(m,n,N-1,i,j+1, cache)\n",
        "        ans = up + down+left+right\n",
        "        ans = ans % self.mod\n",
        "        cache[key] = ans \n",
        "        return ans\n",
        "        "
      ]
    }
  ]
}