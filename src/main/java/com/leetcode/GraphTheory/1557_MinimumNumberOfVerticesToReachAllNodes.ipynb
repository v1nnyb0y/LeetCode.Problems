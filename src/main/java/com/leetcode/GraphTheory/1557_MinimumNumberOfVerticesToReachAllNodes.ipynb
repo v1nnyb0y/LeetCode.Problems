{
  "nbformat": 4,
  "nbformat_minor": 0,
  "metadata": {
    "colab": {
      "name": "1557.ipynb",
      "provenance": [],
      "authorship_tag": "ABX9TyNXWLSjNMB+ji9NvDeNKWjx",
      "include_colab_link": true
    },
    "kernelspec": {
      "name": "python3",
      "display_name": "Python 3"
    },
    "language_info": {
      "name": "python"
    }
  },
  "cells": [
    {
      "cell_type": "markdown",
      "metadata": {
        "id": "view-in-github",
        "colab_type": "text"
      },
      "source": [
        "<a href=\"https://colab.research.google.com/github/v1nnyb0y/leetcode/blob/master/GraphTheory/1557_MinimumNumberOfVerticesToReachAllNodes.ipynb\" target=\"_parent\"><img src=\"https://colab.research.google.com/assets/colab-badge.svg\" alt=\"Open In Colab\"/></a>"
      ]
    },
    {
      "cell_type": "code",
      "execution_count": null,
      "metadata": {
        "id": "dAfoY93rFEty"
      },
      "outputs": [],
      "source": [
        "class Solution:\n",
        "    def findSmallestSetOfVertices(self, n: int, edges: List[List[int]]) -> List[int]:\n",
        "        roots = set(range(n))\n",
        "        for source, dest in edges:\n",
        "            if dest in roots:\n",
        "                roots.remove(dest)\n",
        "        return roots"
      ]
    }
  ]
}