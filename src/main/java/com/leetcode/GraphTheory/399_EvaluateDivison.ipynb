{
  "nbformat": 4,
  "nbformat_minor": 0,
  "metadata": {
    "colab": {
      "name": "399.ipynb",
      "provenance": [],
      "authorship_tag": "ABX9TyMBowxUDo5Uv1IUTX0eNvmo",
      "include_colab_link": true
    },
    "kernelspec": {
      "name": "python3",
      "display_name": "Python 3"
    },
    "language_info": {
      "name": "python"
    }
  },
  "cells": [
    {
      "cell_type": "markdown",
      "metadata": {
        "id": "view-in-github",
        "colab_type": "text"
      },
      "source": [
        "<a href=\"https://colab.research.google.com/github/v1nnyb0y/leetcode/blob/master/GraphTheory/399_EvaluateDivison.ipynb\" target=\"_parent\"><img src=\"https://colab.research.google.com/assets/colab-badge.svg\" alt=\"Open In Colab\"/></a>"
      ]
    },
    {
      "cell_type": "code",
      "execution_count": null,
      "metadata": {
        "id": "Q7bKLdjt9Fwl"
      },
      "outputs": [],
      "source": [
        "class UnionFind:\n",
        "    def __init__(self):\n",
        "        self.id = {}\n",
        "        self.sz = {}\n",
        "        self.w = {}\n",
        "    \n",
        "    def add(self, a):\n",
        "        self.id[a] = a\n",
        "        self.w[a] = 1.0\n",
        "        self.sz[a] = 1\n",
        "    \n",
        "    def getRoot(self, a):\n",
        "        wa = 1.0\n",
        "        while a != self.id[a]:\n",
        "            self.w[a] *= self.w[self.id[a]]\n",
        "            wa *= self.w[a]\n",
        "            self.id[a] = self.id[self.id[a]]\n",
        "            a = self.id[a]\n",
        "        return a, wa\n",
        "    \n",
        "    def unite(self, i, j, w):\n",
        "        ri, wi = self.getRoot(i)\n",
        "        rj, wj = self.getRoot(j)\n",
        "        if ri == rj:\n",
        "            return\n",
        "        if self.sz[ri] > self.sz[rj]:\n",
        "            ri, rj = rj, ri\n",
        "            wi, wj = wj, wi\n",
        "            w = 1 / w\n",
        "        self.id[ri] = rj\n",
        "        self.w[ri] = wj / (wi * w)\n",
        "        self.sz[rj] += self.sz[ri]\n",
        "\n",
        "class Solution:\n",
        "    def calcEquation(self, equations, values, queries):\n",
        "        \"\"\"\n",
        "        :type equations: List[List[str]]\n",
        "        :type values: List[float]\n",
        "        :type queries: List[List[str]]\n",
        "        :rtype: List[float]\n",
        "        \"\"\"\n",
        "        uf = UnionFind()\n",
        "        for i, (a, b) in enumerate(equations):\n",
        "            if a not in uf.id:\n",
        "                uf.add(a)\n",
        "            if b not in uf.id:\n",
        "                uf.add(b)\n",
        "            uf.unite(a, b, values[i])\n",
        "        \n",
        "        res = []\n",
        "        for a, b in queries:\n",
        "            if a not in uf.id or b not in uf.id:\n",
        "                res.append(-1.0)\n",
        "            else:\n",
        "                ra, wa = uf.getRoot(a)\n",
        "                rb, wb = uf.getRoot(b)\n",
        "                if ra != rb:\n",
        "                    res.append(-1.0)\n",
        "                else:   \n",
        "                    res.append(wb / wa)\n",
        "        \n",
        "        return res     "
      ]
    }
  ]
}