{
  "nbformat": 4,
  "nbformat_minor": 0,
  "metadata": {
    "colab": {
      "name": "733.ipynb",
      "provenance": [],
      "authorship_tag": "ABX9TyPLOaT/IE1Q0lkZZZNScep1",
      "include_colab_link": true
    },
    "kernelspec": {
      "name": "python3",
      "display_name": "Python 3"
    },
    "language_info": {
      "name": "python"
    }
  },
  "cells": [
    {
      "cell_type": "markdown",
      "metadata": {
        "id": "view-in-github",
        "colab_type": "text"
      },
      "source": [
        "<a href=\"https://colab.research.google.com/github/v1nnyb0y/leetcode/blob/master/GraphTheory/733_FloodFill.ipynb\" target=\"_parent\"><img src=\"https://colab.research.google.com/assets/colab-badge.svg\" alt=\"Open In Colab\"/></a>"
      ]
    },
    {
      "cell_type": "code",
      "execution_count": null,
      "metadata": {
        "id": "P0zDxKPz3Q5J"
      },
      "outputs": [],
      "source": [
        "class Solution:\n",
        "    def floodFill(self, image: List[List[int]], sr: int, sc: int, newColor: int) -> List[List[int]]:\n",
        "        if image[sr][sc] == newColor:\n",
        "            return image\n",
        "        \n",
        "        prevColor, image[sr][sc] = image[sr][sc], newColor\n",
        "        if sr + 1 != len(image):\n",
        "            if image[sr + 1][sc] == prevColor:\n",
        "                image = self.floodFill(image, sr + 1, sc, newColor)\n",
        "        \n",
        "        if sr - 1 >= 0:\n",
        "            if image[sr - 1][sc] == prevColor:\n",
        "                image = self.floodFill(image, sr - 1, sc, newColor)\n",
        "        \n",
        "        if sc + 1 != len(image[0]):\n",
        "            if image[sr][sc + 1] == prevColor:\n",
        "                image = self.floodFill(image, sr, sc + 1, newColor)\n",
        "                \n",
        "        if sc - 1 >= 0:\n",
        "            if image[sr][sc - 1] == prevColor:\n",
        "                image = self.floodFill(image, sr, sc - 1, newColor)\n",
        "                \n",
        "        return image"
      ]
    }
  ]
}