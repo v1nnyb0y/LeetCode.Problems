{
  "nbformat": 4,
  "nbformat_minor": 0,
  "metadata": {
    "colab": {
      "name": "200.ipynb",
      "provenance": [],
      "authorship_tag": "ABX9TyMgt/hFOjegqJ9tZVa5xjBv",
      "include_colab_link": true
    },
    "kernelspec": {
      "name": "python3",
      "display_name": "Python 3"
    },
    "language_info": {
      "name": "python"
    }
  },
  "cells": [
    {
      "cell_type": "markdown",
      "metadata": {
        "id": "view-in-github",
        "colab_type": "text"
      },
      "source": [
        "<a href=\"https://colab.research.google.com/github/v1nnyb0y/leetcode/blob/master/GraphTheory/200_NumberOfIslands.ipynb\" target=\"_parent\"><img src=\"https://colab.research.google.com/assets/colab-badge.svg\" alt=\"Open In Colab\"/></a>"
      ]
    },
    {
      "cell_type": "code",
      "execution_count": null,
      "metadata": {
        "id": "iB9rguon6RSQ"
      },
      "outputs": [],
      "source": [
        "class Solution:\n",
        "    def numIslands(self, grid: List[List[str]]) -> int:\n",
        "        def dfs(i,j):\n",
        "            if i < 0 or j < 0 or i >= m or j >= n or grid[i][j] == '0':\n",
        "                return\n",
        "            \n",
        "            grid[i][j]=\"0\"\n",
        "            \n",
        "            dfs(i-1,j)\n",
        "            dfs(i+1,j)\n",
        "            dfs(i,j-1)\n",
        "            dfs(i,j+1)\n",
        "        \n",
        "        \n",
        "        m=len(grid)\n",
        "        n=len(grid[0])\n",
        "        res=0\n",
        "        for i in range(m):\n",
        "            for j in range(n):\n",
        "                if grid[i][j]==\"1\":\n",
        "                    dfs(i,j)\n",
        "                    res+=1\n",
        "                \n",
        "        return res"
      ]
    }
  ]
}