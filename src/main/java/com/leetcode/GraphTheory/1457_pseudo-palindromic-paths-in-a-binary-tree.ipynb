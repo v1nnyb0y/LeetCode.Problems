{
  "nbformat": 4,
  "nbformat_minor": 0,
  "metadata": {
    "colab": {
      "provenance": [],
      "authorship_tag": "ABX9TyONAZFE+CRWkccPu3lHJ0si",
      "include_colab_link": true
    },
    "kernelspec": {
      "name": "python3",
      "display_name": "Python 3"
    },
    "language_info": {
      "name": "python"
    }
  },
  "cells": [
    {
      "cell_type": "markdown",
      "metadata": {
        "id": "view-in-github",
        "colab_type": "text"
      },
      "source": [
        "<a href=\"https://colab.research.google.com/github/v1nnyb0y/leetcode/blob/master/GraphTheory/1457_pseudo-palindromic-paths-in-a-binary-tree.ipynb\" target=\"_parent\"><img src=\"https://colab.research.google.com/assets/colab-badge.svg\" alt=\"Open In Colab\"/></a>"
      ]
    },
    {
      "cell_type": "code",
      "execution_count": null,
      "metadata": {
        "id": "HWZVNVWmFmmZ"
      },
      "outputs": [],
      "source": [
        "# Definition for a binary tree node.\n",
        "# class TreeNode:\n",
        "#     def __init__(self, val=0, left=None, right=None):\n",
        "#         self.val = val\n",
        "#         self.left = left\n",
        "#         self.right = right\n",
        "class Solution:\n",
        "    def pseudoPalindromicPaths (self, root: Optional[TreeNode]) -> int:\n",
        "        ans=[0]\n",
        "        def solve(root,path):\n",
        "            if not root:\n",
        "                return\n",
        "            if root.val in path:\n",
        "                path[root.val]+=1\n",
        "            else:\n",
        "                path[root.val]=1\n",
        "            \n",
        "            if not root.left and not root.right:\n",
        "                o=0\n",
        "                for i in path:\n",
        "                    if path[i]%2!=0:\n",
        "                        o+=1\n",
        "                if o in [0,1]:\n",
        "                    ans[0]+=1\n",
        "                    \n",
        "            else:\n",
        "                \n",
        "                solve(root.left,path.copy())\n",
        "                solve(root.right,path.copy())\n",
        "        solve(root,{})\n",
        "        return ans[0]\n",
        "        "
      ]
    }
  ]
}