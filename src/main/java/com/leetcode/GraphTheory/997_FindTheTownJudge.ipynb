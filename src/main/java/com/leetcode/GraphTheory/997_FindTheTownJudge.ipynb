{
  "nbformat": 4,
  "nbformat_minor": 0,
  "metadata": {
    "colab": {
      "name": "997.ipynb",
      "provenance": [],
      "authorship_tag": "ABX9TyPPvZ6S8PSO1SEKMIDSH4f8",
      "include_colab_link": true
    },
    "kernelspec": {
      "name": "python3",
      "display_name": "Python 3"
    },
    "language_info": {
      "name": "python"
    }
  },
  "cells": [
    {
      "cell_type": "markdown",
      "metadata": {
        "id": "view-in-github",
        "colab_type": "text"
      },
      "source": [
        "<a href=\"https://colab.research.google.com/github/v1nnyb0y/leetcode/blob/master/GraphTheory/997_FindTheTownJudge.ipynb\" target=\"_parent\"><img src=\"https://colab.research.google.com/assets/colab-badge.svg\" alt=\"Open In Colab\"/></a>"
      ]
    },
    {
      "cell_type": "code",
      "execution_count": null,
      "metadata": {
        "id": "be22M_q4EZPO"
      },
      "outputs": [],
      "source": [
        "class Solution:\n",
        "    def findJudge(self, N: int, trust: List[List[int]]) -> int:\n",
        "        if not trust:\n",
        "            return 1 if N == 1 else -1\n",
        "        \n",
        "        trustingPeople = set([group[0] for group in trust])\n",
        "        total = (N*(N+1))//2\n",
        "        townJudge = total - sum(trustingPeople)\n",
        "        if townJudge:\n",
        "            peopleTrustingTownJudge = [group[0] for group in trust if group[1] ==  townJudge]\n",
        "            if total - sum(peopleTrustingTownJudge) == townJudge:\n",
        "                return townJudge\n",
        "            else:\n",
        "                return -1\n",
        "        else:\n",
        "            return -1"
      ]
    }
  ]
}