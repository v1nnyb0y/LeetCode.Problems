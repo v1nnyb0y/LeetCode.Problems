{
  "nbformat": 4,
  "nbformat_minor": 0,
  "metadata": {
    "colab": {
      "name": "785.ipynb",
      "provenance": [],
      "authorship_tag": "ABX9TyMtYGhSkN8U+gJAj1nD4729",
      "include_colab_link": true
    },
    "kernelspec": {
      "name": "python3",
      "display_name": "Python 3"
    },
    "language_info": {
      "name": "python"
    }
  },
  "cells": [
    {
      "cell_type": "markdown",
      "metadata": {
        "id": "view-in-github",
        "colab_type": "text"
      },
      "source": [
        "<a href=\"https://colab.research.google.com/github/v1nnyb0y/leetcode/blob/master/GraphTheory/785_IsGraphBipartite.ipynb\" target=\"_parent\"><img src=\"https://colab.research.google.com/assets/colab-badge.svg\" alt=\"Open In Colab\"/></a>"
      ]
    },
    {
      "cell_type": "code",
      "execution_count": null,
      "metadata": {
        "id": "eNvG7js_TEsO"
      },
      "outputs": [],
      "source": [
        "class Solution:\n",
        "    def __init__(self):\n",
        "        self.p1, self.p2 = {0: 0}, {}\n",
        "        self.graph = defaultdict(list)\n",
        "        self.processed = {}\n",
        "        \n",
        "    def constructGraph(self, graph):\n",
        "        for i, nodes in enumerate(graph):\n",
        "            self.graph[i] = nodes\n",
        "    \n",
        "    def getNextNode(self):\n",
        "        for i in range(len(self.graph)):\n",
        "            if i not in self.processed:\n",
        "                return i\n",
        "    \n",
        "    def isBipartite(self, graph):\n",
        "        \"\"\"\n",
        "        :type graph: List[List[int]]\n",
        "        :rtype: bool\n",
        "        \"\"\"\n",
        "        self.constructGraph(graph)\n",
        "        queue = [0]\n",
        "        while queue or len(self.processed) < len(graph):\n",
        "            node = queue.pop() if queue else self.getNextNode()\n",
        "            for neighbor in self.graph[node]:\n",
        "                if neighbor not in self.processed:\n",
        "                    queue.append(neighbor)\n",
        "            p = self.p1 if node in self.p1 else self.p2\n",
        "            np = self.p2 if p == self.p1 else self.p1\n",
        "            for neighbor in self.graph[node]:\n",
        "                if neighbor not in self.p1 and neighbor not in self.p2:\n",
        "                    np[neighbor] = neighbor\n",
        "                    \n",
        "                if (neighbor not in self.p1 and np == self.p1) or (neighbor in self.p1 and np == self.p2):\n",
        "                    return False\n",
        "        \n",
        "            self.processed[node] = node\n",
        "            \n",
        "        return True\n",
        "        "
      ]
    }
  ]
}