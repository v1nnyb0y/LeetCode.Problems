{
  "nbformat": 4,
  "nbformat_minor": 0,
  "metadata": {
    "colab": {
      "name": "365.ipynb",
      "provenance": [],
      "authorship_tag": "ABX9TyPDW775uCklCj+v9Y+VT7MZ",
      "include_colab_link": true
    },
    "kernelspec": {
      "name": "python3",
      "display_name": "Python 3"
    },
    "language_info": {
      "name": "python"
    }
  },
  "cells": [
    {
      "cell_type": "markdown",
      "metadata": {
        "id": "view-in-github",
        "colab_type": "text"
      },
      "source": [
        "<a href=\"https://colab.research.google.com/github/v1nnyb0y/leetcode/blob/master/GraphTheory/365_WaterAndJugProblem.ipynb\" target=\"_parent\"><img src=\"https://colab.research.google.com/assets/colab-badge.svg\" alt=\"Open In Colab\"/></a>"
      ]
    },
    {
      "cell_type": "code",
      "execution_count": null,
      "metadata": {
        "id": "jGNlJy3ZH8PN"
      },
      "outputs": [],
      "source": [
        "class Solution:\n",
        "    def canMeasureWater(self, jug1Capacity: int, jug2Capacity: int, targetCapacity: int) -> bool:\n",
        "        if jug1Capacity + jug2Capacity < targetCapacity:\n",
        "            return False\n",
        "    \n",
        "        return targetCapacity % math.gcd(jug1Capacity,jug2Capacity) == 0"
      ]
    }
  ]
}