{
  "nbformat": 4,
  "nbformat_minor": 0,
  "metadata": {
    "colab": {
      "name": "1020.ipynb",
      "provenance": [],
      "authorship_tag": "ABX9TyMSVAA2Yr6MvyjOr57Lg/gT",
      "include_colab_link": true
    },
    "kernelspec": {
      "name": "python3",
      "display_name": "Python 3"
    },
    "language_info": {
      "name": "python"
    }
  },
  "cells": [
    {
      "cell_type": "markdown",
      "metadata": {
        "id": "view-in-github",
        "colab_type": "text"
      },
      "source": [
        "<a href=\"https://colab.research.google.com/github/v1nnyb0y/leetcode/blob/master/GraphTheory/1020_NumberOfEnclaves.ipynb\" target=\"_parent\"><img src=\"https://colab.research.google.com/assets/colab-badge.svg\" alt=\"Open In Colab\"/></a>"
      ]
    },
    {
      "cell_type": "code",
      "execution_count": 4,
      "metadata": {
        "colab": {
          "base_uri": "https://localhost:8080/"
        },
        "id": "YAv0uvHg6UJt",
        "outputId": "1b207e00-5d5c-4cf9-e747-410a6aa0cdf7"
      },
      "outputs": [
        {
          "output_type": "stream",
          "name": "stdout",
          "text": [
            "1 0\n",
            "0\n",
            "1 2\n",
            "2 2\n",
            "2 1\n",
            "3\n",
            "3\n"
          ]
        }
      ],
      "source": [
        "class Solution:\n",
        "    def numEnclaves(self, grid: List[List[int]]) -> int:\n",
        "        def dfs(grid, i, j, locEnclave):\n",
        "            count = 1\n",
        "            grid[i][j] = 0\n",
        "            \n",
        "            if i + 1 < len(grid):\n",
        "                if grid[i + 1][j] == 1:\n",
        "                    enclave, cells = dfs(grid, i + 1, j, locEnclave)\n",
        "                    count += cells\n",
        "                    if locEnclave:\n",
        "                        locEnclave = enclave\n",
        "            else:\n",
        "                locEnclave = False\n",
        "            \n",
        "            if i - 1 >= 0:\n",
        "                if grid[i - 1][j] == 1:\n",
        "                    enclave, cells = dfs(grid, i - 1, j, locEnclave)\n",
        "                    count += cells\n",
        "                    if locEnclave:\n",
        "                        locEnclave = enclave\n",
        "            else:\n",
        "                locEnclave = False\n",
        "                \n",
        "            if j + 1 < len(grid[0]):\n",
        "                if grid[i][j + 1] == 1:\n",
        "                    enclave, cells = dfs(grid, i, j + 1, locEnclave)\n",
        "                    count += cells\n",
        "                    if locEnclave:\n",
        "                        locEnclave = enclave\n",
        "            else:\n",
        "                locEnclave = False\n",
        "                \n",
        "            if j - 1 >= 0:\n",
        "                if grid[i][j - 1] == 1:\n",
        "                    enclave, cells = dfs(grid, i, j - 1, locEnclave)\n",
        "                    count += cells\n",
        "                    if locEnclave:\n",
        "                        locEnclave = enclave\n",
        "            else:\n",
        "                locEnclave = False\n",
        "                \n",
        "            return (True, count) if locEnclave else (False, 0)\n",
        "            \n",
        "        \n",
        "        m = len(grid)\n",
        "        n = len(grid[0])\n",
        "        count = 0\n",
        "        \n",
        "        for i in range(m):\n",
        "            for j in range(n):\n",
        "                if grid[i][j] == 1:\n",
        "                    count += dfs(grid, i, j, True)[1]\n",
        "        \n",
        "        return count\n",
        "                        "
      ]
    }
  ]
}