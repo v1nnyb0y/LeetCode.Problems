{
  "nbformat": 4,
  "nbformat_minor": 0,
  "metadata": {
    "colab": {
      "name": "70.ipynb",
      "provenance": [],
      "authorship_tag": "ABX9TyNlG+TZ/mRM22oN8StU9fpb",
      "include_colab_link": true
    },
    "kernelspec": {
      "name": "python3",
      "display_name": "Python 3"
    },
    "language_info": {
      "name": "python"
    }
  },
  "cells": [
    {
      "cell_type": "markdown",
      "metadata": {
        "id": "view-in-github",
        "colab_type": "text"
      },
      "source": [
        "<a href=\"https://colab.research.google.com/github/v1nnyb0y/leetcode/blob/master/DynamicProgramming/70_ClimbingStairs.ipynb\" target=\"_parent\"><img src=\"https://colab.research.google.com/assets/colab-badge.svg\" alt=\"Open In Colab\"/></a>"
      ]
    },
    {
      "cell_type": "code",
      "execution_count": null,
      "metadata": {
        "id": "3-Wj0zs_co5w"
      },
      "outputs": [],
      "source": [
        "class Solution:\n",
        "    def climbStairs(self, n: int) -> int:\n",
        "        if n == 1:\n",
        "            return 1\n",
        "        \n",
        "        a, b, c = 0, 1, 2\n",
        "        while n != 0:\n",
        "            a, b = b, c\n",
        "            c = a + b\n",
        "            n -= 1\n",
        "        \n",
        "        return a"
      ]
    }
  ]
}