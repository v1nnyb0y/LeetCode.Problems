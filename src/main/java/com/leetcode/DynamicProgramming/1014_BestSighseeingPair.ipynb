{
  "nbformat": 4,
  "nbformat_minor": 0,
  "metadata": {
    "colab": {
      "name": "1014.ipynb",
      "provenance": [],
      "authorship_tag": "ABX9TyPjT3IA8nc5J8Gi1FarmdA6",
      "include_colab_link": true
    },
    "kernelspec": {
      "name": "python3",
      "display_name": "Python 3"
    },
    "language_info": {
      "name": "python"
    }
  },
  "cells": [
    {
      "cell_type": "markdown",
      "metadata": {
        "id": "view-in-github",
        "colab_type": "text"
      },
      "source": [
        "<a href=\"https://colab.research.google.com/github/v1nnyb0y/leetcode/blob/master/DynamicProgramming/1014_BestSighseeingPair.ipynb\" target=\"_parent\"><img src=\"https://colab.research.google.com/assets/colab-badge.svg\" alt=\"Open In Colab\"/></a>"
      ]
    },
    {
      "cell_type": "code",
      "execution_count": null,
      "metadata": {
        "id": "7pw9xic_C2gD"
      },
      "outputs": [],
      "source": [
        "class Solution:\n",
        "    def maxScoreSightseeingPair(self, values: List[int]) -> int:\n",
        "        max_seen = values[0]\n",
        "        max_score = 0\n",
        "        \n",
        "        for i in range(1, len(values)):\n",
        "            max_seen -= 1\n",
        "            \n",
        "            current = max_seen + values[i]\n",
        "            if current > max_score:\n",
        "                max_score = current\n",
        "            \n",
        "            if max_seen < values[i]:\n",
        "                max_seen = values[i]\n",
        "        \n",
        "        return max_score"
      ]
    }
  ]
}