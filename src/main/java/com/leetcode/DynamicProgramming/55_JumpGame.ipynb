{
  "nbformat": 4,
  "nbformat_minor": 0,
  "metadata": {
    "colab": {
      "name": "55.ipynb",
      "provenance": [],
      "authorship_tag": "ABX9TyNA3xIv4P65XNvpx5ApcrR6",
      "include_colab_link": true
    },
    "kernelspec": {
      "name": "python3",
      "display_name": "Python 3"
    },
    "language_info": {
      "name": "python"
    }
  },
  "cells": [
    {
      "cell_type": "markdown",
      "metadata": {
        "id": "view-in-github",
        "colab_type": "text"
      },
      "source": [
        "<a href=\"https://colab.research.google.com/github/v1nnyb0y/leetcode/blob/master/DynamicProgramming/55_JumpGame.ipynb\" target=\"_parent\"><img src=\"https://colab.research.google.com/assets/colab-badge.svg\" alt=\"Open In Colab\"/></a>"
      ]
    },
    {
      "cell_type": "code",
      "execution_count": null,
      "metadata": {
        "id": "-yeEL12cjrhO"
      },
      "outputs": [],
      "source": [
        "class Solution:\n",
        "    def canJump(self, nums: List[int]) -> bool:\n",
        "        dp = [False]*len(nums)\n",
        "        dp[0] = True\n",
        "        for i in range(1,len(nums)):\n",
        "            for j in range(i-1,-1,-1):\n",
        "                if dp[j] == True and nums[j] + j >= i:\n",
        "                    dp[i] = True\n",
        "                    break\n",
        "        return dp[-1]\n",
        "            "
      ]
    }
  ]
}