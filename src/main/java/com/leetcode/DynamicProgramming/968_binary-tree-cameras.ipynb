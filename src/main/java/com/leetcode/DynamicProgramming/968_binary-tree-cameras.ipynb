{
  "nbformat": 4,
  "nbformat_minor": 0,
  "metadata": {
    "colab": {
      "name": "968.ipynb",
      "provenance": [],
      "authorship_tag": "ABX9TyNVLYetdRpqAZaCt2ctUybJ",
      "include_colab_link": true
    },
    "kernelspec": {
      "name": "python3",
      "display_name": "Python 3"
    },
    "language_info": {
      "name": "python"
    }
  },
  "cells": [
    {
      "cell_type": "markdown",
      "metadata": {
        "id": "view-in-github",
        "colab_type": "text"
      },
      "source": [
        "<a href=\"https://colab.research.google.com/github/v1nnyb0y/leetcode/blob/master/DynamicProgramming/968_binary-tree-cameras.ipynb\" target=\"_parent\"><img src=\"https://colab.research.google.com/assets/colab-badge.svg\" alt=\"Open In Colab\"/></a>"
      ]
    },
    {
      "cell_type": "code",
      "execution_count": null,
      "metadata": {
        "id": "sQClVvsGbVT9"
      },
      "outputs": [],
      "source": [
        "# Definition for a binary tree node.\n",
        "# class TreeNode:\n",
        "#     def __init__(self, val=0, left=None, right=None):\n",
        "#         self.val = val\n",
        "#         self.left = left\n",
        "#         self.right = right\n",
        "class Solution:\n",
        "    def minCameraCover(self, root):\n",
        "        \"\"\"\n",
        "        :type root: TreeNode\n",
        "        :rtype: int\n",
        "        \"\"\"\n",
        "        self.res = 0\n",
        "        def f(root):\n",
        "            if not root: return \"covered\"\n",
        "            l, r = f(root.left), f(root.right)\n",
        "            if l==\"cover_me\" or r==\"cover_me\":\n",
        "                self.res+=1\n",
        "                return \"covered_you\"\n",
        "            return \"covered\" if l==\"covered_you\" or r==\"covered_you\" else \"cover_me\"\n",
        "        return (f(root) == \"cover_me\") + self.res # handles for the root node\n",
        "        "
      ]
    }
  ]
}