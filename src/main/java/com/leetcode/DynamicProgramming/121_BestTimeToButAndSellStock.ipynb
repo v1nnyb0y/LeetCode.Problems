{
  "nbformat": 4,
  "nbformat_minor": 0,
  "metadata": {
    "colab": {
      "name": "121.ipynb",
      "provenance": [],
      "authorship_tag": "ABX9TyPCb6/Rwxt0rcKqXj0uz8ln",
      "include_colab_link": true
    },
    "kernelspec": {
      "name": "python3",
      "display_name": "Python 3"
    },
    "language_info": {
      "name": "python"
    }
  },
  "cells": [
    {
      "cell_type": "markdown",
      "metadata": {
        "id": "view-in-github",
        "colab_type": "text"
      },
      "source": [
        "<a href=\"https://colab.research.google.com/github/v1nnyb0y/leetcode/blob/master/DynamicProgramming/121_BestTimeToButAndSellStock.ipynb\" target=\"_parent\"><img src=\"https://colab.research.google.com/assets/colab-badge.svg\" alt=\"Open In Colab\"/></a>"
      ]
    },
    {
      "cell_type": "code",
      "execution_count": null,
      "metadata": {
        "id": "jnR-H96-sx0t"
      },
      "outputs": [],
      "source": [
        "class Solution:\n",
        "    def maxProfit(self, prices: List[int]) -> int:\n",
        "        profit = 0\n",
        "        lastMin = prices[0]\n",
        "        for i in range(1, len(prices)):\n",
        "            profit = max(prices[i] - lastMin, profit)\n",
        "            if lastMin > prices[i]:\n",
        "                lastMin = prices[i]\n",
        "            \n",
        "        return profit if profit > 0 else 0\n",
        "        \n",
        "        "
      ]
    }
  ]
}