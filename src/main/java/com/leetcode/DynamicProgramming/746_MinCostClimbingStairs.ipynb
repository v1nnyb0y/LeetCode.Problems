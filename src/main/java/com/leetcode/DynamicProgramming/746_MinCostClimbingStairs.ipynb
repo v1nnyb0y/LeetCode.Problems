{
  "nbformat": 4,
  "nbformat_minor": 0,
  "metadata": {
    "colab": {
      "name": "746.ipynb",
      "provenance": [],
      "authorship_tag": "ABX9TyMvGC1NctjyHIhKcW6uqbD1",
      "include_colab_link": true
    },
    "kernelspec": {
      "name": "python3",
      "display_name": "Python 3"
    },
    "language_info": {
      "name": "python"
    }
  },
  "cells": [
    {
      "cell_type": "markdown",
      "metadata": {
        "id": "view-in-github",
        "colab_type": "text"
      },
      "source": [
        "<a href=\"https://colab.research.google.com/github/v1nnyb0y/leetcode/blob/master/DynamicProgramming/746_MinCostClimbingStairs.ipynb\" target=\"_parent\"><img src=\"https://colab.research.google.com/assets/colab-badge.svg\" alt=\"Open In Colab\"/></a>"
      ]
    },
    {
      "cell_type": "code",
      "execution_count": null,
      "metadata": {
        "id": "dw8ZQD5TdyHH"
      },
      "outputs": [],
      "source": [
        "class Solution:\n",
        "    def minCostClimbingStairs(self, cost: List[int]) -> int:\n",
        "        prev1 = 0\n",
        "        prev2 = 0\n",
        "        for i in range(2, len(cost)):\n",
        "            prev1, prev2 = min(prev2+cost[i-2], prev1+cost[i-1]), prev1\n",
        "        return min(prev1+cost[-1], prev2+cost[-2])"
      ]
    }
  ]
}