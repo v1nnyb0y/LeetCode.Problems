{
  "nbformat": 4,
  "nbformat_minor": 0,
  "metadata": {
    "colab": {
      "name": "629.ipynb",
      "provenance": [],
      "authorship_tag": "ABX9TyPVy8drmpweRyl08/UZJBil",
      "include_colab_link": true
    },
    "kernelspec": {
      "name": "python3",
      "display_name": "Python 3"
    },
    "language_info": {
      "name": "python"
    }
  },
  "cells": [
    {
      "cell_type": "markdown",
      "metadata": {
        "id": "view-in-github",
        "colab_type": "text"
      },
      "source": [
        "<a href=\"https://colab.research.google.com/github/v1nnyb0y/leetcode/blob/master/DynamicProgramming/629_k-inverse-pairs-array.ipynb\" target=\"_parent\"><img src=\"https://colab.research.google.com/assets/colab-badge.svg\" alt=\"Open In Colab\"/></a>"
      ]
    },
    {
      "cell_type": "code",
      "execution_count": null,
      "metadata": {
        "id": "zNafBYVOUyYA"
      },
      "outputs": [],
      "source": [
        "class Solution:\n",
        "    def kInversePairs(self, n, k):\n",
        "        dp = [1] + [0] * k\n",
        "        for i in range(2, n + 1):\n",
        "            for j in range(1, k + 1): dp[j] += dp[j - 1]\n",
        "            for j in range(k, 0, -1): dp[j] -= j - i >= 0 and dp[j - i]\n",
        "        return dp[k] % (10**9 + 7)\n",
        "        "
      ]
    }
  ]
}