{
  "nbformat": 4,
  "nbformat_minor": 0,
  "metadata": {
    "colab": {
      "name": "221.ipynb",
      "provenance": [],
      "authorship_tag": "ABX9TyMEZGLBLMb5sJ/1PIXSokW9",
      "include_colab_link": true
    },
    "kernelspec": {
      "name": "python3",
      "display_name": "Python 3"
    },
    "language_info": {
      "name": "python"
    }
  },
  "cells": [
    {
      "cell_type": "markdown",
      "metadata": {
        "id": "view-in-github",
        "colab_type": "text"
      },
      "source": [
        "<a href=\"https://colab.research.google.com/github/v1nnyb0y/leetcode/blob/master/DynamicProgramming/221_MaximalSquare.ipynb\" target=\"_parent\"><img src=\"https://colab.research.google.com/assets/colab-badge.svg\" alt=\"Open In Colab\"/></a>"
      ]
    },
    {
      "cell_type": "code",
      "execution_count": null,
      "metadata": {
        "id": "ejKyN_-Wga1s"
      },
      "outputs": [],
      "source": [
        "class Solution:\n",
        "    def maximalSquare(self, matrix: List[List[str]]) -> int:\n",
        "        if not matrix:\n",
        "            return 0\n",
        "        m = len(matrix)\n",
        "        n = len(matrix[0])\n",
        "        maximum = 0\n",
        "        tableL = [[0]*n for _ in range(m)]\n",
        "        tableU = [[0]*n for _ in range(m)]\n",
        "        tableD = [[0]*n for _ in range(m)]\n",
        "        for i in range(m):\n",
        "            for j in range(n):\n",
        "                if matrix[i][j] == \"0\":\n",
        "                    tableL[i][j] = 0\n",
        "                    tableU[i][j] = 0\n",
        "                    tableD[i][j] = 0\n",
        "                else:\n",
        "                    if i == 0 and j == 0:\n",
        "                        tableL[i][j] = 1\n",
        "                        tableU[i][j] = 1\n",
        "                        tableD[i][j] = 1\n",
        "                    elif i == 0:\n",
        "                        tableL[i][j] = tableL[i][j-1]+1\n",
        "                        tableU[i][j] = 1\n",
        "                        tableD[i][j] = 1\n",
        "                    elif j == 0:\n",
        "                        tableL[i][j] = 1\n",
        "                        tableU[i][j] = tableU[i-1][j]+1\n",
        "                        tableD[i][j] = 1\n",
        "                    else:\n",
        "                        tableL[i][j] = tableL[i][j-1]+1\n",
        "                        tableU[i][j] = tableU[i-1][j]+1\n",
        "                        tableD[i][j] = min(tableL[i][j],tableU[i][j],tableD[i-1][j-1]+1)\n",
        "                candidate = tableD[i][j]\n",
        "                if candidate > maximum:\n",
        "                    maximum = candidate\n",
        "        return maximum * maximum"
      ]
    }
  ]
}