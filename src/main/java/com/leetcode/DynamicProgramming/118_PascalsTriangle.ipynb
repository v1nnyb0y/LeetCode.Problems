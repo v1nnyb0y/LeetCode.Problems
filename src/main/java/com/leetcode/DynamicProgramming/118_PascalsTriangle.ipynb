{
  "nbformat": 4,
  "nbformat_minor": 0,
  "metadata": {
    "colab": {
      "name": "118.ipynb",
      "provenance": [],
      "authorship_tag": "ABX9TyM/i0TtP3VE1GdcmwaMRl51",
      "include_colab_link": true
    },
    "kernelspec": {
      "name": "python3",
      "display_name": "Python 3"
    },
    "language_info": {
      "name": "python"
    }
  },
  "cells": [
    {
      "cell_type": "markdown",
      "metadata": {
        "id": "view-in-github",
        "colab_type": "text"
      },
      "source": [
        "<a href=\"https://colab.research.google.com/github/v1nnyb0y/leetcode/blob/master/DynamicProgramming/118_PascalsTriangle.ipynb\" target=\"_parent\"><img src=\"https://colab.research.google.com/assets/colab-badge.svg\" alt=\"Open In Colab\"/></a>"
      ]
    },
    {
      "cell_type": "code",
      "execution_count": null,
      "metadata": {
        "id": "m1pwQbgBhkSh"
      },
      "outputs": [],
      "source": [
        "class Solution:\n",
        "    def generate(self, numRows: int) -> List[List[int]]:\n",
        "        def generateRow(prev, length):\n",
        "            row = [1]\n",
        "            for i in range(1, length - 1):\n",
        "                sum1 = prev[i - 1]\n",
        "                sum2 = prev[i]\n",
        "                row.append(sum1 + sum2)\n",
        "            row.append(1)\n",
        "            return row\n",
        "        \n",
        "        ans = [[1]]\n",
        "        for i in range(2, numRows + 1):\n",
        "            ans.append(generateRow(ans[len(ans) - 1], i))\n",
        "        return ans"
      ]
    }
  ]
}