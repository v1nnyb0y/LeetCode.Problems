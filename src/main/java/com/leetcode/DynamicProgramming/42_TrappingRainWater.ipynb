{
  "nbformat": 4,
  "nbformat_minor": 0,
  "metadata": {
    "colab": {
      "name": "42.ipynb",
      "provenance": [],
      "authorship_tag": "ABX9TyOFfTGykTqERMwYtIGyT43m",
      "include_colab_link": true
    },
    "kernelspec": {
      "name": "python3",
      "display_name": "Python 3"
    },
    "language_info": {
      "name": "python"
    }
  },
  "cells": [
    {
      "cell_type": "markdown",
      "metadata": {
        "id": "view-in-github",
        "colab_type": "text"
      },
      "source": [
        "<a href=\"https://colab.research.google.com/github/v1nnyb0y/leetcode/blob/master/DynamicProgramming/42_TrappingRainWater.ipynb\" target=\"_parent\"><img src=\"https://colab.research.google.com/assets/colab-badge.svg\" alt=\"Open In Colab\"/></a>"
      ]
    },
    {
      "cell_type": "code",
      "execution_count": null,
      "metadata": {
        "id": "QoW9xYYwdZu_"
      },
      "outputs": [],
      "source": [
        "class Solution:\n",
        "    def trap(self, height: List[int]) -> int:\n",
        "        n = len(height)\n",
        "        if n < 3:\n",
        "            return 0\n",
        "        left = [0] * n\n",
        "        right = [0] * n\n",
        "        left[0] = height[0]\n",
        "        right[n-1] = height[n-1]\n",
        "        for i in range(1, n):\n",
        "            left[i] = max(left[i-1], height[i])\n",
        "        for i in range(n-2, -1, -1):\n",
        "            right[i] = max(right[i+1], height[i])\n",
        "        res = 0\n",
        "        for i in range(1, n-1):\n",
        "            if height[i] < left[i] and height[i] < right[i]:\n",
        "                res += min(left[i], right[i]) - height[i]\n",
        "        return res"
      ]
    }
  ]
}