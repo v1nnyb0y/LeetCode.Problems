{
  "nbformat": 4,
  "nbformat_minor": 0,
  "metadata": {
    "colab": {
      "name": "63.ipynb",
      "provenance": [],
      "authorship_tag": "ABX9TyPOpTZLt2xvJchP+EVPZAos",
      "include_colab_link": true
    },
    "kernelspec": {
      "name": "python3",
      "display_name": "Python 3"
    },
    "language_info": {
      "name": "python"
    }
  },
  "cells": [
    {
      "cell_type": "markdown",
      "metadata": {
        "id": "view-in-github",
        "colab_type": "text"
      },
      "source": [
        "<a href=\"https://colab.research.google.com/github/v1nnyb0y/leetcode/blob/master/DynamicProgramming/63_UniquePathsII.ipynb\" target=\"_parent\"><img src=\"https://colab.research.google.com/assets/colab-badge.svg\" alt=\"Open In Colab\"/></a>"
      ]
    },
    {
      "cell_type": "code",
      "execution_count": null,
      "metadata": {
        "id": "BO40TPxnrTTC"
      },
      "outputs": [],
      "source": [
        "class Solution(object):\n",
        "    def uniquePathsWithObstacles(self, obstacleGrid):\n",
        "        \"\"\"\n",
        "        :type obstacleGrid: List[List[int]]\n",
        "        :rtype: int\n",
        "        \"\"\"\n",
        "\n",
        "        m = len(obstacleGrid)\n",
        "        n = len(obstacleGrid[0])\n",
        "\n",
        "        if obstacleGrid[0][0] == 1:\n",
        "            return 0\n",
        "        \n",
        "        obstacleGrid[0][0] = 1\n",
        "        for i in range(1,m):\n",
        "            obstacleGrid[i][0] = int(obstacleGrid[i][0] == 0 and obstacleGrid[i-1][0] == 1)     \n",
        "        for j in range(1, n):\n",
        "            obstacleGrid[0][j] = int(obstacleGrid[0][j] == 0 and obstacleGrid[0][j-1] == 1)\n",
        "        for i in range(1,m):\n",
        "            for j in range(1,n):\n",
        "                if obstacleGrid[i][j] == 0:\n",
        "                    obstacleGrid[i][j] = obstacleGrid[i-1][j] + obstacleGrid[i][j-1]\n",
        "                else:\n",
        "                    obstacleGrid[i][j] = 0\n",
        "        return obstacleGrid[m-1][n-1]"
      ]
    }
  ]
}