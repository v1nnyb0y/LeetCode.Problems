{
  "nbformat": 4,
  "nbformat_minor": 0,
  "metadata": {
    "colab": {
      "name": "45.ipynb",
      "provenance": [],
      "authorship_tag": "ABX9TyMqd8kP0wK7VrkUEgD6qhiv",
      "include_colab_link": true
    },
    "kernelspec": {
      "name": "python3",
      "display_name": "Python 3"
    },
    "language_info": {
      "name": "python"
    }
  },
  "cells": [
    {
      "cell_type": "markdown",
      "metadata": {
        "id": "view-in-github",
        "colab_type": "text"
      },
      "source": [
        "<a href=\"https://colab.research.google.com/github/v1nnyb0y/leetcode/blob/master/DynamicProgramming/45_JumpGameII.ipynb\" target=\"_parent\"><img src=\"https://colab.research.google.com/assets/colab-badge.svg\" alt=\"Open In Colab\"/></a>"
      ]
    },
    {
      "cell_type": "code",
      "execution_count": 4,
      "metadata": {
        "colab": {
          "base_uri": "https://localhost:8080/"
        },
        "id": "-XQUDrc8mwTJ",
        "outputId": "992944d9-f7c8-4495-b731-287d86a409da"
      },
      "outputs": [
        {
          "output_type": "stream",
          "name": "stdout",
          "text": [
            "[1, 0, 0, 0, 0]\n",
            "10000\n",
            "[1, 0, 0, 0, 0]\n",
            "2\n",
            "[1, 2, 0, 0, 0]\n",
            "2\n",
            "[1, 2, 2, 0, 0]\n",
            "3\n",
            "[1, 2, 2, 3, 0]\n",
            "3\n"
          ]
        },
        {
          "output_type": "execute_result",
          "data": {
            "text/plain": [
              "2"
            ]
          },
          "metadata": {},
          "execution_count": 4
        }
      ],
      "source": [
        "class Solution:\n",
        "    def jump(self, nums: List[int]) -> int:\n",
        "        jmps = [math.inf for _ in range(len(nums))]\n",
        "        jmps[0] = 0\n",
        "        for i in range(len(nums) - 1):\n",
        "            farthest = min(i + nums[i], len(nums) - 1)\n",
        "            for j in range(i + 1, farthest + 1):\n",
        "                jmps[j] = min(jmps[j], jmps[i] + 1)\n",
        "        return jmps[-1]"
      ]
    }
  ]
}