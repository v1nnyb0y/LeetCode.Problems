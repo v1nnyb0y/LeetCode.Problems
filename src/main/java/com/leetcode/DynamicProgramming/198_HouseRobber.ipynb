{
  "nbformat": 4,
  "nbformat_minor": 0,
  "metadata": {
    "colab": {
      "name": "198.ipynb",
      "provenance": [],
      "authorship_tag": "ABX9TyPSZtkeJQtWXsgC0EZ+iaye",
      "include_colab_link": true
    },
    "kernelspec": {
      "name": "python3",
      "display_name": "Python 3"
    },
    "language_info": {
      "name": "python"
    }
  },
  "cells": [
    {
      "cell_type": "markdown",
      "metadata": {
        "id": "view-in-github",
        "colab_type": "text"
      },
      "source": [
        "<a href=\"https://colab.research.google.com/github/v1nnyb0y/leetcode/blob/master/DynamicProgramming/198_HouseRobber.ipynb\" target=\"_parent\"><img src=\"https://colab.research.google.com/assets/colab-badge.svg\" alt=\"Open In Colab\"/></a>"
      ]
    },
    {
      "cell_type": "code",
      "execution_count": null,
      "metadata": {
        "id": "Z6s9zxzlufTV"
      },
      "outputs": [],
      "source": [
        "class Solution:\n",
        "    def rob(self, nums: List[int]) -> int:\n",
        "        nums = [0, 0] + nums\n",
        "        for i in range(2, len(nums)):\n",
        "            nums[i] = max(nums[i-2]+nums[i], nums[i-1])\n",
        "        return max(nums[-2], nums[-1])"
      ]
    }
  ]
}