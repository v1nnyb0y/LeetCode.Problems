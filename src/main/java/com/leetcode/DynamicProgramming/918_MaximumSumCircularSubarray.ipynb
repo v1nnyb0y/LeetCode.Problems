{
  "nbformat": 4,
  "nbformat_minor": 0,
  "metadata": {
    "colab": {
      "name": "918.ipynb",
      "provenance": [],
      "authorship_tag": "ABX9TyP2HAPkWfQOVOF7NhJVFGIM",
      "include_colab_link": true
    },
    "kernelspec": {
      "name": "python3",
      "display_name": "Python 3"
    },
    "language_info": {
      "name": "python"
    }
  },
  "cells": [
    {
      "cell_type": "markdown",
      "metadata": {
        "id": "view-in-github",
        "colab_type": "text"
      },
      "source": [
        "<a href=\"https://colab.research.google.com/github/v1nnyb0y/leetcode/blob/master/DynamicProgramming/918_MaximumSumCircularSubarray.ipynb\" target=\"_parent\"><img src=\"https://colab.research.google.com/assets/colab-badge.svg\" alt=\"Open In Colab\"/></a>"
      ]
    },
    {
      "cell_type": "code",
      "execution_count": null,
      "metadata": {
        "id": "dG5E2EgokaED"
      },
      "outputs": [],
      "source": [
        "class Solution:\n",
        "    def maxSubarraySumCircular(self, A: List[int]) -> int:\n",
        "        def kadane(gen):\n",
        "            ans = cur = -math.inf\n",
        "            for x in gen:\n",
        "                cur = x + max(cur, 0)\n",
        "                ans = max(ans, cur)\n",
        "            return ans\n",
        "        \n",
        "        S = sum(A)\n",
        "        if len(A) == 1:\n",
        "            return S\n",
        "        \n",
        "        ans1 = kadane(iter(A))\n",
        "        ans2 = S + kadane(-A[i] for i in range(1, len(A)))\n",
        "        ans3 = S + kadane(-A[i] for i in range(len(A) - 1))\n",
        "        return max(ans1, ans2, ans3)"
      ]
    }
  ]
}