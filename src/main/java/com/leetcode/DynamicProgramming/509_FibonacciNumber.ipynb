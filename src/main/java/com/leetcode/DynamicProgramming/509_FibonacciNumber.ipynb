{
  "nbformat": 4,
  "nbformat_minor": 0,
  "metadata": {
    "colab": {
      "name": "509.ipynb",
      "provenance": [],
      "authorship_tag": "ABX9TyO169TNy6NJs1rx4i7xZh6n",
      "include_colab_link": true
    },
    "kernelspec": {
      "name": "python3",
      "display_name": "Python 3"
    },
    "language_info": {
      "name": "python"
    }
  },
  "cells": [
    {
      "cell_type": "markdown",
      "metadata": {
        "id": "view-in-github",
        "colab_type": "text"
      },
      "source": [
        "<a href=\"https://colab.research.google.com/github/v1nnyb0y/leetcode/blob/master/DynamicProgramming/509_FibonacciNumber.ipynb\" target=\"_parent\"><img src=\"https://colab.research.google.com/assets/colab-badge.svg\" alt=\"Open In Colab\"/></a>"
      ]
    },
    {
      "cell_type": "code",
      "execution_count": null,
      "metadata": {
        "id": "_FaF7XSjzq5B"
      },
      "outputs": [],
      "source": [
        "class Solution:\n",
        "    def fib(self, n: int) -> int:\n",
        "        if n == 0:\n",
        "            return 0\n",
        "        \n",
        "        if n == 1:\n",
        "            return 1\n",
        "        \n",
        "        return self.fib(n - 1) + self.fib(n - 2)"
      ]
    }
  ]
}