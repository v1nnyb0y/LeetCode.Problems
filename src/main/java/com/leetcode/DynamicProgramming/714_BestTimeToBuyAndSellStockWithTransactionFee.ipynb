{
  "nbformat": 4,
  "nbformat_minor": 0,
  "metadata": {
    "colab": {
      "name": "714.ipynb",
      "provenance": [],
      "authorship_tag": "ABX9TyN77jzQT+dLfhFIuwlrO/Bf",
      "include_colab_link": true
    },
    "kernelspec": {
      "name": "python3",
      "display_name": "Python 3"
    },
    "language_info": {
      "name": "python"
    }
  },
  "cells": [
    {
      "cell_type": "markdown",
      "metadata": {
        "id": "view-in-github",
        "colab_type": "text"
      },
      "source": [
        "<a href=\"https://colab.research.google.com/github/v1nnyb0y/leetcode/blob/master/DynamicProgramming/714_BestTimeToBuyAndSellStockWithTransactionFee.ipynb\" target=\"_parent\"><img src=\"https://colab.research.google.com/assets/colab-badge.svg\" alt=\"Open In Colab\"/></a>"
      ]
    },
    {
      "cell_type": "code",
      "execution_count": null,
      "metadata": {
        "id": "ioGf0AKxTc8G"
      },
      "outputs": [],
      "source": [
        "class Solution:\n",
        "    def maxProfit(self, prices: List[int], fee: int) -> int:\n",
        "        cash, hold = 0, -prices[0]\n",
        "        for i in range(1, len(prices)):\n",
        "            cash = max(cash, hold + prices[i] - fee)\n",
        "            hold = max(hold, cash - prices[i])\n",
        "        return cash"
      ]
    }
  ]
}