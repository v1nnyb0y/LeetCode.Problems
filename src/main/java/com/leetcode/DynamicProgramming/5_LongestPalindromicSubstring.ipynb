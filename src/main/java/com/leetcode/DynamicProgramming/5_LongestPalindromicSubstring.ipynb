{
  "nbformat": 4,
  "nbformat_minor": 0,
  "metadata": {
    "colab": {
      "name": "5.ipynb",
      "provenance": [],
      "authorship_tag": "ABX9TyPYGPbhUxO+pvdYo13fiFSM",
      "include_colab_link": true
    },
    "kernelspec": {
      "name": "python3",
      "display_name": "Python 3"
    },
    "language_info": {
      "name": "python"
    }
  },
  "cells": [
    {
      "cell_type": "markdown",
      "metadata": {
        "id": "view-in-github",
        "colab_type": "text"
      },
      "source": [
        "<a href=\"https://colab.research.google.com/github/v1nnyb0y/leetcode/blob/master/DynamicProgramming/5_LongestPalindromicSubstring.ipynb\" target=\"_parent\"><img src=\"https://colab.research.google.com/assets/colab-badge.svg\" alt=\"Open In Colab\"/></a>"
      ]
    },
    {
      "cell_type": "code",
      "execution_count": null,
      "metadata": {
        "id": "59Kzdnr87er6"
      },
      "outputs": [],
      "source": [
        "class Solution:\n",
        "    def longestPalindrome(self, s: str) -> str:\n",
        "        if s == s[::-1]: return s\n",
        "        \n",
        "        start, size = 0, 1\n",
        "        for i in range(1, len(s)):\n",
        "            l, r = i - size, i + 1\n",
        "            s1, s2 = s[l-1:r], s[l:r]\n",
        "            \n",
        "            if l - 1 >= 0 and s1 == s1[::-1]:\n",
        "                start, size = l - 1, size + 2\n",
        "            elif s2 == s2[::-1]:\n",
        "                start, size = l, size + 1\n",
        "                \n",
        "        return s[start:start+size]"
      ]
    }
  ]
}