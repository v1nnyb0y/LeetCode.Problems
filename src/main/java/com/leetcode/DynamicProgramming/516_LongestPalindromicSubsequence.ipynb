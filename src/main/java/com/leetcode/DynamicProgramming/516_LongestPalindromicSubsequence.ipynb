{
  "nbformat": 4,
  "nbformat_minor": 0,
  "metadata": {
    "colab": {
      "name": "516.ipynb",
      "provenance": [],
      "authorship_tag": "ABX9TyMkrmNETVoBY6wIaLwsieF0",
      "include_colab_link": true
    },
    "kernelspec": {
      "name": "python3",
      "display_name": "Python 3"
    },
    "language_info": {
      "name": "python"
    }
  },
  "cells": [
    {
      "cell_type": "markdown",
      "metadata": {
        "id": "view-in-github",
        "colab_type": "text"
      },
      "source": [
        "<a href=\"https://colab.research.google.com/github/v1nnyb0y/leetcode/blob/master/DynamicProgramming/516_LongestPalindromicSubsequence.ipynb\" target=\"_parent\"><img src=\"https://colab.research.google.com/assets/colab-badge.svg\" alt=\"Open In Colab\"/></a>"
      ]
    },
    {
      "cell_type": "code",
      "execution_count": null,
      "metadata": {
        "id": "gO8dLWIg8Cda"
      },
      "outputs": [],
      "source": [
        "class Solution:\n",
        "    def longestPalindromeSubseq(self, s: str) -> int:\n",
        "        n = len(s)\n",
        "        dp = [[0]*(n) for _ in range(n) ]\n",
        "        \n",
        "        for i in range(n):\n",
        "            dp[i][i] = 1\n",
        "\n",
        "                    \n",
        "        for i in range(n-1, -1, -1):\n",
        "            for j in range(i+1, n):                    \n",
        "                if s[i]==s[j]:\n",
        "                    dp[i][j] = dp[i+1][j-1]+2\n",
        "                else:\n",
        "                    dp[i][j] = max(dp[i][j-1], dp[i+1][j])\n",
        "                    \n",
        "        return dp[0][-1]"
      ]
    }
  ]
}