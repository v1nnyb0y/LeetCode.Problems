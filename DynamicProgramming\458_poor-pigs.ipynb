{
  "nbformat": 4,
  "nbformat_minor": 0,
  "metadata": {
    "colab": {
      "name": "458.ipynb",
      "provenance": [],
      "authorship_tag": "ABX9TyOSre7xwPpMXG+wvp4hYsIP",
      "include_colab_link": true
    },
    "kernelspec": {
      "name": "python3",
      "display_name": "Python 3"
    },
    "language_info": {
      "name": "python"
    }
  },
  "cells": [
    {
      "cell_type": "markdown",
      "metadata": {
        "id": "view-in-github",
        "colab_type": "text"
      },
      "source": [
        "<a href=\"https://colab.research.google.com/github/v1nnyb0y/leetcode/blob/master/DynamicProgramming%5C458_poor-pigs.ipynb\" target=\"_parent\"><img src=\"https://colab.research.google.com/assets/colab-badge.svg\" alt=\"Open In Colab\"/></a>"
      ]
    },
    {
      "cell_type": "code",
      "execution_count": null,
      "metadata": {
        "id": "ZU2pQcX1qs-r"
      },
      "outputs": [],
      "source": [
        "class Solution(object):\n",
        "    def poorPigs(self, buckets, minutesToDie, minutesToTest):\n",
        "        \"\"\"\n",
        "        :type buckets: int\n",
        "        :type minutesToDie: int\n",
        "        :type minutesToTest: int\n",
        "        :rtype: int\n",
        "        \"\"\"\n",
        "        test_rounds = minutesToTest//minutesToDie+1\n",
        "        if test_rounds == 1:\n",
        "            return 0  # unable to test\n",
        "        else:\n",
        "            return int(math.ceil(math.log(buckets, test_rounds)))"
      ]
    }
  ]
}