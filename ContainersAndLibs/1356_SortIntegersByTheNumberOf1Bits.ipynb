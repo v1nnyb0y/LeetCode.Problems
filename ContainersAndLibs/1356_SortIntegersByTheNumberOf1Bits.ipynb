{
  "nbformat": 4,
  "nbformat_minor": 0,
  "metadata": {
    "colab": {
      "name": "1356.ipynb",
      "provenance": [],
      "authorship_tag": "ABX9TyMj/SQQ9rZYW+vRFtpZ1PWU",
      "include_colab_link": true
    },
    "kernelspec": {
      "name": "python3",
      "display_name": "Python 3"
    },
    "language_info": {
      "name": "python"
    }
  },
  "cells": [
    {
      "cell_type": "markdown",
      "metadata": {
        "id": "view-in-github",
        "colab_type": "text"
      },
      "source": [
        "<a href=\"https://colab.research.google.com/github/v1nnyb0y/leetcode/blob/master/ContainersAndLibs/1356_SortIntegersByTheNumberOf1Bits.ipynb\" target=\"_parent\"><img src=\"https://colab.research.google.com/assets/colab-badge.svg\" alt=\"Open In Colab\"/></a>"
      ]
    },
    {
      "cell_type": "code",
      "execution_count": null,
      "metadata": {
        "id": "-A4w6Xjv9Ci3"
      },
      "outputs": [],
      "source": [
        "class Solution:\n",
        "    def sortByBits(self, arr: List[int]) -> List[int]:\n",
        "        arr.sort(key=lambda x: (sum([int(x) for x in list(bin(x)[2:]) if x == '1']),x))\n",
        "        return arr"
      ]
    }
  ]
}