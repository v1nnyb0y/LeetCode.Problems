{
  "nbformat": 4,
  "nbformat_minor": 0,
  "metadata": {
    "colab": {
      "name": "705.ipynb",
      "provenance": [],
      "authorship_tag": "ABX9TyOUd0kwtYPHV1aTfNfr/Jlt",
      "include_colab_link": true
    },
    "kernelspec": {
      "name": "python3",
      "display_name": "Python 3"
    },
    "language_info": {
      "name": "python"
    }
  },
  "cells": [
    {
      "cell_type": "markdown",
      "metadata": {
        "id": "view-in-github",
        "colab_type": "text"
      },
      "source": [
        "<a href=\"https://colab.research.google.com/github/v1nnyb0y/leetcode/blob/master/ClassAndObjects/705_DesignHashSet.ipynb\" target=\"_parent\"><img src=\"https://colab.research.google.com/assets/colab-badge.svg\" alt=\"Open In Colab\"/></a>"
      ]
    },
    {
      "cell_type": "code",
      "execution_count": null,
      "metadata": {
        "id": "VPOishk7fTwM"
      },
      "outputs": [],
      "source": [
        "class ListNode(object):\n",
        "    def __init__(self,key,next):\n",
        "        self.key = key\n",
        "        self.next = next\n",
        "\n",
        "class MyHashSet(object):\n",
        "\n",
        "    def __init__(self):\n",
        "        \"\"\"\n",
        "        Initialize your data structure here.\n",
        "        \"\"\"\n",
        "        self.size = 10000\n",
        "        self.buckets = [None]*self.size\n",
        "\n",
        "    def add(self, key):\n",
        "        \"\"\"\n",
        "        :type key: int\n",
        "        :rtype: None\n",
        "        \"\"\"\n",
        "        bucketCode = key % self.size\n",
        "        cur = self.buckets[bucketCode]\n",
        "        if not cur: \n",
        "            self.buckets[bucketCode] = ListNode(key, None)\n",
        "            return\n",
        "        if cur.key == key:\n",
        "            return \n",
        "        while cur:\n",
        "            if cur.key == key: \n",
        "                return\n",
        "            if not cur.next: \n",
        "                cur.next = ListNode(key,None)\n",
        "                return \n",
        "            if cur.next: \n",
        "                cur = cur.next\n",
        "        return \n",
        "\n",
        "    def remove(self, key):\n",
        "        \"\"\"\n",
        "        :type key: int\n",
        "        :rtype: None\n",
        "        \"\"\"\n",
        "        bucketCode = key % self.size\n",
        "        cur = self.buckets[bucketCode]\n",
        "        if not cur:\n",
        "            return \n",
        "        if cur.key == key:\n",
        "            self.buckets[bucketCode] = cur.next\n",
        "        while cur.next:\n",
        "            if cur.next.key == key:\n",
        "                cur.next = cur.next.next\n",
        "                return \n",
        "            cur = cur.next\n",
        "        return\n",
        "        \n",
        "\n",
        "    def contains(self, key):\n",
        "        \"\"\"\n",
        "        Returns true if this set contains the specified element\n",
        "        :type key: int\n",
        "        :rtype: bool\n",
        "        \"\"\"\n",
        "        bucketCode = key % self.size\n",
        "        cur = self.buckets[bucketCode]\n",
        "        while cur:\n",
        "            if cur.key == key:\n",
        "                return True\n",
        "            cur = cur.next\n",
        "        return False"
      ]
    }
  ]
}