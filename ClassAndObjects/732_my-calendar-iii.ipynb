{
  "nbformat": 4,
  "nbformat_minor": 0,
  "metadata": {
    "colab": {
      "provenance": [],
      "authorship_tag": "ABX9TyO6NcqUqS23UPo12Xo6L/PW",
      "include_colab_link": true
    },
    "kernelspec": {
      "name": "python3",
      "display_name": "Python 3"
    },
    "language_info": {
      "name": "python"
    }
  },
  "cells": [
    {
      "cell_type": "markdown",
      "metadata": {
        "id": "view-in-github",
        "colab_type": "text"
      },
      "source": [
        "<a href=\"https://colab.research.google.com/github/v1nnyb0y/leetcode/blob/master/ClassAndObjects/732_my-calendar-iii.ipynb\" target=\"_parent\"><img src=\"https://colab.research.google.com/assets/colab-badge.svg\" alt=\"Open In Colab\"/></a>"
      ]
    },
    {
      "cell_type": "code",
      "execution_count": null,
      "metadata": {
        "id": "3I3loDuW2H1_"
      },
      "outputs": [],
      "source": [
        "class MyCalendarThree(object):\n",
        "    def __init__(self):\n",
        "        self.pos = []\n",
        "        self.delta = {}\n",
        "        self.max = 0\n",
        "\n",
        "    def book(self, start, end):\n",
        "        i = bisect.bisect_left(self.pos, start)\n",
        "        if start not in self.delta:\n",
        "            self.delta[start] = self.delta[self.pos[i-1]] if i else 0\n",
        "            self.pos[i:i] = [start]\n",
        "\n",
        "        j = bisect.bisect_left(self.pos, end)\n",
        "        if end not in self.delta:\n",
        "            self.delta[end] = self.delta[self.pos[j-1]]\n",
        "            self.pos[j:j] = [end]\n",
        "        for k in range(i, j):\n",
        "            self.delta[self.pos[k]] = c = self.delta[self.pos[k]] + 1\n",
        "            self.max = max(self.max, c)\n",
        "        return self.max"
      ]
    }
  ]
}