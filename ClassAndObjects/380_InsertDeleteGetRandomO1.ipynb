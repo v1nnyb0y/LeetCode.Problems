{
  "nbformat": 4,
  "nbformat_minor": 0,
  "metadata": {
    "colab": {
      "name": "380.ipynb",
      "provenance": [],
      "authorship_tag": "ABX9TyOVY5onAGOmYgPePzfnqdz6",
      "include_colab_link": true
    },
    "kernelspec": {
      "name": "python3",
      "display_name": "Python 3"
    },
    "language_info": {
      "name": "python"
    }
  },
  "cells": [
    {
      "cell_type": "markdown",
      "metadata": {
        "id": "view-in-github",
        "colab_type": "text"
      },
      "source": [
        "<a href=\"https://colab.research.google.com/github/v1nnyb0y/leetcode/blob/master/ClassAndObjects/380_InsertDeleteGetRandomO1.ipynb\" target=\"_parent\"><img src=\"https://colab.research.google.com/assets/colab-badge.svg\" alt=\"Open In Colab\"/></a>"
      ]
    },
    {
      "cell_type": "code",
      "execution_count": null,
      "metadata": {
        "id": "w1UrZ-9rmkdz"
      },
      "outputs": [],
      "source": [
        "import random\n",
        "\n",
        "class RandomizedSet(object):\n",
        "\n",
        "    def __init__(self):\n",
        "        self.nums, self.pos = [], {}\n",
        "        \n",
        "    def insert(self, val):\n",
        "        if val not in self.pos:\n",
        "            self.nums.append(val)\n",
        "            self.pos[val] = len(self.nums) - 1\n",
        "            return True\n",
        "        return False\n",
        "        \n",
        "\n",
        "    def remove(self, val):\n",
        "        if val in self.pos:\n",
        "            idx, last = self.pos[val], self.nums[-1]\n",
        "            self.nums[idx], self.pos[last] = last, idx\n",
        "            self.nums.pop(); self.pos.pop(val, 0)\n",
        "            return True\n",
        "        return False\n",
        "            \n",
        "    def getRandom(self):\n",
        "        return self.nums[random.randint(0, len(self.nums) - 1)]"
      ]
    }
  ]
}