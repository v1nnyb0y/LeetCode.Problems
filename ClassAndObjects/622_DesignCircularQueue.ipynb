{
  "nbformat": 4,
  "nbformat_minor": 0,
  "metadata": {
    "colab": {
      "name": "622.ipynb",
      "provenance": [],
      "authorship_tag": "ABX9TyO7LrXpF2VfRXifwegbs9xQ",
      "include_colab_link": true
    },
    "kernelspec": {
      "name": "python3",
      "display_name": "Python 3"
    },
    "language_info": {
      "name": "python"
    }
  },
  "cells": [
    {
      "cell_type": "markdown",
      "metadata": {
        "id": "view-in-github",
        "colab_type": "text"
      },
      "source": [
        "<a href=\"https://colab.research.google.com/github/v1nnyb0y/leetcode/blob/master/ClassAndObjects/622_DesignCircularQueue.ipynb\" target=\"_parent\"><img src=\"https://colab.research.google.com/assets/colab-badge.svg\" alt=\"Open In Colab\"/></a>"
      ]
    },
    {
      "cell_type": "code",
      "execution_count": null,
      "metadata": {
        "id": "4jLd9xUxIJHH"
      },
      "outputs": [],
      "source": [
        "class MyCircularQueue(object):\n",
        "\n",
        "    def __init__(self, k):\n",
        "        \"\"\"\n",
        "        Initialize your data structure here. Set the size of the queue to be k.\n",
        "        :type k: int\n",
        "        \"\"\"\n",
        "        self.storage = k*[0]\n",
        "        self.k = k\n",
        "        self.rd = 0\n",
        "        self.wr = 0\n",
        "        self.wa = False\n",
        "        # Set this \"wrap around\" flag when write pointer wraps around\n",
        "        # clear it when read pointer wraps around\n",
        "        \n",
        "\n",
        "    def enQueue(self, value):\n",
        "        \"\"\"\n",
        "        Insert an element into the circular queue. Return true if the operation is successful.\n",
        "        :type value: int\n",
        "        :rtype: bool\n",
        "        \"\"\"\n",
        "        if not self.isFull():\n",
        "            self.storage[self.wr] = value\n",
        "            self.wr += 1\n",
        "            if self.wr == self.k:\n",
        "                self.wa = True\n",
        "                self.wr %= self.k\n",
        "            return True\n",
        "        else:\n",
        "            return False\n",
        "\n",
        "    def deQueue(self):\n",
        "        \"\"\"\n",
        "        Delete an element from the circular queue. Return true if the operation is successful.\n",
        "        :rtype: bool\n",
        "        \"\"\"\n",
        "        if not self.isEmpty():\n",
        "            self.rd += 1\n",
        "            if self.rd == self.k:\n",
        "                self.wa = False\n",
        "                self.rd %= self.k\n",
        "            return True\n",
        "        else:\n",
        "            return False\n",
        "\n",
        "    def Front(self):\n",
        "        \"\"\"\n",
        "        Get the front item from the queue.\n",
        "        :rtype: int\n",
        "        \"\"\"\n",
        "        if not self.isEmpty():\n",
        "            return self.storage[self.rd]\n",
        "        else:\n",
        "            return -1\n",
        "\n",
        "    def Rear(self):\n",
        "        \"\"\"\n",
        "        Get the last item from the queue.\n",
        "        :rtype: int\n",
        "        \"\"\"\n",
        "        if not self.isEmpty():\n",
        "            tail = self.wr - 1\n",
        "            if tail < 0:\n",
        "                tail = self.k-1\n",
        "            return self.storage[tail]\n",
        "        else:\n",
        "            return -1\n",
        "\n",
        "    def isEmpty(self):\n",
        "        \"\"\"\n",
        "        Checks whether the circular queue is empty or not.\n",
        "        :rtype: bool\n",
        "        \"\"\"\n",
        "        return self.rd == self.wr and not self.wa\n",
        "\n",
        "    def isFull(self):\n",
        "        \"\"\"\n",
        "        Checks whether the circular queue is full or not.\n",
        "        :rtype: bool\n",
        "        \"\"\"\n",
        "        return self.rd == self.wr and self.wa"
      ]
    }
  ]
}