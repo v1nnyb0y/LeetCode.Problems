{
  "nbformat": 4,
  "nbformat_minor": 0,
  "metadata": {
    "colab": {
      "name": "384.ipynb",
      "provenance": [],
      "authorship_tag": "ABX9TyMpatPD5I8ZXk0PR5zbRTxO",
      "include_colab_link": true
    },
    "kernelspec": {
      "name": "python3",
      "display_name": "Python 3"
    },
    "language_info": {
      "name": "python"
    }
  },
  "cells": [
    {
      "cell_type": "markdown",
      "metadata": {
        "id": "view-in-github",
        "colab_type": "text"
      },
      "source": [
        "<a href=\"https://colab.research.google.com/github/v1nnyb0y/leetcode/blob/master/ClassAndObjects/384_ShuffleAnArray.ipynb\" target=\"_parent\"><img src=\"https://colab.research.google.com/assets/colab-badge.svg\" alt=\"Open In Colab\"/></a>"
      ]
    },
    {
      "cell_type": "code",
      "execution_count": null,
      "metadata": {
        "id": "YK16dJ3Q99u2"
      },
      "outputs": [],
      "source": [
        "class Solution(object):\n",
        "\n",
        "    def __init__(self, nums):\n",
        "        \"\"\"\n",
        "        :type nums: List[int]\n",
        "        \"\"\"\n",
        "        self.original = nums\n",
        "        self.now = list(nums)\n",
        "        self.n = len(nums)\n",
        "        \n",
        "\n",
        "    def reset(self):\n",
        "        \"\"\"\n",
        "        Resets the array to its original configuration and return it.\n",
        "        :rtype: List[int]\n",
        "        \"\"\"\n",
        "        self.now = list(self.original)\n",
        "        return self.now\n",
        "        \n",
        "\n",
        "    def shuffle(self):\n",
        "        \"\"\"\n",
        "        Returns a random shuffling of the array.\n",
        "        :rtype: List[int]\n",
        "        \"\"\"\n",
        "        for i in range(self.n):\n",
        "            idx = random.randint(i,self.n-1)\n",
        "            self.now[i], self.now[idx] = self.now[idx], self.now[i]\n",
        "        return self.now"
      ]
    }
  ]
}