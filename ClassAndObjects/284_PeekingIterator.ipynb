{
  "nbformat": 4,
  "nbformat_minor": 0,
  "metadata": {
    "colab": {
      "name": "284.ipynb",
      "provenance": [],
      "authorship_tag": "ABX9TyPO/fTDxmsAj5/fbjDQhyRs",
      "include_colab_link": true
    },
    "kernelspec": {
      "name": "python3",
      "display_name": "Python 3"
    },
    "language_info": {
      "name": "python"
    }
  },
  "cells": [
    {
      "cell_type": "markdown",
      "metadata": {
        "id": "view-in-github",
        "colab_type": "text"
      },
      "source": [
        "<a href=\"https://colab.research.google.com/github/v1nnyb0y/leetcode/blob/master/ClassAndObjects/284_PeekingIterator.ipynb\" target=\"_parent\"><img src=\"https://colab.research.google.com/assets/colab-badge.svg\" alt=\"Open In Colab\"/></a>"
      ]
    },
    {
      "cell_type": "code",
      "execution_count": null,
      "metadata": {
        "id": "XRqc02gI2YUI"
      },
      "outputs": [],
      "source": [
        "# Below is the interface for Iterator, which is already defined for you.\n",
        "#\n",
        "# class Iterator:\n",
        "#     def __init__(self, nums):\n",
        "#         \"\"\"\n",
        "#         Initializes an iterator object to the beginning of a list.\n",
        "#         :type nums: List[int]\n",
        "#         \"\"\"\n",
        "#\n",
        "#     def hasNext(self):\n",
        "#         \"\"\"\n",
        "#         Returns true if the iteration has more elements.\n",
        "#         :rtype: bool\n",
        "#         \"\"\"\n",
        "#\n",
        "#     def next(self):\n",
        "#         \"\"\"\n",
        "#         Returns the next element in the iteration.\n",
        "#         :rtype: int\n",
        "#         \"\"\"\n",
        "\n",
        "class PeekingIterator:\n",
        "    def __init__(self, iterator):\n",
        "        \"\"\"\n",
        "        Initialize your data structure here.\n",
        "        :type iterator: Iterator\n",
        "        \"\"\"\n",
        "        self.iterator = iterator\n",
        "        self.curr = iterator.next() if iterator.hasNext() else None\n",
        "        \n",
        "\n",
        "    def peek(self):\n",
        "        \"\"\"\n",
        "        Returns the next element in the iteration without advancing the iterator.\n",
        "        :rtype: int\n",
        "        \"\"\"\n",
        "        return self.curr\n",
        "        \n",
        "\n",
        "    def next(self):\n",
        "        \"\"\"\n",
        "        :rtype: int\n",
        "        \"\"\"\n",
        "        curr = self.curr\n",
        "        self.curr = self.iterator.next() if self.iterator.hasNext() else None\n",
        "        return curr\n",
        "        \n",
        "\n",
        "    def hasNext(self):\n",
        "        \"\"\"\n",
        "        :rtype: bool\n",
        "        \"\"\"\n",
        "        return self.curr is not None\n",
        "\n",
        "        \n",
        "\n",
        "# Your PeekingIterator object will be instantiated and called as such:\n",
        "# iter = PeekingIterator(Iterator(nums))\n",
        "# while iter.hasNext():\n",
        "#     val = iter.peek()   # Get the next element but not advance the iterator.\n",
        "#     iter.next()         # Should return the same value as [val]."
      ]
    }
  ]
}