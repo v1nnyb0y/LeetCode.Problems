{
  "nbformat": 4,
  "nbformat_minor": 0,
  "metadata": {
    "colab": {
      "name": "1396.ipynb",
      "provenance": [],
      "authorship_tag": "ABX9TyME6OFN11oFKqcrCO4J8Ov7",
      "include_colab_link": true
    },
    "kernelspec": {
      "name": "python3",
      "display_name": "Python 3"
    },
    "language_info": {
      "name": "python"
    }
  },
  "cells": [
    {
      "cell_type": "markdown",
      "metadata": {
        "id": "view-in-github",
        "colab_type": "text"
      },
      "source": [
        "<a href=\"https://colab.research.google.com/github/v1nnyb0y/leetcode/blob/master/ClassAndObjects/1396_DesignUndergroundSystem.ipynb\" target=\"_parent\"><img src=\"https://colab.research.google.com/assets/colab-badge.svg\" alt=\"Open In Colab\"/></a>"
      ]
    },
    {
      "cell_type": "code",
      "execution_count": null,
      "metadata": {
        "id": "Rn2zKGRY6_OB"
      },
      "outputs": [],
      "source": [
        "class UndergroundSystem:\n",
        "\n",
        "    def __init__(self):\n",
        "        self.tripTimes = {}\n",
        "        self.checkedInCustomers = {}\n",
        "        \n",
        "    def checkIn(self, id: int, stationName: str, t: int) -> None:\n",
        "        self.checkedInCustomers[id] = (stationName, t)\n",
        "\n",
        "    def checkOut(self, id: int, stationName: str, t: int) -> None:\n",
        "        startStation, startTime = self.checkedInCustomers[id]\n",
        "        del self.checkedInCustomers[id]\n",
        "        tripTime = t - startTime\n",
        "        \n",
        "        if (startStation, stationName) not in self.tripTimes:\n",
        "            self.tripTimes[(startStation, stationName)] = [tripTime, 1]\n",
        "        else:\n",
        "            self.tripTimes[(startStation, stationName)][0] += tripTime\n",
        "            self.tripTimes[(startStation, stationName)][1] += 1\n",
        "\n",
        "    def getAverageTime(self, startStation: str, endStation: str) -> float:\n",
        "        sumOfTimes, numberOfTrips = self.tripTimes[(startStation, endStation)]\n",
        "        \n",
        "        return sumOfTimes / numberOfTrips"
      ]
    }
  ]
}