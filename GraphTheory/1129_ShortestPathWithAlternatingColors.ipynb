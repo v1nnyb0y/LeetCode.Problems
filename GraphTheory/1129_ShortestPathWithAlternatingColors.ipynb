{
  "nbformat": 4,
  "nbformat_minor": 0,
  "metadata": {
    "colab": {
      "name": "1129.ipynb",
      "provenance": [],
      "authorship_tag": "ABX9TyMlNo2C4UcUdSPpyMcojL1V",
      "include_colab_link": true
    },
    "kernelspec": {
      "name": "python3",
      "display_name": "Python 3"
    },
    "language_info": {
      "name": "python"
    }
  },
  "cells": [
    {
      "cell_type": "markdown",
      "metadata": {
        "id": "view-in-github",
        "colab_type": "text"
      },
      "source": [
        "<a href=\"https://colab.research.google.com/github/v1nnyb0y/leetcode/blob/master/GraphTheory/1129_ShortestPathWithAlternatingColors.ipynb\" target=\"_parent\"><img src=\"https://colab.research.google.com/assets/colab-badge.svg\" alt=\"Open In Colab\"/></a>"
      ]
    },
    {
      "cell_type": "code",
      "execution_count": null,
      "metadata": {
        "id": "Dd9NUd6nFf9x"
      },
      "outputs": [],
      "source": [
        "class Solution:\n",
        "    def shortestAlternatingPaths(self, n: int, red_edges: List[List[int]], blue_edges: List[List[int]]) -> List[int]:\n",
        "        G = [[[], []] for i in range(n)]\n",
        "        for i, j in red_edges: G[i][0].append(j)\n",
        "        for i, j in blue_edges: G[i][1].append(j)\n",
        "        res = [[0, 0]] + [[n * 2, n * 2] for i in range(n - 1)]\n",
        "        bfs = [[0, 0], [0, 1]]\n",
        "        for i, c in bfs:\n",
        "            for j in G[i][c]:\n",
        "                if res[j][c] == n * 2:\n",
        "                    res[j][c] = res[i][1 - c] + 1\n",
        "                    bfs.append([j, 1 - c])\n",
        "        return [x if x < n * 2 else -1 for x in map(min, res)]"
      ]
    }
  ]
}