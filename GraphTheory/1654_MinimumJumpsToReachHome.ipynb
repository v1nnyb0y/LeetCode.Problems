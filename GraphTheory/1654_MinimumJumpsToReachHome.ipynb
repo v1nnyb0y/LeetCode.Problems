{
  "nbformat": 4,
  "nbformat_minor": 0,
  "metadata": {
    "colab": {
      "name": "1654.ipynb",
      "provenance": [],
      "authorship_tag": "ABX9TyPFunFPYA8NzVHLrXh/Di26",
      "include_colab_link": true
    },
    "kernelspec": {
      "name": "python3",
      "display_name": "Python 3"
    },
    "language_info": {
      "name": "python"
    }
  },
  "cells": [
    {
      "cell_type": "markdown",
      "metadata": {
        "id": "view-in-github",
        "colab_type": "text"
      },
      "source": [
        "<a href=\"https://colab.research.google.com/github/v1nnyb0y/leetcode/blob/master/GraphTheory/1654_MinimumJumpsToReachHome.ipynb\" target=\"_parent\"><img src=\"https://colab.research.google.com/assets/colab-badge.svg\" alt=\"Open In Colab\"/></a>"
      ]
    },
    {
      "cell_type": "code",
      "execution_count": null,
      "metadata": {
        "id": "X0c8X2FXHb2d"
      },
      "outputs": [],
      "source": [
        "class Solution:\n",
        "    def minimumJumps(self, forbidden: List[int], a: int, b: int, x: int) -> int:\n",
        "        forbidden = set(forbidden)\n",
        "        # each node in the queue is (position, jumped backward last time, number of steps)\n",
        "        queue = collections.deque([(0, False, 0)])\n",
        "        # Notice it is important to keep the False in seen not just the position\n",
        "        seen = set([0, False])\n",
        "        upper_bound = 6000\n",
        "        def valid_position(pos, back):\n",
        "            return 0 <= pos <= upper_bound and (pos, back) not in seen and pos not in forbidden\n",
        "        \n",
        "        while queue:\n",
        "            for _ in range(len(queue)):\n",
        "                pos, back, steps = queue.pop()\n",
        "                if pos == x:\n",
        "                    return steps\n",
        "                if valid_position(pos + a, False):\n",
        "                    seen.add((pos+a, back))\n",
        "                    queue.appendleft((pos+a, False, steps+1))\n",
        "                if not back and valid_position(pos-b, True):\n",
        "                    seen.add((pos-b, True))\n",
        "                    queue.appendleft((pos-b, True, steps+1))\n",
        "        return -1 \n",
        "        "
      ]
    }
  ]
}