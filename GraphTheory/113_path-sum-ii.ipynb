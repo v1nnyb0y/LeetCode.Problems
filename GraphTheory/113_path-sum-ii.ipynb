{
  "nbformat": 4,
  "nbformat_minor": 0,
  "metadata": {
    "colab": {
      "provenance": [],
      "authorship_tag": "ABX9TyPJdm4keBc78BqjrZ7tH8MT",
      "include_colab_link": true
    },
    "kernelspec": {
      "name": "python3",
      "display_name": "Python 3"
    },
    "language_info": {
      "name": "python"
    }
  },
  "cells": [
    {
      "cell_type": "markdown",
      "metadata": {
        "id": "view-in-github",
        "colab_type": "text"
      },
      "source": [
        "<a href=\"https://colab.research.google.com/github/v1nnyb0y/leetcode/blob/master/GraphTheory/113_path-sum-ii.ipynb\" target=\"_parent\"><img src=\"https://colab.research.google.com/assets/colab-badge.svg\" alt=\"Open In Colab\"/></a>"
      ]
    },
    {
      "cell_type": "code",
      "execution_count": null,
      "metadata": {
        "id": "nVdPo2Fztib2"
      },
      "outputs": [],
      "source": [
        "class Solution(object):\n",
        "    def pathSum(self, root, sum):\n",
        "        \"\"\"\n",
        "        :type root: TreeNode\n",
        "        :type sum: int\n",
        "        :rtype: List[List[int]]\n",
        "        \"\"\"\n",
        "        result = []\n",
        "        if root:\n",
        "            self.helper(root, [], result, sum)\n",
        "        return result\n",
        "    \n",
        "    def helper(self, root, so_far, result, sum):\n",
        "        if root.left is None and root.right is None and root.val == sum:\n",
        "            so_far.append(root.val)\n",
        "            result.append([x for x in so_far])\n",
        "            so_far.pop()\n",
        "        else:\n",
        "            so_far.append(root.val)\n",
        "            if root.left:\n",
        "                self.helper(root.left, so_far, result, sum-root.val)\n",
        "            if root.right:\n",
        "                self.helper(root.right, so_far, result, sum-root.val)\n",
        "            so_far.pop()\n",
        "        return"
      ]
    }
  ]
}