{
  "nbformat": 4,
  "nbformat_minor": 0,
  "metadata": {
    "colab": {
      "name": "1162.ipynb",
      "provenance": [],
      "authorship_tag": "ABX9TyOz6lzZ/OUgbPNlS5LqLcc/",
      "include_colab_link": true
    },
    "kernelspec": {
      "name": "python3",
      "display_name": "Python 3"
    },
    "language_info": {
      "name": "python"
    }
  },
  "cells": [
    {
      "cell_type": "markdown",
      "metadata": {
        "id": "view-in-github",
        "colab_type": "text"
      },
      "source": [
        "<a href=\"https://colab.research.google.com/github/v1nnyb0y/leetcode/blob/master/GraphTheory/1162_AsFarFromLandAsPossible.ipynb\" target=\"_parent\"><img src=\"https://colab.research.google.com/assets/colab-badge.svg\" alt=\"Open In Colab\"/></a>"
      ]
    },
    {
      "cell_type": "code",
      "execution_count": null,
      "metadata": {
        "id": "E31xTeOkwb2j"
      },
      "outputs": [],
      "source": [
        "class Solution:\n",
        "    def maxDistance(self, grid: List[List[int]]) -> int:\n",
        "        m,n = len(grid), len(grid[0])\n",
        "        q = deque([(i,j) for i in range(m) for j in range(n) if grid[i][j] == 1])    \n",
        "        if len(q) == m * n or len(q) == 0: return -1\n",
        "        level = 0\n",
        "        while q:\n",
        "            size = len(q)\n",
        "            for _ in range(size):\n",
        "                i,j = q.popleft()\n",
        "                for x,y in [(1,0), (-1, 0), (0, 1), (0, -1)]:\n",
        "                    xi, yj = x+i, y+j\n",
        "                    if 0 <= xi < m and 0 <= yj < n and grid[xi][yj] == 0:\n",
        "                        q.append((xi, yj))\n",
        "                        grid[xi][yj] = 1\n",
        "            level += 1\n",
        "        return level-1"
      ]
    }
  ]
}