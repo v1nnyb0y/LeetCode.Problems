{
  "nbformat": 4,
  "nbformat_minor": 0,
  "metadata": {
    "colab": {
      "name": "1376.ipynb",
      "provenance": [],
      "authorship_tag": "ABX9TyO/jEjthJn3gBudv7yRPLtb",
      "include_colab_link": true
    },
    "kernelspec": {
      "name": "python3",
      "display_name": "Python 3"
    },
    "language_info": {
      "name": "python"
    }
  },
  "cells": [
    {
      "cell_type": "markdown",
      "metadata": {
        "id": "view-in-github",
        "colab_type": "text"
      },
      "source": [
        "<a href=\"https://colab.research.google.com/github/v1nnyb0y/leetcode/blob/master/GraphTheory/1376_TimeNeededToInformAllEmployees.ipynb\" target=\"_parent\"><img src=\"https://colab.research.google.com/assets/colab-badge.svg\" alt=\"Open In Colab\"/></a>"
      ]
    },
    {
      "cell_type": "code",
      "execution_count": null,
      "metadata": {
        "id": "PCFnesKNmHwr"
      },
      "outputs": [],
      "source": [
        "class Solution:\n",
        "    def numOfMinutes(self, n: int, headID: int, manager: List[int], informTime: List[int]) -> int:\n",
        "        children = [[] for i in range(n)]\n",
        "        for i, m in enumerate(manager):\n",
        "            if m >= 0: children[m].append(i)\n",
        "\n",
        "        def dfs(i):\n",
        "            return max([dfs(j) for j in children[i]] or [0]) + informTime[i]\n",
        "        return dfs(headID)"
      ]
    }
  ]
}