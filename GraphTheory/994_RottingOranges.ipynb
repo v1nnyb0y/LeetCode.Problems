{
  "nbformat": 4,
  "nbformat_minor": 0,
  "metadata": {
    "colab": {
      "name": "994.ipynb",
      "provenance": [],
      "authorship_tag": "ABX9TyP7iwiWMiLtytg/qzdDyDTV",
      "include_colab_link": true
    },
    "kernelspec": {
      "name": "python3",
      "display_name": "Python 3"
    },
    "language_info": {
      "name": "python"
    }
  },
  "cells": [
    {
      "cell_type": "markdown",
      "metadata": {
        "id": "view-in-github",
        "colab_type": "text"
      },
      "source": [
        "<a href=\"https://colab.research.google.com/github/v1nnyb0y/leetcode/blob/master/GraphTheory/994_RottingOranges.ipynb\" target=\"_parent\"><img src=\"https://colab.research.google.com/assets/colab-badge.svg\" alt=\"Open In Colab\"/></a>"
      ]
    },
    {
      "cell_type": "code",
      "execution_count": null,
      "metadata": {
        "id": "mBK1CHuI3PF6"
      },
      "outputs": [],
      "source": [
        "class Solution:\n",
        "    def orangesRotting(self, grid: List[List[int]]) -> int:\n",
        "        n = len(grid)\n",
        "        m = len(grid[0])\n",
        "        count = 0\n",
        "        q = collections.deque()\n",
        "        for i in range(n):\n",
        "            for j in range(m):\n",
        "                if grid[i][j] == 1:\n",
        "                    count += 1\n",
        "                elif grid[i][j] == 2:\n",
        "                    q.append((i,j,0))\n",
        "        seen = set()\n",
        "        while q:\n",
        "            y, x, d = q.popleft()\n",
        "            dirs = {(y-1,x),(y+1,x),(y,x+1),(y,x-1)}\n",
        "            for y1,x1 in dirs:\n",
        "                if 0 <= y1 < n and 0 <= x1 < m and (y1, x1) not in seen and grid[y1][x1] == 1:\n",
        "                    seen.add((y1,x1))\n",
        "                    count -= 1\n",
        "                    if count == 0:\n",
        "                        return d+1\n",
        "                    q.append((y1, x1, d+1))\n",
        "        return 0 if count == 0 else -1"
      ]
    }
  ]
}