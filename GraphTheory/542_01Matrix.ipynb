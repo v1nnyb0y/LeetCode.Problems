{
  "nbformat": 4,
  "nbformat_minor": 0,
  "metadata": {
    "colab": {
      "name": "542.ipynb",
      "provenance": [],
      "authorship_tag": "ABX9TyN99pHC4CHzdh4mfPsv+DAE",
      "include_colab_link": true
    },
    "kernelspec": {
      "name": "python3",
      "display_name": "Python 3"
    },
    "language_info": {
      "name": "python"
    }
  },
  "cells": [
    {
      "cell_type": "markdown",
      "metadata": {
        "id": "view-in-github",
        "colab_type": "text"
      },
      "source": [
        "<a href=\"https://colab.research.google.com/github/v1nnyb0y/leetcode/blob/master/GraphTheory/542_01Matrix.ipynb\" target=\"_parent\"><img src=\"https://colab.research.google.com/assets/colab-badge.svg\" alt=\"Open In Colab\"/></a>"
      ]
    },
    {
      "cell_type": "code",
      "execution_count": null,
      "metadata": {
        "id": "PTINIrY0uqdn"
      },
      "outputs": [],
      "source": [
        "# grow distances from zero cells\n",
        "from collections import deque\n",
        "\n",
        "class Solution:\n",
        "    def updateMatrix(self, matrix: List[List[int]]) -> List[List[int]]:\n",
        "        h, w = len(matrix), len(matrix[0])\n",
        "        q = deque()\n",
        "        for i in range(h):\n",
        "            for j in range(w):\n",
        "                if matrix[i][j] == 0:\n",
        "                    q += [(i, j)]\n",
        "                else:\n",
        "                    matrix[i][j] = -1\n",
        "        while q:\n",
        "            i, j = q.pop()\n",
        "            for ai, aj in [(i-1, j), (i+1, j), (i, j-1), (i, j+1)]:\n",
        "                if 0 <= ai < h and 0 <= aj < w and matrix[ai][aj] < 0:\n",
        "                    matrix[ai][aj] = matrix[i][j] + 1\n",
        "                    q.appendleft((ai, aj))\n",
        "        \n",
        "        return matrix"
      ]
    }
  ]
}