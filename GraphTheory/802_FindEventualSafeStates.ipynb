{
  "nbformat": 4,
  "nbformat_minor": 0,
  "metadata": {
    "colab": {
      "name": "802.ipynb",
      "provenance": [],
      "authorship_tag": "ABX9TyNJ05xNKwXXc5tx/IkNMDWk",
      "include_colab_link": true
    },
    "kernelspec": {
      "name": "python3",
      "display_name": "Python 3"
    },
    "language_info": {
      "name": "python"
    }
  },
  "cells": [
    {
      "cell_type": "markdown",
      "metadata": {
        "id": "view-in-github",
        "colab_type": "text"
      },
      "source": [
        "<a href=\"https://colab.research.google.com/github/v1nnyb0y/leetcode/blob/master/GraphTheory/802_FindEventualSafeStates.ipynb\" target=\"_parent\"><img src=\"https://colab.research.google.com/assets/colab-badge.svg\" alt=\"Open In Colab\"/></a>"
      ]
    },
    {
      "cell_type": "code",
      "execution_count": null,
      "metadata": {
        "id": "kdfi6yvEhV7E"
      },
      "outputs": [],
      "source": [
        "class Solution:\n",
        "    def eventualSafeNodes(self, graph: List[List[int]]) -> List[int]:\n",
        "        check = collections.Counter()\n",
        "        def dfs(node):\n",
        "            if check[node]: return check[node] == 2\n",
        "            check[node] = 1\n",
        "            for nei in graph[node]:\n",
        "                if check[nei] == 1 or (not check[nei] and not dfs(nei)): return False\n",
        "            check[node] = 2\n",
        "            return True\n",
        "        return list(filter(dfs, range(len(graph))))"
      ]
    }
  ]
}