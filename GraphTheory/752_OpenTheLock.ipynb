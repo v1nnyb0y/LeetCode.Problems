{
  "nbformat": 4,
  "nbformat_minor": 0,
  "metadata": {
    "colab": {
      "name": "752.ipynb",
      "provenance": [],
      "authorship_tag": "ABX9TyPMO4w/z6aE/QYFTxkHHx5+",
      "include_colab_link": true
    },
    "kernelspec": {
      "name": "python3",
      "display_name": "Python 3"
    },
    "language_info": {
      "name": "python"
    }
  },
  "cells": [
    {
      "cell_type": "markdown",
      "metadata": {
        "id": "view-in-github",
        "colab_type": "text"
      },
      "source": [
        "<a href=\"https://colab.research.google.com/github/v1nnyb0y/leetcode/blob/master/GraphTheory/752_OpenTheLock.ipynb\" target=\"_parent\"><img src=\"https://colab.research.google.com/assets/colab-badge.svg\" alt=\"Open In Colab\"/></a>"
      ]
    },
    {
      "cell_type": "code",
      "execution_count": null,
      "metadata": {
        "id": "ZaMxCMiwIsad"
      },
      "outputs": [],
      "source": [
        "class Solution:\n",
        "    def openLock(self, deadends: List[str], target: str) -> int:\n",
        "        def tup(s):\n",
        "            return tuple(map(int,s))\n",
        "        \n",
        "        initial=tup(\"0000\")\n",
        "        target=tup(target)\n",
        "        deadends=set(map(tup,deadends))\n",
        "        front,newfront=[initial],[]\n",
        "        seen={initial}\n",
        "        steps=0\n",
        "        \n",
        "        while front:\n",
        "            while front:\n",
        "                s = front.pop()\n",
        "                if s in deadends: continue\n",
        "                elif s == target: return steps\n",
        "                for i in range(4):\n",
        "                    for d in (-1,1):\n",
        "                        old = s[i]\n",
        "                        si = (10+old+d)%10\n",
        "                        ss = tuple(s[:i]+(si,)+s[i+1:])\n",
        "                        if ss not in seen:\n",
        "                            newfront.append(ss)\n",
        "                            seen.add(ss)\n",
        "            newfront,front=front,newfront\n",
        "            steps+=1\n",
        "        return -1"
      ]
    }
  ]
}