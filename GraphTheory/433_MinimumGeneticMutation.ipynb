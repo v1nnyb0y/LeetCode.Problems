{
  "nbformat": 4,
  "nbformat_minor": 0,
  "metadata": {
    "colab": {
      "name": "433.ipynb",
      "provenance": [],
      "authorship_tag": "ABX9TyPoSqPW4+eUupByF1Lu4pvu",
      "include_colab_link": true
    },
    "kernelspec": {
      "name": "python3",
      "display_name": "Python 3"
    },
    "language_info": {
      "name": "python"
    }
  },
  "cells": [
    {
      "cell_type": "markdown",
      "metadata": {
        "id": "view-in-github",
        "colab_type": "text"
      },
      "source": [
        "<a href=\"https://colab.research.google.com/github/v1nnyb0y/leetcode/blob/master/GraphTheory/433_MinimumGeneticMutation.ipynb\" target=\"_parent\"><img src=\"https://colab.research.google.com/assets/colab-badge.svg\" alt=\"Open In Colab\"/></a>"
      ]
    },
    {
      "cell_type": "code",
      "execution_count": null,
      "metadata": {
        "id": "zQVRXn2-INsA"
      },
      "outputs": [],
      "source": [
        "class Solution:\n",
        "    def minMutation(self, start: str, end: str, bank: List[str]) -> int:\n",
        "        bank = set(bank)\n",
        "    \n",
        "        if end not in bank:\n",
        "            return -1\n",
        "\n",
        "        q = deque()\n",
        "        q.append((start, 0))\n",
        "        seen = set()\n",
        "        seen.add(start)\n",
        "\n",
        "        chars = ['A', 'C', 'G', 'T']\n",
        "\n",
        "        while q:\n",
        "            gene, nmutations = q.popleft()\n",
        "            if gene == end:\n",
        "                return nmutations\n",
        "\n",
        "            for i in range(8):\n",
        "                for c in chars:\n",
        "                    g = list(gene)\n",
        "                    g[i] = c\n",
        "                    g = ''.join(g)\n",
        "                    if g in bank and g not in seen:\n",
        "                        seen.add(g)\n",
        "                        q.append((g, nmutations+1))\n",
        "\n",
        "        return -1"
      ]
    }
  ]
}