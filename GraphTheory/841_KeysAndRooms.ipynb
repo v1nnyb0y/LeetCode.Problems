{
  "nbformat": 4,
  "nbformat_minor": 0,
  "metadata": {
    "colab": {
      "name": "841.ipynb",
      "provenance": [],
      "authorship_tag": "ABX9TyM5wW1rq+ozVGLYVCPoDp0O",
      "include_colab_link": true
    },
    "kernelspec": {
      "name": "python3",
      "display_name": "Python 3"
    },
    "language_info": {
      "name": "python"
    }
  },
  "cells": [
    {
      "cell_type": "markdown",
      "metadata": {
        "id": "view-in-github",
        "colab_type": "text"
      },
      "source": [
        "<a href=\"https://colab.research.google.com/github/v1nnyb0y/leetcode/blob/master/GraphTheory/841_KeysAndRooms.ipynb\" target=\"_parent\"><img src=\"https://colab.research.google.com/assets/colab-badge.svg\" alt=\"Open In Colab\"/></a>"
      ]
    },
    {
      "cell_type": "code",
      "execution_count": null,
      "metadata": {
        "id": "OwOPkxC9NzAL"
      },
      "outputs": [],
      "source": [
        "class Solution:\n",
        "    def canVisitAllRooms(self, rooms: List[List[int]]) -> bool:\n",
        "        def dfs(grid, i, v):\n",
        "            v[i] = True\n",
        "            \n",
        "            for j in grid[i]:\n",
        "                if not v[j]:\n",
        "                    dfs(grid, j, v)\n",
        "            \n",
        "        \n",
        "        visited = [False] * len(rooms)\n",
        "        dfs(rooms, 0, visited)\n",
        "        \n",
        "        for i in visited:\n",
        "            if not i:\n",
        "                return False\n",
        "    \n",
        "        return True"
      ]
    }
  ]
}