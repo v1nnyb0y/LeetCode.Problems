{
  "nbformat": 4,
  "nbformat_minor": 0,
  "metadata": {
    "colab": {
      "name": "797.ipynb",
      "provenance": [],
      "authorship_tag": "ABX9TyOyQxZpUAEG9tkd/Rwf9plC",
      "include_colab_link": true
    },
    "kernelspec": {
      "name": "python3",
      "display_name": "Python 3"
    },
    "language_info": {
      "name": "python"
    }
  },
  "cells": [
    {
      "cell_type": "markdown",
      "metadata": {
        "id": "view-in-github",
        "colab_type": "text"
      },
      "source": [
        "<a href=\"https://colab.research.google.com/github/v1nnyb0y/leetcode/blob/master/GraphTheory/797_AllPathsFromSourceToTarget.ipynb\" target=\"_parent\"><img src=\"https://colab.research.google.com/assets/colab-badge.svg\" alt=\"Open In Colab\"/></a>"
      ]
    },
    {
      "cell_type": "code",
      "execution_count": null,
      "metadata": {
        "id": "Xqz8JgQHLyzp"
      },
      "outputs": [],
      "source": [
        "class Solution:\n",
        "    def __init__(self):\n",
        "        self.paths = []\n",
        "        self.graph = {}\n",
        "    \n",
        "    def constructGraph(self, graph):\n",
        "        for i, neighbors in enumerate(graph):\n",
        "            self.graph[i] = neighbors\n",
        "            \n",
        "    def getPaths(self, src, dest, path):\n",
        "        if src == dest:\n",
        "            self.paths.append(path)\n",
        "            return\n",
        "        \n",
        "        for neighbor in self.graph[src]:\n",
        "            self.getPaths(neighbor, dest, path + [neighbor])\n",
        "    \n",
        "    def allPathsSourceTarget(self, graph):\n",
        "        \"\"\"\n",
        "        :type graph: List[List[int]]\n",
        "        :rtype: List[List[int]]\n",
        "        \"\"\"\n",
        "        self.constructGraph(graph)\n",
        "        self.getPaths(0, len(graph)-1, [0])\n",
        "        return self.paths"
      ]
    }
  ]
}