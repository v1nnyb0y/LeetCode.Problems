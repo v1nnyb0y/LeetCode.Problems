{
  "nbformat": 4,
  "nbformat_minor": 0,
  "metadata": {
    "colab": {
      "name": "1466.ipynb",
      "provenance": [],
      "authorship_tag": "ABX9TyMgFz/zar+QAvaSP2+4K6Ys",
      "include_colab_link": true
    },
    "kernelspec": {
      "name": "python3",
      "display_name": "Python 3"
    },
    "language_info": {
      "name": "python"
    }
  },
  "cells": [
    {
      "cell_type": "markdown",
      "metadata": {
        "id": "view-in-github",
        "colab_type": "text"
      },
      "source": [
        "<a href=\"https://colab.research.google.com/github/v1nnyb0y/leetcode/blob/master/GraphTheory/1466_ReorderRoutesToMakeAllPathsLeadToTheCityZero.ipynb\" target=\"_parent\"><img src=\"https://colab.research.google.com/assets/colab-badge.svg\" alt=\"Open In Colab\"/></a>"
      ]
    },
    {
      "cell_type": "code",
      "execution_count": null,
      "metadata": {
        "id": "FEFOOBLDGRFq"
      },
      "outputs": [],
      "source": [
        "class Solution:\n",
        "    def minReorder(self, n: int, connections: List[List[int]]) -> int:\n",
        "        self.count = 0\n",
        "        leaving   = {} # Edges going from key to v\n",
        "        arriving  = {} # Reversed Listing (Edges arriving to key from v)\n",
        "        for x,y in connections:\n",
        "            for a,b,d in [[x,y,leaving],[y,x,arriving]]:\n",
        "                if not a in d:\n",
        "                    d[a] = [b]\n",
        "                else:\n",
        "                    d[a].append(b)\n",
        "        #\n",
        "        visited = set()\n",
        "        def explore(x):\n",
        "            if x in visited:\n",
        "                return\n",
        "            visited.add(x)\n",
        "            if x in arriving:\n",
        "                for y in arriving[x]: # Arriving edges are oriented properly\n",
        "                    explore(y)\n",
        "            if x in leaving:\n",
        "                for y in leaving[x]: # Leaving roads must be reversed\n",
        "                    if not y in visited:\n",
        "                        self.count += 1\n",
        "                        explore(y)\n",
        "        explore(0)\n",
        "        return self.count"
      ]
    }
  ]
}