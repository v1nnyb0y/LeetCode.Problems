{
  "nbformat": 4,
  "nbformat_minor": 0,
  "metadata": {
    "colab": {
      "name": "743.ipynb",
      "provenance": [],
      "authorship_tag": "ABX9TyNeNFDCR4FlTILz8+qduHDS",
      "include_colab_link": true
    },
    "kernelspec": {
      "name": "python3",
      "display_name": "Python 3"
    },
    "language_info": {
      "name": "python"
    }
  },
  "cells": [
    {
      "cell_type": "markdown",
      "metadata": {
        "id": "view-in-github",
        "colab_type": "text"
      },
      "source": [
        "<a href=\"https://colab.research.google.com/github/v1nnyb0y/leetcode/blob/master/GraphTheory/743_NetworkDelayTime.ipynb\" target=\"_parent\"><img src=\"https://colab.research.google.com/assets/colab-badge.svg\" alt=\"Open In Colab\"/></a>"
      ]
    },
    {
      "cell_type": "code",
      "execution_count": null,
      "metadata": {
        "id": "LYccXs37QP_i"
      },
      "outputs": [],
      "source": [
        "class Solution:\n",
        "    def networkDelayTime(self, times: List[List[int]], n: int, k: int) -> int:\n",
        "        seen=set()\n",
        "        edges = defaultdict(list)\n",
        "        \n",
        "        for s,t, w in times:\n",
        "            edges[s].append((t,w))\n",
        "        \n",
        "        heap=[(0,k)]\n",
        "        heapq.heapify(heap)\n",
        "        restime=0\n",
        "        \n",
        "        while heap:\n",
        "            time, node = heapq.heappop(heap)\n",
        "            if node in seen:\n",
        "                continue\n",
        "            restime=time\n",
        "            seen.add(node)\n",
        "            \n",
        "            for dn, dt in edges[node]:\n",
        "                if dn not in seen:\n",
        "                    heapq.heappush(heap,(time+dt, dn))\n",
        "        if len(seen)==n:\n",
        "            return restime\n",
        "        return -1"
      ]
    }
  ]
}