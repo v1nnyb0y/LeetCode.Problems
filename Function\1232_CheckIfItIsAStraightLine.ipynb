{
  "nbformat": 4,
  "nbformat_minor": 0,
  "metadata": {
    "colab": {
      "name": "1232.ipynb",
      "provenance": [],
      "authorship_tag": "ABX9TyPZs47mM5L33ccoetL0zLeF",
      "include_colab_link": true
    },
    "kernelspec": {
      "name": "python3",
      "display_name": "Python 3"
    },
    "language_info": {
      "name": "python"
    }
  },
  "cells": [
    {
      "cell_type": "markdown",
      "metadata": {
        "id": "view-in-github",
        "colab_type": "text"
      },
      "source": [
        "<a href=\"https://colab.research.google.com/github/v1nnyb0y/LeetCode.Problems/blob/master/Function%5C1232_CheckIfItIsAStraightLine.ipynb\" target=\"_parent\"><img src=\"https://colab.research.google.com/assets/colab-badge.svg\" alt=\"Open In Colab\"/></a>"
      ]
    },
    {
      "cell_type": "code",
      "execution_count": null,
      "metadata": {
        "id": "t5ARjzar66HB"
      },
      "outputs": [],
      "source": [
        "class Solution:\n",
        "    def checkStraightLine(self, coordinates: List[List[int]]) -> bool:\n",
        "        x0,y0=coordinates[0]\n",
        "        x1,y1=coordinates[1]\n",
        "        for x,y in coordinates:\n",
        "            if (x-x1)*(y1-y0)!=(y-y1)*(x1-x0):\n",
        "                return 0\n",
        "        return 1"
      ]
    }
  ]
}