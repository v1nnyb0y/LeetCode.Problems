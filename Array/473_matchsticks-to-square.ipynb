{
  "nbformat": 4,
  "nbformat_minor": 0,
  "metadata": {
    "colab": {
      "name": "473.ipynb",
      "provenance": [],
      "authorship_tag": "ABX9TyO0QuNPu7JquY341tu+qPXX",
      "include_colab_link": true
    },
    "kernelspec": {
      "name": "python3",
      "display_name": "Python 3"
    },
    "language_info": {
      "name": "python"
    }
  },
  "cells": [
    {
      "cell_type": "markdown",
      "metadata": {
        "id": "view-in-github",
        "colab_type": "text"
      },
      "source": [
        "<a href=\"https://colab.research.google.com/github/v1nnyb0y/leetcode/blob/master/Array/473_matchsticks-to-square.ipynb\" target=\"_parent\"><img src=\"https://colab.research.google.com/assets/colab-badge.svg\" alt=\"Open In Colab\"/></a>"
      ]
    },
    {
      "cell_type": "code",
      "execution_count": null,
      "metadata": {
        "id": "WniRkgVkwnnT"
      },
      "outputs": [],
      "source": [
        "class Solution(object):\n",
        "    def makesquare(self, nums):\n",
        "        if not nums:\n",
        "            return False\n",
        "        sumn = sum(nums)\n",
        "        nums.sort(reverse=True)\n",
        "        if sumn % 4:\n",
        "            return False\n",
        "        return self.dfs(nums, [0,0,0,0], 0, sumn/4)\n",
        "    \n",
        "    def dfs(self, nums, t, pos, target):\n",
        "        if pos == len(nums):\n",
        "            if t[0] == t[1] == t[2]:\n",
        "                return True\n",
        "            return False\n",
        "        for i in range(4):\n",
        "            if t[i] + nums[pos] > target:\n",
        "                continue\n",
        "            t[i] += nums[pos]\n",
        "            if self.dfs(nums, t, pos+1, target):\n",
        "                return True\n",
        "            t[i] -= nums[pos]\n",
        "        return False"
      ]
    }
  ]
}