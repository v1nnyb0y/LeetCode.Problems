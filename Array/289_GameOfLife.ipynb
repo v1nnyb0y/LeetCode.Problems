{
  "nbformat": 4,
  "nbformat_minor": 0,
  "metadata": {
    "colab": {
      "name": "289.ipynb",
      "provenance": [],
      "authorship_tag": "ABX9TyNJqMc+RRsKZXrKlzE5YRSe",
      "include_colab_link": true
    },
    "kernelspec": {
      "name": "python3",
      "display_name": "Python 3"
    },
    "language_info": {
      "name": "python"
    }
  },
  "cells": [
    {
      "cell_type": "markdown",
      "metadata": {
        "id": "view-in-github",
        "colab_type": "text"
      },
      "source": [
        "<a href=\"https://colab.research.google.com/github/v1nnyb0y/leetcode/blob/master/Array/289_GameOfLife.ipynb\" target=\"_parent\"><img src=\"https://colab.research.google.com/assets/colab-badge.svg\" alt=\"Open In Colab\"/></a>"
      ]
    },
    {
      "cell_type": "code",
      "execution_count": null,
      "metadata": {
        "id": "fyYZdm3iWqGx"
      },
      "outputs": [],
      "source": [
        "class Solution:\n",
        "    def gameOfLife(self, board):\n",
        "        board[:] = [[int(3 in (count, count - live))\n",
        "                 for j, live in enumerate(row)\n",
        "                 for count in [sum(sum(row[j-(j>0):j+2])\n",
        "                                   for row in board[i-(i>0):i+2])]]\n",
        "                for i, row in enumerate(board)]"
      ]
    }
  ]
}