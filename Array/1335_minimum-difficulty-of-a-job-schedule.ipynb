{
  "nbformat": 4,
  "nbformat_minor": 0,
  "metadata": {
    "colab": {
      "provenance": [],
      "authorship_tag": "ABX9TyMZ06GdMZQUfFxROthGB0zX",
      "include_colab_link": true
    },
    "kernelspec": {
      "name": "python3",
      "display_name": "Python 3"
    },
    "language_info": {
      "name": "python"
    }
  },
  "cells": [
    {
      "cell_type": "markdown",
      "metadata": {
        "id": "view-in-github",
        "colab_type": "text"
      },
      "source": [
        "<a href=\"https://colab.research.google.com/github/v1nnyb0y/leetcode/blob/master/Array/1335_minimum-difficulty-of-a-job-schedule.ipynb\" target=\"_parent\"><img src=\"https://colab.research.google.com/assets/colab-badge.svg\" alt=\"Open In Colab\"/></a>"
      ]
    },
    {
      "cell_type": "code",
      "execution_count": null,
      "metadata": {
        "id": "pjA-NZeY5H_L"
      },
      "outputs": [],
      "source": [
        "class Solution:\n",
        "    def minDifficulty(self, jobDifficulty: List[int], d: int) -> int:\n",
        "        job_count = len(jobDifficulty)\n",
        "        if job_count < d: return -1\n",
        "\n",
        "        @lru_cache(None)\n",
        "        def min_score(last_score=0, cur_idx=0, div_left=d-1):\n",
        "            if div_left == 0: return max([last_score] + jobDifficulty[cur_idx:])\n",
        "            cur_score = max(last_score, jobDifficulty[cur_idx])\n",
        "\n",
        "            if job_count - cur_idx == div_left + 1:\n",
        "                return cur_score + sum(jobDifficulty[cur_idx+1:])\n",
        "            join_score = min_score(cur_score, cur_idx+1, div_left)\n",
        "            div_score = cur_score + min_score(0, cur_idx+1, div_left-1)\n",
        "            return min(join_score, div_score)\n",
        "\n",
        "        return min_score()\n",
        "        "
      ]
    }
  ]
}