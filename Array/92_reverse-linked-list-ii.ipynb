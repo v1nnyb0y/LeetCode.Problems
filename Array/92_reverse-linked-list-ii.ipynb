{
  "nbformat": 4,
  "nbformat_minor": 0,
  "metadata": {
    "colab": {
      "name": "92.ipynb",
      "provenance": [],
      "authorship_tag": "ABX9TyNpgfglW7KEAljzfAfGNpON",
      "include_colab_link": true
    },
    "kernelspec": {
      "name": "python3",
      "display_name": "Python 3"
    },
    "language_info": {
      "name": "python"
    }
  },
  "cells": [
    {
      "cell_type": "markdown",
      "metadata": {
        "id": "view-in-github",
        "colab_type": "text"
      },
      "source": [
        "<a href=\"https://colab.research.google.com/github/v1nnyb0y/leetcode/blob/master/Array/92_reverse-linked-list-ii.ipynb\" target=\"_parent\"><img src=\"https://colab.research.google.com/assets/colab-badge.svg\" alt=\"Open In Colab\"/></a>"
      ]
    },
    {
      "cell_type": "code",
      "source": [
        "class Solution:\n",
        "    def reverseBetween(self, head, m, n):\n",
        "        if not head:\n",
        "            return None\n",
        "\n",
        "        cur, prev = head, None\n",
        "        while m > 1:\n",
        "            prev = cur\n",
        "            cur = cur.next\n",
        "            m, n = m - 1, n - 1\n",
        "\n",
        "        tail, con = cur, prev\n",
        "        while n:\n",
        "            third = cur.next\n",
        "            cur.next = prev\n",
        "            prev = cur\n",
        "            cur = third\n",
        "            n -= 1\n",
        "\n",
        "        if con:\n",
        "            con.next = prev\n",
        "        else:\n",
        "            head = prev\n",
        "        tail.next = cur\n",
        "        return head"
      ],
      "metadata": {
        "id": "Jk_OqbsoU__2"
      },
      "execution_count": null,
      "outputs": []
    }
  ]
}