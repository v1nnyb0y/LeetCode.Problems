{
  "nbformat": 4,
  "nbformat_minor": 0,
  "metadata": {
    "colab": {
      "name": "1074.ipynb",
      "provenance": [],
      "authorship_tag": "ABX9TyNka/VD+oCNyNuHCg6MuVYW",
      "include_colab_link": true
    },
    "kernelspec": {
      "name": "python3",
      "display_name": "Python 3"
    },
    "language_info": {
      "name": "python"
    }
  },
  "cells": [
    {
      "cell_type": "markdown",
      "metadata": {
        "id": "view-in-github",
        "colab_type": "text"
      },
      "source": [
        "<a href=\"https://colab.research.google.com/github/v1nnyb0y/leetcode/blob/master/Array/1074_number-of-submatrices-that-sum-to-target.ipynb\" target=\"_parent\"><img src=\"https://colab.research.google.com/assets/colab-badge.svg\" alt=\"Open In Colab\"/></a>"
      ]
    },
    {
      "cell_type": "code",
      "execution_count": null,
      "metadata": {
        "id": "UkpNRxmQBoOP"
      },
      "outputs": [],
      "source": [
        "class Solution:\n",
        "    def numSubmatrixSumTarget(self, matrix: List[List[int]], target: int) -> int:\n",
        "        m, n = len(matrix), len(matrix[0])\n",
        "        for x in range(m):\n",
        "            for y in range(n - 1):\n",
        "                matrix[x][y+1] += matrix[x][y]\n",
        "        res = 0\n",
        "        for y1 in range(n):\n",
        "            for y2 in range(y1, n):\n",
        "                preSums = {0: 1}\n",
        "                s = 0\n",
        "                for x in range(m):\n",
        "                    s += matrix[x][y2] - (matrix[x][y1-1] if y1 > 0 else 0)\n",
        "                    res += preSums.get(s - target, 0)\n",
        "                    preSums[s] = preSums.get(s, 0) + 1\n",
        "        return res\n",
        "        "
      ]
    }
  ]
}