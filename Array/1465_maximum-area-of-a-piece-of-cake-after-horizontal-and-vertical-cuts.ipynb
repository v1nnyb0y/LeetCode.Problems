{
  "nbformat": 4,
  "nbformat_minor": 0,
  "metadata": {
    "colab": {
      "name": "1465.ipynb",
      "provenance": [],
      "authorship_tag": "ABX9TyNDZzrzyUls16KJ3AwNYAiq",
      "include_colab_link": true
    },
    "kernelspec": {
      "name": "python3",
      "display_name": "Python 3"
    },
    "language_info": {
      "name": "python"
    }
  },
  "cells": [
    {
      "cell_type": "markdown",
      "metadata": {
        "id": "view-in-github",
        "colab_type": "text"
      },
      "source": [
        "<a href=\"https://colab.research.google.com/github/v1nnyb0y/leetcode/blob/master/Array/1465_maximum-area-of-a-piece-of-cake-after-horizontal-and-vertical-cuts.ipynb\" target=\"_parent\"><img src=\"https://colab.research.google.com/assets/colab-badge.svg\" alt=\"Open In Colab\"/></a>"
      ]
    },
    {
      "cell_type": "code",
      "execution_count": null,
      "metadata": {
        "id": "60RvDXNcKNho"
      },
      "outputs": [],
      "source": [
        "class Solution:\n",
        "    def maxArea(self, h: int, w: int, horizontalCuts: List[int], verticalCuts: List[int]) -> int:\n",
        "        mod = int(1e9 + 7)\n",
        "        horizontalCuts.sort()\n",
        "        verticalCuts.sort()\n",
        "        horizontalCuts.append(h)\n",
        "        verticalCuts.append(w)\n",
        "        mh = horizontalCuts[0]\n",
        "        mv = verticalCuts[0]\n",
        "        for i in range(len(horizontalCuts) - 1):\n",
        "            mh = max(mh, horizontalCuts[i+1] - horizontalCuts[i]) \n",
        "        for i in range(len(verticalCuts) - 1):\n",
        "            mv = max(mv, verticalCuts[i+1] - verticalCuts[i])\n",
        "        return (mh*mv)%mod"
      ]
    }
  ]
}