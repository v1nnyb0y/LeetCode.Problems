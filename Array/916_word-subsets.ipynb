{
  "nbformat": 4,
  "nbformat_minor": 0,
  "metadata": {
    "colab": {
      "name": "916.ipynb",
      "provenance": [],
      "authorship_tag": "ABX9TyOcejohZsMH8AbUVaeeRfVm",
      "include_colab_link": true
    },
    "kernelspec": {
      "name": "python3",
      "display_name": "Python 3"
    },
    "language_info": {
      "name": "python"
    }
  },
  "cells": [
    {
      "cell_type": "markdown",
      "metadata": {
        "id": "view-in-github",
        "colab_type": "text"
      },
      "source": [
        "<a href=\"https://colab.research.google.com/github/v1nnyb0y/leetcode/blob/master/Array/916_word-subsets.ipynb\" target=\"_parent\"><img src=\"https://colab.research.google.com/assets/colab-badge.svg\" alt=\"Open In Colab\"/></a>"
      ]
    },
    {
      "cell_type": "code",
      "execution_count": null,
      "metadata": {
        "id": "oqJkVul3KGXP"
      },
      "outputs": [],
      "source": [
        "class Solution(object):\n",
        "    def wordSubsets(self, A, B):\n",
        "        \"\"\"\n",
        "        :type A: List[str]\n",
        "        :type B: List[str]\n",
        "        :rtype: List[str]\n",
        "        \"\"\"\n",
        "        def count(a):\n",
        "            rec = [0] * 26\n",
        "            for char in a:\n",
        "                rec[ord(char)-ord('a')] += 1\n",
        "            return rec\n",
        "        \n",
        "        rec_B = [0] * 26\n",
        "        for b in B:\n",
        "            for i, c in enumerate(count(b)):\n",
        "                rec_B[i] = max(rec_B[i], c)\n",
        "        \n",
        "        res = []\n",
        "        for a in A:\n",
        "            rec_a = count(a)\n",
        "            if all(x >= y for x, y in zip(rec_a, rec_B)):\n",
        "                res.append(a)\n",
        "        return res"
      ]
    }
  ]
}