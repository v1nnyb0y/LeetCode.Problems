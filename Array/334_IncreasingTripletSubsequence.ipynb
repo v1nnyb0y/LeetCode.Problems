{
  "nbformat": 4,
  "nbformat_minor": 0,
  "metadata": {
    "colab": {
      "name": "334.ipynb",
      "provenance": [],
      "authorship_tag": "ABX9TyMBS7w0AidlSzS+TbLHvhYI",
      "include_colab_link": true
    },
    "kernelspec": {
      "name": "python3",
      "display_name": "Python 3"
    },
    "language_info": {
      "name": "python"
    }
  },
  "cells": [
    {
      "cell_type": "markdown",
      "metadata": {
        "id": "view-in-github",
        "colab_type": "text"
      },
      "source": [
        "<a href=\"https://colab.research.google.com/github/v1nnyb0y/leetcode/blob/master/Array/334_IncreasingTripletSubsequence.ipynb\" target=\"_parent\"><img src=\"https://colab.research.google.com/assets/colab-badge.svg\" alt=\"Open In Colab\"/></a>"
      ]
    },
    {
      "cell_type": "code",
      "execution_count": null,
      "metadata": {
        "id": "Ms-JMfLWCg5B"
      },
      "outputs": [],
      "source": [
        "class Solution:\n",
        "    def increasingTriplet(self, nums: List[int]) -> bool:\n",
        "        x,y = 2**31-1,2**31-1\n",
        "        for t in nums:\n",
        "            if t < x:\n",
        "                x=t\n",
        "            elif x<t<y:\n",
        "                y = t\n",
        "            elif t > y:\n",
        "                return True\n",
        "        return False"
      ]
    }
  ]
}