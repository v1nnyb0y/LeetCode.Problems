{
  "nbformat": 4,
  "nbformat_minor": 0,
  "metadata": {
    "colab": {
      "name": "88.ipynb",
      "provenance": [],
      "authorship_tag": "ABX9TyP1m2RZigj+IFLEXmN9vjng",
      "include_colab_link": true
    },
    "kernelspec": {
      "name": "python3",
      "display_name": "Python 3"
    },
    "language_info": {
      "name": "python"
    }
  },
  "cells": [
    {
      "cell_type": "markdown",
      "metadata": {
        "id": "view-in-github",
        "colab_type": "text"
      },
      "source": [
        "<a href=\"https://colab.research.google.com/github/v1nnyb0y/leetcode/blob/master/Array/88_MergeSortedArray.ipynb\" target=\"_parent\"><img src=\"https://colab.research.google.com/assets/colab-badge.svg\" alt=\"Open In Colab\"/></a>"
      ]
    },
    {
      "cell_type": "code",
      "execution_count": 10,
      "metadata": {
        "colab": {
          "base_uri": "https://localhost:8080/"
        },
        "id": "k_yJw13SZMY4",
        "outputId": "5613d3ce-3ef7-426d-eab9-8357e92756bc"
      },
      "outputs": [
        {
          "output_type": "stream",
          "name": "stdout",
          "text": [
            "[1, 2, 2, 3, 5, 6]\n"
          ]
        }
      ],
      "source": [
        "class Solution:\n",
        "    def merge(self, nums1: List[int], m: int, nums2: List[int], n: int) -> None:\n",
        "        \"\"\"\n",
        "        Do not return anything, modify nums1 in-place instead.\n",
        "        \"\"\"\n",
        "        if m < 1:\n",
        "            nums1[:] = nums2[:n]\n",
        "        elif n <1:\n",
        "            nums1[:] = nums1[:m]\n",
        "        else:\n",
        "            nums1[:] = sorted(nums1[:m] + nums2[:n])\n",
        "                \n",
        "                "
      ]
    }
  ]
}