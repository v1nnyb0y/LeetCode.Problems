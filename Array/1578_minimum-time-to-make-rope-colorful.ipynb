{
  "nbformat": 4,
  "nbformat_minor": 0,
  "metadata": {
    "colab": {
      "provenance": [],
      "authorship_tag": "ABX9TyOLJhp2oDFwIwnEevlZA83U",
      "include_colab_link": true
    },
    "kernelspec": {
      "name": "python3",
      "display_name": "Python 3"
    },
    "language_info": {
      "name": "python"
    }
  },
  "cells": [
    {
      "cell_type": "markdown",
      "metadata": {
        "id": "view-in-github",
        "colab_type": "text"
      },
      "source": [
        "<a href=\"https://colab.research.google.com/github/v1nnyb0y/leetcode/blob/master/Array/1578_minimum-time-to-make-rope-colorful.ipynb\" target=\"_parent\"><img src=\"https://colab.research.google.com/assets/colab-badge.svg\" alt=\"Open In Colab\"/></a>"
      ]
    },
    {
      "cell_type": "code",
      "execution_count": null,
      "metadata": {
        "id": "j_UyZ410Hr3P"
      },
      "outputs": [],
      "source": [
        "class Solution:\n",
        "    def minCost(self, s: str, cost: List[int]) -> int:\n",
        "        cnt = 0\n",
        "        res = 0\n",
        "        for i in range(len(s)):\n",
        "            if i > 0 and s[i] == s[i - 1]:\n",
        "                cnt += 1\n",
        "                summ += cost[i]\n",
        "                maximum = max(maximum, cost[i])\n",
        "            else:\n",
        "                if cnt > 1:\n",
        "                    res += summ - maximum\n",
        "                cnt = 1\n",
        "                summ = cost[i]\n",
        "                maximum = cost[i]\n",
        "        if cnt > 1:\n",
        "            res += summ - maximum\n",
        "        return res"
      ]
    }
  ]
}