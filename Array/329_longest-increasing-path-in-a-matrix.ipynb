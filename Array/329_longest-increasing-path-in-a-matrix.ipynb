{
  "nbformat": 4,
  "nbformat_minor": 0,
  "metadata": {
    "colab": {
      "name": "329.ipynb",
      "provenance": [],
      "authorship_tag": "ABX9TyMEhidFij6a5RSDOzYEplDC",
      "include_colab_link": true
    },
    "kernelspec": {
      "name": "python3",
      "display_name": "Python 3"
    },
    "language_info": {
      "name": "python"
    }
  },
  "cells": [
    {
      "cell_type": "markdown",
      "metadata": {
        "id": "view-in-github",
        "colab_type": "text"
      },
      "source": [
        "<a href=\"https://colab.research.google.com/github/v1nnyb0y/leetcode/blob/master/Array/329_longest-increasing-path-in-a-matrix.ipynb\" target=\"_parent\"><img src=\"https://colab.research.google.com/assets/colab-badge.svg\" alt=\"Open In Colab\"/></a>"
      ]
    },
    {
      "cell_type": "code",
      "execution_count": null,
      "metadata": {
        "id": "7fy-2gnOOEDX"
      },
      "outputs": [],
      "source": [
        "class Solution:\n",
        "    def longestIncreasingPath(self, matrix: List[List[int]]) -> int:\n",
        "        # Check edge case\n",
        "        if not matrix:\n",
        "            return 0\n",
        "\n",
        "        # Initialize\n",
        "        rows, cols = len(matrix), len(matrix[0])\n",
        "        directions = ((0, 1), (0, -1), (-1, 0), (1, 0))\n",
        "        visited = [[-1] * cols for _ in range(rows)]\n",
        "        res = 0\n",
        "\n",
        "        def dfs(i, j):\n",
        "            # Check if visited\n",
        "            if visited[i][j] != -1:\n",
        "                return visited[i][j]\n",
        "\n",
        "            res = 1\n",
        "\n",
        "            # work with neighbors\n",
        "            for direction in directions:\n",
        "                next_i, next_j = i + direction[0], j + direction[1]\n",
        "\n",
        "                # for each direction we try to find a new count\n",
        "                direction_count = 0\n",
        "                if 0 <= next_i < rows and 0 <= next_j < cols:\n",
        "                    if matrix[i][j] < matrix[next_i][next_j]:\n",
        "                        direction_count = 1 + dfs(next_i, next_j)\n",
        "\n",
        "                res = max(direction_count, res)\n",
        "\n",
        "            visited[i][j] = res\n",
        "            return res\n",
        "\n",
        "        for row in range(rows):\n",
        "            for col in range(cols):\n",
        "                res = max(dfs(row, col), res)\n",
        "\n",
        "        return res"
      ]
    }
  ]
}