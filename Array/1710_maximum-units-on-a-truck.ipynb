{
  "nbformat": 4,
  "nbformat_minor": 0,
  "metadata": {
    "colab": {
      "name": "1710.ipynb",
      "provenance": [],
      "authorship_tag": "ABX9TyOA3grMl8iJQcJLnx1k37k9",
      "include_colab_link": true
    },
    "kernelspec": {
      "name": "python3",
      "display_name": "Python 3"
    },
    "language_info": {
      "name": "python"
    }
  },
  "cells": [
    {
      "cell_type": "markdown",
      "metadata": {
        "id": "view-in-github",
        "colab_type": "text"
      },
      "source": [
        "<a href=\"https://colab.research.google.com/github/v1nnyb0y/leetcode/blob/master/Array/1710_maximum-units-on-a-truck.ipynb\" target=\"_parent\"><img src=\"https://colab.research.google.com/assets/colab-badge.svg\" alt=\"Open In Colab\"/></a>"
      ]
    },
    {
      "cell_type": "code",
      "execution_count": null,
      "metadata": {
        "id": "QUcI7Qh9J63Q"
      },
      "outputs": [],
      "source": [
        "class Solution:\n",
        "    def maximumUnits(self, b: List[List[int]], t: int) -> int:\n",
        "        return reduce(lambda a,b:(a[0]-min(a[0],b[0]),a[1]+min(a[0],b[0])*b[1]),sorted(b,key=lambda x:x[1])[::-1],[t,0])[1]"
      ]
    }
  ]
}