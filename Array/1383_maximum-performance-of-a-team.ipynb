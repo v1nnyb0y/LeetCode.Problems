{
  "nbformat": 4,
  "nbformat_minor": 0,
  "metadata": {
    "colab": {
      "provenance": [],
      "authorship_tag": "ABX9TyPbHVL0/HJSUNarfVnYPmx4",
      "include_colab_link": true
    },
    "kernelspec": {
      "name": "python3",
      "display_name": "Python 3"
    },
    "language_info": {
      "name": "python"
    }
  },
  "cells": [
    {
      "cell_type": "markdown",
      "metadata": {
        "id": "view-in-github",
        "colab_type": "text"
      },
      "source": [
        "<a href=\"https://colab.research.google.com/github/v1nnyb0y/leetcode/blob/master/Array/1383_maximum-performance-of-a-team.ipynb\" target=\"_parent\"><img src=\"https://colab.research.google.com/assets/colab-badge.svg\" alt=\"Open In Colab\"/></a>"
      ]
    },
    {
      "cell_type": "code",
      "execution_count": null,
      "metadata": {
        "id": "59VrVOlQuKnc"
      },
      "outputs": [],
      "source": [
        "class Solution:\n",
        "    def maxPerformance(self, n, speed, efficiency, k):\n",
        "        h = []\n",
        "        res = sSum = 0\n",
        "        for e, s in sorted(zip(efficiency, speed), reverse=1):\n",
        "            heapq.heappush(h, s)\n",
        "            sSum += s\n",
        "            if len(h) > k:\n",
        "                sSum -= heapq.heappop(h)\n",
        "            res = max(res, sSum * e)\n",
        "        return res % (10**9 + 7)\n",
        "        "
      ]
    }
  ]
}