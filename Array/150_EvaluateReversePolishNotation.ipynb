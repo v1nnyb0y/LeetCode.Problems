{
  "nbformat": 4,
  "nbformat_minor": 0,
  "metadata": {
    "colab": {
      "name": "150.ipynb",
      "provenance": [],
      "authorship_tag": "ABX9TyP3QyNy7z5RDuoAwXxHL9QB",
      "include_colab_link": true
    },
    "kernelspec": {
      "name": "python3",
      "display_name": "Python 3"
    },
    "language_info": {
      "name": "python"
    }
  },
  "cells": [
    {
      "cell_type": "markdown",
      "metadata": {
        "id": "view-in-github",
        "colab_type": "text"
      },
      "source": [
        "<a href=\"https://colab.research.google.com/github/v1nnyb0y/leetcode/blob/master/Array/150_EvaluateReversePolishNotation.ipynb\" target=\"_parent\"><img src=\"https://colab.research.google.com/assets/colab-badge.svg\" alt=\"Open In Colab\"/></a>"
      ]
    },
    {
      "cell_type": "code",
      "execution_count": 17,
      "metadata": {
        "colab": {
          "base_uri": "https://localhost:8080/"
        },
        "id": "zsm8ATsSIfeX",
        "outputId": "875e6d2b-e46e-4dbf-f2cd-a13d7893e159"
      },
      "outputs": [
        {
          "output_type": "stream",
          "name": "stdout",
          "text": [
            "[]\n",
            "['10']\n",
            "['10', '6']\n",
            "['10', '6', '9']\n",
            "['10', '6', '9', '3']\n",
            "['10', '6', '12']\n",
            "['10', '6', '12', '-11']\n",
            "['10', '6', '-132']\n",
            "0\n",
            "['10', '0']\n",
            "['0']\n",
            "['0', '17']\n",
            "['17']\n",
            "['17', '5']\n",
            "22\n"
          ]
        }
      ],
      "source": [
        "class Solution:\n",
        "    def evalRPN(self, tokens: List[str]) -> int:\n",
        "        stack = []\n",
        "        for t in tokens:\n",
        "            if t.strip(\"-\").isnumeric():\n",
        "                stack.append(t)\n",
        "            else:\n",
        "                a = int(stack.pop())\n",
        "                b = int(stack.pop())\n",
        "                if t == \"+\":\n",
        "                    stack.append(b+a)\n",
        "                elif t == \"-\":\n",
        "                    stack.append(b-a)\n",
        "                elif t == \"*\":\n",
        "                    stack.append(b*a)\n",
        "                else:\n",
        "                    stack.append(int(float(b)/float(a)))\n",
        "        return int(stack.pop())"
      ]
    }
  ]
}