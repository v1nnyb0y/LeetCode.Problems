{
  "nbformat": 4,
  "nbformat_minor": 0,
  "metadata": {
    "colab": {
      "name": "1268.ipynb",
      "provenance": [],
      "authorship_tag": "ABX9TyOPL76MeoNwYK392WEeML5P",
      "include_colab_link": true
    },
    "kernelspec": {
      "name": "python3",
      "display_name": "Python 3"
    },
    "language_info": {
      "name": "python"
    }
  },
  "cells": [
    {
      "cell_type": "markdown",
      "metadata": {
        "id": "view-in-github",
        "colab_type": "text"
      },
      "source": [
        "<a href=\"https://colab.research.google.com/github/v1nnyb0y/leetcode/blob/master/Array/1268_search-suggestions-system.ipynb\" target=\"_parent\"><img src=\"https://colab.research.google.com/assets/colab-badge.svg\" alt=\"Open In Colab\"/></a>"
      ]
    },
    {
      "cell_type": "code",
      "execution_count": null,
      "metadata": {
        "id": "pQSEreA56Akz"
      },
      "outputs": [],
      "source": [
        "class TrieNode:\n",
        "    def __init__(self):\n",
        "        self.children = defaultdict(TrieNode)\n",
        "        self.words = set()\n",
        "\n",
        "class Trie:\n",
        "    def __init__(self):\n",
        "        self.trie = TrieNode()\n",
        "\n",
        "    def insert(self, i: int, word: str) -> None:\n",
        "        currentLayer = self.trie\n",
        "        for char in word:\n",
        "            currentLayer = currentLayer.children[char]\n",
        "            currentLayer.words.add(i)\n",
        "    \n",
        "    def suggestions(self, searchWord: str) -> List[List[int]]:\n",
        "        currentLayer = self.trie\n",
        "        \n",
        "        wordIndexes = []\n",
        "        for char in searchWord:\n",
        "            currentLayer = currentLayer.children[char]\n",
        "            wordIndexes.append(currentLayer.words)\n",
        "        \n",
        "        return wordIndexes\n",
        "        \n",
        "class Solution:\n",
        "    def suggestedProducts(self, products: List[str], searchWord: str) -> List[List[str]]:\n",
        "        productsTrie = Trie()\n",
        "        for i, product in enumerate(products):\n",
        "            productsTrie.insert(i, product)\n",
        "        \n",
        "        return [sorted(products[i] for i in productList)[:3] for productList in productsTrie.suggestions(searchWord)]"
      ]
    }
  ]
}