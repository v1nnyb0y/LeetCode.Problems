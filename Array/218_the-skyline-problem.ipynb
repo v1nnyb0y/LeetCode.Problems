{
  "nbformat": 4,
  "nbformat_minor": 0,
  "metadata": {
    "colab": {
      "provenance": [],
      "authorship_tag": "ABX9TyMSw6L5uNzdCvyWYYDPJsru",
      "include_colab_link": true
    },
    "kernelspec": {
      "name": "python3",
      "display_name": "Python 3"
    },
    "language_info": {
      "name": "python"
    }
  },
  "cells": [
    {
      "cell_type": "markdown",
      "metadata": {
        "id": "view-in-github",
        "colab_type": "text"
      },
      "source": [
        "<a href=\"https://colab.research.google.com/github/v1nnyb0y/leetcode/blob/master/Array/218_the-skyline-problem.ipynb\" target=\"_parent\"><img src=\"https://colab.research.google.com/assets/colab-badge.svg\" alt=\"Open In Colab\"/></a>"
      ]
    },
    {
      "cell_type": "code",
      "execution_count": null,
      "metadata": {
        "id": "It3L7osLE2H0"
      },
      "outputs": [],
      "source": [
        "class Solution:\n",
        "    def minMeetingRooms(self, intervals):\n",
        "        intervals.sort(key = lambda x: x[0])\n",
        "        res = 0\n",
        "        heap, l_heap = [], 0\n",
        "        for interval in intervals:\n",
        "            while heap and heap[0] <= interval[0]:\n",
        "                heapq.heappop(heap)\n",
        "                l_heap -= 1\n",
        "            heapq.heappush(heap, interval[1])\n",
        "            l_heap += 1\n",
        "            res = max(res, l_heap)\n",
        "        return res\n",
        "\t\t\n",
        "    def getSkyline(self, buildings):\n",
        "        buildings.append([float('inf'), float('inf'), 0])\n",
        "        heap = []\n",
        "        key_points = []\n",
        "        curr_max = 0\n",
        "        for Li, Ri, Hi in buildings:\n",
        "            while heap and heap[0][0] < Li:\n",
        "                ri, hi = heapq.heappop(heap)\n",
        "                heap_max = 0\n",
        "                for j in range(len(heap)):\n",
        "                    heap_max = max(heap_max, heap[j][1])\n",
        "                if heap_max < curr_max:\n",
        "                    curr_max = heap_max\n",
        "                    key_points.append([ri, curr_max])\n",
        "            if Hi > curr_max:\n",
        "                if key_points and Li == key_points[-1][0]:\n",
        "                    key_points.pop()\n",
        "                key_points.append([Li, Hi])\n",
        "                curr_max = Hi\n",
        "            heapq.heappush(heap, (Ri, Hi))\n",
        "        return key_points\n",
        "        "
      ]
    }
  ]
}