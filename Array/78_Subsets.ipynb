{
  "nbformat": 4,
  "nbformat_minor": 0,
  "metadata": {
    "colab": {
      "name": "78.ipynb",
      "provenance": [],
      "authorship_tag": "ABX9TyOdBZ9OTnSYtMWeWEYn50Rs",
      "include_colab_link": true
    },
    "kernelspec": {
      "name": "python3",
      "display_name": "Python 3"
    },
    "language_info": {
      "name": "python"
    }
  },
  "cells": [
    {
      "cell_type": "markdown",
      "metadata": {
        "id": "view-in-github",
        "colab_type": "text"
      },
      "source": [
        "<a href=\"https://colab.research.google.com/github/v1nnyb0y/leetcode/blob/master/Array/78_Subsets.ipynb\" target=\"_parent\"><img src=\"https://colab.research.google.com/assets/colab-badge.svg\" alt=\"Open In Colab\"/></a>"
      ]
    },
    {
      "cell_type": "code",
      "execution_count": null,
      "metadata": {
        "id": "S4GXppziTIzS"
      },
      "outputs": [],
      "source": [
        "class Solution:\n",
        "    def subsets(self, nums: List[int]) -> List[List[int]]:\n",
        "        n = len(nums)\n",
        "        output = []\n",
        "        \n",
        "        for i in range(2**n, 2**(n + 1)):\n",
        "            # generate bitmask, from 0..00 to 1..11\n",
        "            bitmask = bin(i)[3:]\n",
        "            \n",
        "            # append subset corresponding to that bitmask\n",
        "            output.append([nums[j] for j in range(n) if bitmask[j] == '1'])\n",
        "        \n",
        "        return output"
      ]
    }
  ]
}