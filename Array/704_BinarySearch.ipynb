{
  "nbformat": 4,
  "nbformat_minor": 0,
  "metadata": {
    "colab": {
      "name": "704.ipynb",
      "provenance": [],
      "authorship_tag": "ABX9TyMZnnwy36a2shXyvueZSADl",
      "include_colab_link": true
    },
    "kernelspec": {
      "name": "python3",
      "display_name": "Python 3"
    },
    "language_info": {
      "name": "python"
    }
  },
  "cells": [
    {
      "cell_type": "markdown",
      "metadata": {
        "id": "view-in-github",
        "colab_type": "text"
      },
      "source": [
        "<a href=\"https://colab.research.google.com/github/v1nnyb0y/leetcode/blob/master/Array/704_BinarySearch.ipynb\" target=\"_parent\"><img src=\"https://colab.research.google.com/assets/colab-badge.svg\" alt=\"Open In Colab\"/></a>"
      ]
    },
    {
      "cell_type": "code",
      "execution_count": null,
      "metadata": {
        "id": "kJ_C-Xl0nmdu"
      },
      "outputs": [],
      "source": [
        "class Solution:\n",
        "    def search(self, nums: List[int], target: int) -> int:\n",
        "        l, r = 0, len(nums) - 1\n",
        "        while l <= r:\n",
        "            pivot = l + (r - l) // 2\n",
        "            if nums[pivot] == target:\n",
        "                return pivot\n",
        "            elif nums[pivot] > target:\n",
        "                r = pivot - 1\n",
        "            else:\n",
        "                l = pivot + 1\n",
        "        return -1"
      ]
    }
  ]
}