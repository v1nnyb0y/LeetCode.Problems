{
  "nbformat": 4,
  "nbformat_minor": 0,
  "metadata": {
    "colab": {
      "name": "15.ipynb",
      "provenance": [],
      "authorship_tag": "ABX9TyNvK2C4zGhPencyWpvUZtA4",
      "include_colab_link": true
    },
    "kernelspec": {
      "name": "python3",
      "display_name": "Python 3"
    },
    "language_info": {
      "name": "python"
    }
  },
  "cells": [
    {
      "cell_type": "markdown",
      "metadata": {
        "id": "view-in-github",
        "colab_type": "text"
      },
      "source": [
        "<a href=\"https://colab.research.google.com/github/v1nnyb0y/leetcode/blob/master/Array/15_3Sum.ipynb\" target=\"_parent\"><img src=\"https://colab.research.google.com/assets/colab-badge.svg\" alt=\"Open In Colab\"/></a>"
      ]
    },
    {
      "cell_type": "code",
      "execution_count": null,
      "metadata": {
        "id": "0JvBHLLRtYfU"
      },
      "outputs": [],
      "source": [
        "class Solution(object):\n",
        "    def threeSum(self, nums): \n",
        "        nums, res, n =sorted(nums), [], len(nums)\n",
        "        for i in range(n-2):\n",
        "            if nums[i] > 0: #pruning\n",
        "                break\n",
        "            if i and nums[i] == nums[i-1]: #remove duplicate\n",
        "                continue\n",
        "            hi = n - 1\n",
        "            lo = bisect.bisect_left(nums, - nums[i] - nums[hi], i + 1, hi) - 1 #binary search\n",
        "            lo += (lo == i)\n",
        "            while lo < hi:\n",
        "                sum = nums[i] + nums[lo] + nums[hi]\n",
        "                if sum == 0:\n",
        "                    res += (nums[i], nums[lo], nums[hi]),\n",
        "                    while lo < hi and nums[lo] == nums[lo+1]: #remove duplicate\n",
        "                        lo += 1 \n",
        "                    while lo < hi and nums[hi] == nums[hi-1]: #remove duplicate\n",
        "                        hi -= 1\n",
        "                lo += sum <= 0 \n",
        "                hi -= sum >= 0\n",
        "        return res"
      ]
    }
  ]
}