{
  "nbformat": 4,
  "nbformat_minor": 0,
  "metadata": {
    "colab": {
      "name": "682.ipynb",
      "provenance": [],
      "authorship_tag": "ABX9TyNpu2Suvow41BwGfLnTaJ8p",
      "include_colab_link": true
    },
    "kernelspec": {
      "name": "python3",
      "display_name": "Python 3"
    },
    "language_info": {
      "name": "python"
    }
  },
  "cells": [
    {
      "cell_type": "markdown",
      "metadata": {
        "id": "view-in-github",
        "colab_type": "text"
      },
      "source": [
        "<a href=\"https://colab.research.google.com/github/v1nnyb0y/leetcode/blob/master/Array/682_BaseballGame.ipynb\" target=\"_parent\"><img src=\"https://colab.research.google.com/assets/colab-badge.svg\" alt=\"Open In Colab\"/></a>"
      ]
    },
    {
      "cell_type": "code",
      "execution_count": null,
      "metadata": {
        "id": "Chfcx1-bQETo"
      },
      "outputs": [],
      "source": [
        "class Solution:\n",
        "    def calPoints(self, ops: List[str]) -> int:\n",
        "        stack = []\n",
        "        for op in ops:\n",
        "            if op == '+':\n",
        "                stack.append(stack[-1] + stack[-2])\n",
        "            elif op == 'C':\n",
        "                stack.pop()\n",
        "            elif op == 'D':\n",
        "                stack.append(2 * stack[-1])\n",
        "            else:\n",
        "                stack.append(int(op))\n",
        "\n",
        "        return sum(stack)"
      ]
    }
  ]
}