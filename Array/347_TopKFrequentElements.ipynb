{
  "nbformat": 4,
  "nbformat_minor": 0,
  "metadata": {
    "colab": {
      "name": "347.ipynb",
      "provenance": [],
      "authorship_tag": "ABX9TyN8/YmlaKiw225t1RI3WSjL",
      "include_colab_link": true
    },
    "kernelspec": {
      "name": "python3",
      "display_name": "Python 3"
    },
    "language_info": {
      "name": "python"
    }
  },
  "cells": [
    {
      "cell_type": "markdown",
      "metadata": {
        "id": "view-in-github",
        "colab_type": "text"
      },
      "source": [
        "<a href=\"https://colab.research.google.com/github/v1nnyb0y/leetcode/blob/master/Array/347_TopKFrequentElements.ipynb\" target=\"_parent\"><img src=\"https://colab.research.google.com/assets/colab-badge.svg\" alt=\"Open In Colab\"/></a>"
      ]
    },
    {
      "cell_type": "code",
      "execution_count": 22,
      "metadata": {
        "colab": {
          "base_uri": "https://localhost:8080/"
        },
        "id": "mhjnMb61_FZ-",
        "outputId": "381bcf6d-1ef5-4bea-ee38-849cd270b49f"
      },
      "outputs": [
        {
          "output_type": "stream",
          "name": "stdout",
          "text": [
            "[1, 2]\n",
            "[1]\n"
          ]
        }
      ],
      "source": [
        "class Solution:\n",
        "    def topKFrequent(self, a: List[int], k: int) -> List[int]:\n",
        "        counter = collections.Counter(a)\n",
        "        tmp = []\n",
        "\n",
        "        for i in counter:\n",
        "            freq = counter[i]\n",
        "            tmp.append((i, freq))\n",
        "\n",
        "        tmp.sort(key=lambda x: x[1])\n",
        "        ans = []\n",
        "        i = len(tmp) - 1\n",
        "        while k != 0:\n",
        "            ans.append(tmp[i][0])\n",
        "            k -= 1\n",
        "            i -= 1\n",
        "\n",
        "        return ans"
      ]
    }
  ]
}