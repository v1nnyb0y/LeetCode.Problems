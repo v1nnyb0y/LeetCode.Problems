{
  "nbformat": 4,
  "nbformat_minor": 0,
  "metadata": {
    "colab": {
      "name": "1423.ipynb",
      "provenance": [],
      "authorship_tag": "ABX9TyOUQZ8nemKCea1k4dvpZ49L",
      "include_colab_link": true
    },
    "kernelspec": {
      "name": "python3",
      "display_name": "Python 3"
    },
    "language_info": {
      "name": "python"
    }
  },
  "cells": [
    {
      "cell_type": "markdown",
      "metadata": {
        "id": "view-in-github",
        "colab_type": "text"
      },
      "source": [
        "<a href=\"https://colab.research.google.com/github/v1nnyb0y/leetcode/blob/master/Array/1423_maximum-points-you-can-obtain-from-cards.ipynb\" target=\"_parent\"><img src=\"https://colab.research.google.com/assets/colab-badge.svg\" alt=\"Open In Colab\"/></a>"
      ]
    },
    {
      "cell_type": "code",
      "execution_count": null,
      "metadata": {
        "id": "0yZ8NKSaTeRn"
      },
      "outputs": [],
      "source": [
        "class Solution:\n",
        "    def maxScore(self, cardPoints: List[int], k: int) -> int:\n",
        "        total_sum = sum(cardPoints)\n",
        "        window_size = len(cardPoints)-k\n",
        "        min_window = window_sum = sum(cardPoints[0:window_size])\n",
        "\n",
        "\t\t# We need to add a new element from the right and subtract the leftmost in the window\n",
        "        for i in range(1, len(cardPoints)-window_size+1):\n",
        "            window_sum += (cardPoints[i+window_size-1] - cardPoints[i-1])\n",
        "            min_window = min(min_window, window_sum)\n",
        "\n",
        "        return total_sum - min_window\n",
        "        "
      ]
    }
  ]
}