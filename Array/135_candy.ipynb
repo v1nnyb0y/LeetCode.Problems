{
  "nbformat": 4,
  "nbformat_minor": 0,
  "metadata": {
    "colab": {
      "name": "135.ipynb",
      "provenance": [],
      "authorship_tag": "ABX9TyMNvFoRWlqZNyfcG0bPg0XX",
      "include_colab_link": true
    },
    "kernelspec": {
      "name": "python3",
      "display_name": "Python 3"
    },
    "language_info": {
      "name": "python"
    }
  },
  "cells": [
    {
      "cell_type": "markdown",
      "metadata": {
        "id": "view-in-github",
        "colab_type": "text"
      },
      "source": [
        "<a href=\"https://colab.research.google.com/github/v1nnyb0y/leetcode/blob/master/Array/135_candy.ipynb\" target=\"_parent\"><img src=\"https://colab.research.google.com/assets/colab-badge.svg\" alt=\"Open In Colab\"/></a>"
      ]
    },
    {
      "cell_type": "code",
      "execution_count": null,
      "metadata": {
        "id": "aXZv_GSLvEat"
      },
      "outputs": [],
      "source": [
        "class Solution:\n",
        "    def candy(self, ratings: List[int]) -> int:\n",
        "        record = [1]*len(ratings)\n",
        "        for i in range(1,len(ratings)):\n",
        "            if ratings[i]>ratings[i-1]:\n",
        "                record[i] = record[i-1]+1\n",
        "\n",
        "        for j in range(len(ratings)-2,-1,-1):\n",
        "            if ratings[j]>ratings[j+1]:\n",
        "                record[j] = max(record[j], record[j+1]+1)   \n",
        "        return sum(record)\n",
        "        "
      ]
    }
  ]
}