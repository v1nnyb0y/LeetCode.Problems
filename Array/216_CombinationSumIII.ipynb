{
  "nbformat": 4,
  "nbformat_minor": 0,
  "metadata": {
    "colab": {
      "name": "216.ipynb",
      "provenance": [],
      "authorship_tag": "ABX9TyMBrzuZ5hOf44GtLM/cUvb+",
      "include_colab_link": true
    },
    "kernelspec": {
      "name": "python3",
      "display_name": "Python 3"
    },
    "language_info": {
      "name": "python"
    }
  },
  "cells": [
    {
      "cell_type": "markdown",
      "metadata": {
        "id": "view-in-github",
        "colab_type": "text"
      },
      "source": [
        "<a href=\"https://colab.research.google.com/github/v1nnyb0y/leetcode/blob/master/Array/216_CombinationSumIII.ipynb\" target=\"_parent\"><img src=\"https://colab.research.google.com/assets/colab-badge.svg\" alt=\"Open In Colab\"/></a>"
      ]
    },
    {
      "cell_type": "code",
      "execution_count": null,
      "metadata": {
        "id": "Ad5M0XbFCs3O"
      },
      "outputs": [],
      "source": [
        "class Solution:\n",
        "    def combinationSum3(self, k: int, n: int) -> List[List[int]]:\n",
        "        self.k, self.n, self.res = k, n, []\n",
        "        self.backtrack([i+1 for i in range(9)], [], 0)\n",
        "        return self.res\n",
        "    \n",
        "    def backtrack(self, nums, current, start):\n",
        "        if len(current) == self.k and sum(current) == self.n:\n",
        "            self.res.append(current)\n",
        "            return\n",
        "        if len(current) == self.k or sum(current) == self.n:\n",
        "            return\n",
        "        for i in range(start, len(nums)):\n",
        "            self.backtrack(nums, current + [nums[i]], i + 1)"
      ]
    }
  ]
}