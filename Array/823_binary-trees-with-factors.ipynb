{
  "nbformat": 4,
  "nbformat_minor": 0,
  "metadata": {
    "colab": {
      "name": "823.ipynb",
      "provenance": [],
      "authorship_tag": "ABX9TyM39bZ6+902u2UXVkmQOZZY",
      "include_colab_link": true
    },
    "kernelspec": {
      "name": "python3",
      "display_name": "Python 3"
    },
    "language_info": {
      "name": "python"
    }
  },
  "cells": [
    {
      "cell_type": "markdown",
      "metadata": {
        "id": "view-in-github",
        "colab_type": "text"
      },
      "source": [
        "<a href=\"https://colab.research.google.com/github/v1nnyb0y/leetcode/blob/master/Array/823_binary-trees-with-factors.ipynb\" target=\"_parent\"><img src=\"https://colab.research.google.com/assets/colab-badge.svg\" alt=\"Open In Colab\"/></a>"
      ]
    },
    {
      "cell_type": "code",
      "execution_count": null,
      "metadata": {
        "id": "etQyUS1TqEr4"
      },
      "outputs": [],
      "source": [
        "class Solution:\n",
        "    def numFactoredBinaryTrees(self, A):\n",
        "        t = {}\n",
        "        for a in sorted(A):\n",
        "            t[a] = 1 + sum(t[b] * t.get(a/b, 0) for b in A if b < a)\n",
        "        return sum(t.values()) % (10**9 + 7)\n",
        "\n"
      ]
    }
  ]
}