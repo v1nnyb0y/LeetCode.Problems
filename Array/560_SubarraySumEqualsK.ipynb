{
  "nbformat": 4,
  "nbformat_minor": 0,
  "metadata": {
    "colab": {
      "name": "560.ipynb",
      "provenance": [],
      "authorship_tag": "ABX9TyOPlJchyncRAiSfGmZgF5zR",
      "include_colab_link": true
    },
    "kernelspec": {
      "name": "python3",
      "display_name": "Python 3"
    },
    "language_info": {
      "name": "python"
    }
  },
  "cells": [
    {
      "cell_type": "markdown",
      "metadata": {
        "id": "view-in-github",
        "colab_type": "text"
      },
      "source": [
        "<a href=\"https://colab.research.google.com/github/v1nnyb0y/leetcode/blob/master/Array/560_SubarraySumEqualsK.ipynb\" target=\"_parent\"><img src=\"https://colab.research.google.com/assets/colab-badge.svg\" alt=\"Open In Colab\"/></a>"
      ]
    },
    {
      "cell_type": "code",
      "execution_count": null,
      "metadata": {
        "id": "cFH05xbUDJJJ"
      },
      "outputs": [],
      "source": [
        "class Solution:\n",
        "    def subarraySum(self, nums: List[int], k: int) -> int:\n",
        "        ans=0\n",
        "        prefsum=0\n",
        "        d={0:1}\n",
        "        \n",
        "        for num in nums:\n",
        "            prefsum = prefsum + num\n",
        "            if prefsum-k in d:\n",
        "                ans = ans + d[prefsum-k]\n",
        "            if prefsum not in d:\n",
        "                d[prefsum] = 1\n",
        "            else:\n",
        "                d[prefsum] = d[prefsum]+1\n",
        "        return ans"
      ]
    }
  ]
}