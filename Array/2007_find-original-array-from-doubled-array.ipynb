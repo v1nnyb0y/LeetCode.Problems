{
  "nbformat": 4,
  "nbformat_minor": 0,
  "metadata": {
    "colab": {
      "provenance": [],
      "authorship_tag": "ABX9TyMOgm+Ltx8iGB8LUJSDXzOe",
      "include_colab_link": true
    },
    "kernelspec": {
      "name": "python3",
      "display_name": "Python 3"
    },
    "language_info": {
      "name": "python"
    }
  },
  "cells": [
    {
      "cell_type": "markdown",
      "metadata": {
        "id": "view-in-github",
        "colab_type": "text"
      },
      "source": [
        "<a href=\"https://colab.research.google.com/github/v1nnyb0y/leetcode/blob/master/Array/2007_find-original-array-from-doubled-array.ipynb\" target=\"_parent\"><img src=\"https://colab.research.google.com/assets/colab-badge.svg\" alt=\"Open In Colab\"/></a>"
      ]
    },
    {
      "cell_type": "code",
      "execution_count": null,
      "metadata": {
        "id": "piZ0t295hNkx"
      },
      "outputs": [],
      "source": [
        "class Solution:\n",
        "    def findOriginalArray(self, changed: List[int]) -> List[int]:\n",
        "        # ensure that there are even number of elements\n",
        "        if len(changed) % 2: \n",
        "            return []\n",
        "        \n",
        "        ans = []\n",
        "        \n",
        "        que1 = collections.deque(sorted(changed))\n",
        "        que2 = collections.deque([])\n",
        "        # greedily select the elements in increasing order\n",
        "        while len(ans) < len(changed) >> 1:\n",
        "            while que2 and que1[0] == que2[0]:\n",
        "                que1.popleft()\n",
        "                que2.popleft()\n",
        "            x = que1.popleft()\n",
        "            que2.append(2 * x)\n",
        "            ans.append(x)\n",
        "        # make sure the remaining half matches\n",
        "        while que1:\n",
        "            if que1[0] == que2[0]:\n",
        "                que1.popleft()\n",
        "                que2.popleft()\n",
        "            else:\n",
        "                return []\n",
        "        \n",
        "        return ans"
      ]
    }
  ]
}