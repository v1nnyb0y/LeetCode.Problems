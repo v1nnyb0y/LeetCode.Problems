{
  "nbformat": 4,
  "nbformat_minor": 0,
  "metadata": {
    "colab": {
      "name": "1695.ipynb",
      "provenance": [],
      "authorship_tag": "ABX9TyPEVFld83BEca/guAqa+lga",
      "include_colab_link": true
    },
    "kernelspec": {
      "name": "python3",
      "display_name": "Python 3"
    },
    "language_info": {
      "name": "python"
    }
  },
  "cells": [
    {
      "cell_type": "markdown",
      "metadata": {
        "id": "view-in-github",
        "colab_type": "text"
      },
      "source": [
        "<a href=\"https://colab.research.google.com/github/v1nnyb0y/leetcode/blob/master/Array/1695_maximum-erasure-value.ipynb\" target=\"_parent\"><img src=\"https://colab.research.google.com/assets/colab-badge.svg\" alt=\"Open In Colab\"/></a>"
      ]
    },
    {
      "cell_type": "code",
      "execution_count": null,
      "metadata": {
        "id": "RgzxX-dJrfSA"
      },
      "outputs": [],
      "source": [
        "class Solution:\n",
        "    def maximumUniqueSubarray(self, nums: List[int]) -> int:\n",
        "        n = len(nums)\n",
        "        start = end = 0\n",
        "        visited = set()\n",
        "        max_score = curr_score = 0\n",
        "        while end < n:\n",
        "            if nums[end] in visited:\n",
        "                max_score = max(max_score, curr_score)\n",
        "                while nums[start] != nums[end]:\n",
        "                    curr_score -= nums[start]\n",
        "                    visited.remove(nums[start])\n",
        "                    start += 1\n",
        "                curr_score -= nums[start]\n",
        "                visited.remove(nums[start])\n",
        "                start += 1\n",
        "                \n",
        "            else:\n",
        "                visited.add(nums[end])    \n",
        "                curr_score += nums[end]\n",
        "                end += 1\n",
        "        \n",
        "        return max(max_score, curr_score)\n",
        "        "
      ]
    }
  ]
}