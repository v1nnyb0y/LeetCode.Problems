{
  "nbformat": 4,
  "nbformat_minor": 0,
  "metadata": {
    "colab": {
      "name": "363.ipynb",
      "provenance": [],
      "authorship_tag": "ABX9TyM267Qhmy1OB0azPMksoRIy",
      "include_colab_link": true
    },
    "kernelspec": {
      "name": "python3",
      "display_name": "Python 3"
    },
    "language_info": {
      "name": "python"
    }
  },
  "cells": [
    {
      "cell_type": "markdown",
      "metadata": {
        "id": "view-in-github",
        "colab_type": "text"
      },
      "source": [
        "<a href=\"https://colab.research.google.com/github/v1nnyb0y/leetcode/blob/master/Array/363_max-sum-of-rectangle-no-larger-than-k.ipynb\" target=\"_parent\"><img src=\"https://colab.research.google.com/assets/colab-badge.svg\" alt=\"Open In Colab\"/></a>"
      ]
    },
    {
      "cell_type": "code",
      "execution_count": null,
      "metadata": {
        "id": "NyY1bJo9ZcyG"
      },
      "outputs": [],
      "source": [
        "class Solution:\n",
        "     def maxSumSubmatrix(self, matrix: List[List[int]], k: int) -> int:\n",
        "        def maxSumSubarray(arr):\n",
        "            sub_s_max = float('-inf')\n",
        "            s_curr = 0\n",
        "            prefix_sums = [float('inf')]\n",
        "            for x in arr:\n",
        "                bisect.insort(prefix_sums, s_curr)\n",
        "                s_curr += x\n",
        "                i = bisect.bisect_left(prefix_sums, s_curr - k)\n",
        "                sub_s_max = max(sub_s_max, s_curr - prefix_sums[i])\n",
        "            return sub_s_max\n",
        "        \n",
        "        m, n = len(matrix), len(matrix[0])\n",
        "        for x in range(m):\n",
        "            for y in range(n - 1):\n",
        "                matrix[x][y+1] += matrix[x][y]\n",
        "        res = float('-inf')\n",
        "        for y1 in range(n):\n",
        "            for y2 in range(y1, n):\n",
        "                arr = [matrix[x][y2] - (matrix[x][y1-1] if y1 > 0 else 0) for x in range(m)]\n",
        "                res = max(res, maxSumSubarray(arr))\n",
        "        return res\n",
        "        "
      ]
    }
  ]
}