{
  "nbformat": 4,
  "nbformat_minor": 0,
  "metadata": {
    "colab": {
      "name": "350.ipynb",
      "provenance": [],
      "authorship_tag": "ABX9TyPumS8Nl+iQqXhRcdtKmc4b",
      "include_colab_link": true
    },
    "kernelspec": {
      "name": "python3",
      "display_name": "Python 3"
    },
    "language_info": {
      "name": "python"
    }
  },
  "cells": [
    {
      "cell_type": "markdown",
      "metadata": {
        "id": "view-in-github",
        "colab_type": "text"
      },
      "source": [
        "<a href=\"https://colab.research.google.com/github/v1nnyb0y/leetcode/blob/master/Array/350_IntersectionOfTwoArraysII.ipynb\" target=\"_parent\"><img src=\"https://colab.research.google.com/assets/colab-badge.svg\" alt=\"Open In Colab\"/></a>"
      ]
    },
    {
      "cell_type": "code",
      "execution_count": 9,
      "metadata": {
        "colab": {
          "base_uri": "https://localhost:8080/"
        },
        "id": "nlsm0MWDmY4A",
        "outputId": "02a90098-6615-48eb-96d2-0f73497ea6b7"
      },
      "outputs": [
        {
          "output_type": "stream",
          "name": "stdout",
          "text": [
            "[4, 4, 8, 9, 9]\n",
            "4\n",
            "[4, 4, 8, 9, 9]\n",
            "9\n",
            "[4, 4, 8, 9, 9]\n",
            "5\n",
            "[4, 9]\n"
          ]
        }
      ],
      "source": [
        "class Solution:\n",
        "    def intersect(self, nums1: List[int], nums2: List[int]) -> List[int]:\n",
        "        def binSearch(arr, target):\n",
        "            l, r = 0, len(arr) - 1\n",
        "            ans = -1\n",
        "            while l <= r:\n",
        "                pivot = (r + l) // 2\n",
        "                if arr[pivot] == target:\n",
        "                    ans = pivot\n",
        "                    break\n",
        "                \n",
        "                if arr[pivot] > target:\n",
        "                    r -= 1\n",
        "                else:\n",
        "                    l += 1\n",
        "            \n",
        "            if ans > -1:\n",
        "                for i in range(ans - 1, -1, -1):\n",
        "                    if arr[i] == target:\n",
        "                        ans = i\n",
        "                    else:\n",
        "                        break\n",
        "            return ans\n",
        "        \n",
        "        res = []\n",
        "        if len(nums1) < len(nums2):\n",
        "            nums1, nums2 = nums2, nums1\n",
        "        \n",
        "        nums1.sort()\n",
        "        nums2.sort()\n",
        "        \n",
        "        for val2 in nums2:\n",
        "            index = binSearch(nums1, val2)\n",
        "            if len(nums1) == 0:\n",
        "                break\n",
        "            if index > -1:\n",
        "                res.append(val2)\n",
        "                nums1 = nums1[index + 1:] if index + 1 < len(nums1) else []\n",
        "        \n",
        "        return res"
      ]
    }
  ]
}