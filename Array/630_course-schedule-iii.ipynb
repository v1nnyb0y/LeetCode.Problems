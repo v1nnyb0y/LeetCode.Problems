{
  "nbformat": 4,
  "nbformat_minor": 0,
  "metadata": {
    "colab": {
      "name": "630.ipynb",
      "provenance": [],
      "authorship_tag": "ABX9TyNqxX4CqONHhUJoV9MMfVqE",
      "include_colab_link": true
    },
    "kernelspec": {
      "name": "python3",
      "display_name": "Python 3"
    },
    "language_info": {
      "name": "python"
    }
  },
  "cells": [
    {
      "cell_type": "markdown",
      "metadata": {
        "id": "view-in-github",
        "colab_type": "text"
      },
      "source": [
        "<a href=\"https://colab.research.google.com/github/v1nnyb0y/leetcode/blob/master/Array/630_course-schedule-iii.ipynb\" target=\"_parent\"><img src=\"https://colab.research.google.com/assets/colab-badge.svg\" alt=\"Open In Colab\"/></a>"
      ]
    },
    {
      "cell_type": "code",
      "execution_count": null,
      "metadata": {
        "id": "_HXd7RdCrgwp"
      },
      "outputs": [],
      "source": [
        "class Solution:\n",
        "    def scheduleCourse(self, courses: List[List[int]]) -> int:\n",
        "        courses.sort(key = lambda x:x[1])\n",
        "        maxHeap = []\n",
        "        cnt,totSum = 0,0\n",
        "        for i in range(len(courses)):\n",
        "            heappush(maxHeap,-1*courses[i][0])\n",
        "            totSum += courses[i][0]\n",
        "            cnt += 1\n",
        "            if totSum > courses[i][1]:\n",
        "                totSum += heappop(maxHeap)\n",
        "                cnt -= 1\n",
        "        return cnt"
      ]
    }
  ]
}