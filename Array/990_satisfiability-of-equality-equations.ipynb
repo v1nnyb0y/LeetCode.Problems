{
  "nbformat": 4,
  "nbformat_minor": 0,
  "metadata": {
    "colab": {
      "provenance": [],
      "authorship_tag": "ABX9TyNfgTTVc3igRRICFtl02CY9",
      "include_colab_link": true
    },
    "kernelspec": {
      "name": "python3",
      "display_name": "Python 3"
    },
    "language_info": {
      "name": "python"
    }
  },
  "cells": [
    {
      "cell_type": "markdown",
      "metadata": {
        "id": "view-in-github",
        "colab_type": "text"
      },
      "source": [
        "<a href=\"https://colab.research.google.com/github/v1nnyb0y/leetcode/blob/master/Array/990_satisfiability-of-equality-equations.ipynb\" target=\"_parent\"><img src=\"https://colab.research.google.com/assets/colab-badge.svg\" alt=\"Open In Colab\"/></a>"
      ]
    },
    {
      "cell_type": "code",
      "execution_count": null,
      "metadata": {
        "id": "LvxfCI6XuWLT"
      },
      "outputs": [],
      "source": [
        "class Solution(object):\n",
        "    def equationsPossible(self, equations):\n",
        "        \"\"\"\n",
        "        :type equations: List[str]\n",
        "        :rtype: bool\n",
        "        \"\"\"\n",
        "        def dfs(node, count):\n",
        "            component[node] = count\n",
        "            if node in graph:\n",
        "                for nei in graph[node]:\n",
        "                    if nei not in component:\n",
        "                        dfs(nei, count)\n",
        "            \n",
        "        graph = collections.defaultdict(set)\n",
        "        nodes = set()\n",
        "        inequality = []\n",
        "        for relation in equations:\n",
        "            nodes.add(relation[0])\n",
        "            nodes.add(relation[-1])\n",
        "            if relation[1] == \"=\":\n",
        "                graph[relation[0]].add(relation[-1])\n",
        "                graph[relation[-1]].add(relation[0])\n",
        "            else:\n",
        "                inequality.append([relation[0],relation[-1]])\n",
        "        \n",
        "        component = {}\n",
        "        count = 0\n",
        "        for node in nodes:\n",
        "            if node in graph and node not in component:\n",
        "                count += 1\n",
        "                dfs(node, count)\n",
        "        \n",
        "        for pair in inequality:\n",
        "            if pair[0] == pair[1]:\n",
        "                return False\n",
        "            if pair[0] in component and pair[1] in component:\n",
        "                if component[pair[0]] == component[pair[1]]:\n",
        "                    return False\n",
        "        return True"
      ]
    }
  ]
}