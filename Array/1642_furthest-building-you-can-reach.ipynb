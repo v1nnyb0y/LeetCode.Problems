{
  "nbformat": 4,
  "nbformat_minor": 0,
  "metadata": {
    "colab": {
      "name": "1642.ipynb",
      "provenance": [],
      "authorship_tag": "ABX9TyOpbyhWP46sPtBmUuCI0q4q",
      "include_colab_link": true
    },
    "kernelspec": {
      "name": "python3",
      "display_name": "Python 3"
    },
    "language_info": {
      "name": "python"
    }
  },
  "cells": [
    {
      "cell_type": "markdown",
      "metadata": {
        "id": "view-in-github",
        "colab_type": "text"
      },
      "source": [
        "<a href=\"https://colab.research.google.com/github/v1nnyb0y/leetcode/blob/master/Array/1642_furthest-building-you-can-reach.ipynb\" target=\"_parent\"><img src=\"https://colab.research.google.com/assets/colab-badge.svg\" alt=\"Open In Colab\"/></a>"
      ]
    },
    {
      "cell_type": "code",
      "execution_count": null,
      "metadata": {
        "id": "ZdIWj7BwEcmg"
      },
      "outputs": [],
      "source": [
        "class Solution:\n",
        "    def furthestBuilding(self, heights: List[int], bricks: int, ladders: int) -> int:\n",
        "        n = len(heights)\n",
        "        heap = []\n",
        "        heapq.heapify(heap)\n",
        "        for i in range(1, n):\n",
        "            diff = heights[i] - heights[i - 1]\n",
        "            if diff > 0:\n",
        "                if bricks >= diff:\n",
        "                    bricks -= diff\n",
        "                    heapq.heappush(heap, -diff)\n",
        "                else:\n",
        "                    if ladders == 0:\n",
        "                        return i - 1\n",
        "                    else:\n",
        "                        maximum = -heapq.heappushpop(heap, -diff)\n",
        "                        bricks += maximum - diff\n",
        "                        ladders -= 1\n",
        "        return n - 1"
      ]
    }
  ]
}