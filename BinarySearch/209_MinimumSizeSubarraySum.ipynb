{
  "nbformat": 4,
  "nbformat_minor": 0,
  "metadata": {
    "colab": {
      "name": "209.ipynb",
      "provenance": [],
      "authorship_tag": "ABX9TyMfbALgbjaf1G6PHzkDFaQo",
      "include_colab_link": true
    },
    "kernelspec": {
      "name": "python3",
      "display_name": "Python 3"
    },
    "language_info": {
      "name": "python"
    }
  },
  "cells": [
    {
      "cell_type": "markdown",
      "metadata": {
        "id": "view-in-github",
        "colab_type": "text"
      },
      "source": [
        "<a href=\"https://colab.research.google.com/github/v1nnyb0y/leetcode/blob/master/BinarySearch/209_MinimumSizeSubarraySum.ipynb\" target=\"_parent\"><img src=\"https://colab.research.google.com/assets/colab-badge.svg\" alt=\"Open In Colab\"/></a>"
      ]
    },
    {
      "cell_type": "code",
      "execution_count": null,
      "metadata": {
        "id": "X_PsLhy9Di5J"
      },
      "outputs": [],
      "source": [
        "class Solution:\n",
        "    def minSubArrayLen(self, s: int, nums: List[int]) -> int:\n",
        "        left = total = 0\n",
        "        res = len(nums) + 1\n",
        "        for i in range(len(nums)):\n",
        "            total = total + nums[i]\n",
        "            while total >= s:\n",
        "                res = min(res,i-left+1)\n",
        "                total = total - nums[left]\n",
        "                left = left+1\n",
        "        return res if res <= len(nums) else 0"
      ]
    }
  ]
}