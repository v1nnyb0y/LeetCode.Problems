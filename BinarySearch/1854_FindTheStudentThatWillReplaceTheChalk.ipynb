{
  "nbformat": 4,
  "nbformat_minor": 0,
  "metadata": {
    "colab": {
      "name": "1854.ipynb",
      "provenance": [],
      "authorship_tag": "ABX9TyOs6Wk9ZEyC7CXva7m1F8tN",
      "include_colab_link": true
    },
    "kernelspec": {
      "name": "python3",
      "display_name": "Python 3"
    },
    "language_info": {
      "name": "python"
    }
  },
  "cells": [
    {
      "cell_type": "markdown",
      "metadata": {
        "id": "view-in-github",
        "colab_type": "text"
      },
      "source": [
        "<a href=\"https://colab.research.google.com/github/v1nnyb0y/leetcode/blob/master/BinarySearch/1854_FindTheStudentThatWillReplaceTheChalk.ipynb\" target=\"_parent\"><img src=\"https://colab.research.google.com/assets/colab-badge.svg\" alt=\"Open In Colab\"/></a>"
      ]
    },
    {
      "cell_type": "code",
      "execution_count": null,
      "metadata": {
        "id": "T9zf4lFDT85E"
      },
      "outputs": [],
      "source": [
        "class Solution:\n",
        "    def chalkReplacer(self, A: List[int], k: int) -> int:\n",
        "        return bisect.bisect(list(accumulate(A)), k % sum(A))"
      ]
    }
  ]
}