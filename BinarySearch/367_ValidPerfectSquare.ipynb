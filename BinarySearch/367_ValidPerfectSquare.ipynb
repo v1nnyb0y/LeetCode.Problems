{
  "nbformat": 4,
  "nbformat_minor": 0,
  "metadata": {
    "colab": {
      "name": "367.ipynb",
      "provenance": [],
      "authorship_tag": "ABX9TyOHtsyCDPfZIqxx+gX2Vfcq",
      "include_colab_link": true
    },
    "kernelspec": {
      "name": "python3",
      "display_name": "Python 3"
    },
    "language_info": {
      "name": "python"
    }
  },
  "cells": [
    {
      "cell_type": "markdown",
      "metadata": {
        "id": "view-in-github",
        "colab_type": "text"
      },
      "source": [
        "<a href=\"https://colab.research.google.com/github/v1nnyb0y/leetcode/blob/master/BinarySearch/367_ValidPerfectSquare.ipynb\" target=\"_parent\"><img src=\"https://colab.research.google.com/assets/colab-badge.svg\" alt=\"Open In Colab\"/></a>"
      ]
    },
    {
      "cell_type": "code",
      "execution_count": 3,
      "metadata": {
        "colab": {
          "base_uri": "https://localhost:8080/"
        },
        "id": "O9AogtWa1tEz",
        "outputId": "a3d4b5f1-6e05-4b40-df3a-6b3d7d5fb855"
      },
      "outputs": [
        {
          "output_type": "stream",
          "name": "stdout",
          "text": [
            "False\n"
          ]
        }
      ],
      "source": [
        "class Solution:\n",
        "    def isPerfectSquare(self, num: int) -> bool:\n",
        "        if num == 1:\n",
        "            return True\n",
        "        \n",
        "        low = 1\n",
        "        high = num // 2\n",
        "        \n",
        "        while low <= high:\n",
        "            mid = (low + high) // 2\n",
        "            square = mid * mid\n",
        "            if square == num:\n",
        "                return True\n",
        "            elif square < num:\n",
        "                low = mid + 1\n",
        "            else:\n",
        "                high = mid - 1\n",
        "                \n",
        "        return False\n",
        "            \n",
        "        "
      ]
    }
  ]
}