{
  "nbformat": 4,
  "nbformat_minor": 0,
  "metadata": {
    "colab": {
      "name": "1482.ipynb",
      "provenance": [],
      "authorship_tag": "ABX9TyMyZVWaKqJMfE19CuP/aEuL",
      "include_colab_link": true
    },
    "kernelspec": {
      "name": "python3",
      "display_name": "Python 3"
    },
    "language_info": {
      "name": "python"
    }
  },
  "cells": [
    {
      "cell_type": "markdown",
      "metadata": {
        "id": "view-in-github",
        "colab_type": "text"
      },
      "source": [
        "<a href=\"https://colab.research.google.com/github/v1nnyb0y/leetcode/blob/master/BinarySearch/1482_MinimumNumberOfDaysToMakeMBouquets.ipynb\" target=\"_parent\"><img src=\"https://colab.research.google.com/assets/colab-badge.svg\" alt=\"Open In Colab\"/></a>"
      ]
    },
    {
      "cell_type": "code",
      "execution_count": null,
      "metadata": {
        "id": "o5aXbKUpDpF8"
      },
      "outputs": [],
      "source": [
        "class Solution:\n",
        "    def minDays(self, A: List[int], m: int, k: int) -> int:\n",
        "        if m * k > len(A): return -1\n",
        "        left, right = 1, max(A)\n",
        "        while left < right:\n",
        "            mid = (left + right) // 2\n",
        "            flow = bouq = 0\n",
        "            for a in A:\n",
        "                flow = 0 if a > mid else flow + 1\n",
        "                if flow >= k:\n",
        "                    flow = 0\n",
        "                    bouq += 1\n",
        "                    if bouq == m: break\n",
        "            if bouq == m:\n",
        "                right = mid\n",
        "            else:\n",
        "                left = mid + 1\n",
        "        return left"
      ]
    }
  ]
}