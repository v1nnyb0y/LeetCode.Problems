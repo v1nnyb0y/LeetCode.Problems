{
  "nbformat": 4,
  "nbformat_minor": 0,
  "metadata": {
    "colab": {
      "name": "1870.ipynb",
      "provenance": [],
      "authorship_tag": "ABX9TyORrZI/ufUlQMoEP9RM7wRa",
      "include_colab_link": true
    },
    "kernelspec": {
      "name": "python3",
      "display_name": "Python 3"
    },
    "language_info": {
      "name": "python"
    }
  },
  "cells": [
    {
      "cell_type": "markdown",
      "metadata": {
        "id": "view-in-github",
        "colab_type": "text"
      },
      "source": [
        "<a href=\"https://colab.research.google.com/github/v1nnyb0y/leetcode/blob/master/BinarySearch/1870_MinimumSpeedToArriveOnTime.ipynb\" target=\"_parent\"><img src=\"https://colab.research.google.com/assets/colab-badge.svg\" alt=\"Open In Colab\"/></a>"
      ]
    },
    {
      "cell_type": "code",
      "execution_count": null,
      "metadata": {
        "id": "yBsRjr13CLNo"
      },
      "outputs": [],
      "source": [
        "class Solution:\n",
        "\tdef minSpeedOnTime(self, dist: List[int], hour: float) -> int:        \n",
        "\t\tdef helper(speed):\n",
        "\t\t\ttime = 0\n",
        "\t\t\tfor i in range(len(dist) - 1):\n",
        "\t\t\t\tif dist[i] % speed == 0:\n",
        "\t\t\t\t\ttime += dist[i] // speed\n",
        "\t\t\t\telse:\n",
        "\t\t\t\t\ttime += dist[i] // speed + 1\n",
        "\t\t\ttime += dist[-1] / speed\n",
        "\t\t\treturn time\n",
        "\t\tl = 1\n",
        "\t\tr = 10 ** 7\n",
        "\t\tif helper(r) > hour:\n",
        "\t\t\treturn -1\n",
        "\t\twhile l < r:\n",
        "\t\t\tm = l + (r - l) // 2\n",
        "\t\t\tif helper(m) > hour:\n",
        "\t\t\t\tl = m + 1\n",
        "\t\t\telse:\n",
        "\t\t\t\tr = m\n",
        "\t\treturn l"
      ]
    }
  ]
}