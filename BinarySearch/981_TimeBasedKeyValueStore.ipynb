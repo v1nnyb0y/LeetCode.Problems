{
  "nbformat": 4,
  "nbformat_minor": 0,
  "metadata": {
    "colab": {
      "name": "981.ipynb",
      "provenance": [],
      "authorship_tag": "ABX9TyM8H9bDq3HOMVWPMwAyemEK",
      "include_colab_link": true
    },
    "kernelspec": {
      "name": "python3",
      "display_name": "Python 3"
    },
    "language_info": {
      "name": "python"
    }
  },
  "cells": [
    {
      "cell_type": "markdown",
      "metadata": {
        "id": "view-in-github",
        "colab_type": "text"
      },
      "source": [
        "<a href=\"https://colab.research.google.com/github/v1nnyb0y/leetcode/blob/master/BinarySearch/981_TimeBasedKeyValueStore.ipynb\" target=\"_parent\"><img src=\"https://colab.research.google.com/assets/colab-badge.svg\" alt=\"Open In Colab\"/></a>"
      ]
    },
    {
      "cell_type": "code",
      "execution_count": null,
      "metadata": {
        "id": "Th7ulbsamrZU"
      },
      "outputs": [],
      "source": [
        "from sortedcontainers import SortedDict\n",
        "class TimeMap:\n",
        "\n",
        "    def __init__(self):\n",
        "        \"\"\"\n",
        "        Initialize your data structure here.\n",
        "        \"\"\"\n",
        "        self.map = {}\n",
        "        \n",
        "\n",
        "    def set(self, key: str, value: str, timestamp: int) -> None:\n",
        "        if key not in self.map:\n",
        "            self.map[key] = SortedDict()\n",
        "        self.map[key][timestamp] = value\n",
        "\n",
        "    def get(self, key: str, timestamp: int) -> str:\n",
        "        # Use bianry search to find the largest time stamp <= timestamp\n",
        "        if key not in self.map:\n",
        "            return \"\"\n",
        "        if timestamp in self.map[key]:\n",
        "            return self.map[key][timestamp]\n",
        "        if timestamp < self.map[key].peekitem(0)[0]:\n",
        "            return \"\"\n",
        "        left, right = 0, len(self.map[key]) - 1\n",
        "        while left + 1 < right:\n",
        "            mid = (left + right) // 2\n",
        "            if self.map[key].peekitem(mid)[0] > timestamp:\n",
        "                right = mid\n",
        "            else:\n",
        "                left = mid\n",
        "        if self.map[key].peekitem(right)[0] < timestamp:\n",
        "            return self.map[key].peekitem(right)[1]\n",
        "        return self.map[key].peekitem(left)[1]"
      ]
    }
  ]
}