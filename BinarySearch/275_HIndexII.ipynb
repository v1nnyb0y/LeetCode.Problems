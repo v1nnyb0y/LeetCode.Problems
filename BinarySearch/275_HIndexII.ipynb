{
  "nbformat": 4,
  "nbformat_minor": 0,
  "metadata": {
    "colab": {
      "name": "275.ipynb",
      "provenance": [],
      "authorship_tag": "ABX9TyPDHpsTZxxtVC6z268J8NWc",
      "include_colab_link": true
    },
    "kernelspec": {
      "name": "python3",
      "display_name": "Python 3"
    },
    "language_info": {
      "name": "python"
    }
  },
  "cells": [
    {
      "cell_type": "markdown",
      "metadata": {
        "id": "view-in-github",
        "colab_type": "text"
      },
      "source": [
        "<a href=\"https://colab.research.google.com/github/v1nnyb0y/leetcode/blob/master/BinarySearch/275_HIndexII.ipynb\" target=\"_parent\"><img src=\"https://colab.research.google.com/assets/colab-badge.svg\" alt=\"Open In Colab\"/></a>"
      ]
    },
    {
      "cell_type": "code",
      "execution_count": null,
      "metadata": {
        "id": "jdSRPmbffJY5"
      },
      "outputs": [],
      "source": [
        "class Solution:\n",
        "    def hIndex(self, citations: List[int]) -> int:\n",
        "        for i in range(len(citations), -1, -1):\n",
        "            if len(citations)-bisect_left(citations, i) >= i: return i\n",
        "        return -1"
      ]
    }
  ]
}