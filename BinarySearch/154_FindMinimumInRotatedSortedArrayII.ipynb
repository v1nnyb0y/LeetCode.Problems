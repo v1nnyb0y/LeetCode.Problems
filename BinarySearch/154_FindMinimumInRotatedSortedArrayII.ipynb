{
  "nbformat": 4,
  "nbformat_minor": 0,
  "metadata": {
    "colab": {
      "name": "154.ipynb",
      "provenance": [],
      "authorship_tag": "ABX9TyNk4UChxsBo6YFZtOTn5jAF",
      "include_colab_link": true
    },
    "kernelspec": {
      "name": "python3",
      "display_name": "Python 3"
    },
    "language_info": {
      "name": "python"
    }
  },
  "cells": [
    {
      "cell_type": "markdown",
      "metadata": {
        "id": "view-in-github",
        "colab_type": "text"
      },
      "source": [
        "<a href=\"https://colab.research.google.com/github/v1nnyb0y/leetcode/blob/master/BinarySearch/154_FindMinimumInRotatedSortedArrayII.ipynb\" target=\"_parent\"><img src=\"https://colab.research.google.com/assets/colab-badge.svg\" alt=\"Open In Colab\"/></a>"
      ]
    },
    {
      "cell_type": "code",
      "execution_count": null,
      "metadata": {
        "id": "-93Rx6cP5XR8"
      },
      "outputs": [],
      "source": [
        "class Solution(object):\n",
        "    def findMin(self, nums):\n",
        "        \"\"\"\n",
        "        :type nums: List[int]\n",
        "        :rtype: int\n",
        "        \"\"\"\n",
        "        low,high = 0,len(nums)-1\n",
        "        while low < high:\n",
        "            mid = low + int((high-low)/2)\n",
        "            if nums[mid] > nums[high]:\n",
        "                low = mid + 1\n",
        "            elif nums[mid] < nums[high]:\n",
        "                high = mid\n",
        "            else: # nums[mid] == nums[high]\n",
        "                if nums[mid] == nums[low]:\n",
        "                    low, high = low + 1, high - 1\n",
        "                else:\n",
        "                    high = mid\n",
        "        return nums[low]"
      ]
    }
  ]
}