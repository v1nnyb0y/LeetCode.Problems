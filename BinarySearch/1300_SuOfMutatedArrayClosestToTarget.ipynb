{
  "nbformat": 4,
  "nbformat_minor": 0,
  "metadata": {
    "colab": {
      "name": "1300.ipynb",
      "provenance": [],
      "authorship_tag": "ABX9TyOqPKEH8C8qkJwkKAaqi8G7",
      "include_colab_link": true
    },
    "kernelspec": {
      "name": "python3",
      "display_name": "Python 3"
    },
    "language_info": {
      "name": "python"
    }
  },
  "cells": [
    {
      "cell_type": "markdown",
      "metadata": {
        "id": "view-in-github",
        "colab_type": "text"
      },
      "source": [
        "<a href=\"https://colab.research.google.com/github/v1nnyb0y/leetcode/blob/master/BinarySearch/1300_SuOfMutatedArrayClosestToTarget.ipynb\" target=\"_parent\"><img src=\"https://colab.research.google.com/assets/colab-badge.svg\" alt=\"Open In Colab\"/></a>"
      ]
    },
    {
      "cell_type": "code",
      "execution_count": null,
      "metadata": {
        "id": "h0Y0jK2GnDNl"
      },
      "outputs": [],
      "source": [
        "class Solution(object):\n",
        "    def findBestValue(self, arr, target):\n",
        "        \"\"\"\n",
        "        :type arr: List[int]\n",
        "        :type target: int\n",
        "        :rtype: int\n",
        "        \"\"\"\n",
        "        if not arr:\n",
        "            return 0\n",
        "        arr = sorted(arr)\n",
        "        l, r = 0, max(arr[-1], target//len(arr)+1)\n",
        "        sub_sum = [0]\n",
        "        for i in range(0, len(arr)):\n",
        "            sub_sum.append(sub_sum[-1]+arr[i])\n",
        "        ans = arr[-1]\n",
        "        pre_sum = sum(arr)\n",
        "        N = len(arr)\n",
        "        while l< r:\n",
        "            mid = (l+r)//2\n",
        "            idx = bisect.bisect_left(arr, mid)\n",
        "            cur_sum = sub_sum[idx] + mid*(N-idx)\n",
        "            if abs(cur_sum - target) < abs(pre_sum - target):\n",
        "                ans = mid\n",
        "                pre_sum = cur_sum\n",
        "            elif abs(cur_sum - target) == abs(pre_sum - target) and mid< ans:\n",
        "                ans = mid\n",
        "                pre_sum = cur_sum\n",
        "            if cur_sum > target:\n",
        "                r = mid\n",
        "            elif cur_sum< target:\n",
        "                l = mid+1\n",
        "            else:\n",
        "                return mid\n",
        "        return ans"
      ]
    }
  ]
}