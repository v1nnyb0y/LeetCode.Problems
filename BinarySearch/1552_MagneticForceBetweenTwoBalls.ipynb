{
  "nbformat": 4,
  "nbformat_minor": 0,
  "metadata": {
    "colab": {
      "name": "1552.ipynb",
      "provenance": [],
      "authorship_tag": "ABX9TyPn1+2GMqIxt/rNSHILvKIK",
      "include_colab_link": true
    },
    "kernelspec": {
      "name": "python3",
      "display_name": "Python 3"
    },
    "language_info": {
      "name": "python"
    }
  },
  "cells": [
    {
      "cell_type": "markdown",
      "metadata": {
        "id": "view-in-github",
        "colab_type": "text"
      },
      "source": [
        "<a href=\"https://colab.research.google.com/github/v1nnyb0y/leetcode/blob/master/BinarySearch/1552_MagneticForceBetweenTwoBalls.ipynb\" target=\"_parent\"><img src=\"https://colab.research.google.com/assets/colab-badge.svg\" alt=\"Open In Colab\"/></a>"
      ]
    },
    {
      "cell_type": "code",
      "execution_count": null,
      "metadata": {
        "id": "xmz6slkYixoc"
      },
      "outputs": [],
      "source": [
        "class Solution:\n",
        "    def maxDistance(self, a: List[int], m: int) -> int:\n",
        "        def check(d):\n",
        "            x, k = 0, m            \n",
        "            for i in range(len(a)):\n",
        "                if a[i] >= x: \n",
        "                    x, k = a[i] + d, k - 1\n",
        "                    if k == 0: break                             \n",
        "            return k == 0            \n",
        "        a.sort()                \n",
        "        l, r = 1, (max(a) - min(a)) // (m-1)                        \n",
        "        while l + 1 < r:\n",
        "            d = (l + r) // 2            \n",
        "            if check(d): l = d\n",
        "            else: r = d - 1                            \n",
        "        return r if check(r) else l"
      ]
    }
  ]
}