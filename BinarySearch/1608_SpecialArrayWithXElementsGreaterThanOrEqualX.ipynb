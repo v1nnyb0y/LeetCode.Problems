{
  "nbformat": 4,
  "nbformat_minor": 0,
  "metadata": {
    "colab": {
      "name": "1608.ipynb",
      "provenance": [],
      "authorship_tag": "ABX9TyPhIxMBydy2NJj8XnELuuXH",
      "include_colab_link": true
    },
    "kernelspec": {
      "name": "python3",
      "display_name": "Python 3"
    },
    "language_info": {
      "name": "python"
    }
  },
  "cells": [
    {
      "cell_type": "markdown",
      "metadata": {
        "id": "view-in-github",
        "colab_type": "text"
      },
      "source": [
        "<a href=\"https://colab.research.google.com/github/v1nnyb0y/leetcode/blob/master/BinarySearch/1608_SpecialArrayWithXElementsGreaterThanOrEqualX.ipynb\" target=\"_parent\"><img src=\"https://colab.research.google.com/assets/colab-badge.svg\" alt=\"Open In Colab\"/></a>"
      ]
    },
    {
      "cell_type": "code",
      "execution_count": null,
      "metadata": {
        "id": "pgP1ae75KMFb"
      },
      "outputs": [],
      "source": [
        "class Solution:\n",
        "    def specialArray(self, nums: List[int]) -> int:\n",
        "        maxelem = max(nums)\n",
        "        \n",
        "        for i in range(1, maxelem + 1):\n",
        "            count = 0\n",
        "            for item in nums:\n",
        "                if item >= i:\n",
        "                    count += 1\n",
        "            if count == i:\n",
        "                return i\n",
        "        return -1"
      ]
    }
  ]
}