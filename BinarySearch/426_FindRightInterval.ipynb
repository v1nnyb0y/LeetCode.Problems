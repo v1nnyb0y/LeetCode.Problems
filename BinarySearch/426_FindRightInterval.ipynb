{
  "nbformat": 4,
  "nbformat_minor": 0,
  "metadata": {
    "colab": {
      "name": "426.ipynb",
      "provenance": [],
      "authorship_tag": "ABX9TyPrfrlcz7mYIHJVrBIrrvvD",
      "include_colab_link": true
    },
    "kernelspec": {
      "name": "python3",
      "display_name": "Python 3"
    },
    "language_info": {
      "name": "python"
    }
  },
  "cells": [
    {
      "cell_type": "markdown",
      "metadata": {
        "id": "view-in-github",
        "colab_type": "text"
      },
      "source": [
        "<a href=\"https://colab.research.google.com/github/v1nnyb0y/leetcode/blob/master/BinarySearch/426_FindRightInterval.ipynb\" target=\"_parent\"><img src=\"https://colab.research.google.com/assets/colab-badge.svg\" alt=\"Open In Colab\"/></a>"
      ]
    },
    {
      "cell_type": "code",
      "execution_count": null,
      "metadata": {
        "id": "kWwCP5L0VIjQ"
      },
      "outputs": [],
      "source": [
        "class Solution:\n",
        "    def findRightInterval(self, arr: List[List[int]]) -> List[int]:\n",
        "        def BS(lst, x):\n",
        "            '''Binary Search to find the smallest value larger than x in lst and returns its index'''\n",
        "            n = len(lst)\n",
        "            low, high = 0, n-1\n",
        "            idx = -1\n",
        "            \n",
        "            while low <= high:\n",
        "                mid = (low + high)//2\n",
        "                if lst[mid][0] >= x:\n",
        "                    idx = lst[mid][1]\n",
        "                    high = mid - 1\n",
        "                elif lst[mid][0] < x:\n",
        "                    low = mid + 1\n",
        "\n",
        "            return idx\n",
        "        \n",
        "        \n",
        "        n = len(arr)\n",
        "        # Answer to store the indices\n",
        "        ans = [-1 for _ in range(n)]\n",
        "        # Creating a list that has the (first_values, index) of the lists in intervals\n",
        "        f_val = [(v[0], i) for i,v in enumerate(arr)]\n",
        "        # Creating a list that has the (second_values, index) of the lists in intervals\n",
        "        s_val = [(v[1], i) for i,v in enumerate(arr)]    \n",
        "\n",
        "        #Sorting both the lists on first values\n",
        "        f_val.sort(key= lambda x: x[0])\n",
        "        s_val.sort(key= lambda x: x[0])\n",
        "        \n",
        "        # For every value in s_val, we need to find the index of the smallest number that is larger than s_val.\n",
        "        for i in s_val:\n",
        "            # Calling Binary Search and storing the answer returned by BS\n",
        "            ans[i[1]] = BS(f_val, i[0])\n",
        "        \n",
        "        # Return the answer\n",
        "        return ans"
      ]
    }
  ]
}