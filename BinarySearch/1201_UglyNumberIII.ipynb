{
  "nbformat": 4,
  "nbformat_minor": 0,
  "metadata": {
    "colab": {
      "name": "1201.ipynb",
      "provenance": [],
      "authorship_tag": "ABX9TyPUHHPPz00VvwvS6scBcrRe",
      "include_colab_link": true
    },
    "kernelspec": {
      "name": "python3",
      "display_name": "Python 3"
    },
    "language_info": {
      "name": "python"
    }
  },
  "cells": [
    {
      "cell_type": "markdown",
      "metadata": {
        "id": "view-in-github",
        "colab_type": "text"
      },
      "source": [
        "<a href=\"https://colab.research.google.com/github/v1nnyb0y/leetcode/blob/master/BinarySearch/1201_UglyNumberIII.ipynb\" target=\"_parent\"><img src=\"https://colab.research.google.com/assets/colab-badge.svg\" alt=\"Open In Colab\"/></a>"
      ]
    },
    {
      "cell_type": "code",
      "execution_count": null,
      "metadata": {
        "id": "9MwrUyBrgyYO"
      },
      "outputs": [],
      "source": [
        "class Solution(object):\n",
        "    def nthUglyNumber(self, n, a, b, c):\n",
        "        \"\"\"\n",
        "        :type n: int\n",
        "        :type a: int\n",
        "        :type b: int\n",
        "        :type c: int\n",
        "        :rtype: int\n",
        "        \"\"\"\n",
        "        def gcd(a, b):\n",
        "            if b==0:\n",
        "                return a\n",
        "            return gcd(b, a%b)\n",
        "        \n",
        "        def lcm(a, b):\n",
        "            tmp = gcd(a, b)\n",
        "            return a*b//tmp\n",
        "        \n",
        "        ab, bc, ac= lcm(a, b), lcm(b, c), lcm(a, c)\n",
        "        abc = lcm(lcm(a, b), c)\n",
        "        \n",
        "        def uglyK(target, n, ab, bc, ac, abc):\n",
        "            \n",
        "            ans = (target//a+target//b+target//c)\n",
        "            ans-=target//ab\n",
        "            ans-=target//bc\n",
        "            ans-=target//ac\n",
        "            ans+=target//abc\n",
        "            return ans<n\n",
        "        \n",
        "        l, r = 1, 2*10**9\n",
        "        print(ab, bc, ac, abc)\n",
        "        while l<=r:\n",
        "            mid = (l+r)//2\n",
        "            if uglyK(mid, n, ab, bc, ac, abc):\n",
        "                l = mid+1\n",
        "            else:\n",
        "                r = mid-1\n",
        "        return l "
      ]
    }
  ]
}