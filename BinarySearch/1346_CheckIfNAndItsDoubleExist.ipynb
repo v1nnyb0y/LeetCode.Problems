{
  "nbformat": 4,
  "nbformat_minor": 0,
  "metadata": {
    "colab": {
      "name": "1346.ipynb",
      "provenance": [],
      "authorship_tag": "ABX9TyMHsZ7/riff0zAYpCPVubXY",
      "include_colab_link": true
    },
    "kernelspec": {
      "name": "python3",
      "display_name": "Python 3"
    },
    "language_info": {
      "name": "python"
    }
  },
  "cells": [
    {
      "cell_type": "markdown",
      "metadata": {
        "id": "view-in-github",
        "colab_type": "text"
      },
      "source": [
        "<a href=\"https://colab.research.google.com/github/v1nnyb0y/leetcode/blob/master/BinarySearch/1346_CheckIfNAndItsDoubleExist.ipynb\" target=\"_parent\"><img src=\"https://colab.research.google.com/assets/colab-badge.svg\" alt=\"Open In Colab\"/></a>"
      ]
    },
    {
      "cell_type": "code",
      "execution_count": null,
      "metadata": {
        "id": "ARBTWVpggvZ8"
      },
      "outputs": [],
      "source": [
        "class Solution:\n",
        "    def checkIfExist(self, arr: List[int]) -> bool:\n",
        "        seen = {}\n",
        "        for i in range(len(arr)):\n",
        "            if 2 * arr[i] in seen or arr[i] % 2 == 0 and arr[i] // 2 in seen:\n",
        "                return True\n",
        "            seen[arr[i]]=i\n",
        "        return False"
      ]
    }
  ]
}