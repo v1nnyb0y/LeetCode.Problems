{
  "nbformat": 4,
  "nbformat_minor": 0,
  "metadata": {
    "colab": {
      "provenance": [],
      "authorship_tag": "ABX9TyNHRokvg4wPE0Afb9pLtSBq",
      "include_colab_link": true
    },
    "kernelspec": {
      "name": "python3",
      "display_name": "Python 3"
    },
    "language_info": {
      "name": "python"
    }
  },
  "cells": [
    {
      "cell_type": "markdown",
      "metadata": {
        "id": "view-in-github",
        "colab_type": "text"
      },
      "source": [
        "<a href=\"https://colab.research.google.com/github/v1nnyb0y/leetcode/blob/master/TwoPointers/838_push-dominoes.ipynb\" target=\"_parent\"><img src=\"https://colab.research.google.com/assets/colab-badge.svg\" alt=\"Open In Colab\"/></a>"
      ]
    },
    {
      "cell_type": "code",
      "execution_count": null,
      "metadata": {
        "id": "h1bIjxmxgjIn"
      },
      "outputs": [],
      "source": [
        "class Solution:\n",
        "    def pushDominoes(self, d):\n",
        "        d = 'L' + d + 'R'\n",
        "        res = \"\"\n",
        "        i = 0\n",
        "        for j in range(1, len(d)):\n",
        "            if d[j] == '.':\n",
        "                continue\n",
        "            middle = j - i - 1\n",
        "            if i:\n",
        "                res += d[i]\n",
        "            if d[i] == d[j]:\n",
        "                res += d[i] * middle\n",
        "            elif d[i] == 'L' and d[j] == 'R':\n",
        "                res += '.' * middle\n",
        "            else:\n",
        "                res += 'R' * (middle // 2) + '.' * (middle % 2) + 'L' * (middle // 2)\n",
        "            i = j\n",
        "        return res\n",
        "        "
      ]
    }
  ]
}