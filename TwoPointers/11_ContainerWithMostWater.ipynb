{
  "nbformat": 4,
  "nbformat_minor": 0,
  "metadata": {
    "colab": {
      "name": "11.ipynb",
      "provenance": [],
      "authorship_tag": "ABX9TyPp0doPkW4nwBzBdcexNbV+",
      "include_colab_link": true
    },
    "kernelspec": {
      "name": "python3",
      "display_name": "Python 3"
    },
    "language_info": {
      "name": "python"
    }
  },
  "cells": [
    {
      "cell_type": "markdown",
      "metadata": {
        "id": "view-in-github",
        "colab_type": "text"
      },
      "source": [
        "<a href=\"https://colab.research.google.com/github/v1nnyb0y/leetcode/blob/master/TwoPointers/11_ContainerWithMostWater.ipynb\" target=\"_parent\"><img src=\"https://colab.research.google.com/assets/colab-badge.svg\" alt=\"Open In Colab\"/></a>"
      ]
    },
    {
      "cell_type": "code",
      "execution_count": null,
      "metadata": {
        "id": "u_xYvtesWZ4Y"
      },
      "outputs": [],
      "source": [
        "class Solution:\n",
        "    def maxArea(self, height: List[int]) -> int:\n",
        "        maxS = 0\n",
        "        l, r = 0, len(height) - 1\n",
        "        while l < r:\n",
        "            h = min(height[l], height[r])\n",
        "            lenght = r - l\n",
        "            s = h * lenght\n",
        "            if maxS < s:\n",
        "                maxS = s\n",
        "                \n",
        "            if height[l] > height[r]:\n",
        "                r -= 1\n",
        "            else:\n",
        "                l += 1\n",
        "        return maxS\n",
        "            "
      ]
    }
  ]
}