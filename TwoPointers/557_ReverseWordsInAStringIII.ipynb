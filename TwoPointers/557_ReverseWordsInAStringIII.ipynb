{
  "nbformat": 4,
  "nbformat_minor": 0,
  "metadata": {
    "colab": {
      "name": "557.ipynb",
      "provenance": [],
      "authorship_tag": "ABX9TyOg2LAAtEqYXD4dRfRTelyJ",
      "include_colab_link": true
    },
    "kernelspec": {
      "name": "python3",
      "display_name": "Python 3"
    },
    "language_info": {
      "name": "python"
    }
  },
  "cells": [
    {
      "cell_type": "markdown",
      "metadata": {
        "id": "view-in-github",
        "colab_type": "text"
      },
      "source": [
        "<a href=\"https://colab.research.google.com/github/v1nnyb0y/leetcode/blob/master/TwoPointers/557_ReverseWordsInAStringIII.ipynb\" target=\"_parent\"><img src=\"https://colab.research.google.com/assets/colab-badge.svg\" alt=\"Open In Colab\"/></a>"
      ]
    },
    {
      "cell_type": "code",
      "execution_count": null,
      "metadata": {
        "id": "zs1j3_GkfYeI"
      },
      "outputs": [],
      "source": [
        "class Solution:\n",
        "    def reverseWords(self, s: str) -> str:\n",
        "        def reverseStr(word):\n",
        "            sWord = list(word)\n",
        "            l, r = 0, len(sWord) - 1\n",
        "            while l < r:\n",
        "                sWord[l], sWord[r] = sWord[r], sWord[l]\n",
        "                l += 1\n",
        "                r -= 1\n",
        "            \n",
        "            return ''.join(sWord)\n",
        "        \n",
        "        res = []\n",
        "        sArr = s.split(' ')\n",
        "        for i in sArr:\n",
        "            res.append(reverseStr(i))\n",
        "            \n",
        "        return ' '.join(res)\n",
        "        "
      ]
    }
  ]
}