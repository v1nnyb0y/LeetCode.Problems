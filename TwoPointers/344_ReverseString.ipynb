{
  "nbformat": 4,
  "nbformat_minor": 0,
  "metadata": {
    "colab": {
      "name": "344.ipynb",
      "provenance": [],
      "authorship_tag": "ABX9TyMYnq9y3XO/1xvf3MR5lgQt",
      "include_colab_link": true
    },
    "kernelspec": {
      "name": "python3",
      "display_name": "Python 3"
    },
    "language_info": {
      "name": "python"
    }
  },
  "cells": [
    {
      "cell_type": "markdown",
      "metadata": {
        "id": "view-in-github",
        "colab_type": "text"
      },
      "source": [
        "<a href=\"https://colab.research.google.com/github/v1nnyb0y/leetcode/blob/master/TwoPointers/344_ReverseString.ipynb\" target=\"_parent\"><img src=\"https://colab.research.google.com/assets/colab-badge.svg\" alt=\"Open In Colab\"/></a>"
      ]
    },
    {
      "cell_type": "code",
      "execution_count": null,
      "metadata": {
        "id": "lOpg39lIw14e"
      },
      "outputs": [],
      "source": [
        "class Solution:\n",
        "    def reverseString(self, s: List[str]) -> None:\n",
        "        \"\"\"\n",
        "        Do not return anything, modify s in-place instead.\n",
        "        \"\"\"\n",
        "        l, r = 0, len(s) - 1\n",
        "        while l < r:\n",
        "            s[l], s[r] = s[r], s[l]\n",
        "            l += 1\n",
        "            r -= 1"
      ]
    }
  ]
}