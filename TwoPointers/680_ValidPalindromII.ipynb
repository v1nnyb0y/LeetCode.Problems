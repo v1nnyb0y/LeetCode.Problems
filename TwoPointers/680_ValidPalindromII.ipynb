{
  "nbformat": 4,
  "nbformat_minor": 0,
  "metadata": {
    "colab": {
      "name": "680.ipynb",
      "provenance": [],
      "authorship_tag": "ABX9TyPllku0KrY82mmawkjZpwsz",
      "include_colab_link": true
    },
    "kernelspec": {
      "name": "python3",
      "display_name": "Python 3"
    },
    "language_info": {
      "name": "python"
    }
  },
  "cells": [
    {
      "cell_type": "markdown",
      "metadata": {
        "id": "view-in-github",
        "colab_type": "text"
      },
      "source": [
        "<a href=\"https://colab.research.google.com/github/v1nnyb0y/leetcode/blob/master/TwoPointers/680_ValidPalindromII.ipynb\" target=\"_parent\"><img src=\"https://colab.research.google.com/assets/colab-badge.svg\" alt=\"Open In Colab\"/></a>"
      ]
    },
    {
      "cell_type": "code",
      "execution_count": null,
      "metadata": {
        "id": "9cKK9h-1QzmA"
      },
      "outputs": [],
      "source": [
        "class Solution:\n",
        "    def validPalindrome(self, s: str) -> bool:\n",
        "        def check_palindrome(s, i, j):\n",
        "            while i < j:\n",
        "                if s[i] != s[j]:\n",
        "                    return False\n",
        "                i += 1\n",
        "                j -= 1\n",
        "            \n",
        "            return True\n",
        "\n",
        "        i = 0\n",
        "        j = len(s) - 1\n",
        "        while i < j:\n",
        "            # Found a mismatched pair - try both deletions\n",
        "            if s[i] != s[j]:\n",
        "                return check_palindrome(s, i, j - 1) or check_palindrome(s, i + 1, j)\n",
        "            i += 1\n",
        "            j -= 1\n",
        "        \n",
        "        return True"
      ]
    }
  ]
}