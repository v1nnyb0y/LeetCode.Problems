{
  "nbformat": 4,
  "nbformat_minor": 0,
  "metadata": {
    "colab": {
      "name": "1712.ipynb",
      "provenance": [],
      "authorship_tag": "ABX9TyP3kL/5g6MbLFSE4qsYipG+",
      "include_colab_link": true
    },
    "kernelspec": {
      "name": "python3",
      "display_name": "Python 3"
    },
    "language_info": {
      "name": "python"
    }
  },
  "cells": [
    {
      "cell_type": "markdown",
      "metadata": {
        "id": "view-in-github",
        "colab_type": "text"
      },
      "source": [
        "<a href=\"https://colab.research.google.com/github/v1nnyb0y/leetcode/blob/master/TwoPointers/1712_WaysToSplitArrayIntoThreeSubarrays.ipynb\" target=\"_parent\"><img src=\"https://colab.research.google.com/assets/colab-badge.svg\" alt=\"Open In Colab\"/></a>"
      ]
    },
    {
      "cell_type": "code",
      "execution_count": null,
      "metadata": {
        "id": "Q5MBA6dImJ3G"
      },
      "outputs": [],
      "source": [
        "class Solution:\n",
        "    def waysToSplit(self, nums: List[int]) -> int:\n",
        "        MOD = 10**9 + 7\n",
        "        n = len(nums)\n",
        "        cum_sum = [0] * n\n",
        "        cum_sum[0] = nums[0]\n",
        "        for i in range(1, n):\n",
        "            cum_sum[i] = cum_sum[i - 1] + nums[i]\n",
        "        \n",
        "        res = 0\n",
        "        summ = cum_sum[-1]\n",
        "        for i, m in enumerate(cum_sum):\n",
        "            idx = bisect.bisect_left(cum_sum, 2 * m, i)\n",
        "            if idx == i:\n",
        "                idx += 1\n",
        "            if idx < n - 1:\n",
        "                temp = summ  + cum_sum[i] \n",
        "                target = temp // 2\n",
        "                idx2 = bisect.bisect_right(cum_sum, target, idx)\n",
        "                if idx2 == n:\n",
        "                    idx2 -= 1\n",
        "                res += (idx2 - idx)\n",
        "        return res % MOD"
      ]
    }
  ]
}