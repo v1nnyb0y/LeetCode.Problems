{
  "nbformat": 4,
  "nbformat_minor": 0,
  "metadata": {
    "colab": {
      "name": "1461.ipynb",
      "provenance": [],
      "authorship_tag": "ABX9TyN2CiEud0xgrja8pDgtjpua",
      "include_colab_link": true
    },
    "kernelspec": {
      "name": "python3",
      "display_name": "Python 3"
    },
    "language_info": {
      "name": "python"
    }
  },
  "cells": [
    {
      "cell_type": "markdown",
      "metadata": {
        "id": "view-in-github",
        "colab_type": "text"
      },
      "source": [
        "<a href=\"https://colab.research.google.com/github/v1nnyb0y/leetcode/blob/master/Strings/1461_check-if-a-string-contains-all-binary-codes-of-size-k.ipynb\" target=\"_parent\"><img src=\"https://colab.research.google.com/assets/colab-badge.svg\" alt=\"Open In Colab\"/></a>"
      ]
    },
    {
      "cell_type": "code",
      "execution_count": null,
      "metadata": {
        "id": "qG7IrWg-fGbt"
      },
      "outputs": [],
      "source": [
        "class Solution:\n",
        "    def hasAllCodes(self, s, k):\n",
        "        codewords = set()\n",
        "        for i in range(k, len(s)+1):\n",
        "            codewords.add(s[i-k:i])    \n",
        "        return len(codewords)==2**k"
      ]
    }
  ]
}