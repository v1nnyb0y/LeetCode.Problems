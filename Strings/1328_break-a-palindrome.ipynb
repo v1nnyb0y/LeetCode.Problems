{
  "nbformat": 4,
  "nbformat_minor": 0,
  "metadata": {
    "colab": {
      "provenance": [],
      "authorship_tag": "ABX9TyONnvet8Hj88dOEcmIeSnC9",
      "include_colab_link": true
    },
    "kernelspec": {
      "name": "python3",
      "display_name": "Python 3"
    },
    "language_info": {
      "name": "python"
    }
  },
  "cells": [
    {
      "cell_type": "markdown",
      "metadata": {
        "id": "view-in-github",
        "colab_type": "text"
      },
      "source": [
        "<a href=\"https://colab.research.google.com/github/v1nnyb0y/leetcode/blob/master/Strings/1328_break-a-palindrome.ipynb\" target=\"_parent\"><img src=\"https://colab.research.google.com/assets/colab-badge.svg\" alt=\"Open In Colab\"/></a>"
      ]
    },
    {
      "cell_type": "code",
      "execution_count": null,
      "metadata": {
        "id": "fgmHj6H9PXW5"
      },
      "outputs": [],
      "source": [
        "class Solution:\n",
        "    def breakPalindrome(self, p):\n",
        "        return min((p[:i] + 'ba'[c > 'a'] + p[i+1:]\n",
        "                    for i, c in enumerate(p)\n",
        "                    if 2*i != len(p)-1),\n",
        "                   default='')\n",
        "        "
      ]
    }
  ]
}