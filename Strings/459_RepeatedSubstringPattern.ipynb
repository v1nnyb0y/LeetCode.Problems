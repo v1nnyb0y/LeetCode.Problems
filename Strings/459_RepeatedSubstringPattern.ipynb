{
  "nbformat": 4,
  "nbformat_minor": 0,
  "metadata": {
    "colab": {
      "name": "459.ipynb",
      "provenance": [],
      "collapsed_sections": [],
      "authorship_tag": "ABX9TyPfkR70TlpyqUs0+R2ccj8R",
      "include_colab_link": true
    },
    "kernelspec": {
      "name": "python3",
      "display_name": "Python 3"
    },
    "language_info": {
      "name": "python"
    }
  },
  "cells": [
    {
      "cell_type": "markdown",
      "metadata": {
        "id": "view-in-github",
        "colab_type": "text"
      },
      "source": [
        "<a href=\"https://colab.research.google.com/github/v1nnyb0y/leetcode/blob/master/Strings/459_RepeatedSubstringPattern.ipynb\" target=\"_parent\"><img src=\"https://colab.research.google.com/assets/colab-badge.svg\" alt=\"Open In Colab\"/></a>"
      ]
    },
    {
      "cell_type": "code",
      "execution_count": null,
      "metadata": {
        "id": "UsmtbLj8_oAc"
      },
      "outputs": [],
      "source": [
        "class Solution:\n",
        "    def repeatedSubstringPattern(self, s: str) -> bool:\n",
        "        substr = ''\n",
        "        for i in range(0, len(s) // 2):\n",
        "            substr += s[i]\n",
        "            if len(s.replace(substr, '')) == 0:\n",
        "                return True\n",
        "        return False"
      ]
    }
  ]
}