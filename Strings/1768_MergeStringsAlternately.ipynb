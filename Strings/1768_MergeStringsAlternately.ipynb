{
  "nbformat": 4,
  "nbformat_minor": 0,
  "metadata": {
    "colab": {
      "name": "1768.ipynb",
      "provenance": [],
      "authorship_tag": "ABX9TyMiMdJzjf8SibwWWHp3jWaF",
      "include_colab_link": true
    },
    "kernelspec": {
      "name": "python3",
      "display_name": "Python 3"
    },
    "language_info": {
      "name": "python"
    }
  },
  "cells": [
    {
      "cell_type": "markdown",
      "metadata": {
        "id": "view-in-github",
        "colab_type": "text"
      },
      "source": [
        "<a href=\"https://colab.research.google.com/github/v1nnyb0y/LeetCode.Problems/blob/master/Strings/1768_MergeStringsAlternately.ipynb\" target=\"_parent\"><img src=\"https://colab.research.google.com/assets/colab-badge.svg\" alt=\"Open In Colab\"/></a>"
      ]
    },
    {
      "cell_type": "code",
      "execution_count": 1,
      "metadata": {
        "colab": {
          "base_uri": "https://localhost:8080/",
          "height": 37
        },
        "id": "YqcNKjiXH2vP",
        "outputId": "7ce02bf0-f9ba-4f2a-ffbd-cb51a5178809"
      },
      "outputs": [
        {
          "output_type": "execute_result",
          "data": {
            "text/plain": [
              "'abcd'"
            ],
            "application/vnd.google.colaboratory.intrinsic+json": {
              "type": "string"
            }
          },
          "metadata": {},
          "execution_count": 1
        }
      ],
      "source": [
        "class Solution:\n",
        "    def mergeAlternately(self, word1: str, word2: str) -> str:\n",
        "        i = 0\n",
        "        res = ''\n",
        "        while i < len(word1) and i < len(word2):\n",
        "            res += word1[i]\n",
        "            res += word2[i]\n",
        "            i += 1\n",
        "            \n",
        "        if i < len(word1):\n",
        "            res += word1[i:]\n",
        "        elif i < len(word2):\n",
        "            res += word2[i:]\n",
        "        \n",
        "        return res\n",
        "        "
      ]
    }
  ]
}