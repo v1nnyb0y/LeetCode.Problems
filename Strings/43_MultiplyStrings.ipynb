{
  "nbformat": 4,
  "nbformat_minor": 0,
  "metadata": {
    "colab": {
      "name": "43.ipynb",
      "provenance": [],
      "authorship_tag": "ABX9TyNmvEPi8+HeTgfCNGzXs6dC",
      "include_colab_link": true
    },
    "kernelspec": {
      "name": "python3",
      "display_name": "Python 3"
    },
    "language_info": {
      "name": "python"
    }
  },
  "cells": [
    {
      "cell_type": "markdown",
      "metadata": {
        "id": "view-in-github",
        "colab_type": "text"
      },
      "source": [
        "<a href=\"https://colab.research.google.com/github/v1nnyb0y/leetcode/blob/master/Strings/43_MultiplyStrings.ipynb\" target=\"_parent\"><img src=\"https://colab.research.google.com/assets/colab-badge.svg\" alt=\"Open In Colab\"/></a>"
      ]
    },
    {
      "cell_type": "code",
      "execution_count": 15,
      "metadata": {
        "colab": {
          "base_uri": "https://localhost:8080/",
          "height": 71
        },
        "id": "0P62kvmZjYCh",
        "outputId": "304e98db-a1d4-47c6-a584-8dd50df411e4"
      },
      "outputs": [
        {
          "output_type": "stream",
          "name": "stdout",
          "text": [
            "89910 8991\n",
            "899100 52111\n"
          ]
        },
        {
          "output_type": "execute_result",
          "data": {
            "text/plain": [
              "'511211'"
            ],
            "application/vnd.google.colaboratory.intrinsic+json": {
              "type": "string"
            }
          },
          "metadata": {},
          "execution_count": 15
        }
      ],
      "source": [
        "class Solution:\n",
        "    def multiply(self, num1: str, num2: str) -> str:\n",
        "        if num1 == \"0\" or num2 == \"0\": \n",
        "            return \"0\"\n",
        "        \n",
        "        first_number = num1[::-1]\n",
        "        second_number = num2[::-1]\n",
        "        \n",
        "        results = []\n",
        "        for index, digit in enumerate(second_number):\n",
        "            results.append(self.multiply_one_digit(digit, index, first_number))\n",
        "        \n",
        "        answer = self.sum_results(results)\n",
        "\n",
        "        return ''.join(str(digit) for digit in reversed(answer))\n",
        "\n",
        "    def multiply_one_digit(self, digit2: str, num_zeros: int, first_number: List[str]) -> List[int]:\n",
        "        current_result = [0] * num_zeros\n",
        "        carry = 0\n",
        "\n",
        "        for digit1 in first_number:\n",
        "            multiplication = int(digit1) * int(digit2) + carry\n",
        "            carry = multiplication // 10\n",
        "            current_result.append(multiplication % 10)\n",
        "\n",
        "        if carry != 0:\n",
        "            current_result.append(carry)\n",
        "        return current_result\n",
        "    \n",
        "    def sum_results(self, results: List[List[int]]) -> List[int]:\n",
        "        answer = results.pop()\n",
        "\n",
        "        for result in results:\n",
        "            new_answer = []\n",
        "            carry = 0\n",
        "\n",
        "            for digit1, digit2 in zip_longest(result, answer, fillvalue=0):\n",
        "                curr_sum = digit1 + digit2 + carry\n",
        "                carry = curr_sum // 10\n",
        "                new_answer.append(curr_sum % 10)\n",
        "\n",
        "            if carry != 0:\n",
        "                new_answer.append(carry)\n",
        "\n",
        "            answer = new_answer\n",
        "\n",
        "        return answer"
      ]
    }
  ]
}