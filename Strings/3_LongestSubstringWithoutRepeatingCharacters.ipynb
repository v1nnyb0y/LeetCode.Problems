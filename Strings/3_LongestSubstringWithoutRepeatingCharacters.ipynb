{
  "nbformat": 4,
  "nbformat_minor": 0,
  "metadata": {
    "colab": {
      "name": "3.ipynb",
      "provenance": [],
      "authorship_tag": "ABX9TyOkcTdQWMP3wLrpZM6Z/NOZ",
      "include_colab_link": true
    },
    "kernelspec": {
      "name": "python3",
      "display_name": "Python 3"
    },
    "language_info": {
      "name": "python"
    }
  },
  "cells": [
    {
      "cell_type": "markdown",
      "metadata": {
        "id": "view-in-github",
        "colab_type": "text"
      },
      "source": [
        "<a href=\"https://colab.research.google.com/github/v1nnyb0y/leetcode/blob/master/Strings/3_LongestSubstringWithoutRepeatingCharacters.ipynb\" target=\"_parent\"><img src=\"https://colab.research.google.com/assets/colab-badge.svg\" alt=\"Open In Colab\"/></a>"
      ]
    },
    {
      "cell_type": "code",
      "execution_count": null,
      "metadata": {
        "id": "tISUgpWZqYfg"
      },
      "outputs": [],
      "source": [
        "class Solution:\n",
        "    def lengthOfLongestSubstring(self, s: str) -> int:\n",
        "        m, left,right, d, count = [0]*128, 0, 0, 0,0\n",
        "        while right < len(s):\n",
        "            if m[ord(s[right])] > 0: count = count + 1            \n",
        "            m[ord(s[right])] += 1\n",
        "            right=right+1\n",
        "            while count > 0:\n",
        "                if m[ord(s[left])] > 1: count-=1                \n",
        "                m[ord(s[left])] -= 1\n",
        "                left = left + 1      \n",
        "            d = max(d, right - left)\n",
        "        return d "
      ]
    }
  ]
}