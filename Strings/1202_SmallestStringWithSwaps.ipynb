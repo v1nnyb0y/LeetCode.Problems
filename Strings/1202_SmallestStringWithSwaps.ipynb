{
  "nbformat": 4,
  "nbformat_minor": 0,
  "metadata": {
    "colab": {
      "name": "1202.ipynb",
      "provenance": [],
      "authorship_tag": "ABX9TyNp4vXfdcALWxqqxUqvl4Bw",
      "include_colab_link": true
    },
    "kernelspec": {
      "name": "python3",
      "display_name": "Python 3"
    },
    "language_info": {
      "name": "python"
    }
  },
  "cells": [
    {
      "cell_type": "markdown",
      "metadata": {
        "id": "view-in-github",
        "colab_type": "text"
      },
      "source": [
        "<a href=\"https://colab.research.google.com/github/v1nnyb0y/leetcode/blob/master/Strings/1202_SmallestStringWithSwaps.ipynb\" target=\"_parent\"><img src=\"https://colab.research.google.com/assets/colab-badge.svg\" alt=\"Open In Colab\"/></a>"
      ]
    },
    {
      "cell_type": "code",
      "execution_count": null,
      "metadata": {
        "id": "bDi5yJXsF3LN"
      },
      "outputs": [],
      "source": [
        "class Solution:\n",
        "    def smallestStringWithSwaps(self, s: str, pairs: List[List[int]]) -> str:\n",
        "        n = len(s)\n",
        "        parent = list(range(n))\n",
        "        rank = [1]*n\n",
        "        def find(node):\n",
        "            if parent[node]!=node:\n",
        "                parent[node] = find(parent[node])\n",
        "            return parent[node]\n",
        "        def union(node1,node2):\n",
        "            p1,p2 = find(node1),find(node2)\n",
        "            if p1==p2:\n",
        "                return\n",
        "            if rank[p1]>rank[p2]:\n",
        "                p1,p2 = p2,p1\n",
        "            parent[p1] = p2\n",
        "            rank[p2] += rank[p1]\n",
        "        for n1,n2 in pairs:\n",
        "            union(n1,n2)\n",
        "        d = defaultdict(list)\n",
        "        for i in range(n):\n",
        "            d[find(i)].append(s[i])\n",
        "        for l in d.values():\n",
        "            l.sort(reverse=True)\n",
        "        ret = []\n",
        "        for i in range(n):\n",
        "            ret.append(d[find(i)].pop())\n",
        "        return ''.join(ret)"
      ]
    }
  ]
}