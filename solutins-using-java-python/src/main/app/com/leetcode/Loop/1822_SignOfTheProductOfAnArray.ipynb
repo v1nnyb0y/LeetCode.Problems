{
  "nbformat": 4,
  "nbformat_minor": 0,
  "metadata": {
    "colab": {
      "name": "1822.ipynb",
      "provenance": [],
      "authorship_tag": "ABX9TyPz/0keVWmgOxA+iK3eBLtd",
      "include_colab_link": true
    },
    "kernelspec": {
      "name": "python3",
      "display_name": "Python 3"
    },
    "language_info": {
      "name": "python"
    }
  },
  "cells": [
    {
      "cell_type": "markdown",
      "metadata": {
        "id": "view-in-github",
        "colab_type": "text"
      },
      "source": [
        "<a href=\"https://colab.research.google.com/github/v1nnyb0y/LeetCode.Problems/blob/master/Loop/1822_SignOfTheProductOfAnArray.ipynb\" target=\"_parent\"><img src=\"https://colab.research.google.com/assets/colab-badge.svg\" alt=\"Open In Colab\"/></a>"
      ]
    },
    {
      "cell_type": "code",
      "execution_count": null,
      "metadata": {
        "id": "VKcxJZ-NbNTc"
      },
      "outputs": [],
      "source": [
        "class Solution:\n",
        "    def arraySign(self, nums: List[int]) -> int:\n",
        "        p = 1\n",
        "        for i in nums:\n",
        "            p *= i\n",
        "        if p > 0:\n",
        "            return 1\n",
        "        elif p < 0:\n",
        "            return -1\n",
        "        else:\n",
        "            return 0"
      ]
    }
  ]
}