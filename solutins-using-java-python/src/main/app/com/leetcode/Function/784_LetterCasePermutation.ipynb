{
  "nbformat": 4,
  "nbformat_minor": 0,
  "metadata": {
    "colab": {
      "name": "784.ipynb",
      "provenance": [],
      "authorship_tag": "ABX9TyNWBSm5PD/kAl2Xr2wL9PI9",
      "include_colab_link": true
    },
    "kernelspec": {
      "name": "python3",
      "display_name": "Python 3"
    },
    "language_info": {
      "name": "python"
    }
  },
  "cells": [
    {
      "cell_type": "markdown",
      "metadata": {
        "id": "view-in-github",
        "colab_type": "text"
      },
      "source": [
        "<a href=\"https://colab.research.google.com/github/v1nnyb0y/leetcode/blob/master/Function/784_LetterCasePermutation.ipynb\" target=\"_parent\"><img src=\"https://colab.research.google.com/assets/colab-badge.svg\" alt=\"Open In Colab\"/></a>"
      ]
    },
    {
      "cell_type": "code",
      "execution_count": null,
      "metadata": {
        "id": "i0aFkzrU-YBl"
      },
      "outputs": [],
      "source": [
        "class Solution:\n",
        "    def letterCasePermutation(self, S: str) -> List[str]:\n",
        "        def bt(s, result, i, r):\n",
        "            if i == len(s): \n",
        "                result.append(r)\n",
        "            else:\n",
        "                if s[i].isalpha():\n",
        "                    bt(s, result, i+1, r+s[i])\n",
        "                    if s[i].islower():\n",
        "                        bt(s, result, i + 1, r + s[i].upper())\n",
        "                    else:\n",
        "                        bt(s, result, i + 1, r + s[i].lower())\n",
        "                else:\n",
        "                    bt(s, result, i + 1, r + s[i])\n",
        "        result = []\n",
        "        bt(S, result, 0, \"\")\n",
        "        return result"
      ]
    }
  ]
}