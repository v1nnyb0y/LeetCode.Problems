{
  "nbformat": 4,
  "nbformat_minor": 0,
  "metadata": {
    "colab": {
      "name": "77.ipynb",
      "provenance": [],
      "authorship_tag": "ABX9TyNi4rVy8DBTYi57/ybaY0Qk",
      "include_colab_link": true
    },
    "kernelspec": {
      "name": "python3",
      "display_name": "Python 3"
    },
    "language_info": {
      "name": "python"
    }
  },
  "cells": [
    {
      "cell_type": "markdown",
      "metadata": {
        "id": "view-in-github",
        "colab_type": "text"
      },
      "source": [
        "<a href=\"https://colab.research.google.com/github/v1nnyb0y/leetcode/blob/master/Function/77_Combinations.ipynb\" target=\"_parent\"><img src=\"https://colab.research.google.com/assets/colab-badge.svg\" alt=\"Open In Colab\"/></a>"
      ]
    },
    {
      "cell_type": "code",
      "execution_count": null,
      "metadata": {
        "id": "2l3mpg455o31"
      },
      "outputs": [],
      "source": [
        "class Solution:\n",
        "    def combine(self, n: int, k: int) -> List[List[int]]:\n",
        "        if k == 0:\n",
        "            return []\n",
        "        elif k == 1:\n",
        "            return [[i] for i in range(1,n+1)]\n",
        "        res = []\n",
        "        for tail in range(n,k-1,-1):\n",
        "            tmp = self.combine(tail-1, k-1)\n",
        "            for i in range(len(tmp)):\n",
        "                tmp[i].append(tail)\n",
        "            res += tmp\n",
        "        return res    "
      ]
    }
  ]
}