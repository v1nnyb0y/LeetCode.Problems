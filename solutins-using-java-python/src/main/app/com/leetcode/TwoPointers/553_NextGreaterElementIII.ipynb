{
  "nbformat": 4,
  "nbformat_minor": 0,
  "metadata": {
    "colab": {
      "name": "553.ipynb",
      "provenance": [],
      "authorship_tag": "ABX9TyMLRDC+eTIugKJexx4gU4T0",
      "include_colab_link": true
    },
    "kernelspec": {
      "name": "python3",
      "display_name": "Python 3"
    },
    "language_info": {
      "name": "python"
    }
  },
  "cells": [
    {
      "cell_type": "markdown",
      "metadata": {
        "id": "view-in-github",
        "colab_type": "text"
      },
      "source": [
        "<a href=\"https://colab.research.google.com/github/v1nnyb0y/leetcode/blob/master/TwoPointers/553_NextGreaterElementIII.ipynb\" target=\"_parent\"><img src=\"https://colab.research.google.com/assets/colab-badge.svg\" alt=\"Open In Colab\"/></a>"
      ]
    },
    {
      "cell_type": "code",
      "execution_count": null,
      "metadata": {
        "id": "YJ_0ZvrDbCqH"
      },
      "outputs": [],
      "source": [
        "class Solution:\n",
        "    def nextGreaterElement(self, n: int) -> int:\n",
        "        max_int = 2 ** 31 - 1\n",
        "        digits = list(str(n))\n",
        "\n",
        "        for i in range(len(digits)-2, -1, -1):\n",
        "            for j in range(len(digits)-1, i, -1):\n",
        "                if int(digits[i]) < int(digits[j]):\n",
        "                    digits[i], digits[j] = digits[j], digits[i]\n",
        "                    digits[i+1:] = list(sorted(digits[i+1:]))\n",
        "                    res = int(''.join(digits))\n",
        "                    return res if n < res <= max_int else -1\n",
        "        return -1"
      ]
    }
  ]
}