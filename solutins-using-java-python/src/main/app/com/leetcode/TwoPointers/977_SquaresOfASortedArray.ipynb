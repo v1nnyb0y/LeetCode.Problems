{
  "nbformat": 4,
  "nbformat_minor": 0,
  "metadata": {
    "colab": {
      "name": "977.ipynb",
      "provenance": [],
      "authorship_tag": "ABX9TyP2HZde/fcUxFXJbzKQi0ZR",
      "include_colab_link": true
    },
    "kernelspec": {
      "name": "python3",
      "display_name": "Python 3"
    },
    "language_info": {
      "name": "python"
    }
  },
  "cells": [
    {
      "cell_type": "markdown",
      "metadata": {
        "id": "view-in-github",
        "colab_type": "text"
      },
      "source": [
        "<a href=\"https://colab.research.google.com/github/v1nnyb0y/leetcode/blob/master/TwoPointers/977_SquaresOfASortedArray.ipynb\" target=\"_parent\"><img src=\"https://colab.research.google.com/assets/colab-badge.svg\" alt=\"Open In Colab\"/></a>"
      ]
    },
    {
      "cell_type": "code",
      "execution_count": null,
      "metadata": {
        "id": "DlD4XDe9UKgU"
      },
      "outputs": [],
      "source": [
        "class Solution:\n",
        "    def sortedSquares(self, nums: List[int]) -> List[int]:\n",
        "        l, r = 0, len(nums) - 1\n",
        "        while l < r:\n",
        "            nums[l] = nums[l] ** 2\n",
        "            nums[r] = nums[r] ** 2\n",
        "            l += 1\n",
        "            r -= 1\n",
        "        if l == r:\n",
        "            nums[l] = nums[l] ** 2\n",
        "        \n",
        "        nums.sort()\n",
        "        return nums"
      ]
    }
  ]
}