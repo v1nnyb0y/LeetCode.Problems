{
  "nbformat": 4,
  "nbformat_minor": 0,
  "metadata": {
    "colab": {
      "name": "844.ipynb",
      "provenance": [],
      "authorship_tag": "ABX9TyNht/1cBk2LpvhLZy/q6dph",
      "include_colab_link": true
    },
    "kernelspec": {
      "name": "python3",
      "display_name": "Python 3"
    },
    "language_info": {
      "name": "python"
    }
  },
  "cells": [
    {
      "cell_type": "markdown",
      "metadata": {
        "id": "view-in-github",
        "colab_type": "text"
      },
      "source": [
        "<a href=\"https://colab.research.google.com/github/v1nnyb0y/leetcode/blob/master/TwoPointers/844_BackspaceStringCompare.ipynb\" target=\"_parent\"><img src=\"https://colab.research.google.com/assets/colab-badge.svg\" alt=\"Open In Colab\"/></a>"
      ]
    },
    {
      "cell_type": "code",
      "execution_count": null,
      "metadata": {
        "id": "gF49QNjn-rs_"
      },
      "outputs": [],
      "source": [
        "class Solution:\n",
        "    def backspaceCompare(self, S: str, T: str) -> bool:\n",
        "        i = len(S) - 1\n",
        "        j = len(T) - 1        \n",
        "        ci = 0\n",
        "        cj = 0\n",
        "        \n",
        "        while i >= 0 or j >= 0:\n",
        "            while i >= 0:\n",
        "                if S[i] == \"#\":\n",
        "                    i -= 1\n",
        "                    ci +=1\n",
        "                elif ci > 0:\n",
        "                    i -= 1\n",
        "                    ci -= 1\n",
        "                else:\n",
        "                    break  \n",
        "                    \n",
        "            while j >= 0:\n",
        "                if T[j] == \"#\":\n",
        "                    j -= 1\n",
        "                    cj +=1\n",
        "                elif cj > 0:\n",
        "                    j -= 1\n",
        "                    cj -= 1\n",
        "                else:\n",
        "                    break\n",
        "                    \n",
        "            if i < 0: return j < 0            \n",
        "            if j < 0: return i < 0                \n",
        "            if S[i] != T[j]: return False\n",
        "            i -= 1\n",
        "            j -= 1             \n",
        "\n",
        "        return True"
      ]
    }
  ]
}