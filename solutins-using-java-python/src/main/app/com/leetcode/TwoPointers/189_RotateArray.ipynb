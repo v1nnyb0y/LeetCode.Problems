{
  "nbformat": 4,
  "nbformat_minor": 0,
  "metadata": {
    "colab": {
      "name": "189.ipynb",
      "provenance": [],
      "authorship_tag": "ABX9TyN2+DJxyCwhn3/JT9uGYKvm",
      "include_colab_link": true
    },
    "kernelspec": {
      "name": "python3",
      "display_name": "Python 3"
    },
    "language_info": {
      "name": "python"
    }
  },
  "cells": [
    {
      "cell_type": "markdown",
      "metadata": {
        "id": "view-in-github",
        "colab_type": "text"
      },
      "source": [
        "<a href=\"https://colab.research.google.com/github/v1nnyb0y/leetcode/blob/master/TwoPointers/189_RotateArray.ipynb\" target=\"_parent\"><img src=\"https://colab.research.google.com/assets/colab-badge.svg\" alt=\"Open In Colab\"/></a>"
      ]
    },
    {
      "cell_type": "code",
      "execution_count": null,
      "metadata": {
        "id": "L5I15Mo6U_-F"
      },
      "outputs": [],
      "source": [
        "class Solution:\n",
        "    def rotate(self, nums: List[int], k: int) -> None:\n",
        "        \"\"\"\n",
        "        Do not return anything, modify nums in-place instead.\n",
        "        \"\"\"\n",
        "        k %= len(nums)\n",
        "        if k == 0:\n",
        "            return\n",
        "        \n",
        "        l, r = 0, len(nums) - 1\n",
        "        while l < r:\n",
        "            nums[l], nums[r] = nums[r], nums[l]\n",
        "            l += 1\n",
        "            r -= 1\n",
        "        \n",
        "        l, r = 0, k - 1\n",
        "        while l < r:\n",
        "            nums[l], nums[r] = nums[r], nums[l]\n",
        "            l += 1\n",
        "            r -= 1\n",
        "        \n",
        "        l, r = k, len(nums) - 1\n",
        "        while l < r:\n",
        "            nums[l], nums[r] = nums[r], nums[l]\n",
        "            l += 1\n",
        "            r -= 1"
      ]
    }
  ]
}