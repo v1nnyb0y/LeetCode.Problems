{
  "nbformat": 4,
  "nbformat_minor": 0,
  "metadata": {
    "colab": {
      "name": "905.ipynb",
      "provenance": [],
      "authorship_tag": "ABX9TyO0BpLz5gJNQC+CI5fsuvsF",
      "include_colab_link": true
    },
    "kernelspec": {
      "name": "python3",
      "display_name": "Python 3"
    },
    "language_info": {
      "name": "python"
    }
  },
  "cells": [
    {
      "cell_type": "markdown",
      "metadata": {
        "id": "view-in-github",
        "colab_type": "text"
      },
      "source": [
        "<a href=\"https://colab.research.google.com/github/v1nnyb0y/leetcode/blob/master/TwoPointers/905_SortArrayByParity.ipynb\" target=\"_parent\"><img src=\"https://colab.research.google.com/assets/colab-badge.svg\" alt=\"Open In Colab\"/></a>"
      ]
    },
    {
      "cell_type": "code",
      "execution_count": null,
      "metadata": {
        "id": "E-ZsizhXVavr"
      },
      "outputs": [],
      "source": [
        "class Solution:\n",
        "    def sortArrayByParity(self, A: List[int]) -> List[int]:\n",
        "        i, j = 0, len(A) - 1\n",
        "        while i < j:\n",
        "            if A[i] % 2 > A[j] % 2:\n",
        "                A[i], A[j] = A[j], A[i]\n",
        "\n",
        "            if A[i] % 2 == 0: i += 1\n",
        "            if A[j] % 2 == 1: j -= 1\n",
        "\n",
        "        return A"
      ]
    }
  ]
}