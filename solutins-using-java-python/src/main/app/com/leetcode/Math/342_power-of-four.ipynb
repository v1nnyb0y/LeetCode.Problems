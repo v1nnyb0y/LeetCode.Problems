{
  "nbformat": 4,
  "nbformat_minor": 0,
  "metadata": {
    "colab": {
      "name": "342.ipynb",
      "provenance": [],
      "authorship_tag": "ABX9TyN+NLarZIEFAvYVMexjiG7/",
      "include_colab_link": true
    },
    "kernelspec": {
      "name": "python3",
      "display_name": "Python 3"
    },
    "language_info": {
      "name": "python"
    }
  },
  "cells": [
    {
      "cell_type": "markdown",
      "metadata": {
        "id": "view-in-github",
        "colab_type": "text"
      },
      "source": [
        "<a href=\"https://colab.research.google.com/github/v1nnyb0y/leetcode/blob/master/Math/342_power-of-four.ipynb\" target=\"_parent\"><img src=\"https://colab.research.google.com/assets/colab-badge.svg\" alt=\"Open In Colab\"/></a>"
      ]
    },
    {
      "cell_type": "code",
      "execution_count": null,
      "metadata": {
        "id": "7nPDYZgsyKnZ"
      },
      "outputs": [],
      "source": [
        "class Solution:\n",
        "    def isPowerOfFour(self, n: int) -> bool:\n",
        "        while n>=4:\n",
        "            if(n%4!=0):\n",
        "                return False\n",
        "            n=n/4\n",
        "        if(n==1):\n",
        "            return True"
      ]
    }
  ]
}