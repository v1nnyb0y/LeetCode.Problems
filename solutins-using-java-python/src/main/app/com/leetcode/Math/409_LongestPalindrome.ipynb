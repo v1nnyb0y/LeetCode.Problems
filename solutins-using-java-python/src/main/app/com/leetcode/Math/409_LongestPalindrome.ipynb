{
  "nbformat": 4,
  "nbformat_minor": 0,
  "metadata": {
    "colab": {
      "name": "409.ipynb",
      "provenance": [],
      "authorship_tag": "ABX9TyNJfMgo4yg8Jb452DU/kc25",
      "include_colab_link": true
    },
    "kernelspec": {
      "name": "python3",
      "display_name": "Python 3"
    },
    "language_info": {
      "name": "python"
    }
  },
  "cells": [
    {
      "cell_type": "markdown",
      "metadata": {
        "id": "view-in-github",
        "colab_type": "text"
      },
      "source": [
        "<a href=\"https://colab.research.google.com/github/v1nnyb0y/leetcode/blob/master/Math/409_LongestPalindrome.ipynb\" target=\"_parent\"><img src=\"https://colab.research.google.com/assets/colab-badge.svg\" alt=\"Open In Colab\"/></a>"
      ]
    },
    {
      "cell_type": "code",
      "execution_count": null,
      "metadata": {
        "id": "O2vruhTVedLr"
      },
      "outputs": [],
      "source": [
        "class Solution:\n",
        "    def longestPalindrome(self, s):\n",
        "        longestPalin = 0\n",
        "        counter = Counter(s)\n",
        "        addedOne = False\n",
        "        for c, freq in counter.items():\n",
        "            if freq % 2:\n",
        "                if not addedOne:\n",
        "                    longestPalin += freq\n",
        "                    addedOne = True\n",
        "                else:\n",
        "                    longestPalin += freq-1\n",
        "            else:\n",
        "                longestPalin += freq\n",
        "        return longestPalin"
      ]
    }
  ]
}