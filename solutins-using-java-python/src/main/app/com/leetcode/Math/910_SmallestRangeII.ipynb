{
  "nbformat": 4,
  "nbformat_minor": 0,
  "metadata": {
    "colab": {
      "name": "910.ipynb",
      "provenance": [],
      "authorship_tag": "ABX9TyODM1wqBF4B0H9aJmJQQglI",
      "include_colab_link": true
    },
    "kernelspec": {
      "name": "python3",
      "display_name": "Python 3"
    },
    "language_info": {
      "name": "python"
    }
  },
  "cells": [
    {
      "cell_type": "markdown",
      "metadata": {
        "id": "view-in-github",
        "colab_type": "text"
      },
      "source": [
        "<a href=\"https://colab.research.google.com/github/v1nnyb0y/leetcode/blob/master/Math/910_SmallestRangeII.ipynb\" target=\"_parent\"><img src=\"https://colab.research.google.com/assets/colab-badge.svg\" alt=\"Open In Colab\"/></a>"
      ]
    },
    {
      "cell_type": "code",
      "execution_count": null,
      "metadata": {
        "id": "9AE7cBA4KpnL"
      },
      "outputs": [],
      "source": [
        "class Solution:\n",
        "    def smallestRangeII(self, A: List[int], K: int) -> int:\n",
        "        A.sort()\n",
        "        mi, ma = A[0], A[-1]\n",
        "        ans = ma - mi\n",
        "        for i in range(len(A) - 1):\n",
        "            a, b = A[i], A[i+1]\n",
        "            ans = min(ans, max(ma-K, a+K) - min(mi+K, b-K))\n",
        "        return ans"
      ]
    }
  ]
}