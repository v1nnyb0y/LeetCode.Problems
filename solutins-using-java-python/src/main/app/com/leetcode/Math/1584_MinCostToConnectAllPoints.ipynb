{
  "nbformat": 4,
  "nbformat_minor": 0,
  "metadata": {
    "colab": {
      "name": "1584.ipynb",
      "provenance": [],
      "authorship_tag": "ABX9TyNQXOFSATBvVXARdk8LgbMw",
      "include_colab_link": true
    },
    "kernelspec": {
      "name": "python3",
      "display_name": "Python 3"
    },
    "language_info": {
      "name": "python"
    }
  },
  "cells": [
    {
      "cell_type": "markdown",
      "metadata": {
        "id": "view-in-github",
        "colab_type": "text"
      },
      "source": [
        "<a href=\"https://colab.research.google.com/github/v1nnyb0y/leetcode/blob/master/Math/1584_MinCostToConnectAllPoints.ipynb\" target=\"_parent\"><img src=\"https://colab.research.google.com/assets/colab-badge.svg\" alt=\"Open In Colab\"/></a>"
      ]
    },
    {
      "cell_type": "code",
      "execution_count": null,
      "metadata": {
        "id": "Ue3zohw9JbU5"
      },
      "outputs": [],
      "source": [
        "class UnionFind:\n",
        "    def __init__(self, size: int) -> None:\n",
        "        self.group = [0] * size\n",
        "        self.rank = [0] * size\n",
        "        \n",
        "        for i in range(size):\n",
        "            self.group[i] = i\n",
        " \n",
        "    def find(self, node: int) -> int:\n",
        "        if self.group[node] != node:\n",
        "            self.group[node] = self.find(self.group[node])\n",
        "        return self.group[node]\n",
        "\n",
        "    def join(self, node1: int, node2: int) -> bool:\n",
        "        group1 = self.find(node1)\n",
        "        group2 = self.find(node2)\n",
        "        \n",
        "        # node1 and node2 already belong to same group.\n",
        "        if group1 == group2:\n",
        "            return False\n",
        "\n",
        "        if self.rank[group1] > self.rank[group2]:\n",
        "            self.group[group2] = group1\n",
        "        elif self.rank[group1] < self.rank[group2]:\n",
        "            self.group[group1] = group2\n",
        "        else:\n",
        "            self.group[group1] = group2\n",
        "            self.rank[group2] += 1\n",
        "\n",
        "        return True\n",
        "    \n",
        "class Solution:\n",
        "    def minCostConnectPoints(self, points: List[List[int]]) -> int:\n",
        "        n = len(points)\n",
        "        all_edges = []\n",
        "        \n",
        "        # Storing all edges of our complete graph.\n",
        "        for curr_node in range(n): \n",
        "            for next_node in range(curr_node + 1, n): \n",
        "                weight = abs(points[curr_node][0] - points[next_node][0]) +\\\n",
        "                         abs(points[curr_node][1] - points[next_node][1])\n",
        "                all_edges.append((weight, curr_node, next_node))\n",
        "        # Sort all edges in increasing order.\n",
        "        all_edges.sort()\n",
        "        \n",
        "        uf = UnionFind(n)\n",
        "        mst_cost = 0\n",
        "        edges_used = 0\n",
        "        \n",
        "        for weight, node1, node2 in all_edges:\n",
        "            if uf.join(node1, node2):\n",
        "                mst_cost += weight\n",
        "                edges_used += 1\n",
        "                if edges_used == n - 1:\n",
        "                    break\n",
        "        return mst_cost"
      ]
    }
  ]
}