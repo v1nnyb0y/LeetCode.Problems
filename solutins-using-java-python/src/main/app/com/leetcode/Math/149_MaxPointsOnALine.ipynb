{
  "nbformat": 4,
  "nbformat_minor": 0,
  "metadata": {
    "colab": {
      "name": "149.ipynb",
      "provenance": [],
      "authorship_tag": "ABX9TyOL69h0b30D1VvHcJoFeVO4",
      "include_colab_link": true
    },
    "kernelspec": {
      "name": "python3",
      "display_name": "Python 3"
    },
    "language_info": {
      "name": "python"
    }
  },
  "cells": [
    {
      "cell_type": "markdown",
      "metadata": {
        "id": "view-in-github",
        "colab_type": "text"
      },
      "source": [
        "<a href=\"https://colab.research.google.com/github/v1nnyb0y/leetcode/blob/master/Math/149_MaxPointsOnALine.ipynb\" target=\"_parent\"><img src=\"https://colab.research.google.com/assets/colab-badge.svg\" alt=\"Open In Colab\"/></a>"
      ]
    },
    {
      "cell_type": "code",
      "execution_count": null,
      "metadata": {
        "id": "n8Ij311iI2er"
      },
      "outputs": [],
      "source": [
        "class Solution(object):\n",
        "    def maxPoints(self, points):\n",
        "        \"\"\"\n",
        "        :type points: List[List[int]]\n",
        "        :rtype: int\n",
        "        \"\"\"\n",
        "        def max_points_on_a_line_containing_point_i(i):\n",
        "            \"\"\"\n",
        "            Compute the max number of points\n",
        "            for a line containing point i.\n",
        "            \"\"\"\n",
        "            def slope_coprime(x1, y1, x2, y2):\n",
        "                \"\"\" to avoid the precision issue with the float/double number,\n",
        "                    using a pair of co-prime numbers to represent the slope.\n",
        "                \"\"\"\n",
        "                delta_x, delta_y = x1 - x2, y1 - y2\n",
        "                if delta_x == 0:    # vertical line\n",
        "                    return (0, 0)\n",
        "                elif delta_y == 0:  # horizontal line\n",
        "                    return (sys.maxsize, sys.maxsize)\n",
        "                elif delta_x < 0:\n",
        "                    # to have a consistent representation,\n",
        "                    #   keep the delta_x always positive.\n",
        "                    delta_x, delta_y = - delta_x, - delta_y\n",
        "                gcd = math.gcd(delta_x, delta_y)\n",
        "                slope = (delta_x / gcd, delta_y / gcd)\n",
        "                return slope\n",
        "\n",
        "\n",
        "            def add_line(i, j, count, duplicates):\n",
        "                \"\"\"\n",
        "                Add a line passing through i and j points.\n",
        "                Update max number of points on a line containing point i.\n",
        "                Update a number of duplicates of i point.\n",
        "                \"\"\"\n",
        "                # rewrite points as coordinates\n",
        "                x1 = points[i][0]\n",
        "                y1 = points[i][1]\n",
        "                x2 = points[j][0]\n",
        "                y2 = points[j][1]\n",
        "                # add a duplicate point\n",
        "                if x1 == x2 and y1 == y2:  \n",
        "                    duplicates += 1\n",
        "                # add a horisontal line : y = const\n",
        "                elif y1 == y2:\n",
        "                    nonlocal horizontal_lines\n",
        "                    horizontal_lines += 1\n",
        "                    count = max(horizontal_lines, count)\n",
        "                # add a line : x = slope * y + c\n",
        "                # only slope is needed for a hash-map\n",
        "                # since we always start from the same point\n",
        "                else:\n",
        "                    slope = slope_coprime(x1, y1, x2, y2)\n",
        "                    lines[slope] = lines.get(slope, 1) + 1\n",
        "                    count = max(lines[slope], count)\n",
        "                return count, duplicates\n",
        "            \n",
        "            # init lines passing through point i\n",
        "            lines, horizontal_lines = {}, 1\n",
        "            # One starts with just one point on a line : point i.\n",
        "            count = 1\n",
        "            # There is no duplicates of a point i so far.\n",
        "            duplicates = 0\n",
        "            # Compute lines passing through point i (fixed)\n",
        "            # and point j (interation).\n",
        "            # Update in a loop the number of points on a line\n",
        "            # and the number of duplicates of point i.\n",
        "            for j in range(i + 1, n):\n",
        "                count, duplicates = add_line(i, j, count, duplicates)\n",
        "            return count + duplicates\n",
        "            \n",
        "        # If the number of points is less than 3\n",
        "        # they are all on the same line.\n",
        "        n = len(points)\n",
        "        if n < 3:\n",
        "            return n\n",
        "        \n",
        "        max_count = 1\n",
        "        # Compute in a loop a max number of points \n",
        "        # on a line containing point i.\n",
        "        for i in range(n - 1):\n",
        "            max_count = max(max_points_on_a_line_containing_point_i(i), max_count)\n",
        "        return max_count"
      ]
    }
  ]
}