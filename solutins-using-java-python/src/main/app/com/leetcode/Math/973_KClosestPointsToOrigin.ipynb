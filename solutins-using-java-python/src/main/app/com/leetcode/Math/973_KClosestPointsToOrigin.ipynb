{
  "nbformat": 4,
  "nbformat_minor": 0,
  "metadata": {
    "colab": {
      "name": "973.ipynb",
      "provenance": [],
      "authorship_tag": "ABX9TyNz04WC2MoW8WIiRSEzBMit",
      "include_colab_link": true
    },
    "kernelspec": {
      "name": "python3",
      "display_name": "Python 3"
    },
    "language_info": {
      "name": "python"
    }
  },
  "cells": [
    {
      "cell_type": "markdown",
      "metadata": {
        "id": "view-in-github",
        "colab_type": "text"
      },
      "source": [
        "<a href=\"https://colab.research.google.com/github/v1nnyb0y/leetcode/blob/master/Math/973_KClosestPointsToOrigin.ipynb\" target=\"_parent\"><img src=\"https://colab.research.google.com/assets/colab-badge.svg\" alt=\"Open In Colab\"/></a>"
      ]
    },
    {
      "cell_type": "code",
      "execution_count": null,
      "metadata": {
        "id": "AK7j3qKiPrK4"
      },
      "outputs": [],
      "source": [
        "class Solution:\n",
        "    def kClosest(self, points: List[List[int]], k: int) -> List[List[int]]:\n",
        "        # Precompute the Euclidean distance for each point\n",
        "        distances = [self.euclidean_distance(point) for point in points]\n",
        "        # Create a reference list of point indices\n",
        "        remaining = [i for i in range(len(points))]\n",
        "        # Define the initial binary search range\n",
        "        low, high = 0, max(distances)\n",
        "        \n",
        "        # Perform a binary search of the distances\n",
        "        # to find the k closest points\n",
        "        closest = []\n",
        "        while k:\n",
        "            mid = (low + high) / 2\n",
        "            closer, farther = self.split_distances(remaining, distances, mid)\n",
        "            if len(closer) > k:\n",
        "                # If more than k points are in the closer distances\n",
        "                # then discard the farther points and continue\n",
        "                remaining = closer\n",
        "                high = mid\n",
        "            else:\n",
        "                # Add the closer points to the answer array and keep\n",
        "                # searching the farther distances for the remaining points\n",
        "                k -= len(closer)\n",
        "                closest.extend(closer)\n",
        "                remaining = farther\n",
        "                low = mid\n",
        "                \n",
        "        # Return the k closest points using the reference indices\n",
        "        return [points[i] for i in closest]\n",
        "\n",
        "    def split_distances(self, remaining: List[int], distances: List[float],\n",
        "                        mid: int) -> List[List[int]]:\n",
        "        \"\"\"Split the distances around the midpoint\n",
        "        and return them in separate lists.\"\"\"\n",
        "        closer, farther = [], []\n",
        "        for index in remaining:\n",
        "            if distances[index] <= mid:\n",
        "                closer.append(index)\n",
        "            else:\n",
        "                farther.append(index)\n",
        "        return [closer, farther]\n",
        "\n",
        "    def euclidean_distance(self, point: List[int]) -> float:\n",
        "        \"\"\"Calculate and return the squared Euclidean distance.\"\"\"\n",
        "        return point[0] ** 2 + point[1] ** 2"
      ]
    }
  ]
}