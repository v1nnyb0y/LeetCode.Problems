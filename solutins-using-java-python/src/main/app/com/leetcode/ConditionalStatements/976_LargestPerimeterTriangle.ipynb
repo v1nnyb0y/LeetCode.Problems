{
  "nbformat": 4,
  "nbformat_minor": 0,
  "metadata": {
    "colab": {
      "name": "976.ipynb",
      "provenance": [],
      "authorship_tag": "ABX9TyPdm57Gu/mJVjoxr9y+UNVG",
      "include_colab_link": true
    },
    "kernelspec": {
      "name": "python3",
      "display_name": "Python 3"
    },
    "language_info": {
      "name": "python"
    }
  },
  "cells": [
    {
      "cell_type": "markdown",
      "metadata": {
        "id": "view-in-github",
        "colab_type": "text"
      },
      "source": [
        "<a href=\"https://colab.research.google.com/github/v1nnyb0y/LeetCode.Problems/blob/master/ConditionalStatements/976_LargestPerimeterTriangle.ipynb\" target=\"_parent\"><img src=\"https://colab.research.google.com/assets/colab-badge.svg\" alt=\"Open In Colab\"/></a>"
      ]
    },
    {
      "cell_type": "code",
      "execution_count": null,
      "metadata": {
        "id": "7dwEcG5TXfHu"
      },
      "outputs": [],
      "source": [
        "class Solution:\n",
        "    def largestPerimeter(self, nums: List[int]) -> int:\n",
        "        A.sort()\n",
        "        for i in xrange(len(A) - 3, -1, -1):\n",
        "            if A[i] + A[i+1] > A[i+2]:\n",
        "                return A[i] + A[i+1] + A[i+2]\n",
        "        return 0"
      ]
    }
  ]
}