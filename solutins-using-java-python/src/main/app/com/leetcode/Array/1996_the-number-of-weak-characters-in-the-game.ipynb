{
  "nbformat": 4,
  "nbformat_minor": 0,
  "metadata": {
    "colab": {
      "provenance": [],
      "authorship_tag": "ABX9TyO1XhVGxpnjDbElchgb2qIJ",
      "include_colab_link": true
    },
    "kernelspec": {
      "name": "python3",
      "display_name": "Python 3"
    },
    "language_info": {
      "name": "python"
    }
  },
  "cells": [
    {
      "cell_type": "markdown",
      "metadata": {
        "id": "view-in-github",
        "colab_type": "text"
      },
      "source": [
        "<a href=\"https://colab.research.google.com/github/v1nnyb0y/leetcode/blob/master/Array/1996_the-number-of-weak-characters-in-the-game.ipynb\" target=\"_parent\"><img src=\"https://colab.research.google.com/assets/colab-badge.svg\" alt=\"Open In Colab\"/></a>"
      ]
    },
    {
      "cell_type": "code",
      "execution_count": null,
      "metadata": {
        "id": "BVWvL8QbntAD"
      },
      "outputs": [],
      "source": [
        "class Solution:\n",
        "\tdef numberOfWeakCharacters(self, properties: List[List[int]]) -> int:\n",
        "\n",
        "\t\tproperties = sorted(properties,key=lambda l:l[1], reverse=True)\n",
        "\n",
        "\t\tproperties = sorted(properties,key=lambda l:l[0])\n",
        "\n",
        "\t\tresult = 0\n",
        "\n",
        "\t\tlength = len(properties)\n",
        "\n",
        "\t\tcurrent_max_value = properties[length - 1][1]\n",
        "\n",
        "\t\tlength = length - 2\n",
        "\n",
        "\t\twhile length > -1:\n",
        "\n",
        "\t\t\tif properties[length][1] < current_max_value:\n",
        "\t\t\t\tresult = result + 1\n",
        "\n",
        "\t\t\telse:\n",
        "\t\t\t\tcurrent_max_value = properties[length][1]\n",
        "\n",
        "\t\t\tlength = length - 1\n",
        "\n",
        "\t\treturn result"
      ]
    }
  ]
}