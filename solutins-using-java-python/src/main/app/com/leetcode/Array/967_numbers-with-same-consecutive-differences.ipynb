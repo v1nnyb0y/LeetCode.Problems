{
  "nbformat": 4,
  "nbformat_minor": 0,
  "metadata": {
    "colab": {
      "provenance": [],
      "authorship_tag": "ABX9TyPgowhnVG7G1HrcdzhNfffM",
      "include_colab_link": true
    },
    "kernelspec": {
      "name": "python3",
      "display_name": "Python 3"
    },
    "language_info": {
      "name": "python"
    }
  },
  "cells": [
    {
      "cell_type": "markdown",
      "metadata": {
        "id": "view-in-github",
        "colab_type": "text"
      },
      "source": [
        "<a href=\"https://colab.research.google.com/github/v1nnyb0y/leetcode/blob/master/Array/967_numbers-with-same-consecutive-differences.ipynb\" target=\"_parent\"><img src=\"https://colab.research.google.com/assets/colab-badge.svg\" alt=\"Open In Colab\"/></a>"
      ]
    },
    {
      "cell_type": "code",
      "execution_count": null,
      "metadata": {
        "id": "Jv-maM-d6NU5"
      },
      "outputs": [],
      "source": [
        "class Solution:\n",
        "    def numsSameConsecDiff(self, N: int, K: int) -> List[int]:\n",
        "\n",
        "        # -------------------------------------------------\n",
        "        def dfs( N, K, cur_num):\n",
        "            \n",
        "            if N == 0:\n",
        "                # it is of n digits now, add current number to result\n",
        "                result.append( cur_num )\n",
        "                return\n",
        "            \n",
        "            last_digit = cur_num % 10\n",
        "            \n",
        "            if last_digit + K < 10:\n",
        "                \n",
        "                # next digit = last digit + K\n",
        "                next_num = 10 * cur_num + last_digit + K\n",
        "                dfs( N-1, K, next_num)\n",
        "            \n",
        "            if last_digit - K >= 0 and K != 0:\n",
        "                \n",
        "                # next digit = last digit - K\n",
        "                next_num = 10 * cur_num + last_digit - K\n",
        "                dfs( N-1, K, next_num)\n",
        "        # -------------------------------------------------        \n",
        "        \n",
        "        result = []\n",
        "        \n",
        "        if N == 1:\n",
        "            # special handle for corner case with N = 1\n",
        "            result.append( 0 )\n",
        "        \n",
        "        for digit in range(1, 10):\n",
        "            dfs( N-1, K, cur_num=digit)\n",
        "        \n",
        "        return result"
      ]
    }
  ]
}