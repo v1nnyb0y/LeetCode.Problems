{
  "nbformat": 4,
  "nbformat_minor": 0,
  "metadata": {
    "colab": {
      "name": "581.ipynb",
      "provenance": [],
      "authorship_tag": "ABX9TyONbVVjXrM1nvIdU4sQmsOB",
      "include_colab_link": true
    },
    "kernelspec": {
      "name": "python3",
      "display_name": "Python 3"
    },
    "language_info": {
      "name": "python"
    }
  },
  "cells": [
    {
      "cell_type": "markdown",
      "metadata": {
        "id": "view-in-github",
        "colab_type": "text"
      },
      "source": [
        "<a href=\"https://colab.research.google.com/github/v1nnyb0y/leetcode/blob/master/Array/581_ShortestUnsortedContiniousSubarray.ipynb\" target=\"_parent\"><img src=\"https://colab.research.google.com/assets/colab-badge.svg\" alt=\"Open In Colab\"/></a>"
      ]
    },
    {
      "cell_type": "code",
      "execution_count": null,
      "metadata": {
        "id": "zeX6p5P_QgGn"
      },
      "outputs": [],
      "source": [
        "class Solution(object):\n",
        "    def findUnsortedSubarray(self, nums):\n",
        "        if len(nums) <2:\n",
        "            return 0\n",
        "        \n",
        "        prev = nums[0]\n",
        "        end = 0\n",
        "\t\t# find the largest index not in place\n",
        "        for i in range(0, len(nums)):\n",
        "            if nums[i] < prev:\n",
        "                end = i\n",
        "            else:\n",
        "                prev = nums[i]\n",
        "\n",
        "        start = len(nums) - 1\n",
        "        prev = nums[start]\n",
        "\t\t# find the smallest index not in place\n",
        "        for i in range(len(nums)-1, -1, -1):\n",
        "            if prev < nums[i]:\n",
        "                start = i\n",
        "            else:\n",
        "                prev = nums[i]\n",
        "        if end != 0:\n",
        "            return end - start + 1\n",
        "        else: \n",
        "            return 0"
      ]
    }
  ]
}