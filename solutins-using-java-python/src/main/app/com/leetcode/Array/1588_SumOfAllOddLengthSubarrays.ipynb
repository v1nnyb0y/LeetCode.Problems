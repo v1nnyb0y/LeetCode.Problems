{
  "nbformat": 4,
  "nbformat_minor": 0,
  "metadata": {
    "colab": {
      "name": "1588.ipynb",
      "provenance": [],
      "authorship_tag": "ABX9TyMLG14SJsb0/+qwN5VwGiGp",
      "include_colab_link": true
    },
    "kernelspec": {
      "name": "python3",
      "display_name": "Python 3"
    },
    "language_info": {
      "name": "python"
    }
  },
  "cells": [
    {
      "cell_type": "markdown",
      "metadata": {
        "id": "view-in-github",
        "colab_type": "text"
      },
      "source": [
        "<a href=\"https://colab.research.google.com/github/v1nnyb0y/LeetCode.Problems/blob/master/Array/1588_SumOfAllOddLengthSubarrays.ipynb\" target=\"_parent\"><img src=\"https://colab.research.google.com/assets/colab-badge.svg\" alt=\"Open In Colab\"/></a>"
      ]
    },
    {
      "cell_type": "code",
      "execution_count": null,
      "metadata": {
        "id": "luwS80C3BTqV"
      },
      "outputs": [],
      "source": [
        "class Solution:\n",
        "    def sumOddLengthSubarrays(self, arr: List[int]) -> int:\n",
        "        final_sum = 0\n",
        "        for i in range(len(arr)):\n",
        "            for j in range(len(arr) + 1):\n",
        "                sliced = arr[:j]\n",
        "                if len(sliced) % 2 == 1:\n",
        "                    final_sum += sum(sliced)\n",
        "                if j == len(arr):\n",
        "                    arr.pop(0)\n",
        "\n",
        "        return final_sum"
      ]
    }
  ]
}