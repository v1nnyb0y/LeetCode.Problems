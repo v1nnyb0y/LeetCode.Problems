{
  "nbformat": 4,
  "nbformat_minor": 0,
  "metadata": {
    "colab": {
      "name": "871.ipynb",
      "provenance": [],
      "authorship_tag": "ABX9TyMgSsxDsyl5SYyh8zBCCj3w",
      "include_colab_link": true
    },
    "kernelspec": {
      "name": "python3",
      "display_name": "Python 3"
    },
    "language_info": {
      "name": "python"
    }
  },
  "cells": [
    {
      "cell_type": "markdown",
      "metadata": {
        "id": "view-in-github",
        "colab_type": "text"
      },
      "source": [
        "<a href=\"https://colab.research.google.com/github/v1nnyb0y/leetcode/blob/master/Array/871_minimum-number-of-refueling-stops.ipynb\" target=\"_parent\"><img src=\"https://colab.research.google.com/assets/colab-badge.svg\" alt=\"Open In Colab\"/></a>"
      ]
    },
    {
      "cell_type": "code",
      "execution_count": null,
      "metadata": {
        "id": "49t0M5azAAxi"
      },
      "outputs": [],
      "source": [
        "class Solution:\n",
        "    def minRefuelStops(self, target, startFuel, stations):\n",
        "        #Add target location as a station\n",
        "        stations = stations + [(target, 0)]\n",
        "        \n",
        "        #Encode use status of stations\n",
        "        NOT_USED, USED = 0, 1\n",
        "        \n",
        "        #Priority queue (will be sorted manually below)\n",
        "        pq, pqsum = [[USED, startFuel]], startFuel\n",
        "        \n",
        "        for x, y in stations:\n",
        "            #If this happens the station is unreachable\n",
        "            if pqsum < x:\n",
        "                return -1\n",
        "            \n",
        "            #Use only the stations with maximum available gas\n",
        "            tmp, tmpsum = [], 0\n",
        "            while tmpsum < x:\n",
        "                tx, ty = pq.pop()\n",
        "                tmp.append([USED, ty]) #mark the station as used\n",
        "                tmpsum += ty\n",
        "            \n",
        "            while tmp:\n",
        "                tx, ty = tmp.pop()\n",
        "                pq.append((tx, ty)) #add all the used stations back to pq   \n",
        "            pq.append((NOT_USED, y)) #add current station to pq\n",
        "            pq.sort() #sort based on USE and available gas\n",
        "            pqsum += y #update total sum\n",
        "        \n",
        "        return sum((x for x, _ in list(pq))) - 1 #subtract one in order not to count start "
      ]
    }
  ]
}