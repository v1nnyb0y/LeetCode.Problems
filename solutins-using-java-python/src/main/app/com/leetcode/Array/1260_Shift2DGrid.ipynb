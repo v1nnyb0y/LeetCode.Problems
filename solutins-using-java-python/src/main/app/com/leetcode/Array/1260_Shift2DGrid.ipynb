{
  "nbformat": 4,
  "nbformat_minor": 0,
  "metadata": {
    "colab": {
      "name": "1260.ipynb",
      "provenance": [],
      "authorship_tag": "ABX9TyMvXLWnvfvEpIt/tMmNtfvO",
      "include_colab_link": true
    },
    "kernelspec": {
      "name": "python3",
      "display_name": "Python 3"
    },
    "language_info": {
      "name": "python"
    }
  },
  "cells": [
    {
      "cell_type": "markdown",
      "metadata": {
        "id": "view-in-github",
        "colab_type": "text"
      },
      "source": [
        "<a href=\"https://colab.research.google.com/github/v1nnyb0y/leetcode/blob/master/Array/1260_Shift2DGrid.ipynb\" target=\"_parent\"><img src=\"https://colab.research.google.com/assets/colab-badge.svg\" alt=\"Open In Colab\"/></a>"
      ]
    },
    {
      "cell_type": "code",
      "execution_count": null,
      "metadata": {
        "id": "07FKJT-lkPWX"
      },
      "outputs": [],
      "source": [
        "class Solution:\n",
        "    def shiftGrid(self, grid: List[List[int]], k: int) -> List[List[int]]:\n",
        "        n = len(grid)\n",
        "        m = len(grid[0])\n",
        "        all = [] #all numbers  in one list\n",
        "        for i in grid:\n",
        "            all.extend(i)\n",
        "        k = k % len(all) # shift\n",
        "        k\n",
        "        all = all[-k:] + all[:-k]\n",
        "        g = []\n",
        "        for i in range(n):\n",
        "            g.append(all[i*m:m+i*m])\n",
        "        return g"
      ]
    }
  ]
}