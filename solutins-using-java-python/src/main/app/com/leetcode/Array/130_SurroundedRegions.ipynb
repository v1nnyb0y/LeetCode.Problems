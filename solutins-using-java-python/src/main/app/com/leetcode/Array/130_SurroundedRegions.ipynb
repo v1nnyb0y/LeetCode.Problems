{
  "nbformat": 4,
  "nbformat_minor": 0,
  "metadata": {
    "colab": {
      "name": "130.ipynb",
      "provenance": [],
      "authorship_tag": "ABX9TyNUoUuGVYn4N6IR1uJe6UXt",
      "include_colab_link": true
    },
    "kernelspec": {
      "name": "python3",
      "display_name": "Python 3"
    },
    "language_info": {
      "name": "python"
    }
  },
  "cells": [
    {
      "cell_type": "markdown",
      "metadata": {
        "id": "view-in-github",
        "colab_type": "text"
      },
      "source": [
        "<a href=\"https://colab.research.google.com/github/v1nnyb0y/leetcode/blob/master/Array/130_SurroundedRegions.ipynb\" target=\"_parent\"><img src=\"https://colab.research.google.com/assets/colab-badge.svg\" alt=\"Open In Colab\"/></a>"
      ]
    },
    {
      "cell_type": "code",
      "execution_count": null,
      "metadata": {
        "id": "FtFMICP7jqXc"
      },
      "outputs": [],
      "source": [
        "class Solution:\n",
        "    def solve(self, board: List[List[str]]) -> None:\n",
        "        \"\"\"\n",
        "        Do not return anything, modify board in-place instead.\n",
        "        \"\"\"\n",
        "        if not board:\n",
        "            return board\n",
        "        n = len(board)\n",
        "        m = len(board[0])\n",
        "        self.visited = [[False for j in range(m)] for i in range(n)]\n",
        "        self.board = board\n",
        "        self.m = m\n",
        "        self.n = n\n",
        "        for i in range(n):\n",
        "            if self.board[i][0] == \"O\" and not self.visited[i][0]:\n",
        "                self.dfs(i,0)\n",
        "            if self.board[i][m-1] == \"O\" and not self.visited[i][m-1]:\n",
        "                self.dfs(i,m-1)\n",
        "                \n",
        "        for j in range(m):\n",
        "            if self.board[0][j] == \"O\" and not self.visited[0][j]:\n",
        "                self.dfs(0,j)\n",
        "            if self.board[n-1][j] == \"O\" and not self.visited[n-1][j]:\n",
        "                self.dfs(n-1,j)\n",
        "        self.replace_c(\"O\", \"X\")\n",
        "        self.replace_c(\"*\",\"O\")\n",
        "        return self.board\n",
        "\n",
        "        \n",
        "    def dfs(self, i,j):\n",
        "        q = [(i,j)]\n",
        "        while q:\n",
        "            cur = q.pop(0)\n",
        "            i,j = cur[0], cur[1]\n",
        "            self.visited[i][j] = True\n",
        "            self.board[i][j] = \"*\"\n",
        "            for u,v in [(i-1,j),(i+1,j),(i,j-1),(i,j+1)]:\n",
        "                if 0<= u < self.n and 0<= v < self.m and self.board[u][v] == \"O\" and not self.visited[u][v]:\n",
        "                    self.visited[u][v] = True\n",
        "                    q.append((u,v))\n",
        "                    \n",
        "    def replace_c(self, s,t):\n",
        "        for i in range(self.n):\n",
        "            for j in range(self.m):\n",
        "                if self.board[i][j] == s:\n",
        "                    self.board[i][j] =t"
      ]
    }
  ]
}