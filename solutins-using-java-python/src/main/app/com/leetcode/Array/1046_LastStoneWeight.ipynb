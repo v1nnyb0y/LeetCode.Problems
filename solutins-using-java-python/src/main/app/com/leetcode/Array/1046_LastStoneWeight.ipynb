{
  "nbformat": 4,
  "nbformat_minor": 0,
  "metadata": {
    "colab": {
      "name": "1046.ipynb",
      "provenance": [],
      "authorship_tag": "ABX9TyNkTHQvkatD//WkzK+9dmcS",
      "include_colab_link": true
    },
    "kernelspec": {
      "name": "python3",
      "display_name": "Python 3"
    },
    "language_info": {
      "name": "python"
    }
  },
  "cells": [
    {
      "cell_type": "markdown",
      "metadata": {
        "id": "view-in-github",
        "colab_type": "text"
      },
      "source": [
        "<a href=\"https://colab.research.google.com/github/v1nnyb0y/leetcode/blob/master/Array/1046_LastStoneWeight.ipynb\" target=\"_parent\"><img src=\"https://colab.research.google.com/assets/colab-badge.svg\" alt=\"Open In Colab\"/></a>"
      ]
    },
    {
      "cell_type": "code",
      "execution_count": 4,
      "metadata": {
        "colab": {
          "base_uri": "https://localhost:8080/"
        },
        "id": "2kLVQrEQigAZ",
        "outputId": "fcf3dac8-9430-49b5-943f-c4093a05da94"
      },
      "outputs": [
        {
          "output_type": "stream",
          "name": "stdout",
          "text": [
            "[1, 1, 2, 4, 7, 8]\n",
            "[1, 1, 1, 2, 4]\n",
            "[1, 1, 1, 2]\n",
            "[1, 1, 1]\n",
            "1\n"
          ]
        }
      ],
      "source": [
        "class Solution:\n",
        "    def lastStoneWeight(self, stones: List[int]) -> int:\n",
        "        while len(stones) > 1:\n",
        "            stones.sort()\n",
        "            \n",
        "            xIndex = len(stones) - 2\n",
        "            yIndex = len(stones) - 1\n",
        "            x = stones[xIndex]\n",
        "            y = stones[yIndex]\n",
        "            \n",
        "            if x == y:\n",
        "                stones = stones[:xIndex]\n",
        "            else:\n",
        "                stones[xIndex] = stones[yIndex] - stones[xIndex]\n",
        "                stones = stones[:yIndex]\n",
        "            \n",
        "            \n",
        "        return stones[0] if len(stones) == 1 else 0"
      ]
    }
  ]
}