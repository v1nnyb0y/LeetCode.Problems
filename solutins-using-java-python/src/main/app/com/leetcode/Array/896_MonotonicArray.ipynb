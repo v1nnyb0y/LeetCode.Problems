{
  "nbformat": 4,
  "nbformat_minor": 0,
  "metadata": {
    "colab": {
      "name": "896.ipynb",
      "provenance": [],
      "collapsed_sections": [],
      "authorship_tag": "ABX9TyMJX9uTi4XUh+3H1gsML1Mv",
      "include_colab_link": true
    },
    "kernelspec": {
      "name": "python3",
      "display_name": "Python 3"
    },
    "language_info": {
      "name": "python"
    }
  },
  "cells": [
    {
      "cell_type": "markdown",
      "metadata": {
        "id": "view-in-github",
        "colab_type": "text"
      },
      "source": [
        "<a href=\"https://colab.research.google.com/github/v1nnyb0y/leetcode/blob/master/Array/896_MonotonicArray.ipynb\" target=\"_parent\"><img src=\"https://colab.research.google.com/assets/colab-badge.svg\" alt=\"Open In Colab\"/></a>"
      ]
    },
    {
      "cell_type": "code",
      "execution_count": null,
      "metadata": {
        "id": "21zKdmaJy6B7"
      },
      "outputs": [],
      "source": [
        "class Solution:\n",
        "    def isMonotonic(self, nums: List[int]) -> bool:\n",
        "        return (all(nums[i] <= nums[i+1] for i in range(len(nums) - 1)) or\n",
        "                all(nums[i] >= nums[i+1] for i in range(len(nums) - 1)))"
      ]
    }
  ]
}