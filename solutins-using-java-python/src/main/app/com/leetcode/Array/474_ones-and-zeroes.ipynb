{
  "nbformat": 4,
  "nbformat_minor": 0,
  "metadata": {
    "colab": {
      "name": "474.ipynb",
      "provenance": [],
      "authorship_tag": "ABX9TyP9mRN/cI/FqdRZQgURTpRp",
      "include_colab_link": true
    },
    "kernelspec": {
      "name": "python3",
      "display_name": "Python 3"
    },
    "language_info": {
      "name": "python"
    }
  },
  "cells": [
    {
      "cell_type": "markdown",
      "metadata": {
        "id": "view-in-github",
        "colab_type": "text"
      },
      "source": [
        "<a href=\"https://colab.research.google.com/github/v1nnyb0y/leetcode/blob/master/Array/474_ones-and-zeroes.ipynb\" target=\"_parent\"><img src=\"https://colab.research.google.com/assets/colab-badge.svg\" alt=\"Open In Colab\"/></a>"
      ]
    },
    {
      "cell_type": "code",
      "execution_count": null,
      "metadata": {
        "id": "xhZ5m4vx3TWc"
      },
      "outputs": [],
      "source": [
        "class Solution:\n",
        "    def findMaxForm(self, strs: List[str], m: int, n: int) -> int:\n",
        "        counts = []\n",
        "        for s in strs:\n",
        "            c = Counter(s)\n",
        "            counts.append((c['0'], c['1']))\n",
        "\n",
        "        @lru_cache(None)\n",
        "        def findmax(i, l, o):\n",
        "            if l == 0 == o or i >= len(counts): return 0\n",
        "            excl = findmax(i+1, l, o)\n",
        "            zeros, ones = counts[i]\n",
        "            if l >= zeros and o >= ones:\n",
        "                incl = 1 + findmax(i+1, l-zeros, o-ones)\n",
        "                return max(excl, incl)\n",
        "            return excl\n",
        "\n",
        "        return findmax(0, m, n)\n",
        "\n"
      ]
    }
  ]
}