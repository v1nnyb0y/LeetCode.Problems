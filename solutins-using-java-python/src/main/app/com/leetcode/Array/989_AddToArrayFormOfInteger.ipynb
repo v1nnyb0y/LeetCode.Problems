{
  "nbformat": 4,
  "nbformat_minor": 0,
  "metadata": {
    "colab": {
      "name": "989.ipynb",
      "provenance": [],
      "authorship_tag": "ABX9TyOpetjuy5AkkFaUTQugD2Zj",
      "include_colab_link": true
    },
    "kernelspec": {
      "name": "python3",
      "display_name": "Python 3"
    },
    "language_info": {
      "name": "python"
    }
  },
  "cells": [
    {
      "cell_type": "markdown",
      "metadata": {
        "id": "view-in-github",
        "colab_type": "text"
      },
      "source": [
        "<a href=\"https://colab.research.google.com/github/v1nnyb0y/leetcode/blob/master/Array/989_AddToArrayFormOfInteger.ipynb\" target=\"_parent\"><img src=\"https://colab.research.google.com/assets/colab-badge.svg\" alt=\"Open In Colab\"/></a>"
      ]
    },
    {
      "cell_type": "code",
      "execution_count": 8,
      "metadata": {
        "colab": {
          "base_uri": "https://localhost:8080/"
        },
        "id": "TeeCK2gbwvij",
        "outputId": "53c9ff36-bd0b-45fc-9bd9-9998eb609ddd"
      },
      "outputs": [
        {
          "output_type": "stream",
          "name": "stdout",
          "text": [
            "0 10\n",
            "2 100\n",
            "1 1000\n",
            "[1, 2, 3, 4]\n"
          ]
        }
      ],
      "source": [
        "class Solution:\n",
        "    def addToArrayForm(self, num: List[int], k: int) -> List[int]:\n",
        "        i = 1\n",
        "        numInt = num.pop()\n",
        "        while len(num) != 0:\n",
        "            numInt += num.pop() * 10 * i\n",
        "            i *= 10\n",
        "        \n",
        "        return [int(x) for x in str(numInt + k)]"
      ]
    }
  ]
}