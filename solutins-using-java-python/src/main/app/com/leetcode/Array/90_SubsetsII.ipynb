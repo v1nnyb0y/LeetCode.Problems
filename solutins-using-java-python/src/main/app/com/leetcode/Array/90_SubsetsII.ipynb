{
  "nbformat": 4,
  "nbformat_minor": 0,
  "metadata": {
    "colab": {
      "name": "90.ipynb",
      "provenance": [],
      "authorship_tag": "ABX9TyMz7V5q6G7jIn6eiecHm+if",
      "include_colab_link": true
    },
    "kernelspec": {
      "name": "python3",
      "display_name": "Python 3"
    },
    "language_info": {
      "name": "python"
    }
  },
  "cells": [
    {
      "cell_type": "markdown",
      "metadata": {
        "id": "view-in-github",
        "colab_type": "text"
      },
      "source": [
        "<a href=\"https://colab.research.google.com/github/v1nnyb0y/leetcode/blob/master/Array/90_SubsetsII.ipynb\" target=\"_parent\"><img src=\"https://colab.research.google.com/assets/colab-badge.svg\" alt=\"Open In Colab\"/></a>"
      ]
    },
    {
      "cell_type": "code",
      "execution_count": null,
      "metadata": {
        "id": "mNVlxRcxTh1K"
      },
      "outputs": [],
      "source": [
        "class Solution:\n",
        "    def subsetsWithDup(self, nums: List[int]) -> List[List[int]]:\n",
        "        res = [[]]\n",
        "        for n, frequency in collections.Counter(nums).items():\n",
        "            res += [r+[n]*i for r in res for i in range(1, frequency+1)]\n",
        "        return res"
      ]
    }
  ]
}