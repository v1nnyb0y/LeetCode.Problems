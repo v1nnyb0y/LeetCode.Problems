{
  "nbformat": 4,
  "nbformat_minor": 0,
  "metadata": {
    "colab": {
      "name": "566.ipynb",
      "provenance": [],
      "authorship_tag": "ABX9TyPrSn8c2102ioi8+W/BbW5p",
      "include_colab_link": true
    },
    "kernelspec": {
      "name": "python3",
      "display_name": "Python 3"
    },
    "language_info": {
      "name": "python"
    }
  },
  "cells": [
    {
      "cell_type": "markdown",
      "metadata": {
        "id": "view-in-github",
        "colab_type": "text"
      },
      "source": [
        "<a href=\"https://colab.research.google.com/github/v1nnyb0y/LeetCode.Problems/blob/master/Array/566_ReshapeTheMatrix.ipynb\" target=\"_parent\"><img src=\"https://colab.research.google.com/assets/colab-badge.svg\" alt=\"Open In Colab\"/></a>"
      ]
    },
    {
      "cell_type": "code",
      "execution_count": null,
      "metadata": {
        "id": "QjihgacLG5Jo"
      },
      "outputs": [],
      "source": [
        "class Solution:\n",
        "    def matrixReshape(self, mat: List[List[int]], r: int, c: int) -> List[List[int]]:\n",
        "        num_rows = len(mat)\n",
        "        num_cols = len(mat[0])\n",
        "        \n",
        "        # reshaped matrix impossible\n",
        "        if num_rows * num_cols != r * c:\n",
        "            return mat\n",
        "        \n",
        "        \n",
        "        new_mat = [[0 for col in range(c)] for row in range(r)]\n",
        "        row = 0\n",
        "        col = 0\n",
        "        count = 0\n",
        "        for new_row in range(r):\n",
        "            for new_col in range(c):\n",
        "                new_row, new_col = divmod(count, c)\n",
        "                row, col = divmod(count, num_cols)\n",
        "                \n",
        "                new_mat[new_row][new_col] = mat[row][col]    \n",
        "                count += 1\n",
        "                \n",
        "        return new_mat"
      ]
    }
  ]
}