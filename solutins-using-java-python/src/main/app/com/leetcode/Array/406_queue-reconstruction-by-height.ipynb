{
  "nbformat": 4,
  "nbformat_minor": 0,
  "metadata": {
    "colab": {
      "name": "406.ipynb",
      "provenance": [],
      "authorship_tag": "ABX9TyNyY6rt9W8BGaRhftq1Ka36",
      "include_colab_link": true
    },
    "kernelspec": {
      "name": "python3",
      "display_name": "Python 3"
    },
    "language_info": {
      "name": "python"
    }
  },
  "cells": [
    {
      "cell_type": "markdown",
      "metadata": {
        "id": "view-in-github",
        "colab_type": "text"
      },
      "source": [
        "<a href=\"https://colab.research.google.com/github/v1nnyb0y/leetcode/blob/master/Array/406_queue-reconstruction-by-height.ipynb\" target=\"_parent\"><img src=\"https://colab.research.google.com/assets/colab-badge.svg\" alt=\"Open In Colab\"/></a>"
      ]
    },
    {
      "cell_type": "code",
      "execution_count": null,
      "metadata": {
        "id": "k1EN8BMV5TuR"
      },
      "outputs": [],
      "source": [
        "class Solution:\n",
        "    def reconstructQueue(self, people: List[List[int]]) -> List[List[int]]:\n",
        "        people.sort(key=lambda x: (-x[0], x[1]))\n",
        "        out = []\n",
        "        for person in people:\n",
        "            out.insert(person[1], person)\n",
        "        return out"
      ]
    }
  ]
}