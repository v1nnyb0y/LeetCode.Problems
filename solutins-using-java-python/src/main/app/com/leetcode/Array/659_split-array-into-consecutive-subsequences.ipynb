{
  "nbformat": 4,
  "nbformat_minor": 0,
  "metadata": {
    "colab": {
      "name": "659.ipynb",
      "provenance": [],
      "authorship_tag": "ABX9TyNg+e+qHsZ7DVcsgtKuPVAc",
      "include_colab_link": true
    },
    "kernelspec": {
      "name": "python3",
      "display_name": "Python 3"
    },
    "language_info": {
      "name": "python"
    }
  },
  "cells": [
    {
      "cell_type": "markdown",
      "metadata": {
        "id": "view-in-github",
        "colab_type": "text"
      },
      "source": [
        "<a href=\"https://colab.research.google.com/github/v1nnyb0y/leetcode/blob/master/Array/659_split-array-into-consecutive-subsequences.ipynb\" target=\"_parent\"><img src=\"https://colab.research.google.com/assets/colab-badge.svg\" alt=\"Open In Colab\"/></a>"
      ]
    },
    {
      "cell_type": "code",
      "execution_count": null,
      "metadata": {
        "id": "NOHSPSLLepeZ"
      },
      "outputs": [],
      "source": [
        "class Solution:\n",
        "    def isPossible(self, A):\n",
        "        left = collections.Counter(A)\n",
        "        end = collections.Counter()\n",
        "        for i in A:\n",
        "            if not left[i]: continue\n",
        "            left[i] -= 1\n",
        "            if end[i - 1] > 0:\n",
        "                end[i - 1] -= 1\n",
        "                end[i] += 1\n",
        "            elif left[i + 1] and left[i + 2]:\n",
        "                left[i + 1] -= 1\n",
        "                left[i + 2] -= 1\n",
        "                end[i + 2] += 1\n",
        "            else:\n",
        "                return False\n",
        "        return True\n",
        "        "
      ]
    }
  ]
}