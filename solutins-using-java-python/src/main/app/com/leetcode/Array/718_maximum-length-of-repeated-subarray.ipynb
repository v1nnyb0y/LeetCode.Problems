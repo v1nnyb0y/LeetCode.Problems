{
  "nbformat": 4,
  "nbformat_minor": 0,
  "metadata": {
    "colab": {
      "provenance": [],
      "authorship_tag": "ABX9TyPjPpiGr2lVynaA8u5Zp1up",
      "include_colab_link": true
    },
    "kernelspec": {
      "name": "python3",
      "display_name": "Python 3"
    },
    "language_info": {
      "name": "python"
    }
  },
  "cells": [
    {
      "cell_type": "markdown",
      "metadata": {
        "id": "view-in-github",
        "colab_type": "text"
      },
      "source": [
        "<a href=\"https://colab.research.google.com/github/v1nnyb0y/leetcode/blob/master/Array/718_maximum-length-of-repeated-subarray.ipynb\" target=\"_parent\"><img src=\"https://colab.research.google.com/assets/colab-badge.svg\" alt=\"Open In Colab\"/></a>"
      ]
    },
    {
      "cell_type": "code",
      "execution_count": null,
      "metadata": {
        "id": "9CIOzLnAMgOI"
      },
      "outputs": [],
      "source": [
        "class Solution:\n",
        "    def findLength(self, A, B):\n",
        "        A, B = bytes(A), bytes(B)\n",
        "        lo, hi = 0, len(A)\n",
        "        while lo < hi:\n",
        "            length = (lo + hi + 1) // 2\n",
        "            if any(A[i:i+length] in B for i in range(len(A) - length + 1)):\n",
        "                lo = length\n",
        "            else:\n",
        "                hi = length - 1\n",
        "        return lo\n",
        "        "
      ]
    }
  ]
}