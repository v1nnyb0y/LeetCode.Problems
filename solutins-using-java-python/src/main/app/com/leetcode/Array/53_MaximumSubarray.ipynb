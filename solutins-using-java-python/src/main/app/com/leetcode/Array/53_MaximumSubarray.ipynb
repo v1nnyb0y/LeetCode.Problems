{
  "nbformat": 4,
  "nbformat_minor": 0,
  "metadata": {
    "colab": {
      "name": "53.ipynb",
      "provenance": [],
      "authorship_tag": "ABX9TyN3DbGRd7EkhNEBG+Y39F19",
      "include_colab_link": true
    },
    "kernelspec": {
      "name": "python3",
      "display_name": "Python 3"
    },
    "language_info": {
      "name": "python"
    }
  },
  "cells": [
    {
      "cell_type": "markdown",
      "metadata": {
        "id": "view-in-github",
        "colab_type": "text"
      },
      "source": [
        "<a href=\"https://colab.research.google.com/github/v1nnyb0y/leetcode/blob/master/Array/53_MaximumSubarray.ipynb\" target=\"_parent\"><img src=\"https://colab.research.google.com/assets/colab-badge.svg\" alt=\"Open In Colab\"/></a>"
      ]
    },
    {
      "cell_type": "code",
      "execution_count": null,
      "metadata": {
        "id": "-0flOir6sSZf"
      },
      "outputs": [],
      "source": [
        "class Solution:\n",
        "    def maxSubArray(self, nums: List[int]) -> int:\n",
        "        sums = []\n",
        "        sums.append(nums[0])\n",
        "        curr_sum = sums[0]\n",
        "        \n",
        "        for i in range(1, len(nums)):\n",
        "            num = nums[i]\n",
        "            sums.append(max(sums[i - 1] + num, num))\n",
        "            if sums[i] > curr_sum:\n",
        "                curr_sum = sums[i]\n",
        "        \n",
        "        return curr_sum"
      ]
    }
  ]
}