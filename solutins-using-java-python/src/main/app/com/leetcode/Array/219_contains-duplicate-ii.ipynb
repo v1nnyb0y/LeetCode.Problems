{
  "nbformat": 4,
  "nbformat_minor": 0,
  "metadata": {
    "colab": {
      "provenance": [],
      "authorship_tag": "ABX9TyMRSAdzdRgRWbR756QIAHuP",
      "include_colab_link": true
    },
    "kernelspec": {
      "name": "python3",
      "display_name": "Python 3"
    },
    "language_info": {
      "name": "python"
    }
  },
  "cells": [
    {
      "cell_type": "markdown",
      "metadata": {
        "id": "view-in-github",
        "colab_type": "text"
      },
      "source": [
        "<a href=\"https://colab.research.google.com/github/v1nnyb0y/leetcode/blob/master/Array/219_contains-duplicate-ii.ipynb\" target=\"_parent\"><img src=\"https://colab.research.google.com/assets/colab-badge.svg\" alt=\"Open In Colab\"/></a>"
      ]
    },
    {
      "cell_type": "code",
      "execution_count": null,
      "metadata": {
        "id": "Q97tvdM9zWu1"
      },
      "outputs": [],
      "source": [
        "class Solution(object):\n",
        "    def containsNearbyDuplicate(self, nums, k):\n",
        "        \"\"\"\n",
        "        :type nums: List[int]\n",
        "        :type k: int\n",
        "        :rtype: bool\n",
        "        \"\"\"\n",
        "        last_seen_index = {}\n",
        "        for idx, x in enumerate(nums):\n",
        "            if x in last_seen_index and idx - last_seen_index[x] <= k:\n",
        "                return True\n",
        "            last_seen_index[x] = idx\n",
        "        return False"
      ]
    }
  ]
}