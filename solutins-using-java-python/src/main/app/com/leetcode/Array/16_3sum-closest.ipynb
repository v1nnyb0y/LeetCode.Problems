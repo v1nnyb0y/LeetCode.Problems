{
  "nbformat": 4,
  "nbformat_minor": 0,
  "metadata": {
    "colab": {
      "provenance": [],
      "authorship_tag": "ABX9TyNmkOXx601UGO1QUCx9FwAh",
      "include_colab_link": true
    },
    "kernelspec": {
      "name": "python3",
      "display_name": "Python 3"
    },
    "language_info": {
      "name": "python"
    }
  },
  "cells": [
    {
      "cell_type": "markdown",
      "metadata": {
        "id": "view-in-github",
        "colab_type": "text"
      },
      "source": [
        "<a href=\"https://colab.research.google.com/github/v1nnyb0y/leetcode/blob/master/Array/16_3sum-closest.ipynb\" target=\"_parent\"><img src=\"https://colab.research.google.com/assets/colab-badge.svg\" alt=\"Open In Colab\"/></a>"
      ]
    },
    {
      "cell_type": "code",
      "execution_count": null,
      "metadata": {
        "id": "WzD-CvgG2ryo"
      },
      "outputs": [],
      "source": [
        "class Solution:\n",
        "    def threeSumClosest(self, nums: List[int], target: int) -> int:\n",
        "        nums.sort()\n",
        "        ans = float('inf')\n",
        "        for i in range(len(nums)-2):\n",
        "            print(i, ans)\n",
        "            if i>0 and nums[i-1] == nums[i]:\n",
        "                continue\n",
        "            minsum = nums[i] + nums[i+1] + nums[i+2]\n",
        "            maxsum = nums[i] + nums[-1] + nums[-2]\n",
        "            if minsum >= target:\n",
        "                if abs(minsum-target) >= abs(ans-target):\n",
        "                    return ans\n",
        "            if maxsum < target:\n",
        "                if abs(maxsum-target) < abs(ans-target):\n",
        "                    ans = maxsum\n",
        "                continue\n",
        "            left, right = i+1, len(nums)-1\n",
        "            while left < right:\n",
        "                thsum = nums[i] + nums[left] + nums[right]\n",
        "                # print(thsum)\n",
        "                if abs(thsum - target) < abs(ans - target):\n",
        "                    ans = thsum\n",
        "                if thsum == target:\n",
        "                    return thsum\n",
        "                elif thsum < target:\n",
        "                    left += 1\n",
        "                    while left < len(nums)-1 and nums[left-1] == nums[left]:\n",
        "                        left += 1\n",
        "                else:\n",
        "                    right -= 1\n",
        "                    while right > i and nums[right+1] == nums[right]:\n",
        "                        right -= 1\n",
        "        return ans"
      ]
    }
  ]
}