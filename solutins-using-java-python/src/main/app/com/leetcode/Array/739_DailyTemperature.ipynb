{
  "nbformat": 4,
  "nbformat_minor": 0,
  "metadata": {
    "colab": {
      "name": "739.ipynb",
      "provenance": [],
      "authorship_tag": "ABX9TyPKxGf7pCWXmckWNMShDBnj",
      "include_colab_link": true
    },
    "kernelspec": {
      "name": "python3",
      "display_name": "Python 3"
    },
    "language_info": {
      "name": "python"
    }
  },
  "cells": [
    {
      "cell_type": "markdown",
      "metadata": {
        "id": "view-in-github",
        "colab_type": "text"
      },
      "source": [
        "<a href=\"https://colab.research.google.com/github/v1nnyb0y/leetcode/blob/master/Array/739_DailyTemperature.ipynb\" target=\"_parent\"><img src=\"https://colab.research.google.com/assets/colab-badge.svg\" alt=\"Open In Colab\"/></a>"
      ]
    },
    {
      "cell_type": "code",
      "execution_count": null,
      "metadata": {
        "id": "DWlnZjsPfHWH"
      },
      "outputs": [],
      "source": [
        "class Solution:\n",
        "    def dailyTemperatures(self, temperatures: List[int]) -> List[int]:\n",
        "        n = len(temperatures)\n",
        "        hottest = 0\n",
        "        ans = [0] * n\n",
        "        \n",
        "        for d in range(n - 1, -1, -1):\n",
        "            t = temperatures[d]\n",
        "            if t >= hottest:\n",
        "                hottest = t\n",
        "                continue\n",
        "            \n",
        "            days = 1\n",
        "            while temperatures[d + days] <= t:\n",
        "                days += ans[d + days]\n",
        "            \n",
        "            ans[d] = days\n",
        "        return ans"
      ]
    }
  ]
}