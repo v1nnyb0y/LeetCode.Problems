{
  "nbformat": 4,
  "nbformat_minor": 0,
  "metadata": {
    "colab": {
      "name": "703.ipynb",
      "provenance": [],
      "authorship_tag": "ABX9TyPmEZy5iB7TPKzIACWIc6XO",
      "include_colab_link": true
    },
    "kernelspec": {
      "name": "python3",
      "display_name": "Python 3"
    },
    "language_info": {
      "name": "python"
    }
  },
  "cells": [
    {
      "cell_type": "markdown",
      "metadata": {
        "id": "view-in-github",
        "colab_type": "text"
      },
      "source": [
        "<a href=\"https://colab.research.google.com/github/v1nnyb0y/leetcode/blob/master/BasicDataTypes/703_KthLargestElementInAStream.ipynb\" target=\"_parent\"><img src=\"https://colab.research.google.com/assets/colab-badge.svg\" alt=\"Open In Colab\"/></a>"
      ]
    },
    {
      "cell_type": "code",
      "execution_count": null,
      "metadata": {
        "id": "ojdaA2-IIEWV"
      },
      "outputs": [],
      "source": [
        "class KthLargest:\n",
        "\n",
        "    def __init__(self, k: int, nums: List[int]):\n",
        "        self.k = k\n",
        "        self.a = nums\n",
        "        \n",
        "    def __findKth(self):\n",
        "        self.a.sort()\n",
        "        return self.a[len(self.a) - self.k]\n",
        "\n",
        "    def add(self, val: int) -> int:\n",
        "        self.a.append(val)\n",
        "        return self.__findKth()\n",
        "\n",
        "# Your KthLargest object will be instantiated and called as such:\n",
        "# obj = KthLargest(k, nums)\n",
        "# param_1 = obj.add(val)"
      ]
    }
  ]
}