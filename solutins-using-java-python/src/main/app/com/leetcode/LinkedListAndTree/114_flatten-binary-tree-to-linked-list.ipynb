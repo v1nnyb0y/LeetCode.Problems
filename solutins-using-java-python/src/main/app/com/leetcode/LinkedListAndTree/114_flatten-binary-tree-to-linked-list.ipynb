{
  "nbformat": 4,
  "nbformat_minor": 0,
  "metadata": {
    "colab": {
      "name": "114.ipynb",
      "provenance": [],
      "authorship_tag": "ABX9TyM5zQmqHT/2tNGYV61sYZrz",
      "include_colab_link": true
    },
    "kernelspec": {
      "name": "python3",
      "display_name": "Python 3"
    },
    "language_info": {
      "name": "python"
    }
  },
  "cells": [
    {
      "cell_type": "markdown",
      "metadata": {
        "id": "view-in-github",
        "colab_type": "text"
      },
      "source": [
        "<a href=\"https://colab.research.google.com/github/v1nnyb0y/leetcode/blob/master/LinkedListAndTree/114_flatten-binary-tree-to-linked-list.ipynb\" target=\"_parent\"><img src=\"https://colab.research.google.com/assets/colab-badge.svg\" alt=\"Open In Colab\"/></a>"
      ]
    },
    {
      "cell_type": "code",
      "execution_count": null,
      "metadata": {
        "id": "yz1QMeyjiUX6"
      },
      "outputs": [],
      "source": [
        "# Definition for a binary tree node.\n",
        "# class TreeNode:\n",
        "#     def __init__(self, val=0, left=None, right=None):\n",
        "#         self.val = val\n",
        "#         self.left = left\n",
        "#         self.right = right\n",
        "class Solution:\n",
        "    def flatten(self, root: TreeNode) -> None:\n",
        "        \"\"\"\n",
        "        Do not return anything, modify root in-place instead.\n",
        "        \"\"\"\n",
        "        dfs = []\n",
        "        dfs.append(root)\n",
        "        while root and dfs:\n",
        "            root = dfs.pop()\n",
        "            if root.right:\n",
        "                dfs.append(root.right)\n",
        "            if root.left:\n",
        "                dfs.append(root.left)\n",
        "                root.right = root.left\n",
        "                root.left = None\n",
        "            else:\n",
        "                if dfs:\n",
        "                    root.right = dfs[-1]\n",
        "                    root.left = None"
      ]
    }
  ]
}