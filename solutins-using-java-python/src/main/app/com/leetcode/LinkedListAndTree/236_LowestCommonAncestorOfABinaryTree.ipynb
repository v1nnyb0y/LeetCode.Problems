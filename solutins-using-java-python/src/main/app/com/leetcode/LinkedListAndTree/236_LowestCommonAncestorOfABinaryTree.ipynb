{
  "nbformat": 4,
  "nbformat_minor": 0,
  "metadata": {
    "colab": {
      "name": "236.ipynb",
      "provenance": [],
      "authorship_tag": "ABX9TyOplEcQ61NYmWJv7L/zMt45",
      "include_colab_link": true
    },
    "kernelspec": {
      "name": "python3",
      "display_name": "Python 3"
    },
    "language_info": {
      "name": "python"
    }
  },
  "cells": [
    {
      "cell_type": "markdown",
      "metadata": {
        "id": "view-in-github",
        "colab_type": "text"
      },
      "source": [
        "<a href=\"https://colab.research.google.com/github/v1nnyb0y/leetcode/blob/master/LinkedListAndTree/236_LowestCommonAncestorOfABinaryTree.ipynb\" target=\"_parent\"><img src=\"https://colab.research.google.com/assets/colab-badge.svg\" alt=\"Open In Colab\"/></a>"
      ]
    },
    {
      "cell_type": "code",
      "execution_count": null,
      "metadata": {
        "id": "GM0s6GS2apnI"
      },
      "outputs": [],
      "source": [
        "class Solution:\n",
        "\n",
        "    # Three static flags to keep track of post-order traversal.\n",
        "\n",
        "    # Both left and right traversal pending for a node.\n",
        "    # Indicates the nodes children are yet to be traversed.\n",
        "    BOTH_PENDING = 2\n",
        "    # Left traversal done.\n",
        "    LEFT_DONE = 1\n",
        "    # Both left and right traversal done for a node.\n",
        "    # Indicates the node can be popped off the stack.\n",
        "    BOTH_DONE = 0\n",
        "\n",
        "    def lowestCommonAncestor(self, root, p, q):\n",
        "        \"\"\"\n",
        "        :type root: TreeNode\n",
        "        :type p: TreeNode\n",
        "        :type q: TreeNode\n",
        "        :rtype: TreeNode\n",
        "        \"\"\"\n",
        "\n",
        "        # Initialize the stack with the root node.\n",
        "        stack = [(root, Solution.BOTH_PENDING)]\n",
        "\n",
        "        # This flag is set when either one of p or q is found.\n",
        "        one_node_found = False\n",
        "\n",
        "        # This is used to keep track of LCA index.\n",
        "        LCA_index = -1\n",
        "\n",
        "        # We do a post order traversal of the binary tree using stack\n",
        "        while stack:\n",
        "\n",
        "            parent_node, parent_state = stack[-1]\n",
        "\n",
        "            # If the parent_state is not equal to BOTH_DONE,\n",
        "            # this means the parent_node can't be popped of yet.\n",
        "            if parent_state != Solution.BOTH_DONE:\n",
        "\n",
        "                # If both child traversals are pending\n",
        "                if parent_state == Solution.BOTH_PENDING:\n",
        "\n",
        "                    # Check if the current parent_node is either p or q.\n",
        "                    if parent_node == p or parent_node == q:\n",
        "\n",
        "                        # If one_node_found is set already, this means we have found both the nodes.\n",
        "                        if one_node_found:\n",
        "                            return stack[LCA_index][0]\n",
        "                        else:\n",
        "                            # Otherwise, set one_node_found to True,\n",
        "                            # to mark one of p and q is found.\n",
        "                            one_node_found = True\n",
        "\n",
        "                            # Save the current top index of stack as the LCA_index.\n",
        "                            LCA_index = len(stack) - 1\n",
        "\n",
        "                    # If both pending, traverse the left child first\n",
        "                    child_node = parent_node.left\n",
        "                else:\n",
        "                    # traverse right child\n",
        "                    child_node = parent_node.right\n",
        "\n",
        "                # Update the node state at the top of the stack\n",
        "                # Since we have visited one more child.\n",
        "                stack.pop()\n",
        "                stack.append((parent_node, parent_state - 1))\n",
        "\n",
        "                # Add the child node to the stack for traversal.\n",
        "                if child_node:\n",
        "                    stack.append((child_node, Solution.BOTH_PENDING))\n",
        "            else:\n",
        "\n",
        "                # If the parent_state of the node is both done,\n",
        "                # the top node could be popped off the stack.\n",
        "\n",
        "                # i.e. If LCA_index is equal to length of stack. Then we decrease LCA_index by 1.\n",
        "                if one_node_found and LCA_index == len(stack) - 1:\n",
        "                    LCA_index -= 1\n",
        "                stack.pop()\n",
        "\n",
        "        return None"
      ]
    }
  ]
}