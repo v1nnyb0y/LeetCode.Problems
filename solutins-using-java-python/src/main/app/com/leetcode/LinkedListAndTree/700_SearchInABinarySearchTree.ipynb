{
  "nbformat": 4,
  "nbformat_minor": 0,
  "metadata": {
    "colab": {
      "name": "700.ipynb",
      "provenance": [],
      "authorship_tag": "ABX9TyMmghdkeiQK/NyFpVf1MueN",
      "include_colab_link": true
    },
    "kernelspec": {
      "name": "python3",
      "display_name": "Python 3"
    },
    "language_info": {
      "name": "python"
    }
  },
  "cells": [
    {
      "cell_type": "markdown",
      "metadata": {
        "id": "view-in-github",
        "colab_type": "text"
      },
      "source": [
        "<a href=\"https://colab.research.google.com/github/v1nnyb0y/leetcode/blob/master/LinkedListAndTree/700_SearchInABinarySearchTree.ipynb\" target=\"_parent\"><img src=\"https://colab.research.google.com/assets/colab-badge.svg\" alt=\"Open In Colab\"/></a>"
      ]
    },
    {
      "cell_type": "code",
      "execution_count": null,
      "metadata": {
        "id": "HeiURQIJGF5l"
      },
      "outputs": [],
      "source": [
        "class Solution:\n",
        "    def searchBST(self, root: TreeNode, val: int) -> TreeNode:\n",
        "        n=TreeNode()    \n",
        "        def h(node):\n",
        "            nonlocal val\n",
        "            nonlocal n\n",
        "            if not node:\n",
        "                return\n",
        "            if node.val==val:\n",
        "                n=node\n",
        "                return n\n",
        "            if(node.val>val):\n",
        "                return h(node.left)\n",
        "            if(node.val<val):\n",
        "                return h(node.right)\n",
        "            return None\n",
        "        return h(root)"
      ]
    }
  ]
}