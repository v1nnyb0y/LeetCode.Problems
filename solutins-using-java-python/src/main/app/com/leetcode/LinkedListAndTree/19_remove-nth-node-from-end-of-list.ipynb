{
  "nbformat": 4,
  "nbformat_minor": 0,
  "metadata": {
    "colab": {
      "provenance": [],
      "authorship_tag": "ABX9TyOV9pc2/FIfG3klg7lkWvdO",
      "include_colab_link": true
    },
    "kernelspec": {
      "name": "python3",
      "display_name": "Python 3"
    },
    "language_info": {
      "name": "python"
    }
  },
  "cells": [
    {
      "cell_type": "markdown",
      "metadata": {
        "id": "view-in-github",
        "colab_type": "text"
      },
      "source": [
        "<a href=\"https://colab.research.google.com/github/v1nnyb0y/leetcode/blob/master/LinkedListAndTree/19_remove-nth-node-from-end-of-list.ipynb\" target=\"_parent\"><img src=\"https://colab.research.google.com/assets/colab-badge.svg\" alt=\"Open In Colab\"/></a>"
      ]
    },
    {
      "cell_type": "code",
      "execution_count": null,
      "metadata": {
        "id": "DGu8gh-pmQHY"
      },
      "outputs": [],
      "source": [
        "class Solution(object):\n",
        "    def removeNthFromEnd(self, head, n):\n",
        "        \"\"\"\n",
        "        :type head: ListNode\n",
        "        :type n: int\n",
        "        :rtype: ListNode\n",
        "        \"\"\"\n",
        "        slow = head\n",
        "        fast = head\n",
        "        # Move fast pointer n steps ahead\n",
        "        for i in range(0, n):\n",
        "            if fast.next is None:\n",
        "                # If n is equal to the number of nodes, delete the head node\n",
        "                if i == n - 1:\n",
        "                    head = head.next\n",
        "                return head\n",
        "            fast = fast.next\n",
        "        # Loop until fast node reaches to the end\n",
        "        # Now we will move both slow and fast pointers\n",
        "        while fast.next is not None:\n",
        "            slow = slow.next\n",
        "            fast = fast.next\n",
        "        # Delink the nth node from last\n",
        "        if slow.next is not None:\n",
        "            slow.next = slow.next.next\n",
        "        return head"
      ]
    }
  ]
}