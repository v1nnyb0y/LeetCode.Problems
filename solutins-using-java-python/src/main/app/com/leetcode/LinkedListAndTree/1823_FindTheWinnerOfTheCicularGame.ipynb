{
  "nbformat": 4,
  "nbformat_minor": 0,
  "metadata": {
    "colab": {
      "name": "1823.ipynb",
      "provenance": [],
      "authorship_tag": "ABX9TyOOYkG8tLdERJaDIvkGrQ5e",
      "include_colab_link": true
    },
    "kernelspec": {
      "name": "python3",
      "display_name": "Python 3"
    },
    "language_info": {
      "name": "python"
    }
  },
  "cells": [
    {
      "cell_type": "markdown",
      "metadata": {
        "id": "view-in-github",
        "colab_type": "text"
      },
      "source": [
        "<a href=\"https://colab.research.google.com/github/v1nnyb0y/leetcode/blob/master/LinkedListAndTree/1823_FindTheWinnerOfTheCicularGame.ipynb\" target=\"_parent\"><img src=\"https://colab.research.google.com/assets/colab-badge.svg\" alt=\"Open In Colab\"/></a>"
      ]
    },
    {
      "cell_type": "code",
      "execution_count": null,
      "metadata": {
        "id": "MOEKsnbcmTDz"
      },
      "outputs": [],
      "source": [
        "class Solution:\n",
        "    def findTheWinner(self, n, k):\n",
        "        result, start = [i for i in range(1,n+1)], 0\n",
        "        while len(result)>1:\n",
        "            loser = (start+k-1)%len(result)\n",
        "            del result[loser]\n",
        "            start = loser if loser<=len(result) else 0\n",
        "        return result[0]"
      ]
    }
  ]
}