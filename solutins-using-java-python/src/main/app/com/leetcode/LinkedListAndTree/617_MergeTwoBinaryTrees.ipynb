{
  "nbformat": 4,
  "nbformat_minor": 0,
  "metadata": {
    "colab": {
      "name": "617.ipynb",
      "provenance": [],
      "authorship_tag": "ABX9TyPCPMmQM8lZS0kGp6dunfVU",
      "include_colab_link": true
    },
    "kernelspec": {
      "name": "python3",
      "display_name": "Python 3"
    },
    "language_info": {
      "name": "python"
    }
  },
  "cells": [
    {
      "cell_type": "markdown",
      "metadata": {
        "id": "view-in-github",
        "colab_type": "text"
      },
      "source": [
        "<a href=\"https://colab.research.google.com/github/v1nnyb0y/leetcode/blob/master/LinkedListAndTree/617_MergeTwoBinaryTrees.ipynb\" target=\"_parent\"><img src=\"https://colab.research.google.com/assets/colab-badge.svg\" alt=\"Open In Colab\"/></a>"
      ]
    },
    {
      "cell_type": "code",
      "execution_count": null,
      "metadata": {
        "id": "wvOI1NewMGIL"
      },
      "outputs": [],
      "source": [
        "# Definition for a binary tree node.\n",
        "# class TreeNode:\n",
        "#     def __init__(self, val=0, left=None, right=None):\n",
        "#         self.val = val\n",
        "#         self.left = left\n",
        "#         self.right = right\n",
        "class Solution:\n",
        "    def mergeTrees(self, root1: Optional[TreeNode], root2: Optional[TreeNode]) -> Optional[TreeNode]:\n",
        "        def dfs(root1, root2):\n",
        "            if root1 is None and root2 is not None:\n",
        "                return root2\n",
        "            elif root2 is None and root1 is not None:\n",
        "                return root1\n",
        "            elif root1 is None and root2 is None:\n",
        "                return None\n",
        "            else:\n",
        "                node = TreeNode(root1.val + root2.val, None, None)\n",
        "                node.left = dfs(root1.left, root2.left)\n",
        "                node.right = dfs(root1.right, root2.right)\n",
        "                \n",
        "                return node\n",
        "            \n",
        "            \n",
        "        head = TreeNode(0, None, None)\n",
        "        if root1 is None and root2 is not None:\n",
        "            return root2\n",
        "        elif root2 is None and root1 is not None:\n",
        "            return root1\n",
        "        elif root1 is None and root2 is None:\n",
        "            return None\n",
        "        else:\n",
        "            head = TreeNode(root1.val + root2.val, None, None)\n",
        "        \n",
        "        head.left = dfs(root1.left, root2.left)\n",
        "        head.right = dfs(root1.right, root2.right)\n",
        "        return head"
      ]
    }
  ]
}