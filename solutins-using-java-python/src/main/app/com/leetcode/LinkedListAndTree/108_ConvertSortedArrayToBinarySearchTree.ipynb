{
  "nbformat": 4,
  "nbformat_minor": 0,
  "metadata": {
    "colab": {
      "name": "108.ipynb",
      "provenance": [],
      "authorship_tag": "ABX9TyPj4BZsy8YX5E4Omj2YMNub",
      "include_colab_link": true
    },
    "kernelspec": {
      "name": "python3",
      "display_name": "Python 3"
    },
    "language_info": {
      "name": "python"
    }
  },
  "cells": [
    {
      "cell_type": "markdown",
      "metadata": {
        "id": "view-in-github",
        "colab_type": "text"
      },
      "source": [
        "<a href=\"https://colab.research.google.com/github/v1nnyb0y/leetcode/blob/master/LinkedListAndTree/108_ConvertSortedArrayToBinarySearchTree.ipynb\" target=\"_parent\"><img src=\"https://colab.research.google.com/assets/colab-badge.svg\" alt=\"Open In Colab\"/></a>"
      ]
    },
    {
      "cell_type": "code",
      "execution_count": null,
      "metadata": {
        "id": "dYwoJoWCFhaa"
      },
      "outputs": [],
      "source": [
        "# Definition for a binary tree node.\n",
        "# class TreeNode:\n",
        "#     def __init__(self, val=0, left=None, right=None):\n",
        "#         self.val = val\n",
        "#         self.left = left\n",
        "#         self.right = right\n",
        "class Solution:\n",
        "    def sortedArrayToBST(self, nums: List[int]) -> Optional[TreeNode]:\n",
        "        def traverse(nums):\n",
        "            if len(nums) == 0:\n",
        "                return None\n",
        "            mid = len(nums) // 2\n",
        "            root = TreeNode(nums[mid])\n",
        "            root.left = traverse(nums[:mid])\n",
        "            root.right = traverse(nums[mid+1:])\n",
        "            return root\n",
        "        return traverse(nums)\n",
        "        "
      ]
    }
  ]
}