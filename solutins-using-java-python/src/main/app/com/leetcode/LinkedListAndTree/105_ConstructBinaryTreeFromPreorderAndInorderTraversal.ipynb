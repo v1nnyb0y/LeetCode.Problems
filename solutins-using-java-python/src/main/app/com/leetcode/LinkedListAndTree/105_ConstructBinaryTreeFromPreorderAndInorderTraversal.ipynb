{
  "nbformat": 4,
  "nbformat_minor": 0,
  "metadata": {
    "colab": {
      "name": "105.ipynb",
      "provenance": [],
      "authorship_tag": "ABX9TyOkiRNwBtAOz+Zz+4gBYkUF",
      "include_colab_link": true
    },
    "kernelspec": {
      "name": "python3",
      "display_name": "Python 3"
    },
    "language_info": {
      "name": "python"
    }
  },
  "cells": [
    {
      "cell_type": "markdown",
      "metadata": {
        "id": "view-in-github",
        "colab_type": "text"
      },
      "source": [
        "<a href=\"https://colab.research.google.com/github/v1nnyb0y/leetcode/blob/master/LinkedListAndTree/105_ConstructBinaryTreeFromPreorderAndInorderTraversal.ipynb\" target=\"_parent\"><img src=\"https://colab.research.google.com/assets/colab-badge.svg\" alt=\"Open In Colab\"/></a>"
      ]
    },
    {
      "cell_type": "code",
      "execution_count": null,
      "metadata": {
        "id": "2CtSZbCCH8hG"
      },
      "outputs": [],
      "source": [
        "class Solution:\n",
        "    def buildTree(self, preorder: List[int], inorder: List[int]) -> TreeNode:\n",
        "\n",
        "        def array_to_tree(left, right):\n",
        "            nonlocal preorder_index\n",
        "            # if there are no elements to construct the tree\n",
        "            if left > right: return None\n",
        "\n",
        "            # select the preorder_index element as the root and increment it\n",
        "            root_value = preorder[preorder_index]\n",
        "            root = TreeNode(root_value)\n",
        "\n",
        "\n",
        "            preorder_index += 1\n",
        "\n",
        "            # build left and right subtree\n",
        "            # excluding inorder_index_map[root_value] element because it's the root\n",
        "            root.left = array_to_tree(left, inorder_index_map[root_value] - 1)\n",
        "            root.right = array_to_tree(inorder_index_map[root_value] + 1, right)\n",
        "\n",
        "            return root\n",
        "\n",
        "        preorder_index = 0\n",
        "\n",
        "        # build a hashmap to store value -> its index relations\n",
        "        inorder_index_map = {}\n",
        "        for index, value in enumerate(inorder):\n",
        "            inorder_index_map[value] = index\n",
        "\n",
        "        return array_to_tree(0, len(preorder) - 1)"
      ]
    }
  ]
}