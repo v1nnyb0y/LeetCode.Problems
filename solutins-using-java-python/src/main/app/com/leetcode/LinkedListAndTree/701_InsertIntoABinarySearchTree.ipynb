{
  "nbformat": 4,
  "nbformat_minor": 0,
  "metadata": {
    "colab": {
      "name": "701.ipynb",
      "provenance": [],
      "authorship_tag": "ABX9TyOiykpj1Ze2rq3D+JtzR+Rx",
      "include_colab_link": true
    },
    "kernelspec": {
      "name": "python3",
      "display_name": "Python 3"
    },
    "language_info": {
      "name": "python"
    }
  },
  "cells": [
    {
      "cell_type": "markdown",
      "metadata": {
        "id": "view-in-github",
        "colab_type": "text"
      },
      "source": [
        "<a href=\"https://colab.research.google.com/github/v1nnyb0y/leetcode/blob/master/LinkedListAndTree/701_InsertIntoABinarySearchTree.ipynb\" target=\"_parent\"><img src=\"https://colab.research.google.com/assets/colab-badge.svg\" alt=\"Open In Colab\"/></a>"
      ]
    },
    {
      "cell_type": "code",
      "execution_count": null,
      "metadata": {
        "id": "oLNIzfZgGpAe"
      },
      "outputs": [],
      "source": [
        "# Definition for a binary tree node.\n",
        "# class TreeNode:\n",
        "#     def __init__(self, val=0, left=None, right=None):\n",
        "#         self.val = val\n",
        "#         self.left = left\n",
        "#         self.right = right\n",
        "class Solution:\n",
        "     def insertIntoBST(self, root: Optional[TreeNode], val: int) -> Optional[TreeNode]:\n",
        "        if not root:\n",
        "            return TreeNode(val)\n",
        "        cur = root\n",
        "        while cur:\n",
        "            if cur.val < val:\n",
        "                if not cur.right: \n",
        "                    cur.right = TreeNode(val)\n",
        "                    cur = cur.right\n",
        "                    break\n",
        "                cur = cur.right\n",
        "            elif cur.val > val:\n",
        "                if not cur.left:\n",
        "                    cur.left = TreeNode(val)\n",
        "                    cur = cur.left\n",
        "                    break\n",
        "                cur = cur.left\n",
        "            \n",
        "        return root\n",
        "        "
      ]
    }
  ]
}