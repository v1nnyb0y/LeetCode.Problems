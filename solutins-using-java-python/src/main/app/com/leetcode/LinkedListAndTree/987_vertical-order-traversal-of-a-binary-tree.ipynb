{
  "nbformat": 4,
  "nbformat_minor": 0,
  "metadata": {
    "colab": {
      "provenance": [],
      "authorship_tag": "ABX9TyNtVsm8YwIqL4SXITEDeU/L",
      "include_colab_link": true
    },
    "kernelspec": {
      "name": "python3",
      "display_name": "Python 3"
    },
    "language_info": {
      "name": "python"
    }
  },
  "cells": [
    {
      "cell_type": "markdown",
      "metadata": {
        "id": "view-in-github",
        "colab_type": "text"
      },
      "source": [
        "<a href=\"https://colab.research.google.com/github/v1nnyb0y/leetcode/blob/master/LinkedListAndTree/987_vertical-order-traversal-of-a-binary-tree.ipynb\" target=\"_parent\"><img src=\"https://colab.research.google.com/assets/colab-badge.svg\" alt=\"Open In Colab\"/></a>"
      ]
    },
    {
      "cell_type": "code",
      "execution_count": null,
      "metadata": {
        "id": "XY1hrh3i67_b"
      },
      "outputs": [],
      "source": [
        "# Definition for a binary tree node.\n",
        "# class TreeNode:\n",
        "#     def __init__(self, val=0, left=None, right=None):\n",
        "#         self.val = val\n",
        "#         self.left = left\n",
        "#         self.right = right\n",
        "class Solution:\n",
        "    def verticalTraversal(self, root: TreeNode) -> List[List[int]]:\n",
        "        def dfs(root, x, y, vertical):\n",
        "            vertical[x].append((y, root.val))\n",
        "            if root.left:\n",
        "                dfs(root.left, x - 1, y + 1, vertical)\n",
        "            if root.right:\n",
        "                dfs(root.right, x + 1, y + 1, vertical)\n",
        "            \n",
        "        if not root:\n",
        "            return []\n",
        "        vertical = defaultdict(list)\n",
        "        dfs(root, 0, 0, vertical)\n",
        "        res = []\n",
        "        for x in sorted(vertical.keys()):\n",
        "            res.append([tup[1] for tup in sorted(vertical[x])])\n",
        "        return res\n",
        "        "
      ]
    }
  ]
}