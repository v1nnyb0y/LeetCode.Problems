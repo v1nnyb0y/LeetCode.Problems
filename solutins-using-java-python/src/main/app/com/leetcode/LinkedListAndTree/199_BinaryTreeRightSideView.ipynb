{
  "nbformat": 4,
  "nbformat_minor": 0,
  "metadata": {
    "colab": {
      "name": "199.ipynb",
      "provenance": [],
      "authorship_tag": "ABX9TyO6Aa+Sdwohj7ssdTYFtQSa",
      "include_colab_link": true
    },
    "kernelspec": {
      "name": "python3",
      "display_name": "Python 3"
    },
    "language_info": {
      "name": "python"
    }
  },
  "cells": [
    {
      "cell_type": "markdown",
      "metadata": {
        "id": "view-in-github",
        "colab_type": "text"
      },
      "source": [
        "<a href=\"https://colab.research.google.com/github/v1nnyb0y/leetcode/blob/master/LinkedListAndTree/199_BinaryTreeRightSideView.ipynb\" target=\"_parent\"><img src=\"https://colab.research.google.com/assets/colab-badge.svg\" alt=\"Open In Colab\"/></a>"
      ]
    },
    {
      "cell_type": "code",
      "execution_count": null,
      "metadata": {
        "id": "T0EslsekAG2u"
      },
      "outputs": [],
      "source": [
        "class Solution:\n",
        "    def rightSideView(self, root):\n",
        "        return list(right_side_recursive(root))        \n",
        "\n",
        "def height(node):\n",
        "    return node.height if node else 0\n",
        "\n",
        "def right_side_recursive(root, min_depth=0):\n",
        "    if root is None:\n",
        "        return\n",
        "\n",
        "    if min_depth == 0:\n",
        "        yield root.val\n",
        "\n",
        "    yield from right_side_recursive(\n",
        "        root.right, \n",
        "        min_depth = max(min_depth-1, 0)\n",
        "    )\n",
        "\n",
        "    yield from right_side_recursive(\n",
        "        root.left,\n",
        "        min_depth = max(min_depth-1, height(root.right))\n",
        "    )\n",
        "\n",
        "    root.height = 1 + max(height(root.left), height(root.right))"
      ]
    }
  ]
}