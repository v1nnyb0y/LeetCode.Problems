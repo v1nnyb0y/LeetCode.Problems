{
  "nbformat": 4,
  "nbformat_minor": 0,
  "metadata": {
    "colab": {
      "name": "83.ipynb",
      "provenance": [],
      "authorship_tag": "ABX9TyNAjCRnJwzNGSaLBIBNK070",
      "include_colab_link": true
    },
    "kernelspec": {
      "name": "python3",
      "display_name": "Python 3"
    },
    "language_info": {
      "name": "python"
    }
  },
  "cells": [
    {
      "cell_type": "markdown",
      "metadata": {
        "id": "view-in-github",
        "colab_type": "text"
      },
      "source": [
        "<a href=\"https://colab.research.google.com/github/v1nnyb0y/leetcode/blob/master/LinkedListAndTree/83_RemoveDuplicatedFromSortedList.ipynb\" target=\"_parent\"><img src=\"https://colab.research.google.com/assets/colab-badge.svg\" alt=\"Open In Colab\"/></a>"
      ]
    },
    {
      "cell_type": "code",
      "execution_count": null,
      "metadata": {
        "id": "ZmSeFURjRPyw"
      },
      "outputs": [],
      "source": [
        "# Definition for singly-linked list.\n",
        "# class ListNode:\n",
        "#     def __init__(self, val=0, next=None):\n",
        "#         self.val = val\n",
        "#         self.next = next\n",
        "class Solution:\n",
        "    def deleteDuplicates(self, head: Optional[ListNode]) -> Optional[ListNode]:\n",
        "        def delete(head, val):\n",
        "            while head is not None and head.val == val:\n",
        "                head = head.next\n",
        "            \n",
        "            return head\n",
        "        \n",
        "        root = node = ListNode(0, None)\n",
        "        while head is not None:\n",
        "            node.next = ListNode(head.val, None)\n",
        "            node = node.next\n",
        "            if head.next is not None and head.val == head.next.val:\n",
        "                head = delete(head, head.val)\n",
        "            else:\n",
        "                head = head.next\n",
        "        \n",
        "        return root.next"
      ]
    }
  ]
}