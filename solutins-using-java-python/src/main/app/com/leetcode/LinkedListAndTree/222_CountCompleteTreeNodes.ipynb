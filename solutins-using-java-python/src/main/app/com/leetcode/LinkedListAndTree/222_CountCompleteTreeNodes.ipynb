{
  "nbformat": 4,
  "nbformat_minor": 0,
  "metadata": {
    "colab": {
      "name": "222.ipynb",
      "provenance": [],
      "authorship_tag": "ABX9TyM+1/Mic2tZ79Wehg3Zu3Px",
      "include_colab_link": true
    },
    "kernelspec": {
      "name": "python3",
      "display_name": "Python 3"
    },
    "language_info": {
      "name": "python"
    }
  },
  "cells": [
    {
      "cell_type": "markdown",
      "metadata": {
        "id": "view-in-github",
        "colab_type": "text"
      },
      "source": [
        "<a href=\"https://colab.research.google.com/github/v1nnyb0y/leetcode/blob/master/LinkedListAndTree/222_CountCompleteTreeNodes.ipynb\" target=\"_parent\"><img src=\"https://colab.research.google.com/assets/colab-badge.svg\" alt=\"Open In Colab\"/></a>"
      ]
    },
    {
      "cell_type": "code",
      "execution_count": null,
      "metadata": {
        "id": "EfBH67-7lq66"
      },
      "outputs": [],
      "source": [
        "class Solution(object):\n",
        "    def countNodes(self, root):\n",
        "        \"\"\"\n",
        "        :type root: TreeNode\n",
        "        :rtype: int\n",
        "        \"\"\"\n",
        "        # O(logn logn)\n",
        "        h = self.height(root)\n",
        "        nodes = 0\n",
        "        while root:\n",
        "            if self.height(root.right) == h - 1:\n",
        "                nodes += 2 ** h  # left half (2 ** h - 1) and the root (1)\n",
        "                root = root.right\n",
        "            else:\n",
        "                nodes += 2 ** (h - 1)\n",
        "                root = root.left\n",
        "            h -= 1\n",
        "        return nodes        \n",
        "\n",
        "    def height(self, root):\n",
        "        return -1 if not root else 1 + self.height(root.left)"
      ]
    }
  ]
}