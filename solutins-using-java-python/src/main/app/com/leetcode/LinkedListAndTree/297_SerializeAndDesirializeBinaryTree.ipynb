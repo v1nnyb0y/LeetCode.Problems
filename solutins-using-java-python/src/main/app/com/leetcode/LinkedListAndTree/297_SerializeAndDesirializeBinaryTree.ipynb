{
  "nbformat": 4,
  "nbformat_minor": 0,
  "metadata": {
    "colab": {
      "name": "297.ipynb",
      "provenance": [],
      "authorship_tag": "ABX9TyOMRvKGURpmr2pJSp/2Ha3K",
      "include_colab_link": true
    },
    "kernelspec": {
      "name": "python3",
      "display_name": "Python 3"
    },
    "language_info": {
      "name": "python"
    }
  },
  "cells": [
    {
      "cell_type": "markdown",
      "metadata": {
        "id": "view-in-github",
        "colab_type": "text"
      },
      "source": [
        "<a href=\"https://colab.research.google.com/github/v1nnyb0y/leetcode/blob/master/LinkedListAndTree/297_SerializeAndDesirializeBinaryTree.ipynb\" target=\"_parent\"><img src=\"https://colab.research.google.com/assets/colab-badge.svg\" alt=\"Open In Colab\"/></a>"
      ]
    },
    {
      "cell_type": "code",
      "execution_count": null,
      "metadata": {
        "id": "VEuBmePOb0ZI"
      },
      "outputs": [],
      "source": [
        "class Codec:\n",
        "\n",
        "    def serialize(self, root):\n",
        "        \"\"\"Encodes a tree to a single string.\n",
        "        \n",
        "        :type root: TreeNode\n",
        "        :rtype: str\n",
        "        \"\"\"\n",
        "        def dfs(root):\n",
        "            if not root:\n",
        "                res.append(\"None,\")\n",
        "                return \n",
        "            res.append(str(root.val)+\",\")\n",
        "            dfs(root.left)\n",
        "            dfs(root.right)\n",
        "            \n",
        "        res = []\n",
        "        dfs(root)\n",
        "        return \"\".join(res)\n",
        "        \n",
        "\n",
        "    def deserialize(self, data):\n",
        "        \"\"\"Decodes your encoded data to tree.\n",
        "        \n",
        "        :type data: str\n",
        "        :rtype: TreeNode\n",
        "        \"\"\"\n",
        "        def helper(q):\n",
        "            if q[0] == \"None\":\n",
        "                q.popleft()\n",
        "                return\n",
        "            root = TreeNode(q.popleft())\n",
        "            l = helper(q)\n",
        "            r = helper(q)\n",
        "            root.left = l\n",
        "            root.right = r\n",
        "            return root\n",
        "        \n",
        "        lst = data.split(\",\")\n",
        "        q = collections.deque(lst)\n",
        "        return helper(q)"
      ]
    }
  ]
}