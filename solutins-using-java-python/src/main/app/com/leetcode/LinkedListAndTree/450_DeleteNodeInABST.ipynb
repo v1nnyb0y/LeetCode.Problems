{
  "nbformat": 4,
  "nbformat_minor": 0,
  "metadata": {
    "colab": {
      "name": "450.ipynb",
      "provenance": [],
      "authorship_tag": "ABX9TyPz6Jz45JVS2bKGPusS3xxT",
      "include_colab_link": true
    },
    "kernelspec": {
      "name": "python3",
      "display_name": "Python 3"
    },
    "language_info": {
      "name": "python"
    }
  },
  "cells": [
    {
      "cell_type": "markdown",
      "metadata": {
        "id": "view-in-github",
        "colab_type": "text"
      },
      "source": [
        "<a href=\"https://colab.research.google.com/github/v1nnyb0y/leetcode/blob/master/LinkedListAndTree/450_DeleteNodeInABST.ipynb\" target=\"_parent\"><img src=\"https://colab.research.google.com/assets/colab-badge.svg\" alt=\"Open In Colab\"/></a>"
      ]
    },
    {
      "cell_type": "code",
      "execution_count": null,
      "metadata": {
        "id": "doxDRt2yE8QB"
      },
      "outputs": [],
      "source": [
        "class Solution(object):\n",
        "    def deleteNode(self, root, key):\n",
        "        if not root:    return None\n",
        "        if key < root.val:\n",
        "            root.left = self.deleteNode(root.left, key)\n",
        "            return root\n",
        "        elif key > root.val:\n",
        "            root.right = self.deleteNode(root.right, key)\n",
        "            return root\n",
        "        else:\n",
        "            smallestNode_in_right = self.findSmallest(root.right)\n",
        "            if not smallestNode_in_right:   return root.left\n",
        "            smallestNode_in_right.left = root.left\n",
        "            return root.right\n",
        "    \n",
        "    def findSmallest(self, root):\n",
        "        if not root:    return None\n",
        "        while root.left:\n",
        "            root = root.left\n",
        "        return root"
      ]
    }
  ]
}