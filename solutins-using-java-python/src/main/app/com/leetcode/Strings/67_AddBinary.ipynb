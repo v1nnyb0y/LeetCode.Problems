{
  "nbformat": 4,
  "nbformat_minor": 0,
  "metadata": {
    "colab": {
      "name": "67.ipynb",
      "provenance": [],
      "authorship_tag": "ABX9TyPAuyk/TljBCecgFMik14vF",
      "include_colab_link": true
    },
    "kernelspec": {
      "name": "python3",
      "display_name": "Python 3"
    },
    "language_info": {
      "name": "python"
    }
  },
  "cells": [
    {
      "cell_type": "markdown",
      "metadata": {
        "id": "view-in-github",
        "colab_type": "text"
      },
      "source": [
        "<a href=\"https://colab.research.google.com/github/v1nnyb0y/leetcode/blob/master/Strings/67_AddBinary.ipynb\" target=\"_parent\"><img src=\"https://colab.research.google.com/assets/colab-badge.svg\" alt=\"Open In Colab\"/></a>"
      ]
    },
    {
      "cell_type": "code",
      "execution_count": 4,
      "metadata": {
        "colab": {
          "base_uri": "https://localhost:8080/",
          "height": 139
        },
        "id": "JNaCWFectHft",
        "outputId": "06c95cc3-18e8-48de-a658-67bed0c8fc8a"
      },
      "outputs": [
        {
          "output_type": "stream",
          "name": "stdout",
          "text": [
            "0\n",
            "0\n",
            "1\n",
            "0\n",
            "1\n",
            "1\n"
          ]
        },
        {
          "output_type": "execute_result",
          "data": {
            "text/plain": [
              "'111010'"
            ],
            "application/vnd.google.colaboratory.intrinsic+json": {
              "type": "string"
            }
          },
          "metadata": {},
          "execution_count": 4
        }
      ],
      "source": [
        "class Solution:\n",
        "    def addBinary(self, a: str, b: str) -> str:\n",
        "        if len(a) < len(b):\n",
        "            a, b = b, a\n",
        "            \n",
        "        res = ''\n",
        "        carry = 0\n",
        "        j = len(a) - 1\n",
        "        for i in range(len(b) - 1, -1, -1):\n",
        "            sumAB = int(a[j]) + int(b[i]) + carry\n",
        "            carry = 0\n",
        "            if sumAB == 0 or sumAB == 2:\n",
        "                res = str(0) + res\n",
        "            else:\n",
        "                res = str(1) + res\n",
        "            \n",
        "            if sumAB > 1:\n",
        "                carry = 1\n",
        "            j -= 1\n",
        "               \n",
        "        for i in range(j, -1, -1):\n",
        "            sumAC = int(a[i]) + carry\n",
        "            carry = 0\n",
        "            if sumAC == 0 or sumAC == 2:\n",
        "                res = str(0) + res\n",
        "            else:\n",
        "                res = str(1) + res\n",
        "            \n",
        "            if sumAC > 1:\n",
        "                carry = 1\n",
        "        \n",
        "        if carry != 0:\n",
        "            res = str(carry) + res\n",
        "        \n",
        "        return res"
      ]
    }
  ]
}