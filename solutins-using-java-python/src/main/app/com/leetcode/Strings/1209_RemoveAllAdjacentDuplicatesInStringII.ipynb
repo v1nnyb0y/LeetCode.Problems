{
  "nbformat": 4,
  "nbformat_minor": 0,
  "metadata": {
    "colab": {
      "name": "1209.ipynb",
      "provenance": [],
      "authorship_tag": "ABX9TyNvAaeTCUYF/ywI5AHWbMsy",
      "include_colab_link": true
    },
    "kernelspec": {
      "name": "python3",
      "display_name": "Python 3"
    },
    "language_info": {
      "name": "python"
    }
  },
  "cells": [
    {
      "cell_type": "markdown",
      "metadata": {
        "id": "view-in-github",
        "colab_type": "text"
      },
      "source": [
        "<a href=\"https://colab.research.google.com/github/v1nnyb0y/leetcode/blob/master/Strings/1209_RemoveAllAdjacentDuplicatesInStringII.ipynb\" target=\"_parent\"><img src=\"https://colab.research.google.com/assets/colab-badge.svg\" alt=\"Open In Colab\"/></a>"
      ]
    },
    {
      "cell_type": "code",
      "execution_count": null,
      "metadata": {
        "id": "8Le4XT5Rrhqf"
      },
      "outputs": [],
      "source": [
        "class Solution:\n",
        "    def removeDuplicates(self, s, k):\n",
        "        stack = [['#',0]]\n",
        "        for c in s:\n",
        "            x, n = stack[-1]\n",
        "            if c == x:\n",
        "                if k-1 == n: stack.pop()\n",
        "                else: stack[-1] = [c, n+1]\n",
        "            else: stack.append([c, 1])\n",
        "        return \"\".join(x*n for x,n in stack)"
      ]
    }
  ]
}