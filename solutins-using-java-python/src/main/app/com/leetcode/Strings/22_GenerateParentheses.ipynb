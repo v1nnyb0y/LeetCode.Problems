{
  "nbformat": 4,
  "nbformat_minor": 0,
  "metadata": {
    "colab": {
      "name": "22.ipynb",
      "provenance": [],
      "authorship_tag": "ABX9TyOoRf7TGI/PSOn/8Rw5SR2M",
      "include_colab_link": true
    },
    "kernelspec": {
      "name": "python3",
      "display_name": "Python 3"
    },
    "language_info": {
      "name": "python"
    }
  },
  "cells": [
    {
      "cell_type": "markdown",
      "metadata": {
        "id": "view-in-github",
        "colab_type": "text"
      },
      "source": [
        "<a href=\"https://colab.research.google.com/github/v1nnyb0y/leetcode/blob/master/Strings/22_GenerateParentheses.ipynb\" target=\"_parent\"><img src=\"https://colab.research.google.com/assets/colab-badge.svg\" alt=\"Open In Colab\"/></a>"
      ]
    },
    {
      "cell_type": "code",
      "execution_count": null,
      "metadata": {
        "id": "P3zbBdQx33Sn"
      },
      "outputs": [],
      "source": [
        "class Solution:\n",
        "    def generateParenthesis(self, n: int) -> List[str]:\n",
        "        ans = []\n",
        "        def backtrack(S = [], left = 0, right = 0):\n",
        "            if len(S) == 2 * n:\n",
        "                ans.append(\"\".join(S))\n",
        "                return\n",
        "            if left < n:\n",
        "                S.append(\"(\")\n",
        "                backtrack(S, left+1, right)\n",
        "                S.pop()\n",
        "            if right < left:\n",
        "                S.append(\")\")\n",
        "                backtrack(S, left, right+1)\n",
        "                S.pop()\n",
        "        backtrack()\n",
        "        return ans"
      ]
    }
  ]
}