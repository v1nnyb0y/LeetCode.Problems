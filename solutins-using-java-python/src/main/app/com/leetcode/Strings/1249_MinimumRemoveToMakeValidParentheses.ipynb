{
  "nbformat": 4,
  "nbformat_minor": 0,
  "metadata": {
    "colab": {
      "name": "1249.ipynb",
      "provenance": [],
      "authorship_tag": "ABX9TyOwu+FjtK/FbzTQklQmAEYG",
      "include_colab_link": true
    },
    "kernelspec": {
      "name": "python3",
      "display_name": "Python 3"
    },
    "language_info": {
      "name": "python"
    }
  },
  "cells": [
    {
      "cell_type": "markdown",
      "metadata": {
        "id": "view-in-github",
        "colab_type": "text"
      },
      "source": [
        "<a href=\"https://colab.research.google.com/github/v1nnyb0y/leetcode/blob/master/Strings/1249_MinimumRemoveToMakeValidParentheses.ipynb\" target=\"_parent\"><img src=\"https://colab.research.google.com/assets/colab-badge.svg\" alt=\"Open In Colab\"/></a>"
      ]
    },
    {
      "cell_type": "code",
      "execution_count": null,
      "metadata": {
        "id": "elOJCtPxlfKA"
      },
      "outputs": [],
      "source": [
        "class Solution:\n",
        "    def minRemoveToMakeValid(self, s):\n",
        "        result, stack = [i for i in s], []\n",
        "        for i in range(len(result)):\n",
        "            if result[i]=='(':\n",
        "                stack.append(i)\n",
        "            elif result[i]==')':\n",
        "                if len(stack)!=0:\n",
        "                    stack.pop()\n",
        "                else:\n",
        "                    result[i] = ''\n",
        "        if len(stack)!=0:\n",
        "            for i in stack:\n",
        "                result[i] = ''\n",
        "        return ''.join(result)"
      ]
    }
  ]
}