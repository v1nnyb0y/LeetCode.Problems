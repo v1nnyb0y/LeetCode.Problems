{
  "nbformat": 4,
  "nbformat_minor": 0,
  "metadata": {
    "colab": {
      "name": "383.ipynb",
      "provenance": [],
      "authorship_tag": "ABX9TyM2Zb37wLA5WxG6li4DMpeW",
      "include_colab_link": true
    },
    "kernelspec": {
      "name": "python3",
      "display_name": "Python 3"
    },
    "language_info": {
      "name": "python"
    }
  },
  "cells": [
    {
      "cell_type": "markdown",
      "metadata": {
        "id": "view-in-github",
        "colab_type": "text"
      },
      "source": [
        "<a href=\"https://colab.research.google.com/github/v1nnyb0y/leetcode/blob/master/Strings/383_RansomNote.ipynb\" target=\"_parent\"><img src=\"https://colab.research.google.com/assets/colab-badge.svg\" alt=\"Open In Colab\"/></a>"
      ]
    },
    {
      "cell_type": "code",
      "execution_count": null,
      "metadata": {
        "id": "vKtkSAuJvbg6"
      },
      "outputs": [],
      "source": [
        "class Solution:\n",
        "    def canConstruct(self, ransomNote: str, magazine: str) -> bool:\n",
        "        x=Counter(ransomNote)\n",
        "        y=Counter(magazine)\n",
        "        for i,v in x.items():\n",
        "            if(x[i]<=y[i]):\n",
        "                continue\n",
        "            else:\n",
        "                return False\n",
        "        return True"
      ]
    }
  ]
}