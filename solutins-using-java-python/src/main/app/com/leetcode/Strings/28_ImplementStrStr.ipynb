{
  "nbformat": 4,
  "nbformat_minor": 0,
  "metadata": {
    "colab": {
      "name": "28.ipynb",
      "provenance": [],
      "collapsed_sections": [],
      "authorship_tag": "ABX9TyNgVeGwvm85PinBJck9EPnW",
      "include_colab_link": true
    },
    "kernelspec": {
      "name": "python3",
      "display_name": "Python 3"
    },
    "language_info": {
      "name": "python"
    }
  },
  "cells": [
    {
      "cell_type": "markdown",
      "metadata": {
        "id": "view-in-github",
        "colab_type": "text"
      },
      "source": [
        "<a href=\"https://colab.research.google.com/github/v1nnyb0y/leetcode/blob/master/Strings/28_ImplementStrStr.ipynb\" target=\"_parent\"><img src=\"https://colab.research.google.com/assets/colab-badge.svg\" alt=\"Open In Colab\"/></a>"
      ]
    },
    {
      "cell_type": "code",
      "execution_count": 8,
      "metadata": {
        "colab": {
          "base_uri": "https://localhost:8080/"
        },
        "id": "6KeOZSQ20N86",
        "outputId": "2e0cabb4-8bea-49d1-d5c7-b961f4d6872e"
      },
      "outputs": [
        {
          "output_type": "stream",
          "name": "stdout",
          "text": [
            "0\n",
            "-1\n"
          ]
        }
      ],
      "source": [
        "class Solution:\n",
        "    def strStr(self, haystack: str, needle: str) -> int:\n",
        "        if needle == '':\n",
        "            return 0\n",
        "        \n",
        "        arr_hay = list(haystack)\n",
        "        arr_needle = list(needle)\n",
        "        \n",
        "        for i in range(0, len(arr_hay)):\n",
        "            if arr_needle[0] == arr_hay[i]:\n",
        "                if i + len(arr_needle) - 1 < len(arr_hay):\n",
        "                    if arr_needle == arr_hay[i:(i + len(arr_needle))]:\n",
        "                        return i\n",
        "                else:\n",
        "                    return -1\n",
        "        \n",
        "        return -1"
      ]
    }
  ]
}