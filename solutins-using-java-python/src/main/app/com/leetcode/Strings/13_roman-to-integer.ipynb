{
  "nbformat": 4,
  "nbformat_minor": 0,
  "metadata": {
    "colab": {
      "name": "13.ipynb",
      "provenance": [],
      "authorship_tag": "ABX9TyMIi4p2hqM48GGX/ZyN84Gb",
      "include_colab_link": true
    },
    "kernelspec": {
      "name": "python3",
      "display_name": "Python 3"
    },
    "language_info": {
      "name": "python"
    }
  },
  "cells": [
    {
      "cell_type": "markdown",
      "metadata": {
        "id": "view-in-github",
        "colab_type": "text"
      },
      "source": [
        "<a href=\"https://colab.research.google.com/github/v1nnyb0y/leetcode/blob/master/Strings/13_roman-to-integer.ipynb\" target=\"_parent\"><img src=\"https://colab.research.google.com/assets/colab-badge.svg\" alt=\"Open In Colab\"/></a>"
      ]
    },
    {
      "cell_type": "code",
      "execution_count": null,
      "metadata": {
        "id": "yACtTDTk0wzC"
      },
      "outputs": [],
      "source": [
        "class Solution:\n",
        "    def romanToInt(self, s: str) -> int:\n",
        "        rd = {\n",
        "            \"I\" : 1,\n",
        "            \"V\" : 5,\n",
        "            \"X\" : 10,\n",
        "            \"L\" : 50,\n",
        "            \"C\" : 100,\n",
        "            \"D\" : 500,\n",
        "            \"M\" : 1000\n",
        "        }\n",
        "        \n",
        "        n = len(s)\n",
        "        rt = 0\n",
        "        for i in range(n):\n",
        "            if  i==n-1 or rd[s[i]] >= rd[s[i+1]] :\n",
        "                rt += rd[s[i]]\n",
        "            else :\n",
        "                rt -= rd[s[i]]\n",
        "                \n",
        "        return rt"
      ]
    }
  ]
}