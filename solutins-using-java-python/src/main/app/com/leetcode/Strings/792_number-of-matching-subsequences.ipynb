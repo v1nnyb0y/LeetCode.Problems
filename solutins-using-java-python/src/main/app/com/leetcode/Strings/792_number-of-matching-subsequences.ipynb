{
  "nbformat": 4,
  "nbformat_minor": 0,
  "metadata": {
    "colab": {
      "name": "792.ipynb",
      "provenance": [],
      "authorship_tag": "ABX9TyOYnrCirrQ2Jcp2fVp4GD35",
      "include_colab_link": true
    },
    "kernelspec": {
      "name": "python3",
      "display_name": "Python 3"
    },
    "language_info": {
      "name": "python"
    }
  },
  "cells": [
    {
      "cell_type": "markdown",
      "metadata": {
        "id": "view-in-github",
        "colab_type": "text"
      },
      "source": [
        "<a href=\"https://colab.research.google.com/github/v1nnyb0y/leetcode/blob/master/Strings/792_number-of-matching-subsequences.ipynb\" target=\"_parent\"><img src=\"https://colab.research.google.com/assets/colab-badge.svg\" alt=\"Open In Colab\"/></a>"
      ]
    },
    {
      "cell_type": "code",
      "execution_count": null,
      "metadata": {
        "id": "n9U3Ve0Dz4lB"
      },
      "outputs": [],
      "source": [
        "class Solution:\n",
        "    def numMatchingSubseq(self, source, words):\n",
        "        s_idx = defaultdict(list)\n",
        "        for i, v in enumerate(source):\n",
        "            s_idx[v].append(i)\n",
        "\n",
        "        res=0\n",
        "        for word in words:\n",
        "            loop_cnt, p=1, -1\n",
        "            for w in word:\n",
        "                if w not in s_idx:\n",
        "                    loop_cnt-=1\n",
        "\n",
        "                offset = bisect.bisect_left(s_idx[w], p)\n",
        "\n",
        "                if offset == len(s_idx[w]):\n",
        "                    loop_cnt-=1\n",
        "                else:\n",
        "                    p = s_idx[w][offset]+1\n",
        "            if loop_cnt>=0:\n",
        "                res+=loop_cnt\n",
        "        return res"
      ]
    }
  ]
}