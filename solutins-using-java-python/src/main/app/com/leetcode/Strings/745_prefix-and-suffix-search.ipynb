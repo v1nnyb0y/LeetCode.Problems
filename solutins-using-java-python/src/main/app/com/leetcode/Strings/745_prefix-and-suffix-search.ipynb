{
  "nbformat": 4,
  "nbformat_minor": 0,
  "metadata": {
    "colab": {
      "name": "745.ipynb",
      "provenance": [],
      "authorship_tag": "ABX9TyNSKy5dlD9WuqTbQHpIXVpY",
      "include_colab_link": true
    },
    "kernelspec": {
      "name": "python3",
      "display_name": "Python 3"
    },
    "language_info": {
      "name": "python"
    }
  },
  "cells": [
    {
      "cell_type": "markdown",
      "metadata": {
        "id": "view-in-github",
        "colab_type": "text"
      },
      "source": [
        "<a href=\"https://colab.research.google.com/github/v1nnyb0y/leetcode/blob/master/Strings/745_prefix-and-suffix-search.ipynb\" target=\"_parent\"><img src=\"https://colab.research.google.com/assets/colab-badge.svg\" alt=\"Open In Colab\"/></a>"
      ]
    },
    {
      "cell_type": "code",
      "execution_count": null,
      "metadata": {
        "id": "F-xMcz1OZUbH"
      },
      "outputs": [],
      "source": [
        "Trie = lambda: collections.defaultdict(Trie)\n",
        "WEIGHT = False\n",
        "\n",
        "class WordFilter(object):\n",
        "    def __init__(self, words):\n",
        "        self.trie = Trie()\n",
        "\n",
        "        for weight, word in enumerate(words):\n",
        "            word += '#'\n",
        "            for i in range(len(word)):\n",
        "                cur = self.trie\n",
        "                cur[WEIGHT] = weight\n",
        "                for j in range(i, 2 * len(word) - 1):\n",
        "                    cur = cur[word[j % len(word)]]\n",
        "                    cur[WEIGHT] = weight\n",
        "\n",
        "    def f(self, prefix, suffix):\n",
        "        cur = self.trie\n",
        "        for letter in suffix + '#' + prefix:\n",
        "            if letter not in cur:\n",
        "                return -1\n",
        "            cur = cur[letter]\n",
        "        return cur[WEIGHT]"
      ]
    }
  ]
}