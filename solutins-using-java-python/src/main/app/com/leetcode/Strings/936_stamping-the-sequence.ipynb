{
  "nbformat": 4,
  "nbformat_minor": 0,
  "metadata": {
    "colab": {
      "name": "936.ipynb",
      "provenance": [],
      "authorship_tag": "ABX9TyOGNxYXL0W1jLARJmv9kBtF",
      "include_colab_link": true
    },
    "kernelspec": {
      "name": "python3",
      "display_name": "Python 3"
    },
    "language_info": {
      "name": "python"
    }
  },
  "cells": [
    {
      "cell_type": "markdown",
      "metadata": {
        "id": "view-in-github",
        "colab_type": "text"
      },
      "source": [
        "<a href=\"https://colab.research.google.com/github/v1nnyb0y/leetcode/blob/master/Strings/936_stamping-the-sequence.ipynb\" target=\"_parent\"><img src=\"https://colab.research.google.com/assets/colab-badge.svg\" alt=\"Open In Colab\"/></a>"
      ]
    },
    {
      "cell_type": "code",
      "execution_count": null,
      "metadata": {
        "id": "VxxdGxws2MVh"
      },
      "outputs": [],
      "source": [
        "class Solution(object):\n",
        "    def movesToStamp(self, stamp, target):\n",
        "        \"\"\"\n",
        "        :type stamp: str\n",
        "        :type target: str\n",
        "        :rtype: List[int]\n",
        "        \"\"\"\n",
        "        if target[0]!=stamp[0] or target[-1]!=stamp[-1]: return []\n",
        "        tlen = len(target)\n",
        "        slen = len(stamp)\n",
        "        target = list(target)\n",
        "        res = []\n",
        "        while True:\n",
        "            left = -1\n",
        "            for i in range(tlen-slen+1):\n",
        "                match = True\n",
        "                effective = 0\n",
        "                for j in range(slen):\n",
        "                    if target[i+j] != '?' and target[i+j] != stamp[j]:\n",
        "                        match = False\n",
        "                        break\n",
        "                    elif target[i+j] != '?': effective += 1\n",
        "                if match and effective:\n",
        "                    left = i\n",
        "                    break\n",
        "            if left == -1: break\n",
        "            for j in range(slen): target[left+j] = '?'\n",
        "            res.insert(0,left)\n",
        "        for i in range(tlen): \n",
        "            if target[i] != '?': return []\n",
        "        return res"
      ]
    }
  ]
}