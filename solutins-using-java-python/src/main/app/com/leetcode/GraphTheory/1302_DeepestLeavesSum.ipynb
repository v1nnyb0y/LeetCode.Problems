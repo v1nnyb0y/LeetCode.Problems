{
  "nbformat": 4,
  "nbformat_minor": 0,
  "metadata": {
    "colab": {
      "name": "1302.ipynb",
      "provenance": [],
      "authorship_tag": "ABX9TyOYOwfVWOcV3SofGZJZXBXl",
      "include_colab_link": true
    },
    "kernelspec": {
      "name": "python3",
      "display_name": "Python 3"
    },
    "language_info": {
      "name": "python"
    }
  },
  "cells": [
    {
      "cell_type": "markdown",
      "metadata": {
        "id": "view-in-github",
        "colab_type": "text"
      },
      "source": [
        "<a href=\"https://colab.research.google.com/github/v1nnyb0y/leetcode/blob/master/GraphTheory/1302_DeepestLeavesSum.ipynb\" target=\"_parent\"><img src=\"https://colab.research.google.com/assets/colab-badge.svg\" alt=\"Open In Colab\"/></a>"
      ]
    },
    {
      "cell_type": "code",
      "execution_count": null,
      "metadata": {
        "id": "W057fayDaanj"
      },
      "outputs": [],
      "source": [
        "class Solution:\n",
        "    def deepestLeavesSum(self, root: Optional[TreeNode]) -> int:\n",
        "        def get_height(root):\n",
        "            if not root: return 0\n",
        "            return 1 + max(get_height(root.left), get_height(root.right))\n",
        "        h = get_height(root)\n",
        "        q, res, level = [], [], 1\n",
        "        q.append(root)\n",
        "        while q:\n",
        "            size = len(q)\n",
        "            for i in range(size):\n",
        "                node = q.pop(0)\n",
        "                if node.left:\n",
        "                    q.append(node.left)\n",
        "                if node.right:\n",
        "                    q.append(node.right)\n",
        "                if node and level == h:\n",
        "                    res.append(node.val)\n",
        "            level += 1\n",
        "        return sum(res)"
      ]
    }
  ]
}