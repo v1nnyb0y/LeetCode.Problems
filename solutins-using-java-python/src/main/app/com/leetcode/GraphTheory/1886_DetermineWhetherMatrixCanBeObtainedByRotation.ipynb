{
  "nbformat": 4,
  "nbformat_minor": 0,
  "metadata": {
    "colab": {
      "name": "1886.ipynb",
      "provenance": [],
      "authorship_tag": "ABX9TyODdWMjDvlc9q29/PEqabQD",
      "include_colab_link": true
    },
    "kernelspec": {
      "name": "python3",
      "display_name": "Python 3"
    },
    "language_info": {
      "name": "python"
    }
  },
  "cells": [
    {
      "cell_type": "markdown",
      "metadata": {
        "id": "view-in-github",
        "colab_type": "text"
      },
      "source": [
        "<a href=\"https://colab.research.google.com/github/v1nnyb0y/leetcode/blob/master/GraphTheory/1886_DetermineWhetherMatrixCanBeObtainedByRotation.ipynb\" target=\"_parent\"><img src=\"https://colab.research.google.com/assets/colab-badge.svg\" alt=\"Open In Colab\"/></a>"
      ]
    },
    {
      "cell_type": "code",
      "execution_count": null,
      "metadata": {
        "id": "DloO6GAiucDo"
      },
      "outputs": [],
      "source": [
        "class Solution:\n",
        "    def findRotation(self, mat: List[List[int]], target: List[List[int]]) -> bool:\n",
        "        m = len(mat) -1 \n",
        "        one = two = three = four = True\n",
        "        for i in range(len(mat)):\n",
        "            for j in range(len(mat[0])):\n",
        "\n",
        "                if target[i][j] != mat[i][j]:\n",
        "                    one = False\n",
        "\n",
        "                if target[i][j] != mat[m-j][i]:\n",
        "                    two = False\n",
        "\n",
        "                if target[i][j] != mat[m-i][m-j]:\n",
        "                    three = False\n",
        "\n",
        "                if target[i][j] != mat[j][m-i]:\n",
        "                    four = False\n",
        "\n",
        "        return one | two | three | four"
      ]
    }
  ]
}