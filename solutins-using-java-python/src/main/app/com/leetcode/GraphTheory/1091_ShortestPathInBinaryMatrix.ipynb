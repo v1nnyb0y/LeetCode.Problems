{
  "nbformat": 4,
  "nbformat_minor": 0,
  "metadata": {
    "colab": {
      "name": "1091.ipynb",
      "provenance": [],
      "authorship_tag": "ABX9TyNqzBp3oBg6NlPXQhA0OHch",
      "include_colab_link": true
    },
    "kernelspec": {
      "name": "python3",
      "display_name": "Python 3"
    },
    "language_info": {
      "name": "python"
    }
  },
  "cells": [
    {
      "cell_type": "markdown",
      "metadata": {
        "id": "view-in-github",
        "colab_type": "text"
      },
      "source": [
        "<a href=\"https://colab.research.google.com/github/v1nnyb0y/leetcode/blob/master/GraphTheory/1091_ShortestPathInBinaryMatrix.ipynb\" target=\"_parent\"><img src=\"https://colab.research.google.com/assets/colab-badge.svg\" alt=\"Open In Colab\"/></a>"
      ]
    },
    {
      "cell_type": "code",
      "execution_count": null,
      "metadata": {
        "id": "mjwjDHXgqiv0"
      },
      "outputs": [],
      "source": [
        "class Solution:\n",
        "    def shortestPathBinaryMatrix(self, grid: List[List[int]]) -> int:\n",
        "        if grid[0][0] != 0:\n",
        "            return -1\n",
        "        visited = set()   #IMPORTANT: Using Set instead of List because searching in python set takes O(1) where as searching in python lists take O(n)\n",
        "        queue = collections.deque()\n",
        "        queue.append([0,0,1]) #Add 0,0 of the grid with depth 1 to queue\n",
        "        N = len(grid) #N to check for bounds and end case\n",
        "        while queue:\n",
        "            [r,c,depth] = queue.popleft()\n",
        "            if r == N-1 and c == N-1:  #If we are at the target location, return depth\n",
        "                return depth\n",
        "            for [nr,nc] in [[r-1,c-1],[r-1,c],[r-1,c+1],[r,c-1],[r,c+1],[r+1,c-1],[r+1,c],[r+1,c+1]]:\n",
        "                if ((nr,nc) not in visited) and (0 <= nr < N) and (0 <= nc < N) and (grid[nr][nc] == 0):\n",
        "                    visited.add((nr,nc))\n",
        "                    queue.append([nr,nc,depth+1])\n",
        "        return -1"
      ]
    }
  ]
}