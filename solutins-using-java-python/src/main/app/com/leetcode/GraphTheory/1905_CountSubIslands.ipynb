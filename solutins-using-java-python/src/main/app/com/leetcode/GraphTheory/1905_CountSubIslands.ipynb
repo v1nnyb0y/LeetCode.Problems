{
  "nbformat": 4,
  "nbformat_minor": 0,
  "metadata": {
    "colab": {
      "name": "1905.ipynb",
      "provenance": [],
      "authorship_tag": "ABX9TyMcBbxYVyAWc0AyS6Dl3KRl",
      "include_colab_link": true
    },
    "kernelspec": {
      "name": "python3",
      "display_name": "Python 3"
    },
    "language_info": {
      "name": "python"
    }
  },
  "cells": [
    {
      "cell_type": "markdown",
      "metadata": {
        "id": "view-in-github",
        "colab_type": "text"
      },
      "source": [
        "<a href=\"https://colab.research.google.com/github/v1nnyb0y/leetcode/blob/master/GraphTheory/1905_CountSubIslands.ipynb\" target=\"_parent\"><img src=\"https://colab.research.google.com/assets/colab-badge.svg\" alt=\"Open In Colab\"/></a>"
      ]
    },
    {
      "cell_type": "code",
      "execution_count": null,
      "metadata": {
        "id": "EdbkArhR_poY"
      },
      "outputs": [],
      "source": [
        "class Solution:\n",
        "    def countSubIslands(self, grid1: List[List[int]], grid2: List[List[int]]) -> int:\n",
        "        row, col = len(grid2), len(grid2[0])\n",
        "        visited = [[False] * col for _ in range(row)]\n",
        "        def dfs(x, y, isSub):\n",
        "            res = isSub\n",
        "            for dx, dy in [(-1, 0), (1, 0), (0, -1), (0, 1)]:\n",
        "                i, j = x + dx, y + dy\n",
        "                if 0 <= i < row and 0 <= j < col and not visited[i][j] and grid2[i][j] == 1:\n",
        "                    visited[i][j] = True\n",
        "                    res &= dfs(i, j, isSub & (grid2[i][j] == grid1[i][j] == 1))\n",
        "            return res\n",
        "        res = 0\n",
        "        for i in range(row):\n",
        "            for j in range(col):\n",
        "                if grid2[i][j] == 1 and not visited[i][j] and dfs(i, j, grid1[i][j] == grid2[i][j] == 1):\n",
        "                    res += 1\n",
        "        return res"
      ]
    }
  ]
}