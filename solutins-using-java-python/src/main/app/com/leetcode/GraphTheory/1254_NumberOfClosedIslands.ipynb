{
  "nbformat": 4,
  "nbformat_minor": 0,
  "metadata": {
    "colab": {
      "name": "1254.ipynb",
      "provenance": [],
      "authorship_tag": "ABX9TyM1mdJGcoYheQ6ZKufGBM0s",
      "include_colab_link": true
    },
    "kernelspec": {
      "name": "python3",
      "display_name": "Python 3"
    },
    "language_info": {
      "name": "python"
    }
  },
  "cells": [
    {
      "cell_type": "markdown",
      "metadata": {
        "id": "view-in-github",
        "colab_type": "text"
      },
      "source": [
        "<a href=\"https://colab.research.google.com/github/v1nnyb0y/leetcode/blob/master/GraphTheory/1254_NumberOfClosedIslands.ipynb\" target=\"_parent\"><img src=\"https://colab.research.google.com/assets/colab-badge.svg\" alt=\"Open In Colab\"/></a>"
      ]
    },
    {
      "cell_type": "code",
      "execution_count": null,
      "metadata": {
        "id": "BIEJmm5IkZQN"
      },
      "outputs": [],
      "source": [
        "class Solution:\n",
        "    def closedIsland(self, grid):\n",
        "        closed, visitedAreas = 0, [[0]*len(grid[0]) for _ in range(len(grid))]\n",
        "        for i in range(len(grid)):\n",
        "            for j in range(len(grid[0])):\n",
        "                if grid[i][j] == 0 and visitedAreas[i][j] == 0:\n",
        "                    closed += 1 if self.checkArea(grid, visitedAreas, i, j) else 0\n",
        "        return closed\n",
        "    \n",
        "    def checkArea(self, grid, visitedAreas, i, j):\n",
        "        closed = 1;\n",
        "        if i>=0 and i<len(grid) and j>=0 and j<len(grid[0]):\n",
        "            if grid[i][j] == 0 and visitedAreas[i][j] == 0:\n",
        "                visitedAreas[i][j] = 1\n",
        "                if i==0 or i==len(grid)-1 or j==0 or j==len(grid[0])-1:\n",
        "                    closed *= 0\n",
        "                closed *= self.checkArea(grid, visitedAreas, i-1, j) \n",
        "                closed *= self.checkArea(grid, visitedAreas, i, j+1)\n",
        "                closed *= self.checkArea(grid, visitedAreas, i+1, j)\n",
        "                closed *= self.checkArea(grid, visitedAreas, i, j-1)\n",
        "        return closed"
      ]
    }
  ]
}