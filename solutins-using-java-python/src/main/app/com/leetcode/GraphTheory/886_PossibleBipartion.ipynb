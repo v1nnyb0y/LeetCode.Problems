{
  "nbformat": 4,
  "nbformat_minor": 0,
  "metadata": {
    "colab": {
      "name": "886.ipynb",
      "provenance": [],
      "authorship_tag": "ABX9TyP2d5bjzBBvuU7MrNT4f9+f",
      "include_colab_link": true
    },
    "kernelspec": {
      "name": "python3",
      "display_name": "Python 3"
    },
    "language_info": {
      "name": "python"
    }
  },
  "cells": [
    {
      "cell_type": "markdown",
      "metadata": {
        "id": "view-in-github",
        "colab_type": "text"
      },
      "source": [
        "<a href=\"https://colab.research.google.com/github/v1nnyb0y/leetcode/blob/master/GraphTheory/886_PossibleBipartion.ipynb\" target=\"_parent\"><img src=\"https://colab.research.google.com/assets/colab-badge.svg\" alt=\"Open In Colab\"/></a>"
      ]
    },
    {
      "cell_type": "code",
      "execution_count": null,
      "metadata": {
        "id": "2dgzBi5aRnks"
      },
      "outputs": [],
      "source": [
        "class Solution:\n",
        "    def possibleBipartition(self, N: int, dislikes: List[List[int]]) -> bool:\n",
        "        dic = {}\n",
        "        for pair in dislikes:\n",
        "            if pair[0] in dic:\n",
        "                dic[pair[0]].add(pair[1])\n",
        "            else:\n",
        "                dic[pair[0]] = set([pair[1]])\n",
        "            if pair[1] in dic:\n",
        "                dic[pair[1]].add(pair[0])\n",
        "            else:\n",
        "                dic[pair[1]] = set([pair[0]])\n",
        "        seen = {}\n",
        "        for i in range(1, N+1):\n",
        "            if i not in seen:\n",
        "                seen[i] = 0\n",
        "                stack = [i]\n",
        "                while stack:\n",
        "                    u = stack.pop()\n",
        "                    if u in dic:\n",
        "                        for j in dic[u]:\n",
        "                            if j in seen:\n",
        "                                if seen[u] == seen[j]:\n",
        "                                    return False\n",
        "                            else:\n",
        "                                seen[j] = (seen[u]+1) % 2\n",
        "                                stack.append(j)\n",
        "        return True"
      ]
    }
  ]
}