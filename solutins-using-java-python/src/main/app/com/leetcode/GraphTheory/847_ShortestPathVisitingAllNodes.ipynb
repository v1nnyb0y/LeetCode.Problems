{
  "nbformat": 4,
  "nbformat_minor": 0,
  "metadata": {
    "colab": {
      "name": "847.ipynb",
      "provenance": [],
      "authorship_tag": "ABX9TyNQLE8d63ClWv0eERv6eyDg",
      "include_colab_link": true
    },
    "kernelspec": {
      "name": "python3",
      "display_name": "Python 3"
    },
    "language_info": {
      "name": "python"
    }
  },
  "cells": [
    {
      "cell_type": "markdown",
      "metadata": {
        "id": "view-in-github",
        "colab_type": "text"
      },
      "source": [
        "<a href=\"https://colab.research.google.com/github/v1nnyb0y/leetcode/blob/master/GraphTheory/847_ShortestPathVisitingAllNodes.ipynb\" target=\"_parent\"><img src=\"https://colab.research.google.com/assets/colab-badge.svg\" alt=\"Open In Colab\"/></a>"
      ]
    },
    {
      "cell_type": "code",
      "execution_count": null,
      "metadata": {
        "id": "Z1Yw5l2PGp9b"
      },
      "outputs": [],
      "source": [
        "class Solution:\n",
        "    def shortestPathLength(self, graph: List[List[int]]) -> int:\n",
        "        def dp(node, mask):\n",
        "            state = (node, mask)\n",
        "            if state in cache:\n",
        "                return cache[state]\n",
        "            if mask & (mask - 1) == 0:\n",
        "                # Base case - mask only has a single \"1\", which means\n",
        "                # that only one node has been visited (the current node)\n",
        "                return 0\n",
        "\n",
        "            cache[state] = float(\"inf\") # Avoid infinite loop in recursion\n",
        "            for neighbor in graph[node]:\n",
        "                if mask & (1 << neighbor):\n",
        "                    already_visited = 1 + dp(neighbor, mask)\n",
        "                    not_visited = 1 + dp(neighbor, mask ^ (1 << node))\n",
        "                    cache[state] = min(cache[state], already_visited, not_visited)\n",
        "\n",
        "            return cache[state]\n",
        "\n",
        "        n = len(graph)\n",
        "        ending_mask = (1 << n) - 1\n",
        "        cache = {}\n",
        "\n",
        "        return min(dp(node, ending_mask) for node in range(n))"
      ]
    }
  ]
}