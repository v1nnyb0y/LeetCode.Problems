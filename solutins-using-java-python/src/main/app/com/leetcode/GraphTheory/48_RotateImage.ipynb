{
  "nbformat": 4,
  "nbformat_minor": 0,
  "metadata": {
    "colab": {
      "name": "48.ipynb",
      "provenance": [],
      "authorship_tag": "ABX9TyN4yOjW56qh3OOSU3h1ra/7",
      "include_colab_link": true
    },
    "kernelspec": {
      "name": "python3",
      "display_name": "Python 3"
    },
    "language_info": {
      "name": "python"
    }
  },
  "cells": [
    {
      "cell_type": "markdown",
      "metadata": {
        "id": "view-in-github",
        "colab_type": "text"
      },
      "source": [
        "<a href=\"https://colab.research.google.com/github/v1nnyb0y/leetcode/blob/master/GraphTheory/48_RotateImage.ipynb\" target=\"_parent\"><img src=\"https://colab.research.google.com/assets/colab-badge.svg\" alt=\"Open In Colab\"/></a>"
      ]
    },
    {
      "cell_type": "code",
      "execution_count": 10,
      "metadata": {
        "colab": {
          "base_uri": "https://localhost:8080/"
        },
        "id": "iWONBwihpA54",
        "outputId": "936a3822-b248-49f6-eb46-4c36f32d2460"
      },
      "outputs": [
        {
          "output_type": "stream",
          "name": "stdout",
          "text": [
            "2\n",
            "1\n",
            "1\n"
          ]
        }
      ],
      "source": [
        "class Solution:\n",
        "    def rotate(self, matrix: List[List[int]]) -> None:\n",
        "        \"\"\"\n",
        "        Do not return anything, modify matrix in-place instead.\n",
        "        \"\"\"\n",
        "        n = len(matrix[0])\n",
        "        for i in range(n // 2 + n % 2):\n",
        "            for j in range(n // 2):\n",
        "                tmp = matrix[n - 1 - j][i]\n",
        "                matrix[n - 1 - j][i] = matrix[n - 1 - i][n - j - 1]\n",
        "                matrix[n - 1 - i][n - j - 1] = matrix[j][n - 1 -i]\n",
        "                matrix[j][n - 1 - i] = matrix[i][j]\n",
        "                matrix[i][j] = tmp"
      ]
    }
  ]
}