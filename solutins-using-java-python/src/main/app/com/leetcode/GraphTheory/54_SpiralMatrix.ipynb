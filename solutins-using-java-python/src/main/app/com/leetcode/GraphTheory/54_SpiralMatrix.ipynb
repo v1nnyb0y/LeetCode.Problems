{
  "nbformat": 4,
  "nbformat_minor": 0,
  "metadata": {
    "colab": {
      "name": "54.ipynb",
      "provenance": [],
      "authorship_tag": "ABX9TyO84b20pqs3Ohyr/nGkM6DW",
      "include_colab_link": true
    },
    "kernelspec": {
      "name": "python3",
      "display_name": "Python 3"
    },
    "language_info": {
      "name": "python"
    }
  },
  "cells": [
    {
      "cell_type": "markdown",
      "metadata": {
        "id": "view-in-github",
        "colab_type": "text"
      },
      "source": [
        "<a href=\"https://colab.research.google.com/github/v1nnyb0y/leetcode/blob/master/GraphTheory/54_SpiralMatrix.ipynb\" target=\"_parent\"><img src=\"https://colab.research.google.com/assets/colab-badge.svg\" alt=\"Open In Colab\"/></a>"
      ]
    },
    {
      "cell_type": "code",
      "execution_count": null,
      "metadata": {
        "id": "iosJSXV-MeYj"
      },
      "outputs": [],
      "source": [
        "class Solution:\n",
        "    def spiralOrder(self, matrix: List[List[int]]) -> List[int]:\n",
        "        if not matrix or not matrix[0]:\n",
        "            return []\n",
        "        res = []\n",
        "        y0 = 0\n",
        "        y1 = len(matrix)\n",
        "        x0 = 0\n",
        "        x1 = len(matrix[0])\n",
        "        while y1 > y0 and x1 > x0:\n",
        "            for i in range(x0, x1):\n",
        "                res.append(matrix[y0][i])\n",
        "            for j in range(y0+1, y1-1):\n",
        "                res.append(matrix[j][x1-1])\n",
        "            if y1 != y0+1:\n",
        "                for i in range(x1-1, x0-1, -1):\n",
        "                    res.append(matrix[y1-1][i])\n",
        "            if x0 != x1-1:\n",
        "                for j in range(y1-2, y0, -1):\n",
        "                    res.append(matrix[j][x0])\n",
        "            y0 += 1\n",
        "            y1 -= 1\n",
        "            x0 += 1\n",
        "            x1 -= 1\n",
        "        return res"
      ]
    }
  ]
}