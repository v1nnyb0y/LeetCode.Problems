{
  "nbformat": 4,
  "nbformat_minor": 0,
  "metadata": {
    "colab": {
      "name": "417.ipynb",
      "provenance": [],
      "authorship_tag": "ABX9TyMQbXygfyuSj7587FxSwm/W",
      "include_colab_link": true
    },
    "kernelspec": {
      "name": "python3",
      "display_name": "Python 3"
    },
    "language_info": {
      "name": "python"
    }
  },
  "cells": [
    {
      "cell_type": "markdown",
      "metadata": {
        "id": "view-in-github",
        "colab_type": "text"
      },
      "source": [
        "<a href=\"https://colab.research.google.com/github/v1nnyb0y/leetcode/blob/master/GraphTheory/417_PacificAtlanticWaterFlow.ipynb\" target=\"_parent\"><img src=\"https://colab.research.google.com/assets/colab-badge.svg\" alt=\"Open In Colab\"/></a>"
      ]
    },
    {
      "cell_type": "code",
      "execution_count": null,
      "metadata": {
        "id": "ptwPDp-Cxh7e"
      },
      "outputs": [],
      "source": [
        "class Solution:\n",
        "    def pacificAtlantic(self, heights: List[List[int]]) -> List[List[int]]:\n",
        "        if not heights or not heights[0]: return []\n",
        "        rows, cols = len(heights), len(heights[0])\n",
        "        dirs = [0, -1, 0, 1, 0]\n",
        "\n",
        "        def flow_up(i, j, ocean_x, ocean_y, location_set):\n",
        "            '''will populate the location_set that reaches the ocean specified by coordinates'''\n",
        "            location_set.add((i, j))\n",
        "            for d1, d2 in zip(dirs, dirs[1:]):\n",
        "                ni, nj = i + d1, j + d2\n",
        "                if (ni, nj) in location_set or not (rows > ni >= 0 <= nj < cols): continue\n",
        "                if ocean_x in [ni+1, ni-1] or ocean_y in [nj+1, nj-1] or heights[ni][nj] >= heights[i][j]:\n",
        "                    flow_up(ni, nj, ocean_x, ocean_y, location_set)\n",
        "            return location_set\n",
        "\n",
        "        pacific = flow_up(0, 0, -1, -1, set())\n",
        "        atlantic = flow_up(rows-1, cols-1, rows, cols, set())\n",
        "\n",
        "        return pacific & atlantic\n",
        "                    "
      ]
    }
  ]
}