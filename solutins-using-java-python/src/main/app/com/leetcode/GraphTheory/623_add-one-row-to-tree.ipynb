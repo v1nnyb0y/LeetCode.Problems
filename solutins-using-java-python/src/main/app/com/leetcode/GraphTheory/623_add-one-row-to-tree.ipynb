{
  "nbformat": 4,
  "nbformat_minor": 0,
  "metadata": {
    "colab": {
      "provenance": [],
      "authorship_tag": "ABX9TyP8kN2fHkdMb7gsn6oRdIjn",
      "include_colab_link": true
    },
    "kernelspec": {
      "name": "python3",
      "display_name": "Python 3"
    },
    "language_info": {
      "name": "python"
    }
  },
  "cells": [
    {
      "cell_type": "markdown",
      "metadata": {
        "id": "view-in-github",
        "colab_type": "text"
      },
      "source": [
        "<a href=\"https://colab.research.google.com/github/v1nnyb0y/leetcode/blob/master/GraphTheory/623_add-one-row-to-tree.ipynb\" target=\"_parent\"><img src=\"https://colab.research.google.com/assets/colab-badge.svg\" alt=\"Open In Colab\"/></a>"
      ]
    },
    {
      "cell_type": "code",
      "execution_count": null,
      "metadata": {
        "id": "Fi1eLMygIbIb"
      },
      "outputs": [],
      "source": [
        "class Solution(object):\n",
        "    def addOneRow(self, root, v, d):\n",
        "        \"\"\"\n",
        "        :type root: TreeNode\n",
        "        :type v: int\n",
        "        :type d: int\n",
        "        :rtype: TreeNode\n",
        "        \"\"\"\n",
        "        if d == 1:\n",
        "            nroot = TreeNode(v)\n",
        "            nroot.left = root\n",
        "            nroot.right = None\n",
        "            return nroot\n",
        "        q = collections.deque([(root,1)])\n",
        "        while q:\n",
        "            u, depth = q.popleft()\n",
        "            if depth == d-1:\n",
        "                l = TreeNode(v)\n",
        "                l.left = u.left\n",
        "                l.right = None\n",
        "                u.left = l\n",
        "                r = TreeNode(v)\n",
        "                r.left = None\n",
        "                r.right = u.right\n",
        "                u.right = r\n",
        "                continue\n",
        "            if u.left:\n",
        "                q.append((u.left, depth+1))\n",
        "            if u.right:\n",
        "                q.append((u.right, depth+1))\n",
        "        return root"
      ]
    }
  ]
}