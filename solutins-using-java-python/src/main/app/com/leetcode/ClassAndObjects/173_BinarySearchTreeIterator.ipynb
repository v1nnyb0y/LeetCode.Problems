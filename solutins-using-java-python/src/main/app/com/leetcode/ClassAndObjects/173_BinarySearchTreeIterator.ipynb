{
  "nbformat": 4,
  "nbformat_minor": 0,
  "metadata": {
    "colab": {
      "name": "173.ipynb",
      "provenance": [],
      "authorship_tag": "ABX9TyM4dQeu2H/pFywVsF9lHgFx",
      "include_colab_link": true
    },
    "kernelspec": {
      "name": "python3",
      "display_name": "Python 3"
    },
    "language_info": {
      "name": "python"
    }
  },
  "cells": [
    {
      "cell_type": "markdown",
      "metadata": {
        "id": "view-in-github",
        "colab_type": "text"
      },
      "source": [
        "<a href=\"https://colab.research.google.com/github/v1nnyb0y/leetcode/blob/master/ClassAndObjects/173_BinarySearchTreeIterator.ipynb\" target=\"_parent\"><img src=\"https://colab.research.google.com/assets/colab-badge.svg\" alt=\"Open In Colab\"/></a>"
      ]
    },
    {
      "cell_type": "code",
      "execution_count": null,
      "metadata": {
        "id": "xWknGiUb4UKC"
      },
      "outputs": [],
      "source": [
        "class BSTIterator:\n",
        "    def __init__(self, root):\n",
        "        self.stack = []\n",
        "        self.curr = root\n",
        "        \n",
        "    def next(self):\n",
        "        while self.curr or self.stack:\n",
        "            if self.curr:\n",
        "                self.stack.append(self.curr)\n",
        "                self.curr = self.curr.left\n",
        "            else:\n",
        "                result = self.stack.pop()\n",
        "                self.curr = result.right\n",
        "                return result.val\n",
        "        \n",
        "    def hasNext(self):\n",
        "        return self.curr or self.stack"
      ]
    }
  ]
}