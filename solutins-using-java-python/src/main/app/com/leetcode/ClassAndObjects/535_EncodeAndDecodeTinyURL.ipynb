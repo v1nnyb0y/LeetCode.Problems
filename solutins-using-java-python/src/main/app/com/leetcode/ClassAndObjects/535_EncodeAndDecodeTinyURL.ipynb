{
  "nbformat": 4,
  "nbformat_minor": 0,
  "metadata": {
    "colab": {
      "name": "535.ipynb",
      "provenance": [],
      "authorship_tag": "ABX9TyOCT8WZrxmCWXidpEuT9exs",
      "include_colab_link": true
    },
    "kernelspec": {
      "name": "python3",
      "display_name": "Python 3"
    },
    "language_info": {
      "name": "python"
    }
  },
  "cells": [
    {
      "cell_type": "markdown",
      "metadata": {
        "id": "view-in-github",
        "colab_type": "text"
      },
      "source": [
        "<a href=\"https://colab.research.google.com/github/v1nnyb0y/leetcode/blob/master/ClassAndObjects/535_EncodeAndDecodeTinyURL.ipynb\" target=\"_parent\"><img src=\"https://colab.research.google.com/assets/colab-badge.svg\" alt=\"Open In Colab\"/></a>"
      ]
    },
    {
      "cell_type": "code",
      "execution_count": null,
      "metadata": {
        "id": "cjLLaDKyOe_q"
      },
      "outputs": [],
      "source": [
        "class Codec:\n",
        "\n",
        "    def __init__(self):\n",
        "        self.dict = {}\n",
        "        \n",
        "    def encode(self, longUrl: str) -> str:\n",
        "        \"\"\"Encodes a URL to a shortened URL.\n",
        "        \"\"\"\n",
        "        shortUrl = hash(longUrl)\n",
        "        self.dict[shortUrl] = longUrl\n",
        "        return shortUrl\n",
        "\n",
        "    def decode(self, shortUrl: str) -> str:\n",
        "        \"\"\"Decodes a shortened URL to its original URL.\n",
        "        \"\"\"\n",
        "        return self.dict[shortUrl]\n",
        "        \n",
        "\n",
        "# Your Codec object will be instantiated and called as such:\n",
        "# codec = Codec()\n",
        "# codec.decode(codec.encode(url))"
      ]
    }
  ]
}