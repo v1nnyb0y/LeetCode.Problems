{
  "nbformat": 4,
  "nbformat_minor": 0,
  "metadata": {
    "colab": {
      "name": "1797.ipynb",
      "provenance": [],
      "authorship_tag": "ABX9TyP4aRERVvCGGmVKOXbN2prl",
      "include_colab_link": true
    },
    "kernelspec": {
      "name": "python3",
      "display_name": "Python 3"
    },
    "language_info": {
      "name": "python"
    }
  },
  "cells": [
    {
      "cell_type": "markdown",
      "metadata": {
        "id": "view-in-github",
        "colab_type": "text"
      },
      "source": [
        "<a href=\"https://colab.research.google.com/github/v1nnyb0y/leetcode/blob/master/ClassAndObjects/1797_DesignAuthenticationManager.ipynb\" target=\"_parent\"><img src=\"https://colab.research.google.com/assets/colab-badge.svg\" alt=\"Open In Colab\"/></a>"
      ]
    },
    {
      "cell_type": "code",
      "execution_count": null,
      "metadata": {
        "id": "hKfEjvbUIWAe"
      },
      "outputs": [],
      "source": [
        "class AuthenticationManager:\n",
        "    def __init__(self, timeToLive: int):\n",
        "        self.time = timeToLive\n",
        "        self.unexpired = {}\n",
        "\n",
        "    def generate(self, tokenId: str, currentTime: int) -> None:\n",
        "        self.unexpired[tokenId] = currentTime + self.time\n",
        "\n",
        "    def renew(self, tokenId: str, currentTime: int) -> None:\n",
        "        if self.unexpired.get(tokenId, 0) > currentTime:\n",
        "            self.unexpired[tokenId] = currentTime + self.time\n",
        "\n",
        "    def countUnexpiredTokens(self, currentTime: int) -> int:\n",
        "        for token in tuple(self.unexpired.keys()):\n",
        "            if self.unexpired[token] <= currentTime:\n",
        "                self.unexpired.pop(token)\n",
        "        return len(self.unexpired)\n",
        "        \n",
        "\n",
        "\n",
        "# Your AuthenticationManager object will be instantiated and called as such:\n",
        "# obj = AuthenticationManager(timeToLive)\n",
        "# obj.generate(tokenId,currentTime)\n",
        "# obj.renew(tokenId,currentTime)\n",
        "# param_3 = obj.countUnexpiredTokens(currentTime)"
      ]
    }
  ]
}