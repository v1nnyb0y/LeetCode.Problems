{
  "nbformat": 4,
  "nbformat_minor": 0,
  "metadata": {
    "colab": {
      "name": "354.ipynb",
      "provenance": [],
      "authorship_tag": "ABX9TyM+64rvUrMYRbHMEGzHSscb",
      "include_colab_link": true
    },
    "kernelspec": {
      "name": "python3",
      "display_name": "Python 3"
    },
    "language_info": {
      "name": "python"
    }
  },
  "cells": [
    {
      "cell_type": "markdown",
      "metadata": {
        "id": "view-in-github",
        "colab_type": "text"
      },
      "source": [
        "<a href=\"https://colab.research.google.com/github/v1nnyb0y/leetcode/blob/master/DynamicProgramming/354_russian-doll-envelopes.ipynb\" target=\"_parent\"><img src=\"https://colab.research.google.com/assets/colab-badge.svg\" alt=\"Open In Colab\"/></a>"
      ]
    },
    {
      "cell_type": "code",
      "execution_count": null,
      "metadata": {
        "id": "lLqgmM9nejqJ"
      },
      "outputs": [],
      "source": [
        "class Solution:\n",
        "    def maxEnvelopes(self, envelopes: List[List[int]]) -> int:\n",
        "        envelopes.sort(key=lambda x: (x[0], -x[1]))\n",
        "        \n",
        "        res = []\n",
        "        for i, e in enumerate(envelopes):\n",
        "            idx = bisect_left(res, e[1])\n",
        "            if idx == len(res):\n",
        "                res.append(e[1])\n",
        "            else:\n",
        "                res[idx]=e[1]\n",
        "        return len(res)    "
      ]
    }
  ]
}