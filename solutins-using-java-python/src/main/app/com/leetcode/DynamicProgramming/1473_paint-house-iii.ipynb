{
  "nbformat": 4,
  "nbformat_minor": 0,
  "metadata": {
    "colab": {
      "name": "1473.ipynb",
      "provenance": [],
      "authorship_tag": "ABX9TyPQQB8kdE/JhXS3HCaamC6K",
      "include_colab_link": true
    },
    "kernelspec": {
      "name": "python3",
      "display_name": "Python 3"
    },
    "language_info": {
      "name": "python"
    }
  },
  "cells": [
    {
      "cell_type": "markdown",
      "metadata": {
        "id": "view-in-github",
        "colab_type": "text"
      },
      "source": [
        "<a href=\"https://colab.research.google.com/github/v1nnyb0y/leetcode/blob/master/DynamicProgramming%5C1473_paint-house-iii.ipynb\" target=\"_parent\"><img src=\"https://colab.research.google.com/assets/colab-badge.svg\" alt=\"Open In Colab\"/></a>"
      ]
    },
    {
      "cell_type": "code",
      "execution_count": null,
      "metadata": {
        "id": "R7QewmCR97oz"
      },
      "outputs": [],
      "source": [
        "class Solution:\n",
        "    def minCost(self, A, cost, m, n, target):\n",
        "        dp, dp2 = {(0, 0): 0}, {}\n",
        "        for i, a in enumerate(A):\n",
        "            for cj in (range(1, n + 1) if a == 0 else [a]):\n",
        "                for ci, b in dp:\n",
        "                    b2 = b + (ci != cj)\n",
        "                    if b2 > target: continue\n",
        "                    dp2[cj, b2] = min(dp2.get((cj,b2), float('inf')), dp[ci, b] + (cost[i][cj - 1] if cj != a else 0))\n",
        "            dp, dp2 = dp2, {}\n",
        "        return min([dp[c, b] for c, b in dp if b == target] or [-1])"
      ]
    }
  ]
}
