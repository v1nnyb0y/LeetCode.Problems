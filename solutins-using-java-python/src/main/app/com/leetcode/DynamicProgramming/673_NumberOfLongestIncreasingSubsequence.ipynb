{
  "nbformat": 4,
  "nbformat_minor": 0,
  "metadata": {
    "colab": {
      "name": "673.ipynb",
      "provenance": [],
      "authorship_tag": "ABX9TyPhi8Eg9GFvLz/loaxQ419N",
      "include_colab_link": true
    },
    "kernelspec": {
      "name": "python3",
      "display_name": "Python 3"
    },
    "language_info": {
      "name": "python"
    }
  },
  "cells": [
    {
      "cell_type": "markdown",
      "metadata": {
        "id": "view-in-github",
        "colab_type": "text"
      },
      "source": [
        "<a href=\"https://colab.research.google.com/github/v1nnyb0y/leetcode/blob/master/DynamicProgramming/673_NumberOfLongestIncreasingSubsequence.ipynb\" target=\"_parent\"><img src=\"https://colab.research.google.com/assets/colab-badge.svg\" alt=\"Open In Colab\"/></a>"
      ]
    },
    {
      "cell_type": "code",
      "execution_count": null,
      "metadata": {
        "id": "SfknJ483_Rxr"
      },
      "outputs": [],
      "source": [
        "class Solution(object):\n",
        "    def findNumberOfLIS(self, nums):\n",
        "        \"\"\"\n",
        "        :type nums: List[int]\n",
        "        :rtype: int\n",
        "        \"\"\"\n",
        "        if not nums:\n",
        "            return 0\n",
        "        rec = [1] * len(nums) # rec[i] records the length of the longest increasing subsequence ending at i\n",
        "        rec2 = [1] * len(nums) # rec2[i] records the number of subsequences with length rec[i]\n",
        "        maxlen = 1\n",
        "        maxcount = 1\n",
        "        for i in range(1, len(nums)):\n",
        "            tmpcount = 1\n",
        "            for j in range(i-1, -1, -1):\n",
        "                if nums[j] < nums[i]:\n",
        "                    if rec[i] < rec[j] + 1:\n",
        "                        rec[i] = rec[j] + 1\n",
        "                        tmpcount = rec2[j]\n",
        "                    elif rec[i] == rec[j] + 1:\n",
        "                        tmpcount += rec2[j]\n",
        "            rec2[i] = tmpcount\n",
        "            if rec[i] > maxlen:\n",
        "                maxlen = rec[i]\n",
        "                maxcount = tmpcount\n",
        "            elif rec[i] == maxlen:\n",
        "                maxcount += tmpcount\n",
        "        return maxcount"
      ]
    }
  ]
}