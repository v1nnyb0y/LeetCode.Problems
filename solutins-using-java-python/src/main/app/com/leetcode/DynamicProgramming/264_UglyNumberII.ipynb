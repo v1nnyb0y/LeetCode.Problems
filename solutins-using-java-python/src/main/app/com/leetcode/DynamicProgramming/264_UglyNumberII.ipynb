{
  "nbformat": 4,
  "nbformat_minor": 0,
  "metadata": {
    "colab": {
      "name": "264.ipynb",
      "provenance": [],
      "authorship_tag": "ABX9TyOCHxEhEBA8bP+GklaTxn83",
      "include_colab_link": true
    },
    "kernelspec": {
      "name": "python3",
      "display_name": "Python 3"
    },
    "language_info": {
      "name": "python"
    }
  },
  "cells": [
    {
      "cell_type": "markdown",
      "metadata": {
        "id": "view-in-github",
        "colab_type": "text"
      },
      "source": [
        "<a href=\"https://colab.research.google.com/github/v1nnyb0y/leetcode/blob/master/DynamicProgramming/264_UglyNumberII.ipynb\" target=\"_parent\"><img src=\"https://colab.research.google.com/assets/colab-badge.svg\" alt=\"Open In Colab\"/></a>"
      ]
    },
    {
      "cell_type": "code",
      "execution_count": null,
      "metadata": {
        "id": "2CKcKWXnBt5Z"
      },
      "outputs": [],
      "source": [
        "class Solution:\n",
        "    ugly = sorted(2**a * 3**b * 5**c\n",
        "          for a in range(32) for b in range(20) for c in range(14))\n",
        "    def nthUglyNumber(self, n):\n",
        "        return self.ugly[n-1]\n",
        "\n"
      ]
    }
  ]
}