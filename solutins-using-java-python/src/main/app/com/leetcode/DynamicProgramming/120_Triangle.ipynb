{
  "nbformat": 4,
  "nbformat_minor": 0,
  "metadata": {
    "colab": {
      "name": "120.ipynb",
      "provenance": [],
      "authorship_tag": "ABX9TyPW21UA/l2OINYhH8bHEwEu",
      "include_colab_link": true
    },
    "kernelspec": {
      "name": "python3",
      "display_name": "Python 3"
    },
    "language_info": {
      "name": "python"
    }
  },
  "cells": [
    {
      "cell_type": "markdown",
      "metadata": {
        "id": "view-in-github",
        "colab_type": "text"
      },
      "source": [
        "<a href=\"https://colab.research.google.com/github/v1nnyb0y/leetcode/blob/master/DynamicProgramming/120_Triangle.ipynb\" target=\"_parent\"><img src=\"https://colab.research.google.com/assets/colab-badge.svg\" alt=\"Open In Colab\"/></a>"
      ]
    },
    {
      "cell_type": "code",
      "execution_count": null,
      "metadata": {
        "id": "14EdNPbkBvrc"
      },
      "outputs": [],
      "source": [
        "class Solution:\n",
        "    def minimumTotal(self, triangle):\n",
        "        for i in range(1,len(triangle)):\n",
        "            for j in range(i+1):\n",
        "                temp1, temp2 = float(inf), float(inf)\n",
        "                if j-1>=0:\n",
        "                    temp1 = triangle[i-1][j-1]\n",
        "                if j<i:\n",
        "                    temp2 = triangle[i-1][j]\n",
        "                triangle[i][j] = min(temp1, temp2)+triangle[i][j]\n",
        "        return min(triangle[-1])"
      ]
    }
  ]
}