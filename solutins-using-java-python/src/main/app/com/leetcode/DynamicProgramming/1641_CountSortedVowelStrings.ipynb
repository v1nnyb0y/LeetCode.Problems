{
  "nbformat": 4,
  "nbformat_minor": 0,
  "metadata": {
    "colab": {
      "name": "1641.ipynb",
      "provenance": [],
      "authorship_tag": "ABX9TyOuG0baBsRDwY/9FPDJW4DD",
      "include_colab_link": true
    },
    "kernelspec": {
      "name": "python3",
      "display_name": "Python 3"
    },
    "language_info": {
      "name": "python"
    }
  },
  "cells": [
    {
      "cell_type": "markdown",
      "metadata": {
        "id": "view-in-github",
        "colab_type": "text"
      },
      "source": [
        "<a href=\"https://colab.research.google.com/github/v1nnyb0y/leetcode/blob/master/DynamicProgramming/1641_CountSortedVowelStrings.ipynb\" target=\"_parent\"><img src=\"https://colab.research.google.com/assets/colab-badge.svg\" alt=\"Open In Colab\"/></a>"
      ]
    },
    {
      "cell_type": "code",
      "execution_count": null,
      "metadata": {
        "id": "4f0QhPG1sgaO"
      },
      "outputs": [],
      "source": [
        "class Solution:\n",
        "    def countVowelStrings(self, n: int) -> int:        \n",
        "        dp = [1] * 5\n",
        "        \n",
        "        for i in range(2, n+1):\n",
        "            for j in range(4, -1, -1):\n",
        "                dp[j] += sum(dp[:j])            \n",
        "        \n",
        "        return sum(dp)"
      ]
    }
  ]
}