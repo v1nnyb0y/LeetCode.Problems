{
  "nbformat": 4,
  "nbformat_minor": 0,
  "metadata": {
    "colab": {
      "name": "119.ipynb",
      "provenance": [],
      "authorship_tag": "ABX9TyPJRYKNrmJubHHKjVb7OUFV",
      "include_colab_link": true
    },
    "kernelspec": {
      "name": "python3",
      "display_name": "Python 3"
    },
    "language_info": {
      "name": "python"
    }
  },
  "cells": [
    {
      "cell_type": "markdown",
      "metadata": {
        "id": "view-in-github",
        "colab_type": "text"
      },
      "source": [
        "<a href=\"https://colab.research.google.com/github/v1nnyb0y/leetcode/blob/master/DynamicProgramming/119_PasacalsTriangleII.ipynb\" target=\"_parent\"><img src=\"https://colab.research.google.com/assets/colab-badge.svg\" alt=\"Open In Colab\"/></a>"
      ]
    },
    {
      "cell_type": "code",
      "execution_count": null,
      "metadata": {
        "id": "O0yuVk9iFvOh"
      },
      "outputs": [],
      "source": [
        "class Solution:\n",
        "    def getRow(self, rowIndex: int) -> List[int]:\n",
        "        ans = [1] * (rowIndex + 1)\n",
        "        \n",
        "        for row in range(2, rowIndex + 1):\n",
        "            for idx in reversed(range(1, row)):\n",
        "                ans[idx] += ans[idx - 1]\n",
        "        \n",
        "        return ans\n",
        "            "
      ]
    }
  ]
}