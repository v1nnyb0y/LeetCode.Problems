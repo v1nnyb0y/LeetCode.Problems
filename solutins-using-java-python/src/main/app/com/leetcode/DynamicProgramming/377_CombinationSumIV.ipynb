{
  "nbformat": 4,
  "nbformat_minor": 0,
  "metadata": {
    "colab": {
      "name": "377.ipynb",
      "provenance": [],
      "authorship_tag": "ABX9TyMkRAEZE6G4NzvaXKgdtZnz",
      "include_colab_link": true
    },
    "kernelspec": {
      "name": "python3",
      "display_name": "Python 3"
    },
    "language_info": {
      "name": "python"
    }
  },
  "cells": [
    {
      "cell_type": "markdown",
      "metadata": {
        "id": "view-in-github",
        "colab_type": "text"
      },
      "source": [
        "<a href=\"https://colab.research.google.com/github/v1nnyb0y/leetcode/blob/master/DynamicProgramming/377_CombinationSumIV.ipynb\" target=\"_parent\"><img src=\"https://colab.research.google.com/assets/colab-badge.svg\" alt=\"Open In Colab\"/></a>"
      ]
    },
    {
      "cell_type": "code",
      "execution_count": null,
      "metadata": {
        "id": "qJJG1S-cgAba"
      },
      "outputs": [],
      "source": [
        "class Solution(object):\n",
        "    def combinationSum4(self, nums, target):\n",
        "        \"\"\"\n",
        "        :type nums: List[int]\n",
        "        :type target: int\n",
        "        :rtype: int\n",
        "        \"\"\"\n",
        "        combs = [0]*(target + 1)\n",
        "        combs[0] = 1\n",
        "        for i in range(len(combs)):\n",
        "            for n in nums:\n",
        "                if n <= i:\n",
        "                    combs[i] += combs[i - n]\n",
        "        return combs[-1]"
      ]
    }
  ]
}