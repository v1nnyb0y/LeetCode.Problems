{
  "nbformat": 4,
  "nbformat_minor": 0,
  "metadata": {
    "colab": {
      "name": "64.ipynb",
      "provenance": [],
      "authorship_tag": "ABX9TyP66yGJvJ8PhXGPJJJtoV62",
      "include_colab_link": true
    },
    "kernelspec": {
      "name": "python3",
      "display_name": "Python 3"
    },
    "language_info": {
      "name": "python"
    }
  },
  "cells": [
    {
      "cell_type": "markdown",
      "metadata": {
        "id": "view-in-github",
        "colab_type": "text"
      },
      "source": [
        "<a href=\"https://colab.research.google.com/github/v1nnyb0y/leetcode/blob/master/DynamicProgramming/64_MinimumPathSum.ipynb\" target=\"_parent\"><img src=\"https://colab.research.google.com/assets/colab-badge.svg\" alt=\"Open In Colab\"/></a>"
      ]
    },
    {
      "cell_type": "code",
      "execution_count": null,
      "metadata": {
        "id": "9F0AmOXAf9bf"
      },
      "outputs": [],
      "source": [
        "class Solution:\n",
        "    def minPathSum(self, grid: List[List[int]]) -> int:\n",
        "        n = len(grid)\n",
        "        m = len(grid[0])\n",
        "        for i in range(1, m):\n",
        "            grid[0][i] = grid[0][i-1] + grid[0][i]\n",
        "        \n",
        "        # Edit the first col:\n",
        "        for i in range(1, n):\n",
        "            grid[i][0] = grid[i-1][0] + grid[i][0]\n",
        "        \n",
        "        # Edit the remaining values in the grid accordingly!\n",
        "        for i in range(1, n):\n",
        "            for j in range(1, m):\n",
        "                grid[i][j] = min(grid[i-1][j], grid[i][j-1]) + grid[i][j]\n",
        "        \n",
        "        \n",
        "        return grid[-1][-1]"
      ]
    }
  ]
}