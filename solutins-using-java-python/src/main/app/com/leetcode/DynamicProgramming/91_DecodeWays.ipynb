{
  "nbformat": 4,
  "nbformat_minor": 0,
  "metadata": {
    "colab": {
      "name": "91.ipynb",
      "provenance": [],
      "authorship_tag": "ABX9TyObb9pdDj8X6zU3gBZn9T7m",
      "include_colab_link": true
    },
    "kernelspec": {
      "name": "python3",
      "display_name": "Python 3"
    },
    "language_info": {
      "name": "python"
    }
  },
  "cells": [
    {
      "cell_type": "markdown",
      "metadata": {
        "id": "view-in-github",
        "colab_type": "text"
      },
      "source": [
        "<a href=\"https://colab.research.google.com/github/v1nnyb0y/leetcode/blob/master/DynamicProgramming/91_DecodeWays.ipynb\" target=\"_parent\"><img src=\"https://colab.research.google.com/assets/colab-badge.svg\" alt=\"Open In Colab\"/></a>"
      ]
    },
    {
      "cell_type": "code",
      "execution_count": null,
      "metadata": {
        "id": "P7_34hwRBNka"
      },
      "outputs": [],
      "source": [
        "class Solution:\n",
        "    def numDecodings(self, s: str) -> int:\n",
        "        if not s or s[0] == '0': return 0\n",
        "        l1, l2, curr = 1, 1, 0\n",
        "        for i in range(1, len(s)):\n",
        "            if '1' <= s[i] <= '9':\n",
        "                curr = l1\n",
        "            if 10 <= int(s[i-1:i+1]) <= 26:\n",
        "                curr += l2\n",
        "            l1, l2, curr = curr, l1, 0\n",
        "        return l1"
      ]
    }
  ]
}