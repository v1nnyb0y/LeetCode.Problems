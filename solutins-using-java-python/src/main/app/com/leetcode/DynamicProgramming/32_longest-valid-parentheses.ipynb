{
  "nbformat": 4,
  "nbformat_minor": 0,
  "metadata": {
    "colab": {
      "name": "32.ipynb",
      "provenance": [],
      "authorship_tag": "ABX9TyMZhZE0uV/b3Wx/pPOe6k9n",
      "include_colab_link": true
    },
    "kernelspec": {
      "name": "python3",
      "display_name": "Python 3"
    },
    "language_info": {
      "name": "python"
    }
  },
  "cells": [
    {
      "cell_type": "markdown",
      "metadata": {
        "id": "view-in-github",
        "colab_type": "text"
      },
      "source": [
        "<a href=\"https://colab.research.google.com/github/v1nnyb0y/leetcode/blob/master/DynamicProgramming/32_longest-valid-parentheses.ipynb\" target=\"_parent\"><img src=\"https://colab.research.google.com/assets/colab-badge.svg\" alt=\"Open In Colab\"/></a>"
      ]
    },
    {
      "cell_type": "code",
      "execution_count": null,
      "metadata": {
        "id": "03DPqMKseJZL"
      },
      "outputs": [],
      "source": [
        "class Solution(object):\n",
        "    def longestValidParentheses(self, s):\n",
        "        \"\"\"\n",
        "        :type s: str\n",
        "        :rtype: int\n",
        "        \"\"\"\n",
        "        stack=[]\n",
        "        for i in range(len(s)):\n",
        "            if s[i]=='(' or not stack:\n",
        "                stack.append(i)\n",
        "            else:\n",
        "                t=stack.pop()\n",
        "                if s[t] == ')':\n",
        "                    stack.append(t)\n",
        "                    stack.append(i)\n",
        "        right,longest=len(s),0\n",
        "        while stack:\n",
        "            left=stack.pop()\n",
        "            longest=max(longest,right-left-1)\n",
        "            right=left\n",
        "        return max(longest,right)"
      ]
    }
  ]
}