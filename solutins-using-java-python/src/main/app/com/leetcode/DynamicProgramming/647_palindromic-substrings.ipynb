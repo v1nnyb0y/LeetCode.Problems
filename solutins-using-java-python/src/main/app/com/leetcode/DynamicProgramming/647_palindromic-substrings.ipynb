{
  "nbformat": 4,
  "nbformat_minor": 0,
  "metadata": {
    "colab": {
      "name": "647.ipynb",
      "provenance": [],
      "authorship_tag": "ABX9TyOD8/G4BwiJgVzKxaQ5n6tz",
      "include_colab_link": true
    },
    "kernelspec": {
      "name": "python3",
      "display_name": "Python 3"
    },
    "language_info": {
      "name": "python"
    }
  },
  "cells": [
    {
      "cell_type": "markdown",
      "metadata": {
        "id": "view-in-github",
        "colab_type": "text"
      },
      "source": [
        "<a href=\"https://colab.research.google.com/github/v1nnyb0y/leetcode/blob/master/DynamicProgramming/647_palindromic-substrings.ipynb\" target=\"_parent\"><img src=\"https://colab.research.google.com/assets/colab-badge.svg\" alt=\"Open In Colab\"/></a>"
      ]
    },
    {
      "cell_type": "code",
      "execution_count": null,
      "metadata": {
        "id": "0ByJVmZveWs0"
      },
      "outputs": [],
      "source": [
        "class Solution:\n",
        "    def countSubstrings(self, s):\n",
        "        \"\"\"\n",
        "        :type s: str\n",
        "        :rtype: int\n",
        "        \"\"\"\n",
        "        n = len(s)\n",
        "        res = 0\n",
        "        dp = [[0]*(n) for i in range(n)]\n",
        "        for i in range(n-1, -1, -1):\n",
        "            for j in range(i, n):\n",
        "                if s[i]==s[j] and (j-i<2 or dp[i+1][j-1]):\n",
        "                    dp[i][j] = 1\n",
        "                else:\n",
        "                    dp[i][j] = 0\n",
        "                    \n",
        "                if dp[i][j]:\n",
        "                    res+=1\n",
        "        return res \n",
        "        "
      ]
    }
  ]
}