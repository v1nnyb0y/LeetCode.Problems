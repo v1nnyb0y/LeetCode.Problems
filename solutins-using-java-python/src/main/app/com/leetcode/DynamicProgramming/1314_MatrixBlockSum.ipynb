{
  "nbformat": 4,
  "nbformat_minor": 0,
  "metadata": {
    "colab": {
      "name": "1314.ipynb",
      "provenance": [],
      "authorship_tag": "ABX9TyMUVS+lQqnSJV4C7Ize/0vr",
      "include_colab_link": true
    },
    "kernelspec": {
      "name": "python3",
      "display_name": "Python 3"
    },
    "language_info": {
      "name": "python"
    }
  },
  "cells": [
    {
      "cell_type": "markdown",
      "metadata": {
        "id": "view-in-github",
        "colab_type": "text"
      },
      "source": [
        "<a href=\"https://colab.research.google.com/github/v1nnyb0y/leetcode/blob/master/DynamicProgramming/1314_MatrixBlockSum.ipynb\" target=\"_parent\"><img src=\"https://colab.research.google.com/assets/colab-badge.svg\" alt=\"Open In Colab\"/></a>"
      ]
    },
    {
      "cell_type": "code",
      "execution_count": null,
      "metadata": {
        "id": "UxvtBy0HPRy2"
      },
      "outputs": [],
      "source": [
        "class Solution:\n",
        "    def matrixBlockSum(self, mat, K):\n",
        "        def sums(iterable):\n",
        "            queue = collections.deque()\n",
        "            total = 0\n",
        "            bookended_iterable = itertools.chain(\n",
        "                itertools.repeat(0, K),\n",
        "                iterable,\n",
        "                itertools.repeat(0, K),\n",
        "            )\n",
        "            for value in bookended_iterable:\n",
        "                queue.append(value)\n",
        "                total += value\n",
        "                if len(queue) == 2*K + 1:\n",
        "                    yield total\n",
        "                    total -= queue.popleft()\n",
        "        new_mat_1 = (sums(row) for row in mat)\n",
        "        new_mat_2 = (sums(row) for row in zip(*new_mat_1))\n",
        "        return [list(row) for row in zip(*new_mat_2)]"
      ]
    }
  ]
}