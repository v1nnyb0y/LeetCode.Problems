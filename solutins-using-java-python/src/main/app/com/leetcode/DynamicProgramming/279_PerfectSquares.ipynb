{
  "nbformat": 4,
  "nbformat_minor": 0,
  "metadata": {
    "colab": {
      "name": "279.ipynb",
      "provenance": [],
      "authorship_tag": "ABX9TyO/BnY6n47GBXo+SO06s6YU",
      "include_colab_link": true
    },
    "kernelspec": {
      "name": "python3",
      "display_name": "Python 3"
    },
    "language_info": {
      "name": "python"
    }
  },
  "cells": [
    {
      "cell_type": "markdown",
      "metadata": {
        "id": "view-in-github",
        "colab_type": "text"
      },
      "source": [
        "<a href=\"https://colab.research.google.com/github/v1nnyb0y/leetcode/blob/master/DynamicProgramming/279_PerfectSquares.ipynb\" target=\"_parent\"><img src=\"https://colab.research.google.com/assets/colab-badge.svg\" alt=\"Open In Colab\"/></a>"
      ]
    },
    {
      "cell_type": "code",
      "execution_count": null,
      "metadata": {
        "id": "u2EJnbX3gwFs"
      },
      "outputs": [],
      "source": [
        "class Solution:\n",
        "    def numSquares(self, n: int) -> int:\n",
        "        dp=[float('inf') for i in range(n+1)]\n",
        "        dp[0]=0\n",
        "        v=int(n**0.5)\n",
        "        arr=[i*i for i in range(v+1)]\n",
        "        for i in range(1,n+1):\n",
        "            for j in arr:\n",
        "                if(i-j>=0):\n",
        "                    dp[i]=min(dp[i],dp[i-j]+1)\n",
        "        return dp[-1]\n",
        "        "
      ]
    }
  ]
}