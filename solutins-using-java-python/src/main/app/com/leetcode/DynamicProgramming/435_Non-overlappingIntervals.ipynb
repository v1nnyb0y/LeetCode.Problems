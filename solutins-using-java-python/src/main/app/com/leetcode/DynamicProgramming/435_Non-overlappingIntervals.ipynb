{
  "nbformat": 4,
  "nbformat_minor": 0,
  "metadata": {
    "colab": {
      "name": "435.ipynb",
      "provenance": [],
      "authorship_tag": "ABX9TyNO0ZfY3oSOLgXk9J3eGFtV",
      "include_colab_link": true
    },
    "kernelspec": {
      "name": "python3",
      "display_name": "Python 3"
    },
    "language_info": {
      "name": "python"
    }
  },
  "cells": [
    {
      "cell_type": "markdown",
      "metadata": {
        "id": "view-in-github",
        "colab_type": "text"
      },
      "source": [
        "<a href=\"https://colab.research.google.com/github/v1nnyb0y/leetcode/blob/master/DynamicProgramming/435_Non-overlappingIntervals.ipynb\" target=\"_parent\"><img src=\"https://colab.research.google.com/assets/colab-badge.svg\" alt=\"Open In Colab\"/></a>"
      ]
    },
    {
      "cell_type": "code",
      "execution_count": null,
      "metadata": {
        "id": "oqgoFGiW_zVb"
      },
      "outputs": [],
      "source": [
        "class Solution:\n",
        "    def eraseOverlapIntervals(self, intervals):\n",
        "        result, prevEnd = 0, -(5*10**4)-1\n",
        "        intervals.sort(key=lambda i:i[0])\n",
        "        for i in intervals:\n",
        "            if i[0]>=prevEnd:\n",
        "                prevEnd = i[1]\n",
        "            else:\n",
        "                result += 1\n",
        "                prevEnd = min(prevEnd, i[1])\n",
        "        return result"
      ]
    }
  ]
}