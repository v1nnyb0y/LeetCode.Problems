{
  "nbformat": 4,
  "nbformat_minor": 0,
  "metadata": {
    "colab": {
      "name": "528.ipynb",
      "provenance": [],
      "authorship_tag": "ABX9TyNIsZeOYMreLZdD97nbL/5S",
      "include_colab_link": true
    },
    "kernelspec": {
      "name": "python3",
      "display_name": "Python 3"
    },
    "language_info": {
      "name": "python"
    }
  },
  "cells": [
    {
      "cell_type": "markdown",
      "metadata": {
        "id": "view-in-github",
        "colab_type": "text"
      },
      "source": [
        "<a href=\"https://colab.research.google.com/github/v1nnyb0y/leetcode/blob/master/BinarySearch/528_RandomPickWithWeight.ipynb\" target=\"_parent\"><img src=\"https://colab.research.google.com/assets/colab-badge.svg\" alt=\"Open In Colab\"/></a>"
      ]
    },
    {
      "cell_type": "code",
      "execution_count": null,
      "metadata": {
        "id": "tMe1yxkT5gst"
      },
      "outputs": [],
      "source": [
        "class Solution(object):\n",
        "\n",
        "    def __init__(self, w):\n",
        "        \"\"\"\n",
        "        :type w: List[int]\n",
        "        \"\"\"\n",
        "        self.cum_weights = [0]*len(w)\n",
        "        summ = 0\n",
        "        for i in range(len(w)):\n",
        "            summ += w[i]\n",
        "            self.cum_weights[i] = summ\n",
        "        self.W = summ\n",
        "        \n",
        "    def bSearch(self, num):\n",
        "        i = 0\n",
        "        j = len(self.cum_weights)\n",
        "        while i < j:\n",
        "            mid = (i+j) // 2\n",
        "            if num == self.cum_weights[mid]:\n",
        "                return mid\n",
        "            elif num > self.cum_weights[mid]:\n",
        "                i = mid+1\n",
        "            else:\n",
        "                j = mid\n",
        "        return i\n",
        "\n",
        "    def pickIndex(self):\n",
        "        \"\"\"\n",
        "        :rtype: int\n",
        "        \"\"\"\n",
        "        num = random.randint(1, self.W)\n",
        "        idx = self.bSearch(num)\n",
        "        return idx"
      ]
    }
  ]
}