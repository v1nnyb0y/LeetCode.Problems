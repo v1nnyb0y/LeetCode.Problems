{
  "nbformat": 4,
  "nbformat_minor": 0,
  "metadata": {
    "colab": {
      "name": "240.ipynb",
      "provenance": [],
      "authorship_tag": "ABX9TyMtLGsnAcg/NqdR9YMYPiSb",
      "include_colab_link": true
    },
    "kernelspec": {
      "name": "python3",
      "display_name": "Python 3"
    },
    "language_info": {
      "name": "python"
    }
  },
  "cells": [
    {
      "cell_type": "markdown",
      "metadata": {
        "id": "view-in-github",
        "colab_type": "text"
      },
      "source": [
        "<a href=\"https://colab.research.google.com/github/v1nnyb0y/leetcode/blob/master/BinarySearch/240_SearchA2DMatrixII.ipynb\" target=\"_parent\"><img src=\"https://colab.research.google.com/assets/colab-badge.svg\" alt=\"Open In Colab\"/></a>"
      ]
    },
    {
      "cell_type": "code",
      "execution_count": null,
      "metadata": {
        "id": "3WOPZ5Fh_c3P"
      },
      "outputs": [],
      "source": [
        "class Solution:\n",
        "    def searchMatrix(self, matrix: List[List[int]], target: int) -> bool:\n",
        "        result, i, j = False, len(matrix)-1, 0\n",
        "        while i>=0 and j<len(matrix[0]):\n",
        "            if target<matrix[i][j]:\n",
        "                i -= 1\n",
        "            elif target>matrix[i][j]:\n",
        "                j += 1\n",
        "            else:\n",
        "                result = True\n",
        "                break\n",
        "        return result"
      ]
    }
  ]
}