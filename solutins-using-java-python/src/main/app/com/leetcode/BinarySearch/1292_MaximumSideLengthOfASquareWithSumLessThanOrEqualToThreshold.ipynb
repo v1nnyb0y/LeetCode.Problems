{
  "nbformat": 4,
  "nbformat_minor": 0,
  "metadata": {
    "colab": {
      "name": "1292.ipynb",
      "provenance": [],
      "authorship_tag": "ABX9TyOGHpEGw0Y+yilqhp7EzEde",
      "include_colab_link": true
    },
    "kernelspec": {
      "name": "python3",
      "display_name": "Python 3"
    },
    "language_info": {
      "name": "python"
    }
  },
  "cells": [
    {
      "cell_type": "markdown",
      "metadata": {
        "id": "view-in-github",
        "colab_type": "text"
      },
      "source": [
        "<a href=\"https://colab.research.google.com/github/v1nnyb0y/leetcode/blob/master/BinarySearch/1292_MaximumSideLengthOfASquareWithSumLessThanOrEqualToThreshold.ipynb\" target=\"_parent\"><img src=\"https://colab.research.google.com/assets/colab-badge.svg\" alt=\"Open In Colab\"/></a>"
      ]
    },
    {
      "cell_type": "code",
      "execution_count": null,
      "metadata": {
        "id": "po-A4CzYHrsn"
      },
      "outputs": [],
      "source": [
        "class Solution:\n",
        "    def maxSideLength(self, mat: List[List[int]], threshold: int) -> int:\n",
        "        m,n = len(mat),len(mat[0])\n",
        "        \n",
        "        # 2-dimention prefix sum array\n",
        "        P = [[0]*(n+1) for _ in range(m+1)]\n",
        "        for i in range(1, m+1):\n",
        "            for j in range(1, n+1):\n",
        "                P[i][j] = P[i-1][j] + P[i][j-1] - P[i-1][j-1] + mat[i-1][j-1]\n",
        "        \n",
        "        def getSumOfSqr(x1, y1, x2, y2):\n",
        "            return P[x2][y2] - P[x1-1][y2] - P[x2][y1-1] + P[x1-1][y1-1]\n",
        "        \n",
        "        r,ans = min(m,n),0\n",
        "        for i in range(1, m+1):\n",
        "            for j in range(1, n+1):\n",
        "                # increase the side-length of square\n",
        "                for c in range(ans+1, r+1):\n",
        "                    if i+c-1<=m and j+c-1<=n and getSumOfSqr(i,j,i+c-1,j+c-1)<=threshold:\n",
        "                        ans += 1\n",
        "                    else:\n",
        "                        break\n",
        "        return ans"
      ]
    }
  ]
}