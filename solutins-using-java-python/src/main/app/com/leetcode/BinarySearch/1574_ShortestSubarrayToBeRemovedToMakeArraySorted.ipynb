{
  "nbformat": 4,
  "nbformat_minor": 0,
  "metadata": {
    "colab": {
      "name": "1574.ipynb",
      "provenance": [],
      "authorship_tag": "ABX9TyOKD762TsxfseJu0lLhnM61",
      "include_colab_link": true
    },
    "kernelspec": {
      "name": "python3",
      "display_name": "Python 3"
    },
    "language_info": {
      "name": "python"
    }
  },
  "cells": [
    {
      "cell_type": "markdown",
      "metadata": {
        "id": "view-in-github",
        "colab_type": "text"
      },
      "source": [
        "<a href=\"https://colab.research.google.com/github/v1nnyb0y/leetcode/blob/master/BinarySearch/1574_ShortestSubarrayToBeRemovedToMakeArraySorted.ipynb\" target=\"_parent\"><img src=\"https://colab.research.google.com/assets/colab-badge.svg\" alt=\"Open In Colab\"/></a>"
      ]
    },
    {
      "cell_type": "code",
      "execution_count": null,
      "metadata": {
        "id": "dMhkyhMyLMwY"
      },
      "outputs": [],
      "source": [
        "class Solution:\n",
        "    def findLengthOfShortestSubarray(self, arr: List[int]) -> int:\n",
        "        \n",
        "        \n",
        "        if(len(arr) == 1):\n",
        "            return 0\n",
        "        \n",
        "        left_index = len(arr)-1\n",
        "        right_index = 0\n",
        "        \n",
        "        for i in range(1,len(arr)):\n",
        "            if not (arr[i] >= arr[i-1]):\n",
        "                left_index = i-1\n",
        "                break\n",
        "            \n",
        "                \n",
        "        \n",
        "        for i in range(len(arr)-2,-1,-1):\n",
        "            if not (arr[i] <= arr[i+1]):\n",
        "                right_index = i+1\n",
        "                break\n",
        "            \n",
        "\n",
        "        if(right_index <= left_index):\n",
        "            return 0\n",
        "        \n",
        "        \n",
        "        min_len = float('inf')\n",
        "        \n",
        "        \n",
        "        temp_right = right_index\n",
        "        temp_left = left_index\n",
        "        \n",
        "        #eliminating right arr elements to merge with left array\n",
        "        while right_index < len(arr) and arr[left_index] > arr[right_index]:\n",
        "            right_index += 1\n",
        "            \n",
        "        \n",
        "        min_len = min(right_index-left_index-1,min_len)\n",
        "        \n",
        "        #eliminating left arr elements to merge with right\n",
        "        while left_index >= 0 and arr[left_index] > arr[temp_right]:\n",
        "            left_index -= 1\n",
        "        \n",
        "    \n",
        "        min_len = min(temp_right-left_index-1,min_len)\n",
        "        \n",
        "        #eliminating both sides array to merge\n",
        "        while temp_left >=0 and temp_right < len(arr) and arr[temp_left] > arr[temp_right]:\n",
        "            temp_left -=1\n",
        "            temp_right +=1\n",
        "        \n",
        "        min_len = min(temp_right-temp_left-1,min_len)\n",
        "        \n",
        "        return min_len"
      ]
    }
  ]
}