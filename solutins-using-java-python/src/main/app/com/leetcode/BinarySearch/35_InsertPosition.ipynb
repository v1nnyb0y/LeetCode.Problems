{
  "nbformat": 4,
  "nbformat_minor": 0,
  "metadata": {
    "colab": {
      "name": "35.ipynb",
      "provenance": [],
      "authorship_tag": "ABX9TyMywYffhqw88Bb6EJSuVikv",
      "include_colab_link": true
    },
    "kernelspec": {
      "name": "python3",
      "display_name": "Python 3"
    },
    "language_info": {
      "name": "python"
    }
  },
  "cells": [
    {
      "cell_type": "markdown",
      "metadata": {
        "id": "view-in-github",
        "colab_type": "text"
      },
      "source": [
        "<a href=\"https://colab.research.google.com/github/v1nnyb0y/leetcode/blob/master/BinarySearch/35_InsertPosition.ipynb\" target=\"_parent\"><img src=\"https://colab.research.google.com/assets/colab-badge.svg\" alt=\"Open In Colab\"/></a>"
      ]
    },
    {
      "cell_type": "code",
      "execution_count": null,
      "metadata": {
        "id": "pGUuREH-qUFq"
      },
      "outputs": [],
      "source": [
        "class Solution:\n",
        "    def searchInsert(self, nums: List[int], target: int) -> int:\n",
        "        l, r = 0, len(nums) - 1\n",
        "        while l <= r:\n",
        "            pivot = l + (r - l) // 2\n",
        "            if nums[pivot] == target:\n",
        "                return pivot\n",
        "            \n",
        "            if nums[pivot] > target:\n",
        "                r = pivot - 1\n",
        "            else:\n",
        "                l = pivot + 1\n",
        "        \n",
        "        return l"
      ]
    }
  ]
}