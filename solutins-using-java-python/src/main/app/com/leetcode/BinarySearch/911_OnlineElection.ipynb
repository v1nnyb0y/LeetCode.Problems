{
  "nbformat": 4,
  "nbformat_minor": 0,
  "metadata": {
    "colab": {
      "name": "911.ipynb",
      "provenance": [],
      "authorship_tag": "ABX9TyOXpQDIlBUI+vUd1+8p25kh",
      "include_colab_link": true
    },
    "kernelspec": {
      "name": "python3",
      "display_name": "Python 3"
    },
    "language_info": {
      "name": "python"
    }
  },
  "cells": [
    {
      "cell_type": "markdown",
      "metadata": {
        "id": "view-in-github",
        "colab_type": "text"
      },
      "source": [
        "<a href=\"https://colab.research.google.com/github/v1nnyb0y/leetcode/blob/master/BinarySearch/911_OnlineElection.ipynb\" target=\"_parent\"><img src=\"https://colab.research.google.com/assets/colab-badge.svg\" alt=\"Open In Colab\"/></a>"
      ]
    },
    {
      "cell_type": "code",
      "execution_count": null,
      "metadata": {
        "id": "SXjjb3mWhHfy"
      },
      "outputs": [],
      "source": [
        "class TopVotedCandidate(object):\n",
        "\n",
        "    def __init__(self, persons, times):\n",
        "        \"\"\"\n",
        "        :type persons: List[int]\n",
        "        :type times: List[int]\n",
        "        \"\"\"\n",
        "        self.times = times\n",
        "        self.maxperson = [persons[0]]\n",
        "        self.maxvote = [1]\n",
        "        self.rec = {persons[0]:1}\n",
        "        \n",
        "        for i in range(1, len(times)):\n",
        "            if persons[i] in self.rec:\n",
        "                self.rec[persons[i]] += 1\n",
        "            else:\n",
        "                self.rec[persons[i]] = 1\n",
        "            if self.rec[persons[i]] >= self.maxvote[i-1]:\n",
        "                self.maxvote.append(self.rec[persons[i]])\n",
        "                self.maxperson.append(persons[i])\n",
        "            else:\n",
        "                self.maxvote.append(self.maxvote[i-1])\n",
        "                self.maxperson.append(self.maxperson[i-1])\n",
        "\n",
        "    def q(self, t):\n",
        "        \"\"\"\n",
        "        :type t: int\n",
        "        :rtype: int\n",
        "        \"\"\"\n",
        "        def bSearch(arr, target):\n",
        "            i = 0\n",
        "            j = len(arr)\n",
        "            while i < j:\n",
        "                mid = (i+j) // 2\n",
        "                if arr[mid] == target:\n",
        "                    return mid\n",
        "                elif arr[mid] < target:\n",
        "                    i = mid+1\n",
        "                else:\n",
        "                    j = mid\n",
        "            return i\n",
        "        \n",
        "        index = bSearch(self.times, t)\n",
        "        if index < len(self.times) and self.times[index] == t:\n",
        "            index = index\n",
        "        else:\n",
        "            index -= 1\n",
        "        return self.maxperson[index]"
      ]
    }
  ]
}