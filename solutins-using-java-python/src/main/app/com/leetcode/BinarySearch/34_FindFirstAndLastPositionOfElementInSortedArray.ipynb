{
  "nbformat": 4,
  "nbformat_minor": 0,
  "metadata": {
    "colab": {
      "name": "34.ipynb",
      "provenance": [],
      "authorship_tag": "ABX9TyO52z1VMTT3B0YFGRlcG6Ta",
      "include_colab_link": true
    },
    "kernelspec": {
      "name": "python3",
      "display_name": "Python 3"
    },
    "language_info": {
      "name": "python"
    }
  },
  "cells": [
    {
      "cell_type": "markdown",
      "metadata": {
        "id": "view-in-github",
        "colab_type": "text"
      },
      "source": [
        "<a href=\"https://colab.research.google.com/github/v1nnyb0y/leetcode/blob/master/BinarySearch/34_FindFirstAndLastPositionOfElementInSortedArray.ipynb\" target=\"_parent\"><img src=\"https://colab.research.google.com/assets/colab-badge.svg\" alt=\"Open In Colab\"/></a>"
      ]
    },
    {
      "cell_type": "code",
      "execution_count": null,
      "metadata": {
        "id": "pcFJiPijpdbU"
      },
      "outputs": [],
      "source": [
        "class Solution:\n",
        "    def searchRange(self, nums: List[int], target: int) -> List[int]:\n",
        "        self.res = [len(nums), -1]\n",
        "        \n",
        "        def binarySearch(nums, left, right, target):\n",
        "            if left > right or left < 0 or right >= len(nums): #empty or not found\n",
        "                return\n",
        "            mid = (left + right)//2\n",
        "            \n",
        "            if nums[mid] == target:\n",
        "                self.res[0] = min(self.res[0], mid)\n",
        "                self.res[1] = max(self.res[1], mid)\n",
        "                \n",
        "                binarySearch(nums, left, mid-1, target)\n",
        "                binarySearch(nums, mid+1, right, target)\n",
        "            \n",
        "            elif nums[mid] > target:\n",
        "                binarySearch(nums, left, mid-1, target)\n",
        "            \n",
        "            else:\n",
        "                binarySearch(nums, mid+1, right, target)\n",
        "        \n",
        "        binarySearch(nums, 0, len(nums)-1, target)\n",
        "        \n",
        "        if self.res[0] == len(nums):\n",
        "            self.res[0] = -1\n",
        "        return self.res\n",
        "            "
      ]
    }
  ]
}