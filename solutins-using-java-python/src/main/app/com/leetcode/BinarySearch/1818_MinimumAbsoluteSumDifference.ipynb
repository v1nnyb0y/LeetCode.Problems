{
  "nbformat": 4,
  "nbformat_minor": 0,
  "metadata": {
    "colab": {
      "name": "1818.ipynb",
      "provenance": [],
      "authorship_tag": "ABX9TyNnM6bPp87WmEjj6A9qDxjG",
      "include_colab_link": true
    },
    "kernelspec": {
      "name": "python3",
      "display_name": "Python 3"
    },
    "language_info": {
      "name": "python"
    }
  },
  "cells": [
    {
      "cell_type": "markdown",
      "metadata": {
        "id": "view-in-github",
        "colab_type": "text"
      },
      "source": [
        "<a href=\"https://colab.research.google.com/github/v1nnyb0y/leetcode/blob/master/BinarySearch/1818_MinimumAbsoluteSumDifference.ipynb\" target=\"_parent\"><img src=\"https://colab.research.google.com/assets/colab-badge.svg\" alt=\"Open In Colab\"/></a>"
      ]
    },
    {
      "cell_type": "code",
      "execution_count": null,
      "metadata": {
        "id": "fX4EapztEnfI"
      },
      "outputs": [],
      "source": [
        "import heapq\n",
        "class Solution:\n",
        "    modulo = 1e9 + 7\n",
        "    def getMinSum(self, arr, x):\n",
        "        def binarySearch(arr, x):\n",
        "            if x < arr[0]:\n",
        "                return 0\n",
        "            low, high = 0, len(arr) - 1\n",
        "            ans = len(arr) - 1\n",
        "            while low <= high:\n",
        "                mid = low + (high - low) // 2\n",
        "                if arr[mid] <= x:\n",
        "                    ans = mid\n",
        "                    low = mid + 1\n",
        "                else:\n",
        "                    high = mid - 1\n",
        "            return ans\n",
        "        \n",
        "        to_look = binarySearch(arr, x)\n",
        "        if to_look == len(arr) - 1:\n",
        "            return abs(arr[to_look] - x)\n",
        "        return min(abs(arr[to_look] - x), abs(arr[to_look + 1] - x))\n",
        "    \n",
        "    def minAbsoluteSumDiff(self, nums1: List[int], nums2: List[int]) -> int:\n",
        "        res = 0\n",
        "        pQueue = []\n",
        "        \n",
        "        for i in range(len(nums1)):\n",
        "            res += abs(nums1[i] - nums2[i])\n",
        "            pQueue.append((-abs(nums1[i] - nums2[i]), i))\n",
        "        \n",
        "        heapq.heapify(pQueue)\n",
        "        maxDiff = 0\n",
        "        \n",
        "        nums1.sort()\n",
        "        \n",
        "        while pQueue:\n",
        "            curr_sum, curr_index = heapq.heappop(pQueue)\n",
        "            curr_sum = -curr_sum\n",
        "            \n",
        "            if maxDiff >= curr_sum:\n",
        "                break\n",
        "            \n",
        "            now_sum = self.getMinSum(nums1, nums2[curr_index])\n",
        "            maxDiff = max(maxDiff, curr_sum - now_sum)\n",
        "            \n",
        "        return int((res - maxDiff) % self.modulo)"
      ]
    }
  ]
}