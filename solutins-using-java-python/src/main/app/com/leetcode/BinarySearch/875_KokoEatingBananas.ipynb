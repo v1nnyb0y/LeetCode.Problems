{
  "nbformat": 4,
  "nbformat_minor": 0,
  "metadata": {
    "colab": {
      "name": "875.ipynb",
      "provenance": [],
      "authorship_tag": "ABX9TyPXJSY2+zxcNfKQaDfPJa/z",
      "include_colab_link": true
    },
    "kernelspec": {
      "name": "python3",
      "display_name": "Python 3"
    },
    "language_info": {
      "name": "python"
    }
  },
  "cells": [
    {
      "cell_type": "markdown",
      "metadata": {
        "id": "view-in-github",
        "colab_type": "text"
      },
      "source": [
        "<a href=\"https://colab.research.google.com/github/v1nnyb0y/leetcode/blob/master/BinarySearch/875_KokoEatingBananas.ipynb\" target=\"_parent\"><img src=\"https://colab.research.google.com/assets/colab-badge.svg\" alt=\"Open In Colab\"/></a>"
      ]
    },
    {
      "cell_type": "code",
      "execution_count": null,
      "metadata": {
        "id": "rQrB-VJFiaD8"
      },
      "outputs": [],
      "source": [
        "class Solution:\n",
        "    def minEatingSpeed(self, piles: List[int], h: int) -> int:\n",
        "        # Initalize the left and right boundaries     \n",
        "        left = 1\n",
        "        right = max(piles)\n",
        "        \n",
        "        while left < right:\n",
        "            # Get the middle index between left and right boundary indexes.\n",
        "            # hour_spent stands for the total hour Koko spends.\n",
        "            middle = (left + right) // 2            \n",
        "            hour_spent = 0\n",
        "            \n",
        "            # Iterate over the piles and calculate hour_spent.\n",
        "            # We increase the hour_spent by ceil(pile / middle)\n",
        "            for pile in piles:\n",
        "                hour_spent += math.ceil(pile / middle)\n",
        "            \n",
        "            # Check if middle is a workable speed, and cut the search space by half.\n",
        "            if hour_spent <= h:\n",
        "                right = middle\n",
        "            else:\n",
        "                left = middle + 1\n",
        "        \n",
        "        # Once the left and right boundaries coincide, we find the target value,\n",
        "        # that is, the minimum workable eating speed.\n",
        "        return right"
      ]
    }
  ]
}