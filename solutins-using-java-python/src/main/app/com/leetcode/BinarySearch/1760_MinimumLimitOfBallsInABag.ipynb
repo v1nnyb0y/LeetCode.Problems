{
  "nbformat": 4,
  "nbformat_minor": 0,
  "metadata": {
    "colab": {
      "name": "1760.ipynb",
      "provenance": [],
      "authorship_tag": "ABX9TyPxNyk3A97HWP++bihimRog",
      "include_colab_link": true
    },
    "kernelspec": {
      "name": "python3",
      "display_name": "Python 3"
    },
    "language_info": {
      "name": "python"
    }
  },
  "cells": [
    {
      "cell_type": "markdown",
      "metadata": {
        "id": "view-in-github",
        "colab_type": "text"
      },
      "source": [
        "<a href=\"https://colab.research.google.com/github/v1nnyb0y/leetcode/blob/master/BinarySearch/1760_MinimumLimitOfBallsInABag.ipynb\" target=\"_parent\"><img src=\"https://colab.research.google.com/assets/colab-badge.svg\" alt=\"Open In Colab\"/></a>"
      ]
    },
    {
      "cell_type": "code",
      "source": [
        "class Solution:\n",
        "     def minimumSize(self, A, maxOperations):\n",
        "        def possible(m):\n",
        "            curOperations = 0\n",
        "            for e in A:\n",
        "                if e>m:\n",
        "                    curOperations += (e-1)//m\n",
        "                    if curOperations > maxOperations:\n",
        "                        return False\n",
        "            return True\n",
        "\n",
        "\n",
        "        lo, hi = 1, 1<<30\n",
        "        while lo<hi:\n",
        "            m = lo + hi >> 1\n",
        "            if possible(m):\n",
        "                hi = m\n",
        "            else:\n",
        "                lo = m+1\n",
        "        return lo"
      ],
      "metadata": {
        "id": "0ItsJPPjuyNX"
      },
      "execution_count": null,
      "outputs": []
    }
  ]
}