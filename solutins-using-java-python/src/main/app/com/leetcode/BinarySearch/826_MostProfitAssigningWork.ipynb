{
  "nbformat": 4,
  "nbformat_minor": 0,
  "metadata": {
    "colab": {
      "name": "826.ipynb",
      "provenance": [],
      "authorship_tag": "ABX9TyPQopP1aNY72iUJCIwUk7jn",
      "include_colab_link": true
    },
    "kernelspec": {
      "name": "python3",
      "display_name": "Python 3"
    },
    "language_info": {
      "name": "python"
    }
  },
  "cells": [
    {
      "cell_type": "markdown",
      "metadata": {
        "id": "view-in-github",
        "colab_type": "text"
      },
      "source": [
        "<a href=\"https://colab.research.google.com/github/v1nnyb0y/leetcode/blob/master/BinarySearch/826_MostProfitAssigningWork.ipynb\" target=\"_parent\"><img src=\"https://colab.research.google.com/assets/colab-badge.svg\" alt=\"Open In Colab\"/></a>"
      ]
    },
    {
      "cell_type": "code",
      "execution_count": null,
      "metadata": {
        "id": "rsKClDTtUlZe"
      },
      "outputs": [],
      "source": [
        "class Solution(object):\n",
        "    def maxProfitAssignment(self, d: List[int], p: List[int], w: List[int]) -> int:\n",
        "        w.sort()\n",
        "        pro, i, j = 0, len(p)-1, len(w)-1\n",
        "        d, p = [list(i) for i in zip(*sorted(zip(d,p)))]\n",
        "        mal = p[0]\n",
        "\n",
        "        for i in range(len(d)):\n",
        "            mal = max(mal, p[i])\n",
        "            p[i] = mal\n",
        "\n",
        "        while i > -1:\n",
        "            if j > -1 and d[i] <= w[j]:\n",
        "                pro += p[i]\n",
        "                j -= 1\n",
        "            else: i -= 1\n",
        "\n",
        "        return pro\n",
        "\n"
      ]
    }
  ]
}