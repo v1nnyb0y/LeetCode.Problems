{
  "nbformat": 4,
  "nbformat_minor": 0,
  "metadata": {
    "colab": {
      "name": "1281.ipynb",
      "provenance": [],
      "authorship_tag": "ABX9TyNszpxJKbNSn2SZiddY0AUe",
      "include_colab_link": true
    },
    "kernelspec": {
      "name": "python3",
      "display_name": "Python 3"
    },
    "language_info": {
      "name": "python"
    }
  },
  "cells": [
    {
      "cell_type": "markdown",
      "metadata": {
        "id": "view-in-github",
        "colab_type": "text"
      },
      "source": [
        "<a href=\"https://colab.research.google.com/github/v1nnyb0y/LeetCode.Problems/blob/master/Operator/1281_SubtractTheProductAndSumOfDigitsOfAnInteger.ipynb\" target=\"_parent\"><img src=\"https://colab.research.google.com/assets/colab-badge.svg\" alt=\"Open In Colab\"/></a>"
      ]
    },
    {
      "cell_type": "code",
      "execution_count": null,
      "metadata": {
        "id": "QM6LOINxVQD1"
      },
      "outputs": [],
      "source": [
        "class Solution:\n",
        "    def subtractProductAndSum(self, n: int) -> int:\n",
        "        nstr = str(n)\n",
        "        s = 0\n",
        "        p = 1\n",
        "        for i in nstr:\n",
        "            digit = int(i)\n",
        "            s += digit\n",
        "            p *= digit\n",
        "        return p - s"
      ]
    }
  ]
}