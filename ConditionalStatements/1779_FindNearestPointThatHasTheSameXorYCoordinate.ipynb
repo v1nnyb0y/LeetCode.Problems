{
  "nbformat": 4,
  "nbformat_minor": 0,
  "metadata": {
    "colab": {
      "name": "1779.ipynb",
      "provenance": [],
      "authorship_tag": "ABX9TyPAO5iRcp9eznO/s9YghzUd",
      "include_colab_link": true
    },
    "kernelspec": {
      "name": "python3",
      "display_name": "Python 3"
    },
    "language_info": {
      "name": "python"
    }
  },
  "cells": [
    {
      "cell_type": "markdown",
      "metadata": {
        "id": "view-in-github",
        "colab_type": "text"
      },
      "source": [
        "<a href=\"https://colab.research.google.com/github/v1nnyb0y/LeetCode.Problems/blob/master/ConditionalStatements/1779_FindNearestPointThatHasTheSameXorYCoordinate.ipynb\" target=\"_parent\"><img src=\"https://colab.research.google.com/assets/colab-badge.svg\" alt=\"Open In Colab\"/></a>"
      ]
    },
    {
      "cell_type": "code",
      "execution_count": null,
      "metadata": {
        "id": "QAxnsH3sYi6P"
      },
      "outputs": [],
      "source": [
        "class Solution:\n",
        "    def nearestValidPoint(self, x: int, y: int, points: List[List[int]]) -> int:\n",
        "        index = -1\n",
        "        mahtan = 10 ** 4\n",
        "        for i in range(len(points)):\n",
        "            point = points[i]\n",
        "            if point[0] == x or point[1] == y:\n",
        "                newMahtan = abs(x - point[0]) + abs(y - point[1])\n",
        "                if newMahtan < mahtan:\n",
        "                    mahtan = newMahtan\n",
        "                    index = i\n",
        "            \n",
        "        return index"
      ]
    }
  ]
}