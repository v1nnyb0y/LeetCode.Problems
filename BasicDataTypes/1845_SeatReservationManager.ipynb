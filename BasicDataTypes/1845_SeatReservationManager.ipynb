{
  "nbformat": 4,
  "nbformat_minor": 0,
  "metadata": {
    "colab": {
      "name": "1845.ipynb",
      "provenance": [],
      "authorship_tag": "ABX9TyPlsBh5TzbzdqA4y9I0ot4u",
      "include_colab_link": true
    },
    "kernelspec": {
      "name": "python3",
      "display_name": "Python 3"
    },
    "language_info": {
      "name": "python"
    }
  },
  "cells": [
    {
      "cell_type": "markdown",
      "metadata": {
        "id": "view-in-github",
        "colab_type": "text"
      },
      "source": [
        "<a href=\"https://colab.research.google.com/github/v1nnyb0y/leetcode/blob/master/BasicDataTypes/1845_SeatReservationManager.ipynb\" target=\"_parent\"><img src=\"https://colab.research.google.com/assets/colab-badge.svg\" alt=\"Open In Colab\"/></a>"
      ]
    },
    {
      "cell_type": "code",
      "execution_count": null,
      "metadata": {
        "id": "P4EHu_qy-Fgv"
      },
      "outputs": [],
      "source": [
        "class SeatManager:\n",
        "\n",
        "    def __init__(self, n: int):\n",
        "        self.heap = list(range(1, n+1))        \n",
        "\n",
        "    def reserve(self) -> int:\n",
        "        return heapq.heappop(self.heap)\n",
        "\n",
        "    def unreserve(self, seatNumber: int) -> None:\n",
        "        heapq.heappush(self.heap, seatNumber)\n",
        "        \n",
        "        \n",
        "\n",
        "\n",
        "# Your SeatManager object will be instantiated and called as such:\n",
        "# obj = SeatManager(n)\n",
        "# param_1 = obj.reserve()\n",
        "# obj.unreserve(seatNumber)"
      ]
    }
  ]
}