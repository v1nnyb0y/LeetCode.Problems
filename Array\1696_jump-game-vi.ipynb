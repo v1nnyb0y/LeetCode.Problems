{
  "nbformat": 4,
  "nbformat_minor": 0,
  "metadata": {
    "colab": {
      "name": "1696.ipynb",
      "provenance": [],
      "authorship_tag": "ABX9TyNanoZdzc3Kz4McMfBqnsnL",
      "include_colab_link": true
    },
    "kernelspec": {
      "name": "python3",
      "display_name": "Python 3"
    },
    "language_info": {
      "name": "python"
    }
  },
  "cells": [
    {
      "cell_type": "markdown",
      "metadata": {
        "id": "view-in-github",
        "colab_type": "text"
      },
      "source": [
        "<a href=\"https://colab.research.google.com/github/v1nnyb0y/leetcode/blob/master/Array%5C1696_jump-game-vi.ipynb\" target=\"_parent\"><img src=\"https://colab.research.google.com/assets/colab-badge.svg\" alt=\"Open In Colab\"/></a>"
      ]
    },
    {
      "cell_type": "code",
      "execution_count": null,
      "metadata": {
        "id": "d152mGcdRVLv"
      },
      "outputs": [],
      "source": [
        "class Solution:\n",
        "    def maxResult(self, A, k):\n",
        "        pq = [(0, -k)]\n",
        "        for i, a in enumerate(A):\n",
        "            while i - pq[0][1] > k: heappop(pq)\n",
        "            a -= pq[0][0]\n",
        "            heappush(pq, (-a, i))\n",
        "        return a\n",
        "        "
      ]
    }
  ]
}