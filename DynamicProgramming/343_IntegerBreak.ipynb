{
  "nbformat": 4,
  "nbformat_minor": 0,
  "metadata": {
    "colab": {
      "name": "343.ipynb",
      "provenance": [],
      "authorship_tag": "ABX9TyNG0Vv2rSFD3lnGOavlvZPb",
      "include_colab_link": true
    },
    "kernelspec": {
      "name": "python3",
      "display_name": "Python 3"
    },
    "language_info": {
      "name": "python"
    }
  },
  "cells": [
    {
      "cell_type": "markdown",
      "metadata": {
        "id": "view-in-github",
        "colab_type": "text"
      },
      "source": [
        "<a href=\"https://colab.research.google.com/github/v1nnyb0y/leetcode/blob/master/DynamicProgramming/343_IntegerBreak.ipynb\" target=\"_parent\"><img src=\"https://colab.research.google.com/assets/colab-badge.svg\" alt=\"Open In Colab\"/></a>"
      ]
    },
    {
      "cell_type": "code",
      "execution_count": null,
      "metadata": {
        "id": "_ZgmafKlgXfD"
      },
      "outputs": [],
      "source": [
        "class Solution:\n",
        "    def integerBreak(self, n: int) -> int:\n",
        "        if n==2:\n",
        "            return 1\n",
        "        if n==3:\n",
        "            return 2\n",
        "        @lru_cache(None)\n",
        "        def dp(n):\n",
        "            #dont break\n",
        "            ans=n\n",
        "            #break\n",
        "            for i in range(1,n//2+1):\n",
        "                val=dp(i)*dp(n-i)\n",
        "                ans=max(ans,val)\n",
        "            return ans\n",
        "        return dp(n)"
      ]
    }
  ]
}