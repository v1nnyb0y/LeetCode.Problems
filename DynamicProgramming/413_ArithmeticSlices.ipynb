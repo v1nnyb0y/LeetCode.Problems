{
  "nbformat": 4,
  "nbformat_minor": 0,
  "metadata": {
    "colab": {
      "name": "413.ipynb",
      "provenance": [],
      "authorship_tag": "ABX9TyPNwvGSepu/VTtkcMaxusgK",
      "include_colab_link": true
    },
    "kernelspec": {
      "name": "python3",
      "display_name": "Python 3"
    },
    "language_info": {
      "name": "python"
    }
  },
  "cells": [
    {
      "cell_type": "markdown",
      "metadata": {
        "id": "view-in-github",
        "colab_type": "text"
      },
      "source": [
        "<a href=\"https://colab.research.google.com/github/v1nnyb0y/leetcode/blob/master/DynamicProgramming/413_ArithmeticSlices.ipynb\" target=\"_parent\"><img src=\"https://colab.research.google.com/assets/colab-badge.svg\" alt=\"Open In Colab\"/></a>"
      ]
    },
    {
      "cell_type": "code",
      "execution_count": null,
      "metadata": {
        "id": "LZtEbSD5AcrB"
      },
      "outputs": [],
      "source": [
        "class Solution:\n",
        "    def numberOfArithmeticSlices(self, nums: List[int]) -> int:\n",
        "        result, counter, diff = 0, 1, [0 for _ in nums]\n",
        "        for i in range(1, len(nums)):\n",
        "            diff[i] = nums[i-1]-nums[i]\n",
        "        for i in range(1,len(diff)):\n",
        "            if diff[i-1]==diff[i]:\n",
        "                counter += 1\n",
        "            else:\n",
        "                if counter>=3:\n",
        "                    result += (counter-2)*(counter-1)//2\n",
        "                counter = 2\n",
        "        if counter>=1:\n",
        "            result += (counter-2)*(counter-1)//2\n",
        "        return result"
      ]
    }
  ]
}