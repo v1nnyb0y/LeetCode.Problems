{
  "nbformat": 4,
  "nbformat_minor": 0,
  "metadata": {
    "colab": {
      "name": "152.ipynb",
      "provenance": [],
      "authorship_tag": "ABX9TyMGdH0Nk7ePzUOZulQRQXXK",
      "include_colab_link": true
    },
    "kernelspec": {
      "name": "python3",
      "display_name": "Python 3"
    },
    "language_info": {
      "name": "python"
    }
  },
  "cells": [
    {
      "cell_type": "markdown",
      "metadata": {
        "id": "view-in-github",
        "colab_type": "text"
      },
      "source": [
        "<a href=\"https://colab.research.google.com/github/v1nnyb0y/leetcode/blob/master/DynamicProgramming/152_MaximumProductSubarray.ipynb\" target=\"_parent\"><img src=\"https://colab.research.google.com/assets/colab-badge.svg\" alt=\"Open In Colab\"/></a>"
      ]
    },
    {
      "cell_type": "code",
      "execution_count": null,
      "metadata": {
        "id": "A5EJ6e42wbVw"
      },
      "outputs": [],
      "source": [
        "class Solution:\n",
        "    def maxProduct(self, nums: List[int]) -> int:\n",
        "        if not nums:\n",
        "            return 0\n",
        "        \n",
        "        if len(nums) == 1:\n",
        "            return nums[0]\n",
        "        \n",
        "        min_so_far, max_so_far, max_global = nums[0], nums[0], nums[0]\n",
        "        for i in range(1, len(nums)):\n",
        "            max_so_far, min_so_far = max(min_so_far*nums[i], max_so_far*nums[i], nums[i]), min(min_so_far*nums[i], max_so_far*nums[i], nums[i])\n",
        "            max_global = max(max_global, max_so_far)\n",
        "        \n",
        "        return max_global"
      ]
    }
  ]
}