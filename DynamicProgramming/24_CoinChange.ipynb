{
  "nbformat": 4,
  "nbformat_minor": 0,
  "metadata": {
    "colab": {
      "name": "24.ipynb",
      "provenance": [],
      "authorship_tag": "ABX9TyO7jt9ZIsYko6pKSEluPRFu",
      "include_colab_link": true
    },
    "kernelspec": {
      "name": "python3",
      "display_name": "Python 3"
    },
    "language_info": {
      "name": "python"
    }
  },
  "cells": [
    {
      "cell_type": "markdown",
      "metadata": {
        "id": "view-in-github",
        "colab_type": "text"
      },
      "source": [
        "<a href=\"https://colab.research.google.com/github/v1nnyb0y/leetcode/blob/master/DynamicProgramming/24_CoinChange.ipynb\" target=\"_parent\"><img src=\"https://colab.research.google.com/assets/colab-badge.svg\" alt=\"Open In Colab\"/></a>"
      ]
    },
    {
      "cell_type": "code",
      "execution_count": null,
      "metadata": {
        "id": "AZBmqjIScF4c"
      },
      "outputs": [],
      "source": [
        "class Solution:\n",
        "    def coinChange(self, coins: List[int], amount: int) -> int:\n",
        "        if amount == 0:\n",
        "            return 0\n",
        "        dic = {}\n",
        "        for c in coins:\n",
        "            dic[c] = 1\n",
        "        for v in range(1,amount+1):\n",
        "            for s in coins:\n",
        "                diff = v - s\n",
        "                if v - s in dic:\n",
        "                    if v not in dic:\n",
        "                        dic[v] = dic[v-s] +1\n",
        "                    else:\n",
        "                        dic[v] = min(dic[v],dic[v-s]+1)\n",
        "        if amount not in dic:\n",
        "            return -1\n",
        "        else:\n",
        "            return dic[amount]"
      ]
    }
  ]
}