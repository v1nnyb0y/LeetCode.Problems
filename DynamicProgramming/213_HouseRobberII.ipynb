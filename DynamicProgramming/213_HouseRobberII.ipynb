{
  "nbformat": 4,
  "nbformat_minor": 0,
  "metadata": {
    "colab": {
      "name": "213.ipynb",
      "provenance": [],
      "authorship_tag": "ABX9TyOzkZvPBf6rZBqYaQHl0SaQ",
      "include_colab_link": true
    },
    "kernelspec": {
      "name": "python3",
      "display_name": "Python 3"
    },
    "language_info": {
      "name": "python"
    }
  },
  "cells": [
    {
      "cell_type": "markdown",
      "metadata": {
        "id": "view-in-github",
        "colab_type": "text"
      },
      "source": [
        "<a href=\"https://colab.research.google.com/github/v1nnyb0y/leetcode/blob/master/DynamicProgramming/213_HouseRobberII.ipynb\" target=\"_parent\"><img src=\"https://colab.research.google.com/assets/colab-badge.svg\" alt=\"Open In Colab\"/></a>"
      ]
    },
    {
      "cell_type": "code",
      "execution_count": null,
      "metadata": {
        "id": "XYF6wAaaxID1"
      },
      "outputs": [],
      "source": [
        "class Solution:\n",
        "    def rob(self, nums: List[int]) -> int:\n",
        "        def basicRob(arr):\n",
        "            arr = [0, 0] + arr\n",
        "            for i in range(2, len(arr)):\n",
        "                num = arr[i]\n",
        "                arr[i] = max(arr[i - 2] + num, arr[i - 1])\n",
        "            return max(arr[-2], arr[-1])\n",
        "        \n",
        "        n = len(nums)\n",
        "        if n<=1:\n",
        "            return sum(nums)\n",
        "        else:\n",
        "            return max(basicRob(nums[0:len(nums) - 1]), basicRob(nums[1:len(nums)]))"
      ]
    }
  ]
}