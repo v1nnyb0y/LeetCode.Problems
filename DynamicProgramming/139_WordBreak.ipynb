{
  "nbformat": 4,
  "nbformat_minor": 0,
  "metadata": {
    "colab": {
      "name": "139.ipynb",
      "provenance": [],
      "authorship_tag": "ABX9TyNhozRkP30qyhVy53Iz5R3H",
      "include_colab_link": true
    },
    "kernelspec": {
      "name": "python3",
      "display_name": "Python 3"
    },
    "language_info": {
      "name": "python"
    }
  },
  "cells": [
    {
      "cell_type": "markdown",
      "metadata": {
        "id": "view-in-github",
        "colab_type": "text"
      },
      "source": [
        "<a href=\"https://colab.research.google.com/github/v1nnyb0y/leetcode/blob/master/DynamicProgramming/139_WordBreak.ipynb\" target=\"_parent\"><img src=\"https://colab.research.google.com/assets/colab-badge.svg\" alt=\"Open In Colab\"/></a>"
      ]
    },
    {
      "cell_type": "code",
      "execution_count": 5,
      "metadata": {
        "colab": {
          "base_uri": "https://localhost:8080/"
        },
        "id": "uowHgigGHX9a",
        "outputId": "24af985e-5152-4efa-e951-ae91e07c4672"
      },
      "outputs": [
        {
          "output_type": "stream",
          "name": "stdout",
          "text": [
            "{'l': {'e': {'e': {'t': {'_end': '_end'}}}}, 'c': {'o': {'d': {'e': {'_end': '_end'}}}}}\n",
            "False\n"
          ]
        }
      ],
      "source": [
        "class Solution:\n",
        "    def wordBreak(self, s: str, wordDict: List[str]) -> bool:\n",
        "        starts = [0]\n",
        "        for i in range(len(s)):\n",
        "            for j in starts:\n",
        "                if s[j:i+1] in wordDict:\n",
        "                    starts.append(i+1)\n",
        "                    break\n",
        "        return starts[-1] == len(s)"
      ]
    }
  ]
}